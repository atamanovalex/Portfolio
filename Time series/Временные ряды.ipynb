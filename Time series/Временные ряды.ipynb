{
 "cells": [
  {
   "cell_type": "markdown",
   "metadata": {},
   "source": [
    "#  Прогнозирование заказов такси"
   ]
  },
  {
   "cell_type": "markdown",
   "metadata": {},
   "source": [
    "Агрегатор такси собрал исторические данные о заказах такси в аэропортах. Чтобы привлекать больше водителей в период пиковой нагрузки, нужно спрогнозировать количество заказов такси на следующий час.\n",
    "\n",
    "Необходимо:\n",
    "\n",
    "- Загрузить данные и выполнить их ресемплирование по одному часу.\n",
    "- Проанализировать данные.\n",
    "- Обучить разные модели с различными гиперпараметрами. Сделать тестовую выборку размером 10% от исходных данных.\n",
    "- Проверить данные на тестовой выборке и сделать выводы."
   ]
  },
  {
   "cell_type": "markdown",
   "metadata": {},
   "source": [
    "## Подготовка"
   ]
  },
  {
   "cell_type": "code",
   "execution_count": 1,
   "metadata": {},
   "outputs": [],
   "source": [
    "import pandas as pd\n",
    "from statsmodels.tsa.seasonal import seasonal_decompose\n",
    "import matplotlib.pyplot as plt\n",
    "from sklearn.model_selection import train_test_split\n",
    "from sklearn.linear_model import LinearRegression\n",
    "from sklearn.ensemble import RandomForestRegressor\n",
    "from sklearn.metrics import mean_squared_error\n",
    "from sklearn.model_selection import GridSearchCV\n",
    "from sklearn.model_selection import TimeSeriesSplit\n",
    "from sklearn.model_selection import cross_val_score\n",
    "import matplotlib.pyplot\n",
    "import warnings\n",
    "warnings.filterwarnings(\"ignore\")"
   ]
  },
  {
   "cell_type": "code",
   "execution_count": 2,
   "metadata": {},
   "outputs": [],
   "source": [
    "taxi = pd.read_csv('taxi.csv')"
   ]
  },
  {
   "cell_type": "code",
   "execution_count": 3,
   "metadata": {
    "scrolled": true
   },
   "outputs": [
    {
     "data": {
      "text/html": [
       "<div>\n",
       "<style scoped>\n",
       "    .dataframe tbody tr th:only-of-type {\n",
       "        vertical-align: middle;\n",
       "    }\n",
       "\n",
       "    .dataframe tbody tr th {\n",
       "        vertical-align: top;\n",
       "    }\n",
       "\n",
       "    .dataframe thead th {\n",
       "        text-align: right;\n",
       "    }\n",
       "</style>\n",
       "<table border=\"1\" class=\"dataframe\">\n",
       "  <thead>\n",
       "    <tr style=\"text-align: right;\">\n",
       "      <th></th>\n",
       "      <th>datetime</th>\n",
       "      <th>num_orders</th>\n",
       "    </tr>\n",
       "  </thead>\n",
       "  <tbody>\n",
       "    <tr>\n",
       "      <th>0</th>\n",
       "      <td>2018-03-01 00:00:00</td>\n",
       "      <td>9</td>\n",
       "    </tr>\n",
       "    <tr>\n",
       "      <th>1</th>\n",
       "      <td>2018-03-01 00:10:00</td>\n",
       "      <td>14</td>\n",
       "    </tr>\n",
       "    <tr>\n",
       "      <th>2</th>\n",
       "      <td>2018-03-01 00:20:00</td>\n",
       "      <td>28</td>\n",
       "    </tr>\n",
       "    <tr>\n",
       "      <th>3</th>\n",
       "      <td>2018-03-01 00:30:00</td>\n",
       "      <td>20</td>\n",
       "    </tr>\n",
       "    <tr>\n",
       "      <th>4</th>\n",
       "      <td>2018-03-01 00:40:00</td>\n",
       "      <td>32</td>\n",
       "    </tr>\n",
       "    <tr>\n",
       "      <th>...</th>\n",
       "      <td>...</td>\n",
       "      <td>...</td>\n",
       "    </tr>\n",
       "    <tr>\n",
       "      <th>26491</th>\n",
       "      <td>2018-08-31 23:10:00</td>\n",
       "      <td>32</td>\n",
       "    </tr>\n",
       "    <tr>\n",
       "      <th>26492</th>\n",
       "      <td>2018-08-31 23:20:00</td>\n",
       "      <td>24</td>\n",
       "    </tr>\n",
       "    <tr>\n",
       "      <th>26493</th>\n",
       "      <td>2018-08-31 23:30:00</td>\n",
       "      <td>27</td>\n",
       "    </tr>\n",
       "    <tr>\n",
       "      <th>26494</th>\n",
       "      <td>2018-08-31 23:40:00</td>\n",
       "      <td>39</td>\n",
       "    </tr>\n",
       "    <tr>\n",
       "      <th>26495</th>\n",
       "      <td>2018-08-31 23:50:00</td>\n",
       "      <td>53</td>\n",
       "    </tr>\n",
       "  </tbody>\n",
       "</table>\n",
       "<p>26496 rows × 2 columns</p>\n",
       "</div>"
      ],
      "text/plain": [
       "                  datetime  num_orders\n",
       "0      2018-03-01 00:00:00           9\n",
       "1      2018-03-01 00:10:00          14\n",
       "2      2018-03-01 00:20:00          28\n",
       "3      2018-03-01 00:30:00          20\n",
       "4      2018-03-01 00:40:00          32\n",
       "...                    ...         ...\n",
       "26491  2018-08-31 23:10:00          32\n",
       "26492  2018-08-31 23:20:00          24\n",
       "26493  2018-08-31 23:30:00          27\n",
       "26494  2018-08-31 23:40:00          39\n",
       "26495  2018-08-31 23:50:00          53\n",
       "\n",
       "[26496 rows x 2 columns]"
      ]
     },
     "execution_count": 3,
     "metadata": {},
     "output_type": "execute_result"
    }
   ],
   "source": [
    "taxi"
   ]
  },
  {
   "cell_type": "code",
   "execution_count": 4,
   "metadata": {
    "scrolled": true
   },
   "outputs": [
    {
     "name": "stdout",
     "output_type": "stream",
     "text": [
      "<class 'pandas.core.frame.DataFrame'>\n",
      "RangeIndex: 26496 entries, 0 to 26495\n",
      "Data columns (total 2 columns):\n",
      " #   Column      Non-Null Count  Dtype \n",
      "---  ------      --------------  ----- \n",
      " 0   datetime    26496 non-null  object\n",
      " 1   num_orders  26496 non-null  int64 \n",
      "dtypes: int64(1), object(1)\n",
      "memory usage: 414.1+ KB\n"
     ]
    }
   ],
   "source": [
    "taxi.info()"
   ]
  },
  {
   "cell_type": "code",
   "execution_count": 5,
   "metadata": {},
   "outputs": [],
   "source": [
    "taxi['datetime'] = pd.to_datetime(taxi['datetime'])"
   ]
  },
  {
   "cell_type": "code",
   "execution_count": 6,
   "metadata": {
    "scrolled": true
   },
   "outputs": [],
   "source": [
    "taxi = taxi.set_index('datetime')"
   ]
  },
  {
   "cell_type": "code",
   "execution_count": 7,
   "metadata": {},
   "outputs": [
    {
     "data": {
      "text/plain": [
       "True"
      ]
     },
     "execution_count": 7,
     "metadata": {},
     "output_type": "execute_result"
    }
   ],
   "source": [
    "taxi.index.is_monotonic"
   ]
  },
  {
   "cell_type": "markdown",
   "metadata": {},
   "source": [
    "## Анализ"
   ]
  },
  {
   "cell_type": "code",
   "execution_count": 8,
   "metadata": {},
   "outputs": [],
   "source": [
    "taxi = taxi.resample('1H').sum()"
   ]
  },
  {
   "cell_type": "code",
   "execution_count": 9,
   "metadata": {
    "scrolled": true
   },
   "outputs": [
    {
     "data": {
      "text/html": [
       "<div>\n",
       "<style scoped>\n",
       "    .dataframe tbody tr th:only-of-type {\n",
       "        vertical-align: middle;\n",
       "    }\n",
       "\n",
       "    .dataframe tbody tr th {\n",
       "        vertical-align: top;\n",
       "    }\n",
       "\n",
       "    .dataframe thead th {\n",
       "        text-align: right;\n",
       "    }\n",
       "</style>\n",
       "<table border=\"1\" class=\"dataframe\">\n",
       "  <thead>\n",
       "    <tr style=\"text-align: right;\">\n",
       "      <th></th>\n",
       "      <th>num_orders</th>\n",
       "    </tr>\n",
       "    <tr>\n",
       "      <th>datetime</th>\n",
       "      <th></th>\n",
       "    </tr>\n",
       "  </thead>\n",
       "  <tbody>\n",
       "    <tr>\n",
       "      <th>2018-03-01 00:00:00</th>\n",
       "      <td>124</td>\n",
       "    </tr>\n",
       "    <tr>\n",
       "      <th>2018-03-01 01:00:00</th>\n",
       "      <td>85</td>\n",
       "    </tr>\n",
       "    <tr>\n",
       "      <th>2018-03-01 02:00:00</th>\n",
       "      <td>71</td>\n",
       "    </tr>\n",
       "    <tr>\n",
       "      <th>2018-03-01 03:00:00</th>\n",
       "      <td>66</td>\n",
       "    </tr>\n",
       "    <tr>\n",
       "      <th>2018-03-01 04:00:00</th>\n",
       "      <td>43</td>\n",
       "    </tr>\n",
       "    <tr>\n",
       "      <th>...</th>\n",
       "      <td>...</td>\n",
       "    </tr>\n",
       "    <tr>\n",
       "      <th>2018-08-31 19:00:00</th>\n",
       "      <td>136</td>\n",
       "    </tr>\n",
       "    <tr>\n",
       "      <th>2018-08-31 20:00:00</th>\n",
       "      <td>154</td>\n",
       "    </tr>\n",
       "    <tr>\n",
       "      <th>2018-08-31 21:00:00</th>\n",
       "      <td>159</td>\n",
       "    </tr>\n",
       "    <tr>\n",
       "      <th>2018-08-31 22:00:00</th>\n",
       "      <td>223</td>\n",
       "    </tr>\n",
       "    <tr>\n",
       "      <th>2018-08-31 23:00:00</th>\n",
       "      <td>205</td>\n",
       "    </tr>\n",
       "  </tbody>\n",
       "</table>\n",
       "<p>4416 rows × 1 columns</p>\n",
       "</div>"
      ],
      "text/plain": [
       "                     num_orders\n",
       "datetime                       \n",
       "2018-03-01 00:00:00         124\n",
       "2018-03-01 01:00:00          85\n",
       "2018-03-01 02:00:00          71\n",
       "2018-03-01 03:00:00          66\n",
       "2018-03-01 04:00:00          43\n",
       "...                         ...\n",
       "2018-08-31 19:00:00         136\n",
       "2018-08-31 20:00:00         154\n",
       "2018-08-31 21:00:00         159\n",
       "2018-08-31 22:00:00         223\n",
       "2018-08-31 23:00:00         205\n",
       "\n",
       "[4416 rows x 1 columns]"
      ]
     },
     "execution_count": 9,
     "metadata": {},
     "output_type": "execute_result"
    }
   ],
   "source": [
    "taxi"
   ]
  },
  {
   "cell_type": "code",
   "execution_count": 10,
   "metadata": {},
   "outputs": [],
   "source": [
    "decomposed_taxi = seasonal_decompose(taxi)"
   ]
  },
  {
   "cell_type": "code",
   "execution_count": 11,
   "metadata": {
    "scrolled": true
   },
   "outputs": [
    {
     "data": {
      "text/plain": [
       "<AxesSubplot:xlabel='datetime'>"
      ]
     },
     "execution_count": 11,
     "metadata": {},
     "output_type": "execute_result"
    },
    {
     "data": {
      "image/png": "[encoded data removed]",
      "text/plain": [
       "<Figure size 432x288 with 1 Axes>"
      ]
     },
     "metadata": {
      "needs_background": "light"
     },
     "output_type": "display_data"
    }
   ],
   "source": [
    "decomposed_taxi.trend.plot(ax = plt.gca())"
   ]
  },
  {
   "cell_type": "markdown",
   "metadata": {},
   "source": [
    "Тренд - увеличение заказов к сентябрю."
   ]
  },
  {
   "cell_type": "code",
   "execution_count": 12,
   "metadata": {
    "scrolled": false
   },
   "outputs": [
    {
     "data": {
      "text/plain": [
       "<AxesSubplot:xlabel='datetime'>"
      ]
     },
     "execution_count": 12,
     "metadata": {},
     "output_type": "execute_result"
    },
    {
     "data": {
      "image/png": "[encoded data removed]",
      "text/plain": [
       "<Figure size 432x288 with 1 Axes>"
      ]
     },
     "metadata": {
      "needs_background": "light"
     },
     "output_type": "display_data"
    }
   ],
   "source": [
    "decomposed_taxi.seasonal.plot(ax = plt.gca())"
   ]
  },
  {
   "cell_type": "markdown",
   "metadata": {},
   "source": [
    "В масштабе всего датафрейма сезонность проследить не удается. Увеньшим датафрейм до размеров 5 дней"
   ]
  },
  {
   "cell_type": "code",
   "execution_count": 13,
   "metadata": {
    "scrolled": false
   },
   "outputs": [
    {
     "data": {
      "text/plain": [
       "<AxesSubplot:xlabel='datetime'>"
      ]
     },
     "execution_count": 13,
     "metadata": {},
     "output_type": "execute_result"
    },
    {
     "data": {
      "image/png": "[encoded data removed]",
      "text/plain": [
       "<Figure size 432x288 with 1 Axes>"
      ]
     },
     "metadata": {
      "needs_background": "light"
     },
     "output_type": "display_data"
    }
   ],
   "source": [
    "decomposed_taxi.seasonal.head(120).plot(ax = plt.gca())"
   ]
  },
  {
   "cell_type": "markdown",
   "metadata": {},
   "source": [
    "Количество заказов падает ночью и рано утром и поднимается днем и вечером."
   ]
  },
  {
   "cell_type": "code",
   "execution_count": 14,
   "metadata": {
    "scrolled": false
   },
   "outputs": [
    {
     "data": {
      "text/plain": [
       "<AxesSubplot:xlabel='datetime'>"
      ]
     },
     "execution_count": 14,
     "metadata": {},
     "output_type": "execute_result"
    },
    {
     "data": {
      "image/png": "[encoded data removed]",
      "text/plain": [
       "<Figure size 432x288 with 1 Axes>"
      ]
     },
     "metadata": {
      "needs_background": "light"
     },
     "output_type": "display_data"
    }
   ],
   "source": [
    "taxi['mean'] = taxi['num_orders'].rolling(50).mean()\n",
    "taxi['std'] = taxi['num_orders'].rolling(50).std()\n",
    "taxi['mean'].plot()\n",
    "taxi['std'].plot()"
   ]
  },
  {
   "cell_type": "markdown",
   "metadata": {},
   "source": [
    "## Обучение"
   ]
  },
  {
   "cell_type": "code",
   "execution_count": 15,
   "metadata": {},
   "outputs": [],
   "source": [
    "taxi = taxi.drop('std', axis = 1)\n",
    "taxi = taxi.drop('mean', axis = 1)"
   ]
  },
  {
   "cell_type": "code",
   "execution_count": 16,
   "metadata": {},
   "outputs": [],
   "source": [
    "def make_features(data, max_lag, rolling_mean_size):\n",
    "    data_new = data.copy()\n",
    "    data_new['year'] = data_new.index.year\n",
    "    data_new['month'] = data_new.index.month\n",
    "    data_new['day'] = data_new.index.day\n",
    "    data_new['dayofweek'] = data_new.index.dayofweek\n",
    "    \n",
    "    for lag in range(1, max_lag + 1):\n",
    "        data_new['lag_{}'.format(lag)] = data_new['num_orders'].shift(lag)\n",
    "    data_new['rolling_mean'] = data_new['num_orders'].shift().rolling(rolling_mean_size).mean()\n",
    "    train, test = train_test_split(data_new, test_size = 0.1, shuffle = False)\n",
    "    return(train, test)"
   ]
  },
  {
   "cell_type": "markdown",
   "metadata": {},
   "source": [
    "Обучим линейную регрессию и подберем лучшее значение \"отстающих\" значений и скользящего среднего."
   ]
  },
  {
   "cell_type": "code",
   "execution_count": 17,
   "metadata": {
    "scrolled": true
   },
   "outputs": [
    {
     "name": "stdout",
     "output_type": "stream",
     "text": [
      "Лучший результат RMSE на кросс-валидации:  24.888615078278132\n",
      "Лучшее значение \"отстающих\" значений и скользящего среднего на тренировочной выборке:  96\n"
     ]
    }
   ],
   "source": [
    "best_result_cv = 1000000\n",
    "for i in range(1, 106, 5):\n",
    "    train, test = make_features(taxi, i, i)\n",
    "    train = train.dropna()\n",
    "    features_train = train.drop(['num_orders'], axis = 1)\n",
    "    target_train = train['num_orders']\n",
    "    features_test = test.drop(['num_orders'], axis = 1)\n",
    "    target_test = test['num_orders']\n",
    "    model = LinearRegression()\n",
    "    model.fit(features_train, target_train)\n",
    "    my_cv = TimeSeriesSplit(n_splits = 3)\n",
    "    cv_score = cross_val_score(model, features_train, target_train, cv = my_cv, scoring = 'neg_mean_squared_error')\n",
    "    cv_score_final = sum(cv_score) / len(cv_score)\n",
    "    result_cv = abs(cv_score_final) ** 0.5\n",
    "    if result_cv < best_result_cv:\n",
    "        best_result_cv = result_cv\n",
    "        best_parameters_cv = i\n",
    "print('Лучший результат RMSE на кросс-валидации: ', best_result_cv)\n",
    "print('Лучшее значение \"отстающих\" значений и скользящего среднего на тренировочной выборке: ', best_parameters_cv)"
   ]
  },
  {
   "cell_type": "markdown",
   "metadata": {},
   "source": [
    "Лучшее значение RMSE достигается на максимальных значениях \"отстающих\" значений и скользящего среднего = 96. Оставим эти значения, найдем значение rmse на тесовой выборке и обучим \"Случайный лес\"."
   ]
  },
  {
   "cell_type": "code",
   "execution_count": 18,
   "metadata": {},
   "outputs": [
    {
     "data": {
      "text/plain": [
       "41.595545550249355"
      ]
     },
     "execution_count": 18,
     "metadata": {},
     "output_type": "execute_result"
    }
   ],
   "source": [
    "train, test = make_features(taxi, 96, 96)\n",
    "train = train.dropna()\n",
    "features_train = train.drop(['num_orders'], axis = 1)\n",
    "target_train = train['num_orders']\n",
    "features_test = test.drop(['num_orders'], axis = 1)\n",
    "target_test = test['num_orders']\n",
    "model.fit(features_train, target_train)\n",
    "predictions_test = model.predict(features_test)\n",
    "best_result_test = mean_squared_error(predictions_test, target_test) ** 0.5\n",
    "best_result_test"
   ]
  },
  {
   "cell_type": "code",
   "execution_count": 19,
   "metadata": {},
   "outputs": [],
   "source": [
    "params = {\n",
    "    'n_estimators' : [70, 100],\n",
    "    'max_depth' : [1, 5, 20]\n",
    "}"
   ]
  },
  {
   "cell_type": "code",
   "execution_count": 20,
   "metadata": {},
   "outputs": [],
   "source": [
    "grid = GridSearchCV(RandomForestRegressor(random_state = 12345), params, scoring='neg_mean_squared_error', cv=3)\n",
    "RandomForestRegressor_best_result = grid.fit(features_train, target_train)"
   ]
  },
  {
   "cell_type": "code",
   "execution_count": 21,
   "metadata": {},
   "outputs": [
    {
     "data": {
      "text/plain": [
       "RandomForestRegressor(max_depth=20, n_estimators=70, random_state=12345)"
      ]
     },
     "execution_count": 21,
     "metadata": {},
     "output_type": "execute_result"
    }
   ],
   "source": [
    "RandomForestRegressor_best_result = grid.best_estimator_\n",
    "RandomForestRegressor_best_result"
   ]
  },
  {
   "cell_type": "code",
   "execution_count": 22,
   "metadata": {},
   "outputs": [],
   "source": [
    "predictions_RandomForestRegressor = RandomForestRegressor_best_result.predict(features_test)"
   ]
  },
  {
   "cell_type": "code",
   "execution_count": 23,
   "metadata": {},
   "outputs": [
    {
     "name": "stdout",
     "output_type": "stream",
     "text": [
      "Результат RMSE на тестовой выборке:  40.285953566860286\n"
     ]
    }
   ],
   "source": [
    "rmse_test_RandomForestRegressor = mean_squared_error(target_test, predictions_RandomForestRegressor) ** 0.5\n",
    "print('Результат RMSE на тестовой выборке: ', rmse_test_RandomForestRegressor)"
   ]
  },
  {
   "cell_type": "markdown",
   "metadata": {},
   "source": [
    "## Выводы"
   ]
  },
  {
   "cell_type": "code",
   "execution_count": 24,
   "metadata": {},
   "outputs": [],
   "source": [
    "result = pd.DataFrame({'Линейная регрессия' : [best_result_test],\n",
    "                      'Случайный лес' : [rmse_test_RandomForestRegressor],\n",
    "                      'Метрика' : 'rmse'})\n",
    "result = result.set_index('Метрика')"
   ]
  },
  {
   "cell_type": "code",
   "execution_count": 25,
   "metadata": {
    "scrolled": true
   },
   "outputs": [
    {
     "data": {
      "text/html": [
       "<div>\n",
       "<style scoped>\n",
       "    .dataframe tbody tr th:only-of-type {\n",
       "        vertical-align: middle;\n",
       "    }\n",
       "\n",
       "    .dataframe tbody tr th {\n",
       "        vertical-align: top;\n",
       "    }\n",
       "\n",
       "    .dataframe thead th {\n",
       "        text-align: right;\n",
       "    }\n",
       "</style>\n",
       "<table border=\"1\" class=\"dataframe\">\n",
       "  <thead>\n",
       "    <tr style=\"text-align: right;\">\n",
       "      <th></th>\n",
       "      <th>Линейная регрессия</th>\n",
       "      <th>Случайный лес</th>\n",
       "    </tr>\n",
       "    <tr>\n",
       "      <th>Метрика</th>\n",
       "      <th></th>\n",
       "      <th></th>\n",
       "    </tr>\n",
       "  </thead>\n",
       "  <tbody>\n",
       "    <tr>\n",
       "      <th>rmse</th>\n",
       "      <td>41.595546</td>\n",
       "      <td>40.285954</td>\n",
       "    </tr>\n",
       "  </tbody>\n",
       "</table>\n",
       "</div>"
      ],
      "text/plain": [
       "         Линейная регрессия  Случайный лес\n",
       "Метрика                                   \n",
       "rmse              41.595546      40.285954"
      ]
     },
     "execution_count": 25,
     "metadata": {},
     "output_type": "execute_result"
    }
   ],
   "source": [
    "result"
   ]
  },
  {
   "cell_type": "code",
   "execution_count": 26,
   "metadata": {
    "scrolled": false
   },
   "outputs": [
    {
     "data": {
      "text/html": [
       "<div>\n",
       "<style scoped>\n",
       "    .dataframe tbody tr th:only-of-type {\n",
       "        vertical-align: middle;\n",
       "    }\n",
       "\n",
       "    .dataframe tbody tr th {\n",
       "        vertical-align: top;\n",
       "    }\n",
       "\n",
       "    .dataframe thead th {\n",
       "        text-align: right;\n",
       "    }\n",
       "</style>\n",
       "<table border=\"1\" class=\"dataframe\">\n",
       "  <thead>\n",
       "    <tr style=\"text-align: right;\">\n",
       "      <th></th>\n",
       "      <th>num_orders</th>\n",
       "      <th>predictions_test_linear_reg</th>\n",
       "      <th>predictions_test_random_forest</th>\n",
       "    </tr>\n",
       "    <tr>\n",
       "      <th>datetime</th>\n",
       "      <th></th>\n",
       "      <th></th>\n",
       "      <th></th>\n",
       "    </tr>\n",
       "  </thead>\n",
       "  <tbody>\n",
       "    <tr>\n",
       "      <th>2018-08-13 14:00:00</th>\n",
       "      <td>102</td>\n",
       "      <td>122</td>\n",
       "      <td>96</td>\n",
       "    </tr>\n",
       "    <tr>\n",
       "      <th>2018-08-13 15:00:00</th>\n",
       "      <td>175</td>\n",
       "      <td>131</td>\n",
       "      <td>126</td>\n",
       "    </tr>\n",
       "    <tr>\n",
       "      <th>2018-08-13 16:00:00</th>\n",
       "      <td>144</td>\n",
       "      <td>158</td>\n",
       "      <td>159</td>\n",
       "    </tr>\n",
       "    <tr>\n",
       "      <th>2018-08-13 17:00:00</th>\n",
       "      <td>152</td>\n",
       "      <td>125</td>\n",
       "      <td>142</td>\n",
       "    </tr>\n",
       "    <tr>\n",
       "      <th>2018-08-13 18:00:00</th>\n",
       "      <td>104</td>\n",
       "      <td>101</td>\n",
       "      <td>105</td>\n",
       "    </tr>\n",
       "    <tr>\n",
       "      <th>...</th>\n",
       "      <td>...</td>\n",
       "      <td>...</td>\n",
       "      <td>...</td>\n",
       "    </tr>\n",
       "    <tr>\n",
       "      <th>2018-08-31 19:00:00</th>\n",
       "      <td>136</td>\n",
       "      <td>110</td>\n",
       "      <td>171</td>\n",
       "    </tr>\n",
       "    <tr>\n",
       "      <th>2018-08-31 20:00:00</th>\n",
       "      <td>154</td>\n",
       "      <td>132</td>\n",
       "      <td>148</td>\n",
       "    </tr>\n",
       "    <tr>\n",
       "      <th>2018-08-31 21:00:00</th>\n",
       "      <td>159</td>\n",
       "      <td>167</td>\n",
       "      <td>164</td>\n",
       "    </tr>\n",
       "    <tr>\n",
       "      <th>2018-08-31 22:00:00</th>\n",
       "      <td>223</td>\n",
       "      <td>162</td>\n",
       "      <td>168</td>\n",
       "    </tr>\n",
       "    <tr>\n",
       "      <th>2018-08-31 23:00:00</th>\n",
       "      <td>205</td>\n",
       "      <td>184</td>\n",
       "      <td>184</td>\n",
       "    </tr>\n",
       "  </tbody>\n",
       "</table>\n",
       "<p>442 rows × 3 columns</p>\n",
       "</div>"
      ],
      "text/plain": [
       "                     num_orders  predictions_test_linear_reg  \\\n",
       "datetime                                                       \n",
       "2018-08-13 14:00:00         102                          122   \n",
       "2018-08-13 15:00:00         175                          131   \n",
       "2018-08-13 16:00:00         144                          158   \n",
       "2018-08-13 17:00:00         152                          125   \n",
       "2018-08-13 18:00:00         104                          101   \n",
       "...                         ...                          ...   \n",
       "2018-08-31 19:00:00         136                          110   \n",
       "2018-08-31 20:00:00         154                          132   \n",
       "2018-08-31 21:00:00         159                          167   \n",
       "2018-08-31 22:00:00         223                          162   \n",
       "2018-08-31 23:00:00         205                          184   \n",
       "\n",
       "                     predictions_test_random_forest  \n",
       "datetime                                             \n",
       "2018-08-13 14:00:00                              96  \n",
       "2018-08-13 15:00:00                             126  \n",
       "2018-08-13 16:00:00                             159  \n",
       "2018-08-13 17:00:00                             142  \n",
       "2018-08-13 18:00:00                             105  \n",
       "...                                             ...  \n",
       "2018-08-31 19:00:00                             171  \n",
       "2018-08-31 20:00:00                             148  \n",
       "2018-08-31 21:00:00                             164  \n",
       "2018-08-31 22:00:00                             168  \n",
       "2018-08-31 23:00:00                             184  \n",
       "\n",
       "[442 rows x 3 columns]"
      ]
     },
     "execution_count": 26,
     "metadata": {},
     "output_type": "execute_result"
    }
   ],
   "source": [
    "test_results = test.copy()\n",
    "test_results = test_results.drop(test_results[list(test_results.columns[1:])], axis = 1)\n",
    "test_results['predictions_test_linear_reg'] = predictions_test.round().astype(int)\n",
    "test_results['predictions_test_random_forest'] = predictions_RandomForestRegressor.round().astype(int)\n",
    "test_results"
   ]
  },
  {
   "cell_type": "code",
   "execution_count": 27,
   "metadata": {
    "scrolled": true
   },
   "outputs": [
    {
     "data": {
      "text/plain": [
       "<AxesSubplot:xlabel='datetime'>"
      ]
     },
     "execution_count": 27,
     "metadata": {},
     "output_type": "execute_result"
    },
    {
     "data": {
      "image/png": "[encoded data removed]",
      "text/plain": [
       "<Figure size 1080x576 with 1 Axes>"
      ]
     },
     "metadata": {
      "needs_background": "light"
     },
     "output_type": "display_data"
    }
   ],
   "source": [
    "test_results[['num_orders', 'predictions_test_linear_reg']].plot(figsize = (15, 8))"
   ]
  },
  {
   "cell_type": "code",
   "execution_count": 28,
   "metadata": {},
   "outputs": [
    {
     "data": {
      "text/plain": [
       "<AxesSubplot:xlabel='datetime'>"
      ]
     },
     "execution_count": 28,
     "metadata": {},
     "output_type": "execute_result"
    },
    {
     "data": {
      "image/png": "[encoded data removed]",
      "text/plain": [
       "<Figure size 1080x576 with 1 Axes>"
      ]
     },
     "metadata": {
      "needs_background": "light"
     },
     "output_type": "display_data"
    }
   ],
   "source": [
    "test_results[['num_orders', 'predictions_test_random_forest']].plot(figsize = (15, 8))"
   ]
  },
  {
   "cell_type": "markdown",
   "metadata": {},
   "source": [
    "Лучшее значение rmse достигатся на значениях \"отстающих\" значений и скользящего среднего = 96. При этих параметрах лучшее значение RMSE достигается на модели \"Случайный лес\" - 40.285954. На графике результатов видно, что модели хорошо предсказывают время наступления пиковых значений, однако при сильных пиках реальных данных модели дают более усредненный ответ, чем ожидается."
   ]
  },
  {
   "cell_type": "markdown",
   "metadata": {},
   "source": [
    "## Чек-лист проверки"
   ]
  },
  {
   "cell_type": "markdown",
   "metadata": {},
   "source": [
    "- [x]  Jupyter Notebook открыт\n",
    "- [ ]  Весь код выполняется без ошибок\n",
    "- [ ]  Ячейки с кодом расположены в порядке исполнения\n",
    "- [ ]  Данные загружены и подготовлены\n",
    "- [ ]  Данные проанализированы\n",
    "- [ ]  Модель обучена, гиперпараметры подобраны\n",
    "- [ ]  Качество моделей проверено, выводы сделаны\n",
    "- [ ]  Значение *RMSE* на тестовой выборке не больше 48"
   ]
  }
 ],
 "metadata": {
  "ExecuteTimeLog": [
   {
    "duration": 772,
    "start_time": "2022-01-24T15:39:53.905Z"
   },
   {
    "duration": 2157,
    "start_time": "2022-01-24T15:41:45.585Z"
   },
   {
    "duration": 2162,
    "start_time": "2022-01-24T15:42:16.534Z"
   },
   {
    "duration": 50,
    "start_time": "2022-01-24T15:44:55.962Z"
   },
   {
    "duration": 25,
    "start_time": "2022-01-24T15:45:02.766Z"
   },
   {
    "duration": 14,
    "start_time": "2022-01-24T15:48:56.385Z"
   },
   {
    "duration": 14,
    "start_time": "2022-01-24T15:49:30.227Z"
   },
   {
    "duration": 9,
    "start_time": "2022-01-24T15:49:39.766Z"
   },
   {
    "duration": 13,
    "start_time": "2022-01-24T15:49:59.809Z"
   },
   {
    "duration": 6,
    "start_time": "2022-01-24T15:59:01.285Z"
   },
   {
    "duration": 12,
    "start_time": "2022-01-24T15:59:06.428Z"
   },
   {
    "duration": 281,
    "start_time": "2022-01-24T15:59:16.280Z"
   },
   {
    "duration": 292,
    "start_time": "2022-01-24T15:59:20.815Z"
   },
   {
    "duration": 302,
    "start_time": "2022-01-24T15:59:27.858Z"
   },
   {
    "duration": 6,
    "start_time": "2022-01-24T15:59:36.793Z"
   },
   {
    "duration": 1005,
    "start_time": "2022-01-24T16:00:28.280Z"
   },
   {
    "duration": 8,
    "start_time": "2022-01-24T16:02:27.052Z"
   },
   {
    "duration": 17,
    "start_time": "2022-01-24T16:02:38.842Z"
   },
   {
    "duration": 6,
    "start_time": "2022-01-24T16:02:47.909Z"
   },
   {
    "duration": 6,
    "start_time": "2022-01-24T16:02:48.436Z"
   },
   {
    "duration": 5,
    "start_time": "2022-01-24T16:02:59.403Z"
   },
   {
    "duration": 54,
    "start_time": "2022-01-24T16:02:59.412Z"
   },
   {
    "duration": 17,
    "start_time": "2022-01-24T16:02:59.471Z"
   },
   {
    "duration": 12,
    "start_time": "2022-01-24T16:02:59.492Z"
   },
   {
    "duration": 47,
    "start_time": "2022-01-24T16:02:59.507Z"
   },
   {
    "duration": 6,
    "start_time": "2022-01-24T16:02:59.557Z"
   },
   {
    "duration": 10,
    "start_time": "2022-01-24T16:02:59.566Z"
   },
   {
    "duration": 8,
    "start_time": "2022-01-24T16:02:59.580Z"
   },
   {
    "duration": 46,
    "start_time": "2022-01-24T16:02:59.590Z"
   },
   {
    "duration": 4,
    "start_time": "2022-01-24T16:03:13.132Z"
   },
   {
    "duration": 48,
    "start_time": "2022-01-24T16:03:13.139Z"
   },
   {
    "duration": 17,
    "start_time": "2022-01-24T16:03:13.191Z"
   },
   {
    "duration": 30,
    "start_time": "2022-01-24T16:03:13.212Z"
   },
   {
    "duration": 20,
    "start_time": "2022-01-24T16:03:13.246Z"
   },
   {
    "duration": 7,
    "start_time": "2022-01-24T16:03:13.269Z"
   },
   {
    "duration": 7,
    "start_time": "2022-01-24T16:03:13.279Z"
   },
   {
    "duration": 50,
    "start_time": "2022-01-24T16:03:13.289Z"
   },
   {
    "duration": 7,
    "start_time": "2022-01-24T16:03:13.343Z"
   },
   {
    "duration": 12,
    "start_time": "2022-01-24T16:03:13.352Z"
   },
   {
    "duration": 4,
    "start_time": "2022-01-24T16:04:06.727Z"
   },
   {
    "duration": 40,
    "start_time": "2022-01-24T16:04:06.734Z"
   },
   {
    "duration": 13,
    "start_time": "2022-01-24T16:04:06.777Z"
   },
   {
    "duration": 11,
    "start_time": "2022-01-24T16:04:06.793Z"
   },
   {
    "duration": 36,
    "start_time": "2022-01-24T16:04:06.807Z"
   },
   {
    "duration": 6,
    "start_time": "2022-01-24T16:04:06.845Z"
   },
   {
    "duration": 9,
    "start_time": "2022-01-24T16:04:06.853Z"
   },
   {
    "duration": 12,
    "start_time": "2022-01-24T16:04:06.865Z"
   },
   {
    "duration": 57,
    "start_time": "2022-01-24T16:04:06.879Z"
   },
   {
    "duration": 11,
    "start_time": "2022-01-24T16:04:06.939Z"
   },
   {
    "duration": 537,
    "start_time": "2022-01-24T16:04:32.221Z"
   },
   {
    "duration": 9,
    "start_time": "2022-01-24T16:06:07.378Z"
   },
   {
    "duration": 8,
    "start_time": "2022-01-24T16:06:20.806Z"
   },
   {
    "duration": 21,
    "start_time": "2022-01-24T16:06:27.613Z"
   },
   {
    "duration": 461,
    "start_time": "2022-01-24T16:07:55.318Z"
   },
   {
    "duration": 523,
    "start_time": "2022-01-24T16:08:35.369Z"
   },
   {
    "duration": 318,
    "start_time": "2022-01-24T16:09:45.743Z"
   },
   {
    "duration": 11,
    "start_time": "2022-01-24T16:10:05.000Z"
   },
   {
    "duration": 8,
    "start_time": "2022-01-24T16:10:38.249Z"
   },
   {
    "duration": 512,
    "start_time": "2022-01-24T16:10:43.836Z"
   },
   {
    "duration": 612,
    "start_time": "2022-01-24T16:11:06.532Z"
   },
   {
    "duration": 282,
    "start_time": "2022-01-24T16:11:41.315Z"
   },
   {
    "duration": 4,
    "start_time": "2022-01-24T16:11:56.457Z"
   },
   {
    "duration": 439,
    "start_time": "2022-01-24T16:12:00.347Z"
   },
   {
    "duration": 532,
    "start_time": "2022-01-24T16:12:03.123Z"
   },
   {
    "duration": 4,
    "start_time": "2022-01-24T16:12:07.433Z"
   },
   {
    "duration": 41,
    "start_time": "2022-01-24T16:12:07.440Z"
   },
   {
    "duration": 12,
    "start_time": "2022-01-24T16:12:07.484Z"
   },
   {
    "duration": 10,
    "start_time": "2022-01-24T16:12:07.499Z"
   },
   {
    "duration": 13,
    "start_time": "2022-01-24T16:12:07.532Z"
   },
   {
    "duration": 5,
    "start_time": "2022-01-24T16:12:07.547Z"
   },
   {
    "duration": 12,
    "start_time": "2022-01-24T16:12:07.554Z"
   },
   {
    "duration": 17,
    "start_time": "2022-01-24T16:12:07.569Z"
   },
   {
    "duration": 11,
    "start_time": "2022-01-24T16:12:07.588Z"
   },
   {
    "duration": 34,
    "start_time": "2022-01-24T16:12:07.601Z"
   },
   {
    "duration": 14,
    "start_time": "2022-01-24T16:12:07.638Z"
   },
   {
    "duration": 9,
    "start_time": "2022-01-24T16:12:07.654Z"
   },
   {
    "duration": 466,
    "start_time": "2022-01-24T16:12:07.666Z"
   },
   {
    "duration": 477,
    "start_time": "2022-01-24T16:12:08.135Z"
   },
   {
    "duration": 318,
    "start_time": "2022-01-24T16:12:51.390Z"
   },
   {
    "duration": 545,
    "start_time": "2022-01-24T16:13:07.828Z"
   },
   {
    "duration": 4,
    "start_time": "2022-01-24T16:30:06.429Z"
   },
   {
    "duration": 51,
    "start_time": "2022-01-24T16:30:06.437Z"
   },
   {
    "duration": 13,
    "start_time": "2022-01-24T16:30:06.491Z"
   },
   {
    "duration": 28,
    "start_time": "2022-01-24T16:30:06.509Z"
   },
   {
    "duration": 32,
    "start_time": "2022-01-24T16:30:06.540Z"
   },
   {
    "duration": 4,
    "start_time": "2022-01-24T16:30:06.575Z"
   },
   {
    "duration": 32,
    "start_time": "2022-01-24T16:30:06.581Z"
   },
   {
    "duration": 21,
    "start_time": "2022-01-24T16:30:06.615Z"
   },
   {
    "duration": 28,
    "start_time": "2022-01-24T16:30:06.639Z"
   },
   {
    "duration": 18,
    "start_time": "2022-01-24T16:30:06.669Z"
   },
   {
    "duration": 29,
    "start_time": "2022-01-24T16:30:06.689Z"
   },
   {
    "duration": 475,
    "start_time": "2022-01-24T16:30:06.720Z"
   },
   {
    "duration": 531,
    "start_time": "2022-01-24T16:30:07.197Z"
   },
   {
    "duration": 538,
    "start_time": "2022-01-24T16:30:07.733Z"
   },
   {
    "duration": 9,
    "start_time": "2022-01-24T16:30:08.273Z"
   },
   {
    "duration": 266,
    "start_time": "2022-01-24T16:38:46.353Z"
   },
   {
    "duration": 282,
    "start_time": "2022-01-24T16:39:03.912Z"
   },
   {
    "duration": 6697,
    "start_time": "2022-01-24T16:39:20.358Z"
   },
   {
    "duration": 557,
    "start_time": "2022-01-24T16:39:59.045Z"
   },
   {
    "duration": 558,
    "start_time": "2022-01-24T16:40:23.904Z"
   },
   {
    "duration": 468,
    "start_time": "2022-01-24T16:40:43.402Z"
   },
   {
    "duration": 485,
    "start_time": "2022-01-24T16:40:53.525Z"
   },
   {
    "duration": 465,
    "start_time": "2022-01-24T16:45:28.537Z"
   },
   {
    "duration": 426,
    "start_time": "2022-01-24T16:46:18.146Z"
   },
   {
    "duration": 565,
    "start_time": "2022-01-24T16:46:23.657Z"
   },
   {
    "duration": 554,
    "start_time": "2022-01-24T16:46:44.455Z"
   },
   {
    "duration": 514,
    "start_time": "2022-01-24T16:48:44.159Z"
   },
   {
    "duration": 476,
    "start_time": "2022-01-24T16:49:05.525Z"
   },
   {
    "duration": 509,
    "start_time": "2022-01-24T16:50:31.457Z"
   },
   {
    "duration": 480,
    "start_time": "2022-01-24T16:50:37.177Z"
   },
   {
    "duration": 481,
    "start_time": "2022-01-24T16:50:43.781Z"
   },
   {
    "duration": 640,
    "start_time": "2022-01-24T17:06:57.357Z"
   },
   {
    "duration": 517,
    "start_time": "2022-01-24T17:07:06.036Z"
   },
   {
    "duration": 503,
    "start_time": "2022-01-24T17:07:13.158Z"
   },
   {
    "duration": 494,
    "start_time": "2022-01-24T17:08:00.002Z"
   },
   {
    "duration": 567,
    "start_time": "2022-01-24T17:08:21.066Z"
   },
   {
    "duration": 498,
    "start_time": "2022-01-24T17:08:28.193Z"
   },
   {
    "duration": 4,
    "start_time": "2022-01-24T17:14:11.638Z"
   },
   {
    "duration": 55,
    "start_time": "2022-01-24T17:14:11.645Z"
   },
   {
    "duration": 13,
    "start_time": "2022-01-24T17:14:11.704Z"
   },
   {
    "duration": 17,
    "start_time": "2022-01-24T17:14:11.721Z"
   },
   {
    "duration": 13,
    "start_time": "2022-01-24T17:14:11.741Z"
   },
   {
    "duration": 9,
    "start_time": "2022-01-24T17:14:11.757Z"
   },
   {
    "duration": 7,
    "start_time": "2022-01-24T17:14:11.769Z"
   },
   {
    "duration": 16,
    "start_time": "2022-01-24T17:14:11.781Z"
   },
   {
    "duration": 17,
    "start_time": "2022-01-24T17:14:11.834Z"
   },
   {
    "duration": 18,
    "start_time": "2022-01-24T17:14:11.854Z"
   },
   {
    "duration": 9,
    "start_time": "2022-01-24T17:14:11.875Z"
   },
   {
    "duration": 818,
    "start_time": "2022-01-24T17:14:11.886Z"
   },
   {
    "duration": 546,
    "start_time": "2022-01-24T17:14:12.707Z"
   },
   {
    "duration": 1016,
    "start_time": "2022-01-24T17:14:13.256Z"
   },
   {
    "duration": 648,
    "start_time": "2022-01-24T17:14:14.276Z"
   },
   {
    "duration": 501,
    "start_time": "2022-01-24T17:14:14.931Z"
   },
   {
    "duration": 1375,
    "start_time": "2022-01-24T20:48:39.891Z"
   },
   {
    "duration": 87,
    "start_time": "2022-01-24T20:48:41.269Z"
   },
   {
    "duration": 17,
    "start_time": "2022-01-24T20:48:41.359Z"
   },
   {
    "duration": 11,
    "start_time": "2022-01-24T20:48:41.379Z"
   },
   {
    "duration": 14,
    "start_time": "2022-01-24T20:48:41.394Z"
   },
   {
    "duration": 10,
    "start_time": "2022-01-24T20:48:41.410Z"
   },
   {
    "duration": 43,
    "start_time": "2022-01-24T20:48:41.423Z"
   },
   {
    "duration": 18,
    "start_time": "2022-01-24T20:48:41.471Z"
   },
   {
    "duration": 12,
    "start_time": "2022-01-24T20:48:41.492Z"
   },
   {
    "duration": 12,
    "start_time": "2022-01-24T20:48:41.508Z"
   },
   {
    "duration": 47,
    "start_time": "2022-01-24T20:48:41.522Z"
   },
   {
    "duration": 475,
    "start_time": "2022-01-24T20:48:41.572Z"
   },
   {
    "duration": 530,
    "start_time": "2022-01-24T20:48:42.050Z"
   },
   {
    "duration": 514,
    "start_time": "2022-01-24T20:48:42.583Z"
   },
   {
    "duration": 680,
    "start_time": "2022-01-24T20:48:43.099Z"
   },
   {
    "duration": 524,
    "start_time": "2022-01-24T20:48:43.781Z"
   },
   {
    "duration": 15,
    "start_time": "2022-01-24T20:48:44.308Z"
   },
   {
    "duration": 18,
    "start_time": "2022-01-24T20:53:12.007Z"
   },
   {
    "duration": 437,
    "start_time": "2022-01-24T20:54:34.106Z"
   },
   {
    "duration": 416,
    "start_time": "2022-01-24T20:54:39.168Z"
   },
   {
    "duration": 79,
    "start_time": "2022-01-24T20:55:06.180Z"
   },
   {
    "duration": 9,
    "start_time": "2022-01-24T20:55:11.065Z"
   },
   {
    "duration": 13,
    "start_time": "2022-01-24T20:57:19.778Z"
   },
   {
    "duration": 5,
    "start_time": "2022-01-24T20:57:27.418Z"
   },
   {
    "duration": 64,
    "start_time": "2022-01-24T20:57:27.425Z"
   },
   {
    "duration": 14,
    "start_time": "2022-01-24T20:57:27.492Z"
   },
   {
    "duration": 26,
    "start_time": "2022-01-24T20:57:27.509Z"
   },
   {
    "duration": 28,
    "start_time": "2022-01-24T20:57:27.537Z"
   },
   {
    "duration": 6,
    "start_time": "2022-01-24T20:57:27.567Z"
   },
   {
    "duration": 25,
    "start_time": "2022-01-24T20:57:27.576Z"
   },
   {
    "duration": 20,
    "start_time": "2022-01-24T20:57:27.603Z"
   },
   {
    "duration": 18,
    "start_time": "2022-01-24T20:57:27.627Z"
   },
   {
    "duration": 20,
    "start_time": "2022-01-24T20:57:27.647Z"
   },
   {
    "duration": 25,
    "start_time": "2022-01-24T20:57:27.670Z"
   },
   {
    "duration": 474,
    "start_time": "2022-01-24T20:57:27.697Z"
   },
   {
    "duration": 540,
    "start_time": "2022-01-24T20:57:28.175Z"
   },
   {
    "duration": 504,
    "start_time": "2022-01-24T20:57:28.718Z"
   },
   {
    "duration": 510,
    "start_time": "2022-01-24T20:57:29.225Z"
   },
   {
    "duration": 610,
    "start_time": "2022-01-24T20:57:29.738Z"
   },
   {
    "duration": 19,
    "start_time": "2022-01-24T20:57:30.352Z"
   },
   {
    "duration": 12,
    "start_time": "2022-01-24T20:57:43.500Z"
   },
   {
    "duration": 12,
    "start_time": "2022-01-24T20:57:50.196Z"
   },
   {
    "duration": 12,
    "start_time": "2022-01-24T21:01:18.819Z"
   },
   {
    "duration": 6366,
    "start_time": "2022-01-24T21:04:15.037Z"
   },
   {
    "duration": 266,
    "start_time": "2022-01-24T21:04:43.313Z"
   },
   {
    "duration": 24,
    "start_time": "2022-01-24T21:05:02.637Z"
   },
   {
    "duration": 29,
    "start_time": "2022-01-24T21:05:12.754Z"
   },
   {
    "duration": 5,
    "start_time": "2022-01-24T21:06:40.410Z"
   },
   {
    "duration": 25,
    "start_time": "2022-01-24T21:06:47.123Z"
   },
   {
    "duration": 6,
    "start_time": "2022-01-24T21:07:36.384Z"
   },
   {
    "duration": 25,
    "start_time": "2022-01-24T21:07:36.972Z"
   },
   {
    "duration": 5,
    "start_time": "2022-01-24T21:07:59.536Z"
   },
   {
    "duration": 48,
    "start_time": "2022-01-24T21:07:59.543Z"
   },
   {
    "duration": 12,
    "start_time": "2022-01-24T21:07:59.594Z"
   },
   {
    "duration": 14,
    "start_time": "2022-01-24T21:07:59.609Z"
   },
   {
    "duration": 12,
    "start_time": "2022-01-24T21:07:59.625Z"
   },
   {
    "duration": 5,
    "start_time": "2022-01-24T21:07:59.665Z"
   },
   {
    "duration": 9,
    "start_time": "2022-01-24T21:07:59.673Z"
   },
   {
    "duration": 19,
    "start_time": "2022-01-24T21:07:59.685Z"
   },
   {
    "duration": 11,
    "start_time": "2022-01-24T21:07:59.708Z"
   },
   {
    "duration": 43,
    "start_time": "2022-01-24T21:07:59.722Z"
   },
   {
    "duration": 9,
    "start_time": "2022-01-24T21:07:59.768Z"
   },
   {
    "duration": 462,
    "start_time": "2022-01-24T21:07:59.779Z"
   },
   {
    "duration": 527,
    "start_time": "2022-01-24T21:08:00.244Z"
   },
   {
    "duration": 493,
    "start_time": "2022-01-24T21:08:00.774Z"
   },
   {
    "duration": 498,
    "start_time": "2022-01-24T21:08:01.269Z"
   },
   {
    "duration": 550,
    "start_time": "2022-01-24T21:08:01.770Z"
   },
   {
    "duration": 6,
    "start_time": "2022-01-24T21:08:02.323Z"
   },
   {
    "duration": 11,
    "start_time": "2022-01-24T21:08:02.332Z"
   },
   {
    "duration": 46,
    "start_time": "2022-01-24T21:08:02.345Z"
   },
   {
    "duration": 7,
    "start_time": "2022-01-24T21:08:02.394Z"
   },
   {
    "duration": 25,
    "start_time": "2022-01-24T21:08:02.403Z"
   },
   {
    "duration": 27,
    "start_time": "2022-01-24T21:10:10.050Z"
   },
   {
    "duration": 4,
    "start_time": "2022-01-24T21:11:01.852Z"
   },
   {
    "duration": 53,
    "start_time": "2022-01-24T21:11:01.859Z"
   },
   {
    "duration": 12,
    "start_time": "2022-01-24T21:11:01.915Z"
   },
   {
    "duration": 14,
    "start_time": "2022-01-24T21:11:01.930Z"
   },
   {
    "duration": 26,
    "start_time": "2022-01-24T21:11:01.947Z"
   },
   {
    "duration": 9,
    "start_time": "2022-01-24T21:11:01.975Z"
   },
   {
    "duration": 13,
    "start_time": "2022-01-24T21:11:01.987Z"
   },
   {
    "duration": 13,
    "start_time": "2022-01-24T21:11:02.002Z"
   },
   {
    "duration": 11,
    "start_time": "2022-01-24T21:11:02.019Z"
   },
   {
    "duration": 39,
    "start_time": "2022-01-24T21:11:02.033Z"
   },
   {
    "duration": 14,
    "start_time": "2022-01-24T21:11:02.075Z"
   },
   {
    "duration": 462,
    "start_time": "2022-01-24T21:11:02.092Z"
   },
   {
    "duration": 504,
    "start_time": "2022-01-24T21:11:02.556Z"
   },
   {
    "duration": 473,
    "start_time": "2022-01-24T21:11:03.066Z"
   },
   {
    "duration": 494,
    "start_time": "2022-01-24T21:11:03.541Z"
   },
   {
    "duration": 512,
    "start_time": "2022-01-24T21:11:04.038Z"
   },
   {
    "duration": 15,
    "start_time": "2022-01-24T21:11:04.552Z"
   },
   {
    "duration": 18,
    "start_time": "2022-01-24T21:11:04.570Z"
   },
   {
    "duration": 33,
    "start_time": "2022-01-24T21:11:04.590Z"
   },
   {
    "duration": 17,
    "start_time": "2022-01-24T21:11:16.459Z"
   },
   {
    "duration": 21,
    "start_time": "2022-01-24T21:14:53.784Z"
   },
   {
    "duration": 4,
    "start_time": "2022-01-24T21:15:14.097Z"
   },
   {
    "duration": 7,
    "start_time": "2022-01-24T21:15:19.687Z"
   },
   {
    "duration": 300,
    "start_time": "2022-01-24T21:15:27.554Z"
   },
   {
    "duration": 5,
    "start_time": "2022-01-24T21:15:48.496Z"
   },
   {
    "duration": 43,
    "start_time": "2022-01-24T21:15:48.505Z"
   },
   {
    "duration": 12,
    "start_time": "2022-01-24T21:15:48.551Z"
   },
   {
    "duration": 18,
    "start_time": "2022-01-24T21:15:48.566Z"
   },
   {
    "duration": 21,
    "start_time": "2022-01-24T21:15:48.587Z"
   },
   {
    "duration": 5,
    "start_time": "2022-01-24T21:15:48.611Z"
   },
   {
    "duration": 11,
    "start_time": "2022-01-24T21:15:48.619Z"
   },
   {
    "duration": 37,
    "start_time": "2022-01-24T21:15:48.633Z"
   },
   {
    "duration": 13,
    "start_time": "2022-01-24T21:15:48.674Z"
   },
   {
    "duration": 14,
    "start_time": "2022-01-24T21:15:48.690Z"
   },
   {
    "duration": 13,
    "start_time": "2022-01-24T21:15:48.707Z"
   },
   {
    "duration": 512,
    "start_time": "2022-01-24T21:15:48.722Z"
   },
   {
    "duration": 630,
    "start_time": "2022-01-24T21:15:49.236Z"
   },
   {
    "duration": 627,
    "start_time": "2022-01-24T21:15:49.869Z"
   },
   {
    "duration": 486,
    "start_time": "2022-01-24T21:15:50.499Z"
   },
   {
    "duration": 507,
    "start_time": "2022-01-24T21:15:50.987Z"
   },
   {
    "duration": 7,
    "start_time": "2022-01-24T21:15:51.497Z"
   },
   {
    "duration": 8,
    "start_time": "2022-01-24T21:15:51.507Z"
   },
   {
    "duration": 11,
    "start_time": "2022-01-24T21:15:51.518Z"
   },
   {
    "duration": 36,
    "start_time": "2022-01-24T21:15:51.532Z"
   },
   {
    "duration": 95,
    "start_time": "2022-01-24T21:15:51.571Z"
   },
   {
    "duration": 4,
    "start_time": "2022-01-24T21:17:03.265Z"
   },
   {
    "duration": 46,
    "start_time": "2022-01-24T21:17:03.273Z"
   },
   {
    "duration": 12,
    "start_time": "2022-01-24T21:17:03.323Z"
   },
   {
    "duration": 31,
    "start_time": "2022-01-24T21:17:03.338Z"
   },
   {
    "duration": 12,
    "start_time": "2022-01-24T21:17:03.372Z"
   },
   {
    "duration": 7,
    "start_time": "2022-01-24T21:17:03.386Z"
   },
   {
    "duration": 8,
    "start_time": "2022-01-24T21:17:03.395Z"
   },
   {
    "duration": 11,
    "start_time": "2022-01-24T21:17:03.405Z"
   },
   {
    "duration": 47,
    "start_time": "2022-01-24T21:17:03.420Z"
   },
   {
    "duration": 12,
    "start_time": "2022-01-24T21:17:03.470Z"
   },
   {
    "duration": 13,
    "start_time": "2022-01-24T21:17:03.485Z"
   },
   {
    "duration": 541,
    "start_time": "2022-01-24T21:17:03.500Z"
   },
   {
    "duration": 505,
    "start_time": "2022-01-24T21:17:04.044Z"
   },
   {
    "duration": 483,
    "start_time": "2022-01-24T21:17:04.551Z"
   },
   {
    "duration": 484,
    "start_time": "2022-01-24T21:17:05.036Z"
   },
   {
    "duration": 611,
    "start_time": "2022-01-24T21:17:05.524Z"
   },
   {
    "duration": 7,
    "start_time": "2022-01-24T21:17:06.138Z"
   },
   {
    "duration": 19,
    "start_time": "2022-01-24T21:17:06.148Z"
   },
   {
    "duration": 23,
    "start_time": "2022-01-24T21:17:06.169Z"
   },
   {
    "duration": 7,
    "start_time": "2022-01-24T21:17:06.194Z"
   },
   {
    "duration": 9,
    "start_time": "2022-01-24T21:17:06.204Z"
   },
   {
    "duration": 56,
    "start_time": "2022-01-24T21:17:06.215Z"
   },
   {
    "duration": 6,
    "start_time": "2022-01-24T21:17:24.323Z"
   },
   {
    "duration": 49,
    "start_time": "2022-01-24T21:17:24.332Z"
   },
   {
    "duration": 12,
    "start_time": "2022-01-24T21:17:24.384Z"
   },
   {
    "duration": 10,
    "start_time": "2022-01-24T21:17:24.399Z"
   },
   {
    "duration": 12,
    "start_time": "2022-01-24T21:17:24.412Z"
   },
   {
    "duration": 39,
    "start_time": "2022-01-24T21:17:24.426Z"
   },
   {
    "duration": 9,
    "start_time": "2022-01-24T21:17:24.468Z"
   },
   {
    "duration": 13,
    "start_time": "2022-01-24T21:17:24.481Z"
   },
   {
    "duration": 12,
    "start_time": "2022-01-24T21:17:24.497Z"
   },
   {
    "duration": 60,
    "start_time": "2022-01-24T21:17:24.511Z"
   },
   {
    "duration": 11,
    "start_time": "2022-01-24T21:17:24.573Z"
   },
   {
    "duration": 459,
    "start_time": "2022-01-24T21:17:24.586Z"
   },
   {
    "duration": 529,
    "start_time": "2022-01-24T21:17:25.047Z"
   },
   {
    "duration": 487,
    "start_time": "2022-01-24T21:17:25.580Z"
   },
   {
    "duration": 659,
    "start_time": "2022-01-24T21:17:26.070Z"
   },
   {
    "duration": 479,
    "start_time": "2022-01-24T21:17:26.732Z"
   },
   {
    "duration": 8,
    "start_time": "2022-01-24T21:17:27.214Z"
   },
   {
    "duration": 8,
    "start_time": "2022-01-24T21:17:27.225Z"
   },
   {
    "duration": 76,
    "start_time": "2022-01-24T21:17:27.236Z"
   },
   {
    "duration": 10,
    "start_time": "2022-01-24T21:17:27.314Z"
   },
   {
    "duration": 10,
    "start_time": "2022-01-24T21:17:27.327Z"
   },
   {
    "duration": 101,
    "start_time": "2022-01-24T21:17:27.364Z"
   },
   {
    "duration": 5,
    "start_time": "2022-01-24T21:17:47.615Z"
   },
   {
    "duration": 44,
    "start_time": "2022-01-24T21:17:47.623Z"
   },
   {
    "duration": 13,
    "start_time": "2022-01-24T21:17:47.670Z"
   },
   {
    "duration": 14,
    "start_time": "2022-01-24T21:17:47.686Z"
   },
   {
    "duration": 14,
    "start_time": "2022-01-24T21:17:47.702Z"
   },
   {
    "duration": 5,
    "start_time": "2022-01-24T21:17:47.718Z"
   },
   {
    "duration": 7,
    "start_time": "2022-01-24T21:17:47.725Z"
   },
   {
    "duration": 11,
    "start_time": "2022-01-24T21:17:47.768Z"
   },
   {
    "duration": 11,
    "start_time": "2022-01-24T21:17:47.782Z"
   },
   {
    "duration": 17,
    "start_time": "2022-01-24T21:17:47.796Z"
   },
   {
    "duration": 11,
    "start_time": "2022-01-24T21:17:47.815Z"
   },
   {
    "duration": 508,
    "start_time": "2022-01-24T21:17:47.828Z"
   },
   {
    "duration": 499,
    "start_time": "2022-01-24T21:17:48.338Z"
   },
   {
    "duration": 533,
    "start_time": "2022-01-24T21:17:48.840Z"
   },
   {
    "duration": 488,
    "start_time": "2022-01-24T21:17:49.376Z"
   },
   {
    "duration": 482,
    "start_time": "2022-01-24T21:17:49.867Z"
   },
   {
    "duration": 15,
    "start_time": "2022-01-24T21:17:50.351Z"
   },
   {
    "duration": 9,
    "start_time": "2022-01-24T21:17:50.369Z"
   },
   {
    "duration": 31,
    "start_time": "2022-01-24T21:17:50.380Z"
   },
   {
    "duration": 1397,
    "start_time": "2022-01-24T21:18:46.054Z"
   },
   {
    "duration": 49,
    "start_time": "2022-01-24T21:18:47.454Z"
   },
   {
    "duration": 17,
    "start_time": "2022-01-24T21:18:47.506Z"
   },
   {
    "duration": 12,
    "start_time": "2022-01-24T21:18:47.526Z"
   },
   {
    "duration": 33,
    "start_time": "2022-01-24T21:18:47.540Z"
   },
   {
    "duration": 5,
    "start_time": "2022-01-24T21:18:47.575Z"
   },
   {
    "duration": 9,
    "start_time": "2022-01-24T21:18:47.582Z"
   },
   {
    "duration": 15,
    "start_time": "2022-01-24T21:18:47.593Z"
   },
   {
    "duration": 12,
    "start_time": "2022-01-24T21:18:47.611Z"
   },
   {
    "duration": 42,
    "start_time": "2022-01-24T21:18:47.626Z"
   },
   {
    "duration": 14,
    "start_time": "2022-01-24T21:18:47.671Z"
   },
   {
    "duration": 465,
    "start_time": "2022-01-24T21:18:47.687Z"
   },
   {
    "duration": 501,
    "start_time": "2022-01-24T21:18:48.155Z"
   },
   {
    "duration": 479,
    "start_time": "2022-01-24T21:18:48.658Z"
   },
   {
    "duration": 535,
    "start_time": "2022-01-24T21:18:49.140Z"
   },
   {
    "duration": 486,
    "start_time": "2022-01-24T21:18:49.678Z"
   },
   {
    "duration": 6,
    "start_time": "2022-01-24T21:18:50.167Z"
   },
   {
    "duration": 7,
    "start_time": "2022-01-24T21:18:50.175Z"
   },
   {
    "duration": 1327,
    "start_time": "2022-01-24T21:18:54.921Z"
   },
   {
    "duration": 53,
    "start_time": "2022-01-24T21:19:08.114Z"
   },
   {
    "duration": 295,
    "start_time": "2022-01-24T21:19:09.289Z"
   },
   {
    "duration": 274,
    "start_time": "2022-01-24T21:19:45.311Z"
   },
   {
    "duration": 6,
    "start_time": "2022-01-24T21:19:52.366Z"
   },
   {
    "duration": 25,
    "start_time": "2022-01-24T21:19:53.013Z"
   },
   {
    "duration": 40,
    "start_time": "2022-01-24T21:19:54.963Z"
   },
   {
    "duration": 41,
    "start_time": "2022-01-24T21:20:03.004Z"
   },
   {
    "duration": 9,
    "start_time": "2022-01-24T21:20:14.011Z"
   },
   {
    "duration": 8,
    "start_time": "2022-01-24T21:20:14.677Z"
   },
   {
    "duration": 220,
    "start_time": "2022-01-24T21:20:15.747Z"
   },
   {
    "duration": 5,
    "start_time": "2022-01-24T21:20:40.651Z"
   },
   {
    "duration": 44,
    "start_time": "2022-01-24T21:20:40.659Z"
   },
   {
    "duration": 13,
    "start_time": "2022-01-24T21:20:40.706Z"
   },
   {
    "duration": 10,
    "start_time": "2022-01-24T21:20:40.722Z"
   },
   {
    "duration": 38,
    "start_time": "2022-01-24T21:20:40.734Z"
   },
   {
    "duration": 6,
    "start_time": "2022-01-24T21:20:40.774Z"
   },
   {
    "duration": 9,
    "start_time": "2022-01-24T21:20:40.782Z"
   },
   {
    "duration": 10,
    "start_time": "2022-01-24T21:20:40.795Z"
   },
   {
    "duration": 11,
    "start_time": "2022-01-24T21:20:40.808Z"
   },
   {
    "duration": 52,
    "start_time": "2022-01-24T21:20:40.822Z"
   },
   {
    "duration": 9,
    "start_time": "2022-01-24T21:20:40.877Z"
   },
   {
    "duration": 467,
    "start_time": "2022-01-24T21:20:40.888Z"
   },
   {
    "duration": 502,
    "start_time": "2022-01-24T21:20:41.365Z"
   },
   {
    "duration": 503,
    "start_time": "2022-01-24T21:20:41.870Z"
   },
   {
    "duration": 558,
    "start_time": "2022-01-24T21:20:42.375Z"
   },
   {
    "duration": 463,
    "start_time": "2022-01-24T21:20:42.936Z"
   },
   {
    "duration": 6,
    "start_time": "2022-01-24T21:20:43.402Z"
   },
   {
    "duration": 7,
    "start_time": "2022-01-24T21:20:43.410Z"
   },
   {
    "duration": 55,
    "start_time": "2022-01-24T21:20:43.419Z"
   },
   {
    "duration": 7,
    "start_time": "2022-01-24T21:20:43.476Z"
   },
   {
    "duration": 8,
    "start_time": "2022-01-24T21:20:43.486Z"
   },
   {
    "duration": 177,
    "start_time": "2022-01-24T21:20:43.497Z"
   },
   {
    "duration": 175,
    "start_time": "2022-01-24T21:21:10.994Z"
   },
   {
    "duration": 281,
    "start_time": "2022-01-24T21:29:59.639Z"
   },
   {
    "duration": 40483,
    "start_time": "2022-01-24T21:30:40.082Z"
   },
   {
    "duration": 195471,
    "start_time": "2022-01-24T21:34:00.872Z"
   },
   {
    "duration": 83706,
    "start_time": "2022-01-24T21:37:22.747Z"
   },
   {
    "duration": 5,
    "start_time": "2022-01-24T21:38:53.031Z"
   },
   {
    "duration": 41,
    "start_time": "2022-01-24T21:38:53.039Z"
   },
   {
    "duration": 20,
    "start_time": "2022-01-24T21:38:53.083Z"
   },
   {
    "duration": 9,
    "start_time": "2022-01-24T21:38:53.106Z"
   },
   {
    "duration": 52,
    "start_time": "2022-01-24T21:38:53.119Z"
   },
   {
    "duration": 11,
    "start_time": "2022-01-24T21:38:53.175Z"
   },
   {
    "duration": 9,
    "start_time": "2022-01-24T21:38:53.189Z"
   },
   {
    "duration": 19,
    "start_time": "2022-01-24T21:38:53.200Z"
   },
   {
    "duration": 11,
    "start_time": "2022-01-24T21:38:53.223Z"
   },
   {
    "duration": 43,
    "start_time": "2022-01-24T21:38:53.236Z"
   },
   {
    "duration": 21,
    "start_time": "2022-01-24T21:38:53.282Z"
   },
   {
    "duration": 580,
    "start_time": "2022-01-24T21:38:53.306Z"
   },
   {
    "duration": 548,
    "start_time": "2022-01-24T21:38:53.890Z"
   },
   {
    "duration": 503,
    "start_time": "2022-01-24T21:38:54.441Z"
   },
   {
    "duration": 633,
    "start_time": "2022-01-24T21:38:54.946Z"
   },
   {
    "duration": 647,
    "start_time": "2022-01-24T21:38:55.582Z"
   },
   {
    "duration": 7,
    "start_time": "2022-01-24T21:38:56.232Z"
   },
   {
    "duration": 24,
    "start_time": "2022-01-24T21:38:56.243Z"
   },
   {
    "duration": 36502,
    "start_time": "2022-01-24T21:38:56.271Z"
   },
   {
    "duration": 5,
    "start_time": "2022-01-25T18:50:48.033Z"
   },
   {
    "duration": 1475,
    "start_time": "2022-01-25T18:52:39.266Z"
   },
   {
    "duration": 38,
    "start_time": "2022-01-25T18:52:40.744Z"
   },
   {
    "duration": 16,
    "start_time": "2022-01-25T18:52:40.785Z"
   },
   {
    "duration": 9,
    "start_time": "2022-01-25T18:52:40.804Z"
   },
   {
    "duration": 13,
    "start_time": "2022-01-25T18:52:40.816Z"
   },
   {
    "duration": 31,
    "start_time": "2022-01-25T18:52:40.831Z"
   },
   {
    "duration": 6,
    "start_time": "2022-01-25T18:52:40.865Z"
   },
   {
    "duration": 14,
    "start_time": "2022-01-25T18:52:40.874Z"
   },
   {
    "duration": 11,
    "start_time": "2022-01-25T18:52:40.890Z"
   },
   {
    "duration": 12,
    "start_time": "2022-01-25T18:52:40.904Z"
   },
   {
    "duration": 9,
    "start_time": "2022-01-25T18:52:40.960Z"
   },
   {
    "duration": 490,
    "start_time": "2022-01-25T18:52:40.971Z"
   },
   {
    "duration": 512,
    "start_time": "2022-01-25T18:52:41.463Z"
   },
   {
    "duration": 472,
    "start_time": "2022-01-25T18:52:41.977Z"
   },
   {
    "duration": 622,
    "start_time": "2022-01-25T18:52:42.452Z"
   },
   {
    "duration": 525,
    "start_time": "2022-01-25T18:52:43.077Z"
   },
   {
    "duration": 6,
    "start_time": "2022-01-25T18:52:43.604Z"
   },
   {
    "duration": 6,
    "start_time": "2022-01-25T18:52:43.613Z"
   },
   {
    "duration": 35738,
    "start_time": "2022-01-25T18:52:43.621Z"
   },
   {
    "duration": 5,
    "start_time": "2022-01-25T18:53:19.363Z"
   },
   {
    "duration": 35,
    "start_time": "2022-01-25T18:54:01.093Z"
   },
   {
    "duration": 3,
    "start_time": "2022-01-25T18:55:01.715Z"
   },
   {
    "duration": 39,
    "start_time": "2022-01-25T18:57:04.706Z"
   },
   {
    "duration": 9,
    "start_time": "2022-01-25T18:57:24.349Z"
   },
   {
    "duration": 524,
    "start_time": "2022-01-25T18:57:34.389Z"
   },
   {
    "duration": 153879,
    "start_time": "2022-01-25T18:57:48.834Z"
   },
   {
    "duration": 8,
    "start_time": "2022-01-25T19:01:41.297Z"
   },
   {
    "duration": 28,
    "start_time": "2022-01-25T19:02:11.929Z"
   },
   {
    "duration": 7,
    "start_time": "2022-01-25T19:02:40.121Z"
   },
   {
    "duration": 9931,
    "start_time": "2022-01-25T19:12:48.257Z"
   },
   {
    "duration": 5,
    "start_time": "2022-01-25T19:13:22.674Z"
   },
   {
    "duration": 40,
    "start_time": "2022-01-25T19:13:22.682Z"
   },
   {
    "duration": 13,
    "start_time": "2022-01-25T19:13:22.725Z"
   },
   {
    "duration": 21,
    "start_time": "2022-01-25T19:13:22.741Z"
   },
   {
    "duration": 13,
    "start_time": "2022-01-25T19:13:22.765Z"
   },
   {
    "duration": 6,
    "start_time": "2022-01-25T19:13:22.781Z"
   },
   {
    "duration": 8,
    "start_time": "2022-01-25T19:13:22.789Z"
   },
   {
    "duration": 13,
    "start_time": "2022-01-25T19:13:22.799Z"
   },
   {
    "duration": 54,
    "start_time": "2022-01-25T19:13:22.815Z"
   },
   {
    "duration": 9,
    "start_time": "2022-01-25T19:13:22.872Z"
   },
   {
    "duration": 510,
    "start_time": "2022-01-25T19:13:22.883Z"
   },
   {
    "duration": 516,
    "start_time": "2022-01-25T19:13:23.395Z"
   },
   {
    "duration": 481,
    "start_time": "2022-01-25T19:13:23.914Z"
   },
   {
    "duration": 485,
    "start_time": "2022-01-25T19:13:24.397Z"
   },
   {
    "duration": 584,
    "start_time": "2022-01-25T19:13:24.885Z"
   },
   {
    "duration": 421,
    "start_time": "2022-01-25T19:17:22.428Z"
   },
   {
    "duration": 438,
    "start_time": "2022-01-25T19:17:36.691Z"
   },
   {
    "duration": 322,
    "start_time": "2022-01-25T19:18:22.407Z"
   },
   {
    "duration": 5,
    "start_time": "2022-01-25T19:18:48.519Z"
   },
   {
    "duration": 39,
    "start_time": "2022-01-25T19:18:48.527Z"
   },
   {
    "duration": 13,
    "start_time": "2022-01-25T19:18:48.569Z"
   },
   {
    "duration": 12,
    "start_time": "2022-01-25T19:18:48.585Z"
   },
   {
    "duration": 13,
    "start_time": "2022-01-25T19:18:48.599Z"
   },
   {
    "duration": 5,
    "start_time": "2022-01-25T19:18:48.614Z"
   },
   {
    "duration": 40,
    "start_time": "2022-01-25T19:18:48.621Z"
   },
   {
    "duration": 11,
    "start_time": "2022-01-25T19:18:48.664Z"
   },
   {
    "duration": 11,
    "start_time": "2022-01-25T19:18:48.678Z"
   },
   {
    "duration": 8,
    "start_time": "2022-01-25T19:18:48.692Z"
   },
   {
    "duration": 516,
    "start_time": "2022-01-25T19:18:48.703Z"
   },
   {
    "duration": 522,
    "start_time": "2022-01-25T19:18:49.221Z"
   },
   {
    "duration": 20,
    "start_time": "2022-01-25T19:18:49.746Z"
   },
   {
    "duration": 276,
    "start_time": "2022-01-25T19:19:07.306Z"
   },
   {
    "duration": 11,
    "start_time": "2022-01-25T19:19:57.867Z"
   },
   {
    "duration": 380,
    "start_time": "2022-01-25T19:19:58.811Z"
   },
   {
    "duration": 5,
    "start_time": "2022-01-25T19:20:55.768Z"
   },
   {
    "duration": 40,
    "start_time": "2022-01-25T19:20:55.788Z"
   },
   {
    "duration": 12,
    "start_time": "2022-01-25T19:20:55.831Z"
   },
   {
    "duration": 17,
    "start_time": "2022-01-25T19:20:55.846Z"
   },
   {
    "duration": 13,
    "start_time": "2022-01-25T19:20:55.866Z"
   },
   {
    "duration": 5,
    "start_time": "2022-01-25T19:20:55.881Z"
   },
   {
    "duration": 7,
    "start_time": "2022-01-25T19:20:55.888Z"
   },
   {
    "duration": 13,
    "start_time": "2022-01-25T19:20:55.898Z"
   },
   {
    "duration": 14,
    "start_time": "2022-01-25T19:20:55.960Z"
   },
   {
    "duration": 9,
    "start_time": "2022-01-25T19:20:55.977Z"
   },
   {
    "duration": 581,
    "start_time": "2022-01-25T19:20:55.989Z"
   },
   {
    "duration": 537,
    "start_time": "2022-01-25T19:20:56.573Z"
   },
   {
    "duration": 11,
    "start_time": "2022-01-25T19:20:57.113Z"
   },
   {
    "duration": 309,
    "start_time": "2022-01-25T19:20:57.126Z"
   },
   {
    "duration": 559,
    "start_time": "2022-01-25T19:20:57.438Z"
   },
   {
    "duration": 634,
    "start_time": "2022-01-25T19:20:57.999Z"
   },
   {
    "duration": 8,
    "start_time": "2022-01-25T19:20:58.635Z"
   },
   {
    "duration": 16,
    "start_time": "2022-01-25T19:20:58.646Z"
   },
   {
    "duration": 32997,
    "start_time": "2022-01-25T19:20:58.664Z"
   },
   {
    "duration": 4,
    "start_time": "2022-01-25T19:21:31.663Z"
   },
   {
    "duration": 142740,
    "start_time": "2022-01-25T19:21:31.669Z"
   },
   {
    "duration": 7,
    "start_time": "2022-01-25T19:23:54.411Z"
   },
   {
    "duration": 55,
    "start_time": "2022-01-25T19:23:54.422Z"
   },
   {
    "duration": 8,
    "start_time": "2022-01-25T19:23:54.480Z"
   },
   {
    "duration": 118,
    "start_time": "2022-01-25T19:30:39.574Z"
   },
   {
    "duration": 353,
    "start_time": "2022-01-25T19:40:55.856Z"
   },
   {
    "duration": 5,
    "start_time": "2022-01-25T19:42:42.253Z"
   },
   {
    "duration": 119,
    "start_time": "2022-01-25T19:42:42.260Z"
   },
   {
    "duration": 12,
    "start_time": "2022-01-25T19:42:42.382Z"
   },
   {
    "duration": 15,
    "start_time": "2022-01-25T19:42:42.396Z"
   },
   {
    "duration": 13,
    "start_time": "2022-01-25T19:42:42.413Z"
   },
   {
    "duration": 8,
    "start_time": "2022-01-25T19:42:42.428Z"
   },
   {
    "duration": 23,
    "start_time": "2022-01-25T19:42:42.438Z"
   },
   {
    "duration": 13,
    "start_time": "2022-01-25T19:42:42.465Z"
   },
   {
    "duration": 13,
    "start_time": "2022-01-25T19:42:42.482Z"
   },
   {
    "duration": 12,
    "start_time": "2022-01-25T19:42:42.497Z"
   },
   {
    "duration": 660,
    "start_time": "2022-01-25T19:42:42.511Z"
   },
   {
    "duration": 515,
    "start_time": "2022-01-25T19:42:43.174Z"
   },
   {
    "duration": 9,
    "start_time": "2022-01-25T19:42:43.691Z"
   },
   {
    "duration": 290,
    "start_time": "2022-01-25T19:42:43.702Z"
   },
   {
    "duration": 483,
    "start_time": "2022-01-25T19:42:43.995Z"
   },
   {
    "duration": 584,
    "start_time": "2022-01-25T19:42:44.481Z"
   },
   {
    "duration": 6,
    "start_time": "2022-01-25T19:42:45.068Z"
   },
   {
    "duration": 7,
    "start_time": "2022-01-25T19:42:45.076Z"
   },
   {
    "duration": 38176,
    "start_time": "2022-01-25T19:42:45.086Z"
   },
   {
    "duration": 96,
    "start_time": "2022-01-25T19:43:23.268Z"
   },
   {
    "duration": 142032,
    "start_time": "2022-01-25T19:43:23.370Z"
   },
   {
    "duration": 7,
    "start_time": "2022-01-25T19:45:45.405Z"
   },
   {
    "duration": 54,
    "start_time": "2022-01-25T19:45:45.418Z"
   },
   {
    "duration": 5,
    "start_time": "2022-01-25T19:45:45.475Z"
   },
   {
    "duration": 359,
    "start_time": "2022-01-25T19:45:45.483Z"
   },
   {
    "duration": 5,
    "start_time": "2022-01-25T19:49:27.553Z"
   },
   {
    "duration": 10,
    "start_time": "2022-01-25T19:49:41.719Z"
   },
   {
    "duration": 6,
    "start_time": "2022-01-25T19:50:33.839Z"
   },
   {
    "duration": 10,
    "start_time": "2022-01-25T19:50:34.447Z"
   },
   {
    "duration": 7,
    "start_time": "2022-01-25T19:51:19.514Z"
   },
   {
    "duration": 9,
    "start_time": "2022-01-25T19:51:20.039Z"
   },
   {
    "duration": 6,
    "start_time": "2022-01-25T19:57:02.628Z"
   },
   {
    "duration": 50,
    "start_time": "2022-01-25T19:57:02.637Z"
   },
   {
    "duration": 16,
    "start_time": "2022-01-25T19:57:02.691Z"
   },
   {
    "duration": 12,
    "start_time": "2022-01-25T19:57:02.711Z"
   },
   {
    "duration": 40,
    "start_time": "2022-01-25T19:57:02.726Z"
   },
   {
    "duration": 5,
    "start_time": "2022-01-25T19:57:02.776Z"
   },
   {
    "duration": 16,
    "start_time": "2022-01-25T19:57:02.783Z"
   },
   {
    "duration": 17,
    "start_time": "2022-01-25T19:57:02.802Z"
   },
   {
    "duration": 12,
    "start_time": "2022-01-25T19:57:02.823Z"
   },
   {
    "duration": 34,
    "start_time": "2022-01-25T19:57:02.838Z"
   },
   {
    "duration": 512,
    "start_time": "2022-01-25T19:57:02.875Z"
   },
   {
    "duration": 670,
    "start_time": "2022-01-25T19:57:03.390Z"
   },
   {
    "duration": 16,
    "start_time": "2022-01-25T19:57:04.063Z"
   },
   {
    "duration": 382,
    "start_time": "2022-01-25T19:57:04.089Z"
   },
   {
    "duration": 650,
    "start_time": "2022-01-25T19:57:04.474Z"
   },
   {
    "duration": 767,
    "start_time": "2022-01-25T19:57:05.127Z"
   },
   {
    "duration": 7,
    "start_time": "2022-01-25T19:57:05.898Z"
   },
   {
    "duration": 10,
    "start_time": "2022-01-25T19:57:05.908Z"
   },
   {
    "duration": 40951,
    "start_time": "2022-01-25T19:57:05.921Z"
   },
   {
    "duration": 5,
    "start_time": "2022-01-25T19:57:46.876Z"
   },
   {
    "duration": 146945,
    "start_time": "2022-01-25T19:57:46.961Z"
   },
   {
    "duration": 6,
    "start_time": "2022-01-25T20:00:13.908Z"
   },
   {
    "duration": 48,
    "start_time": "2022-01-25T20:00:13.916Z"
   },
   {
    "duration": 7,
    "start_time": "2022-01-25T20:00:13.967Z"
   },
   {
    "duration": 9,
    "start_time": "2022-01-25T20:00:13.977Z"
   },
   {
    "duration": 12,
    "start_time": "2022-01-25T20:00:13.989Z"
   },
   {
    "duration": 1115,
    "start_time": "2022-01-27T16:43:51.150Z"
   },
   {
    "duration": 32,
    "start_time": "2022-01-27T16:43:52.267Z"
   },
   {
    "duration": 12,
    "start_time": "2022-01-27T16:43:52.300Z"
   },
   {
    "duration": 9,
    "start_time": "2022-01-27T16:43:52.313Z"
   },
   {
    "duration": 11,
    "start_time": "2022-01-27T16:43:52.323Z"
   },
   {
    "duration": 11,
    "start_time": "2022-01-27T16:43:52.335Z"
   },
   {
    "duration": 11,
    "start_time": "2022-01-27T16:43:52.347Z"
   },
   {
    "duration": 10,
    "start_time": "2022-01-27T16:43:52.360Z"
   },
   {
    "duration": 7,
    "start_time": "2022-01-27T16:43:52.371Z"
   },
   {
    "duration": 23,
    "start_time": "2022-01-27T16:43:52.380Z"
   },
   {
    "duration": 308,
    "start_time": "2022-01-27T16:43:52.405Z"
   },
   {
    "duration": 330,
    "start_time": "2022-01-27T16:43:52.714Z"
   },
   {
    "duration": 361,
    "start_time": "2022-01-27T16:44:18.166Z"
   },
   {
    "duration": 346,
    "start_time": "2022-01-27T16:44:25.569Z"
   },
   {
    "duration": 4,
    "start_time": "2022-01-27T16:44:49.380Z"
   },
   {
    "duration": 9,
    "start_time": "2022-01-27T16:45:07.282Z"
   },
   {
    "duration": 9,
    "start_time": "2022-01-27T16:45:29.900Z"
   },
   {
    "duration": 244,
    "start_time": "2022-01-27T16:45:48.334Z"
   },
   {
    "duration": 230,
    "start_time": "2022-01-27T16:53:31.201Z"
   },
   {
    "duration": 3,
    "start_time": "2022-01-27T16:53:54.295Z"
   },
   {
    "duration": 43,
    "start_time": "2022-01-27T16:53:54.301Z"
   },
   {
    "duration": 15,
    "start_time": "2022-01-27T16:53:54.347Z"
   },
   {
    "duration": 9,
    "start_time": "2022-01-27T16:53:54.366Z"
   },
   {
    "duration": 21,
    "start_time": "2022-01-27T16:53:54.398Z"
   },
   {
    "duration": 17,
    "start_time": "2022-01-27T16:53:54.422Z"
   },
   {
    "duration": 11,
    "start_time": "2022-01-27T16:53:54.441Z"
   },
   {
    "duration": 15,
    "start_time": "2022-01-27T16:53:54.454Z"
   },
   {
    "duration": 12,
    "start_time": "2022-01-27T16:53:54.471Z"
   },
   {
    "duration": 26,
    "start_time": "2022-01-27T16:53:54.485Z"
   },
   {
    "duration": 424,
    "start_time": "2022-01-27T16:53:54.514Z"
   },
   {
    "duration": 424,
    "start_time": "2022-01-27T16:53:54.941Z"
   },
   {
    "duration": 269,
    "start_time": "2022-01-27T16:53:55.367Z"
   },
   {
    "duration": 558,
    "start_time": "2022-01-27T16:53:55.638Z"
   },
   {
    "duration": 622,
    "start_time": "2022-01-27T16:53:56.198Z"
   },
   {
    "duration": 8,
    "start_time": "2022-01-27T16:53:56.826Z"
   },
   {
    "duration": 22,
    "start_time": "2022-01-27T16:53:56.839Z"
   },
   {
    "duration": 7,
    "start_time": "2022-01-27T16:54:17.420Z"
   },
   {
    "duration": 7,
    "start_time": "2022-01-27T16:54:25.751Z"
   },
   {
    "duration": 5,
    "start_time": "2022-01-27T16:54:26.059Z"
   },
   {
    "duration": 4,
    "start_time": "2022-01-27T16:55:24.587Z"
   },
   {
    "duration": 9,
    "start_time": "2022-01-27T16:55:32.573Z"
   },
   {
    "duration": 9,
    "start_time": "2022-01-27T16:55:37.614Z"
   },
   {
    "duration": 4,
    "start_time": "2022-01-27T16:58:01.375Z"
   },
   {
    "duration": 39,
    "start_time": "2022-01-27T16:58:01.381Z"
   },
   {
    "duration": 89,
    "start_time": "2022-01-27T16:58:01.422Z"
   },
   {
    "duration": 18,
    "start_time": "2022-01-27T16:58:01.513Z"
   },
   {
    "duration": 14,
    "start_time": "2022-01-27T16:58:01.533Z"
   },
   {
    "duration": 10,
    "start_time": "2022-01-27T16:58:01.549Z"
   },
   {
    "duration": 19,
    "start_time": "2022-01-27T16:58:01.561Z"
   },
   {
    "duration": 23,
    "start_time": "2022-01-27T16:58:01.583Z"
   },
   {
    "duration": 11,
    "start_time": "2022-01-27T16:58:01.609Z"
   },
   {
    "duration": 18,
    "start_time": "2022-01-27T16:58:01.623Z"
   },
   {
    "duration": 364,
    "start_time": "2022-01-27T16:58:01.643Z"
   },
   {
    "duration": 395,
    "start_time": "2022-01-27T16:58:02.009Z"
   },
   {
    "duration": 220,
    "start_time": "2022-01-27T16:58:02.406Z"
   },
   {
    "duration": 343,
    "start_time": "2022-01-27T16:58:02.628Z"
   },
   {
    "duration": 415,
    "start_time": "2022-01-27T16:58:02.972Z"
   },
   {
    "duration": 9,
    "start_time": "2022-01-27T16:58:03.389Z"
   },
   {
    "duration": 5,
    "start_time": "2022-01-27T16:58:03.400Z"
   },
   {
    "duration": 214,
    "start_time": "2022-01-27T16:58:40.386Z"
   },
   {
    "duration": 229,
    "start_time": "2022-01-27T16:58:53.265Z"
   },
   {
    "duration": 12,
    "start_time": "2022-01-27T16:59:01.103Z"
   },
   {
    "duration": 13,
    "start_time": "2022-01-27T16:59:05.962Z"
   },
   {
    "duration": 11,
    "start_time": "2022-01-27T16:59:12.996Z"
   },
   {
    "duration": 1522,
    "start_time": "2022-01-29T11:54:52.573Z"
   },
   {
    "duration": 6,
    "start_time": "2022-01-29T11:55:13.282Z"
   },
   {
    "duration": 39,
    "start_time": "2022-01-29T11:55:13.291Z"
   },
   {
    "duration": 17,
    "start_time": "2022-01-29T11:55:13.333Z"
   },
   {
    "duration": 21,
    "start_time": "2022-01-29T11:55:13.353Z"
   },
   {
    "duration": 13,
    "start_time": "2022-01-29T11:55:13.377Z"
   },
   {
    "duration": 6,
    "start_time": "2022-01-29T11:55:13.393Z"
   },
   {
    "duration": 7,
    "start_time": "2022-01-29T11:55:13.402Z"
   },
   {
    "duration": 60,
    "start_time": "2022-01-29T11:55:13.411Z"
   },
   {
    "duration": 11,
    "start_time": "2022-01-29T11:55:13.476Z"
   },
   {
    "duration": 13,
    "start_time": "2022-01-29T11:55:13.490Z"
   },
   {
    "duration": 507,
    "start_time": "2022-01-29T11:55:13.505Z"
   },
   {
    "duration": 548,
    "start_time": "2022-01-29T11:55:14.015Z"
   },
   {
    "duration": 315,
    "start_time": "2022-01-29T11:55:14.570Z"
   },
   {
    "duration": 576,
    "start_time": "2022-01-29T11:55:14.888Z"
   },
   {
    "duration": 587,
    "start_time": "2022-01-29T11:55:15.470Z"
   },
   {
    "duration": 11,
    "start_time": "2022-01-29T11:55:16.060Z"
   },
   {
    "duration": 8,
    "start_time": "2022-01-29T11:55:16.075Z"
   },
   {
    "duration": 6,
    "start_time": "2022-01-29T11:56:40.646Z"
   },
   {
    "duration": 5,
    "start_time": "2022-01-29T11:56:49.432Z"
   },
   {
    "duration": 6,
    "start_time": "2022-01-29T11:57:01.025Z"
   },
   {
    "duration": 5,
    "start_time": "2022-01-29T11:57:05.616Z"
   },
   {
    "duration": 11435,
    "start_time": "2022-01-29T11:57:07.195Z"
   },
   {
    "duration": 6,
    "start_time": "2022-01-29T11:57:21.842Z"
   },
   {
    "duration": 6,
    "start_time": "2022-01-29T11:57:32.462Z"
   },
   {
    "duration": 5,
    "start_time": "2022-01-29T11:58:26.202Z"
   },
   {
    "duration": 453,
    "start_time": "2022-01-29T12:00:09.371Z"
   },
   {
    "duration": 4,
    "start_time": "2022-01-29T12:00:20.942Z"
   },
   {
    "duration": 32,
    "start_time": "2022-01-29T12:04:55.694Z"
   },
   {
    "duration": 330,
    "start_time": "2022-01-29T12:05:15.242Z"
   },
   {
    "duration": 319,
    "start_time": "2022-01-29T12:05:37.232Z"
   },
   {
    "duration": 302,
    "start_time": "2022-01-29T12:05:47.964Z"
   },
   {
    "duration": 3,
    "start_time": "2022-01-29T12:11:02.188Z"
   },
   {
    "duration": 7,
    "start_time": "2022-01-29T12:15:50.999Z"
   },
   {
    "duration": 4,
    "start_time": "2022-01-29T12:18:58.382Z"
   },
   {
    "duration": 5,
    "start_time": "2022-01-29T12:19:33.999Z"
   },
   {
    "duration": 296,
    "start_time": "2022-01-29T12:20:37.502Z"
   },
   {
    "duration": 284,
    "start_time": "2022-01-29T12:20:54.588Z"
   },
   {
    "duration": 337,
    "start_time": "2022-01-29T12:21:03.148Z"
   },
   {
    "duration": 6,
    "start_time": "2022-01-29T12:24:06.994Z"
   },
   {
    "duration": 5,
    "start_time": "2022-01-29T12:24:41.417Z"
   },
   {
    "duration": 292,
    "start_time": "2022-01-29T12:25:17.794Z"
   },
   {
    "duration": 5,
    "start_time": "2022-01-29T12:25:22.602Z"
   },
   {
    "duration": 4,
    "start_time": "2022-01-29T12:25:28.506Z"
   },
   {
    "duration": 5,
    "start_time": "2022-01-29T12:25:33.591Z"
   },
   {
    "duration": 102,
    "start_time": "2022-01-29T12:25:57.761Z"
   },
   {
    "duration": 15,
    "start_time": "2022-01-29T12:26:10.745Z"
   },
   {
    "duration": 103,
    "start_time": "2022-01-29T12:27:30.374Z"
   },
   {
    "duration": 5,
    "start_time": "2022-01-29T12:27:44.861Z"
   },
   {
    "duration": 45,
    "start_time": "2022-01-29T12:27:44.869Z"
   },
   {
    "duration": 12,
    "start_time": "2022-01-29T12:27:44.917Z"
   },
   {
    "duration": 9,
    "start_time": "2022-01-29T12:27:44.931Z"
   },
   {
    "duration": 27,
    "start_time": "2022-01-29T12:27:44.942Z"
   },
   {
    "duration": 5,
    "start_time": "2022-01-29T12:27:44.971Z"
   },
   {
    "duration": 6,
    "start_time": "2022-01-29T12:27:44.978Z"
   },
   {
    "duration": 11,
    "start_time": "2022-01-29T12:27:44.987Z"
   },
   {
    "duration": 11,
    "start_time": "2022-01-29T12:27:45.001Z"
   },
   {
    "duration": 9,
    "start_time": "2022-01-29T12:27:45.015Z"
   },
   {
    "duration": 515,
    "start_time": "2022-01-29T12:27:45.027Z"
   },
   {
    "duration": 529,
    "start_time": "2022-01-29T12:27:45.544Z"
   },
   {
    "duration": 304,
    "start_time": "2022-01-29T12:27:46.075Z"
   },
   {
    "duration": 489,
    "start_time": "2022-01-29T12:27:46.382Z"
   },
   {
    "duration": 662,
    "start_time": "2022-01-29T12:27:46.874Z"
   },
   {
    "duration": 8,
    "start_time": "2022-01-29T12:27:47.539Z"
   },
   {
    "duration": 24,
    "start_time": "2022-01-29T12:27:47.550Z"
   },
   {
    "duration": 32,
    "start_time": "2022-01-29T12:27:47.577Z"
   },
   {
    "duration": 4,
    "start_time": "2022-01-29T12:27:47.611Z"
   },
   {
    "duration": 258,
    "start_time": "2022-01-29T12:27:47.617Z"
   },
   {
    "duration": 148,
    "start_time": "2022-01-29T12:30:03.934Z"
   },
   {
    "duration": 9,
    "start_time": "2022-01-29T12:30:04.520Z"
   },
   {
    "duration": 724,
    "start_time": "2022-01-29T12:30:05.656Z"
   },
   {
    "duration": 624,
    "start_time": "2022-01-29T12:32:29.447Z"
   },
   {
    "duration": 43,
    "start_time": "2022-01-29T12:33:13.026Z"
   },
   {
    "duration": 4,
    "start_time": "2022-01-29T12:33:13.553Z"
   },
   {
    "duration": 248,
    "start_time": "2022-01-29T12:33:14.027Z"
   },
   {
    "duration": 7,
    "start_time": "2022-01-29T12:33:31.247Z"
   },
   {
    "duration": 307,
    "start_time": "2022-01-29T12:36:29.603Z"
   },
   {
    "duration": 171,
    "start_time": "2022-01-29T12:36:37.499Z"
   },
   {
    "duration": 9421,
    "start_time": "2022-01-29T12:37:07.656Z"
   },
   {
    "duration": 355,
    "start_time": "2022-01-29T12:37:47.714Z"
   },
   {
    "duration": 3,
    "start_time": "2022-01-29T12:37:49.560Z"
   },
   {
    "duration": 860,
    "start_time": "2022-01-29T12:37:50.214Z"
   },
   {
    "duration": 5,
    "start_time": "2022-01-29T12:37:54.476Z"
   },
   {
    "duration": 19849,
    "start_time": "2022-01-29T12:43:03.652Z"
   },
   {
    "duration": 20833,
    "start_time": "2022-01-29T12:43:35.146Z"
   },
   {
    "duration": 19173,
    "start_time": "2022-01-29T12:48:01.498Z"
   },
   {
    "duration": 10,
    "start_time": "2022-01-29T12:50:12.528Z"
   },
   {
    "duration": 6,
    "start_time": "2022-01-29T12:51:05.615Z"
   },
   {
    "duration": 47,
    "start_time": "2022-01-29T12:51:05.624Z"
   },
   {
    "duration": 14,
    "start_time": "2022-01-29T12:51:05.674Z"
   },
   {
    "duration": 26,
    "start_time": "2022-01-29T12:51:05.691Z"
   },
   {
    "duration": 25,
    "start_time": "2022-01-29T12:51:05.720Z"
   },
   {
    "duration": 5,
    "start_time": "2022-01-29T12:51:05.748Z"
   },
   {
    "duration": 23,
    "start_time": "2022-01-29T12:51:05.756Z"
   },
   {
    "duration": 37,
    "start_time": "2022-01-29T12:51:05.781Z"
   },
   {
    "duration": 31,
    "start_time": "2022-01-29T12:51:05.822Z"
   },
   {
    "duration": 30,
    "start_time": "2022-01-29T12:51:05.856Z"
   },
   {
    "duration": 456,
    "start_time": "2022-01-29T12:51:05.889Z"
   },
   {
    "duration": 532,
    "start_time": "2022-01-29T12:51:06.348Z"
   },
   {
    "duration": 301,
    "start_time": "2022-01-29T12:51:06.882Z"
   },
   {
    "duration": 503,
    "start_time": "2022-01-29T12:51:07.185Z"
   },
   {
    "duration": 710,
    "start_time": "2022-01-29T12:51:07.691Z"
   },
   {
    "duration": 7,
    "start_time": "2022-01-29T12:51:08.404Z"
   },
   {
    "duration": 9,
    "start_time": "2022-01-29T12:51:08.413Z"
   },
   {
    "duration": 19049,
    "start_time": "2022-01-29T12:51:08.424Z"
   },
   {
    "duration": 192,
    "start_time": "2022-01-29T12:51:27.477Z"
   },
   {
    "duration": 4,
    "start_time": "2022-01-29T12:51:27.672Z"
   },
   {
    "duration": 31865,
    "start_time": "2022-01-29T12:51:27.679Z"
   },
   {
    "duration": -1507,
    "start_time": "2022-01-29T12:52:01.055Z"
   },
   {
    "duration": -1510,
    "start_time": "2022-01-29T12:52:01.060Z"
   },
   {
    "duration": -1512,
    "start_time": "2022-01-29T12:52:01.064Z"
   },
   {
    "duration": -1512,
    "start_time": "2022-01-29T12:52:01.066Z"
   },
   {
    "duration": -1531,
    "start_time": "2022-01-29T12:52:01.087Z"
   },
   {
    "duration": 6,
    "start_time": "2022-01-29T12:53:12.575Z"
   },
   {
    "duration": 39,
    "start_time": "2022-01-29T12:53:12.583Z"
   },
   {
    "duration": 12,
    "start_time": "2022-01-29T12:53:12.625Z"
   },
   {
    "duration": 36,
    "start_time": "2022-01-29T12:53:12.639Z"
   },
   {
    "duration": 14,
    "start_time": "2022-01-29T12:53:12.678Z"
   },
   {
    "duration": 12,
    "start_time": "2022-01-29T12:53:12.694Z"
   },
   {
    "duration": 9,
    "start_time": "2022-01-29T12:53:12.709Z"
   },
   {
    "duration": 13,
    "start_time": "2022-01-29T12:53:12.720Z"
   },
   {
    "duration": 12,
    "start_time": "2022-01-29T12:53:12.772Z"
   },
   {
    "duration": 12,
    "start_time": "2022-01-29T12:53:12.787Z"
   },
   {
    "duration": 488,
    "start_time": "2022-01-29T12:53:12.802Z"
   },
   {
    "duration": 524,
    "start_time": "2022-01-29T12:53:13.293Z"
   },
   {
    "duration": 314,
    "start_time": "2022-01-29T12:53:13.820Z"
   },
   {
    "duration": 501,
    "start_time": "2022-01-29T12:53:14.136Z"
   },
   {
    "duration": 707,
    "start_time": "2022-01-29T12:53:14.639Z"
   },
   {
    "duration": 6,
    "start_time": "2022-01-29T12:53:15.348Z"
   },
   {
    "duration": 16,
    "start_time": "2022-01-29T12:53:15.356Z"
   },
   {
    "duration": 18501,
    "start_time": "2022-01-29T12:53:15.374Z"
   },
   {
    "duration": 790,
    "start_time": "2022-01-29T12:53:33.878Z"
   },
   {
    "duration": -1385,
    "start_time": "2022-01-29T12:53:36.055Z"
   },
   {
    "duration": -1387,
    "start_time": "2022-01-29T12:53:36.059Z"
   },
   {
    "duration": -1389,
    "start_time": "2022-01-29T12:53:36.062Z"
   },
   {
    "duration": -1389,
    "start_time": "2022-01-29T12:53:36.064Z"
   },
   {
    "duration": -1391,
    "start_time": "2022-01-29T12:53:36.067Z"
   },
   {
    "duration": -1391,
    "start_time": "2022-01-29T12:53:36.069Z"
   },
   {
    "duration": -1392,
    "start_time": "2022-01-29T12:53:36.071Z"
   },
   {
    "duration": 434,
    "start_time": "2022-01-29T12:54:37.445Z"
   },
   {
    "duration": 4,
    "start_time": "2022-01-29T12:55:36.619Z"
   },
   {
    "duration": 3,
    "start_time": "2022-01-29T12:55:46.564Z"
   },
   {
    "duration": 131801,
    "start_time": "2022-01-29T12:55:46.571Z"
   },
   {
    "duration": 6,
    "start_time": "2022-01-29T12:57:58.374Z"
   },
   {
    "duration": 31,
    "start_time": "2022-01-29T12:57:58.382Z"
   },
   {
    "duration": 5,
    "start_time": "2022-01-29T12:57:58.415Z"
   },
   {
    "duration": 8,
    "start_time": "2022-01-29T12:57:58.423Z"
   },
   {
    "duration": 37,
    "start_time": "2022-01-29T12:57:58.433Z"
   },
   {
    "duration": 11,
    "start_time": "2022-01-29T13:05:05.332Z"
   },
   {
    "duration": 7,
    "start_time": "2022-01-29T13:06:01.565Z"
   },
   {
    "duration": 12,
    "start_time": "2022-01-29T13:06:13.852Z"
   },
   {
    "duration": 40,
    "start_time": "2022-01-29T13:07:16.899Z"
   },
   {
    "duration": 8,
    "start_time": "2022-01-29T13:07:33.340Z"
   },
   {
    "duration": 62,
    "start_time": "2022-01-29T13:08:43.645Z"
   },
   {
    "duration": 20,
    "start_time": "2022-01-29T13:11:13.527Z"
   },
   {
    "duration": 39,
    "start_time": "2022-01-29T13:11:31.518Z"
   },
   {
    "duration": 6,
    "start_time": "2022-01-29T13:11:48.850Z"
   },
   {
    "duration": 7,
    "start_time": "2022-01-29T13:12:09.645Z"
   },
   {
    "duration": 341,
    "start_time": "2022-01-29T13:12:24.941Z"
   },
   {
    "duration": 325,
    "start_time": "2022-01-29T13:12:34.944Z"
   },
   {
    "duration": 8,
    "start_time": "2022-01-29T13:12:50.286Z"
   },
   {
    "duration": 291,
    "start_time": "2022-01-29T13:13:07.779Z"
   },
   {
    "duration": 301,
    "start_time": "2022-01-29T13:13:39.959Z"
   },
   {
    "duration": 284,
    "start_time": "2022-01-29T13:14:12.098Z"
   },
   {
    "duration": 9,
    "start_time": "2022-01-29T13:14:23.762Z"
   },
   {
    "duration": 25,
    "start_time": "2022-01-29T13:14:28.292Z"
   },
   {
    "duration": 24,
    "start_time": "2022-01-29T13:15:06.610Z"
   },
   {
    "duration": 293,
    "start_time": "2022-01-29T13:15:13.592Z"
   },
   {
    "duration": 24,
    "start_time": "2022-01-29T13:15:22.543Z"
   },
   {
    "duration": 25,
    "start_time": "2022-01-29T13:15:27.768Z"
   },
   {
    "duration": 25,
    "start_time": "2022-01-29T13:15:34.028Z"
   },
   {
    "duration": 22,
    "start_time": "2022-01-29T13:15:38.770Z"
   },
   {
    "duration": 442,
    "start_time": "2022-01-29T13:16:26.583Z"
   },
   {
    "duration": 193,
    "start_time": "2022-01-29T13:17:02.367Z"
   },
   {
    "duration": 323,
    "start_time": "2022-01-29T13:17:16.499Z"
   },
   {
    "duration": 5,
    "start_time": "2022-01-29T13:17:32.466Z"
   },
   {
    "duration": 438,
    "start_time": "2022-01-29T13:17:38.346Z"
   },
   {
    "duration": 728,
    "start_time": "2022-01-29T13:18:51.374Z"
   },
   {
    "duration": 279,
    "start_time": "2022-01-29T13:19:02.550Z"
   },
   {
    "duration": 5,
    "start_time": "2022-01-29T13:19:22.276Z"
   },
   {
    "duration": 444,
    "start_time": "2022-01-29T13:19:25.853Z"
   },
   {
    "duration": 445,
    "start_time": "2022-01-29T13:19:32.202Z"
   },
   {
    "duration": 453,
    "start_time": "2022-01-29T13:19:36.229Z"
   },
   {
    "duration": 621,
    "start_time": "2022-01-29T13:20:12.719Z"
   },
   {
    "duration": 591,
    "start_time": "2022-01-29T13:20:20.025Z"
   },
   {
    "duration": 802,
    "start_time": "2022-01-29T13:20:25.311Z"
   },
   {
    "duration": 359,
    "start_time": "2022-01-29T13:20:31.442Z"
   },
   {
    "duration": 426,
    "start_time": "2022-01-29T13:20:41.473Z"
   },
   {
    "duration": 785,
    "start_time": "2022-01-29T13:20:48.768Z"
   },
   {
    "duration": 520,
    "start_time": "2022-01-29T13:20:55.786Z"
   },
   {
    "duration": 6,
    "start_time": "2022-01-29T13:21:31.461Z"
   },
   {
    "duration": 431,
    "start_time": "2022-01-29T13:21:37.334Z"
   },
   {
    "duration": 633,
    "start_time": "2022-01-29T13:22:43.681Z"
   },
   {
    "duration": 606,
    "start_time": "2022-01-29T13:23:37.025Z"
   },
   {
    "duration": 644,
    "start_time": "2022-01-29T13:23:58.253Z"
   },
   {
    "duration": 5,
    "start_time": "2022-01-29T13:39:39.846Z"
   },
   {
    "duration": 41,
    "start_time": "2022-01-29T13:39:39.854Z"
   },
   {
    "duration": 12,
    "start_time": "2022-01-29T13:39:39.898Z"
   },
   {
    "duration": 10,
    "start_time": "2022-01-29T13:39:39.912Z"
   },
   {
    "duration": 50,
    "start_time": "2022-01-29T13:39:39.925Z"
   },
   {
    "duration": 6,
    "start_time": "2022-01-29T13:39:39.977Z"
   },
   {
    "duration": 7,
    "start_time": "2022-01-29T13:39:39.985Z"
   },
   {
    "duration": 13,
    "start_time": "2022-01-29T13:39:39.995Z"
   },
   {
    "duration": 12,
    "start_time": "2022-01-29T13:39:40.012Z"
   },
   {
    "duration": 48,
    "start_time": "2022-01-29T13:39:40.027Z"
   },
   {
    "duration": 469,
    "start_time": "2022-01-29T13:39:40.077Z"
   },
   {
    "duration": 530,
    "start_time": "2022-01-29T13:39:40.548Z"
   },
   {
    "duration": 483,
    "start_time": "2022-01-29T13:39:41.080Z"
   },
   {
    "duration": 486,
    "start_time": "2022-01-29T13:39:41.570Z"
   },
   {
    "duration": 581,
    "start_time": "2022-01-29T13:39:42.058Z"
   },
   {
    "duration": 6,
    "start_time": "2022-01-29T13:39:42.642Z"
   },
   {
    "duration": 23,
    "start_time": "2022-01-29T13:39:42.650Z"
   },
   {
    "duration": 19096,
    "start_time": "2022-01-29T13:39:42.675Z"
   },
   {
    "duration": 498,
    "start_time": "2022-01-29T13:40:01.773Z"
   },
   {
    "duration": 5,
    "start_time": "2022-01-29T13:40:02.274Z"
   },
   {
    "duration": 128682,
    "start_time": "2022-01-29T13:40:02.282Z"
   },
   {
    "duration": 8,
    "start_time": "2022-01-29T13:42:10.969Z"
   },
   {
    "duration": 23,
    "start_time": "2022-01-29T13:42:10.979Z"
   },
   {
    "duration": 6,
    "start_time": "2022-01-29T13:42:11.004Z"
   },
   {
    "duration": 8,
    "start_time": "2022-01-29T13:42:11.013Z"
   },
   {
    "duration": 48,
    "start_time": "2022-01-29T13:42:11.023Z"
   },
   {
    "duration": 22,
    "start_time": "2022-01-29T13:42:11.078Z"
   },
   {
    "duration": 656,
    "start_time": "2022-01-29T13:42:11.103Z"
   },
   {
    "duration": 795,
    "start_time": "2022-01-29T13:42:11.761Z"
   }
  ],
  "kernelspec": {
   "display_name": "Python 3 (ipykernel)",
   "language": "python",
   "name": "python3"
  },
  "language_info": {
   "codemirror_mode": {
    "name": "ipython",
    "version": 3
   },
   "file_extension": ".py",
   "mimetype": "text/x-python",
   "name": "python",
   "nbconvert_exporter": "python",
   "pygments_lexer": "ipython3",
   "version": "3.10.2"
  },
  "toc": {
   "base_numbering": 1,
   "nav_menu": {},
   "number_sections": true,
   "sideBar": true,
   "skip_h1_title": true,
   "title_cell": "Содержание",
   "title_sidebar": "Contents",
   "toc_cell": true,
   "toc_position": {},
   "toc_section_display": true,
   "toc_window_display": false
  }
 },
 "nbformat": 4,
 "nbformat_minor": 2
}

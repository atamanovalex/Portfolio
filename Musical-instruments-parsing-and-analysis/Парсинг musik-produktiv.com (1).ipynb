{
 "cells": [
  {
   "cell_type": "markdown",
   "metadata": {},
   "source": [
    "# Парсинг musik-produktiv.com"
   ]
  },
  {
   "cell_type": "markdown",
   "metadata": {},
   "source": [
    "Данные для проекта будут собраны с сайта musik-produktiv.com - немецкого интернет-магазина музыкальных инструментов. Для парсинга использована библиотека bs4 и ее модуль BeautifulSoup"
   ]
  },
  {
   "cell_type": "code",
   "execution_count": 1,
   "metadata": {},
   "outputs": [],
   "source": [
    "import requests\n",
    "from bs4 import BeautifulSoup\n",
    "import pandas as pd\n",
    "import numpy as np\n",
    "import copy"
   ]
  },
  {
   "cell_type": "markdown",
   "metadata": {},
   "source": [
    "## Парсинг"
   ]
  },
  {
   "cell_type": "markdown",
   "metadata": {},
   "source": [
    "Посмотрим на код первой страницы сайта."
   ]
  },
  {
   "cell_type": "code",
   "execution_count": 2,
   "metadata": {
    "scrolled": true
   },
   "outputs": [
    {
     "name": "stdout",
     "output_type": "stream",
     "text": [
      "<!DOCTYPE html>\n",
      "<html lang=\"ru-RU\">\n",
      " <head>\n",
      "  <title>\n",
      "   Бас-гитара | Musik Produktiv\n",
      "  </title>\n",
      "  <meta content=\"width=device-width, initial-scale=1\" name=\"viewport\"/>\n",
      "  <meta charset=\"utf-8\"/>\n",
      "  <link as=\"style\" href=\"https://sc1.musik-produktiv.com/css/mp-desktop-20220524-220658.min.css\" rel=\"preload\"/>\n",
      "  <link href=\"https://sc1.musik-produktiv.com/css/mp-desktop-20220524-220658.min.css\" rel=\"stylesheet\"/>\n",
      "  <link href=\"https://fonts.googleapis.com/css?family=Source+Sans+Pro:400,600&amp;subset=cyrillic&amp;display=block\" rel=\"stylesheet\"/>\n",
      "  <style>\n",
      "   .mp-sprite { background-image: url('https://sc1.musik-produktiv.com/img/css-sprites/online-shop-icons-20220226.png');}\n",
      "  </style>\n",
      "  <link href=\"/favicon.ico\" rel=\"shortcut icon\" type=\"image/x-icon\"/>\n",
      "  <script defer=\"\" src=\"https://sc1.musik-produktiv.com/js/mp-desktop-20220524-220658.min.js\">\n",
      "  </script>\n",
      "  <style>\n",
      "   .mp-sprite-sp { background-image: url('https://sc1.musik-produktiv.com/img/css-sprites/online-shop-sp-2018-12-19-ru.pn\n"
     ]
    }
   ],
   "source": [
    "response = requests.get('https://www.musik-produktiv.com/ru/bas-gitara/')\n",
    "soup = BeautifulSoup(response.text)\n",
    "#Выод на экран ограничен в этой и последующих ячейках ограничен по длине для читаемости ноутбука \n",
    "print(soup.prettify()[:1000])"
   ]
  },
  {
   "cell_type": "markdown",
   "metadata": {},
   "source": [
    "Для того чтобы получить данные об инструментах не только с первой страницы раздела \"бас-гитары\", но и с остальных, необходимо получить список ссылок на каждую страницу сайта. Контент раздела занимает 10 страниц, но на первой странице отображены страницы 1,2,3,4,5...10. \n",
    "\n",
    "Найдем в коде страницы ссылки на эти страницы сайта и дополним их недостающими страницами 6,7,8,9."
   ]
  },
  {
   "cell_type": "code",
   "execution_count": 3,
   "metadata": {},
   "outputs": [
    {
     "data": {
      "text/plain": [
       "['https://www.musik-produktiv.com/ru/bas-gitara/',\n",
       " 'https://www.musik-produktiv.com/ru/bas-gitara/?p=2',\n",
       " 'https://www.musik-produktiv.com/ru/bas-gitara/?p=3',\n",
       " 'https://www.musik-produktiv.com/ru/bas-gitara/?p=4',\n",
       " 'https://www.musik-produktiv.com/ru/bas-gitara/?p=5',\n",
       " 'https://www.musik-produktiv.com/ru/bas-gitara/?p=11']"
      ]
     },
     "execution_count": 3,
     "metadata": {},
     "output_type": "execute_result"
    }
   ],
   "source": [
    "response_pages = ['https://www.musik-produktiv.com/ru/bas-gitara/']\n",
    "for i in range(len(soup.select('div.list_page a'))):\n",
    "    response_pages.append(soup.select('div.list_page a')[i]['href'])\n",
    "response_pages"
   ]
  },
  {
   "cell_type": "code",
   "execution_count": 4,
   "metadata": {
    "scrolled": false
   },
   "outputs": [
    {
     "data": {
      "text/plain": [
       "['https://www.musik-produktiv.com/ru/bas-gitara/',\n",
       " 'https://www.musik-produktiv.com/ru/bas-gitara/?p=2',\n",
       " 'https://www.musik-produktiv.com/ru/bas-gitara/?p=3',\n",
       " 'https://www.musik-produktiv.com/ru/bas-gitara/?p=4',\n",
       " 'https://www.musik-produktiv.com/ru/bas-gitara/?p=5',\n",
       " 'https://www.musik-produktiv.com/ru/bas-gitara/?p=6',\n",
       " 'https://www.musik-produktiv.com/ru/bas-gitara/?p=7',\n",
       " 'https://www.musik-produktiv.com/ru/bas-gitara/?p=8',\n",
       " 'https://www.musik-produktiv.com/ru/bas-gitara/?p=9',\n",
       " 'https://www.musik-produktiv.com/ru/bas-gitara/?p=10']"
      ]
     },
     "execution_count": 4,
     "metadata": {},
     "output_type": "execute_result"
    }
   ],
   "source": [
    "response_pages = response_pages[:5]\n",
    "links = ['https://www.musik-produktiv.com/ru/bas-gitara/?p=6',\n",
    "        'https://www.musik-produktiv.com/ru/bas-gitara/?p=7',\n",
    "        'https://www.musik-produktiv.com/ru/bas-gitara/?p=8',\n",
    "        'https://www.musik-produktiv.com/ru/bas-gitara/?p=9',\n",
    "        'https://www.musik-produktiv.com/ru/bas-gitara/?p=10']\n",
    "for link in links:\n",
    "    response_pages.append(link)\n",
    "response_pages"
   ]
  },
  {
   "cell_type": "markdown",
   "metadata": {},
   "source": [
    "Список страниц готов. Пройдемся по каждой странице и вытащим из них названия бас-гитар. Названия находятся в классe \"main-right-4col\" внутри ограничителей 'li', 'b'"
   ]
  },
  {
   "cell_type": "code",
   "execution_count": 5,
   "metadata": {
    "scrolled": true
   },
   "outputs": [
    {
     "data": {
      "text/plain": [
       "['Höfner Ignition Club Bass VSB',\n",
       " 'Höfner Violin Ignition Bass SB',\n",
       " 'Ibanez miKro GSRM20 WNF',\n",
       " 'ESP LTD B-205 SM STBLKS',\n",
       " 'Ibanez Soundgear SR300E-SVM']"
      ]
     },
     "execution_count": 5,
     "metadata": {},
     "output_type": "execute_result"
    }
   ],
   "source": [
    "bass_name_list = []\n",
    "for link in response_pages:\n",
    "    response = requests.get(link)\n",
    "    soup = BeautifulSoup(response.text)\n",
    "    for bass in range(len(soup.select('div.main-right-4col li'))):\n",
    "        bass_name_list.append(soup.select('div.main-right-4col li b')[bass].text)\n",
    "bass_name_list[:5]"
   ]
  },
  {
   "cell_type": "markdown",
   "metadata": {},
   "source": [
    "Аналогично получим цены и ссылки на страницы продуктов."
   ]
  },
  {
   "cell_type": "code",
   "execution_count": 6,
   "metadata": {},
   "outputs": [
    {
     "data": {
      "text/plain": [
       "['₽ 25 388', '₽ 24 940', '₽ 14 711', '₽ 50 432', '₽ 25 316']"
      ]
     },
     "execution_count": 6,
     "metadata": {},
     "output_type": "execute_result"
    }
   ],
   "source": [
    "price_list = []\n",
    "for link in response_pages:\n",
    "    response = requests.get(link)\n",
    "    soup = BeautifulSoup(response.text)\n",
    "    for price in range(len(soup.select('div.main-right-4col li i'))):\n",
    "        price_list.append(soup.select('div.main-right-4col li i')[price].text)\n",
    "price_list[:5]"
   ]
  },
  {
   "cell_type": "markdown",
   "metadata": {},
   "source": [
    "Из цен уберем пробелы и знаки \"₽\"."
   ]
  },
  {
   "cell_type": "code",
   "execution_count": 7,
   "metadata": {},
   "outputs": [
    {
     "data": {
      "text/plain": [
       "['25388', '24940', '14711', '50432', '25316']"
      ]
     },
     "execution_count": 7,
     "metadata": {},
     "output_type": "execute_result"
    }
   ],
   "source": [
    "price_list_stripped = []\n",
    "for price in price_list:\n",
    "    price = price.replace('₽ ', '')\n",
    "    price = price.replace(' ', '')\n",
    "    price_list_stripped.append(price)\n",
    "price_list = price_list_stripped\n",
    "price_list[:5]"
   ]
  },
  {
   "cell_type": "code",
   "execution_count": 8,
   "metadata": {
    "scrolled": true
   },
   "outputs": [
    {
     "data": {
      "text/plain": [
       "['https://www.musik-produktiv.com/ru/hoefner-ignition-club-bass-vsb.html',\n",
       " 'https://www.musik-produktiv.com/ru/hoefner-violin-ignition-bass-sb.html',\n",
       " 'https://www.musik-produktiv.com/ru/ibanez-mikro-gsrm20-wnf.html',\n",
       " 'https://www.musik-produktiv.com/ru/esp-ltd-b-205-sm-stblks.html',\n",
       " 'https://www.musik-produktiv.com/ru/ibanez-soundgear-sr300e-svm.html']"
      ]
     },
     "execution_count": 8,
     "metadata": {},
     "output_type": "execute_result"
    }
   ],
   "source": [
    "bass_links_list = []\n",
    "for link in response_pages:\n",
    "    response = requests.get(link)\n",
    "    soup = BeautifulSoup(response.text)\n",
    "    for bass_link in range(len(soup.select('div.main-right-4col li'))):\n",
    "        bass_links_list.append(soup.select('div.main-right-4col li a')[bass_link]['href'])\n",
    "bass_links_list[:5]"
   ]
  },
  {
   "cell_type": "markdown",
   "metadata": {},
   "source": [
    "Теперь имея список ссылок на страницы продуктов зайдем на каждую из них и вытащим оттуда описания товаров. Посмотрим на случайную страницу товара и найдем в ней описание:"
   ]
  },
  {
   "cell_type": "code",
   "execution_count": 9,
   "metadata": {
    "scrolled": true
   },
   "outputs": [
    {
     "data": {
      "text/plain": [
       "'itemscope=\"\" itemtype=\"http://schema.org/ListItem\"><a href=\"https://www.musik-produktiv.com/ru/bas-gitara/sandberg/\" itemprop=\"item\" title=\"Sandberg\"><span itemprop=\"name\">Sandberg</span></a><meta content=\"3\" itemprop=\"position\"/></span><span itemprop=\"itemListElement\" itemscope=\"\" itemtype=\"http://schema.org/ListItem\"><span itemprop=\"name\">California TT4 MBLK RMN</span><meta content=\"https://www.musik-produktiv.com/ru/sandberg-california-tt4-mblk-rmn.html\" itemprop=\"item\"/><meta content=\"4\" itemprop=\"position\"/></span></div>\\n<div>\\n<div class=\"main-left-4col\">\\n<div class=\"product-image h-500\">\\n<img alt=\"Бас-гитара  Sandberg California TT4 MBLK RMN\" height=\"480\" src=\"https://sc1.musik-produktiv.com/img/clips/image-coming-soon-l.png\" title=\"Бас-гитара  Sandberg California TT4 MBLK RMN\" width=\"480\"/></div>\\n<div id=\"zoom-big\"></div>\\n<div class=\"product-info more-slider\">\\n<div class=\"more-slider-content h-500\">\\n<a class=\"markenlogo\" href=\"https://www.musik-produktiv.com/ru/sandberg/\" title=\"Sandberg\"><img alt=\"Sandberg\" height=\"50\" src=\"https://sc1.musik-produktiv.com/img/logos/brands/sandberg.png\" title=\"Sandberg\" width=\"160\"/></a>\\n<h1>Sandberg California TT4 MBLK RMN</h1>\\n<div>\\n<ul class=\"eigenschaften\">\\n<li>Форма корпуса: Форма \"Джаз бас\"</li>\\n<li>Материал корпуса: Ясень</li>\\n<li>Конструкция: Солид Бади</li>\\n<li>Цвет: Матовый чёрный</li>\\n<li>Конструкция грифа: Закреплён винтами</li>\\n<li>Мензура: Длинная</li>\\n<li>Длина мензуры: 34\" (864 мм)</li>\\n<li>Гриф: Подвергнутый спец. термической обработке т.н. \"жареный\" клён (\"Роустэд Мэйпл\")</li>\\n<li>Накладка грифа: Подвергнутый спец. термической обработке т.н. \"жареный\" клён (\"Роустэд Мэйпл\")</li>\\n<li>Количество ладов: 22</li>\\n<li>Маркеры (вкладыши) грифа: Боковые маркеры грифа</li>\\n<li>Число струн: четырёхструнная</li>\\n<li>Серийный номер униката: 36096</li>\\n<li>Типы звукоснимателей: 2 х J Стайл</li>\\n<li>Бриджевый звукосниматель: Зaндберг Элнико Сингл Койл</li>\\n<li>Встроенная электроника: Двухполосный эквалайзер</li>\\n<li>Элеме'"
      ]
     },
     "execution_count": 9,
     "metadata": {},
     "output_type": "execute_result"
    }
   ],
   "source": [
    "response = requests.get('https://www.musik-produktiv.com/ru/sandberg-california-tt4-mblk-rmn.html')\n",
    "soup = BeautifulSoup(response.text)\n",
    "str(soup)[18000:20000]"
   ]
  },
  {
   "cell_type": "markdown",
   "metadata": {},
   "source": [
    "Описание товара находится в классе \"eigenschaften\" внутри ограничителей \"li\". Пройдемся по каждому товару и вытащим описания всех товаров."
   ]
  },
  {
   "cell_type": "code",
   "execution_count": 10,
   "metadata": {
    "scrolled": true
   },
   "outputs": [
    {
     "data": {
      "text/plain": [
       "[['Форма корпуса: Битлз бас',\n",
       "  'Материал корпуса: Клён (мэйпл)',\n",
       "  'Дека: Ель',\n",
       "  'Конструкция: Полуакустическая (Семи Холлоу Бади)',\n",
       "  'Цвет: Винтэйдж Санберст',\n",
       "  'Конструкция грифа: Закреплён винтами',\n",
       "  'Мензура: Короткая',\n",
       "  'Длина мензуры: 30,5\" (777 мм)',\n",
       "  'Гриф: Трёхслойный клён/бук',\n",
       "  'Накладка грифа: Палисандр (розовое дерево)',\n",
       "  'Количество ладов: 22',\n",
       "  'Маркеры (вкладыши) грифа: Классические круглые',\n",
       "  'Число струн: четырёхструнная',\n",
       "  'Типы звукоснимателей: Хамбакер',\n",
       "  'Переключатель звукоснимателей: Переключатель типа слайд',\n",
       "  'Цвет фурнитуры: Никель',\n",
       "  'Страна производства: КНР'],\n",
       " ['Форма корпуса: Битлз бас',\n",
       "  'Материал корпуса: Клён (мэйпл)',\n",
       "  'Дека: Ель',\n",
       "  'Конструкция: Полуакустическая (Семи Холлоу Бади)',\n",
       "  'Цвет: Винтэйдж Санберст',\n",
       "  'Конструкция грифа: Вклеен в корпус',\n",
       "  'Мензура: Короткая',\n",
       "  'Длина мензуры: 30,5\" (777 мм)',\n",
       "  'Гриф: Трёхслойный клён/бук',\n",
       "  'Накладка грифа: Палисандр (розовое дерево)',\n",
       "  'Количество ладов: 22',\n",
       "  'Маркеры (вкладыши) грифа: Классические круглые',\n",
       "  'Число струн: четырёхструнная',\n",
       "  'Типы звукоснимателей: Соупбар',\n",
       "  'Звукосниматель грифа: Хофнер Игнишн Стэйпл Никел',\n",
       "  'Бриджевый звукосниматель: Хофнер Игнишн Стэйпл Никел',\n",
       "  'Элементы управления: 2 х громкость',\n",
       "  'Переключатель звукоснимателей: Переключатель типа слайд',\n",
       "  'Цвет фурнитуры: Никель',\n",
       "  'Страна производства: КНР'],\n",
       " ['Форма корпуса: Саундджиэр',\n",
       "  'Материал корпуса: Окоуме',\n",
       "  'Конструкция: Солид Бади',\n",
       "  'Цвет: Матовый орех',\n",
       "  'Конструкция грифа: Закреплён винтами',\n",
       "  'Мензура: Короткая',\n",
       "  'Длина мензуры: 28,63\" (727 мм)',\n",
       "  'Гриф: Клён (мэйпл)',\n",
       "  'Накладка грифа: Древесина новозеландской пинии',\n",
       "  'Количество ладов: 22',\n",
       "  'Маркеры (вкладыши) грифа: Классические круглые',\n",
       "  'Число струн: четырёхструнная',\n",
       "  'Типы звукоснимателей: 1 x P-Стайл + 1 x J-Стайл',\n",
       "  'Цвет фурнитуры: Хром',\n",
       "  'Страна производства: Индонезия']]"
      ]
     },
     "execution_count": 10,
     "metadata": {},
     "output_type": "execute_result"
    }
   ],
   "source": [
    "description = []\n",
    "for link in bass_links_list:\n",
    "    response = requests.get(link)\n",
    "    soup = BeautifulSoup(response.text)\n",
    "    desc = soup.select('ul.eigenschaften li')\n",
    "    for i in range(len(desc)):\n",
    "        desc[i] = desc[i].text\n",
    "    description.append(desc)\n",
    "description[:3]"
   ]
  },
  {
   "cell_type": "markdown",
   "metadata": {},
   "source": [
    "Убедимся, что признаки получены для всех товаров."
   ]
  },
  {
   "cell_type": "code",
   "execution_count": 11,
   "metadata": {
    "scrolled": true
   },
   "outputs": [
    {
     "name": "stdout",
     "output_type": "stream",
     "text": [
      "600\n",
      "600\n",
      "600\n",
      "600\n"
     ]
    }
   ],
   "source": [
    "print(len(bass_name_list))\n",
    "print(len(price_list))\n",
    "print(len(bass_links_list))\n",
    "print(len(description))"
   ]
  },
  {
   "cell_type": "markdown",
   "metadata": {},
   "source": [
    "## Приведение данных к табличному виду"
   ]
  },
  {
   "cell_type": "markdown",
   "metadata": {},
   "source": [
    "Чтобы получить таблицу, в которой каждый признак будет соответствовать нужному инструменту, приведем полученные данные в датафрейму, используя библиотеку \"Pandas\".\n",
    "Так как не каждое описание товара содержит все возможные признаки, необходимо провести подготовительную работу с описаниями товаров. Признаки и значения признака разделены двоеточием - разобьем их в разные колонки и посмотрим на то, насколько данные полные."
   ]
  },
  {
   "cell_type": "code",
   "execution_count": 12,
   "metadata": {},
   "outputs": [],
   "source": [
    "features = []\n",
    "for bass in description:\n",
    "    for item in bass:\n",
    "        feature, sep, value = item.partition(':')\n",
    "        features.append(feature)\n",
    "features = pd.Series(features)"
   ]
  },
  {
   "cell_type": "code",
   "execution_count": 13,
   "metadata": {
    "scrolled": false
   },
   "outputs": [
    {
     "data": {
      "text/plain": [
       "Число струн                                   598\n",
       "Цвет                                          595\n",
       "Конструкция                                   588\n",
       "Конструкция грифа                             588\n",
       "Мензура                                       587\n",
       "Длина мензуры                                 586\n",
       "Гриф                                          586\n",
       "Количество ладов                              583\n",
       "Накладка грифа                                581\n",
       "Материал корпуса                              580\n",
       "Цвет фурнитуры                                579\n",
       "Форма корпуса                                 569\n",
       "Маркеры (вкладыши) грифа                      543\n",
       "Типы звукоснимателей                          536\n",
       "Бриджевый звукосниматель                      518\n",
       "Страна производства                           474\n",
       "Звукосниматель грифа                          461\n",
       "Встроенная электроника                        406\n",
       "Элементы управления                           373\n",
       "В комплекте поставки                          308\n",
       "Толщина струн, установленных изготовителем    274\n",
       "Переключатель звукоснимателей                 256\n",
       "Отличительные особенности                     253\n",
       "Вес                                           177\n",
       "Дека                                          169\n",
       "Серийный номер униката                        160\n",
       "Средний звукосниматель                         63\n",
       "Поверхность                                    54\n",
       "dtype: int64"
      ]
     },
     "execution_count": 13,
     "metadata": {},
     "output_type": "execute_result"
    }
   ],
   "source": [
    "features.value_counts()"
   ]
  },
  {
   "cell_type": "markdown",
   "metadata": {},
   "source": [
    "Не все признаки несут ценность в определении стоимости - уберем ненужные. Список всех возможных значений сохраним в \"features\"."
   ]
  },
  {
   "cell_type": "code",
   "execution_count": 14,
   "metadata": {
    "scrolled": true
   },
   "outputs": [
    {
     "data": {
      "text/plain": [
       "['Форма корпуса',\n",
       " 'Материал корпуса',\n",
       " 'Дека',\n",
       " 'Конструкция',\n",
       " 'Конструкция грифа',\n",
       " 'Мензура',\n",
       " 'Длина мензуры',\n",
       " 'Гриф',\n",
       " 'Накладка грифа',\n",
       " 'Количество ладов',\n",
       " 'Число струн',\n",
       " 'Типы звукоснимателей',\n",
       " 'Страна производства',\n",
       " 'Звукосниматель грифа',\n",
       " 'Бриджевый звукосниматель',\n",
       " 'Встроенная электроника',\n",
       " 'Средний звукосниматель']"
      ]
     },
     "execution_count": 14,
     "metadata": {},
     "output_type": "execute_result"
    }
   ],
   "source": [
    "features = list(features.unique())\n",
    "\n",
    "unnecessary_values = ['Цвет',\n",
    "             'Цвет фурнитуры',\n",
    "             'Маркеры (вкладыши) грифа',\n",
    "             'Элементы управления',\n",
    "             'В комплекте поставки',\n",
    "             'Переключатель звукоснимателей',\n",
    "             'Отличительные особенности',\n",
    "             'Толщина струн, установленных изготовителем',\n",
    "             'Вес',\n",
    "             'Серийный номер униката',\n",
    "             'Поверхность']\n",
    "\n",
    "for value in unnecessary_values:\n",
    "    features.remove(value)\n",
    "\n",
    "features"
   ]
  },
  {
   "cell_type": "code",
   "execution_count": 15,
   "metadata": {},
   "outputs": [],
   "source": [
    "for i in range(len(features)):\n",
    "    for bass in description:\n",
    "        for item in bass:\n",
    "            feature, sep, value = item.partition(':')\n",
    "            if feature not in features:\n",
    "                bass.remove(item)"
   ]
  },
  {
   "cell_type": "markdown",
   "metadata": {},
   "source": [
    "В \"features_bass\" добавим названия признаков каждой бас-гитары, а в \"values_bass\" добавим соответствующие значения признаков."
   ]
  },
  {
   "cell_type": "code",
   "execution_count": 16,
   "metadata": {},
   "outputs": [],
   "source": [
    "features_bass = []\n",
    "values_bass = []\n",
    "for bass in range(len(description)):\n",
    "    features_bass.append([])\n",
    "    values_bass.append([])\n",
    "    for i in range(len(description[bass])):\n",
    "        feature, sep, value = description[bass][i].partition(': ')\n",
    "        features_bass[bass].append(feature)\n",
    "        values_bass[bass].append(value)"
   ]
  },
  {
   "cell_type": "code",
   "execution_count": 17,
   "metadata": {
    "scrolled": true
   },
   "outputs": [
    {
     "data": {
      "text/plain": [
       "[['Форма корпуса',\n",
       "  'Материал корпуса',\n",
       "  'Дека',\n",
       "  'Конструкция',\n",
       "  'Конструкция грифа',\n",
       "  'Мензура',\n",
       "  'Длина мензуры',\n",
       "  'Гриф',\n",
       "  'Накладка грифа',\n",
       "  'Количество ладов',\n",
       "  'Число струн',\n",
       "  'Типы звукоснимателей',\n",
       "  'Страна производства'],\n",
       " ['Форма корпуса',\n",
       "  'Материал корпуса',\n",
       "  'Дека',\n",
       "  'Конструкция',\n",
       "  'Конструкция грифа',\n",
       "  'Мензура',\n",
       "  'Длина мензуры',\n",
       "  'Гриф',\n",
       "  'Накладка грифа',\n",
       "  'Количество ладов',\n",
       "  'Число струн',\n",
       "  'Типы звукоснимателей',\n",
       "  'Звукосниматель грифа',\n",
       "  'Бриджевый звукосниматель',\n",
       "  'Страна производства'],\n",
       " ['Форма корпуса',\n",
       "  'Материал корпуса',\n",
       "  'Конструкция',\n",
       "  'Конструкция грифа',\n",
       "  'Мензура',\n",
       "  'Длина мензуры',\n",
       "  'Гриф',\n",
       "  'Накладка грифа',\n",
       "  'Количество ладов',\n",
       "  'Число струн',\n",
       "  'Типы звукоснимателей',\n",
       "  'Страна производства']]"
      ]
     },
     "execution_count": 17,
     "metadata": {},
     "output_type": "execute_result"
    }
   ],
   "source": [
    "features_bass[:3]"
   ]
  },
  {
   "cell_type": "code",
   "execution_count": 18,
   "metadata": {
    "scrolled": true
   },
   "outputs": [
    {
     "data": {
      "text/plain": [
       "[['Битлз бас',\n",
       "  'Клён (мэйпл)',\n",
       "  'Ель',\n",
       "  'Полуакустическая (Семи Холлоу Бади)',\n",
       "  'Закреплён винтами',\n",
       "  'Короткая',\n",
       "  '30,5\" (777 мм)',\n",
       "  'Трёхслойный клён/бук',\n",
       "  'Палисандр (розовое дерево)',\n",
       "  '22',\n",
       "  'четырёхструнная',\n",
       "  'Хамбакер',\n",
       "  'КНР'],\n",
       " ['Битлз бас',\n",
       "  'Клён (мэйпл)',\n",
       "  'Ель',\n",
       "  'Полуакустическая (Семи Холлоу Бади)',\n",
       "  'Вклеен в корпус',\n",
       "  'Короткая',\n",
       "  '30,5\" (777 мм)',\n",
       "  'Трёхслойный клён/бук',\n",
       "  'Палисандр (розовое дерево)',\n",
       "  '22',\n",
       "  'четырёхструнная',\n",
       "  'Соупбар',\n",
       "  'Хофнер Игнишн Стэйпл Никел',\n",
       "  'Хофнер Игнишн Стэйпл Никел',\n",
       "  'КНР'],\n",
       " ['Саундджиэр',\n",
       "  'Окоуме',\n",
       "  'Солид Бади',\n",
       "  'Закреплён винтами',\n",
       "  'Короткая',\n",
       "  '28,63\" (727 мм)',\n",
       "  'Клён (мэйпл)',\n",
       "  'Древесина новозеландской пинии',\n",
       "  '22',\n",
       "  'четырёхструнная',\n",
       "  '1 x P-Стайл + 1 x J-Стайл',\n",
       "  'Индонезия']]"
      ]
     },
     "execution_count": 18,
     "metadata": {},
     "output_type": "execute_result"
    }
   ],
   "source": [
    "values_bass[:3]"
   ]
  },
  {
   "cell_type": "markdown",
   "metadata": {},
   "source": [
    "Представим список всех возможных признаков \"features\" в виде датафрейма \"features_df\""
   ]
  },
  {
   "cell_type": "code",
   "execution_count": 19,
   "metadata": {
    "scrolled": true
   },
   "outputs": [
    {
     "data": {
      "text/html": [
       "<div>\n",
       "<style scoped>\n",
       "    .dataframe tbody tr th:only-of-type {\n",
       "        vertical-align: middle;\n",
       "    }\n",
       "\n",
       "    .dataframe tbody tr th {\n",
       "        vertical-align: top;\n",
       "    }\n",
       "\n",
       "    .dataframe thead th {\n",
       "        text-align: right;\n",
       "    }\n",
       "</style>\n",
       "<table border=\"1\" class=\"dataframe\">\n",
       "  <thead>\n",
       "    <tr style=\"text-align: right;\">\n",
       "      <th></th>\n",
       "      <th>features_bass</th>\n",
       "    </tr>\n",
       "  </thead>\n",
       "  <tbody>\n",
       "    <tr>\n",
       "      <th>0</th>\n",
       "      <td>Форма корпуса</td>\n",
       "    </tr>\n",
       "    <tr>\n",
       "      <th>1</th>\n",
       "      <td>Материал корпуса</td>\n",
       "    </tr>\n",
       "    <tr>\n",
       "      <th>2</th>\n",
       "      <td>Дека</td>\n",
       "    </tr>\n",
       "    <tr>\n",
       "      <th>3</th>\n",
       "      <td>Конструкция</td>\n",
       "    </tr>\n",
       "    <tr>\n",
       "      <th>4</th>\n",
       "      <td>Конструкция грифа</td>\n",
       "    </tr>\n",
       "    <tr>\n",
       "      <th>5</th>\n",
       "      <td>Мензура</td>\n",
       "    </tr>\n",
       "    <tr>\n",
       "      <th>6</th>\n",
       "      <td>Длина мензуры</td>\n",
       "    </tr>\n",
       "    <tr>\n",
       "      <th>7</th>\n",
       "      <td>Гриф</td>\n",
       "    </tr>\n",
       "    <tr>\n",
       "      <th>8</th>\n",
       "      <td>Накладка грифа</td>\n",
       "    </tr>\n",
       "    <tr>\n",
       "      <th>9</th>\n",
       "      <td>Количество ладов</td>\n",
       "    </tr>\n",
       "    <tr>\n",
       "      <th>10</th>\n",
       "      <td>Число струн</td>\n",
       "    </tr>\n",
       "    <tr>\n",
       "      <th>11</th>\n",
       "      <td>Типы звукоснимателей</td>\n",
       "    </tr>\n",
       "    <tr>\n",
       "      <th>12</th>\n",
       "      <td>Страна производства</td>\n",
       "    </tr>\n",
       "    <tr>\n",
       "      <th>13</th>\n",
       "      <td>Звукосниматель грифа</td>\n",
       "    </tr>\n",
       "    <tr>\n",
       "      <th>14</th>\n",
       "      <td>Бриджевый звукосниматель</td>\n",
       "    </tr>\n",
       "    <tr>\n",
       "      <th>15</th>\n",
       "      <td>Встроенная электроника</td>\n",
       "    </tr>\n",
       "    <tr>\n",
       "      <th>16</th>\n",
       "      <td>Средний звукосниматель</td>\n",
       "    </tr>\n",
       "  </tbody>\n",
       "</table>\n",
       "</div>"
      ],
      "text/plain": [
       "               features_bass\n",
       "0              Форма корпуса\n",
       "1           Материал корпуса\n",
       "2                       Дека\n",
       "3                Конструкция\n",
       "4          Конструкция грифа\n",
       "5                    Мензура\n",
       "6              Длина мензуры\n",
       "7                       Гриф\n",
       "8             Накладка грифа\n",
       "9           Количество ладов\n",
       "10               Число струн\n",
       "11      Типы звукоснимателей\n",
       "12       Страна производства\n",
       "13      Звукосниматель грифа\n",
       "14  Бриджевый звукосниматель\n",
       "15    Встроенная электроника\n",
       "16    Средний звукосниматель"
      ]
     },
     "execution_count": 19,
     "metadata": {},
     "output_type": "execute_result"
    }
   ],
   "source": [
    "features_df = pd.DataFrame({'features_bass' : features})\n",
    "features_df"
   ]
  },
  {
   "cell_type": "markdown",
   "metadata": {},
   "source": [
    "Для каждого из 600 инструментов создадим датафрейм, в котором в левом столбце окажутся все возможные признаки (соответствуют списку features_df), а в правом - все значения конкретного инструмента. Там, где признаку не будет соответствовать никакое значение - будет значение \"Nan\". И заменим значения в values_bass правым столбцом датафрейма."
   ]
  },
  {
   "cell_type": "code",
   "execution_count": 20,
   "metadata": {},
   "outputs": [],
   "source": [
    "for i in range(len(values_bass)):\n",
    "    df = pd.DataFrame({'features_bass' : features_bass[i], 'values_bass' : values_bass[i]})\n",
    "    df = pd.merge(features_df, df, how = 'outer')\n",
    "    values_bass[i].clear()\n",
    "    values_bass[i].append(list(df['values_bass']))\n",
    "for i in range(len(values_bass)):\n",
    "    values_bass[i] = values_bass[i][0]"
   ]
  },
  {
   "cell_type": "code",
   "execution_count": 21,
   "metadata": {},
   "outputs": [
    {
     "data": {
      "text/plain": [
       "[['Битлз бас',\n",
       "  'Клён (мэйпл)',\n",
       "  'Ель',\n",
       "  'Полуакустическая (Семи Холлоу Бади)',\n",
       "  'Закреплён винтами',\n",
       "  'Короткая',\n",
       "  '30,5\" (777 мм)',\n",
       "  'Трёхслойный клён/бук',\n",
       "  'Палисандр (розовое дерево)',\n",
       "  '22',\n",
       "  'четырёхструнная',\n",
       "  'Хамбакер',\n",
       "  'КНР',\n",
       "  nan,\n",
       "  nan,\n",
       "  nan,\n",
       "  nan],\n",
       " ['Битлз бас',\n",
       "  'Клён (мэйпл)',\n",
       "  'Ель',\n",
       "  'Полуакустическая (Семи Холлоу Бади)',\n",
       "  'Вклеен в корпус',\n",
       "  'Короткая',\n",
       "  '30,5\" (777 мм)',\n",
       "  'Трёхслойный клён/бук',\n",
       "  'Палисандр (розовое дерево)',\n",
       "  '22',\n",
       "  'четырёхструнная',\n",
       "  'Соупбар',\n",
       "  'КНР',\n",
       "  'Хофнер Игнишн Стэйпл Никел',\n",
       "  'Хофнер Игнишн Стэйпл Никел',\n",
       "  nan,\n",
       "  nan],\n",
       " ['Саундджиэр',\n",
       "  'Окоуме',\n",
       "  nan,\n",
       "  'Солид Бади',\n",
       "  'Закреплён винтами',\n",
       "  'Короткая',\n",
       "  '28,63\" (727 мм)',\n",
       "  'Клён (мэйпл)',\n",
       "  'Древесина новозеландской пинии',\n",
       "  '22',\n",
       "  'четырёхструнная',\n",
       "  '1 x P-Стайл + 1 x J-Стайл',\n",
       "  'Индонезия',\n",
       "  nan,\n",
       "  nan,\n",
       "  nan,\n",
       "  nan]]"
      ]
     },
     "execution_count": 21,
     "metadata": {},
     "output_type": "execute_result"
    }
   ],
   "source": [
    "values_bass[:3]"
   ]
  },
  {
   "cell_type": "code",
   "execution_count": 22,
   "metadata": {
    "scrolled": true
   },
   "outputs": [
    {
     "data": {
      "text/plain": [
       "600"
      ]
     },
     "execution_count": 22,
     "metadata": {},
     "output_type": "execute_result"
    }
   ],
   "source": [
    "len(values_bass)"
   ]
  },
  {
   "cell_type": "markdown",
   "metadata": {},
   "source": [
    "Проверим, что описание каждого инструмента включает в себя все 17 признаков."
   ]
  },
  {
   "cell_type": "code",
   "execution_count": 23,
   "metadata": {},
   "outputs": [],
   "source": [
    "summa = 0\n",
    "for i in range(len(values_bass)):\n",
    "    if len(values_bass[i]) != 17:\n",
    "        summa += 1"
   ]
  },
  {
   "cell_type": "code",
   "execution_count": 24,
   "metadata": {
    "scrolled": true
   },
   "outputs": [
    {
     "data": {
      "text/plain": [
       "0"
      ]
     },
     "execution_count": 24,
     "metadata": {},
     "output_type": "execute_result"
    }
   ],
   "source": [
    "summa"
   ]
  },
  {
   "cell_type": "markdown",
   "metadata": {},
   "source": [
    "Создадим датафрейм \"description_df\", в котором строками будут инструменты, а столбцами - признаки."
   ]
  },
  {
   "cell_type": "code",
   "execution_count": 25,
   "metadata": {},
   "outputs": [],
   "source": [
    "description_df = pd.DataFrame(data = np.array(values_bass), columns = features)"
   ]
  },
  {
   "cell_type": "code",
   "execution_count": 26,
   "metadata": {
    "scrolled": true
   },
   "outputs": [
    {
     "data": {
      "text/html": [
       "<div>\n",
       "<style scoped>\n",
       "    .dataframe tbody tr th:only-of-type {\n",
       "        vertical-align: middle;\n",
       "    }\n",
       "\n",
       "    .dataframe tbody tr th {\n",
       "        vertical-align: top;\n",
       "    }\n",
       "\n",
       "    .dataframe thead th {\n",
       "        text-align: right;\n",
       "    }\n",
       "</style>\n",
       "<table border=\"1\" class=\"dataframe\">\n",
       "  <thead>\n",
       "    <tr style=\"text-align: right;\">\n",
       "      <th></th>\n",
       "      <th>Форма корпуса</th>\n",
       "      <th>Материал корпуса</th>\n",
       "      <th>Дека</th>\n",
       "      <th>Конструкция</th>\n",
       "      <th>Конструкция грифа</th>\n",
       "      <th>Мензура</th>\n",
       "      <th>Длина мензуры</th>\n",
       "      <th>Гриф</th>\n",
       "      <th>Накладка грифа</th>\n",
       "      <th>Количество ладов</th>\n",
       "      <th>Число струн</th>\n",
       "      <th>Типы звукоснимателей</th>\n",
       "      <th>Страна производства</th>\n",
       "      <th>Звукосниматель грифа</th>\n",
       "      <th>Бриджевый звукосниматель</th>\n",
       "      <th>Встроенная электроника</th>\n",
       "      <th>Средний звукосниматель</th>\n",
       "    </tr>\n",
       "  </thead>\n",
       "  <tbody>\n",
       "    <tr>\n",
       "      <th>0</th>\n",
       "      <td>Битлз бас</td>\n",
       "      <td>Клён (мэйпл)</td>\n",
       "      <td>Ель</td>\n",
       "      <td>Полуакустическая (Семи Холлоу Бади)</td>\n",
       "      <td>Закреплён винтами</td>\n",
       "      <td>Короткая</td>\n",
       "      <td>30,5\" (777 мм)</td>\n",
       "      <td>Трёхслойный клён/бук</td>\n",
       "      <td>Палисандр (розовое дерево)</td>\n",
       "      <td>22</td>\n",
       "      <td>четырёхструнная</td>\n",
       "      <td>Хамбакер</td>\n",
       "      <td>КНР</td>\n",
       "      <td>nan</td>\n",
       "      <td>nan</td>\n",
       "      <td>nan</td>\n",
       "      <td>nan</td>\n",
       "    </tr>\n",
       "    <tr>\n",
       "      <th>1</th>\n",
       "      <td>Битлз бас</td>\n",
       "      <td>Клён (мэйпл)</td>\n",
       "      <td>Ель</td>\n",
       "      <td>Полуакустическая (Семи Холлоу Бади)</td>\n",
       "      <td>Вклеен в корпус</td>\n",
       "      <td>Короткая</td>\n",
       "      <td>30,5\" (777 мм)</td>\n",
       "      <td>Трёхслойный клён/бук</td>\n",
       "      <td>Палисандр (розовое дерево)</td>\n",
       "      <td>22</td>\n",
       "      <td>четырёхструнная</td>\n",
       "      <td>Соупбар</td>\n",
       "      <td>КНР</td>\n",
       "      <td>Хофнер Игнишн Стэйпл Никел</td>\n",
       "      <td>Хофнер Игнишн Стэйпл Никел</td>\n",
       "      <td>nan</td>\n",
       "      <td>nan</td>\n",
       "    </tr>\n",
       "    <tr>\n",
       "      <th>2</th>\n",
       "      <td>Саундджиэр</td>\n",
       "      <td>Окоуме</td>\n",
       "      <td>nan</td>\n",
       "      <td>Солид Бади</td>\n",
       "      <td>Закреплён винтами</td>\n",
       "      <td>Короткая</td>\n",
       "      <td>28,63\" (727 мм)</td>\n",
       "      <td>Клён (мэйпл)</td>\n",
       "      <td>Древесина новозеландской пинии</td>\n",
       "      <td>22</td>\n",
       "      <td>четырёхструнная</td>\n",
       "      <td>1 x P-Стайл + 1 x J-Стайл</td>\n",
       "      <td>Индонезия</td>\n",
       "      <td>nan</td>\n",
       "      <td>nan</td>\n",
       "      <td>nan</td>\n",
       "      <td>nan</td>\n",
       "    </tr>\n",
       "    <tr>\n",
       "      <th>3</th>\n",
       "      <td>Форма \"Даблкатэвей\"</td>\n",
       "      <td>Ясень</td>\n",
       "      <td>Клён, расщеплённый (неповторимый эффект)</td>\n",
       "      <td>Солид Бади</td>\n",
       "      <td>Закреплён винтами</td>\n",
       "      <td>Длинная</td>\n",
       "      <td>34\" (864 мм)</td>\n",
       "      <td>Пятислойный клён/орех</td>\n",
       "      <td>Палисандр (розовое дерево)</td>\n",
       "      <td>24</td>\n",
       "      <td>пятиструнная</td>\n",
       "      <td>Хамбакер</td>\n",
       "      <td>Индонезия</td>\n",
       "      <td>ESP дизайнд SB-5N</td>\n",
       "      <td>ESP дизайнд SB-5B</td>\n",
       "      <td>Трёхполосный эквалайзер</td>\n",
       "      <td>nan</td>\n",
       "    </tr>\n",
       "    <tr>\n",
       "      <th>4</th>\n",
       "      <td>Саундджиэр</td>\n",
       "      <td>Нато (Ньято / Мора)</td>\n",
       "      <td>nan</td>\n",
       "      <td>Солид Бади</td>\n",
       "      <td>Закреплён винтами</td>\n",
       "      <td>Длинная</td>\n",
       "      <td>34\" (864 мм)</td>\n",
       "      <td>Пятислойный клён/орех</td>\n",
       "      <td>Ятоба</td>\n",
       "      <td>24</td>\n",
       "      <td>четырёхструнная</td>\n",
       "      <td>Хамбакер</td>\n",
       "      <td>Индонезия</td>\n",
       "      <td>Пауэр Спэн дуал койл пикап</td>\n",
       "      <td>Пауэр Спэн дуал койл пикап</td>\n",
       "      <td>Трёхполосный эквалайзер</td>\n",
       "      <td>nan</td>\n",
       "    </tr>\n",
       "    <tr>\n",
       "      <th>...</th>\n",
       "      <td>...</td>\n",
       "      <td>...</td>\n",
       "      <td>...</td>\n",
       "      <td>...</td>\n",
       "      <td>...</td>\n",
       "      <td>...</td>\n",
       "      <td>...</td>\n",
       "      <td>...</td>\n",
       "      <td>...</td>\n",
       "      <td>...</td>\n",
       "      <td>...</td>\n",
       "      <td>...</td>\n",
       "      <td>...</td>\n",
       "      <td>...</td>\n",
       "      <td>...</td>\n",
       "      <td>...</td>\n",
       "      <td>...</td>\n",
       "    </tr>\n",
       "    <tr>\n",
       "      <th>595</th>\n",
       "      <td>Спектор</td>\n",
       "      <td>Нато (Ньято / Мора)</td>\n",
       "      <td>nan</td>\n",
       "      <td>Солид Бади</td>\n",
       "      <td>Закреплён винтами</td>\n",
       "      <td>Длинная</td>\n",
       "      <td>34\" (864 мм)</td>\n",
       "      <td>Трёхслойный клён</td>\n",
       "      <td>Амарант</td>\n",
       "      <td>24</td>\n",
       "      <td>четырёхструнная</td>\n",
       "      <td>1 x P-Стайл + 1 x J-Стайл</td>\n",
       "      <td>КНР</td>\n",
       "      <td>nan</td>\n",
       "      <td>Спектор Джи</td>\n",
       "      <td>nan</td>\n",
       "      <td>Спектор P</td>\n",
       "    </tr>\n",
       "    <tr>\n",
       "      <th>596</th>\n",
       "      <td>Спектор</td>\n",
       "      <td>Нато (Ньято / Мора)</td>\n",
       "      <td>nan</td>\n",
       "      <td>Солид Бади</td>\n",
       "      <td>Закреплён винтами</td>\n",
       "      <td>Сверхдлинная</td>\n",
       "      <td>35\" (889 мм)</td>\n",
       "      <td>Трёхслойный клён</td>\n",
       "      <td>Амарант</td>\n",
       "      <td>24</td>\n",
       "      <td>пятиструнная</td>\n",
       "      <td>Хамбакер</td>\n",
       "      <td>КНР</td>\n",
       "      <td>Спектор Хамбакер</td>\n",
       "      <td>Спектор Хамбакер</td>\n",
       "      <td>nan</td>\n",
       "      <td>Спектор P</td>\n",
       "    </tr>\n",
       "    <tr>\n",
       "      <th>597</th>\n",
       "      <td>Форма \"Стинг рэй\"</td>\n",
       "      <td>Махагони</td>\n",
       "      <td>nan</td>\n",
       "      <td>Солид Бади</td>\n",
       "      <td>Закреплён винтами</td>\n",
       "      <td>Длинная</td>\n",
       "      <td>34\" (864 мм)</td>\n",
       "      <td>Клён (мэйпл)</td>\n",
       "      <td>Клён (мэйпл)</td>\n",
       "      <td>21</td>\n",
       "      <td>четырёхструнная</td>\n",
       "      <td>Форма ММ</td>\n",
       "      <td>Индонезия</td>\n",
       "      <td>nan</td>\n",
       "      <td>Керамический Хамбакер</td>\n",
       "      <td>Двухполосный эквалайзер</td>\n",
       "      <td>nan</td>\n",
       "    </tr>\n",
       "    <tr>\n",
       "      <th>598</th>\n",
       "      <td>Форма \"Стинг рэй\"</td>\n",
       "      <td>Махагони</td>\n",
       "      <td>nan</td>\n",
       "      <td>Солид Бади</td>\n",
       "      <td>Закреплён винтами</td>\n",
       "      <td>Длинная</td>\n",
       "      <td>34\" (864 мм)</td>\n",
       "      <td>Клён (мэйпл)</td>\n",
       "      <td>Розовое дерево/палисандр</td>\n",
       "      <td>21</td>\n",
       "      <td>четырёхструнная</td>\n",
       "      <td>Форма ММ</td>\n",
       "      <td>Индонезия</td>\n",
       "      <td>nan</td>\n",
       "      <td>Керамический Хамбакер</td>\n",
       "      <td>Двухполосный эквалайзер</td>\n",
       "      <td>nan</td>\n",
       "    </tr>\n",
       "    <tr>\n",
       "      <th>599</th>\n",
       "      <td>Форма \"Стинг рэй\"</td>\n",
       "      <td>Махагони</td>\n",
       "      <td>nan</td>\n",
       "      <td>Солид Бади</td>\n",
       "      <td>Закреплён винтами</td>\n",
       "      <td>Длинная</td>\n",
       "      <td>34\" (864 мм)</td>\n",
       "      <td>Подвергнутый спец. термической обработке т.н. ...</td>\n",
       "      <td>Клён (мэйпл)</td>\n",
       "      <td>21</td>\n",
       "      <td>четырёхструнная</td>\n",
       "      <td>Форма ММ</td>\n",
       "      <td>Индонезия</td>\n",
       "      <td>nan</td>\n",
       "      <td>Керамический Хамбакер</td>\n",
       "      <td>Трёхполосный эквалайзер</td>\n",
       "      <td>nan</td>\n",
       "    </tr>\n",
       "  </tbody>\n",
       "</table>\n",
       "<p>600 rows × 17 columns</p>\n",
       "</div>"
      ],
      "text/plain": [
       "           Форма корпуса     Материал корпуса  \\\n",
       "0              Битлз бас         Клён (мэйпл)   \n",
       "1              Битлз бас         Клён (мэйпл)   \n",
       "2             Саундджиэр               Окоуме   \n",
       "3    Форма \"Даблкатэвей\"                Ясень   \n",
       "4             Саундджиэр  Нато (Ньято / Мора)   \n",
       "..                   ...                  ...   \n",
       "595              Спектор  Нато (Ньято / Мора)   \n",
       "596              Спектор  Нато (Ньято / Мора)   \n",
       "597    Форма \"Стинг рэй\"             Махагони   \n",
       "598    Форма \"Стинг рэй\"             Махагони   \n",
       "599    Форма \"Стинг рэй\"             Махагони   \n",
       "\n",
       "                                         Дека  \\\n",
       "0                                         Ель   \n",
       "1                                         Ель   \n",
       "2                                         nan   \n",
       "3    Клён, расщеплённый (неповторимый эффект)   \n",
       "4                                         nan   \n",
       "..                                        ...   \n",
       "595                                       nan   \n",
       "596                                       nan   \n",
       "597                                       nan   \n",
       "598                                       nan   \n",
       "599                                       nan   \n",
       "\n",
       "                             Конструкция  Конструкция грифа       Мензура  \\\n",
       "0    Полуакустическая (Семи Холлоу Бади)  Закреплён винтами      Короткая   \n",
       "1    Полуакустическая (Семи Холлоу Бади)    Вклеен в корпус      Короткая   \n",
       "2                             Солид Бади  Закреплён винтами      Короткая   \n",
       "3                             Солид Бади  Закреплён винтами       Длинная   \n",
       "4                             Солид Бади  Закреплён винтами       Длинная   \n",
       "..                                   ...                ...           ...   \n",
       "595                           Солид Бади  Закреплён винтами       Длинная   \n",
       "596                           Солид Бади  Закреплён винтами  Сверхдлинная   \n",
       "597                           Солид Бади  Закреплён винтами       Длинная   \n",
       "598                           Солид Бади  Закреплён винтами       Длинная   \n",
       "599                           Солид Бади  Закреплён винтами       Длинная   \n",
       "\n",
       "       Длина мензуры                                               Гриф  \\\n",
       "0     30,5\" (777 мм)                               Трёхслойный клён/бук   \n",
       "1     30,5\" (777 мм)                               Трёхслойный клён/бук   \n",
       "2    28,63\" (727 мм)                                       Клён (мэйпл)   \n",
       "3       34\" (864 мм)                              Пятислойный клён/орех   \n",
       "4       34\" (864 мм)                              Пятислойный клён/орех   \n",
       "..               ...                                                ...   \n",
       "595     34\" (864 мм)                                   Трёхслойный клён   \n",
       "596     35\" (889 мм)                                   Трёхслойный клён   \n",
       "597     34\" (864 мм)                                       Клён (мэйпл)   \n",
       "598     34\" (864 мм)                                       Клён (мэйпл)   \n",
       "599     34\" (864 мм)  Подвергнутый спец. термической обработке т.н. ...   \n",
       "\n",
       "                     Накладка грифа Количество ладов      Число струн  \\\n",
       "0        Палисандр (розовое дерево)               22  четырёхструнная   \n",
       "1        Палисандр (розовое дерево)               22  четырёхструнная   \n",
       "2    Древесина новозеландской пинии               22  четырёхструнная   \n",
       "3        Палисандр (розовое дерево)               24     пятиструнная   \n",
       "4                             Ятоба               24  четырёхструнная   \n",
       "..                              ...              ...              ...   \n",
       "595                         Амарант               24  четырёхструнная   \n",
       "596                         Амарант               24     пятиструнная   \n",
       "597                    Клён (мэйпл)               21  четырёхструнная   \n",
       "598        Розовое дерево/палисандр               21  четырёхструнная   \n",
       "599                    Клён (мэйпл)               21  четырёхструнная   \n",
       "\n",
       "          Типы звукоснимателей Страна производства  \\\n",
       "0                     Хамбакер                 КНР   \n",
       "1                      Соупбар                 КНР   \n",
       "2    1 x P-Стайл + 1 x J-Стайл           Индонезия   \n",
       "3                     Хамбакер           Индонезия   \n",
       "4                     Хамбакер           Индонезия   \n",
       "..                         ...                 ...   \n",
       "595  1 x P-Стайл + 1 x J-Стайл                 КНР   \n",
       "596                   Хамбакер                 КНР   \n",
       "597                   Форма ММ           Индонезия   \n",
       "598                   Форма ММ           Индонезия   \n",
       "599                   Форма ММ           Индонезия   \n",
       "\n",
       "           Звукосниматель грифа    Бриджевый звукосниматель  \\\n",
       "0                           nan                         nan   \n",
       "1    Хофнер Игнишн Стэйпл Никел  Хофнер Игнишн Стэйпл Никел   \n",
       "2                           nan                         nan   \n",
       "3             ESP дизайнд SB-5N           ESP дизайнд SB-5B   \n",
       "4    Пауэр Спэн дуал койл пикап  Пауэр Спэн дуал койл пикап   \n",
       "..                          ...                         ...   \n",
       "595                         nan                 Спектор Джи   \n",
       "596            Спектор Хамбакер            Спектор Хамбакер   \n",
       "597                         nan       Керамический Хамбакер   \n",
       "598                         nan       Керамический Хамбакер   \n",
       "599                         nan       Керамический Хамбакер   \n",
       "\n",
       "      Встроенная электроника Средний звукосниматель  \n",
       "0                        nan                    nan  \n",
       "1                        nan                    nan  \n",
       "2                        nan                    nan  \n",
       "3    Трёхполосный эквалайзер                    nan  \n",
       "4    Трёхполосный эквалайзер                    nan  \n",
       "..                       ...                    ...  \n",
       "595                      nan              Спектор P  \n",
       "596                      nan              Спектор P  \n",
       "597  Двухполосный эквалайзер                    nan  \n",
       "598  Двухполосный эквалайзер                    nan  \n",
       "599  Трёхполосный эквалайзер                    nan  \n",
       "\n",
       "[600 rows x 17 columns]"
      ]
     },
     "execution_count": 26,
     "metadata": {},
     "output_type": "execute_result"
    }
   ],
   "source": [
    "description_df"
   ]
  },
  {
   "cell_type": "markdown",
   "metadata": {},
   "source": [
    "Присоединим полученный датафрейм к названиям инструментов и ценам."
   ]
  },
  {
   "cell_type": "code",
   "execution_count": 27,
   "metadata": {},
   "outputs": [],
   "source": [
    "musik_productiv_df = pd.DataFrame({'Наименование' : bass_name_list, \n",
    "                                  'Цена' : price_list_stripped})"
   ]
  },
  {
   "cell_type": "code",
   "execution_count": 28,
   "metadata": {
    "scrolled": true
   },
   "outputs": [],
   "source": [
    "musik_productiv_df = pd.merge(musik_productiv_df, description_df, how = 'left', left_index=True, right_index = True)"
   ]
  },
  {
   "cell_type": "code",
   "execution_count": 29,
   "metadata": {
    "scrolled": false
   },
   "outputs": [
    {
     "data": {
      "text/html": [
       "<div>\n",
       "<style scoped>\n",
       "    .dataframe tbody tr th:only-of-type {\n",
       "        vertical-align: middle;\n",
       "    }\n",
       "\n",
       "    .dataframe tbody tr th {\n",
       "        vertical-align: top;\n",
       "    }\n",
       "\n",
       "    .dataframe thead th {\n",
       "        text-align: right;\n",
       "    }\n",
       "</style>\n",
       "<table border=\"1\" class=\"dataframe\">\n",
       "  <thead>\n",
       "    <tr style=\"text-align: right;\">\n",
       "      <th></th>\n",
       "      <th>Наименование</th>\n",
       "      <th>Цена</th>\n",
       "      <th>Форма корпуса</th>\n",
       "      <th>Материал корпуса</th>\n",
       "      <th>Дека</th>\n",
       "      <th>Конструкция</th>\n",
       "      <th>Конструкция грифа</th>\n",
       "      <th>Мензура</th>\n",
       "      <th>Длина мензуры</th>\n",
       "      <th>Гриф</th>\n",
       "      <th>Накладка грифа</th>\n",
       "      <th>Количество ладов</th>\n",
       "      <th>Число струн</th>\n",
       "      <th>Типы звукоснимателей</th>\n",
       "      <th>Страна производства</th>\n",
       "      <th>Звукосниматель грифа</th>\n",
       "      <th>Бриджевый звукосниматель</th>\n",
       "      <th>Встроенная электроника</th>\n",
       "      <th>Средний звукосниматель</th>\n",
       "    </tr>\n",
       "  </thead>\n",
       "  <tbody>\n",
       "    <tr>\n",
       "      <th>0</th>\n",
       "      <td>Höfner Ignition Club Bass VSB</td>\n",
       "      <td>25388</td>\n",
       "      <td>Битлз бас</td>\n",
       "      <td>Клён (мэйпл)</td>\n",
       "      <td>Ель</td>\n",
       "      <td>Полуакустическая (Семи Холлоу Бади)</td>\n",
       "      <td>Закреплён винтами</td>\n",
       "      <td>Короткая</td>\n",
       "      <td>30,5\" (777 мм)</td>\n",
       "      <td>Трёхслойный клён/бук</td>\n",
       "      <td>Палисандр (розовое дерево)</td>\n",
       "      <td>22</td>\n",
       "      <td>четырёхструнная</td>\n",
       "      <td>Хамбакер</td>\n",
       "      <td>КНР</td>\n",
       "      <td>nan</td>\n",
       "      <td>nan</td>\n",
       "      <td>nan</td>\n",
       "      <td>nan</td>\n",
       "    </tr>\n",
       "    <tr>\n",
       "      <th>1</th>\n",
       "      <td>Höfner Violin Ignition Bass SB</td>\n",
       "      <td>24940</td>\n",
       "      <td>Битлз бас</td>\n",
       "      <td>Клён (мэйпл)</td>\n",
       "      <td>Ель</td>\n",
       "      <td>Полуакустическая (Семи Холлоу Бади)</td>\n",
       "      <td>Вклеен в корпус</td>\n",
       "      <td>Короткая</td>\n",
       "      <td>30,5\" (777 мм)</td>\n",
       "      <td>Трёхслойный клён/бук</td>\n",
       "      <td>Палисандр (розовое дерево)</td>\n",
       "      <td>22</td>\n",
       "      <td>четырёхструнная</td>\n",
       "      <td>Соупбар</td>\n",
       "      <td>КНР</td>\n",
       "      <td>Хофнер Игнишн Стэйпл Никел</td>\n",
       "      <td>Хофнер Игнишн Стэйпл Никел</td>\n",
       "      <td>nan</td>\n",
       "      <td>nan</td>\n",
       "    </tr>\n",
       "    <tr>\n",
       "      <th>2</th>\n",
       "      <td>Ibanez miKro GSRM20 WNF</td>\n",
       "      <td>14711</td>\n",
       "      <td>Саундджиэр</td>\n",
       "      <td>Окоуме</td>\n",
       "      <td>nan</td>\n",
       "      <td>Солид Бади</td>\n",
       "      <td>Закреплён винтами</td>\n",
       "      <td>Короткая</td>\n",
       "      <td>28,63\" (727 мм)</td>\n",
       "      <td>Клён (мэйпл)</td>\n",
       "      <td>Древесина новозеландской пинии</td>\n",
       "      <td>22</td>\n",
       "      <td>четырёхструнная</td>\n",
       "      <td>1 x P-Стайл + 1 x J-Стайл</td>\n",
       "      <td>Индонезия</td>\n",
       "      <td>nan</td>\n",
       "      <td>nan</td>\n",
       "      <td>nan</td>\n",
       "      <td>nan</td>\n",
       "    </tr>\n",
       "    <tr>\n",
       "      <th>3</th>\n",
       "      <td>ESP LTD B-205 SM STBLKS</td>\n",
       "      <td>50432</td>\n",
       "      <td>Форма \"Даблкатэвей\"</td>\n",
       "      <td>Ясень</td>\n",
       "      <td>Клён, расщеплённый (неповторимый эффект)</td>\n",
       "      <td>Солид Бади</td>\n",
       "      <td>Закреплён винтами</td>\n",
       "      <td>Длинная</td>\n",
       "      <td>34\" (864 мм)</td>\n",
       "      <td>Пятислойный клён/орех</td>\n",
       "      <td>Палисандр (розовое дерево)</td>\n",
       "      <td>24</td>\n",
       "      <td>пятиструнная</td>\n",
       "      <td>Хамбакер</td>\n",
       "      <td>Индонезия</td>\n",
       "      <td>ESP дизайнд SB-5N</td>\n",
       "      <td>ESP дизайнд SB-5B</td>\n",
       "      <td>Трёхполосный эквалайзер</td>\n",
       "      <td>nan</td>\n",
       "    </tr>\n",
       "    <tr>\n",
       "      <th>4</th>\n",
       "      <td>Ibanez Soundgear SR300E-SVM</td>\n",
       "      <td>25316</td>\n",
       "      <td>Саундджиэр</td>\n",
       "      <td>Нато (Ньято / Мора)</td>\n",
       "      <td>nan</td>\n",
       "      <td>Солид Бади</td>\n",
       "      <td>Закреплён винтами</td>\n",
       "      <td>Длинная</td>\n",
       "      <td>34\" (864 мм)</td>\n",
       "      <td>Пятислойный клён/орех</td>\n",
       "      <td>Ятоба</td>\n",
       "      <td>24</td>\n",
       "      <td>четырёхструнная</td>\n",
       "      <td>Хамбакер</td>\n",
       "      <td>Индонезия</td>\n",
       "      <td>Пауэр Спэн дуал койл пикап</td>\n",
       "      <td>Пауэр Спэн дуал койл пикап</td>\n",
       "      <td>Трёхполосный эквалайзер</td>\n",
       "      <td>nan</td>\n",
       "    </tr>\n",
       "    <tr>\n",
       "      <th>...</th>\n",
       "      <td>...</td>\n",
       "      <td>...</td>\n",
       "      <td>...</td>\n",
       "      <td>...</td>\n",
       "      <td>...</td>\n",
       "      <td>...</td>\n",
       "      <td>...</td>\n",
       "      <td>...</td>\n",
       "      <td>...</td>\n",
       "      <td>...</td>\n",
       "      <td>...</td>\n",
       "      <td>...</td>\n",
       "      <td>...</td>\n",
       "      <td>...</td>\n",
       "      <td>...</td>\n",
       "      <td>...</td>\n",
       "      <td>...</td>\n",
       "      <td>...</td>\n",
       "      <td>...</td>\n",
       "    </tr>\n",
       "    <tr>\n",
       "      <th>595</th>\n",
       "      <td>Spector Performer 4 MBL</td>\n",
       "      <td>32781</td>\n",
       "      <td>Спектор</td>\n",
       "      <td>Нато (Ньято / Мора)</td>\n",
       "      <td>nan</td>\n",
       "      <td>Солид Бади</td>\n",
       "      <td>Закреплён винтами</td>\n",
       "      <td>Длинная</td>\n",
       "      <td>34\" (864 мм)</td>\n",
       "      <td>Трёхслойный клён</td>\n",
       "      <td>Амарант</td>\n",
       "      <td>24</td>\n",
       "      <td>четырёхструнная</td>\n",
       "      <td>1 x P-Стайл + 1 x J-Стайл</td>\n",
       "      <td>КНР</td>\n",
       "      <td>nan</td>\n",
       "      <td>Спектор Джи</td>\n",
       "      <td>nan</td>\n",
       "      <td>Спектор P</td>\n",
       "    </tr>\n",
       "    <tr>\n",
       "      <th>596</th>\n",
       "      <td>Spector Performer 5 BLK</td>\n",
       "      <td>33528</td>\n",
       "      <td>Спектор</td>\n",
       "      <td>Нато (Ньято / Мора)</td>\n",
       "      <td>nan</td>\n",
       "      <td>Солид Бади</td>\n",
       "      <td>Закреплён винтами</td>\n",
       "      <td>Сверхдлинная</td>\n",
       "      <td>35\" (889 мм)</td>\n",
       "      <td>Трёхслойный клён</td>\n",
       "      <td>Амарант</td>\n",
       "      <td>24</td>\n",
       "      <td>пятиструнная</td>\n",
       "      <td>Хамбакер</td>\n",
       "      <td>КНР</td>\n",
       "      <td>Спектор Хамбакер</td>\n",
       "      <td>Спектор Хамбакер</td>\n",
       "      <td>nan</td>\n",
       "      <td>Спектор P</td>\n",
       "    </tr>\n",
       "    <tr>\n",
       "      <th>597</th>\n",
       "      <td>Sterling by Music Man StingRay Classic Ray24CA...</td>\n",
       "      <td>51823</td>\n",
       "      <td>Форма \"Стинг рэй\"</td>\n",
       "      <td>Махагони</td>\n",
       "      <td>nan</td>\n",
       "      <td>Солид Бади</td>\n",
       "      <td>Закреплён винтами</td>\n",
       "      <td>Длинная</td>\n",
       "      <td>34\" (864 мм)</td>\n",
       "      <td>Клён (мэйпл)</td>\n",
       "      <td>Клён (мэйпл)</td>\n",
       "      <td>21</td>\n",
       "      <td>четырёхструнная</td>\n",
       "      <td>Форма ММ</td>\n",
       "      <td>Индонезия</td>\n",
       "      <td>nan</td>\n",
       "      <td>Керамический Хамбакер</td>\n",
       "      <td>Двухполосный эквалайзер</td>\n",
       "      <td>nan</td>\n",
       "    </tr>\n",
       "    <tr>\n",
       "      <th>598</th>\n",
       "      <td>Sterling by Music Man StingRay Classic Ray24CA...</td>\n",
       "      <td>51823</td>\n",
       "      <td>Форма \"Стинг рэй\"</td>\n",
       "      <td>Махагони</td>\n",
       "      <td>nan</td>\n",
       "      <td>Солид Бади</td>\n",
       "      <td>Закреплён винтами</td>\n",
       "      <td>Длинная</td>\n",
       "      <td>34\" (864 мм)</td>\n",
       "      <td>Клён (мэйпл)</td>\n",
       "      <td>Розовое дерево/палисандр</td>\n",
       "      <td>21</td>\n",
       "      <td>четырёхструнная</td>\n",
       "      <td>Форма ММ</td>\n",
       "      <td>Индонезия</td>\n",
       "      <td>nan</td>\n",
       "      <td>Керамический Хамбакер</td>\n",
       "      <td>Двухполосный эквалайзер</td>\n",
       "      <td>nan</td>\n",
       "    </tr>\n",
       "    <tr>\n",
       "      <th>599</th>\n",
       "      <td>Sterling by Music Man StingRay Ray34 ASHBK</td>\n",
       "      <td>96998</td>\n",
       "      <td>Форма \"Стинг рэй\"</td>\n",
       "      <td>Махагони</td>\n",
       "      <td>nan</td>\n",
       "      <td>Солид Бади</td>\n",
       "      <td>Закреплён винтами</td>\n",
       "      <td>Длинная</td>\n",
       "      <td>34\" (864 мм)</td>\n",
       "      <td>Подвергнутый спец. термической обработке т.н. ...</td>\n",
       "      <td>Клён (мэйпл)</td>\n",
       "      <td>21</td>\n",
       "      <td>четырёхструнная</td>\n",
       "      <td>Форма ММ</td>\n",
       "      <td>Индонезия</td>\n",
       "      <td>nan</td>\n",
       "      <td>Керамический Хамбакер</td>\n",
       "      <td>Трёхполосный эквалайзер</td>\n",
       "      <td>nan</td>\n",
       "    </tr>\n",
       "  </tbody>\n",
       "</table>\n",
       "<p>600 rows × 19 columns</p>\n",
       "</div>"
      ],
      "text/plain": [
       "                                          Наименование   Цена  \\\n",
       "0                        Höfner Ignition Club Bass VSB  25388   \n",
       "1                       Höfner Violin Ignition Bass SB  24940   \n",
       "2                              Ibanez miKro GSRM20 WNF  14711   \n",
       "3                              ESP LTD B-205 SM STBLKS  50432   \n",
       "4                          Ibanez Soundgear SR300E-SVM  25316   \n",
       "..                                                 ...    ...   \n",
       "595                            Spector Performer 4 MBL  32781   \n",
       "596                            Spector Performer 5 BLK  33528   \n",
       "597  Sterling by Music Man StingRay Classic Ray24CA...  51823   \n",
       "598  Sterling by Music Man StingRay Classic Ray24CA...  51823   \n",
       "599         Sterling by Music Man StingRay Ray34 ASHBK  96998   \n",
       "\n",
       "           Форма корпуса     Материал корпуса  \\\n",
       "0              Битлз бас         Клён (мэйпл)   \n",
       "1              Битлз бас         Клён (мэйпл)   \n",
       "2             Саундджиэр               Окоуме   \n",
       "3    Форма \"Даблкатэвей\"                Ясень   \n",
       "4             Саундджиэр  Нато (Ньято / Мора)   \n",
       "..                   ...                  ...   \n",
       "595              Спектор  Нато (Ньято / Мора)   \n",
       "596              Спектор  Нато (Ньято / Мора)   \n",
       "597    Форма \"Стинг рэй\"             Махагони   \n",
       "598    Форма \"Стинг рэй\"             Махагони   \n",
       "599    Форма \"Стинг рэй\"             Махагони   \n",
       "\n",
       "                                         Дека  \\\n",
       "0                                         Ель   \n",
       "1                                         Ель   \n",
       "2                                         nan   \n",
       "3    Клён, расщеплённый (неповторимый эффект)   \n",
       "4                                         nan   \n",
       "..                                        ...   \n",
       "595                                       nan   \n",
       "596                                       nan   \n",
       "597                                       nan   \n",
       "598                                       nan   \n",
       "599                                       nan   \n",
       "\n",
       "                             Конструкция  Конструкция грифа       Мензура  \\\n",
       "0    Полуакустическая (Семи Холлоу Бади)  Закреплён винтами      Короткая   \n",
       "1    Полуакустическая (Семи Холлоу Бади)    Вклеен в корпус      Короткая   \n",
       "2                             Солид Бади  Закреплён винтами      Короткая   \n",
       "3                             Солид Бади  Закреплён винтами       Длинная   \n",
       "4                             Солид Бади  Закреплён винтами       Длинная   \n",
       "..                                   ...                ...           ...   \n",
       "595                           Солид Бади  Закреплён винтами       Длинная   \n",
       "596                           Солид Бади  Закреплён винтами  Сверхдлинная   \n",
       "597                           Солид Бади  Закреплён винтами       Длинная   \n",
       "598                           Солид Бади  Закреплён винтами       Длинная   \n",
       "599                           Солид Бади  Закреплён винтами       Длинная   \n",
       "\n",
       "       Длина мензуры                                               Гриф  \\\n",
       "0     30,5\" (777 мм)                               Трёхслойный клён/бук   \n",
       "1     30,5\" (777 мм)                               Трёхслойный клён/бук   \n",
       "2    28,63\" (727 мм)                                       Клён (мэйпл)   \n",
       "3       34\" (864 мм)                              Пятислойный клён/орех   \n",
       "4       34\" (864 мм)                              Пятислойный клён/орех   \n",
       "..               ...                                                ...   \n",
       "595     34\" (864 мм)                                   Трёхслойный клён   \n",
       "596     35\" (889 мм)                                   Трёхслойный клён   \n",
       "597     34\" (864 мм)                                       Клён (мэйпл)   \n",
       "598     34\" (864 мм)                                       Клён (мэйпл)   \n",
       "599     34\" (864 мм)  Подвергнутый спец. термической обработке т.н. ...   \n",
       "\n",
       "                     Накладка грифа Количество ладов      Число струн  \\\n",
       "0        Палисандр (розовое дерево)               22  четырёхструнная   \n",
       "1        Палисандр (розовое дерево)               22  четырёхструнная   \n",
       "2    Древесина новозеландской пинии               22  четырёхструнная   \n",
       "3        Палисандр (розовое дерево)               24     пятиструнная   \n",
       "4                             Ятоба               24  четырёхструнная   \n",
       "..                              ...              ...              ...   \n",
       "595                         Амарант               24  четырёхструнная   \n",
       "596                         Амарант               24     пятиструнная   \n",
       "597                    Клён (мэйпл)               21  четырёхструнная   \n",
       "598        Розовое дерево/палисандр               21  четырёхструнная   \n",
       "599                    Клён (мэйпл)               21  четырёхструнная   \n",
       "\n",
       "          Типы звукоснимателей Страна производства  \\\n",
       "0                     Хамбакер                 КНР   \n",
       "1                      Соупбар                 КНР   \n",
       "2    1 x P-Стайл + 1 x J-Стайл           Индонезия   \n",
       "3                     Хамбакер           Индонезия   \n",
       "4                     Хамбакер           Индонезия   \n",
       "..                         ...                 ...   \n",
       "595  1 x P-Стайл + 1 x J-Стайл                 КНР   \n",
       "596                   Хамбакер                 КНР   \n",
       "597                   Форма ММ           Индонезия   \n",
       "598                   Форма ММ           Индонезия   \n",
       "599                   Форма ММ           Индонезия   \n",
       "\n",
       "           Звукосниматель грифа    Бриджевый звукосниматель  \\\n",
       "0                           nan                         nan   \n",
       "1    Хофнер Игнишн Стэйпл Никел  Хофнер Игнишн Стэйпл Никел   \n",
       "2                           nan                         nan   \n",
       "3             ESP дизайнд SB-5N           ESP дизайнд SB-5B   \n",
       "4    Пауэр Спэн дуал койл пикап  Пауэр Спэн дуал койл пикап   \n",
       "..                          ...                         ...   \n",
       "595                         nan                 Спектор Джи   \n",
       "596            Спектор Хамбакер            Спектор Хамбакер   \n",
       "597                         nan       Керамический Хамбакер   \n",
       "598                         nan       Керамический Хамбакер   \n",
       "599                         nan       Керамический Хамбакер   \n",
       "\n",
       "      Встроенная электроника Средний звукосниматель  \n",
       "0                        nan                    nan  \n",
       "1                        nan                    nan  \n",
       "2                        nan                    nan  \n",
       "3    Трёхполосный эквалайзер                    nan  \n",
       "4    Трёхполосный эквалайзер                    nan  \n",
       "..                       ...                    ...  \n",
       "595                      nan              Спектор P  \n",
       "596                      nan              Спектор P  \n",
       "597  Двухполосный эквалайзер                    nan  \n",
       "598  Двухполосный эквалайзер                    nan  \n",
       "599  Трёхполосный эквалайзер                    nan  \n",
       "\n",
       "[600 rows x 19 columns]"
      ]
     },
     "execution_count": 29,
     "metadata": {},
     "output_type": "execute_result"
    }
   ],
   "source": [
    "musik_productiv_df"
   ]
  },
  {
   "cell_type": "code",
   "execution_count": 30,
   "metadata": {},
   "outputs": [],
   "source": [
    "musik_productiv_df.to_csv('musik_productiv_df', index = False)"
   ]
  },
  {
   "cell_type": "markdown",
   "metadata": {},
   "source": [
    "## Вывод"
   ]
  },
  {
   "cell_type": "markdown",
   "metadata": {},
   "source": [
    "Данные с сайта \"musik-produktiv.com\" получены и представляют собой единый датафрейм. Количество инструментов: 600, количество признаков: 19"
   ]
  }
 ],
 "metadata": {
  "kernelspec": {
   "display_name": "Python 3 (ipykernel)",
   "language": "python",
   "name": "python3"
  },
  "language_info": {
   "codemirror_mode": {
    "name": "ipython",
    "version": 3
   },
   "file_extension": ".py",
   "mimetype": "text/x-python",
   "name": "python",
   "nbconvert_exporter": "python",
   "pygments_lexer": "ipython3",
   "version": "3.10.2"
  }
 },
 "nbformat": 4,
 "nbformat_minor": 4
}

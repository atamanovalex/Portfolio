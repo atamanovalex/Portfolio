{
 "cells": [
  {
   "cell_type": "markdown",
   "metadata": {},
   "source": [
    "# Парсинг musik-produktiv.com"
   ]
  },
  {
   "cell_type": "markdown",
   "metadata": {},
   "source": [
    "Данные для проекта будут запарсены с сайта musik-produktiv.com являющимся немецким интернет-магазином музыкальных инструментов. Для парсинга использована библиотека bs4 и ее модуль BeautifulSoup"
   ]
  },
  {
   "cell_type": "code",
   "execution_count": 1,
   "metadata": {},
   "outputs": [],
   "source": [
    "import requests\n",
    "from bs4 import BeautifulSoup\n",
    "import pandas as pd\n",
    "import numpy as np\n",
    "import copy"
   ]
  },
  {
   "cell_type": "markdown",
   "metadata": {},
   "source": [
    "## Парсинг"
   ]
  },
  {
   "cell_type": "markdown",
   "metadata": {},
   "source": [
    "Посмотрим на код первой страницы сайта."
   ]
  },
  {
   "cell_type": "code",
   "execution_count": 2,
   "metadata": {
    "scrolled": true
   },
   "outputs": [
    {
     "name": "stdout",
     "output_type": "stream",
     "text": [
      "<!DOCTYPE html>\n",
      "<html lang=\"ru-RU\">\n",
      " <head>\n",
      "  <title>\n",
      "   Бас-гитара | Musik Produktiv\n",
      "  </title>\n",
      "  <meta content=\"width=device-width, initial-scale=1\" name=\"viewport\"/>\n",
      "  <meta charset=\"utf-8\"/>\n",
      "  <link as=\"style\" href=\"https://sc1.musik-produktiv.com/css/mp-desktop-20220421-204657.min.css\" rel=\"preload\"/>\n",
      "  <link href=\"https://sc1.musik-produktiv.com/css/mp-desktop-20220421-204657.min.css\" rel=\"stylesheet\"/>\n",
      "  <link href=\"https://fonts.googleapis.com/css?family=Source+Sans+Pro:400,600&amp;subset=cyrillic&amp;display=block\" rel=\"stylesheet\"/>\n",
      "  <style>\n",
      "   .mp-sprite { background-image: url('https://sc1.musik-produktiv.com/img/css-sprites/online-shop-icons-20220226.png');}\n",
      "  </style>\n",
      "  <link href=\"/favicon.ico\" rel=\"shortcut icon\" type=\"image/x-icon\"/>\n",
      "  <script defer=\"\" src=\"https://sc1.musik-produktiv.com/js/mp-desktop-20220421-164621.min.js\">\n",
      "  </script>\n",
      "  <style>\n",
      "   .mp-sprite-sp { background-image: url('https://sc1.musik-produktiv.com/img/css-sprites/online-shop-sp-2018-12-19-ru.pn\n"
     ]
    }
   ],
   "source": [
    "response = requests.get('https://www.musik-produktiv.com/ru/bas-gitara/')\n",
    "soup = BeautifulSoup(response.text)\n",
    "#Выод на экран ограничен в этой и последующих ячейках ограничен по длине для читаемости ноутбука \n",
    "print(soup.prettify()[:1000])"
   ]
  },
  {
   "cell_type": "markdown",
   "metadata": {},
   "source": [
    "Для того, чтобы получить данные об инструментах не только с первой страницы раздела \"бас-гитары\", но и с остальных, необходимо получить список ссылок на каждую страницу сайта. Контект раздела занимает 10 страниц, но на первой странице оторбражены страницы 1,2,3,4,5...10. Найдем в коде страницы ссылки на эти страницы сайта и дополним их недостающими страницами 6,7,8,9."
   ]
  },
  {
   "cell_type": "code",
   "execution_count": 3,
   "metadata": {},
   "outputs": [
    {
     "data": {
      "text/plain": [
       "['https://www.musik-produktiv.com/ru/bas-gitara/',\n",
       " 'https://www.musik-produktiv.com/ru/bas-gitara/?p=2',\n",
       " 'https://www.musik-produktiv.com/ru/bas-gitara/?p=3',\n",
       " 'https://www.musik-produktiv.com/ru/bas-gitara/?p=4',\n",
       " 'https://www.musik-produktiv.com/ru/bas-gitara/?p=5',\n",
       " 'https://www.musik-produktiv.com/ru/bas-gitara/?p=11']"
      ]
     },
     "execution_count": 3,
     "metadata": {},
     "output_type": "execute_result"
    }
   ],
   "source": [
    "response_pages = ['https://www.musik-produktiv.com/ru/bas-gitara/']\n",
    "for i in range(len(soup.select('div.list_page a'))):\n",
    "    response_pages.append(soup.select('div.list_page a')[i]['href'])\n",
    "response_pages"
   ]
  },
  {
   "cell_type": "code",
   "execution_count": 4,
   "metadata": {
    "scrolled": false
   },
   "outputs": [
    {
     "data": {
      "text/plain": [
       "['https://www.musik-produktiv.com/ru/bas-gitara/',\n",
       " 'https://www.musik-produktiv.com/ru/bas-gitara/?p=2',\n",
       " 'https://www.musik-produktiv.com/ru/bas-gitara/?p=3',\n",
       " 'https://www.musik-produktiv.com/ru/bas-gitara/?p=4',\n",
       " 'https://www.musik-produktiv.com/ru/bas-gitara/?p=5',\n",
       " 'https://www.musik-produktiv.com/ru/bas-gitara/?p=6',\n",
       " 'https://www.musik-produktiv.com/ru/bas-gitara/?p=7',\n",
       " 'https://www.musik-produktiv.com/ru/bas-gitara/?p=8',\n",
       " 'https://www.musik-produktiv.com/ru/bas-gitara/?p=9',\n",
       " 'https://www.musik-produktiv.com/ru/bas-gitara/?p=10']"
      ]
     },
     "execution_count": 4,
     "metadata": {},
     "output_type": "execute_result"
    }
   ],
   "source": [
    "response_pages = response_pages[:5]\n",
    "links = ['https://www.musik-produktiv.com/ru/bas-gitara/?p=6',\n",
    "        'https://www.musik-produktiv.com/ru/bas-gitara/?p=7',\n",
    "        'https://www.musik-produktiv.com/ru/bas-gitara/?p=8',\n",
    "        'https://www.musik-produktiv.com/ru/bas-gitara/?p=9',\n",
    "        'https://www.musik-produktiv.com/ru/bas-gitara/?p=10']\n",
    "for link in links:\n",
    "    response_pages.append(link)\n",
    "response_pages"
   ]
  },
  {
   "cell_type": "markdown",
   "metadata": {},
   "source": [
    "Список страниц готов. Пройдемся по каждой странице и вытащим названия бас-гитар. Названия находятся в классe \"main-right-4col\" внутри ограничителей 'li', 'b'"
   ]
  },
  {
   "cell_type": "code",
   "execution_count": 5,
   "metadata": {
    "scrolled": true
   },
   "outputs": [
    {
     "data": {
      "text/plain": [
       "['Höfner Ignition Club Bass VSB',\n",
       " 'Höfner Violin Ignition Bass SB',\n",
       " 'ESP LTD B-205 SM STBLKS',\n",
       " 'Ibanez Gio GSR200B WNF',\n",
       " 'Ibanez Artcore AGB200-NT']"
      ]
     },
     "execution_count": 5,
     "metadata": {},
     "output_type": "execute_result"
    }
   ],
   "source": [
    "bass_name_list = []\n",
    "for link in response_pages:\n",
    "    response = requests.get(link)\n",
    "    soup = BeautifulSoup(response.text)\n",
    "    for bass in range(len(soup.select('div.main-right-4col li'))):\n",
    "        bass_name_list.append(soup.select('div.main-right-4col li b')[bass].text)\n",
    "bass_name_list[:5]"
   ]
  },
  {
   "cell_type": "markdown",
   "metadata": {},
   "source": [
    "Аналогично получим цены и ссылки на страницы продуктов. Из цен уберем пробелы и знаки \"₽\"."
   ]
  },
  {
   "cell_type": "code",
   "execution_count": 6,
   "metadata": {},
   "outputs": [
    {
     "data": {
      "text/plain": [
       "['₽ 25 388', '₽ 24 940', '₽ 50 432', '₽ 18 593', '₽ 41 742']"
      ]
     },
     "execution_count": 6,
     "metadata": {},
     "output_type": "execute_result"
    }
   ],
   "source": [
    "price_list = []\n",
    "for link in response_pages:\n",
    "    response = requests.get(link)\n",
    "    soup = BeautifulSoup(response.text)\n",
    "    for price in range(len(soup.select('div.main-right-4col li i'))):\n",
    "        price_list.append(soup.select('div.main-right-4col li i')[price].text)\n",
    "price_list[:5]"
   ]
  },
  {
   "cell_type": "code",
   "execution_count": 7,
   "metadata": {},
   "outputs": [
    {
     "data": {
      "text/plain": [
       "['25388', '24940', '50432', '18593', '41742']"
      ]
     },
     "execution_count": 7,
     "metadata": {},
     "output_type": "execute_result"
    }
   ],
   "source": [
    "price_list_stripped = []\n",
    "for price in price_list:\n",
    "    price = price.replace('₽ ', '')\n",
    "    price = price.replace(' ', '')\n",
    "    price_list_stripped.append(price)\n",
    "price_list = price_list_stripped\n",
    "price_list[:5]"
   ]
  },
  {
   "cell_type": "code",
   "execution_count": 8,
   "metadata": {
    "scrolled": true
   },
   "outputs": [
    {
     "data": {
      "text/plain": [
       "['https://www.musik-produktiv.com/ru/hoefner-ignition-club-bass-vsb.html',\n",
       " 'https://www.musik-produktiv.com/ru/hoefner-violin-ignition-bass-sb.html',\n",
       " 'https://www.musik-produktiv.com/ru/esp-ltd-b-205-sm-stblks.html',\n",
       " 'https://www.musik-produktiv.com/ru/ibanez-gio-gsr200b-wnf.html',\n",
       " 'https://www.musik-produktiv.com/ru/ibanez-artcore-agb200-nt.html']"
      ]
     },
     "execution_count": 8,
     "metadata": {},
     "output_type": "execute_result"
    }
   ],
   "source": [
    "bass_links_list = []\n",
    "for link in response_pages:\n",
    "    response = requests.get(link)\n",
    "    soup = BeautifulSoup(response.text)\n",
    "    for bass_link in range(len(soup.select('div.main-right-4col li'))):\n",
    "        bass_links_list.append(soup.select('div.main-right-4col li a')[bass_link]['href'])\n",
    "bass_links_list[:5]"
   ]
  },
  {
   "cell_type": "markdown",
   "metadata": {},
   "source": [
    "Теперь имея список ссылок на страницы проуктов зайдем на каждую из них и вытащим оттуда описания товаров. Посмотрим на случайную страницу товара и найдем в ней описание:"
   ]
  },
  {
   "cell_type": "code",
   "execution_count": 9,
   "metadata": {
    "scrolled": true
   },
   "outputs": [
    {
     "data": {
      "text/plain": [
       "'\"Sandberg\"><span itemprop=\"name\">Sandberg</span></a><meta content=\"3\" itemprop=\"position\"/></span><span itemprop=\"itemListElement\" itemscope=\"\" itemtype=\"http://schema.org/ListItem\"><span itemprop=\"name\">California TT4 MBLK RMN</span><meta content=\"https://www.musik-produktiv.com/ru/sandberg-california-tt4-mblk-rmn.html\" itemprop=\"item\"/><meta content=\"4\" itemprop=\"position\"/></span></div>\\n<div>\\n<div class=\"main-left-4col\">\\n<div class=\"product-image h-500\">\\n<img alt=\"Бас-гитара  Sandberg California TT4 MBLK RMN\" height=\"480\" src=\"https://sc1.musik-produktiv.com/img/clips/image-coming-soon-l.png\" title=\"Бас-гитара  Sandberg California TT4 MBLK RMN\" width=\"480\"/></div>\\n<div id=\"zoom-big\"></div>\\n<div class=\"product-info more-slider\">\\n<div class=\"more-slider-content h-500\">\\n<a class=\"markenlogo\" href=\"https://www.musik-produktiv.com/ru/sandberg/\" title=\"Sandberg\"><img alt=\"Sandberg\" height=\"50\" src=\"https://sc1.musik-produktiv.com/img/logos/brands/sandberg.png\" title=\"Sandberg\" width=\"160\"/></a>\\n<h1>Sandberg California TT4 MBLK RMN</h1>\\n<div>\\n<ul class=\"eigenschaften\">\\n<li>Форма корпуса: Форма \"Джаз бас\"</li>\\n<li>Материал корпуса: Ясень</li>\\n<li>Конструкция: Солид Бади</li>\\n<li>Цвет: Матовый чёрный</li>\\n<li>Конструкция грифа: Закреплён винтами</li>\\n<li>Мензура: Длинная</li>\\n<li>Длина мензуры: 34\" (864 мм)</li>\\n<li>Гриф: Подвергнутый спец. термической обработке т.н. \"жареный\" клён (\"Роустэд Мэйпл\")</li>\\n<li>Накладка грифа: Подвергнутый спец. термической обработке т.н. \"жареный\" клён (\"Роустэд Мэйпл\")</li>\\n<li>Количество ладов: 22</li>\\n<li>Маркеры (вкладыши) грифа: Боковые маркеры грифа</li>\\n<li>Число струн: четырёхструнная</li>\\n<li>Серийный номер униката: 36096</li>\\n<li>Типы звукоснимателей: 2 х J Стайл</li>\\n<li>Бриджевый звукосниматель: Зaндберг Элнико Сингл Койл</li>\\n<li>Встроенная электроника: Двухполосный эквалайзер</li>\\n<li>Элементы управления: 1x громкость, 1x баланс (бленд), 1x ВЧ, 1x НЧ</li>\\n<li>Переключатель звукоснимателей: Регулятор баланса</li>\\n<li>Цвет фурни'"
      ]
     },
     "execution_count": 9,
     "metadata": {},
     "output_type": "execute_result"
    }
   ],
   "source": [
    "response = requests.get('https://www.musik-produktiv.com/ru/sandberg-california-tt4-mblk-rmn.html')\n",
    "soup = BeautifulSoup(response.text)\n",
    "str(soup)[18000:20000]"
   ]
  },
  {
   "cell_type": "markdown",
   "metadata": {},
   "source": [
    "Описание товара находится в классе \"eigenschaften\" внутри ограничителей \"li\". Пройдемся по каждому товару и вытащим опиания всех товаров."
   ]
  },
  {
   "cell_type": "code",
   "execution_count": 10,
   "metadata": {
    "scrolled": true
   },
   "outputs": [
    {
     "data": {
      "text/plain": [
       "[[<li>Форма корпуса: Битлз бас</li>,\n",
       "  <li>Материал корпуса: Клён (мэйпл)</li>,\n",
       "  <li>Дека: Ель</li>,\n",
       "  <li>Конструкция: Полуакустическая (Семи Холлоу Бади)</li>,\n",
       "  <li>Цвет: Винтэйдж Санберст</li>,\n",
       "  <li>Конструкция грифа: Закреплён винтами</li>,\n",
       "  <li>Мензура: Короткая</li>,\n",
       "  <li>Длина мензуры: 30,5\" (777 мм)</li>,\n",
       "  <li>Гриф: Трёхслойный клён/бук</li>,\n",
       "  <li>Накладка грифа: Палисандр (розовое дерево)</li>,\n",
       "  <li>Количество ладов: 22</li>,\n",
       "  <li>Маркеры (вкладыши) грифа: Классические круглые</li>,\n",
       "  <li>Число струн: четырёхструнная</li>,\n",
       "  <li>Типы звукоснимателей: Хамбакер</li>,\n",
       "  <li>Переключатель звукоснимателей: Переключатель типа слайд</li>,\n",
       "  <li>Цвет фурнитуры: Никель</li>,\n",
       "  <li>Страна производства: КНР</li>],\n",
       " [<li>Форма корпуса: Битлз бас</li>,\n",
       "  <li>Материал корпуса: Клён (мэйпл)</li>,\n",
       "  <li>Дека: Ель</li>,\n",
       "  <li>Конструкция: Полуакустическая (Семи Холлоу Бади)</li>,\n",
       "  <li>Цвет: Винтэйдж Санберст</li>,\n",
       "  <li>Конструкция грифа: Вклеен в корпус</li>,\n",
       "  <li>Мензура: Короткая</li>,\n",
       "  <li>Длина мензуры: 30,5\" (777 мм)</li>,\n",
       "  <li>Гриф: Трёхслойный клён/бук</li>,\n",
       "  <li>Накладка грифа: Палисандр (розовое дерево)</li>,\n",
       "  <li>Количество ладов: 22</li>,\n",
       "  <li>Маркеры (вкладыши) грифа: Классические круглые</li>,\n",
       "  <li>Число струн: четырёхструнная</li>,\n",
       "  <li>Типы звукоснимателей: Соупбар</li>,\n",
       "  <li>Звукосниматель грифа: Хофнер Игнишн Стэйпл Никел</li>,\n",
       "  <li>Бриджевый звукосниматель: Хофнер Игнишн Стэйпл Никел</li>,\n",
       "  <li>Элементы управления: 2 х громкость</li>,\n",
       "  <li>Переключатель звукоснимателей: Переключатель типа слайд</li>,\n",
       "  <li>Цвет фурнитуры: Никель</li>,\n",
       "  <li>Страна производства: КНР</li>],\n",
       " [<li>Форма корпуса: Форма \"Даблкатэвей\"</li>,\n",
       "  <li>Материал корпуса: Ясень</li>,\n",
       "  <li>Дека: Клён, расщеплённый (неповторимый эффект)</li>,\n",
       "  <li>Конструкция: Солид Бади</li>,\n",
       "  <li>Цвет: Сии тру блэк сэтин</li>,\n",
       "  <li>Конструкция грифа: Закреплён винтами</li>,\n",
       "  <li>Мензура: Длинная</li>,\n",
       "  <li>Длина мензуры: 34\" (864 мм)</li>,\n",
       "  <li>Гриф: Пятислойный клён/орех</li>,\n",
       "  <li>Накладка грифа: Палисандр (розовое дерево)</li>,\n",
       "  <li>Количество ладов: 24</li>,\n",
       "  <li>Маркеры (вкладыши) грифа: Классические круглые</li>,\n",
       "  <li>Число струн: пятиструнная</li>,\n",
       "  <li>Типы звукоснимателей: Хамбакер</li>,\n",
       "  <li>Звукосниматель грифа: ESP дизайнд SB-5N</li>,\n",
       "  <li>Бриджевый звукосниматель: ESP дизайнд SB-5B</li>,\n",
       "  <li>Встроенная электроника: Трёхполосный эквалайзер</li>,\n",
       "  <li>Переключатель звукоснимателей: Регулятор баланса</li>,\n",
       "  <li>Цвет фурнитуры: Чёрный никель</li>,\n",
       "  <li>Страна производства: Индонезия</li>]]"
      ]
     },
     "execution_count": 10,
     "metadata": {},
     "output_type": "execute_result"
    }
   ],
   "source": [
    "description = []\n",
    "for link in bass_links_list:\n",
    "    response = requests.get(link)\n",
    "    soup = BeautifulSoup(response.text)\n",
    "    description.append(soup.select('ul.eigenschaften li'))\n",
    "description[:3]"
   ]
  },
  {
   "cell_type": "code",
   "execution_count": 11,
   "metadata": {
    "scrolled": true
   },
   "outputs": [
    {
     "data": {
      "text/plain": [
       "[['Форма корпуса: Битлз бас',\n",
       "  'Материал корпуса: Клён (мэйпл)',\n",
       "  'Дека: Ель',\n",
       "  'Конструкция: Полуакустическая (Семи Холлоу Бади)',\n",
       "  'Цвет: Винтэйдж Санберст',\n",
       "  'Конструкция грифа: Закреплён винтами',\n",
       "  'Мензура: Короткая',\n",
       "  'Длина мензуры: 30,5\" (777 мм)',\n",
       "  'Гриф: Трёхслойный клён/бук',\n",
       "  'Накладка грифа: Палисандр (розовое дерево)',\n",
       "  'Количество ладов: 22',\n",
       "  'Маркеры (вкладыши) грифа: Классические круглые',\n",
       "  'Число струн: четырёхструнная',\n",
       "  'Типы звукоснимателей: Хамбакер',\n",
       "  'Переключатель звукоснимателей: Переключатель типа слайд',\n",
       "  'Цвет фурнитуры: Никель',\n",
       "  'Страна производства: КНР'],\n",
       " ['Форма корпуса: Битлз бас',\n",
       "  'Материал корпуса: Клён (мэйпл)',\n",
       "  'Дека: Ель',\n",
       "  'Конструкция: Полуакустическая (Семи Холлоу Бади)',\n",
       "  'Цвет: Винтэйдж Санберст',\n",
       "  'Конструкция грифа: Вклеен в корпус',\n",
       "  'Мензура: Короткая',\n",
       "  'Длина мензуры: 30,5\" (777 мм)',\n",
       "  'Гриф: Трёхслойный клён/бук',\n",
       "  'Накладка грифа: Палисандр (розовое дерево)',\n",
       "  'Количество ладов: 22',\n",
       "  'Маркеры (вкладыши) грифа: Классические круглые',\n",
       "  'Число струн: четырёхструнная',\n",
       "  'Типы звукоснимателей: Соупбар',\n",
       "  'Звукосниматель грифа: Хофнер Игнишн Стэйпл Никел',\n",
       "  'Бриджевый звукосниматель: Хофнер Игнишн Стэйпл Никел',\n",
       "  'Элементы управления: 2 х громкость',\n",
       "  'Переключатель звукоснимателей: Переключатель типа слайд',\n",
       "  'Цвет фурнитуры: Никель',\n",
       "  'Страна производства: КНР'],\n",
       " ['Форма корпуса: Форма \"Даблкатэвей\"',\n",
       "  'Материал корпуса: Ясень',\n",
       "  'Дека: Клён, расщеплённый (неповторимый эффект)',\n",
       "  'Конструкция: Солид Бади',\n",
       "  'Цвет: Сии тру блэк сэтин',\n",
       "  'Конструкция грифа: Закреплён винтами',\n",
       "  'Мензура: Длинная',\n",
       "  'Длина мензуры: 34\" (864 мм)',\n",
       "  'Гриф: Пятислойный клён/орех',\n",
       "  'Накладка грифа: Палисандр (розовое дерево)',\n",
       "  'Количество ладов: 24',\n",
       "  'Маркеры (вкладыши) грифа: Классические круглые',\n",
       "  'Число струн: пятиструнная',\n",
       "  'Типы звукоснимателей: Хамбакер',\n",
       "  'Звукосниматель грифа: ESP дизайнд SB-5N',\n",
       "  'Бриджевый звукосниматель: ESP дизайнд SB-5B',\n",
       "  'Встроенная электроника: Трёхполосный эквалайзер',\n",
       "  'Переключатель звукоснимателей: Регулятор баланса',\n",
       "  'Цвет фурнитуры: Чёрный никель',\n",
       "  'Страна производства: Индонезия']]"
      ]
     },
     "execution_count": 11,
     "metadata": {},
     "output_type": "execute_result"
    }
   ],
   "source": [
    "description_stripped = []\n",
    "for bass in description:\n",
    "    item_stripped = []\n",
    "    for item in bass:\n",
    "        item = str(item)\n",
    "        item = item.replace('<li>', '')\n",
    "        item = item.replace('</li>', '')\n",
    "        item_stripped.append(item)\n",
    "    description_stripped.append(item_stripped)\n",
    "description = description_stripped\n",
    "description[:3]"
   ]
  },
  {
   "cell_type": "markdown",
   "metadata": {},
   "source": [
    "Убедимся, что признаки получены для всех товаров."
   ]
  },
  {
   "cell_type": "code",
   "execution_count": 12,
   "metadata": {
    "scrolled": true
   },
   "outputs": [
    {
     "name": "stdout",
     "output_type": "stream",
     "text": [
      "600\n",
      "600\n",
      "600\n",
      "600\n"
     ]
    }
   ],
   "source": [
    "print(len(bass_name_list))\n",
    "print(len(price_list))\n",
    "print(len(bass_links_list))\n",
    "print(len(description))"
   ]
  },
  {
   "cell_type": "markdown",
   "metadata": {},
   "source": [
    "## Приведение данных к табличному виду"
   ]
  },
  {
   "cell_type": "markdown",
   "metadata": {},
   "source": [
    "Чтобы получить таблицу, в которой каждый признак будет соответствовать нужному инструменту, приведем полученные данные в датафрейму, используя библиотку \"Pandas\".\n",
    "Так как не каждое описание товара содержит все возможные признаки, необходимо провести подготовительую работу с описаниями товаров. Признаки и значения признака разделены двоеточием - разобьем их в разные колонки и посмотрим на то, насколько данные полные."
   ]
  },
  {
   "cell_type": "code",
   "execution_count": 13,
   "metadata": {},
   "outputs": [],
   "source": [
    "features = []\n",
    "for bass in description:\n",
    "    for item in bass:\n",
    "        feature, sep, value = item.partition(':')\n",
    "        features.append(feature)\n",
    "features = pd.Series(features)"
   ]
  },
  {
   "cell_type": "code",
   "execution_count": 14,
   "metadata": {
    "scrolled": false
   },
   "outputs": [
    {
     "data": {
      "text/plain": [
       "Число струн                                   598\n",
       "Цвет                                          594\n",
       "Конструкция грифа                             589\n",
       "Конструкция                                   588\n",
       "Мензура                                       587\n",
       "Длина мензуры                                 586\n",
       "Гриф                                          586\n",
       "Количество ладов                              583\n",
       "Накладка грифа                                581\n",
       "Материал корпуса                              580\n",
       "Цвет фурнитуры                                579\n",
       "Форма корпуса                                 571\n",
       "Маркеры (вкладыши) грифа                      544\n",
       "Типы звукоснимателей                          535\n",
       "Бриджевый звукосниматель                      519\n",
       "Страна производства                           473\n",
       "Звукосниматель грифа                          465\n",
       "Встроенная электроника                        409\n",
       "Элементы управления                           372\n",
       "В комплекте поставки                          309\n",
       "Толщина струн, установленных изготовителем    274\n",
       "Переключатель звукоснимателей                 259\n",
       "Отличительные особенности                     255\n",
       "Вес                                           179\n",
       "Дека                                          171\n",
       "Серийный номер униката                        161\n",
       "Средний звукосниматель                         64\n",
       "dtype: int64"
      ]
     },
     "execution_count": 14,
     "metadata": {},
     "output_type": "execute_result"
    }
   ],
   "source": [
    "features.value_counts()"
   ]
  },
  {
   "cell_type": "markdown",
   "metadata": {},
   "source": [
    "Не все признаки несут ценность в определении стоимости, уберем ненужные. Список всех возможным значений сохраним в \"features\"."
   ]
  },
  {
   "cell_type": "code",
   "execution_count": 15,
   "metadata": {
    "scrolled": false
   },
   "outputs": [
    {
     "data": {
      "text/plain": [
       "['Форма корпуса',\n",
       " 'Материал корпуса',\n",
       " 'Дека',\n",
       " 'Конструкция',\n",
       " 'Конструкция грифа',\n",
       " 'Мензура',\n",
       " 'Длина мензуры',\n",
       " 'Гриф',\n",
       " 'Накладка грифа',\n",
       " 'Количество ладов',\n",
       " 'Число струн',\n",
       " 'Типы звукоснимателей',\n",
       " 'Страна производства',\n",
       " 'Звукосниматель грифа',\n",
       " 'Бриджевый звукосниматель',\n",
       " 'Встроенная электроника',\n",
       " 'Средний звукосниматель']"
      ]
     },
     "execution_count": 15,
     "metadata": {},
     "output_type": "execute_result"
    }
   ],
   "source": [
    "features = list(features.unique())\n",
    "\n",
    "unnecessary_values = ['Цвет',\n",
    "             'Цвет фурнитуры',\n",
    "             'Маркеры (вкладыши) грифа',\n",
    "             'Элементы управления',\n",
    "             'В комплекте поставки',\n",
    "             'Переключатель звукоснимателей',\n",
    "             'Отличительные особенности',\n",
    "             'Толщина струн, установленных изготовителем',\n",
    "             'Вес',\n",
    "             'Серийный номер униката']\n",
    "\n",
    "for value in unnecessary_values:\n",
    "    features.remove(value)\n",
    "\n",
    "features"
   ]
  },
  {
   "cell_type": "code",
   "execution_count": 16,
   "metadata": {},
   "outputs": [],
   "source": [
    "for i in range(len(features)):\n",
    "    for bass in description:\n",
    "        for item in bass:\n",
    "            feature, sep, value = item.partition(':')\n",
    "            if feature not in features:\n",
    "                bass.remove(item)"
   ]
  },
  {
   "cell_type": "markdown",
   "metadata": {},
   "source": [
    "Создадим списки пустых списков \"features_bass\" и \"values_bass\" равные количеству инструментов по длине."
   ]
  },
  {
   "cell_type": "code",
   "execution_count": 17,
   "metadata": {},
   "outputs": [],
   "source": [
    "features_bass = copy.deepcopy(description)\n",
    "values_bass = copy.deepcopy(description)"
   ]
  },
  {
   "cell_type": "code",
   "execution_count": 18,
   "metadata": {},
   "outputs": [],
   "source": [
    "for bass in range(len(features_bass)):\n",
    "    features_bass[bass].clear()\n",
    "    values_bass[bass].clear()"
   ]
  },
  {
   "cell_type": "code",
   "execution_count": 19,
   "metadata": {
    "scrolled": true
   },
   "outputs": [
    {
     "data": {
      "text/plain": [
       "[[], [], []]"
      ]
     },
     "execution_count": 19,
     "metadata": {},
     "output_type": "execute_result"
    }
   ],
   "source": [
    "features_bass[:3]"
   ]
  },
  {
   "cell_type": "code",
   "execution_count": 20,
   "metadata": {
    "scrolled": true
   },
   "outputs": [
    {
     "data": {
      "text/plain": [
       "[[], [], []]"
      ]
     },
     "execution_count": 20,
     "metadata": {},
     "output_type": "execute_result"
    }
   ],
   "source": [
    "values_bass[:3]"
   ]
  },
  {
   "cell_type": "markdown",
   "metadata": {},
   "source": [
    "В \"features_bass\" добавим названия признаков каждой бас-гитары, а в \"values_bass\" добавим соответствующие значения признаков."
   ]
  },
  {
   "cell_type": "code",
   "execution_count": 21,
   "metadata": {},
   "outputs": [],
   "source": [
    "for bass in range(len(description)):\n",
    "    for i in range(len(description[bass])):\n",
    "        feature, sep, value = description[bass][i].partition(': ')\n",
    "        features_bass[bass].append(feature)\n",
    "        values_bass[bass].append(value)"
   ]
  },
  {
   "cell_type": "code",
   "execution_count": 22,
   "metadata": {
    "scrolled": true
   },
   "outputs": [
    {
     "data": {
      "text/plain": [
       "[['Форма корпуса',\n",
       "  'Материал корпуса',\n",
       "  'Дека',\n",
       "  'Конструкция',\n",
       "  'Конструкция грифа',\n",
       "  'Мензура',\n",
       "  'Длина мензуры',\n",
       "  'Гриф',\n",
       "  'Накладка грифа',\n",
       "  'Количество ладов',\n",
       "  'Число струн',\n",
       "  'Типы звукоснимателей',\n",
       "  'Страна производства'],\n",
       " ['Форма корпуса',\n",
       "  'Материал корпуса',\n",
       "  'Дека',\n",
       "  'Конструкция',\n",
       "  'Конструкция грифа',\n",
       "  'Мензура',\n",
       "  'Длина мензуры',\n",
       "  'Гриф',\n",
       "  'Накладка грифа',\n",
       "  'Количество ладов',\n",
       "  'Число струн',\n",
       "  'Типы звукоснимателей',\n",
       "  'Звукосниматель грифа',\n",
       "  'Бриджевый звукосниматель',\n",
       "  'Страна производства'],\n",
       " ['Форма корпуса',\n",
       "  'Материал корпуса',\n",
       "  'Дека',\n",
       "  'Конструкция',\n",
       "  'Конструкция грифа',\n",
       "  'Мензура',\n",
       "  'Длина мензуры',\n",
       "  'Гриф',\n",
       "  'Накладка грифа',\n",
       "  'Количество ладов',\n",
       "  'Число струн',\n",
       "  'Типы звукоснимателей',\n",
       "  'Звукосниматель грифа',\n",
       "  'Бриджевый звукосниматель',\n",
       "  'Встроенная электроника',\n",
       "  'Страна производства']]"
      ]
     },
     "execution_count": 22,
     "metadata": {},
     "output_type": "execute_result"
    }
   ],
   "source": [
    "features_bass[:3]"
   ]
  },
  {
   "cell_type": "code",
   "execution_count": 23,
   "metadata": {
    "scrolled": true
   },
   "outputs": [
    {
     "data": {
      "text/plain": [
       "[['Битлз бас',\n",
       "  'Клён (мэйпл)',\n",
       "  'Ель',\n",
       "  'Полуакустическая (Семи Холлоу Бади)',\n",
       "  'Закреплён винтами',\n",
       "  'Короткая',\n",
       "  '30,5\" (777 мм)',\n",
       "  'Трёхслойный клён/бук',\n",
       "  'Палисандр (розовое дерево)',\n",
       "  '22',\n",
       "  'четырёхструнная',\n",
       "  'Хамбакер',\n",
       "  'КНР'],\n",
       " ['Битлз бас',\n",
       "  'Клён (мэйпл)',\n",
       "  'Ель',\n",
       "  'Полуакустическая (Семи Холлоу Бади)',\n",
       "  'Вклеен в корпус',\n",
       "  'Короткая',\n",
       "  '30,5\" (777 мм)',\n",
       "  'Трёхслойный клён/бук',\n",
       "  'Палисандр (розовое дерево)',\n",
       "  '22',\n",
       "  'четырёхструнная',\n",
       "  'Соупбар',\n",
       "  'Хофнер Игнишн Стэйпл Никел',\n",
       "  'Хофнер Игнишн Стэйпл Никел',\n",
       "  'КНР'],\n",
       " ['Форма \"Даблкатэвей\"',\n",
       "  'Ясень',\n",
       "  'Клён, расщеплённый (неповторимый эффект)',\n",
       "  'Солид Бади',\n",
       "  'Закреплён винтами',\n",
       "  'Длинная',\n",
       "  '34\" (864 мм)',\n",
       "  'Пятислойный клён/орех',\n",
       "  'Палисандр (розовое дерево)',\n",
       "  '24',\n",
       "  'пятиструнная',\n",
       "  'Хамбакер',\n",
       "  'ESP дизайнд SB-5N',\n",
       "  'ESP дизайнд SB-5B',\n",
       "  'Трёхполосный эквалайзер',\n",
       "  'Индонезия']]"
      ]
     },
     "execution_count": 23,
     "metadata": {},
     "output_type": "execute_result"
    }
   ],
   "source": [
    "values_bass[:3]"
   ]
  },
  {
   "cell_type": "markdown",
   "metadata": {},
   "source": [
    "Представим список всех возможных признаков \"features\" в виде датафрейма \"features_df\""
   ]
  },
  {
   "cell_type": "code",
   "execution_count": 24,
   "metadata": {
    "scrolled": true
   },
   "outputs": [
    {
     "data": {
      "text/html": [
       "<div>\n",
       "<style scoped>\n",
       "    .dataframe tbody tr th:only-of-type {\n",
       "        vertical-align: middle;\n",
       "    }\n",
       "\n",
       "    .dataframe tbody tr th {\n",
       "        vertical-align: top;\n",
       "    }\n",
       "\n",
       "    .dataframe thead th {\n",
       "        text-align: right;\n",
       "    }\n",
       "</style>\n",
       "<table border=\"1\" class=\"dataframe\">\n",
       "  <thead>\n",
       "    <tr style=\"text-align: right;\">\n",
       "      <th></th>\n",
       "      <th>features_bass</th>\n",
       "    </tr>\n",
       "  </thead>\n",
       "  <tbody>\n",
       "    <tr>\n",
       "      <th>0</th>\n",
       "      <td>Форма корпуса</td>\n",
       "    </tr>\n",
       "    <tr>\n",
       "      <th>1</th>\n",
       "      <td>Материал корпуса</td>\n",
       "    </tr>\n",
       "    <tr>\n",
       "      <th>2</th>\n",
       "      <td>Дека</td>\n",
       "    </tr>\n",
       "    <tr>\n",
       "      <th>3</th>\n",
       "      <td>Конструкция</td>\n",
       "    </tr>\n",
       "    <tr>\n",
       "      <th>4</th>\n",
       "      <td>Конструкция грифа</td>\n",
       "    </tr>\n",
       "    <tr>\n",
       "      <th>5</th>\n",
       "      <td>Мензура</td>\n",
       "    </tr>\n",
       "    <tr>\n",
       "      <th>6</th>\n",
       "      <td>Длина мензуры</td>\n",
       "    </tr>\n",
       "    <tr>\n",
       "      <th>7</th>\n",
       "      <td>Гриф</td>\n",
       "    </tr>\n",
       "    <tr>\n",
       "      <th>8</th>\n",
       "      <td>Накладка грифа</td>\n",
       "    </tr>\n",
       "    <tr>\n",
       "      <th>9</th>\n",
       "      <td>Количество ладов</td>\n",
       "    </tr>\n",
       "    <tr>\n",
       "      <th>10</th>\n",
       "      <td>Число струн</td>\n",
       "    </tr>\n",
       "    <tr>\n",
       "      <th>11</th>\n",
       "      <td>Типы звукоснимателей</td>\n",
       "    </tr>\n",
       "    <tr>\n",
       "      <th>12</th>\n",
       "      <td>Страна производства</td>\n",
       "    </tr>\n",
       "    <tr>\n",
       "      <th>13</th>\n",
       "      <td>Звукосниматель грифа</td>\n",
       "    </tr>\n",
       "    <tr>\n",
       "      <th>14</th>\n",
       "      <td>Бриджевый звукосниматель</td>\n",
       "    </tr>\n",
       "    <tr>\n",
       "      <th>15</th>\n",
       "      <td>Встроенная электроника</td>\n",
       "    </tr>\n",
       "    <tr>\n",
       "      <th>16</th>\n",
       "      <td>Средний звукосниматель</td>\n",
       "    </tr>\n",
       "  </tbody>\n",
       "</table>\n",
       "</div>"
      ],
      "text/plain": [
       "               features_bass\n",
       "0              Форма корпуса\n",
       "1           Материал корпуса\n",
       "2                       Дека\n",
       "3                Конструкция\n",
       "4          Конструкция грифа\n",
       "5                    Мензура\n",
       "6              Длина мензуры\n",
       "7                       Гриф\n",
       "8             Накладка грифа\n",
       "9           Количество ладов\n",
       "10               Число струн\n",
       "11      Типы звукоснимателей\n",
       "12       Страна производства\n",
       "13      Звукосниматель грифа\n",
       "14  Бриджевый звукосниматель\n",
       "15    Встроенная электроника\n",
       "16    Средний звукосниматель"
      ]
     },
     "execution_count": 24,
     "metadata": {},
     "output_type": "execute_result"
    }
   ],
   "source": [
    "features_df = pd.DataFrame({'features_bass' : features})\n",
    "features_df"
   ]
  },
  {
   "cell_type": "markdown",
   "metadata": {},
   "source": [
    "Для каждого из 600 инструментов создадим датафрейм, в котором в левом столбце окажутся все возможные признаки (соответствуют списку features_df), а в правом - все значения конктретного инструмента. Там, где принакуне будет соответствовать никакое значение - будет значение \"Nan\". И заменим значения в values_bass правым столбцом датафрейма."
   ]
  },
  {
   "cell_type": "code",
   "execution_count": 25,
   "metadata": {},
   "outputs": [],
   "source": [
    "for i in range(len(values_bass)):\n",
    "    df = pd.DataFrame({'features_bass' : features_bass[i], 'values_bass' : values_bass[i]})\n",
    "    df = pd.merge(features_df, df, how = 'outer')\n",
    "    values_bass[i].clear()\n",
    "    values_bass[i].append(list(df['values_bass']))"
   ]
  },
  {
   "cell_type": "code",
   "execution_count": 26,
   "metadata": {},
   "outputs": [
    {
     "data": {
      "text/plain": [
       "[[['Битлз бас',\n",
       "   'Клён (мэйпл)',\n",
       "   'Ель',\n",
       "   'Полуакустическая (Семи Холлоу Бади)',\n",
       "   'Закреплён винтами',\n",
       "   'Короткая',\n",
       "   '30,5\" (777 мм)',\n",
       "   'Трёхслойный клён/бук',\n",
       "   'Палисандр (розовое дерево)',\n",
       "   '22',\n",
       "   'четырёхструнная',\n",
       "   'Хамбакер',\n",
       "   'КНР',\n",
       "   nan,\n",
       "   nan,\n",
       "   nan,\n",
       "   nan]],\n",
       " [['Битлз бас',\n",
       "   'Клён (мэйпл)',\n",
       "   'Ель',\n",
       "   'Полуакустическая (Семи Холлоу Бади)',\n",
       "   'Вклеен в корпус',\n",
       "   'Короткая',\n",
       "   '30,5\" (777 мм)',\n",
       "   'Трёхслойный клён/бук',\n",
       "   'Палисандр (розовое дерево)',\n",
       "   '22',\n",
       "   'четырёхструнная',\n",
       "   'Соупбар',\n",
       "   'КНР',\n",
       "   'Хофнер Игнишн Стэйпл Никел',\n",
       "   'Хофнер Игнишн Стэйпл Никел',\n",
       "   nan,\n",
       "   nan]],\n",
       " [['Форма \"Даблкатэвей\"',\n",
       "   'Ясень',\n",
       "   'Клён, расщеплённый (неповторимый эффект)',\n",
       "   'Солид Бади',\n",
       "   'Закреплён винтами',\n",
       "   'Длинная',\n",
       "   '34\" (864 мм)',\n",
       "   'Пятислойный клён/орех',\n",
       "   'Палисандр (розовое дерево)',\n",
       "   '24',\n",
       "   'пятиструнная',\n",
       "   'Хамбакер',\n",
       "   'Индонезия',\n",
       "   'ESP дизайнд SB-5N',\n",
       "   'ESP дизайнд SB-5B',\n",
       "   'Трёхполосный эквалайзер',\n",
       "   nan]]]"
      ]
     },
     "execution_count": 26,
     "metadata": {},
     "output_type": "execute_result"
    }
   ],
   "source": [
    "values_bass[:3]"
   ]
  },
  {
   "cell_type": "code",
   "execution_count": 27,
   "metadata": {
    "scrolled": true
   },
   "outputs": [],
   "source": [
    "for i in range(len(values_bass)):\n",
    "    values_bass[i] = values_bass[i][0]"
   ]
  },
  {
   "cell_type": "code",
   "execution_count": 28,
   "metadata": {},
   "outputs": [
    {
     "data": {
      "text/plain": [
       "[['Битлз бас',\n",
       "  'Клён (мэйпл)',\n",
       "  'Ель',\n",
       "  'Полуакустическая (Семи Холлоу Бади)',\n",
       "  'Закреплён винтами',\n",
       "  'Короткая',\n",
       "  '30,5\" (777 мм)',\n",
       "  'Трёхслойный клён/бук',\n",
       "  'Палисандр (розовое дерево)',\n",
       "  '22',\n",
       "  'четырёхструнная',\n",
       "  'Хамбакер',\n",
       "  'КНР',\n",
       "  nan,\n",
       "  nan,\n",
       "  nan,\n",
       "  nan],\n",
       " ['Битлз бас',\n",
       "  'Клён (мэйпл)',\n",
       "  'Ель',\n",
       "  'Полуакустическая (Семи Холлоу Бади)',\n",
       "  'Вклеен в корпус',\n",
       "  'Короткая',\n",
       "  '30,5\" (777 мм)',\n",
       "  'Трёхслойный клён/бук',\n",
       "  'Палисандр (розовое дерево)',\n",
       "  '22',\n",
       "  'четырёхструнная',\n",
       "  'Соупбар',\n",
       "  'КНР',\n",
       "  'Хофнер Игнишн Стэйпл Никел',\n",
       "  'Хофнер Игнишн Стэйпл Никел',\n",
       "  nan,\n",
       "  nan],\n",
       " ['Форма \"Даблкатэвей\"',\n",
       "  'Ясень',\n",
       "  'Клён, расщеплённый (неповторимый эффект)',\n",
       "  'Солид Бади',\n",
       "  'Закреплён винтами',\n",
       "  'Длинная',\n",
       "  '34\" (864 мм)',\n",
       "  'Пятислойный клён/орех',\n",
       "  'Палисандр (розовое дерево)',\n",
       "  '24',\n",
       "  'пятиструнная',\n",
       "  'Хамбакер',\n",
       "  'Индонезия',\n",
       "  'ESP дизайнд SB-5N',\n",
       "  'ESP дизайнд SB-5B',\n",
       "  'Трёхполосный эквалайзер',\n",
       "  nan]]"
      ]
     },
     "execution_count": 28,
     "metadata": {},
     "output_type": "execute_result"
    }
   ],
   "source": [
    "values_bass[:3]"
   ]
  },
  {
   "cell_type": "code",
   "execution_count": 29,
   "metadata": {
    "scrolled": true
   },
   "outputs": [
    {
     "data": {
      "text/plain": [
       "600"
      ]
     },
     "execution_count": 29,
     "metadata": {},
     "output_type": "execute_result"
    }
   ],
   "source": [
    "len(values_bass)"
   ]
  },
  {
   "cell_type": "markdown",
   "metadata": {},
   "source": [
    "Проверим, что описание каждого инструмента включает в себя все 17 признаков."
   ]
  },
  {
   "cell_type": "code",
   "execution_count": 30,
   "metadata": {},
   "outputs": [],
   "source": [
    "summa = 0\n",
    "for i in range(len(values_bass)):\n",
    "    if len(values_bass[i]) != 17:\n",
    "        summa += 1"
   ]
  },
  {
   "cell_type": "code",
   "execution_count": 31,
   "metadata": {
    "scrolled": true
   },
   "outputs": [
    {
     "data": {
      "text/plain": [
       "0"
      ]
     },
     "execution_count": 31,
     "metadata": {},
     "output_type": "execute_result"
    }
   ],
   "source": [
    "summa"
   ]
  },
  {
   "cell_type": "markdown",
   "metadata": {},
   "source": [
    "Создадим датафрейм \"description_df\", в котором строками будут инструменты, а столбцами - признаки."
   ]
  },
  {
   "cell_type": "code",
   "execution_count": 32,
   "metadata": {},
   "outputs": [],
   "source": [
    "description_df = pd.DataFrame(data = np.array(values_bass), columns = features)"
   ]
  },
  {
   "cell_type": "code",
   "execution_count": 33,
   "metadata": {
    "scrolled": true
   },
   "outputs": [
    {
     "data": {
      "text/html": [
       "<div>\n",
       "<style scoped>\n",
       "    .dataframe tbody tr th:only-of-type {\n",
       "        vertical-align: middle;\n",
       "    }\n",
       "\n",
       "    .dataframe tbody tr th {\n",
       "        vertical-align: top;\n",
       "    }\n",
       "\n",
       "    .dataframe thead th {\n",
       "        text-align: right;\n",
       "    }\n",
       "</style>\n",
       "<table border=\"1\" class=\"dataframe\">\n",
       "  <thead>\n",
       "    <tr style=\"text-align: right;\">\n",
       "      <th></th>\n",
       "      <th>Форма корпуса</th>\n",
       "      <th>Материал корпуса</th>\n",
       "      <th>Дека</th>\n",
       "      <th>Конструкция</th>\n",
       "      <th>Конструкция грифа</th>\n",
       "      <th>Мензура</th>\n",
       "      <th>Длина мензуры</th>\n",
       "      <th>Гриф</th>\n",
       "      <th>Накладка грифа</th>\n",
       "      <th>Количество ладов</th>\n",
       "      <th>Число струн</th>\n",
       "      <th>Типы звукоснимателей</th>\n",
       "      <th>Страна производства</th>\n",
       "      <th>Звукосниматель грифа</th>\n",
       "      <th>Бриджевый звукосниматель</th>\n",
       "      <th>Встроенная электроника</th>\n",
       "      <th>Средний звукосниматель</th>\n",
       "    </tr>\n",
       "  </thead>\n",
       "  <tbody>\n",
       "    <tr>\n",
       "      <th>0</th>\n",
       "      <td>Битлз бас</td>\n",
       "      <td>Клён (мэйпл)</td>\n",
       "      <td>Ель</td>\n",
       "      <td>Полуакустическая (Семи Холлоу Бади)</td>\n",
       "      <td>Закреплён винтами</td>\n",
       "      <td>Короткая</td>\n",
       "      <td>30,5\" (777 мм)</td>\n",
       "      <td>Трёхслойный клён/бук</td>\n",
       "      <td>Палисандр (розовое дерево)</td>\n",
       "      <td>22</td>\n",
       "      <td>четырёхструнная</td>\n",
       "      <td>Хамбакер</td>\n",
       "      <td>КНР</td>\n",
       "      <td>nan</td>\n",
       "      <td>nan</td>\n",
       "      <td>nan</td>\n",
       "      <td>nan</td>\n",
       "    </tr>\n",
       "    <tr>\n",
       "      <th>1</th>\n",
       "      <td>Битлз бас</td>\n",
       "      <td>Клён (мэйпл)</td>\n",
       "      <td>Ель</td>\n",
       "      <td>Полуакустическая (Семи Холлоу Бади)</td>\n",
       "      <td>Вклеен в корпус</td>\n",
       "      <td>Короткая</td>\n",
       "      <td>30,5\" (777 мм)</td>\n",
       "      <td>Трёхслойный клён/бук</td>\n",
       "      <td>Палисандр (розовое дерево)</td>\n",
       "      <td>22</td>\n",
       "      <td>четырёхструнная</td>\n",
       "      <td>Соупбар</td>\n",
       "      <td>КНР</td>\n",
       "      <td>Хофнер Игнишн Стэйпл Никел</td>\n",
       "      <td>Хофнер Игнишн Стэйпл Никел</td>\n",
       "      <td>nan</td>\n",
       "      <td>nan</td>\n",
       "    </tr>\n",
       "    <tr>\n",
       "      <th>2</th>\n",
       "      <td>Форма \"Даблкатэвей\"</td>\n",
       "      <td>Ясень</td>\n",
       "      <td>Клён, расщеплённый (неповторимый эффект)</td>\n",
       "      <td>Солид Бади</td>\n",
       "      <td>Закреплён винтами</td>\n",
       "      <td>Длинная</td>\n",
       "      <td>34\" (864 мм)</td>\n",
       "      <td>Пятислойный клён/орех</td>\n",
       "      <td>Палисандр (розовое дерево)</td>\n",
       "      <td>24</td>\n",
       "      <td>пятиструнная</td>\n",
       "      <td>Хамбакер</td>\n",
       "      <td>Индонезия</td>\n",
       "      <td>ESP дизайнд SB-5N</td>\n",
       "      <td>ESP дизайнд SB-5B</td>\n",
       "      <td>Трёхполосный эквалайзер</td>\n",
       "      <td>nan</td>\n",
       "    </tr>\n",
       "    <tr>\n",
       "      <th>3</th>\n",
       "      <td>Саундджиэр</td>\n",
       "      <td>Нато (Ньято / Мора)</td>\n",
       "      <td>nan</td>\n",
       "      <td>Солид Бади</td>\n",
       "      <td>Закреплён винтами</td>\n",
       "      <td>Длинная</td>\n",
       "      <td>34\" (864 мм)</td>\n",
       "      <td>Клён (мэйпл)</td>\n",
       "      <td>Ятоба</td>\n",
       "      <td>22</td>\n",
       "      <td>четырёхструнная</td>\n",
       "      <td>1 x P-Стайл + 1 x J-Стайл</td>\n",
       "      <td>Индонезия</td>\n",
       "      <td>PSNDP</td>\n",
       "      <td>PSNDJ</td>\n",
       "      <td>nan</td>\n",
       "      <td>nan</td>\n",
       "    </tr>\n",
       "    <tr>\n",
       "      <th>4</th>\n",
       "      <td>Полуакустическая (Семи Холлоу Бади)</td>\n",
       "      <td>Клён (мэйпл)</td>\n",
       "      <td>Клён (мэйпл)</td>\n",
       "      <td>Полуакустическая (Семи Холлоу Бади)</td>\n",
       "      <td>Вклеен в корпус</td>\n",
       "      <td>Короткая</td>\n",
       "      <td>30,3\" (770 мм)</td>\n",
       "      <td>Трёхслойный клён/махагони</td>\n",
       "      <td>Индийский лорел (терминалия крылатая)</td>\n",
       "      <td>22</td>\n",
       "      <td>четырёхструнная</td>\n",
       "      <td>Хамбакер</td>\n",
       "      <td>КНР</td>\n",
       "      <td>Ибанез клэссик элит</td>\n",
       "      <td>Ибанез клэссик элит</td>\n",
       "      <td>nan</td>\n",
       "      <td>nan</td>\n",
       "    </tr>\n",
       "    <tr>\n",
       "      <th>...</th>\n",
       "      <td>...</td>\n",
       "      <td>...</td>\n",
       "      <td>...</td>\n",
       "      <td>...</td>\n",
       "      <td>...</td>\n",
       "      <td>...</td>\n",
       "      <td>...</td>\n",
       "      <td>...</td>\n",
       "      <td>...</td>\n",
       "      <td>...</td>\n",
       "      <td>...</td>\n",
       "      <td>...</td>\n",
       "      <td>...</td>\n",
       "      <td>...</td>\n",
       "      <td>...</td>\n",
       "      <td>...</td>\n",
       "      <td>...</td>\n",
       "    </tr>\n",
       "    <tr>\n",
       "      <th>595</th>\n",
       "      <td>Спектор</td>\n",
       "      <td>Плакучий ясень</td>\n",
       "      <td>Тополь</td>\n",
       "      <td>Солид Бади</td>\n",
       "      <td>Сплошной с декой</td>\n",
       "      <td>Малтискейл</td>\n",
       "      <td>Мультимензура \"Малтискэйл\" (веерные лады) 34\" ...</td>\n",
       "      <td>Пятислойный клён/венге</td>\n",
       "      <td>Венге</td>\n",
       "      <td>24</td>\n",
       "      <td>четырёхструнная</td>\n",
       "      <td>Хамбакер</td>\n",
       "      <td>Южная Корея</td>\n",
       "      <td>Фишмэн Флюэнс</td>\n",
       "      <td>Фишмэн Флюэнс</td>\n",
       "      <td>Двухполосный эквалайзер</td>\n",
       "      <td>nan</td>\n",
       "    </tr>\n",
       "    <tr>\n",
       "      <th>596</th>\n",
       "      <td>Спектор</td>\n",
       "      <td>Плакучий ясень</td>\n",
       "      <td>nan</td>\n",
       "      <td>Солид Бади</td>\n",
       "      <td>Закреплён винтами</td>\n",
       "      <td>Сверхдлинная</td>\n",
       "      <td>35\" (889 мм)</td>\n",
       "      <td>3-слойный, выполненный из специально термическ...</td>\n",
       "      <td>Чёрное дерево (Эбони)</td>\n",
       "      <td>24</td>\n",
       "      <td>пятиструнная</td>\n",
       "      <td>1 x P-Стайл + 1 x J-Стайл</td>\n",
       "      <td>Южная Корея</td>\n",
       "      <td>nan</td>\n",
       "      <td>EMG J</td>\n",
       "      <td>Двухполосный эквалайзер</td>\n",
       "      <td>EMG P</td>\n",
       "    </tr>\n",
       "    <tr>\n",
       "      <th>597</th>\n",
       "      <td>Спектор</td>\n",
       "      <td>Нато (Ньято / Мора)</td>\n",
       "      <td>nan</td>\n",
       "      <td>Солид Бади</td>\n",
       "      <td>Закреплён винтами</td>\n",
       "      <td>Длинная</td>\n",
       "      <td>34\" (864 мм)</td>\n",
       "      <td>Трёхслойный клён</td>\n",
       "      <td>Амарант</td>\n",
       "      <td>24</td>\n",
       "      <td>четырёхструнная</td>\n",
       "      <td>1 x P-Стайл + 1 x J-Стайл</td>\n",
       "      <td>КНР</td>\n",
       "      <td>nan</td>\n",
       "      <td>Спектор Джи</td>\n",
       "      <td>nan</td>\n",
       "      <td>Спектор P</td>\n",
       "    </tr>\n",
       "    <tr>\n",
       "      <th>598</th>\n",
       "      <td>Спектор</td>\n",
       "      <td>Нато (Ньято / Мора)</td>\n",
       "      <td>nan</td>\n",
       "      <td>Солид Бади</td>\n",
       "      <td>Закреплён винтами</td>\n",
       "      <td>Длинная</td>\n",
       "      <td>34\" (864 мм)</td>\n",
       "      <td>Трёхслойный клён</td>\n",
       "      <td>Амарант</td>\n",
       "      <td>24</td>\n",
       "      <td>четырёхструнная</td>\n",
       "      <td>1 x P-Стайл + 1 x J-Стайл</td>\n",
       "      <td>КНР</td>\n",
       "      <td>nan</td>\n",
       "      <td>Спектор Джи</td>\n",
       "      <td>nan</td>\n",
       "      <td>Спектор P</td>\n",
       "    </tr>\n",
       "    <tr>\n",
       "      <th>599</th>\n",
       "      <td>Форма \"Стинг рэй\"</td>\n",
       "      <td>Махагони</td>\n",
       "      <td>nan</td>\n",
       "      <td>Солид Бади</td>\n",
       "      <td>Закреплён винтами</td>\n",
       "      <td>Длинная</td>\n",
       "      <td>34\" (864 мм)</td>\n",
       "      <td>Клён (мэйпл)</td>\n",
       "      <td>Клён (мэйпл)</td>\n",
       "      <td>21</td>\n",
       "      <td>четырёхструнная</td>\n",
       "      <td>Форма ММ</td>\n",
       "      <td>Индонезия</td>\n",
       "      <td>nan</td>\n",
       "      <td>Керамический Хамбакер</td>\n",
       "      <td>Двухполосный эквалайзер</td>\n",
       "      <td>nan</td>\n",
       "    </tr>\n",
       "  </tbody>\n",
       "</table>\n",
       "<p>600 rows × 17 columns</p>\n",
       "</div>"
      ],
      "text/plain": [
       "                           Форма корпуса     Материал корпуса  \\\n",
       "0                              Битлз бас         Клён (мэйпл)   \n",
       "1                              Битлз бас         Клён (мэйпл)   \n",
       "2                    Форма \"Даблкатэвей\"                Ясень   \n",
       "3                             Саундджиэр  Нато (Ньято / Мора)   \n",
       "4    Полуакустическая (Семи Холлоу Бади)         Клён (мэйпл)   \n",
       "..                                   ...                  ...   \n",
       "595                              Спектор       Плакучий ясень   \n",
       "596                              Спектор       Плакучий ясень   \n",
       "597                              Спектор  Нато (Ньято / Мора)   \n",
       "598                              Спектор  Нато (Ньято / Мора)   \n",
       "599                    Форма \"Стинг рэй\"             Махагони   \n",
       "\n",
       "                                         Дека  \\\n",
       "0                                         Ель   \n",
       "1                                         Ель   \n",
       "2    Клён, расщеплённый (неповторимый эффект)   \n",
       "3                                         nan   \n",
       "4                                Клён (мэйпл)   \n",
       "..                                        ...   \n",
       "595                                    Тополь   \n",
       "596                                       nan   \n",
       "597                                       nan   \n",
       "598                                       nan   \n",
       "599                                       nan   \n",
       "\n",
       "                             Конструкция  Конструкция грифа       Мензура  \\\n",
       "0    Полуакустическая (Семи Холлоу Бади)  Закреплён винтами      Короткая   \n",
       "1    Полуакустическая (Семи Холлоу Бади)    Вклеен в корпус      Короткая   \n",
       "2                             Солид Бади  Закреплён винтами       Длинная   \n",
       "3                             Солид Бади  Закреплён винтами       Длинная   \n",
       "4    Полуакустическая (Семи Холлоу Бади)    Вклеен в корпус      Короткая   \n",
       "..                                   ...                ...           ...   \n",
       "595                           Солид Бади   Сплошной с декой    Малтискейл   \n",
       "596                           Солид Бади  Закреплён винтами  Сверхдлинная   \n",
       "597                           Солид Бади  Закреплён винтами       Длинная   \n",
       "598                           Солид Бади  Закреплён винтами       Длинная   \n",
       "599                           Солид Бади  Закреплён винтами       Длинная   \n",
       "\n",
       "                                         Длина мензуры  \\\n",
       "0                                       30,5\" (777 мм)   \n",
       "1                                       30,5\" (777 мм)   \n",
       "2                                         34\" (864 мм)   \n",
       "3                                         34\" (864 мм)   \n",
       "4                                       30,3\" (770 мм)   \n",
       "..                                                 ...   \n",
       "595  Мультимензура \"Малтискэйл\" (веерные лады) 34\" ...   \n",
       "596                                       35\" (889 мм)   \n",
       "597                                       34\" (864 мм)   \n",
       "598                                       34\" (864 мм)   \n",
       "599                                       34\" (864 мм)   \n",
       "\n",
       "                                                  Гриф  \\\n",
       "0                                 Трёхслойный клён/бук   \n",
       "1                                 Трёхслойный клён/бук   \n",
       "2                                Пятислойный клён/орех   \n",
       "3                                         Клён (мэйпл)   \n",
       "4                            Трёхслойный клён/махагони   \n",
       "..                                                 ...   \n",
       "595                             Пятислойный клён/венге   \n",
       "596  3-слойный, выполненный из специально термическ...   \n",
       "597                                   Трёхслойный клён   \n",
       "598                                   Трёхслойный клён   \n",
       "599                                       Клён (мэйпл)   \n",
       "\n",
       "                            Накладка грифа Количество ладов      Число струн  \\\n",
       "0               Палисандр (розовое дерево)               22  четырёхструнная   \n",
       "1               Палисандр (розовое дерево)               22  четырёхструнная   \n",
       "2               Палисандр (розовое дерево)               24     пятиструнная   \n",
       "3                                    Ятоба               22  четырёхструнная   \n",
       "4    Индийский лорел (терминалия крылатая)               22  четырёхструнная   \n",
       "..                                     ...              ...              ...   \n",
       "595                                  Венге               24  четырёхструнная   \n",
       "596                  Чёрное дерево (Эбони)               24     пятиструнная   \n",
       "597                                Амарант               24  четырёхструнная   \n",
       "598                                Амарант               24  четырёхструнная   \n",
       "599                           Клён (мэйпл)               21  четырёхструнная   \n",
       "\n",
       "          Типы звукоснимателей Страна производства  \\\n",
       "0                     Хамбакер                 КНР   \n",
       "1                      Соупбар                 КНР   \n",
       "2                     Хамбакер           Индонезия   \n",
       "3    1 x P-Стайл + 1 x J-Стайл           Индонезия   \n",
       "4                     Хамбакер                 КНР   \n",
       "..                         ...                 ...   \n",
       "595                   Хамбакер         Южная Корея   \n",
       "596  1 x P-Стайл + 1 x J-Стайл         Южная Корея   \n",
       "597  1 x P-Стайл + 1 x J-Стайл                 КНР   \n",
       "598  1 x P-Стайл + 1 x J-Стайл                 КНР   \n",
       "599                   Форма ММ           Индонезия   \n",
       "\n",
       "           Звукосниматель грифа    Бриджевый звукосниматель  \\\n",
       "0                           nan                         nan   \n",
       "1    Хофнер Игнишн Стэйпл Никел  Хофнер Игнишн Стэйпл Никел   \n",
       "2             ESP дизайнд SB-5N           ESP дизайнд SB-5B   \n",
       "3                         PSNDP                       PSNDJ   \n",
       "4           Ибанез клэссик элит         Ибанез клэссик элит   \n",
       "..                          ...                         ...   \n",
       "595               Фишмэн Флюэнс               Фишмэн Флюэнс   \n",
       "596                         nan                       EMG J   \n",
       "597                         nan                 Спектор Джи   \n",
       "598                         nan                 Спектор Джи   \n",
       "599                         nan       Керамический Хамбакер   \n",
       "\n",
       "      Встроенная электроника Средний звукосниматель  \n",
       "0                        nan                    nan  \n",
       "1                        nan                    nan  \n",
       "2    Трёхполосный эквалайзер                    nan  \n",
       "3                        nan                    nan  \n",
       "4                        nan                    nan  \n",
       "..                       ...                    ...  \n",
       "595  Двухполосный эквалайзер                    nan  \n",
       "596  Двухполосный эквалайзер                  EMG P  \n",
       "597                      nan              Спектор P  \n",
       "598                      nan              Спектор P  \n",
       "599  Двухполосный эквалайзер                    nan  \n",
       "\n",
       "[600 rows x 17 columns]"
      ]
     },
     "execution_count": 33,
     "metadata": {},
     "output_type": "execute_result"
    }
   ],
   "source": [
    "description_df"
   ]
  },
  {
   "cell_type": "markdown",
   "metadata": {},
   "source": [
    "Присоединим полученный датафрейм к названиям инструментов и ценам."
   ]
  },
  {
   "cell_type": "code",
   "execution_count": 34,
   "metadata": {},
   "outputs": [],
   "source": [
    "musik_productiv_df = pd.DataFrame({'Наименование' : bass_name_list, \n",
    "                                  'Цена' : price_list_stripped})"
   ]
  },
  {
   "cell_type": "code",
   "execution_count": 35,
   "metadata": {
    "scrolled": true
   },
   "outputs": [],
   "source": [
    "musik_productiv_df = pd.merge(musik_productiv_df, description_df, how = 'left', left_index=True, right_index = True)"
   ]
  },
  {
   "cell_type": "code",
   "execution_count": 36,
   "metadata": {
    "scrolled": false
   },
   "outputs": [
    {
     "data": {
      "text/html": [
       "<div>\n",
       "<style scoped>\n",
       "    .dataframe tbody tr th:only-of-type {\n",
       "        vertical-align: middle;\n",
       "    }\n",
       "\n",
       "    .dataframe tbody tr th {\n",
       "        vertical-align: top;\n",
       "    }\n",
       "\n",
       "    .dataframe thead th {\n",
       "        text-align: right;\n",
       "    }\n",
       "</style>\n",
       "<table border=\"1\" class=\"dataframe\">\n",
       "  <thead>\n",
       "    <tr style=\"text-align: right;\">\n",
       "      <th></th>\n",
       "      <th>Наименование</th>\n",
       "      <th>Цена</th>\n",
       "      <th>Форма корпуса</th>\n",
       "      <th>Материал корпуса</th>\n",
       "      <th>Дека</th>\n",
       "      <th>Конструкция</th>\n",
       "      <th>Конструкция грифа</th>\n",
       "      <th>Мензура</th>\n",
       "      <th>Длина мензуры</th>\n",
       "      <th>Гриф</th>\n",
       "      <th>Накладка грифа</th>\n",
       "      <th>Количество ладов</th>\n",
       "      <th>Число струн</th>\n",
       "      <th>Типы звукоснимателей</th>\n",
       "      <th>Страна производства</th>\n",
       "      <th>Звукосниматель грифа</th>\n",
       "      <th>Бриджевый звукосниматель</th>\n",
       "      <th>Встроенная электроника</th>\n",
       "      <th>Средний звукосниматель</th>\n",
       "    </tr>\n",
       "  </thead>\n",
       "  <tbody>\n",
       "    <tr>\n",
       "      <th>0</th>\n",
       "      <td>Höfner Ignition Club Bass VSB</td>\n",
       "      <td>25388</td>\n",
       "      <td>Битлз бас</td>\n",
       "      <td>Клён (мэйпл)</td>\n",
       "      <td>Ель</td>\n",
       "      <td>Полуакустическая (Семи Холлоу Бади)</td>\n",
       "      <td>Закреплён винтами</td>\n",
       "      <td>Короткая</td>\n",
       "      <td>30,5\" (777 мм)</td>\n",
       "      <td>Трёхслойный клён/бук</td>\n",
       "      <td>Палисандр (розовое дерево)</td>\n",
       "      <td>22</td>\n",
       "      <td>четырёхструнная</td>\n",
       "      <td>Хамбакер</td>\n",
       "      <td>КНР</td>\n",
       "      <td>nan</td>\n",
       "      <td>nan</td>\n",
       "      <td>nan</td>\n",
       "      <td>nan</td>\n",
       "    </tr>\n",
       "    <tr>\n",
       "      <th>1</th>\n",
       "      <td>Höfner Violin Ignition Bass SB</td>\n",
       "      <td>24940</td>\n",
       "      <td>Битлз бас</td>\n",
       "      <td>Клён (мэйпл)</td>\n",
       "      <td>Ель</td>\n",
       "      <td>Полуакустическая (Семи Холлоу Бади)</td>\n",
       "      <td>Вклеен в корпус</td>\n",
       "      <td>Короткая</td>\n",
       "      <td>30,5\" (777 мм)</td>\n",
       "      <td>Трёхслойный клён/бук</td>\n",
       "      <td>Палисандр (розовое дерево)</td>\n",
       "      <td>22</td>\n",
       "      <td>четырёхструнная</td>\n",
       "      <td>Соупбар</td>\n",
       "      <td>КНР</td>\n",
       "      <td>Хофнер Игнишн Стэйпл Никел</td>\n",
       "      <td>Хофнер Игнишн Стэйпл Никел</td>\n",
       "      <td>nan</td>\n",
       "      <td>nan</td>\n",
       "    </tr>\n",
       "    <tr>\n",
       "      <th>2</th>\n",
       "      <td>ESP LTD B-205 SM STBLKS</td>\n",
       "      <td>50432</td>\n",
       "      <td>Форма \"Даблкатэвей\"</td>\n",
       "      <td>Ясень</td>\n",
       "      <td>Клён, расщеплённый (неповторимый эффект)</td>\n",
       "      <td>Солид Бади</td>\n",
       "      <td>Закреплён винтами</td>\n",
       "      <td>Длинная</td>\n",
       "      <td>34\" (864 мм)</td>\n",
       "      <td>Пятислойный клён/орех</td>\n",
       "      <td>Палисандр (розовое дерево)</td>\n",
       "      <td>24</td>\n",
       "      <td>пятиструнная</td>\n",
       "      <td>Хамбакер</td>\n",
       "      <td>Индонезия</td>\n",
       "      <td>ESP дизайнд SB-5N</td>\n",
       "      <td>ESP дизайнд SB-5B</td>\n",
       "      <td>Трёхполосный эквалайзер</td>\n",
       "      <td>nan</td>\n",
       "    </tr>\n",
       "    <tr>\n",
       "      <th>3</th>\n",
       "      <td>Ibanez Gio GSR200B WNF</td>\n",
       "      <td>18593</td>\n",
       "      <td>Саундджиэр</td>\n",
       "      <td>Нато (Ньято / Мора)</td>\n",
       "      <td>nan</td>\n",
       "      <td>Солид Бади</td>\n",
       "      <td>Закреплён винтами</td>\n",
       "      <td>Длинная</td>\n",
       "      <td>34\" (864 мм)</td>\n",
       "      <td>Клён (мэйпл)</td>\n",
       "      <td>Ятоба</td>\n",
       "      <td>22</td>\n",
       "      <td>четырёхструнная</td>\n",
       "      <td>1 x P-Стайл + 1 x J-Стайл</td>\n",
       "      <td>Индонезия</td>\n",
       "      <td>PSNDP</td>\n",
       "      <td>PSNDJ</td>\n",
       "      <td>nan</td>\n",
       "      <td>nan</td>\n",
       "    </tr>\n",
       "    <tr>\n",
       "      <th>4</th>\n",
       "      <td>Ibanez Artcore AGB200-NT</td>\n",
       "      <td>41742</td>\n",
       "      <td>Полуакустическая (Семи Холлоу Бади)</td>\n",
       "      <td>Клён (мэйпл)</td>\n",
       "      <td>Клён (мэйпл)</td>\n",
       "      <td>Полуакустическая (Семи Холлоу Бади)</td>\n",
       "      <td>Вклеен в корпус</td>\n",
       "      <td>Короткая</td>\n",
       "      <td>30,3\" (770 мм)</td>\n",
       "      <td>Трёхслойный клён/махагони</td>\n",
       "      <td>Индийский лорел (терминалия крылатая)</td>\n",
       "      <td>22</td>\n",
       "      <td>четырёхструнная</td>\n",
       "      <td>Хамбакер</td>\n",
       "      <td>КНР</td>\n",
       "      <td>Ибанез клэссик элит</td>\n",
       "      <td>Ибанез клэссик элит</td>\n",
       "      <td>nan</td>\n",
       "      <td>nan</td>\n",
       "    </tr>\n",
       "    <tr>\n",
       "      <th>...</th>\n",
       "      <td>...</td>\n",
       "      <td>...</td>\n",
       "      <td>...</td>\n",
       "      <td>...</td>\n",
       "      <td>...</td>\n",
       "      <td>...</td>\n",
       "      <td>...</td>\n",
       "      <td>...</td>\n",
       "      <td>...</td>\n",
       "      <td>...</td>\n",
       "      <td>...</td>\n",
       "      <td>...</td>\n",
       "      <td>...</td>\n",
       "      <td>...</td>\n",
       "      <td>...</td>\n",
       "      <td>...</td>\n",
       "      <td>...</td>\n",
       "      <td>...</td>\n",
       "      <td>...</td>\n",
       "    </tr>\n",
       "    <tr>\n",
       "      <th>595</th>\n",
       "      <td>Spector NS Dimension MS 4 Super Faded Black</td>\n",
       "      <td>149267</td>\n",
       "      <td>Спектор</td>\n",
       "      <td>Плакучий ясень</td>\n",
       "      <td>Тополь</td>\n",
       "      <td>Солид Бади</td>\n",
       "      <td>Сплошной с декой</td>\n",
       "      <td>Малтискейл</td>\n",
       "      <td>Мультимензура \"Малтискэйл\" (веерные лады) 34\" ...</td>\n",
       "      <td>Пятислойный клён/венге</td>\n",
       "      <td>Венге</td>\n",
       "      <td>24</td>\n",
       "      <td>четырёхструнная</td>\n",
       "      <td>Хамбакер</td>\n",
       "      <td>Южная Корея</td>\n",
       "      <td>Фишмэн Флюэнс</td>\n",
       "      <td>Фишмэн Флюэнс</td>\n",
       "      <td>Двухполосный эквалайзер</td>\n",
       "      <td>nan</td>\n",
       "    </tr>\n",
       "    <tr>\n",
       "      <th>596</th>\n",
       "      <td>Spector NS Pulse 5 Carbon Series Cinder Red</td>\n",
       "      <td>88037</td>\n",
       "      <td>Спектор</td>\n",
       "      <td>Плакучий ясень</td>\n",
       "      <td>nan</td>\n",
       "      <td>Солид Бади</td>\n",
       "      <td>Закреплён винтами</td>\n",
       "      <td>Сверхдлинная</td>\n",
       "      <td>35\" (889 мм)</td>\n",
       "      <td>3-слойный, выполненный из специально термическ...</td>\n",
       "      <td>Чёрное дерево (Эбони)</td>\n",
       "      <td>24</td>\n",
       "      <td>пятиструнная</td>\n",
       "      <td>1 x P-Стайл + 1 x J-Стайл</td>\n",
       "      <td>Южная Корея</td>\n",
       "      <td>nan</td>\n",
       "      <td>EMG J</td>\n",
       "      <td>Двухполосный эквалайзер</td>\n",
       "      <td>EMG P</td>\n",
       "    </tr>\n",
       "    <tr>\n",
       "      <th>597</th>\n",
       "      <td>Spector Performer 4 BLK</td>\n",
       "      <td>30541</td>\n",
       "      <td>Спектор</td>\n",
       "      <td>Нато (Ньято / Мора)</td>\n",
       "      <td>nan</td>\n",
       "      <td>Солид Бади</td>\n",
       "      <td>Закреплён винтами</td>\n",
       "      <td>Длинная</td>\n",
       "      <td>34\" (864 мм)</td>\n",
       "      <td>Трёхслойный клён</td>\n",
       "      <td>Амарант</td>\n",
       "      <td>24</td>\n",
       "      <td>четырёхструнная</td>\n",
       "      <td>1 x P-Стайл + 1 x J-Стайл</td>\n",
       "      <td>КНР</td>\n",
       "      <td>nan</td>\n",
       "      <td>Спектор Джи</td>\n",
       "      <td>nan</td>\n",
       "      <td>Спектор P</td>\n",
       "    </tr>\n",
       "    <tr>\n",
       "      <th>598</th>\n",
       "      <td>Spector Performer 4 MBL</td>\n",
       "      <td>32781</td>\n",
       "      <td>Спектор</td>\n",
       "      <td>Нато (Ньято / Мора)</td>\n",
       "      <td>nan</td>\n",
       "      <td>Солид Бади</td>\n",
       "      <td>Закреплён винтами</td>\n",
       "      <td>Длинная</td>\n",
       "      <td>34\" (864 мм)</td>\n",
       "      <td>Трёхслойный клён</td>\n",
       "      <td>Амарант</td>\n",
       "      <td>24</td>\n",
       "      <td>четырёхструнная</td>\n",
       "      <td>1 x P-Стайл + 1 x J-Стайл</td>\n",
       "      <td>КНР</td>\n",
       "      <td>nan</td>\n",
       "      <td>Спектор Джи</td>\n",
       "      <td>nan</td>\n",
       "      <td>Спектор P</td>\n",
       "    </tr>\n",
       "    <tr>\n",
       "      <th>599</th>\n",
       "      <td>Sterling by Music Man StingRay Classic Ray24CA...</td>\n",
       "      <td>51823</td>\n",
       "      <td>Форма \"Стинг рэй\"</td>\n",
       "      <td>Махагони</td>\n",
       "      <td>nan</td>\n",
       "      <td>Солид Бади</td>\n",
       "      <td>Закреплён винтами</td>\n",
       "      <td>Длинная</td>\n",
       "      <td>34\" (864 мм)</td>\n",
       "      <td>Клён (мэйпл)</td>\n",
       "      <td>Клён (мэйпл)</td>\n",
       "      <td>21</td>\n",
       "      <td>четырёхструнная</td>\n",
       "      <td>Форма ММ</td>\n",
       "      <td>Индонезия</td>\n",
       "      <td>nan</td>\n",
       "      <td>Керамический Хамбакер</td>\n",
       "      <td>Двухполосный эквалайзер</td>\n",
       "      <td>nan</td>\n",
       "    </tr>\n",
       "  </tbody>\n",
       "</table>\n",
       "<p>600 rows × 19 columns</p>\n",
       "</div>"
      ],
      "text/plain": [
       "                                          Наименование    Цена  \\\n",
       "0                        Höfner Ignition Club Bass VSB   25388   \n",
       "1                       Höfner Violin Ignition Bass SB   24940   \n",
       "2                              ESP LTD B-205 SM STBLKS   50432   \n",
       "3                               Ibanez Gio GSR200B WNF   18593   \n",
       "4                             Ibanez Artcore AGB200-NT   41742   \n",
       "..                                                 ...     ...   \n",
       "595        Spector NS Dimension MS 4 Super Faded Black  149267   \n",
       "596        Spector NS Pulse 5 Carbon Series Cinder Red   88037   \n",
       "597                            Spector Performer 4 BLK   30541   \n",
       "598                            Spector Performer 4 MBL   32781   \n",
       "599  Sterling by Music Man StingRay Classic Ray24CA...   51823   \n",
       "\n",
       "                           Форма корпуса     Материал корпуса  \\\n",
       "0                              Битлз бас         Клён (мэйпл)   \n",
       "1                              Битлз бас         Клён (мэйпл)   \n",
       "2                    Форма \"Даблкатэвей\"                Ясень   \n",
       "3                             Саундджиэр  Нато (Ньято / Мора)   \n",
       "4    Полуакустическая (Семи Холлоу Бади)         Клён (мэйпл)   \n",
       "..                                   ...                  ...   \n",
       "595                              Спектор       Плакучий ясень   \n",
       "596                              Спектор       Плакучий ясень   \n",
       "597                              Спектор  Нато (Ньято / Мора)   \n",
       "598                              Спектор  Нато (Ньято / Мора)   \n",
       "599                    Форма \"Стинг рэй\"             Махагони   \n",
       "\n",
       "                                         Дека  \\\n",
       "0                                         Ель   \n",
       "1                                         Ель   \n",
       "2    Клён, расщеплённый (неповторимый эффект)   \n",
       "3                                         nan   \n",
       "4                                Клён (мэйпл)   \n",
       "..                                        ...   \n",
       "595                                    Тополь   \n",
       "596                                       nan   \n",
       "597                                       nan   \n",
       "598                                       nan   \n",
       "599                                       nan   \n",
       "\n",
       "                             Конструкция  Конструкция грифа       Мензура  \\\n",
       "0    Полуакустическая (Семи Холлоу Бади)  Закреплён винтами      Короткая   \n",
       "1    Полуакустическая (Семи Холлоу Бади)    Вклеен в корпус      Короткая   \n",
       "2                             Солид Бади  Закреплён винтами       Длинная   \n",
       "3                             Солид Бади  Закреплён винтами       Длинная   \n",
       "4    Полуакустическая (Семи Холлоу Бади)    Вклеен в корпус      Короткая   \n",
       "..                                   ...                ...           ...   \n",
       "595                           Солид Бади   Сплошной с декой    Малтискейл   \n",
       "596                           Солид Бади  Закреплён винтами  Сверхдлинная   \n",
       "597                           Солид Бади  Закреплён винтами       Длинная   \n",
       "598                           Солид Бади  Закреплён винтами       Длинная   \n",
       "599                           Солид Бади  Закреплён винтами       Длинная   \n",
       "\n",
       "                                         Длина мензуры  \\\n",
       "0                                       30,5\" (777 мм)   \n",
       "1                                       30,5\" (777 мм)   \n",
       "2                                         34\" (864 мм)   \n",
       "3                                         34\" (864 мм)   \n",
       "4                                       30,3\" (770 мм)   \n",
       "..                                                 ...   \n",
       "595  Мультимензура \"Малтискэйл\" (веерные лады) 34\" ...   \n",
       "596                                       35\" (889 мм)   \n",
       "597                                       34\" (864 мм)   \n",
       "598                                       34\" (864 мм)   \n",
       "599                                       34\" (864 мм)   \n",
       "\n",
       "                                                  Гриф  \\\n",
       "0                                 Трёхслойный клён/бук   \n",
       "1                                 Трёхслойный клён/бук   \n",
       "2                                Пятислойный клён/орех   \n",
       "3                                         Клён (мэйпл)   \n",
       "4                            Трёхслойный клён/махагони   \n",
       "..                                                 ...   \n",
       "595                             Пятислойный клён/венге   \n",
       "596  3-слойный, выполненный из специально термическ...   \n",
       "597                                   Трёхслойный клён   \n",
       "598                                   Трёхслойный клён   \n",
       "599                                       Клён (мэйпл)   \n",
       "\n",
       "                            Накладка грифа Количество ладов      Число струн  \\\n",
       "0               Палисандр (розовое дерево)               22  четырёхструнная   \n",
       "1               Палисандр (розовое дерево)               22  четырёхструнная   \n",
       "2               Палисандр (розовое дерево)               24     пятиструнная   \n",
       "3                                    Ятоба               22  четырёхструнная   \n",
       "4    Индийский лорел (терминалия крылатая)               22  четырёхструнная   \n",
       "..                                     ...              ...              ...   \n",
       "595                                  Венге               24  четырёхструнная   \n",
       "596                  Чёрное дерево (Эбони)               24     пятиструнная   \n",
       "597                                Амарант               24  четырёхструнная   \n",
       "598                                Амарант               24  четырёхструнная   \n",
       "599                           Клён (мэйпл)               21  четырёхструнная   \n",
       "\n",
       "          Типы звукоснимателей Страна производства  \\\n",
       "0                     Хамбакер                 КНР   \n",
       "1                      Соупбар                 КНР   \n",
       "2                     Хамбакер           Индонезия   \n",
       "3    1 x P-Стайл + 1 x J-Стайл           Индонезия   \n",
       "4                     Хамбакер                 КНР   \n",
       "..                         ...                 ...   \n",
       "595                   Хамбакер         Южная Корея   \n",
       "596  1 x P-Стайл + 1 x J-Стайл         Южная Корея   \n",
       "597  1 x P-Стайл + 1 x J-Стайл                 КНР   \n",
       "598  1 x P-Стайл + 1 x J-Стайл                 КНР   \n",
       "599                   Форма ММ           Индонезия   \n",
       "\n",
       "           Звукосниматель грифа    Бриджевый звукосниматель  \\\n",
       "0                           nan                         nan   \n",
       "1    Хофнер Игнишн Стэйпл Никел  Хофнер Игнишн Стэйпл Никел   \n",
       "2             ESP дизайнд SB-5N           ESP дизайнд SB-5B   \n",
       "3                         PSNDP                       PSNDJ   \n",
       "4           Ибанез клэссик элит         Ибанез клэссик элит   \n",
       "..                          ...                         ...   \n",
       "595               Фишмэн Флюэнс               Фишмэн Флюэнс   \n",
       "596                         nan                       EMG J   \n",
       "597                         nan                 Спектор Джи   \n",
       "598                         nan                 Спектор Джи   \n",
       "599                         nan       Керамический Хамбакер   \n",
       "\n",
       "      Встроенная электроника Средний звукосниматель  \n",
       "0                        nan                    nan  \n",
       "1                        nan                    nan  \n",
       "2    Трёхполосный эквалайзер                    nan  \n",
       "3                        nan                    nan  \n",
       "4                        nan                    nan  \n",
       "..                       ...                    ...  \n",
       "595  Двухполосный эквалайзер                    nan  \n",
       "596  Двухполосный эквалайзер                  EMG P  \n",
       "597                      nan              Спектор P  \n",
       "598                      nan              Спектор P  \n",
       "599  Двухполосный эквалайзер                    nan  \n",
       "\n",
       "[600 rows x 19 columns]"
      ]
     },
     "execution_count": 36,
     "metadata": {},
     "output_type": "execute_result"
    }
   ],
   "source": [
    "musik_productiv_df"
   ]
  },
  {
   "cell_type": "code",
   "execution_count": 37,
   "metadata": {},
   "outputs": [],
   "source": [
    "musik_productiv_df.to_csv('musik_productiv_df', index = False)"
   ]
  },
  {
   "cell_type": "markdown",
   "metadata": {},
   "source": [
    "## Вывод"
   ]
  },
  {
   "cell_type": "markdown",
   "metadata": {},
   "source": [
    "Данные с сайта \"musik-produktiv.com\" получены и представляют собой единый датафрейм. Количество инструментов: 600, количество признаков: 19"
   ]
  }
 ],
 "metadata": {
  "kernelspec": {
   "display_name": "Python 3 (ipykernel)",
   "language": "python",
   "name": "python3"
  },
  "language_info": {
   "codemirror_mode": {
    "name": "ipython",
    "version": 3
   },
   "file_extension": ".py",
   "mimetype": "text/x-python",
   "name": "python",
   "nbconvert_exporter": "python",
   "pygments_lexer": "ipython3",
   "version": "3.10.2"
  }
 },
 "nbformat": 4,
 "nbformat_minor": 4
}

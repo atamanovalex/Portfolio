{
 "cells": [
  {
   "cell_type": "markdown",
   "metadata": {},
   "source": [
    "# Анализ исторических данных о продажах игр для интернет-магазина компьютерных игр"
   ]
  },
  {
   "cell_type": "markdown",
   "metadata": {},
   "source": [
    "Из открытых источников доступны исторические данные о продажах игр, оценки пользователей и экспертов, жанры и платформы (например, Xbox или PlayStation). Необходимо выявить определяющие успешность игры закономерности. Это позволит сделать ставку на потенциально популярный продукт и спланировать рекламные кампании.\n",
    "Имеются данные до 2016 года. Представим, что сейчас декабрь 2016 г., и интернет-магазин планирует кампанию на 2017-й.\n",
    "В наборе данных попадается аббревиатура ESRB (Entertainment Software Rating Board) — это ассоциация, определяющая возрастной рейтинг компьютерных игр. ESRB оценивает игровой контент и присваивает ему подходящую возрастную категорию, например, «Для взрослых», «Для детей младшего возраста» или «Для подростков»."
   ]
  },
  {
   "cell_type": "code",
   "execution_count": 1,
   "metadata": {},
   "outputs": [],
   "source": [
    "import pandas as pd\n",
    "import numpy as np\n",
    "import math as mt\n",
    "import seaborn as sns\n",
    "import matplotlib.pyplot as plt\n",
    "import datetime as dt\n",
    "from scipy import stats as st"
   ]
  },
  {
   "cell_type": "markdown",
   "metadata": {},
   "source": [
    "## Знакомство с данными"
   ]
  },
  {
   "cell_type": "code",
   "execution_count": 2,
   "metadata": {
    "scrolled": true
   },
   "outputs": [
    {
     "data": {
      "text/html": [
       "<div>\n",
       "<style scoped>\n",
       "    .dataframe tbody tr th:only-of-type {\n",
       "        vertical-align: middle;\n",
       "    }\n",
       "\n",
       "    .dataframe tbody tr th {\n",
       "        vertical-align: top;\n",
       "    }\n",
       "\n",
       "    .dataframe thead th {\n",
       "        text-align: right;\n",
       "    }\n",
       "</style>\n",
       "<table border=\"1\" class=\"dataframe\">\n",
       "  <thead>\n",
       "    <tr style=\"text-align: right;\">\n",
       "      <th></th>\n",
       "      <th>Name</th>\n",
       "      <th>Platform</th>\n",
       "      <th>Year_of_Release</th>\n",
       "      <th>Genre</th>\n",
       "      <th>NA_sales</th>\n",
       "      <th>EU_sales</th>\n",
       "      <th>JP_sales</th>\n",
       "      <th>Other_sales</th>\n",
       "      <th>Critic_Score</th>\n",
       "      <th>User_Score</th>\n",
       "      <th>Rating</th>\n",
       "    </tr>\n",
       "  </thead>\n",
       "  <tbody>\n",
       "    <tr>\n",
       "      <th>0</th>\n",
       "      <td>Wii Sports</td>\n",
       "      <td>Wii</td>\n",
       "      <td>2006.0</td>\n",
       "      <td>Sports</td>\n",
       "      <td>41.36</td>\n",
       "      <td>28.96</td>\n",
       "      <td>3.77</td>\n",
       "      <td>8.45</td>\n",
       "      <td>76.0</td>\n",
       "      <td>8</td>\n",
       "      <td>E</td>\n",
       "    </tr>\n",
       "    <tr>\n",
       "      <th>1</th>\n",
       "      <td>Super Mario Bros.</td>\n",
       "      <td>NES</td>\n",
       "      <td>1985.0</td>\n",
       "      <td>Platform</td>\n",
       "      <td>29.08</td>\n",
       "      <td>3.58</td>\n",
       "      <td>6.81</td>\n",
       "      <td>0.77</td>\n",
       "      <td>NaN</td>\n",
       "      <td>NaN</td>\n",
       "      <td>NaN</td>\n",
       "    </tr>\n",
       "    <tr>\n",
       "      <th>2</th>\n",
       "      <td>Mario Kart Wii</td>\n",
       "      <td>Wii</td>\n",
       "      <td>2008.0</td>\n",
       "      <td>Racing</td>\n",
       "      <td>15.68</td>\n",
       "      <td>12.76</td>\n",
       "      <td>3.79</td>\n",
       "      <td>3.29</td>\n",
       "      <td>82.0</td>\n",
       "      <td>8.3</td>\n",
       "      <td>E</td>\n",
       "    </tr>\n",
       "    <tr>\n",
       "      <th>3</th>\n",
       "      <td>Wii Sports Resort</td>\n",
       "      <td>Wii</td>\n",
       "      <td>2009.0</td>\n",
       "      <td>Sports</td>\n",
       "      <td>15.61</td>\n",
       "      <td>10.93</td>\n",
       "      <td>3.28</td>\n",
       "      <td>2.95</td>\n",
       "      <td>80.0</td>\n",
       "      <td>8</td>\n",
       "      <td>E</td>\n",
       "    </tr>\n",
       "    <tr>\n",
       "      <th>4</th>\n",
       "      <td>Pokemon Red/Pokemon Blue</td>\n",
       "      <td>GB</td>\n",
       "      <td>1996.0</td>\n",
       "      <td>Role-Playing</td>\n",
       "      <td>11.27</td>\n",
       "      <td>8.89</td>\n",
       "      <td>10.22</td>\n",
       "      <td>1.00</td>\n",
       "      <td>NaN</td>\n",
       "      <td>NaN</td>\n",
       "      <td>NaN</td>\n",
       "    </tr>\n",
       "  </tbody>\n",
       "</table>\n",
       "</div>"
      ],
      "text/plain": [
       "                       Name Platform  Year_of_Release         Genre  NA_sales  \\\n",
       "0                Wii Sports      Wii           2006.0        Sports     41.36   \n",
       "1         Super Mario Bros.      NES           1985.0      Platform     29.08   \n",
       "2            Mario Kart Wii      Wii           2008.0        Racing     15.68   \n",
       "3         Wii Sports Resort      Wii           2009.0        Sports     15.61   \n",
       "4  Pokemon Red/Pokemon Blue       GB           1996.0  Role-Playing     11.27   \n",
       "\n",
       "   EU_sales  JP_sales  Other_sales  Critic_Score User_Score Rating  \n",
       "0     28.96      3.77         8.45          76.0          8      E  \n",
       "1      3.58      6.81         0.77           NaN        NaN    NaN  \n",
       "2     12.76      3.79         3.29          82.0        8.3      E  \n",
       "3     10.93      3.28         2.95          80.0          8      E  \n",
       "4      8.89     10.22         1.00           NaN        NaN    NaN  "
      ]
     },
     "execution_count": 2,
     "metadata": {},
     "output_type": "execute_result"
    }
   ],
   "source": [
    "games = pd.read_csv('games.csv')\n",
    "games.head()"
   ]
  },
  {
   "cell_type": "code",
   "execution_count": 3,
   "metadata": {
    "scrolled": true
   },
   "outputs": [
    {
     "name": "stdout",
     "output_type": "stream",
     "text": [
      "<class 'pandas.core.frame.DataFrame'>\n",
      "RangeIndex: 16715 entries, 0 to 16714\n",
      "Data columns (total 11 columns):\n",
      " #   Column           Non-Null Count  Dtype  \n",
      "---  ------           --------------  -----  \n",
      " 0   Name             16713 non-null  object \n",
      " 1   Platform         16715 non-null  object \n",
      " 2   Year_of_Release  16446 non-null  float64\n",
      " 3   Genre            16713 non-null  object \n",
      " 4   NA_sales         16715 non-null  float64\n",
      " 5   EU_sales         16715 non-null  float64\n",
      " 6   JP_sales         16715 non-null  float64\n",
      " 7   Other_sales      16715 non-null  float64\n",
      " 8   Critic_Score     8137 non-null   float64\n",
      " 9   User_Score       10014 non-null  object \n",
      " 10  Rating           9949 non-null   object \n",
      "dtypes: float64(6), object(5)\n",
      "memory usage: 1.4+ MB\n"
     ]
    }
   ],
   "source": [
    "games.info()"
   ]
  },
  {
   "cell_type": "markdown",
   "metadata": {},
   "source": [
    "Обнаружены пропуски в столбцах \"Name\", \"Year_of_Release\", \"Critic_Score\", \"User_Score\", \"Rating\". Тип данных в столбце \"Year_of_Release\" должен быть заменен на \"datetime\"."
   ]
  },
  {
   "cell_type": "markdown",
   "metadata": {},
   "source": [
    "## Подготовка данных"
   ]
  },
  {
   "cell_type": "markdown",
   "metadata": {},
   "source": [
    "### Замена названия столбцов"
   ]
  },
  {
   "cell_type": "markdown",
   "metadata": {},
   "source": [
    "Приведем данные к нижнему регистру."
   ]
  },
  {
   "cell_type": "code",
   "execution_count": 4,
   "metadata": {},
   "outputs": [
    {
     "data": {
      "text/html": [
       "<div>\n",
       "<style scoped>\n",
       "    .dataframe tbody tr th:only-of-type {\n",
       "        vertical-align: middle;\n",
       "    }\n",
       "\n",
       "    .dataframe tbody tr th {\n",
       "        vertical-align: top;\n",
       "    }\n",
       "\n",
       "    .dataframe thead th {\n",
       "        text-align: right;\n",
       "    }\n",
       "</style>\n",
       "<table border=\"1\" class=\"dataframe\">\n",
       "  <thead>\n",
       "    <tr style=\"text-align: right;\">\n",
       "      <th></th>\n",
       "      <th>name</th>\n",
       "      <th>platform</th>\n",
       "      <th>year_of_release</th>\n",
       "      <th>genre</th>\n",
       "      <th>na_sales</th>\n",
       "      <th>eu_sales</th>\n",
       "      <th>jp_sales</th>\n",
       "      <th>other_sales</th>\n",
       "      <th>critic_score</th>\n",
       "      <th>user_score</th>\n",
       "      <th>rating</th>\n",
       "    </tr>\n",
       "  </thead>\n",
       "  <tbody>\n",
       "    <tr>\n",
       "      <th>0</th>\n",
       "      <td>Wii Sports</td>\n",
       "      <td>Wii</td>\n",
       "      <td>2006.0</td>\n",
       "      <td>Sports</td>\n",
       "      <td>41.36</td>\n",
       "      <td>28.96</td>\n",
       "      <td>3.77</td>\n",
       "      <td>8.45</td>\n",
       "      <td>76.0</td>\n",
       "      <td>8</td>\n",
       "      <td>E</td>\n",
       "    </tr>\n",
       "    <tr>\n",
       "      <th>1</th>\n",
       "      <td>Super Mario Bros.</td>\n",
       "      <td>NES</td>\n",
       "      <td>1985.0</td>\n",
       "      <td>Platform</td>\n",
       "      <td>29.08</td>\n",
       "      <td>3.58</td>\n",
       "      <td>6.81</td>\n",
       "      <td>0.77</td>\n",
       "      <td>NaN</td>\n",
       "      <td>NaN</td>\n",
       "      <td>NaN</td>\n",
       "    </tr>\n",
       "    <tr>\n",
       "      <th>2</th>\n",
       "      <td>Mario Kart Wii</td>\n",
       "      <td>Wii</td>\n",
       "      <td>2008.0</td>\n",
       "      <td>Racing</td>\n",
       "      <td>15.68</td>\n",
       "      <td>12.76</td>\n",
       "      <td>3.79</td>\n",
       "      <td>3.29</td>\n",
       "      <td>82.0</td>\n",
       "      <td>8.3</td>\n",
       "      <td>E</td>\n",
       "    </tr>\n",
       "    <tr>\n",
       "      <th>3</th>\n",
       "      <td>Wii Sports Resort</td>\n",
       "      <td>Wii</td>\n",
       "      <td>2009.0</td>\n",
       "      <td>Sports</td>\n",
       "      <td>15.61</td>\n",
       "      <td>10.93</td>\n",
       "      <td>3.28</td>\n",
       "      <td>2.95</td>\n",
       "      <td>80.0</td>\n",
       "      <td>8</td>\n",
       "      <td>E</td>\n",
       "    </tr>\n",
       "    <tr>\n",
       "      <th>4</th>\n",
       "      <td>Pokemon Red/Pokemon Blue</td>\n",
       "      <td>GB</td>\n",
       "      <td>1996.0</td>\n",
       "      <td>Role-Playing</td>\n",
       "      <td>11.27</td>\n",
       "      <td>8.89</td>\n",
       "      <td>10.22</td>\n",
       "      <td>1.00</td>\n",
       "      <td>NaN</td>\n",
       "      <td>NaN</td>\n",
       "      <td>NaN</td>\n",
       "    </tr>\n",
       "  </tbody>\n",
       "</table>\n",
       "</div>"
      ],
      "text/plain": [
       "                       name platform  year_of_release         genre  na_sales  \\\n",
       "0                Wii Sports      Wii           2006.0        Sports     41.36   \n",
       "1         Super Mario Bros.      NES           1985.0      Platform     29.08   \n",
       "2            Mario Kart Wii      Wii           2008.0        Racing     15.68   \n",
       "3         Wii Sports Resort      Wii           2009.0        Sports     15.61   \n",
       "4  Pokemon Red/Pokemon Blue       GB           1996.0  Role-Playing     11.27   \n",
       "\n",
       "   eu_sales  jp_sales  other_sales  critic_score user_score rating  \n",
       "0     28.96      3.77         8.45          76.0          8      E  \n",
       "1      3.58      6.81         0.77           NaN        NaN    NaN  \n",
       "2     12.76      3.79         3.29          82.0        8.3      E  \n",
       "3     10.93      3.28         2.95          80.0          8      E  \n",
       "4      8.89     10.22         1.00           NaN        NaN    NaN  "
      ]
     },
     "execution_count": 4,
     "metadata": {},
     "output_type": "execute_result"
    }
   ],
   "source": [
    "games.columns = games.columns.str.lower()\n",
    "games.head()"
   ]
  },
  {
   "cell_type": "markdown",
   "metadata": {},
   "source": [
    "### Преобразование типов данных"
   ]
  },
  {
   "cell_type": "markdown",
   "metadata": {},
   "source": [
    "Приведем столбец 'year_of_release' к типу данных \"datetime\"."
   ]
  },
  {
   "cell_type": "code",
   "execution_count": 5,
   "metadata": {
    "scrolled": false
   },
   "outputs": [],
   "source": [
    "games['year_of_release'] = pd.to_datetime(games['year_of_release'],  format='%Y')\n",
    "games['year_of_release'] = pd.DatetimeIndex(games['year_of_release']).year"
   ]
  },
  {
   "cell_type": "markdown",
   "metadata": {},
   "source": [
    "Посмотрим на уникальные значения столбца 'user_score'."
   ]
  },
  {
   "cell_type": "code",
   "execution_count": 6,
   "metadata": {
    "scrolled": false
   },
   "outputs": [
    {
     "data": {
      "text/plain": [
       "array(['8', nan, '8.3', '8.5', '6.6', '8.4', '8.6', '7.7', '6.3', '7.4',\n",
       "       '8.2', '9', '7.9', '8.1', '8.7', '7.1', '3.4', '5.3', '4.8', '3.2',\n",
       "       '8.9', '6.4', '7.8', '7.5', '2.6', '7.2', '9.2', '7', '7.3', '4.3',\n",
       "       '7.6', '5.7', '5', '9.1', '6.5', 'tbd', '8.8', '6.9', '9.4', '6.8',\n",
       "       '6.1', '6.7', '5.4', '4', '4.9', '4.5', '9.3', '6.2', '4.2', '6',\n",
       "       '3.7', '4.1', '5.8', '5.6', '5.5', '4.4', '4.6', '5.9', '3.9',\n",
       "       '3.1', '2.9', '5.2', '3.3', '4.7', '5.1', '3.5', '2.5', '1.9', '3',\n",
       "       '2.7', '2.2', '2', '9.5', '2.1', '3.6', '2.8', '1.8', '3.8', '0',\n",
       "       '1.6', '9.6', '2.4', '1.7', '1.1', '0.3', '1.5', '0.7', '1.2',\n",
       "       '2.3', '0.5', '1.3', '0.2', '0.6', '1.4', '0.9', '1', '9.7'],\n",
       "      dtype=object)"
      ]
     },
     "execution_count": 6,
     "metadata": {},
     "output_type": "execute_result"
    }
   ],
   "source": [
    "games['user_score'].unique()"
   ]
  },
  {
   "cell_type": "markdown",
   "metadata": {},
   "source": [
    "Значение 'tbd' означает \"to be determined\". Так как инормационной нагрузки в нашем исследовании данное значение не несет, заменим это значение на NaN."
   ]
  },
  {
   "cell_type": "code",
   "execution_count": 7,
   "metadata": {
    "scrolled": false
   },
   "outputs": [
    {
     "data": {
      "text/plain": [
       "array([8. , nan, 8.3, 8.5, 6.6, 8.4, 8.6, 7.7, 6.3, 7.4, 8.2, 9. , 7.9,\n",
       "       8.1, 8.7, 7.1, 3.4, 5.3, 4.8, 3.2, 8.9, 6.4, 7.8, 7.5, 2.6, 7.2,\n",
       "       9.2, 7. , 7.3, 4.3, 7.6, 5.7, 5. , 9.1, 6.5, 8.8, 6.9, 9.4, 6.8,\n",
       "       6.1, 6.7, 5.4, 4. , 4.9, 4.5, 9.3, 6.2, 4.2, 6. , 3.7, 4.1, 5.8,\n",
       "       5.6, 5.5, 4.4, 4.6, 5.9, 3.9, 3.1, 2.9, 5.2, 3.3, 4.7, 5.1, 3.5,\n",
       "       2.5, 1.9, 3. , 2.7, 2.2, 2. , 9.5, 2.1, 3.6, 2.8, 1.8, 3.8, 0. ,\n",
       "       1.6, 9.6, 2.4, 1.7, 1.1, 0.3, 1.5, 0.7, 1.2, 2.3, 0.5, 1.3, 0.2,\n",
       "       0.6, 1.4, 0.9, 1. , 9.7])"
      ]
     },
     "execution_count": 7,
     "metadata": {},
     "output_type": "execute_result"
    }
   ],
   "source": [
    "games['user_score'] = games['user_score'].replace('tbd', np.nan)\n",
    "games['user_score'] = games['user_score'].astype(float)\n",
    "games['user_score'].unique()"
   ]
  },
  {
   "cell_type": "markdown",
   "metadata": {},
   "source": [
    "### Обработка пропущенных значений"
   ]
  },
  {
   "cell_type": "markdown",
   "metadata": {},
   "source": [
    "Найдем пропущенны значения в графе \"name\"."
   ]
  },
  {
   "cell_type": "code",
   "execution_count": 8,
   "metadata": {
    "scrolled": false
   },
   "outputs": [
    {
     "data": {
      "text/html": [
       "<div>\n",
       "<style scoped>\n",
       "    .dataframe tbody tr th:only-of-type {\n",
       "        vertical-align: middle;\n",
       "    }\n",
       "\n",
       "    .dataframe tbody tr th {\n",
       "        vertical-align: top;\n",
       "    }\n",
       "\n",
       "    .dataframe thead th {\n",
       "        text-align: right;\n",
       "    }\n",
       "</style>\n",
       "<table border=\"1\" class=\"dataframe\">\n",
       "  <thead>\n",
       "    <tr style=\"text-align: right;\">\n",
       "      <th></th>\n",
       "      <th>name</th>\n",
       "      <th>platform</th>\n",
       "      <th>year_of_release</th>\n",
       "      <th>genre</th>\n",
       "      <th>na_sales</th>\n",
       "      <th>eu_sales</th>\n",
       "      <th>jp_sales</th>\n",
       "      <th>other_sales</th>\n",
       "      <th>critic_score</th>\n",
       "      <th>user_score</th>\n",
       "      <th>rating</th>\n",
       "    </tr>\n",
       "  </thead>\n",
       "  <tbody>\n",
       "    <tr>\n",
       "      <th>659</th>\n",
       "      <td>NaN</td>\n",
       "      <td>GEN</td>\n",
       "      <td>1993.0</td>\n",
       "      <td>NaN</td>\n",
       "      <td>1.78</td>\n",
       "      <td>0.53</td>\n",
       "      <td>0.00</td>\n",
       "      <td>0.08</td>\n",
       "      <td>NaN</td>\n",
       "      <td>NaN</td>\n",
       "      <td>NaN</td>\n",
       "    </tr>\n",
       "    <tr>\n",
       "      <th>14244</th>\n",
       "      <td>NaN</td>\n",
       "      <td>GEN</td>\n",
       "      <td>1993.0</td>\n",
       "      <td>NaN</td>\n",
       "      <td>0.00</td>\n",
       "      <td>0.00</td>\n",
       "      <td>0.03</td>\n",
       "      <td>0.00</td>\n",
       "      <td>NaN</td>\n",
       "      <td>NaN</td>\n",
       "      <td>NaN</td>\n",
       "    </tr>\n",
       "  </tbody>\n",
       "</table>\n",
       "</div>"
      ],
      "text/plain": [
       "      name platform  year_of_release genre  na_sales  eu_sales  jp_sales  \\\n",
       "659    NaN      GEN           1993.0   NaN      1.78      0.53      0.00   \n",
       "14244  NaN      GEN           1993.0   NaN      0.00      0.00      0.03   \n",
       "\n",
       "       other_sales  critic_score  user_score rating  \n",
       "659           0.08           NaN         NaN    NaN  \n",
       "14244         0.00           NaN         NaN    NaN  "
      ]
     },
     "execution_count": 8,
     "metadata": {},
     "output_type": "execute_result"
    }
   ],
   "source": [
    "games[games['name'].isnull()]"
   ]
  },
  {
   "cell_type": "markdown",
   "metadata": {},
   "source": [
    "Проверим не являются-ли эти строки дубликатами уже имеющихся строк с полными данными."
   ]
  },
  {
   "cell_type": "code",
   "execution_count": 9,
   "metadata": {
    "scrolled": true
   },
   "outputs": [
    {
     "data": {
      "text/html": [
       "<div>\n",
       "<style scoped>\n",
       "    .dataframe tbody tr th:only-of-type {\n",
       "        vertical-align: middle;\n",
       "    }\n",
       "\n",
       "    .dataframe tbody tr th {\n",
       "        vertical-align: top;\n",
       "    }\n",
       "\n",
       "    .dataframe thead th {\n",
       "        text-align: right;\n",
       "    }\n",
       "</style>\n",
       "<table border=\"1\" class=\"dataframe\">\n",
       "  <thead>\n",
       "    <tr style=\"text-align: right;\">\n",
       "      <th></th>\n",
       "      <th>name</th>\n",
       "      <th>platform</th>\n",
       "      <th>year_of_release</th>\n",
       "      <th>genre</th>\n",
       "      <th>na_sales</th>\n",
       "      <th>eu_sales</th>\n",
       "      <th>jp_sales</th>\n",
       "      <th>other_sales</th>\n",
       "      <th>critic_score</th>\n",
       "      <th>user_score</th>\n",
       "      <th>rating</th>\n",
       "    </tr>\n",
       "  </thead>\n",
       "  <tbody>\n",
       "    <tr>\n",
       "      <th>659</th>\n",
       "      <td>NaN</td>\n",
       "      <td>GEN</td>\n",
       "      <td>1993.0</td>\n",
       "      <td>NaN</td>\n",
       "      <td>1.78</td>\n",
       "      <td>0.53</td>\n",
       "      <td>0.00</td>\n",
       "      <td>0.08</td>\n",
       "      <td>NaN</td>\n",
       "      <td>NaN</td>\n",
       "      <td>NaN</td>\n",
       "    </tr>\n",
       "    <tr>\n",
       "      <th>7885</th>\n",
       "      <td>Shining Force II</td>\n",
       "      <td>GEN</td>\n",
       "      <td>1993.0</td>\n",
       "      <td>Strategy</td>\n",
       "      <td>0.00</td>\n",
       "      <td>0.00</td>\n",
       "      <td>0.19</td>\n",
       "      <td>0.00</td>\n",
       "      <td>NaN</td>\n",
       "      <td>NaN</td>\n",
       "      <td>NaN</td>\n",
       "    </tr>\n",
       "    <tr>\n",
       "      <th>8893</th>\n",
       "      <td>Super Street Fighter II</td>\n",
       "      <td>GEN</td>\n",
       "      <td>1993.0</td>\n",
       "      <td>Fighting</td>\n",
       "      <td>0.00</td>\n",
       "      <td>0.00</td>\n",
       "      <td>0.15</td>\n",
       "      <td>0.00</td>\n",
       "      <td>NaN</td>\n",
       "      <td>NaN</td>\n",
       "      <td>NaN</td>\n",
       "    </tr>\n",
       "    <tr>\n",
       "      <th>11986</th>\n",
       "      <td>Ecco: The Tides of Time</td>\n",
       "      <td>GEN</td>\n",
       "      <td>1993.0</td>\n",
       "      <td>Adventure</td>\n",
       "      <td>0.00</td>\n",
       "      <td>0.00</td>\n",
       "      <td>0.07</td>\n",
       "      <td>0.00</td>\n",
       "      <td>NaN</td>\n",
       "      <td>NaN</td>\n",
       "      <td>NaN</td>\n",
       "    </tr>\n",
       "    <tr>\n",
       "      <th>12098</th>\n",
       "      <td>Street Fighter II': Special Champion Edition (...</td>\n",
       "      <td>GEN</td>\n",
       "      <td>1993.0</td>\n",
       "      <td>Action</td>\n",
       "      <td>0.00</td>\n",
       "      <td>0.00</td>\n",
       "      <td>0.07</td>\n",
       "      <td>0.00</td>\n",
       "      <td>NaN</td>\n",
       "      <td>NaN</td>\n",
       "      <td>NaN</td>\n",
       "    </tr>\n",
       "    <tr>\n",
       "      <th>12264</th>\n",
       "      <td>Streets of Rage 3</td>\n",
       "      <td>GEN</td>\n",
       "      <td>1993.0</td>\n",
       "      <td>Action</td>\n",
       "      <td>0.00</td>\n",
       "      <td>0.00</td>\n",
       "      <td>0.07</td>\n",
       "      <td>0.00</td>\n",
       "      <td>NaN</td>\n",
       "      <td>NaN</td>\n",
       "      <td>NaN</td>\n",
       "    </tr>\n",
       "    <tr>\n",
       "      <th>12984</th>\n",
       "      <td>Dynamite Headdy</td>\n",
       "      <td>GEN</td>\n",
       "      <td>1993.0</td>\n",
       "      <td>Platform</td>\n",
       "      <td>0.00</td>\n",
       "      <td>0.00</td>\n",
       "      <td>0.05</td>\n",
       "      <td>0.00</td>\n",
       "      <td>NaN</td>\n",
       "      <td>NaN</td>\n",
       "      <td>NaN</td>\n",
       "    </tr>\n",
       "    <tr>\n",
       "      <th>13343</th>\n",
       "      <td>Beyond Oasis</td>\n",
       "      <td>GEN</td>\n",
       "      <td>1993.0</td>\n",
       "      <td>Role-Playing</td>\n",
       "      <td>0.00</td>\n",
       "      <td>0.00</td>\n",
       "      <td>0.05</td>\n",
       "      <td>0.00</td>\n",
       "      <td>NaN</td>\n",
       "      <td>NaN</td>\n",
       "      <td>NaN</td>\n",
       "    </tr>\n",
       "    <tr>\n",
       "      <th>14244</th>\n",
       "      <td>NaN</td>\n",
       "      <td>GEN</td>\n",
       "      <td>1993.0</td>\n",
       "      <td>NaN</td>\n",
       "      <td>0.00</td>\n",
       "      <td>0.00</td>\n",
       "      <td>0.03</td>\n",
       "      <td>0.00</td>\n",
       "      <td>NaN</td>\n",
       "      <td>NaN</td>\n",
       "      <td>NaN</td>\n",
       "    </tr>\n",
       "  </tbody>\n",
       "</table>\n",
       "</div>"
      ],
      "text/plain": [
       "                                                    name platform  \\\n",
       "659                                                  NaN      GEN   \n",
       "7885                                    Shining Force II      GEN   \n",
       "8893                             Super Street Fighter II      GEN   \n",
       "11986                            Ecco: The Tides of Time      GEN   \n",
       "12098  Street Fighter II': Special Champion Edition (...      GEN   \n",
       "12264                                  Streets of Rage 3      GEN   \n",
       "12984                                    Dynamite Headdy      GEN   \n",
       "13343                                       Beyond Oasis      GEN   \n",
       "14244                                                NaN      GEN   \n",
       "\n",
       "       year_of_release         genre  na_sales  eu_sales  jp_sales  \\\n",
       "659             1993.0           NaN      1.78      0.53      0.00   \n",
       "7885            1993.0      Strategy      0.00      0.00      0.19   \n",
       "8893            1993.0      Fighting      0.00      0.00      0.15   \n",
       "11986           1993.0     Adventure      0.00      0.00      0.07   \n",
       "12098           1993.0        Action      0.00      0.00      0.07   \n",
       "12264           1993.0        Action      0.00      0.00      0.07   \n",
       "12984           1993.0      Platform      0.00      0.00      0.05   \n",
       "13343           1993.0  Role-Playing      0.00      0.00      0.05   \n",
       "14244           1993.0           NaN      0.00      0.00      0.03   \n",
       "\n",
       "       other_sales  critic_score  user_score rating  \n",
       "659           0.08           NaN         NaN    NaN  \n",
       "7885          0.00           NaN         NaN    NaN  \n",
       "8893          0.00           NaN         NaN    NaN  \n",
       "11986         0.00           NaN         NaN    NaN  \n",
       "12098         0.00           NaN         NaN    NaN  \n",
       "12264         0.00           NaN         NaN    NaN  \n",
       "12984         0.00           NaN         NaN    NaN  \n",
       "13343         0.00           NaN         NaN    NaN  \n",
       "14244         0.00           NaN         NaN    NaN  "
      ]
     },
     "execution_count": 9,
     "metadata": {},
     "output_type": "execute_result"
    }
   ],
   "source": [
    "games[(games['year_of_release'] == 1993) & (games['platform'] == 'GEN')]"
   ]
  },
  {
   "cell_type": "markdown",
   "metadata": {},
   "source": [
    "Факт того, что эти строки являются дубликатами не подтвердился. Так как само по себе название игры не несет значения для исследования, оставим эти строки."
   ]
  },
  {
   "cell_type": "markdown",
   "metadata": {},
   "source": [
    "На этапе знакомства с данными, были обнаружены пропущенные значения в графе 'year_of_release'. Проверим можем-ли мы найти данные о годе выхода игры из названия."
   ]
  },
  {
   "cell_type": "code",
   "execution_count": 10,
   "metadata": {
    "scrolled": false
   },
   "outputs": [
    {
     "data": {
      "text/plain": [
       "array(['Madden NFL 2004', 'FIFA Soccer 2004',\n",
       "       'LEGO Batman: The Videogame', 'wwe Smackdown vs. Raw 2006',\n",
       "       'Space Invaders', 'Rock Band',\n",
       "       \"Frogger's Adventures: Temple of the Frog\",\n",
       "       'LEGO Indiana Jones: The Original Adventures', 'Call of Duty 3',\n",
       "       'Call of Duty: Black Ops', 'Triple Play 99', 'Adventure', 'Combat',\n",
       "       'LEGO Harry Potter: Years 5-7', 'NASCAR Thunder 2003',\n",
       "       'Hitman 2: Silent Assassin', 'Legacy of Kain: Soul Reaver',\n",
       "       'Donkey Kong Land III', 'Air-Sea Battle', 'Suikoden III',\n",
       "       'Wheel of Fortune', 'Yakuza 4', 'Namco Museum', 'Rhythm Heaven',\n",
       "       'The Lord of the Rings: War in the North', 'Madden NFL 07',\n",
       "       'MLB SlugFest 20-03', 'Shaun White Snowboarding',\n",
       "       'PES 2009: Pro Evolution Soccer', 'WarioWare: Twisted!',\n",
       "       'Madden NFL 11', 'Test Drive Unlimited 2',\n",
       "       'The Chronicles of Narnia: The Lion, The Witch and The Wardrobe',\n",
       "       'Monster Hunter 2', 'Metal Gear Solid 2: Substance',\n",
       "       'Advance Wars: Days of Ruin', 'The Golden Compass',\n",
       "       'Madden NFL 06', 'NASCAR: Dirt to Daytona', 'Madden NFL 2002',\n",
       "       'Def Jam: Fight for NY', 'NBA Street Vol. 2', 'Fishing Derby',\n",
       "       'Wet', 'Sonic the Hedgehog', 'Karate', 'Tiger Woods PGA Tour 07',\n",
       "       'Circus Atari',\n",
       "       'The Chronicles of Riddick: Escape from Butcher Bay',\n",
       "       \"Maze Craze: A Game of Cops 'n Robbers\", 'Silent Hill: Homecoming',\n",
       "       'Super Breakout', \"Robert Ludlum's The Bourne Conspiracy\",\n",
       "       'NHL Slapshot', 'TERA', 'NFL GameDay 2003',\n",
       "       'Harvest Moon: Save the Homeland', 'Hangman', 'NBA Live 2003',\n",
       "       \"Cubix Robots for Everyone: Clash 'n' Bash\",\n",
       "       'Dragon Ball Z: Budokai Tenkaichi 2 (JP sales)', 'Tropico 4',\n",
       "       'Tomb Raider (2013)', 'Bejeweled 3', 'Custom Robo',\n",
       "       'Final Fantasy XI', 'Singularity', 'Dragster',\n",
       "       'All-Star Baseball 2005', 'Star Wars Jedi Knight II: Jedi Outcast',\n",
       "       'Slot Machine', 'The Dukes of Hazzard II: Daisy Dukes It Out',\n",
       "       'Harvest Moon: The Tale of Two Towns', 'Shrek the Third',\n",
       "       'Nicktoons: Battle for Volcano Island', 'Haven: Call of the King',\n",
       "       'Unreal Championship 2: The Liandri Conflict', 'Pac-Man Fever',\n",
       "       'The Legend of Zelda: The Minish Cap(weekly JP sales)', 'Indy 500',\n",
       "       'Disgaea 3: Absence of Detention', 'Flag Capture', 'Gun',\n",
       "       'Rock Revolution', 'College Hoops 2K6',\n",
       "       'Jonah Lomu Rugby Challenge', 'Mega Man X Collection',\n",
       "       'BioShock 2', 'Danganronpa: Trigger Happy Havoc', 'Jet X20',\n",
       "       \"Tony Hawk's Downhill Jam\", 'Tribes: Aerial Assault',\n",
       "       'Big Beach Sports 2', 'Yu Yu Hakusho: Dark Tournament',\n",
       "       'Ghostbusters II', 'Breakaway IV', 'Robotech: Battlecry',\n",
       "       'Move Fitness', 'Valkyria Chronicles III: Unrecorded Chronicles',\n",
       "       'DanceDanceRevolution II', 'WRC: FIA World Rally Championship',\n",
       "       'Famista 64', 'Dead Space 3', 'Pet Zombies', 'Star Trek: Legacy',\n",
       "       'Backbreaker', 'Twisted Metal: Small Brawl', 'Otomedius Excellent',\n",
       "       'NBA Starting Five', 'Teen Titans', 'Trauma Team',\n",
       "       \"James Cameron's Dark Angel\", 'Sword of the Samurai',\n",
       "       'Splatterhouse', 'Alone in the Dark: The New Nightmare',\n",
       "       'Vegas Party', 'Jurassic Park: The Game', 'Home Run',\n",
       "       'eJay Clubworld', 'Our House Party!', 'WCW Backstage Assault',\n",
       "       \"Disney's Cinderella: Magical Dreams\", 'Transworld Surf',\n",
       "       'Street Fighter IV', 'Nintendo Puzzle Collection',\n",
       "       'Charm Girls Club: My Fashion Mall', 'Record of Agarest War Zero',\n",
       "       'Rocksmith',\n",
       "       'Super Robot Wars OG Saga: Masou Kishin II - Revelation of Evil God',\n",
       "       'Saru! Get You! Million Monkeys', 'Street Hoops',\n",
       "       'Godzilla: Destroy All Monsters Melee',\n",
       "       'The Daring Game for Girls', 'Major League Baseball 2K6',\n",
       "       'Star Trek: Conquest', 'GiFTPiA', 'Happy Feet Two',\n",
       "       \"Disney's Chicken Little: Ace In Action\",\n",
       "       'Atsumare! Power Pro Kun no DS Koushien',\n",
       "       'My Healthy Cooking Coach', 'Luminous Arc 2 (JP sales)',\n",
       "       'Egg Monster Hero', 'Demon Chaos', 'Samurai Shodown Anthology',\n",
       "       'Action Man-Operation Extreme', 'Super Puzzle Fighter II',\n",
       "       'Charm Girls Club: My Fashion Show', 'Face Racers: Photo Finish',\n",
       "       'Zero: Tsukihami no Kamen', 'The Hidden', 'Get Fit with Mel B',\n",
       "       'Mega Man Battle Network: Operation Shooting Star',\n",
       "       'Smashing Drive', 'Port Royale 3', 'Dream Trigger 3D',\n",
       "       'Dead Island: Riptide', 'Yoostar on MTV', 'Tornado',\n",
       "       \"McFarlane's Evil Prophecy\", 'Drake of the 99 Dragons',\n",
       "       'Build-A-Bear Workshop: Friendship Valley', 'Rayman Arena',\n",
       "       'National Geographic Challenge!', 'Alex Rider: Stormbreaker',\n",
       "       'Chou Soujuu Mecha MG',\n",
       "       'Prinny: Can I Really Be The Hero? (US sales)',\n",
       "       'Combat Elite: WWII Paratroopers', \"Flip's Twisted World\",\n",
       "       'Mobile Ops: The One Year War',\n",
       "       \"Tom Clancy's Rainbow Six: Critical Hour\",\n",
       "       'Jewel Link Chronicles: Mountains of Madness',\n",
       "       'Captain America: Super Soldier', 'Mountain Bike Adrenaline',\n",
       "       'Drill Dozer', 'GRID', 'Tour de France 2011',\n",
       "       'Reader Rabbit 2nd Grade', 'Monster Hunter Frontier Online',\n",
       "       'RollerCoaster Tycoon', 'Battle vs. Chess',\n",
       "       'The History Channel: Great Battles - Medieval',\n",
       "       'Clockwork Empires', 'B.L.U.E.: Legend of Water', 'NHL Hitz Pro',\n",
       "       \"Luxor: Pharaoh's Challenge\", 'Sega Rally 2006',\n",
       "       'Half-Minute Hero 2', 'Housekeeping', 'Major League Baseball 2K8',\n",
       "       'Sabre Wulf', 'Swords', 'Beyond the Labyrinth',\n",
       "       'Bikkuriman Daijiten', 'Majesty 2: The Fantasy Kingdom Sim',\n",
       "       'Fullmetal Alchemist: Brotherhood',\n",
       "       'Samurai Spirits: Tenkaichi Kenkakuden', 'World of Tanks',\n",
       "       'Tom and Jerry in War of the Whiskers', 'Super Duper Sumos',\n",
       "       'The King of Fighters: Maximum Impact - Maniax',\n",
       "       'Combat Wings: The Great Battles of WWII', 'Tube Slider',\n",
       "       'Umineko no Naku Koro ni San: Shinjitsu to Gensou no Yasoukyoku',\n",
       "       'Payout Poker & Casino', 'Wii de Asobu: Metroid Prime',\n",
       "       'Legacy of Ys: Books I & II', 'Saint', 'Steal Princess',\n",
       "       'Mario Tennis', 'Runaway: A Twist of Fate',\n",
       "       \"Yu-Gi-Oh! 5D's Wheelie Breakers (JP sales)\",\n",
       "       \"Cabela's Alaskan Adventure\",\n",
       "       'Writing and Speaking Beautiful Japanese DS', 'Virtua Quest',\n",
       "       \"Shonen Jump's Yu-Gi-Oh! GX Card Almanac\", 'Without Warning',\n",
       "       'PDC World Championship Darts 2008',\n",
       "       'Dinotopia: The Sunstone Odyssey', 'Jet Impulse', 'Dream Dancer',\n",
       "       \"Dance! It's Your Stage\", 'Football Manager 2007',\n",
       "       'Ferrari: The Race Experience', 'Aquaman: Battle for Atlantis',\n",
       "       'Homeworld Remastered Collection', 'Shorts',\n",
       "       'AKB1/48: Idol to Guam de Koishitara...',\n",
       "       'Brothers in Arms: Furious 4', 'Agarest Senki: Re-appearance',\n",
       "       'Freaky Flyers', 'Inversion', 'Hakuouki: Shinsengumi Kitan'],\n",
       "      dtype=object)"
      ]
     },
     "execution_count": 10,
     "metadata": {},
     "output_type": "execute_result"
    }
   ],
   "source": [
    "games[games['year_of_release'].isnull()]['name'].unique()"
   ]
  },
  {
   "cell_type": "markdown",
   "metadata": {},
   "source": [
    "В названии некоторых игр указан год. Можно предположить, что это год выхода игры. \"Вытащим\" из названия год и подставим его в столец \"year of release\"."
   ]
  },
  {
   "cell_type": "code",
   "execution_count": 11,
   "metadata": {
    "scrolled": true
   },
   "outputs": [
    {
     "data": {
      "text/plain": [
       "0           NaN\n",
       "1           NaN\n",
       "2           NaN\n",
       "3           NaN\n",
       "4           NaN\n",
       "          ...  \n",
       "16710       NaN\n",
       "16711    2007.0\n",
       "16712       NaN\n",
       "16713       NaN\n",
       "16714       8.0\n",
       "Name: date, Length: 16715, dtype: float64"
      ]
     },
     "execution_count": 11,
     "metadata": {},
     "output_type": "execute_result"
    }
   ],
   "source": [
    "games['date'] = games.name.str.extract('(\\d+)')\n",
    "games['date'] = games['date'].astype(float)\n",
    "games['date']"
   ]
  },
  {
   "cell_type": "markdown",
   "metadata": {},
   "source": [
    "Сформируем список всех возможных значений годов, принадлежащих к временному интервалу исследования."
   ]
  },
  {
   "cell_type": "code",
   "execution_count": 12,
   "metadata": {},
   "outputs": [
    {
     "data": {
      "text/plain": [
       "1980.0"
      ]
     },
     "execution_count": 12,
     "metadata": {},
     "output_type": "execute_result"
    }
   ],
   "source": [
    "games['year_of_release'].min()"
   ]
  },
  {
   "cell_type": "code",
   "execution_count": 13,
   "metadata": {},
   "outputs": [],
   "source": [
    "years = []\n",
    "\n",
    "for year in range(1980, 2017):\n",
    "    years.append(year)\n",
    "for year in range(93, 100):\n",
    "    years.append(year)"
   ]
  },
  {
   "cell_type": "markdown",
   "metadata": {},
   "source": [
    "Проверим принадлежат-ли значения годов, \"вытащенные\" из названий игр значениям в списке \"games\"."
   ]
  },
  {
   "cell_type": "code",
   "execution_count": 14,
   "metadata": {
    "scrolled": false
   },
   "outputs": [
    {
     "data": {
      "text/plain": [
       "array([2015., 2004., 2005., 2007., 2003., 2012., 2008., 2014., 2002.,\n",
       "       2006., 2009., 2013., 2011., 2010., 2000., 2001.,   99.,   98.,\n",
       "       2016.,   97.,   96., 1999.,   95.,   94., 1996.])"
      ]
     },
     "execution_count": 14,
     "metadata": {},
     "output_type": "execute_result"
    }
   ],
   "source": [
    "new_df = games.isin({'date': years})\n",
    "new_df = new_df.rename(columns = {'date' : 'date_id'})\n",
    "new_df = new_df['date_id']\n",
    "games = pd.concat((games,new_df), axis=1)\n",
    "games[games['date_id'] == True]['date'].unique()"
   ]
  },
  {
   "cell_type": "markdown",
   "metadata": {},
   "source": [
    "Оставим только те значения, которые входят во временной интервал исследования."
   ]
  },
  {
   "cell_type": "code",
   "execution_count": 15,
   "metadata": {},
   "outputs": [],
   "source": [
    "games['date_id'] = np.where(games['date_id'] == True, games['date'], np.nan)"
   ]
  },
  {
   "cell_type": "markdown",
   "metadata": {},
   "source": [
    "Заменим пропущенные значения в столбце 'year_of_release' на значения в столбце 'date_id', если соответствующее значение есть.\n",
    "Строки, в которых остались пропущенные значения удалим, так как информация о годе выхода игры критична для исследования."
   ]
  },
  {
   "cell_type": "code",
   "execution_count": 16,
   "metadata": {
    "scrolled": false
   },
   "outputs": [
    {
     "name": "stderr",
     "output_type": "stream",
     "text": [
      "/var/folders/hs/9m_5jgjj24xctphzgbvlsyhm0000gn/T/ipykernel_13559/3832221473.py:3: FutureWarning: In a future version of pandas all arguments of DataFrame.drop except for the argument 'labels' will be keyword-only.\n",
      "  games = games.drop(['date', 'date_id'], 1)\n"
     ]
    },
    {
     "data": {
      "text/html": [
       "<div>\n",
       "<style scoped>\n",
       "    .dataframe tbody tr th:only-of-type {\n",
       "        vertical-align: middle;\n",
       "    }\n",
       "\n",
       "    .dataframe tbody tr th {\n",
       "        vertical-align: top;\n",
       "    }\n",
       "\n",
       "    .dataframe thead th {\n",
       "        text-align: right;\n",
       "    }\n",
       "</style>\n",
       "<table border=\"1\" class=\"dataframe\">\n",
       "  <thead>\n",
       "    <tr style=\"text-align: right;\">\n",
       "      <th></th>\n",
       "      <th>name</th>\n",
       "      <th>platform</th>\n",
       "      <th>year_of_release</th>\n",
       "      <th>genre</th>\n",
       "      <th>na_sales</th>\n",
       "      <th>eu_sales</th>\n",
       "      <th>jp_sales</th>\n",
       "      <th>other_sales</th>\n",
       "      <th>critic_score</th>\n",
       "      <th>user_score</th>\n",
       "      <th>rating</th>\n",
       "    </tr>\n",
       "  </thead>\n",
       "  <tbody>\n",
       "    <tr>\n",
       "      <th>0</th>\n",
       "      <td>Wii Sports</td>\n",
       "      <td>Wii</td>\n",
       "      <td>2006</td>\n",
       "      <td>Sports</td>\n",
       "      <td>41.36</td>\n",
       "      <td>28.96</td>\n",
       "      <td>3.77</td>\n",
       "      <td>8.45</td>\n",
       "      <td>76.0</td>\n",
       "      <td>8.0</td>\n",
       "      <td>E</td>\n",
       "    </tr>\n",
       "    <tr>\n",
       "      <th>1</th>\n",
       "      <td>Super Mario Bros.</td>\n",
       "      <td>NES</td>\n",
       "      <td>1985</td>\n",
       "      <td>Platform</td>\n",
       "      <td>29.08</td>\n",
       "      <td>3.58</td>\n",
       "      <td>6.81</td>\n",
       "      <td>0.77</td>\n",
       "      <td>NaN</td>\n",
       "      <td>NaN</td>\n",
       "      <td>NaN</td>\n",
       "    </tr>\n",
       "    <tr>\n",
       "      <th>2</th>\n",
       "      <td>Mario Kart Wii</td>\n",
       "      <td>Wii</td>\n",
       "      <td>2008</td>\n",
       "      <td>Racing</td>\n",
       "      <td>15.68</td>\n",
       "      <td>12.76</td>\n",
       "      <td>3.79</td>\n",
       "      <td>3.29</td>\n",
       "      <td>82.0</td>\n",
       "      <td>8.3</td>\n",
       "      <td>E</td>\n",
       "    </tr>\n",
       "    <tr>\n",
       "      <th>3</th>\n",
       "      <td>Wii Sports Resort</td>\n",
       "      <td>Wii</td>\n",
       "      <td>2009</td>\n",
       "      <td>Sports</td>\n",
       "      <td>15.61</td>\n",
       "      <td>10.93</td>\n",
       "      <td>3.28</td>\n",
       "      <td>2.95</td>\n",
       "      <td>80.0</td>\n",
       "      <td>8.0</td>\n",
       "      <td>E</td>\n",
       "    </tr>\n",
       "    <tr>\n",
       "      <th>4</th>\n",
       "      <td>Pokemon Red/Pokemon Blue</td>\n",
       "      <td>GB</td>\n",
       "      <td>1996</td>\n",
       "      <td>Role-Playing</td>\n",
       "      <td>11.27</td>\n",
       "      <td>8.89</td>\n",
       "      <td>10.22</td>\n",
       "      <td>1.00</td>\n",
       "      <td>NaN</td>\n",
       "      <td>NaN</td>\n",
       "      <td>NaN</td>\n",
       "    </tr>\n",
       "    <tr>\n",
       "      <th>...</th>\n",
       "      <td>...</td>\n",
       "      <td>...</td>\n",
       "      <td>...</td>\n",
       "      <td>...</td>\n",
       "      <td>...</td>\n",
       "      <td>...</td>\n",
       "      <td>...</td>\n",
       "      <td>...</td>\n",
       "      <td>...</td>\n",
       "      <td>...</td>\n",
       "      <td>...</td>\n",
       "    </tr>\n",
       "    <tr>\n",
       "      <th>16710</th>\n",
       "      <td>Samurai Warriors: Sanada Maru</td>\n",
       "      <td>PS3</td>\n",
       "      <td>2016</td>\n",
       "      <td>Action</td>\n",
       "      <td>0.00</td>\n",
       "      <td>0.00</td>\n",
       "      <td>0.01</td>\n",
       "      <td>0.00</td>\n",
       "      <td>NaN</td>\n",
       "      <td>NaN</td>\n",
       "      <td>NaN</td>\n",
       "    </tr>\n",
       "    <tr>\n",
       "      <th>16711</th>\n",
       "      <td>LMA Manager 2007</td>\n",
       "      <td>X360</td>\n",
       "      <td>2006</td>\n",
       "      <td>Sports</td>\n",
       "      <td>0.00</td>\n",
       "      <td>0.01</td>\n",
       "      <td>0.00</td>\n",
       "      <td>0.00</td>\n",
       "      <td>NaN</td>\n",
       "      <td>NaN</td>\n",
       "      <td>NaN</td>\n",
       "    </tr>\n",
       "    <tr>\n",
       "      <th>16712</th>\n",
       "      <td>Haitaka no Psychedelica</td>\n",
       "      <td>PSV</td>\n",
       "      <td>2016</td>\n",
       "      <td>Adventure</td>\n",
       "      <td>0.00</td>\n",
       "      <td>0.00</td>\n",
       "      <td>0.01</td>\n",
       "      <td>0.00</td>\n",
       "      <td>NaN</td>\n",
       "      <td>NaN</td>\n",
       "      <td>NaN</td>\n",
       "    </tr>\n",
       "    <tr>\n",
       "      <th>16713</th>\n",
       "      <td>Spirits &amp; Spells</td>\n",
       "      <td>GBA</td>\n",
       "      <td>2003</td>\n",
       "      <td>Platform</td>\n",
       "      <td>0.01</td>\n",
       "      <td>0.00</td>\n",
       "      <td>0.00</td>\n",
       "      <td>0.00</td>\n",
       "      <td>NaN</td>\n",
       "      <td>NaN</td>\n",
       "      <td>NaN</td>\n",
       "    </tr>\n",
       "    <tr>\n",
       "      <th>16714</th>\n",
       "      <td>Winning Post 8 2016</td>\n",
       "      <td>PSV</td>\n",
       "      <td>2016</td>\n",
       "      <td>Simulation</td>\n",
       "      <td>0.00</td>\n",
       "      <td>0.00</td>\n",
       "      <td>0.01</td>\n",
       "      <td>0.00</td>\n",
       "      <td>NaN</td>\n",
       "      <td>NaN</td>\n",
       "      <td>NaN</td>\n",
       "    </tr>\n",
       "  </tbody>\n",
       "</table>\n",
       "<p>16465 rows × 11 columns</p>\n",
       "</div>"
      ],
      "text/plain": [
       "                                name platform  year_of_release         genre  \\\n",
       "0                         Wii Sports      Wii             2006        Sports   \n",
       "1                  Super Mario Bros.      NES             1985      Platform   \n",
       "2                     Mario Kart Wii      Wii             2008        Racing   \n",
       "3                  Wii Sports Resort      Wii             2009        Sports   \n",
       "4           Pokemon Red/Pokemon Blue       GB             1996  Role-Playing   \n",
       "...                              ...      ...              ...           ...   \n",
       "16710  Samurai Warriors: Sanada Maru      PS3             2016        Action   \n",
       "16711               LMA Manager 2007     X360             2006        Sports   \n",
       "16712        Haitaka no Psychedelica      PSV             2016     Adventure   \n",
       "16713               Spirits & Spells      GBA             2003      Platform   \n",
       "16714            Winning Post 8 2016      PSV             2016    Simulation   \n",
       "\n",
       "       na_sales  eu_sales  jp_sales  other_sales  critic_score  user_score  \\\n",
       "0         41.36     28.96      3.77         8.45          76.0         8.0   \n",
       "1         29.08      3.58      6.81         0.77           NaN         NaN   \n",
       "2         15.68     12.76      3.79         3.29          82.0         8.3   \n",
       "3         15.61     10.93      3.28         2.95          80.0         8.0   \n",
       "4         11.27      8.89     10.22         1.00           NaN         NaN   \n",
       "...         ...       ...       ...          ...           ...         ...   \n",
       "16710      0.00      0.00      0.01         0.00           NaN         NaN   \n",
       "16711      0.00      0.01      0.00         0.00           NaN         NaN   \n",
       "16712      0.00      0.00      0.01         0.00           NaN         NaN   \n",
       "16713      0.01      0.00      0.00         0.00           NaN         NaN   \n",
       "16714      0.00      0.00      0.01         0.00           NaN         NaN   \n",
       "\n",
       "      rating  \n",
       "0          E  \n",
       "1        NaN  \n",
       "2          E  \n",
       "3          E  \n",
       "4        NaN  \n",
       "...      ...  \n",
       "16710    NaN  \n",
       "16711    NaN  \n",
       "16712    NaN  \n",
       "16713    NaN  \n",
       "16714    NaN  \n",
       "\n",
       "[16465 rows x 11 columns]"
      ]
     },
     "execution_count": 16,
     "metadata": {},
     "output_type": "execute_result"
    }
   ],
   "source": [
    "games['year_of_release'] = np.where(games['year_of_release'].isnull(), games['date_id'], games['year_of_release'])\n",
    "games = games[-games['year_of_release'].isnull()]\n",
    "games = games.drop(['date', 'date_id'], 1)\n",
    "games['year_of_release'] = games['year_of_release'].astype(int)\n",
    "games"
   ]
  },
  {
   "cell_type": "code",
   "execution_count": 17,
   "metadata": {
    "scrolled": false
   },
   "outputs": [
    {
     "data": {
      "text/plain": [
       "array([2006, 1985, 2008, 2009, 1996, 1989, 1984, 2005, 1999, 2007, 2010,\n",
       "       2013, 2004, 1990, 1988, 2002, 2001, 2011, 1998, 2015, 2012, 2014,\n",
       "       1992, 1997, 1993, 1994, 1982, 2016, 2003, 1986, 2000, 1995, 1991,\n",
       "       1981, 1987, 1980, 1983,   99])"
      ]
     },
     "execution_count": 17,
     "metadata": {},
     "output_type": "execute_result"
    }
   ],
   "source": [
    "games['year_of_release'].unique()"
   ]
  },
  {
   "cell_type": "markdown",
   "metadata": {},
   "source": [
    "Заменим значение \"99\" на \"1999\"."
   ]
  },
  {
   "cell_type": "code",
   "execution_count": 18,
   "metadata": {},
   "outputs": [],
   "source": [
    "games['year_of_release'] = games['year_of_release'].replace(99, 1999)"
   ]
  },
  {
   "cell_type": "code",
   "execution_count": 19,
   "metadata": {},
   "outputs": [],
   "source": [
    "games = games[-games['year_of_release'].isnull()]"
   ]
  },
  {
   "cell_type": "markdown",
   "metadata": {},
   "source": [
    "Заменим пропущенные значения в столбце \"Rating\" на \"Not determined\", чтобы в дальнейшем проанализировать влияние отсутствия рейтинга на продажи."
   ]
  },
  {
   "cell_type": "code",
   "execution_count": 20,
   "metadata": {},
   "outputs": [],
   "source": [
    "games['rating'] = games['rating'].fillna('Not determined')"
   ]
  },
  {
   "cell_type": "markdown",
   "metadata": {},
   "source": [
    "### Подсчет суммарных продаж во всех регионах"
   ]
  },
  {
   "cell_type": "code",
   "execution_count": 21,
   "metadata": {},
   "outputs": [],
   "source": [
    "games['total_sales'] = games['na_sales'] + games['eu_sales'] + games['jp_sales'] + games['other_sales']"
   ]
  },
  {
   "cell_type": "markdown",
   "metadata": {},
   "source": [
    "## Исследовательский анализ данных"
   ]
  },
  {
   "cell_type": "markdown",
   "metadata": {},
   "source": [
    "### Распределение выпущенных игр по годам"
   ]
  },
  {
   "cell_type": "code",
   "execution_count": 22,
   "metadata": {
    "scrolled": false
   },
   "outputs": [
    {
     "data": {
      "text/plain": [
       "(array([ 0,  1,  2,  3,  4,  5,  6,  7,  8,  9, 10, 11, 12, 13, 14, 15, 16,\n",
       "        17, 18, 19, 20, 21, 22, 23, 24, 25, 26, 27, 28, 29, 30, 31, 32, 33,\n",
       "        34, 35, 36]),\n",
       " [Text(0, 0, '1980'),\n",
       "  Text(1, 0, '1981'),\n",
       "  Text(2, 0, '1982'),\n",
       "  Text(3, 0, '1983'),\n",
       "  Text(4, 0, '1984'),\n",
       "  Text(5, 0, '1985'),\n",
       "  Text(6, 0, '1986'),\n",
       "  Text(7, 0, '1987'),\n",
       "  Text(8, 0, '1988'),\n",
       "  Text(9, 0, '1989'),\n",
       "  Text(10, 0, '1990'),\n",
       "  Text(11, 0, '1991'),\n",
       "  Text(12, 0, '1992'),\n",
       "  Text(13, 0, '1993'),\n",
       "  Text(14, 0, '1994'),\n",
       "  Text(15, 0, '1995'),\n",
       "  Text(16, 0, '1996'),\n",
       "  Text(17, 0, '1997'),\n",
       "  Text(18, 0, '1998'),\n",
       "  Text(19, 0, '1999'),\n",
       "  Text(20, 0, '2000'),\n",
       "  Text(21, 0, '2001'),\n",
       "  Text(22, 0, '2002'),\n",
       "  Text(23, 0, '2003'),\n",
       "  Text(24, 0, '2004'),\n",
       "  Text(25, 0, '2005'),\n",
       "  Text(26, 0, '2006'),\n",
       "  Text(27, 0, '2007'),\n",
       "  Text(28, 0, '2008'),\n",
       "  Text(29, 0, '2009'),\n",
       "  Text(30, 0, '2010'),\n",
       "  Text(31, 0, '2011'),\n",
       "  Text(32, 0, '2012'),\n",
       "  Text(33, 0, '2013'),\n",
       "  Text(34, 0, '2014'),\n",
       "  Text(35, 0, '2015'),\n",
       "  Text(36, 0, '2016')])"
      ]
     },
     "execution_count": 22,
     "metadata": {},
     "output_type": "execute_result"
    },
    {
     "data": {
      "image/png": "[encoded data removed]",
      "text/plain": [
       "<Figure size 1080x360 with 1 Axes>"
      ]
     },
     "metadata": {},
     "output_type": "display_data"
    }
   ],
   "source": [
    "games_grouped = games.groupby(games['year_of_release'])['name'].count().reset_index()\n",
    "games_grouped = games_grouped.rename(columns = {'name' : 'count'})\n",
    "sns.set(rc={'figure.figsize':(15, 5)})\n",
    "sns.barplot(x = 'year_of_release', y = 'count', data = games_grouped)\n",
    "plt.xticks(rotation=90)"
   ]
  },
  {
   "cell_type": "markdown",
   "metadata": {},
   "source": [
    "Количество выспускаемых в год игр резко сократилось в 2012 году."
   ]
  },
  {
   "cell_type": "markdown",
   "metadata": {},
   "source": [
    "### Распределение выпущенных игр по платформам"
   ]
  },
  {
   "cell_type": "code",
   "execution_count": 23,
   "metadata": {
    "scrolled": false
   },
   "outputs": [
    {
     "data": {
      "text/plain": [
       "<AxesSubplot:xlabel='platform', ylabel='total_sales'>"
      ]
     },
     "execution_count": 23,
     "metadata": {},
     "output_type": "execute_result"
    },
    {
     "data": {
      "image/png": "[encoded data removed]",
      "text/plain": [
       "<Figure size 1080x360 with 1 Axes>"
      ]
     },
     "metadata": {},
     "output_type": "display_data"
    }
   ],
   "source": [
    "games_platform_grouped = games.groupby('platform')['total_sales'].sum().reset_index()\n",
    "games_platform_grouped = games_platform_grouped.sort_values(by = 'total_sales')\n",
    "sns.set(rc={'figure.figsize':(15, 5)})\n",
    "sns.barplot(x = 'platform', y = 'total_sales', data = games_platform_grouped)"
   ]
  },
  {
   "cell_type": "code",
   "execution_count": 24,
   "metadata": {
    "scrolled": true
   },
   "outputs": [
    {
     "data": {
      "text/plain": [
       "array(['Wii', 'NES', 'GB', 'DS', 'X360', 'PS3', 'PS2', 'SNES', 'GBA',\n",
       "       'PS4', '3DS', 'N64', 'PS', 'XB', 'PC', '2600', 'PSP', 'XOne',\n",
       "       'WiiU', 'GC', 'GEN', 'DC', 'PSV', 'SAT', 'SCD', 'WS', 'NG', 'TG16',\n",
       "       '3DO', 'GG', 'PCFX'], dtype=object)"
      ]
     },
     "execution_count": 24,
     "metadata": {},
     "output_type": "execute_result"
    }
   ],
   "source": [
    "games['platform'].unique()"
   ]
  },
  {
   "cell_type": "markdown",
   "metadata": {},
   "source": [
    "Отберем 6 наиболее популярных платформ."
   ]
  },
  {
   "cell_type": "code",
   "execution_count": 25,
   "metadata": {
    "scrolled": false
   },
   "outputs": [],
   "source": [
    "games_popular_platforms = games[games['platform'].isin(('PS', 'X360', 'Wii', 'PS3', 'DS', 'PS2'))]"
   ]
  },
  {
   "cell_type": "markdown",
   "metadata": {},
   "source": [
    "Проверим характерный \"срок жизни\" платформ. Посмотрим на то, сколько игр продавалось на каждой популярной платформе в тот или иной год."
   ]
  },
  {
   "cell_type": "code",
   "execution_count": 26,
   "metadata": {
    "scrolled": false
   },
   "outputs": [
    {
     "data": {
      "text/html": [
       "<div>\n",
       "<style scoped>\n",
       "    .dataframe tbody tr th:only-of-type {\n",
       "        vertical-align: middle;\n",
       "    }\n",
       "\n",
       "    .dataframe tbody tr th {\n",
       "        vertical-align: top;\n",
       "    }\n",
       "\n",
       "    .dataframe thead th {\n",
       "        text-align: right;\n",
       "    }\n",
       "</style>\n",
       "<table border=\"1\" class=\"dataframe\">\n",
       "  <thead>\n",
       "    <tr style=\"text-align: right;\">\n",
       "      <th>platform</th>\n",
       "      <th>DS</th>\n",
       "      <th>PS</th>\n",
       "      <th>PS2</th>\n",
       "      <th>PS3</th>\n",
       "      <th>Wii</th>\n",
       "      <th>X360</th>\n",
       "    </tr>\n",
       "    <tr>\n",
       "      <th>year_of_release</th>\n",
       "      <th></th>\n",
       "      <th></th>\n",
       "      <th></th>\n",
       "      <th></th>\n",
       "      <th></th>\n",
       "      <th></th>\n",
       "    </tr>\n",
       "  </thead>\n",
       "  <tbody>\n",
       "    <tr>\n",
       "      <th>1985</th>\n",
       "      <td>0.02</td>\n",
       "      <td>0.00</td>\n",
       "      <td>0.00</td>\n",
       "      <td>0.00</td>\n",
       "      <td>0.00</td>\n",
       "      <td>0.00</td>\n",
       "    </tr>\n",
       "    <tr>\n",
       "      <th>1994</th>\n",
       "      <td>0.00</td>\n",
       "      <td>6.03</td>\n",
       "      <td>0.00</td>\n",
       "      <td>0.00</td>\n",
       "      <td>0.00</td>\n",
       "      <td>0.00</td>\n",
       "    </tr>\n",
       "    <tr>\n",
       "      <th>1995</th>\n",
       "      <td>0.00</td>\n",
       "      <td>35.96</td>\n",
       "      <td>0.00</td>\n",
       "      <td>0.00</td>\n",
       "      <td>0.00</td>\n",
       "      <td>0.00</td>\n",
       "    </tr>\n",
       "    <tr>\n",
       "      <th>1996</th>\n",
       "      <td>0.00</td>\n",
       "      <td>94.70</td>\n",
       "      <td>0.00</td>\n",
       "      <td>0.00</td>\n",
       "      <td>0.00</td>\n",
       "      <td>0.00</td>\n",
       "    </tr>\n",
       "    <tr>\n",
       "      <th>1997</th>\n",
       "      <td>0.00</td>\n",
       "      <td>136.17</td>\n",
       "      <td>0.00</td>\n",
       "      <td>0.00</td>\n",
       "      <td>0.00</td>\n",
       "      <td>0.00</td>\n",
       "    </tr>\n",
       "    <tr>\n",
       "      <th>1998</th>\n",
       "      <td>0.00</td>\n",
       "      <td>169.49</td>\n",
       "      <td>0.00</td>\n",
       "      <td>0.00</td>\n",
       "      <td>0.00</td>\n",
       "      <td>0.00</td>\n",
       "    </tr>\n",
       "    <tr>\n",
       "      <th>1999</th>\n",
       "      <td>0.00</td>\n",
       "      <td>145.99</td>\n",
       "      <td>0.00</td>\n",
       "      <td>0.00</td>\n",
       "      <td>0.00</td>\n",
       "      <td>0.00</td>\n",
       "    </tr>\n",
       "    <tr>\n",
       "      <th>2000</th>\n",
       "      <td>0.00</td>\n",
       "      <td>96.37</td>\n",
       "      <td>39.17</td>\n",
       "      <td>0.00</td>\n",
       "      <td>0.00</td>\n",
       "      <td>0.00</td>\n",
       "    </tr>\n",
       "    <tr>\n",
       "      <th>2001</th>\n",
       "      <td>0.00</td>\n",
       "      <td>35.59</td>\n",
       "      <td>166.43</td>\n",
       "      <td>0.00</td>\n",
       "      <td>0.00</td>\n",
       "      <td>0.00</td>\n",
       "    </tr>\n",
       "    <tr>\n",
       "      <th>2002</th>\n",
       "      <td>0.00</td>\n",
       "      <td>6.67</td>\n",
       "      <td>205.38</td>\n",
       "      <td>0.00</td>\n",
       "      <td>0.00</td>\n",
       "      <td>0.00</td>\n",
       "    </tr>\n",
       "    <tr>\n",
       "      <th>2003</th>\n",
       "      <td>0.00</td>\n",
       "      <td>2.07</td>\n",
       "      <td>185.93</td>\n",
       "      <td>0.00</td>\n",
       "      <td>0.00</td>\n",
       "      <td>0.00</td>\n",
       "    </tr>\n",
       "    <tr>\n",
       "      <th>2004</th>\n",
       "      <td>17.27</td>\n",
       "      <td>0.00</td>\n",
       "      <td>220.55</td>\n",
       "      <td>0.00</td>\n",
       "      <td>0.00</td>\n",
       "      <td>0.00</td>\n",
       "    </tr>\n",
       "    <tr>\n",
       "      <th>2005</th>\n",
       "      <td>130.14</td>\n",
       "      <td>0.00</td>\n",
       "      <td>160.98</td>\n",
       "      <td>0.00</td>\n",
       "      <td>0.00</td>\n",
       "      <td>8.25</td>\n",
       "    </tr>\n",
       "    <tr>\n",
       "      <th>2006</th>\n",
       "      <td>119.81</td>\n",
       "      <td>0.00</td>\n",
       "      <td>106.46</td>\n",
       "      <td>20.96</td>\n",
       "      <td>137.15</td>\n",
       "      <td>51.62</td>\n",
       "    </tr>\n",
       "    <tr>\n",
       "      <th>2007</th>\n",
       "      <td>146.94</td>\n",
       "      <td>0.00</td>\n",
       "      <td>75.99</td>\n",
       "      <td>73.19</td>\n",
       "      <td>152.77</td>\n",
       "      <td>95.42</td>\n",
       "    </tr>\n",
       "    <tr>\n",
       "      <th>2008</th>\n",
       "      <td>145.32</td>\n",
       "      <td>0.00</td>\n",
       "      <td>53.90</td>\n",
       "      <td>118.52</td>\n",
       "      <td>171.32</td>\n",
       "      <td>135.26</td>\n",
       "    </tr>\n",
       "    <tr>\n",
       "      <th>2009</th>\n",
       "      <td>119.54</td>\n",
       "      <td>0.00</td>\n",
       "      <td>26.40</td>\n",
       "      <td>130.93</td>\n",
       "      <td>206.97</td>\n",
       "      <td>120.29</td>\n",
       "    </tr>\n",
       "    <tr>\n",
       "      <th>2010</th>\n",
       "      <td>85.02</td>\n",
       "      <td>0.00</td>\n",
       "      <td>5.64</td>\n",
       "      <td>142.17</td>\n",
       "      <td>127.95</td>\n",
       "      <td>170.03</td>\n",
       "    </tr>\n",
       "    <tr>\n",
       "      <th>2011</th>\n",
       "      <td>26.18</td>\n",
       "      <td>0.00</td>\n",
       "      <td>0.45</td>\n",
       "      <td>156.78</td>\n",
       "      <td>59.65</td>\n",
       "      <td>143.89</td>\n",
       "    </tr>\n",
       "    <tr>\n",
       "      <th>2012</th>\n",
       "      <td>11.01</td>\n",
       "      <td>0.00</td>\n",
       "      <td>0.00</td>\n",
       "      <td>107.36</td>\n",
       "      <td>21.71</td>\n",
       "      <td>99.74</td>\n",
       "    </tr>\n",
       "    <tr>\n",
       "      <th>2013</th>\n",
       "      <td>1.54</td>\n",
       "      <td>0.00</td>\n",
       "      <td>0.00</td>\n",
       "      <td>113.25</td>\n",
       "      <td>8.59</td>\n",
       "      <td>88.58</td>\n",
       "    </tr>\n",
       "    <tr>\n",
       "      <th>2014</th>\n",
       "      <td>0.00</td>\n",
       "      <td>0.00</td>\n",
       "      <td>0.00</td>\n",
       "      <td>47.76</td>\n",
       "      <td>3.75</td>\n",
       "      <td>34.74</td>\n",
       "    </tr>\n",
       "    <tr>\n",
       "      <th>2015</th>\n",
       "      <td>0.00</td>\n",
       "      <td>0.00</td>\n",
       "      <td>0.00</td>\n",
       "      <td>16.82</td>\n",
       "      <td>1.14</td>\n",
       "      <td>11.96</td>\n",
       "    </tr>\n",
       "    <tr>\n",
       "      <th>2016</th>\n",
       "      <td>0.00</td>\n",
       "      <td>0.00</td>\n",
       "      <td>0.00</td>\n",
       "      <td>3.60</td>\n",
       "      <td>0.18</td>\n",
       "      <td>1.52</td>\n",
       "    </tr>\n",
       "  </tbody>\n",
       "</table>\n",
       "</div>"
      ],
      "text/plain": [
       "platform             DS      PS     PS2     PS3     Wii    X360\n",
       "year_of_release                                                \n",
       "1985               0.02    0.00    0.00    0.00    0.00    0.00\n",
       "1994               0.00    6.03    0.00    0.00    0.00    0.00\n",
       "1995               0.00   35.96    0.00    0.00    0.00    0.00\n",
       "1996               0.00   94.70    0.00    0.00    0.00    0.00\n",
       "1997               0.00  136.17    0.00    0.00    0.00    0.00\n",
       "1998               0.00  169.49    0.00    0.00    0.00    0.00\n",
       "1999               0.00  145.99    0.00    0.00    0.00    0.00\n",
       "2000               0.00   96.37   39.17    0.00    0.00    0.00\n",
       "2001               0.00   35.59  166.43    0.00    0.00    0.00\n",
       "2002               0.00    6.67  205.38    0.00    0.00    0.00\n",
       "2003               0.00    2.07  185.93    0.00    0.00    0.00\n",
       "2004              17.27    0.00  220.55    0.00    0.00    0.00\n",
       "2005             130.14    0.00  160.98    0.00    0.00    8.25\n",
       "2006             119.81    0.00  106.46   20.96  137.15   51.62\n",
       "2007             146.94    0.00   75.99   73.19  152.77   95.42\n",
       "2008             145.32    0.00   53.90  118.52  171.32  135.26\n",
       "2009             119.54    0.00   26.40  130.93  206.97  120.29\n",
       "2010              85.02    0.00    5.64  142.17  127.95  170.03\n",
       "2011              26.18    0.00    0.45  156.78   59.65  143.89\n",
       "2012              11.01    0.00    0.00  107.36   21.71   99.74\n",
       "2013               1.54    0.00    0.00  113.25    8.59   88.58\n",
       "2014               0.00    0.00    0.00   47.76    3.75   34.74\n",
       "2015               0.00    0.00    0.00   16.82    1.14   11.96\n",
       "2016               0.00    0.00    0.00    3.60    0.18    1.52"
      ]
     },
     "execution_count": 26,
     "metadata": {},
     "output_type": "execute_result"
    }
   ],
   "source": [
    "games_popular_platforms_pivot = games_popular_platforms.pivot_table(index = 'year_of_release', \n",
    "                                                                    columns = 'platform', \n",
    "                                                                    values = 'total_sales', \n",
    "                                                                    aggfunc = 'sum')\n",
    "games_popular_platforms_pivot = games_popular_platforms_pivot.fillna(0)\n",
    "games_popular_platforms_pivot"
   ]
  },
  {
   "cell_type": "code",
   "execution_count": 27,
   "metadata": {
    "scrolled": false
   },
   "outputs": [
    {
     "data": {
      "text/plain": [
       "array([<AxesSubplot:xlabel='year_of_release'>,\n",
       "       <AxesSubplot:xlabel='year_of_release'>,\n",
       "       <AxesSubplot:xlabel='year_of_release'>,\n",
       "       <AxesSubplot:xlabel='year_of_release'>,\n",
       "       <AxesSubplot:xlabel='year_of_release'>,\n",
       "       <AxesSubplot:xlabel='year_of_release'>], dtype=object)"
      ]
     },
     "execution_count": 27,
     "metadata": {},
     "output_type": "execute_result"
    },
    {
     "data": {
      "image/png": "[encoded data removed]",
      "text/plain": [
       "<Figure size 864x720 with 6 Axes>"
      ]
     },
     "metadata": {},
     "output_type": "display_data"
    }
   ],
   "source": [
    "games_popular_platforms_pivot.plot.area(figsize=(12, 10), subplots=True)"
   ]
  },
  {
   "cell_type": "markdown",
   "metadata": {},
   "source": [
    "На графике можно видеть, что в среднем популярные платформы \"живут\" 8-11 лет. Проверим эти цифры: найдем срок жизни каждой популярной платформы и найдем медиану значений."
   ]
  },
  {
   "cell_type": "code",
   "execution_count": 28,
   "metadata": {
    "scrolled": false
   },
   "outputs": [
    {
     "data": {
      "text/html": [
       "<div>\n",
       "<style scoped>\n",
       "    .dataframe tbody tr th:only-of-type {\n",
       "        vertical-align: middle;\n",
       "    }\n",
       "\n",
       "    .dataframe tbody tr th {\n",
       "        vertical-align: top;\n",
       "    }\n",
       "\n",
       "    .dataframe thead th {\n",
       "        text-align: right;\n",
       "    }\n",
       "</style>\n",
       "<table border=\"1\" class=\"dataframe\">\n",
       "  <thead>\n",
       "    <tr style=\"text-align: right;\">\n",
       "      <th></th>\n",
       "      <th>platform</th>\n",
       "      <th>year_of_release</th>\n",
       "    </tr>\n",
       "  </thead>\n",
       "  <tbody>\n",
       "    <tr>\n",
       "      <th>0</th>\n",
       "      <td>DS</td>\n",
       "      <td>28</td>\n",
       "    </tr>\n",
       "    <tr>\n",
       "      <th>2</th>\n",
       "      <td>PS2</td>\n",
       "      <td>11</td>\n",
       "    </tr>\n",
       "    <tr>\n",
       "      <th>5</th>\n",
       "      <td>X360</td>\n",
       "      <td>11</td>\n",
       "    </tr>\n",
       "    <tr>\n",
       "      <th>3</th>\n",
       "      <td>PS3</td>\n",
       "      <td>10</td>\n",
       "    </tr>\n",
       "    <tr>\n",
       "      <th>4</th>\n",
       "      <td>Wii</td>\n",
       "      <td>10</td>\n",
       "    </tr>\n",
       "    <tr>\n",
       "      <th>1</th>\n",
       "      <td>PS</td>\n",
       "      <td>9</td>\n",
       "    </tr>\n",
       "  </tbody>\n",
       "</table>\n",
       "</div>"
      ],
      "text/plain": [
       "  platform  year_of_release\n",
       "0       DS               28\n",
       "2      PS2               11\n",
       "5     X360               11\n",
       "3      PS3               10\n",
       "4      Wii               10\n",
       "1       PS                9"
      ]
     },
     "execution_count": 28,
     "metadata": {},
     "output_type": "execute_result"
    }
   ],
   "source": [
    "games_grouped = games_popular_platforms.groupby('platform')['year_of_release'].max() - games_popular_platforms.groupby('platform')['year_of_release'].min()\n",
    "games_grouped = games_grouped.reset_index()\n",
    "games_grouped.sort_values('year_of_release', ascending = False)"
   ]
  },
  {
   "cell_type": "markdown",
   "metadata": {},
   "source": [
    "Срок жизни платформы 'DS' большой из-за выброса, который был найден ранее на этапе построения сводной таблицы - есть одна игра 1985 года, хотя остальные игры на этой платформе стали появляться в 2004 году. Найдем и уберем выброс."
   ]
  },
  {
   "cell_type": "code",
   "execution_count": 29,
   "metadata": {
    "scrolled": true
   },
   "outputs": [
    {
     "data": {
      "text/html": [
       "<div>\n",
       "<style scoped>\n",
       "    .dataframe tbody tr th:only-of-type {\n",
       "        vertical-align: middle;\n",
       "    }\n",
       "\n",
       "    .dataframe tbody tr th {\n",
       "        vertical-align: top;\n",
       "    }\n",
       "\n",
       "    .dataframe thead th {\n",
       "        text-align: right;\n",
       "    }\n",
       "</style>\n",
       "<table border=\"1\" class=\"dataframe\">\n",
       "  <thead>\n",
       "    <tr style=\"text-align: right;\">\n",
       "      <th></th>\n",
       "      <th>name</th>\n",
       "      <th>platform</th>\n",
       "      <th>year_of_release</th>\n",
       "      <th>genre</th>\n",
       "      <th>na_sales</th>\n",
       "      <th>eu_sales</th>\n",
       "      <th>jp_sales</th>\n",
       "      <th>other_sales</th>\n",
       "      <th>critic_score</th>\n",
       "      <th>user_score</th>\n",
       "      <th>rating</th>\n",
       "      <th>total_sales</th>\n",
       "    </tr>\n",
       "  </thead>\n",
       "  <tbody>\n",
       "    <tr>\n",
       "      <th>15957</th>\n",
       "      <td>Strongest Tokyo University Shogi DS</td>\n",
       "      <td>DS</td>\n",
       "      <td>1985</td>\n",
       "      <td>Action</td>\n",
       "      <td>0.00</td>\n",
       "      <td>0.00</td>\n",
       "      <td>0.02</td>\n",
       "      <td>0.0</td>\n",
       "      <td>NaN</td>\n",
       "      <td>NaN</td>\n",
       "      <td>Not determined</td>\n",
       "      <td>0.02</td>\n",
       "    </tr>\n",
       "    <tr>\n",
       "      <th>13463</th>\n",
       "      <td>Cocoto Kart Racer</td>\n",
       "      <td>DS</td>\n",
       "      <td>2004</td>\n",
       "      <td>Racing</td>\n",
       "      <td>0.04</td>\n",
       "      <td>0.00</td>\n",
       "      <td>0.00</td>\n",
       "      <td>0.0</td>\n",
       "      <td>NaN</td>\n",
       "      <td>NaN</td>\n",
       "      <td>E</td>\n",
       "      <td>0.04</td>\n",
       "    </tr>\n",
       "    <tr>\n",
       "      <th>11517</th>\n",
       "      <td>Kenshuui Tendo Dokuta</td>\n",
       "      <td>DS</td>\n",
       "      <td>2004</td>\n",
       "      <td>Simulation</td>\n",
       "      <td>0.00</td>\n",
       "      <td>0.00</td>\n",
       "      <td>0.08</td>\n",
       "      <td>0.0</td>\n",
       "      <td>NaN</td>\n",
       "      <td>NaN</td>\n",
       "      <td>Not determined</td>\n",
       "      <td>0.08</td>\n",
       "    </tr>\n",
       "    <tr>\n",
       "      <th>4421</th>\n",
       "      <td>The Urbz: Sims in the City (all regions sales)</td>\n",
       "      <td>DS</td>\n",
       "      <td>2004</td>\n",
       "      <td>Simulation</td>\n",
       "      <td>0.40</td>\n",
       "      <td>0.01</td>\n",
       "      <td>0.02</td>\n",
       "      <td>0.0</td>\n",
       "      <td>NaN</td>\n",
       "      <td>NaN</td>\n",
       "      <td>Not determined</td>\n",
       "      <td>0.43</td>\n",
       "    </tr>\n",
       "    <tr>\n",
       "      <th>7902</th>\n",
       "      <td>Daigasso! Band Brothers</td>\n",
       "      <td>DS</td>\n",
       "      <td>2004</td>\n",
       "      <td>Misc</td>\n",
       "      <td>0.00</td>\n",
       "      <td>0.00</td>\n",
       "      <td>0.19</td>\n",
       "      <td>0.0</td>\n",
       "      <td>NaN</td>\n",
       "      <td>NaN</td>\n",
       "      <td>Not determined</td>\n",
       "      <td>0.19</td>\n",
       "    </tr>\n",
       "  </tbody>\n",
       "</table>\n",
       "</div>"
      ],
      "text/plain": [
       "                                                 name platform  \\\n",
       "15957             Strongest Tokyo University Shogi DS       DS   \n",
       "13463                               Cocoto Kart Racer       DS   \n",
       "11517                           Kenshuui Tendo Dokuta       DS   \n",
       "4421   The Urbz: Sims in the City (all regions sales)       DS   \n",
       "7902                          Daigasso! Band Brothers       DS   \n",
       "\n",
       "       year_of_release       genre  na_sales  eu_sales  jp_sales  other_sales  \\\n",
       "15957             1985      Action      0.00      0.00      0.02          0.0   \n",
       "13463             2004      Racing      0.04      0.00      0.00          0.0   \n",
       "11517             2004  Simulation      0.00      0.00      0.08          0.0   \n",
       "4421              2004  Simulation      0.40      0.01      0.02          0.0   \n",
       "7902              2004        Misc      0.00      0.00      0.19          0.0   \n",
       "\n",
       "       critic_score  user_score          rating  total_sales  \n",
       "15957           NaN         NaN  Not determined         0.02  \n",
       "13463           NaN         NaN               E         0.04  \n",
       "11517           NaN         NaN  Not determined         0.08  \n",
       "4421            NaN         NaN  Not determined         0.43  \n",
       "7902            NaN         NaN  Not determined         0.19  "
      ]
     },
     "execution_count": 29,
     "metadata": {},
     "output_type": "execute_result"
    }
   ],
   "source": [
    "games[games['platform'] == 'DS'].sort_values('year_of_release').head()"
   ]
  },
  {
   "cell_type": "code",
   "execution_count": 30,
   "metadata": {
    "scrolled": true
   },
   "outputs": [],
   "source": [
    "games = games.drop([15957])\n",
    "games = games.reset_index()"
   ]
  },
  {
   "cell_type": "code",
   "execution_count": 31,
   "metadata": {
    "scrolled": true
   },
   "outputs": [
    {
     "data": {
      "text/plain": [
       "10.5"
      ]
     },
     "execution_count": 31,
     "metadata": {},
     "output_type": "execute_result"
    }
   ],
   "source": [
    "games_grouped['year_of_release'].median()"
   ]
  },
  {
   "cell_type": "code",
   "execution_count": 32,
   "metadata": {},
   "outputs": [
    {
     "data": {
      "text/plain": [
       "13.166666666666666"
      ]
     },
     "execution_count": 32,
     "metadata": {},
     "output_type": "execute_result"
    }
   ],
   "source": [
    "games_grouped['year_of_release'].mean()"
   ]
  },
  {
   "cell_type": "markdown",
   "metadata": {},
   "source": [
    "Медианный срок жизни платформы - 10,5 лет. Средний - 13 лет. Однако период исследования игр за последние 10-13 лет выглядит слишком большим, учитывая, что рынок за этот период сильно менялся дважды - после 2005 года - резкое увеличение количества выпущенных за год игр, начиная с 2012 года - резкое сокращение. Оставим в датасете данные с 2012 года."
   ]
  },
  {
   "cell_type": "code",
   "execution_count": 33,
   "metadata": {},
   "outputs": [],
   "source": [
    "games = games[games['year_of_release'] >= 2012]"
   ]
  },
  {
   "cell_type": "markdown",
   "metadata": {},
   "source": [
    "### Выявление актуальных платформ"
   ]
  },
  {
   "cell_type": "markdown",
   "metadata": {},
   "source": [
    "Посмотрим на то сколько игр продавалось на каждой платформе в тот или иной год."
   ]
  },
  {
   "cell_type": "code",
   "execution_count": 34,
   "metadata": {
    "scrolled": true
   },
   "outputs": [
    {
     "data": {
      "text/html": [
       "<div>\n",
       "<style scoped>\n",
       "    .dataframe tbody tr th:only-of-type {\n",
       "        vertical-align: middle;\n",
       "    }\n",
       "\n",
       "    .dataframe tbody tr th {\n",
       "        vertical-align: top;\n",
       "    }\n",
       "\n",
       "    .dataframe thead th {\n",
       "        text-align: right;\n",
       "    }\n",
       "</style>\n",
       "<table border=\"1\" class=\"dataframe\">\n",
       "  <thead>\n",
       "    <tr style=\"text-align: right;\">\n",
       "      <th>platform</th>\n",
       "      <th>3DS</th>\n",
       "      <th>DS</th>\n",
       "      <th>PC</th>\n",
       "      <th>PS3</th>\n",
       "      <th>PS4</th>\n",
       "      <th>PSP</th>\n",
       "      <th>PSV</th>\n",
       "      <th>Wii</th>\n",
       "      <th>WiiU</th>\n",
       "      <th>X360</th>\n",
       "      <th>XOne</th>\n",
       "    </tr>\n",
       "    <tr>\n",
       "      <th>year_of_release</th>\n",
       "      <th></th>\n",
       "      <th></th>\n",
       "      <th></th>\n",
       "      <th></th>\n",
       "      <th></th>\n",
       "      <th></th>\n",
       "      <th></th>\n",
       "      <th></th>\n",
       "      <th></th>\n",
       "      <th></th>\n",
       "      <th></th>\n",
       "    </tr>\n",
       "  </thead>\n",
       "  <tbody>\n",
       "    <tr>\n",
       "      <th>2012</th>\n",
       "      <td>51.36</td>\n",
       "      <td>11.01</td>\n",
       "      <td>23.22</td>\n",
       "      <td>107.36</td>\n",
       "      <td>NaN</td>\n",
       "      <td>7.69</td>\n",
       "      <td>16.19</td>\n",
       "      <td>21.71</td>\n",
       "      <td>17.56</td>\n",
       "      <td>99.74</td>\n",
       "      <td>NaN</td>\n",
       "    </tr>\n",
       "    <tr>\n",
       "      <th>2013</th>\n",
       "      <td>56.57</td>\n",
       "      <td>1.54</td>\n",
       "      <td>12.73</td>\n",
       "      <td>113.25</td>\n",
       "      <td>25.99</td>\n",
       "      <td>3.14</td>\n",
       "      <td>10.59</td>\n",
       "      <td>8.59</td>\n",
       "      <td>21.65</td>\n",
       "      <td>88.58</td>\n",
       "      <td>18.96</td>\n",
       "    </tr>\n",
       "    <tr>\n",
       "      <th>2014</th>\n",
       "      <td>43.76</td>\n",
       "      <td>NaN</td>\n",
       "      <td>13.28</td>\n",
       "      <td>47.76</td>\n",
       "      <td>100.00</td>\n",
       "      <td>0.24</td>\n",
       "      <td>11.90</td>\n",
       "      <td>3.75</td>\n",
       "      <td>22.03</td>\n",
       "      <td>34.74</td>\n",
       "      <td>54.07</td>\n",
       "    </tr>\n",
       "    <tr>\n",
       "      <th>2015</th>\n",
       "      <td>27.78</td>\n",
       "      <td>NaN</td>\n",
       "      <td>8.52</td>\n",
       "      <td>16.82</td>\n",
       "      <td>118.90</td>\n",
       "      <td>0.12</td>\n",
       "      <td>6.25</td>\n",
       "      <td>1.14</td>\n",
       "      <td>16.35</td>\n",
       "      <td>11.96</td>\n",
       "      <td>60.14</td>\n",
       "    </tr>\n",
       "    <tr>\n",
       "      <th>2016</th>\n",
       "      <td>15.14</td>\n",
       "      <td>NaN</td>\n",
       "      <td>5.25</td>\n",
       "      <td>3.60</td>\n",
       "      <td>69.25</td>\n",
       "      <td>NaN</td>\n",
       "      <td>4.25</td>\n",
       "      <td>0.18</td>\n",
       "      <td>4.60</td>\n",
       "      <td>1.52</td>\n",
       "      <td>26.15</td>\n",
       "    </tr>\n",
       "  </tbody>\n",
       "</table>\n",
       "</div>"
      ],
      "text/plain": [
       "platform           3DS     DS     PC     PS3     PS4   PSP    PSV    Wii  \\\n",
       "year_of_release                                                            \n",
       "2012             51.36  11.01  23.22  107.36     NaN  7.69  16.19  21.71   \n",
       "2013             56.57   1.54  12.73  113.25   25.99  3.14  10.59   8.59   \n",
       "2014             43.76    NaN  13.28   47.76  100.00  0.24  11.90   3.75   \n",
       "2015             27.78    NaN   8.52   16.82  118.90  0.12   6.25   1.14   \n",
       "2016             15.14    NaN   5.25    3.60   69.25   NaN   4.25   0.18   \n",
       "\n",
       "platform          WiiU   X360   XOne  \n",
       "year_of_release                       \n",
       "2012             17.56  99.74    NaN  \n",
       "2013             21.65  88.58  18.96  \n",
       "2014             22.03  34.74  54.07  \n",
       "2015             16.35  11.96  60.14  \n",
       "2016              4.60   1.52  26.15  "
      ]
     },
     "execution_count": 34,
     "metadata": {},
     "output_type": "execute_result"
    }
   ],
   "source": [
    "games_pivot = games.pivot_table(index = 'year_of_release', \n",
    "                                columns = 'platform', \n",
    "                                values = 'total_sales', \n",
    "                                aggfunc = 'sum')\n",
    "games_pivot"
   ]
  },
  {
   "cell_type": "code",
   "execution_count": 35,
   "metadata": {
    "scrolled": false
   },
   "outputs": [
    {
     "data": {
      "text/plain": [
       "array([<AxesSubplot:xlabel='year_of_release'>,\n",
       "       <AxesSubplot:xlabel='year_of_release'>,\n",
       "       <AxesSubplot:xlabel='year_of_release'>,\n",
       "       <AxesSubplot:xlabel='year_of_release'>,\n",
       "       <AxesSubplot:xlabel='year_of_release'>,\n",
       "       <AxesSubplot:xlabel='year_of_release'>,\n",
       "       <AxesSubplot:xlabel='year_of_release'>,\n",
       "       <AxesSubplot:xlabel='year_of_release'>,\n",
       "       <AxesSubplot:xlabel='year_of_release'>,\n",
       "       <AxesSubplot:xlabel='year_of_release'>,\n",
       "       <AxesSubplot:xlabel='year_of_release'>], dtype=object)"
      ]
     },
     "execution_count": 35,
     "metadata": {},
     "output_type": "execute_result"
    },
    {
     "data": {
      "image/png": "[encoded data removed]",
      "text/plain": [
       "<Figure size 720x936 with 11 Axes>"
      ]
     },
     "metadata": {},
     "output_type": "display_data"
    }
   ],
   "source": [
    "games_pivot.plot.area(figsize=(10, 13), subplots=True)"
   ]
  },
  {
   "cell_type": "markdown",
   "metadata": {},
   "source": [
    "На графике видно, что все актуальные платформы уже пережили свой пик по продажам выпускающихся на них игр. Перспективных платформ не много: только PS4, 3DS и XOne еще имеют хорошие показатели. Также платформа PC не сильно подвержена колебаниям из-за долгого срока жизни платформы - игры на компьютере выходили и будут выходить, скорее всего всегда. Видимо стоит ожидать появления новой платформы в ближайшие годы."
   ]
  },
  {
   "cell_type": "markdown",
   "metadata": {},
   "source": [
    "### Box-plot"
   ]
  },
  {
   "cell_type": "markdown",
   "metadata": {},
   "source": [
    "Построим график «box-plot» по глобальным продажам игр в разбивке по наиболее перспективных платформам для того, чтобы выявить несимметрично распределенные продажи и выборсы."
   ]
  },
  {
   "cell_type": "code",
   "execution_count": 36,
   "metadata": {
    "scrolled": false
   },
   "outputs": [
    {
     "data": {
      "text/plain": [
       "<AxesSubplot:xlabel='platform', ylabel='total_sales'>"
      ]
     },
     "execution_count": 36,
     "metadata": {},
     "output_type": "execute_result"
    },
    {
     "data": {
      "image/png": "[encoded data removed]",
      "text/plain": [
       "<Figure size 1080x360 with 1 Axes>"
      ]
     },
     "metadata": {},
     "output_type": "display_data"
    }
   ],
   "source": [
    "games_perspective_platforms = games[games['platform'].isin(('PS4', '3DS', 'XOne'))]\n",
    "sns.boxplot(x = 'platform', y = 'total_sales', data = games_perspective_platforms)"
   ]
  },
  {
   "cell_type": "markdown",
   "metadata": {},
   "source": [
    "Большинство значений так бизко находятся к нулю, что невозможно разобрать графики, из чего можно уже сделать вывод, что больгинство игр почти не продаются - они очень непопулярны. Уберем из выборки самые непопулярные игры."
   ]
  },
  {
   "cell_type": "code",
   "execution_count": 37,
   "metadata": {
    "scrolled": false
   },
   "outputs": [
    {
     "data": {
      "text/plain": [
       "<AxesSubplot:xlabel='platform', ylabel='total_sales'>"
      ]
     },
     "execution_count": 37,
     "metadata": {},
     "output_type": "execute_result"
    },
    {
     "data": {
      "image/png": "[encoded data removed]",
      "text/plain": [
       "<Figure size 1080x864 with 1 Axes>"
      ]
     },
     "metadata": {},
     "output_type": "display_data"
    }
   ],
   "source": [
    "sns.set(rc={'figure.figsize':(15, 12)})\n",
    "games_perspective_platforms = games_perspective_platforms[games_perspective_platforms['total_sales'] > 1]\n",
    "sns.boxplot(x = 'platform', y = 'total_sales', data = games_perspective_platforms)"
   ]
  },
  {
   "cell_type": "markdown",
   "metadata": {},
   "source": [
    "Убрав самые минимальные значения, становится видно, что количество игр с продажами меньше медианной все равно осталось больше у всех выбранных платформ, при этом на платформах \"PS4\", \"3DS\" встречаются самые популярные игры, продажи которых заметно больше остальных игр на всех выбранных платформах платформах. На фоне вышеуказанных платформ, продажи игр на платформе \"XOne\" наименее разбросаны, следовательно объем продаж будущих игр на этой платформе более предсказуем. Медианные значения всех трех платформ очень близки."
   ]
  },
  {
   "cell_type": "markdown",
   "metadata": {},
   "source": [
    "### Влияние отзывов пользователей и критиков на продажи игр"
   ]
  },
  {
   "cell_type": "markdown",
   "metadata": {},
   "source": [
    "Возьмем одну из самых популярных платформ '3DS'. На ее примере посмотрим корреляцию отзывов и продаж. Сначала проверим кореллируют-ли продажи с отзывами критиков."
   ]
  },
  {
   "cell_type": "code",
   "execution_count": 38,
   "metadata": {
    "scrolled": false
   },
   "outputs": [
    {
     "data": {
      "text/plain": [
       "<seaborn.axisgrid.FacetGrid at 0x14783a950>"
      ]
     },
     "execution_count": 38,
     "metadata": {},
     "output_type": "execute_result"
    },
    {
     "data": {
      "image/png": "[encoded data removed]",
      "text/plain": [
       "<Figure size 360x360 with 1 Axes>"
      ]
     },
     "metadata": {},
     "output_type": "display_data"
    }
   ],
   "source": [
    "games_ps2 = games[games['platform'] == '3DS']\n",
    "sns.lmplot(data = games_ps2, x = 'total_sales', y = 'critic_score')"
   ]
  },
  {
   "cell_type": "markdown",
   "metadata": {},
   "source": [
    "Затем проверим кореллируют-ли продажи с отзывами пользователей."
   ]
  },
  {
   "cell_type": "code",
   "execution_count": 39,
   "metadata": {
    "scrolled": false
   },
   "outputs": [
    {
     "data": {
      "text/plain": [
       "<seaborn.axisgrid.FacetGrid at 0x1478dcfd0>"
      ]
     },
     "execution_count": 39,
     "metadata": {},
     "output_type": "execute_result"
    },
    {
     "data": {
      "image/png": "[encoded data removed]",
      "text/plain": [
       "<Figure size 360x360 with 1 Axes>"
      ]
     },
     "metadata": {},
     "output_type": "display_data"
    }
   ],
   "source": [
    "sns.lmplot(data = games_ps2, x = 'total_sales', y = 'user_score')"
   ]
  },
  {
   "cell_type": "code",
   "execution_count": 40,
   "metadata": {
    "scrolled": false
   },
   "outputs": [
    {
     "data": {
      "text/plain": [
       "critic_score    0.320803\n",
       "user_score      0.197583\n",
       "total_sales     1.000000\n",
       "Name: total_sales, dtype: float64"
      ]
     },
     "execution_count": 40,
     "metadata": {},
     "output_type": "execute_result"
    }
   ],
   "source": [
    "games_ps2[['critic_score', 'user_score', 'total_sales']].corr()['total_sales']"
   ]
  },
  {
   "cell_type": "markdown",
   "metadata": {},
   "source": [
    "Продажи кореллируют с отзывами критиков сильнее, чем с отзывами пользователей, однако все равно слабо - процент корреляции - всего 32%."
   ]
  },
  {
   "cell_type": "markdown",
   "metadata": {},
   "source": [
    "Соотнесем выводы с продажами игр на всех платформах."
   ]
  },
  {
   "cell_type": "code",
   "execution_count": 41,
   "metadata": {
    "scrolled": false
   },
   "outputs": [
    {
     "data": {
      "text/plain": [
       "<AxesSubplot:xlabel='total_sales', ylabel='critic_score'>"
      ]
     },
     "execution_count": 41,
     "metadata": {},
     "output_type": "execute_result"
    },
    {
     "data": {
      "image/png": "[encoded data removed]",
      "text/plain": [
       "<Figure size 720x576 with 1 Axes>"
      ]
     },
     "metadata": {},
     "output_type": "display_data"
    }
   ],
   "source": [
    "sns.set(rc={'figure.figsize':(10, 8)})\n",
    "sns.scatterplot(data = games, x = 'total_sales', y = 'critic_score')"
   ]
  },
  {
   "cell_type": "code",
   "execution_count": 42,
   "metadata": {},
   "outputs": [
    {
     "data": {
      "text/plain": [
       "<AxesSubplot:xlabel='total_sales', ylabel='user_score'>"
      ]
     },
     "execution_count": 42,
     "metadata": {},
     "output_type": "execute_result"
    },
    {
     "data": {
      "image/png": "[encoded data removed]",
      "text/plain": [
       "<Figure size 720x576 with 1 Axes>"
      ]
     },
     "metadata": {},
     "output_type": "display_data"
    }
   ],
   "source": [
    "sns.scatterplot(data = games, x = 'total_sales', y = 'user_score')"
   ]
  },
  {
   "cell_type": "code",
   "execution_count": 43,
   "metadata": {
    "scrolled": true
   },
   "outputs": [
    {
     "data": {
      "text/plain": [
       "critic_score    0.307823\n",
       "user_score      0.004225\n",
       "total_sales     1.000000\n",
       "Name: total_sales, dtype: float64"
      ]
     },
     "execution_count": 43,
     "metadata": {},
     "output_type": "execute_result"
    }
   ],
   "source": [
    "games[['critic_score', 'user_score', 'total_sales']].corr()['total_sales']"
   ]
  },
  {
   "cell_type": "markdown",
   "metadata": {},
   "source": [
    "Результаты повторились и на уровне общих продаж по всем платформам. При формировании стратегии продаж, можно не принимать во внимание отзывы критиков и пользователей - хорошо оцененная игра может продаваться как хорошо, так и плохо."
   ]
  },
  {
   "cell_type": "markdown",
   "metadata": {},
   "source": [
    "### Распределение игр по жанрам"
   ]
  },
  {
   "cell_type": "code",
   "execution_count": 44,
   "metadata": {
    "scrolled": false
   },
   "outputs": [
    {
     "data": {
      "text/html": [
       "<div>\n",
       "<style scoped>\n",
       "    .dataframe tbody tr th:only-of-type {\n",
       "        vertical-align: middle;\n",
       "    }\n",
       "\n",
       "    .dataframe tbody tr th {\n",
       "        vertical-align: top;\n",
       "    }\n",
       "\n",
       "    .dataframe thead th {\n",
       "        text-align: right;\n",
       "    }\n",
       "</style>\n",
       "<table border=\"1\" class=\"dataframe\">\n",
       "  <thead>\n",
       "    <tr style=\"text-align: right;\">\n",
       "      <th></th>\n",
       "      <th>genre</th>\n",
       "      <th>total_sales</th>\n",
       "    </tr>\n",
       "  </thead>\n",
       "  <tbody>\n",
       "    <tr>\n",
       "      <th>0</th>\n",
       "      <td>Shooter</td>\n",
       "      <td>1.296723</td>\n",
       "    </tr>\n",
       "    <tr>\n",
       "      <th>1</th>\n",
       "      <td>Platform</td>\n",
       "      <td>0.717647</td>\n",
       "    </tr>\n",
       "    <tr>\n",
       "      <th>2</th>\n",
       "      <td>Sports</td>\n",
       "      <td>0.675634</td>\n",
       "    </tr>\n",
       "    <tr>\n",
       "      <th>3</th>\n",
       "      <td>Role-Playing</td>\n",
       "      <td>0.521081</td>\n",
       "    </tr>\n",
       "    <tr>\n",
       "      <th>4</th>\n",
       "      <td>Racing</td>\n",
       "      <td>0.465217</td>\n",
       "    </tr>\n",
       "    <tr>\n",
       "      <th>5</th>\n",
       "      <td>Misc</td>\n",
       "      <td>0.442917</td>\n",
       "    </tr>\n",
       "    <tr>\n",
       "      <th>6</th>\n",
       "      <td>Simulation</td>\n",
       "      <td>0.439000</td>\n",
       "    </tr>\n",
       "    <tr>\n",
       "      <th>7</th>\n",
       "      <td>Action</td>\n",
       "      <td>0.427781</td>\n",
       "    </tr>\n",
       "    <tr>\n",
       "      <th>8</th>\n",
       "      <td>Fighting</td>\n",
       "      <td>0.408165</td>\n",
       "    </tr>\n",
       "    <tr>\n",
       "      <th>9</th>\n",
       "      <td>Strategy</td>\n",
       "      <td>0.187887</td>\n",
       "    </tr>\n",
       "    <tr>\n",
       "      <th>10</th>\n",
       "      <td>Puzzle</td>\n",
       "      <td>0.174643</td>\n",
       "    </tr>\n",
       "    <tr>\n",
       "      <th>11</th>\n",
       "      <td>Adventure</td>\n",
       "      <td>0.097450</td>\n",
       "    </tr>\n",
       "  </tbody>\n",
       "</table>\n",
       "</div>"
      ],
      "text/plain": [
       "           genre  total_sales\n",
       "0        Shooter     1.296723\n",
       "1       Platform     0.717647\n",
       "2         Sports     0.675634\n",
       "3   Role-Playing     0.521081\n",
       "4         Racing     0.465217\n",
       "5           Misc     0.442917\n",
       "6     Simulation     0.439000\n",
       "7         Action     0.427781\n",
       "8       Fighting     0.408165\n",
       "9       Strategy     0.187887\n",
       "10        Puzzle     0.174643\n",
       "11     Adventure     0.097450"
      ]
     },
     "execution_count": 44,
     "metadata": {},
     "output_type": "execute_result"
    }
   ],
   "source": [
    "games_genre = games.groupby('genre')['total_sales'].mean()\n",
    "games_genre = games_genre.sort_values(ascending = False).reset_index()\n",
    "games_genre"
   ]
  },
  {
   "cell_type": "code",
   "execution_count": 45,
   "metadata": {
    "scrolled": false
   },
   "outputs": [
    {
     "data": {
      "text/plain": [
       "<AxesSubplot:xlabel='genre', ylabel='total_sales'>"
      ]
     },
     "execution_count": 45,
     "metadata": {},
     "output_type": "execute_result"
    },
    {
     "data": {
      "image/png": "[encoded data removed]",
      "text/plain": [
       "<Figure size 1080x576 with 1 Axes>"
      ]
     },
     "metadata": {},
     "output_type": "display_data"
    }
   ],
   "source": [
    "sns.set(rc={'figure.figsize':(15, 8)})\n",
    "sns.barplot(data = games_genre, x = 'genre', y = 'total_sales')"
   ]
  },
  {
   "cell_type": "markdown",
   "metadata": {},
   "source": [
    "Самый прибыльный жанр: \"Shooter\", продажи от игр остальных жанров расположены по убыванию без значительных скачков."
   ]
  },
  {
   "cell_type": "markdown",
   "metadata": {},
   "source": [
    "## Портрет пользователя каждого региона"
   ]
  },
  {
   "cell_type": "markdown",
   "metadata": {},
   "source": [
    "### Самые популярные платформы в регионах"
   ]
  },
  {
   "cell_type": "code",
   "execution_count": 46,
   "metadata": {
    "scrolled": false
   },
   "outputs": [
    {
     "data": {
      "text/html": [
       "<div>\n",
       "<style scoped>\n",
       "    .dataframe tbody tr th:only-of-type {\n",
       "        vertical-align: middle;\n",
       "    }\n",
       "\n",
       "    .dataframe tbody tr th {\n",
       "        vertical-align: top;\n",
       "    }\n",
       "\n",
       "    .dataframe thead th {\n",
       "        text-align: right;\n",
       "    }\n",
       "</style>\n",
       "<table border=\"1\" class=\"dataframe\">\n",
       "  <thead>\n",
       "    <tr style=\"text-align: right;\">\n",
       "      <th></th>\n",
       "      <th>eu_sales</th>\n",
       "      <th>jp_sales</th>\n",
       "      <th>na_sales</th>\n",
       "    </tr>\n",
       "    <tr>\n",
       "      <th>platform</th>\n",
       "      <th></th>\n",
       "      <th></th>\n",
       "      <th></th>\n",
       "    </tr>\n",
       "  </thead>\n",
       "  <tbody>\n",
       "    <tr>\n",
       "      <th>PS4</th>\n",
       "      <td>0.28</td>\n",
       "      <td>0.08</td>\n",
       "      <td>0.18</td>\n",
       "    </tr>\n",
       "    <tr>\n",
       "      <th>PS3</th>\n",
       "      <td>0.21</td>\n",
       "      <td>0.18</td>\n",
       "      <td>0.17</td>\n",
       "    </tr>\n",
       "    <tr>\n",
       "      <th>X360</th>\n",
       "      <td>0.15</td>\n",
       "      <td>0.01</td>\n",
       "      <td>0.24</td>\n",
       "    </tr>\n",
       "    <tr>\n",
       "      <th>XOne</th>\n",
       "      <td>0.10</td>\n",
       "      <td>0.00</td>\n",
       "      <td>0.16</td>\n",
       "    </tr>\n",
       "    <tr>\n",
       "      <th>3DS</th>\n",
       "      <td>0.08</td>\n",
       "      <td>0.46</td>\n",
       "      <td>0.09</td>\n",
       "    </tr>\n",
       "    <tr>\n",
       "      <th>PC</th>\n",
       "      <td>0.07</td>\n",
       "      <td>0.00</td>\n",
       "      <td>0.03</td>\n",
       "    </tr>\n",
       "    <tr>\n",
       "      <th>WiiU</th>\n",
       "      <td>0.05</td>\n",
       "      <td>0.07</td>\n",
       "      <td>0.06</td>\n",
       "    </tr>\n",
       "    <tr>\n",
       "      <th>PSV</th>\n",
       "      <td>0.02</td>\n",
       "      <td>0.11</td>\n",
       "      <td>0.02</td>\n",
       "    </tr>\n",
       "    <tr>\n",
       "      <th>Wii</th>\n",
       "      <td>0.02</td>\n",
       "      <td>0.02</td>\n",
       "      <td>0.03</td>\n",
       "    </tr>\n",
       "    <tr>\n",
       "      <th>DS</th>\n",
       "      <td>0.01</td>\n",
       "      <td>0.02</td>\n",
       "      <td>0.01</td>\n",
       "    </tr>\n",
       "    <tr>\n",
       "      <th>PSP</th>\n",
       "      <td>0.00</td>\n",
       "      <td>0.05</td>\n",
       "      <td>0.00</td>\n",
       "    </tr>\n",
       "  </tbody>\n",
       "</table>\n",
       "</div>"
      ],
      "text/plain": [
       "          eu_sales  jp_sales  na_sales\n",
       "platform                              \n",
       "PS4           0.28      0.08      0.18\n",
       "PS3           0.21      0.18      0.17\n",
       "X360          0.15      0.01      0.24\n",
       "XOne          0.10      0.00      0.16\n",
       "3DS           0.08      0.46      0.09\n",
       "PC            0.07      0.00      0.03\n",
       "WiiU          0.05      0.07      0.06\n",
       "PSV           0.02      0.11      0.02\n",
       "Wii           0.02      0.02      0.03\n",
       "DS            0.01      0.02      0.01\n",
       "PSP           0.00      0.05      0.00"
      ]
     },
     "execution_count": 46,
     "metadata": {},
     "output_type": "execute_result"
    }
   ],
   "source": [
    "games_top_platforms_in_regions = games.pivot_table(index = 'platform', values = ['na_sales', 'eu_sales', 'jp_sales'], aggfunc = 'sum')\n",
    "games_top_platforms_in_regions['eu_sales'] = games_top_platforms_in_regions['eu_sales']/games_top_platforms_in_regions['eu_sales'].sum()\n",
    "games_top_platforms_in_regions['jp_sales'] = games_top_platforms_in_regions['jp_sales']/games_top_platforms_in_regions['jp_sales'].sum()\n",
    "games_top_platforms_in_regions['na_sales'] = games_top_platforms_in_regions['na_sales']/games_top_platforms_in_regions['na_sales'].sum()\n",
    "games_top_platforms_in_regions = games_top_platforms_in_regions.round(2)\n",
    "games_top_platforms_in_regions.sort_values(by = 'eu_sales', ascending = False)"
   ]
  },
  {
   "cell_type": "markdown",
   "metadata": {},
   "source": [
    "В северной Америке и Европе предпочтения по платформам сравнительно похожи. Из заметных различий - X360, XOne сильно популярнее в Северной Америке, чем в Европе. На PS4 гораздо чаще играют в Европе, чем в Америке. "
   ]
  },
  {
   "cell_type": "code",
   "execution_count": 47,
   "metadata": {
    "scrolled": false
   },
   "outputs": [
    {
     "data": {
      "text/html": [
       "<div>\n",
       "<style scoped>\n",
       "    .dataframe tbody tr th:only-of-type {\n",
       "        vertical-align: middle;\n",
       "    }\n",
       "\n",
       "    .dataframe tbody tr th {\n",
       "        vertical-align: top;\n",
       "    }\n",
       "\n",
       "    .dataframe thead th {\n",
       "        text-align: right;\n",
       "    }\n",
       "</style>\n",
       "<table border=\"1\" class=\"dataframe\">\n",
       "  <thead>\n",
       "    <tr style=\"text-align: right;\">\n",
       "      <th></th>\n",
       "      <th>eu_sales</th>\n",
       "      <th>jp_sales</th>\n",
       "      <th>na_sales</th>\n",
       "    </tr>\n",
       "    <tr>\n",
       "      <th>platform</th>\n",
       "      <th></th>\n",
       "      <th></th>\n",
       "      <th></th>\n",
       "    </tr>\n",
       "  </thead>\n",
       "  <tbody>\n",
       "    <tr>\n",
       "      <th>3DS</th>\n",
       "      <td>0.08</td>\n",
       "      <td>0.46</td>\n",
       "      <td>0.09</td>\n",
       "    </tr>\n",
       "    <tr>\n",
       "      <th>PS3</th>\n",
       "      <td>0.21</td>\n",
       "      <td>0.18</td>\n",
       "      <td>0.17</td>\n",
       "    </tr>\n",
       "    <tr>\n",
       "      <th>PSV</th>\n",
       "      <td>0.02</td>\n",
       "      <td>0.11</td>\n",
       "      <td>0.02</td>\n",
       "    </tr>\n",
       "    <tr>\n",
       "      <th>PS4</th>\n",
       "      <td>0.28</td>\n",
       "      <td>0.08</td>\n",
       "      <td>0.18</td>\n",
       "    </tr>\n",
       "    <tr>\n",
       "      <th>WiiU</th>\n",
       "      <td>0.05</td>\n",
       "      <td>0.07</td>\n",
       "      <td>0.06</td>\n",
       "    </tr>\n",
       "    <tr>\n",
       "      <th>PSP</th>\n",
       "      <td>0.00</td>\n",
       "      <td>0.05</td>\n",
       "      <td>0.00</td>\n",
       "    </tr>\n",
       "    <tr>\n",
       "      <th>DS</th>\n",
       "      <td>0.01</td>\n",
       "      <td>0.02</td>\n",
       "      <td>0.01</td>\n",
       "    </tr>\n",
       "    <tr>\n",
       "      <th>Wii</th>\n",
       "      <td>0.02</td>\n",
       "      <td>0.02</td>\n",
       "      <td>0.03</td>\n",
       "    </tr>\n",
       "    <tr>\n",
       "      <th>X360</th>\n",
       "      <td>0.15</td>\n",
       "      <td>0.01</td>\n",
       "      <td>0.24</td>\n",
       "    </tr>\n",
       "    <tr>\n",
       "      <th>PC</th>\n",
       "      <td>0.07</td>\n",
       "      <td>0.00</td>\n",
       "      <td>0.03</td>\n",
       "    </tr>\n",
       "    <tr>\n",
       "      <th>XOne</th>\n",
       "      <td>0.10</td>\n",
       "      <td>0.00</td>\n",
       "      <td>0.16</td>\n",
       "    </tr>\n",
       "  </tbody>\n",
       "</table>\n",
       "</div>"
      ],
      "text/plain": [
       "          eu_sales  jp_sales  na_sales\n",
       "platform                              \n",
       "3DS           0.08      0.46      0.09\n",
       "PS3           0.21      0.18      0.17\n",
       "PSV           0.02      0.11      0.02\n",
       "PS4           0.28      0.08      0.18\n",
       "WiiU          0.05      0.07      0.06\n",
       "PSP           0.00      0.05      0.00\n",
       "DS            0.01      0.02      0.01\n",
       "Wii           0.02      0.02      0.03\n",
       "X360          0.15      0.01      0.24\n",
       "PC            0.07      0.00      0.03\n",
       "XOne          0.10      0.00      0.16"
      ]
     },
     "execution_count": 47,
     "metadata": {},
     "output_type": "execute_result"
    }
   ],
   "source": [
    "games_top_platforms_in_regions.sort_values(by = 'jp_sales', ascending = False)"
   ]
  },
  {
   "cell_type": "markdown",
   "metadata": {},
   "source": [
    "На Японском рынке лидирует платформа 3DS, которая не популярна в Европе и Северной Америке, зато сильно проигрывает платформа X360, которая очень популярна в Европе, и еще более популярна в Северной Америке."
   ]
  },
  {
   "cell_type": "markdown",
   "metadata": {},
   "source": [
    "#### Самые популярные жанры в регионах"
   ]
  },
  {
   "cell_type": "code",
   "execution_count": 48,
   "metadata": {},
   "outputs": [],
   "source": [
    "games_top_genres_in_regions = games.pivot_table(index = 'genre', values = ['na_sales', 'eu_sales', 'jp_sales'], aggfunc = 'sum')"
   ]
  },
  {
   "cell_type": "code",
   "execution_count": 49,
   "metadata": {
    "scrolled": false
   },
   "outputs": [
    {
     "data": {
      "text/html": [
       "<div>\n",
       "<style scoped>\n",
       "    .dataframe tbody tr th:only-of-type {\n",
       "        vertical-align: middle;\n",
       "    }\n",
       "\n",
       "    .dataframe tbody tr th {\n",
       "        vertical-align: top;\n",
       "    }\n",
       "\n",
       "    .dataframe thead th {\n",
       "        text-align: right;\n",
       "    }\n",
       "</style>\n",
       "<table border=\"1\" class=\"dataframe\">\n",
       "  <thead>\n",
       "    <tr style=\"text-align: right;\">\n",
       "      <th></th>\n",
       "      <th>eu_sales</th>\n",
       "      <th>jp_sales</th>\n",
       "      <th>na_sales</th>\n",
       "    </tr>\n",
       "    <tr>\n",
       "      <th>genre</th>\n",
       "      <th></th>\n",
       "      <th></th>\n",
       "      <th></th>\n",
       "    </tr>\n",
       "  </thead>\n",
       "  <tbody>\n",
       "    <tr>\n",
       "      <th>Action</th>\n",
       "      <td>0.31</td>\n",
       "      <td>0.27</td>\n",
       "      <td>0.30</td>\n",
       "    </tr>\n",
       "    <tr>\n",
       "      <th>Shooter</th>\n",
       "      <td>0.22</td>\n",
       "      <td>0.05</td>\n",
       "      <td>0.24</td>\n",
       "    </tr>\n",
       "    <tr>\n",
       "      <th>Sports</th>\n",
       "      <td>0.14</td>\n",
       "      <td>0.04</td>\n",
       "      <td>0.14</td>\n",
       "    </tr>\n",
       "    <tr>\n",
       "      <th>Role-Playing</th>\n",
       "      <td>0.10</td>\n",
       "      <td>0.34</td>\n",
       "      <td>0.11</td>\n",
       "    </tr>\n",
       "    <tr>\n",
       "      <th>Misc</th>\n",
       "      <td>0.05</td>\n",
       "      <td>0.07</td>\n",
       "      <td>0.06</td>\n",
       "    </tr>\n",
       "    <tr>\n",
       "      <th>Racing</th>\n",
       "      <td>0.05</td>\n",
       "      <td>0.01</td>\n",
       "      <td>0.03</td>\n",
       "    </tr>\n",
       "    <tr>\n",
       "      <th>Platform</th>\n",
       "      <td>0.04</td>\n",
       "      <td>0.04</td>\n",
       "      <td>0.04</td>\n",
       "    </tr>\n",
       "    <tr>\n",
       "      <th>Simulation</th>\n",
       "      <td>0.03</td>\n",
       "      <td>0.05</td>\n",
       "      <td>0.01</td>\n",
       "    </tr>\n",
       "    <tr>\n",
       "      <th>Adventure</th>\n",
       "      <td>0.02</td>\n",
       "      <td>0.04</td>\n",
       "      <td>0.02</td>\n",
       "    </tr>\n",
       "    <tr>\n",
       "      <th>Fighting</th>\n",
       "      <td>0.02</td>\n",
       "      <td>0.05</td>\n",
       "      <td>0.03</td>\n",
       "    </tr>\n",
       "    <tr>\n",
       "      <th>Strategy</th>\n",
       "      <td>0.01</td>\n",
       "      <td>0.01</td>\n",
       "      <td>0.01</td>\n",
       "    </tr>\n",
       "    <tr>\n",
       "      <th>Puzzle</th>\n",
       "      <td>0.00</td>\n",
       "      <td>0.01</td>\n",
       "      <td>0.00</td>\n",
       "    </tr>\n",
       "  </tbody>\n",
       "</table>\n",
       "</div>"
      ],
      "text/plain": [
       "              eu_sales  jp_sales  na_sales\n",
       "genre                                     \n",
       "Action            0.31      0.27      0.30\n",
       "Shooter           0.22      0.05      0.24\n",
       "Sports            0.14      0.04      0.14\n",
       "Role-Playing      0.10      0.34      0.11\n",
       "Misc              0.05      0.07      0.06\n",
       "Racing            0.05      0.01      0.03\n",
       "Platform          0.04      0.04      0.04\n",
       "Simulation        0.03      0.05      0.01\n",
       "Adventure         0.02      0.04      0.02\n",
       "Fighting          0.02      0.05      0.03\n",
       "Strategy          0.01      0.01      0.01\n",
       "Puzzle            0.00      0.01      0.00"
      ]
     },
     "execution_count": 49,
     "metadata": {},
     "output_type": "execute_result"
    }
   ],
   "source": [
    "games_top_genres_in_regions['eu_sales'] = games_top_genres_in_regions['eu_sales']/games_top_genres_in_regions['eu_sales'].sum()\n",
    "games_top_genres_in_regions['jp_sales'] = games_top_genres_in_regions['jp_sales']/games_top_genres_in_regions['jp_sales'].sum()\n",
    "games_top_genres_in_regions['na_sales'] = games_top_genres_in_regions['na_sales']/games_top_genres_in_regions['na_sales'].sum()\n",
    "games_top_genres_in_regions = games_top_genres_in_regions.round(2)\n",
    "games_top_genres_in_regions.sort_values(by = 'eu_sales', ascending = False)"
   ]
  },
  {
   "cell_type": "markdown",
   "metadata": {},
   "source": [
    "Предпочтения пользователей в Европе и Америке также похожи - больше всего пользователи любят жанр Action. Остальные жарны занимают примерно одинаковую долю на обоих рынках."
   ]
  },
  {
   "cell_type": "code",
   "execution_count": 50,
   "metadata": {
    "scrolled": false
   },
   "outputs": [
    {
     "data": {
      "text/html": [
       "<div>\n",
       "<style scoped>\n",
       "    .dataframe tbody tr th:only-of-type {\n",
       "        vertical-align: middle;\n",
       "    }\n",
       "\n",
       "    .dataframe tbody tr th {\n",
       "        vertical-align: top;\n",
       "    }\n",
       "\n",
       "    .dataframe thead th {\n",
       "        text-align: right;\n",
       "    }\n",
       "</style>\n",
       "<table border=\"1\" class=\"dataframe\">\n",
       "  <thead>\n",
       "    <tr style=\"text-align: right;\">\n",
       "      <th></th>\n",
       "      <th>eu_sales</th>\n",
       "      <th>jp_sales</th>\n",
       "      <th>na_sales</th>\n",
       "    </tr>\n",
       "    <tr>\n",
       "      <th>genre</th>\n",
       "      <th></th>\n",
       "      <th></th>\n",
       "      <th></th>\n",
       "    </tr>\n",
       "  </thead>\n",
       "  <tbody>\n",
       "    <tr>\n",
       "      <th>Role-Playing</th>\n",
       "      <td>0.10</td>\n",
       "      <td>0.34</td>\n",
       "      <td>0.11</td>\n",
       "    </tr>\n",
       "    <tr>\n",
       "      <th>Action</th>\n",
       "      <td>0.31</td>\n",
       "      <td>0.27</td>\n",
       "      <td>0.30</td>\n",
       "    </tr>\n",
       "    <tr>\n",
       "      <th>Misc</th>\n",
       "      <td>0.05</td>\n",
       "      <td>0.07</td>\n",
       "      <td>0.06</td>\n",
       "    </tr>\n",
       "    <tr>\n",
       "      <th>Fighting</th>\n",
       "      <td>0.02</td>\n",
       "      <td>0.05</td>\n",
       "      <td>0.03</td>\n",
       "    </tr>\n",
       "    <tr>\n",
       "      <th>Shooter</th>\n",
       "      <td>0.22</td>\n",
       "      <td>0.05</td>\n",
       "      <td>0.24</td>\n",
       "    </tr>\n",
       "  </tbody>\n",
       "</table>\n",
       "</div>"
      ],
      "text/plain": [
       "              eu_sales  jp_sales  na_sales\n",
       "genre                                     \n",
       "Role-Playing      0.10      0.34      0.11\n",
       "Action            0.31      0.27      0.30\n",
       "Misc              0.05      0.07      0.06\n",
       "Fighting          0.02      0.05      0.03\n",
       "Shooter           0.22      0.05      0.24"
      ]
     },
     "execution_count": 50,
     "metadata": {},
     "output_type": "execute_result"
    }
   ],
   "source": [
    "games_top_genres_in_regions.sort_values(by = 'jp_sales', ascending = False).head()"
   ]
  },
  {
   "cell_type": "markdown",
   "metadata": {},
   "source": [
    "На Японском рынке самую болшую долю занимают игры в жанре ролевой игры, что совсем не характерно для рынков Европы и Северной Америки, где этот жанр занимает только пятую позицию по популярности. Остальные места распеределены по популярности примерно похожим с остальными рынками образом."
   ]
  },
  {
   "cell_type": "markdown",
   "metadata": {},
   "source": [
    "#### Влияние рейтинга ESRB на продажи в регионах"
   ]
  },
  {
   "cell_type": "code",
   "execution_count": 51,
   "metadata": {
    "scrolled": true
   },
   "outputs": [
    {
     "data": {
      "text/html": [
       "<div>\n",
       "<style scoped>\n",
       "    .dataframe tbody tr th:only-of-type {\n",
       "        vertical-align: middle;\n",
       "    }\n",
       "\n",
       "    .dataframe tbody tr th {\n",
       "        vertical-align: top;\n",
       "    }\n",
       "\n",
       "    .dataframe thead th {\n",
       "        text-align: right;\n",
       "    }\n",
       "</style>\n",
       "<table border=\"1\" class=\"dataframe\">\n",
       "  <thead>\n",
       "    <tr style=\"text-align: right;\">\n",
       "      <th></th>\n",
       "      <th>eu_sales</th>\n",
       "      <th>jp_sales</th>\n",
       "      <th>na_sales</th>\n",
       "    </tr>\n",
       "    <tr>\n",
       "      <th>rating</th>\n",
       "      <th></th>\n",
       "      <th></th>\n",
       "      <th></th>\n",
       "    </tr>\n",
       "  </thead>\n",
       "  <tbody>\n",
       "    <tr>\n",
       "      <th>E</th>\n",
       "      <td>0.222908</td>\n",
       "      <td>0.147108</td>\n",
       "      <td>0.193510</td>\n",
       "    </tr>\n",
       "    <tr>\n",
       "      <th>E10+</th>\n",
       "      <td>0.109196</td>\n",
       "      <td>0.042528</td>\n",
       "      <td>0.128081</td>\n",
       "    </tr>\n",
       "    <tr>\n",
       "      <th>M</th>\n",
       "      <td>0.383004</td>\n",
       "      <td>0.110084</td>\n",
       "      <td>0.391909</td>\n",
       "    </tr>\n",
       "    <tr>\n",
       "      <th>Not determined</th>\n",
       "      <td>0.180448</td>\n",
       "      <td>0.565168</td>\n",
       "      <td>0.174797</td>\n",
       "    </tr>\n",
       "    <tr>\n",
       "      <th>T</th>\n",
       "      <td>0.104443</td>\n",
       "      <td>0.135113</td>\n",
       "      <td>0.111703</td>\n",
       "    </tr>\n",
       "  </tbody>\n",
       "</table>\n",
       "</div>"
      ],
      "text/plain": [
       "                eu_sales  jp_sales  na_sales\n",
       "rating                                      \n",
       "E               0.222908  0.147108  0.193510\n",
       "E10+            0.109196  0.042528  0.128081\n",
       "M               0.383004  0.110084  0.391909\n",
       "Not determined  0.180448  0.565168  0.174797\n",
       "T               0.104443  0.135113  0.111703"
      ]
     },
     "execution_count": 51,
     "metadata": {},
     "output_type": "execute_result"
    }
   ],
   "source": [
    "games_esrb_rating = games.pivot_table(index = 'rating', values = ['na_sales', 'eu_sales', 'jp_sales'], aggfunc = 'sum')\n",
    "games_esrb_rating['na_sales'] = games_esrb_rating['na_sales']/games_esrb_rating['na_sales'].sum()\n",
    "games_esrb_rating['eu_sales'] = games_esrb_rating['eu_sales']/games_esrb_rating['eu_sales'].sum()\n",
    "games_esrb_rating['jp_sales'] = games_esrb_rating['jp_sales']/games_esrb_rating['jp_sales'].sum()\n",
    "games_esrb_rating"
   ]
  },
  {
   "cell_type": "code",
   "execution_count": 52,
   "metadata": {
    "scrolled": false
   },
   "outputs": [
    {
     "data": {
      "text/plain": [
       "array([<AxesSubplot:title={'center':'eu_sales'}, xlabel='rating'>,\n",
       "       <AxesSubplot:title={'center':'jp_sales'}, xlabel='rating'>,\n",
       "       <AxesSubplot:title={'center':'na_sales'}, xlabel='rating'>],\n",
       "      dtype=object)"
      ]
     },
     "execution_count": 52,
     "metadata": {},
     "output_type": "execute_result"
    },
    {
     "data": {
      "image/png": "[encoded data removed]",
      "text/plain": [
       "<Figure size 720x936 with 3 Axes>"
      ]
     },
     "metadata": {},
     "output_type": "display_data"
    }
   ],
   "source": [
    "games_esrb_rating.plot.bar(figsize=(10, 13), subplots=True)"
   ]
  },
  {
   "cell_type": "markdown",
   "metadata": {},
   "source": [
    "Самым заметным различием между рынками является то, что в Японии почти 50% продаж приходятся на игры без рейтинга ESRB. По сравнению с рынками Европы и Северной Америки - это очень много. В Европе и Америке доля продаж игр без рейтинга ESRB составляет всего лишь 17-18%. Вероятно это происходит по причине того, что в Японии имеется местная система оценки игр \"EOCS\", и рейтинги играм присваивает эта организация.\n",
    "\n",
    "Распеределение продаж в зависимости от рейтинга выглядит похожим образом в зависимости от региона. Значимо выделяется только доля продаж игр с рейтингом \"М\" в Японии - в 2 раза меньше, чем в Европе и Северной Америке."
   ]
  },
  {
   "cell_type": "markdown",
   "metadata": {},
   "source": [
    "Вывод: Рынки Америки и Европы похожи друг на друга вне повердения пользователей. Рынок Японии отличается - у японских пользователей первые места в рейтингах занимают популярны другие платформы (3DS), другие жанры (Role playing)\n",
    "Также в Японии гораздо менее популярны игры, оцененные ESRB, как для взрослых, однако гораздо популярнее игры без рейтинга ESRB, вероятно по причине того, что в Японии имеется местная система оценки игр \"EOCS\", и рейтинги играм присваивает эта ориганизация."
   ]
  },
  {
   "cell_type": "markdown",
   "metadata": {},
   "source": [
    "## Проверка гипотез. Статистический анализ данных"
   ]
  },
  {
   "cell_type": "markdown",
   "metadata": {},
   "source": [
    "### Сравнение пользовательских рейтингов платформ Xbox One и PC;"
   ]
  },
  {
   "cell_type": "markdown",
   "metadata": {},
   "source": [
    "Нулевая гипотеза: Средние пользовательские рейтинги платформ Xbox One и PC одинаковые\n",
    "Альтернативная гипотеза: Средние пользовательские рейтинги платформ Xbox One и PC отличаются"
   ]
  },
  {
   "cell_type": "code",
   "execution_count": 53,
   "metadata": {},
   "outputs": [],
   "source": [
    "games_xbox = games[games['platform'] == 'XOne']\n",
    "games_xbox = games_xbox['user_score'].dropna()\n",
    "games_pc = games[games['platform'] == 'PC']\n",
    "games_pc = games_pc['user_score'].dropna()"
   ]
  },
  {
   "cell_type": "code",
   "execution_count": 54,
   "metadata": {
    "scrolled": false
   },
   "outputs": [
    {
     "name": "stderr",
     "output_type": "stream",
     "text": [
      "/Users/demo/PycharmProjects/Statistical project/venv/lib/python3.10/site-packages/seaborn/distributions.py:2619: FutureWarning: `distplot` is a deprecated function and will be removed in a future version. Please adapt your code to use either `displot` (a figure-level function with similar flexibility) or `histplot` (an axes-level function for histograms).\n",
      "  warnings.warn(msg, FutureWarning)\n",
      "/Users/demo/PycharmProjects/Statistical project/venv/lib/python3.10/site-packages/seaborn/distributions.py:2619: FutureWarning: `distplot` is a deprecated function and will be removed in a future version. Please adapt your code to use either `displot` (a figure-level function with similar flexibility) or `histplot` (an axes-level function for histograms).\n",
      "  warnings.warn(msg, FutureWarning)\n"
     ]
    },
    {
     "data": {
      "text/plain": [
       "<AxesSubplot:xlabel='user_score', ylabel='Density'>"
      ]
     },
     "execution_count": 54,
     "metadata": {},
     "output_type": "execute_result"
    },
    {
     "data": {
      "image/png": "[encoded data removed]",
      "text/plain": [
       "<Figure size 1080x576 with 1 Axes>"
      ]
     },
     "metadata": {},
     "output_type": "display_data"
    }
   ],
   "source": [
    "sns.distplot(games_xbox)\n",
    "sns.distplot(games_pc)"
   ]
  },
  {
   "cell_type": "code",
   "execution_count": 55,
   "metadata": {
    "scrolled": true
   },
   "outputs": [
    {
     "name": "stdout",
     "output_type": "stream",
     "text": [
      "p-значение: 0.5970211251516371\n",
      "Не получилось отвергнуть нулевую гипотезу\n"
     ]
    }
   ],
   "source": [
    "alpha = 0.05\n",
    "\n",
    "results = st.ttest_ind(games_xbox, games_pc)\n",
    "\n",
    "print('p-значение:', results.pvalue) \n",
    "\n",
    "if (results.pvalue < alpha):\n",
    "    print(\"Отвергаем нулевую гипотезу\")\n",
    "else:\n",
    "    print(\"Не получилось отвергнуть нулевую гипотезу\")"
   ]
  },
  {
   "cell_type": "markdown",
   "metadata": {},
   "source": [
    "Вывод: статистически значимых различий в пользовательских рейтингах между платформами Xbox One и PC не обнаружено."
   ]
  },
  {
   "cell_type": "markdown",
   "metadata": {},
   "source": [
    "### Сравнение пользовательских рейтингов жанров Action и Sports"
   ]
  },
  {
   "cell_type": "markdown",
   "metadata": {},
   "source": [
    "Нулевая гипотеза: средние пользовательские рейтинги жанров Action (англ. «действие», экшен-игры) и Sports (англ. «спортивные соревнования») одинаковые.\n",
    "Альтернативная гипотеза: средние пользовательские рейтинги жанров Action (англ. «действие», экшен-игры) и Sports (англ. «спортивные соревнования») отличаются."
   ]
  },
  {
   "cell_type": "code",
   "execution_count": 56,
   "metadata": {},
   "outputs": [],
   "source": [
    "games_action = games[games['genre'] == 'Action']\n",
    "games_action = games_action['user_score'].dropna()\n",
    "games_sports = games[games['genre'] == 'Sports']\n",
    "games_sports = games_sports['user_score'].dropna()"
   ]
  },
  {
   "cell_type": "code",
   "execution_count": 57,
   "metadata": {},
   "outputs": [
    {
     "name": "stderr",
     "output_type": "stream",
     "text": [
      "/Users/demo/PycharmProjects/Statistical project/venv/lib/python3.10/site-packages/seaborn/distributions.py:2619: FutureWarning: `distplot` is a deprecated function and will be removed in a future version. Please adapt your code to use either `displot` (a figure-level function with similar flexibility) or `histplot` (an axes-level function for histograms).\n",
      "  warnings.warn(msg, FutureWarning)\n",
      "/Users/demo/PycharmProjects/Statistical project/venv/lib/python3.10/site-packages/seaborn/distributions.py:2619: FutureWarning: `distplot` is a deprecated function and will be removed in a future version. Please adapt your code to use either `displot` (a figure-level function with similar flexibility) or `histplot` (an axes-level function for histograms).\n",
      "  warnings.warn(msg, FutureWarning)\n"
     ]
    },
    {
     "data": {
      "text/plain": [
       "<AxesSubplot:xlabel='user_score', ylabel='Density'>"
      ]
     },
     "execution_count": 57,
     "metadata": {},
     "output_type": "execute_result"
    },
    {
     "data": {
      "image/png": "[encoded data removed]",
      "text/plain": [
       "<Figure size 1080x576 with 1 Axes>"
      ]
     },
     "metadata": {},
     "output_type": "display_data"
    }
   ],
   "source": [
    "sns.distplot(games_action)\n",
    "sns.distplot(games_sports)"
   ]
  },
  {
   "cell_type": "code",
   "execution_count": 58,
   "metadata": {
    "scrolled": true
   },
   "outputs": [
    {
     "name": "stdout",
     "output_type": "stream",
     "text": [
      "p-значение: 2.8733525657180856e-26\n",
      "Отвергаем нулевую гипотезу\n"
     ]
    }
   ],
   "source": [
    "alpha = 0.05\n",
    "\n",
    "results = st.ttest_ind(games_action, games_sports)\n",
    "\n",
    "print('p-значение:', results.pvalue) \n",
    "\n",
    "if (results.pvalue < alpha):\n",
    "    print(\"Отвергаем нулевую гипотезу\")\n",
    "else:\n",
    "    print(\"Не получилось отвергнуть нулевую гипотезу\")"
   ]
  },
  {
   "cell_type": "code",
   "execution_count": 59,
   "metadata": {},
   "outputs": [
    {
     "data": {
      "text/plain": [
       "True"
      ]
     },
     "execution_count": 59,
     "metadata": {},
     "output_type": "execute_result"
    }
   ],
   "source": [
    "games_action.mean() > games_sports.mean()"
   ]
  },
  {
   "cell_type": "code",
   "execution_count": 60,
   "metadata": {
    "scrolled": true
   },
   "outputs": [
    {
     "name": "stderr",
     "output_type": "stream",
     "text": [
      "/Users/demo/PycharmProjects/Statistical project/venv/lib/python3.10/site-packages/seaborn/_decorators.py:36: FutureWarning: Pass the following variable as a keyword arg: x. From version 0.12, the only valid positional argument will be `data`, and passing other arguments without an explicit keyword will result in an error or misinterpretation.\n",
      "  warnings.warn(\n"
     ]
    },
    {
     "data": {
      "text/plain": [
       "<AxesSubplot:xlabel='user_score'>"
      ]
     },
     "execution_count": 60,
     "metadata": {},
     "output_type": "execute_result"
    },
    {
     "data": {
      "image/png": "[encoded data removed]",
      "text/plain": [
       "<Figure size 1080x576 with 1 Axes>"
      ]
     },
     "metadata": {},
     "output_type": "display_data"
    }
   ],
   "source": [
    "sns.boxplot(games_action)"
   ]
  },
  {
   "cell_type": "code",
   "execution_count": 61,
   "metadata": {},
   "outputs": [
    {
     "name": "stderr",
     "output_type": "stream",
     "text": [
      "/Users/demo/PycharmProjects/Statistical project/venv/lib/python3.10/site-packages/seaborn/_decorators.py:36: FutureWarning: Pass the following variable as a keyword arg: x. From version 0.12, the only valid positional argument will be `data`, and passing other arguments without an explicit keyword will result in an error or misinterpretation.\n",
      "  warnings.warn(\n"
     ]
    },
    {
     "data": {
      "text/plain": [
       "<AxesSubplot:xlabel='user_score'>"
      ]
     },
     "execution_count": 61,
     "metadata": {},
     "output_type": "execute_result"
    },
    {
     "data": {
      "image/png": "[encoded data removed]",
      "text/plain": [
       "<Figure size 1080x576 with 1 Axes>"
      ]
     },
     "metadata": {},
     "output_type": "display_data"
    }
   ],
   "source": [
    "sns.boxplot(games_sports)"
   ]
  },
  {
   "cell_type": "markdown",
   "metadata": {},
   "source": [
    "Вывод: статистически значимые различия в пользовательских рейтингах между жанрами \"Action\" и \"Sports\" обнаружены. Среднее значение рейтинга жанра \"Action\" выше."
   ]
  },
  {
   "cell_type": "markdown",
   "metadata": {},
   "source": [
    "## Вывод"
   ]
  },
  {
   "cell_type": "markdown",
   "metadata": {},
   "source": [
    "Можно ожидать появления в 2017 году новой игровой платформы, так как все популярные на данный момент платформы пережили пик своей популярности, и количество игр, выходящих на платформах падает. Из нынешних платформ наиболее перспективны платформы  PS4, XOne и 3DS, так как на них еще выпускается достаточно большое количество игр.\n",
    "\n",
    "На рынке Японии, нужно учитывать местную специфику поведения пользователей - японским пользователям значительно больше нравится жанр \"Role Playing\", чем пользователям из Северной Америки и Европы. Также японские польователи предпочитают платформу 3DS, которая не популярна в Европе и Северной Америке и не так активно покупают игры, оцененные ESRB. Вероятно это происходит по причине того, что в Японии имеется местная система оценки игр \"EOCS\", и рейтинги играм присваивает эта организация - поэтому необходимо иметь базу этих рейтингов, чтобы делать однозначные выводы о поведении японских пользователей в зависимсти от возрастной категории игры.\n",
    "\n",
    "Топ платформы в Японии: 3DS и PS3. Топ жанры: \"Role Playing\", \"Action\"\n",
    "\n",
    "Поведение пользователей из Европы из Северной Америки и Европы похоже:\n",
    "Топ платформы в Европе и Америке: PS4, PS3, X360. Топ жанры: \"Action\", \"Shooter\", Топ рейтинги ESRB: \"M\", \"E\".\n",
    "\n",
    "Рейтинги пользователей и критиков имеют некоторое влияние на доход от игры, но хорошо оцененная игра может продаваться как хорошо, так и плохо. Рейтинг новых игр не должен быть определяющим фактором при составлении прогноза продаж на год.\n"
   ]
  }
 ],
 "metadata": {
  "ExecuteTimeLog": [
   {
    "duration": 1489,
    "start_time": "2021-09-15T18:56:05.893Z"
   },
   {
    "duration": 48,
    "start_time": "2021-09-15T18:56:57.144Z"
   },
   {
    "duration": 72,
    "start_time": "2021-09-15T18:57:12.397Z"
   },
   {
    "duration": 58,
    "start_time": "2021-09-15T18:57:20.256Z"
   },
   {
    "duration": 388,
    "start_time": "2021-09-16T12:00:36.063Z"
   },
   {
    "duration": 1442,
    "start_time": "2021-09-16T12:00:42.579Z"
   },
   {
    "duration": 66,
    "start_time": "2021-09-16T12:00:44.023Z"
   },
   {
    "duration": 10,
    "start_time": "2021-09-16T12:00:44.092Z"
   },
   {
    "duration": 4,
    "start_time": "2021-09-16T12:04:26.735Z"
   },
   {
    "duration": 19,
    "start_time": "2021-09-16T12:04:37.761Z"
   },
   {
    "duration": 13,
    "start_time": "2021-09-16T12:05:35.568Z"
   },
   {
    "duration": 424,
    "start_time": "2021-09-16T12:06:47.846Z"
   },
   {
    "duration": 330,
    "start_time": "2021-09-16T12:06:58.669Z"
   },
   {
    "duration": 329,
    "start_time": "2021-09-16T12:07:13.144Z"
   },
   {
    "duration": 6,
    "start_time": "2021-09-16T12:08:47.893Z"
   },
   {
    "duration": 7,
    "start_time": "2021-09-16T12:08:59.168Z"
   },
   {
    "duration": 7,
    "start_time": "2021-09-16T12:09:48.085Z"
   },
   {
    "duration": 3,
    "start_time": "2021-09-16T12:09:54.965Z"
   },
   {
    "duration": 48,
    "start_time": "2021-09-16T12:09:54.970Z"
   },
   {
    "duration": 9,
    "start_time": "2021-09-16T12:09:55.020Z"
   },
   {
    "duration": 11,
    "start_time": "2021-09-16T12:09:55.031Z"
   },
   {
    "duration": 9,
    "start_time": "2021-09-16T12:09:55.044Z"
   },
   {
    "duration": 14,
    "start_time": "2021-09-16T12:10:07.822Z"
   },
   {
    "duration": 17,
    "start_time": "2021-09-16T12:11:53.457Z"
   },
   {
    "duration": 18,
    "start_time": "2021-09-16T12:12:00.720Z"
   },
   {
    "duration": 285,
    "start_time": "2021-09-16T12:12:07.795Z"
   },
   {
    "duration": 16,
    "start_time": "2021-09-16T12:12:13.860Z"
   },
   {
    "duration": 3,
    "start_time": "2021-09-16T12:12:19.895Z"
   },
   {
    "duration": 52,
    "start_time": "2021-09-16T12:12:19.901Z"
   },
   {
    "duration": 9,
    "start_time": "2021-09-16T12:12:19.955Z"
   },
   {
    "duration": 14,
    "start_time": "2021-09-16T12:12:19.966Z"
   },
   {
    "duration": 26,
    "start_time": "2021-09-16T12:12:19.982Z"
   },
   {
    "duration": 14,
    "start_time": "2021-09-16T12:12:24.491Z"
   },
   {
    "duration": 16,
    "start_time": "2021-09-16T12:12:30.381Z"
   },
   {
    "duration": 319,
    "start_time": "2021-09-16T12:12:48.030Z"
   },
   {
    "duration": 18,
    "start_time": "2021-09-16T12:13:14.924Z"
   },
   {
    "duration": 319,
    "start_time": "2021-09-16T12:14:04.010Z"
   },
   {
    "duration": 17,
    "start_time": "2021-09-16T12:14:27.564Z"
   },
   {
    "duration": 8,
    "start_time": "2021-09-16T12:15:45.567Z"
   },
   {
    "duration": 5,
    "start_time": "2021-09-16T12:15:52.799Z"
   },
   {
    "duration": 6,
    "start_time": "2021-09-16T12:23:19.855Z"
   },
   {
    "duration": 284,
    "start_time": "2021-09-16T12:25:30.333Z"
   },
   {
    "duration": 22,
    "start_time": "2021-09-16T12:25:51.685Z"
   },
   {
    "duration": 9,
    "start_time": "2021-09-16T12:35:53.624Z"
   },
   {
    "duration": 9,
    "start_time": "2021-09-16T12:36:14.358Z"
   },
   {
    "duration": 11,
    "start_time": "2021-09-16T12:36:28.205Z"
   },
   {
    "duration": 13,
    "start_time": "2021-09-16T12:36:44.358Z"
   },
   {
    "duration": 5,
    "start_time": "2021-09-16T12:37:26.583Z"
   },
   {
    "duration": 6,
    "start_time": "2021-09-16T12:37:37.487Z"
   },
   {
    "duration": 768,
    "start_time": "2021-09-16T12:45:49.454Z"
   },
   {
    "duration": 755,
    "start_time": "2021-09-16T12:46:29.112Z"
   },
   {
    "duration": 3,
    "start_time": "2021-09-16T12:46:40.468Z"
   },
   {
    "duration": 6,
    "start_time": "2021-09-16T12:47:00.727Z"
   },
   {
    "duration": 7,
    "start_time": "2021-09-16T12:47:08.044Z"
   },
   {
    "duration": 6,
    "start_time": "2021-09-16T12:47:16.243Z"
   },
   {
    "duration": 4,
    "start_time": "2021-09-16T12:47:55.069Z"
   },
   {
    "duration": 5,
    "start_time": "2021-09-16T12:47:58.430Z"
   },
   {
    "duration": 17,
    "start_time": "2021-09-16T12:48:11.993Z"
   },
   {
    "duration": 7,
    "start_time": "2021-09-16T12:48:12.739Z"
   },
   {
    "duration": 6,
    "start_time": "2021-09-16T12:48:19.353Z"
   },
   {
    "duration": 15,
    "start_time": "2021-09-16T12:48:30.415Z"
   },
   {
    "duration": 17,
    "start_time": "2021-09-16T12:49:02.565Z"
   },
   {
    "duration": 20,
    "start_time": "2021-09-16T12:50:05.668Z"
   },
   {
    "duration": 121,
    "start_time": "2021-09-16T12:50:20.676Z"
   },
   {
    "duration": 19,
    "start_time": "2021-09-16T12:50:26.887Z"
   },
   {
    "duration": 20,
    "start_time": "2021-09-16T12:51:16.347Z"
   },
   {
    "duration": 15,
    "start_time": "2021-09-16T12:51:54.160Z"
   },
   {
    "duration": 20,
    "start_time": "2021-09-16T12:52:06.077Z"
   },
   {
    "duration": 4,
    "start_time": "2021-09-16T12:52:47.537Z"
   },
   {
    "duration": 53,
    "start_time": "2021-09-16T12:52:47.544Z"
   },
   {
    "duration": 10,
    "start_time": "2021-09-16T12:52:47.600Z"
   },
   {
    "duration": 21,
    "start_time": "2021-09-16T12:52:47.611Z"
   },
   {
    "duration": 13,
    "start_time": "2021-09-16T12:52:47.633Z"
   },
   {
    "duration": 20,
    "start_time": "2021-09-16T12:52:47.648Z"
   },
   {
    "duration": 19,
    "start_time": "2021-09-16T12:52:47.669Z"
   },
   {
    "duration": 35,
    "start_time": "2021-09-16T12:52:47.690Z"
   },
   {
    "duration": 2144,
    "start_time": "2021-09-16T12:53:12.025Z"
   },
   {
    "duration": 7,
    "start_time": "2021-09-16T12:54:02.940Z"
   },
   {
    "duration": 9,
    "start_time": "2021-09-16T12:55:03.918Z"
   },
   {
    "duration": 5,
    "start_time": "2021-09-16T12:55:18.200Z"
   },
   {
    "duration": 10,
    "start_time": "2021-09-16T12:55:23.319Z"
   },
   {
    "duration": 15,
    "start_time": "2021-09-16T12:55:27.220Z"
   },
   {
    "duration": 18,
    "start_time": "2021-09-16T12:56:22.819Z"
   },
   {
    "duration": 2066,
    "start_time": "2021-09-16T12:56:57.775Z"
   },
   {
    "duration": 16,
    "start_time": "2021-09-16T12:57:19.748Z"
   },
   {
    "duration": 16,
    "start_time": "2021-09-16T12:58:48.572Z"
   },
   {
    "duration": 7,
    "start_time": "2021-09-16T12:59:05.369Z"
   },
   {
    "duration": 12,
    "start_time": "2021-09-16T12:59:10.108Z"
   },
   {
    "duration": 6,
    "start_time": "2021-09-16T12:59:35.911Z"
   },
   {
    "duration": 95,
    "start_time": "2021-09-16T13:00:04.082Z"
   },
   {
    "duration": 104,
    "start_time": "2021-09-16T13:00:19.454Z"
   },
   {
    "duration": 146,
    "start_time": "2021-09-16T13:00:30.583Z"
   },
   {
    "duration": 3,
    "start_time": "2021-09-16T13:00:41.861Z"
   },
   {
    "duration": 50,
    "start_time": "2021-09-16T13:00:41.866Z"
   },
   {
    "duration": 10,
    "start_time": "2021-09-16T13:00:41.918Z"
   },
   {
    "duration": 16,
    "start_time": "2021-09-16T13:00:41.930Z"
   },
   {
    "duration": 11,
    "start_time": "2021-09-16T13:00:41.948Z"
   },
   {
    "duration": 5,
    "start_time": "2021-09-16T13:00:41.961Z"
   },
   {
    "duration": 14,
    "start_time": "2021-09-16T13:00:41.968Z"
   },
   {
    "duration": 19,
    "start_time": "2021-09-16T13:00:41.984Z"
   },
   {
    "duration": 14,
    "start_time": "2021-09-16T13:00:42.006Z"
   },
   {
    "duration": 117,
    "start_time": "2021-09-16T13:00:42.022Z"
   },
   {
    "duration": 29,
    "start_time": "2021-09-16T13:01:13.849Z"
   },
   {
    "duration": 7,
    "start_time": "2021-09-16T13:01:22.918Z"
   },
   {
    "duration": 21,
    "start_time": "2021-09-16T13:02:19.087Z"
   },
   {
    "duration": 3,
    "start_time": "2021-09-16T13:03:49.708Z"
   },
   {
    "duration": 59,
    "start_time": "2021-09-16T13:03:49.713Z"
   },
   {
    "duration": 11,
    "start_time": "2021-09-16T13:03:49.774Z"
   },
   {
    "duration": 24,
    "start_time": "2021-09-16T13:03:49.787Z"
   },
   {
    "duration": 18,
    "start_time": "2021-09-16T13:03:49.813Z"
   },
   {
    "duration": 20,
    "start_time": "2021-09-16T13:03:49.833Z"
   },
   {
    "duration": 28,
    "start_time": "2021-09-16T13:03:49.854Z"
   },
   {
    "duration": 26,
    "start_time": "2021-09-16T13:03:49.885Z"
   },
   {
    "duration": 23,
    "start_time": "2021-09-16T13:03:49.913Z"
   },
   {
    "duration": 20,
    "start_time": "2021-09-16T13:03:49.938Z"
   },
   {
    "duration": 282,
    "start_time": "2021-09-16T13:07:37.235Z"
   },
   {
    "duration": 288,
    "start_time": "2021-09-16T13:07:49.569Z"
   },
   {
    "duration": 360,
    "start_time": "2021-09-16T13:09:37.277Z"
   },
   {
    "duration": 353,
    "start_time": "2021-09-16T13:10:29.798Z"
   },
   {
    "duration": 21,
    "start_time": "2021-09-16T13:10:47.417Z"
   },
   {
    "duration": 287,
    "start_time": "2021-09-16T13:11:05.795Z"
   },
   {
    "duration": 96,
    "start_time": "2021-09-16T13:12:03.795Z"
   },
   {
    "duration": 300,
    "start_time": "2021-09-16T13:12:10.441Z"
   },
   {
    "duration": 315,
    "start_time": "2021-09-16T13:12:30.282Z"
   },
   {
    "duration": 6,
    "start_time": "2021-09-16T13:14:35.273Z"
   },
   {
    "duration": 5,
    "start_time": "2021-09-16T13:42:07.403Z"
   },
   {
    "duration": 22,
    "start_time": "2021-09-16T13:42:15.570Z"
   },
   {
    "duration": 7,
    "start_time": "2021-09-16T13:43:15.221Z"
   },
   {
    "duration": 18,
    "start_time": "2021-09-16T13:43:50.289Z"
   },
   {
    "duration": 451,
    "start_time": "2021-09-16T13:47:48.598Z"
   },
   {
    "duration": 8,
    "start_time": "2021-09-16T13:47:56.400Z"
   },
   {
    "duration": 24,
    "start_time": "2021-09-16T13:48:05.691Z"
   },
   {
    "duration": 2293,
    "start_time": "2021-09-16T13:48:31.729Z"
   },
   {
    "duration": 5898,
    "start_time": "2021-09-16T13:48:42.227Z"
   },
   {
    "duration": 5851,
    "start_time": "2021-09-16T13:48:58.381Z"
   },
   {
    "duration": 6253,
    "start_time": "2021-09-16T13:49:40.692Z"
   },
   {
    "duration": 5699,
    "start_time": "2021-09-16T13:50:07.134Z"
   },
   {
    "duration": 19,
    "start_time": "2021-09-16T13:50:19.565Z"
   },
   {
    "duration": 8,
    "start_time": "2021-09-16T13:51:55.497Z"
   },
   {
    "duration": 2735,
    "start_time": "2021-09-16T13:52:01.914Z"
   },
   {
    "duration": 4207,
    "start_time": "2021-09-16T13:52:17.851Z"
   },
   {
    "duration": 2095,
    "start_time": "2021-09-16T13:53:14.490Z"
   },
   {
    "duration": 64,
    "start_time": "2021-09-16T13:53:20.672Z"
   },
   {
    "duration": 91,
    "start_time": "2021-09-16T13:53:33.673Z"
   },
   {
    "duration": 120,
    "start_time": "2021-09-16T13:59:54.994Z"
   },
   {
    "duration": 101,
    "start_time": "2021-09-16T14:00:01.526Z"
   },
   {
    "duration": 65,
    "start_time": "2021-09-16T14:00:10.565Z"
   },
   {
    "duration": 66,
    "start_time": "2021-09-16T14:00:14.062Z"
   },
   {
    "duration": 2,
    "start_time": "2021-09-16T14:00:21.684Z"
   },
   {
    "duration": 99,
    "start_time": "2021-09-16T14:00:32.014Z"
   },
   {
    "duration": 4,
    "start_time": "2021-09-16T14:01:24.185Z"
   },
   {
    "duration": 52,
    "start_time": "2021-09-16T14:01:24.191Z"
   },
   {
    "duration": 9,
    "start_time": "2021-09-16T14:01:24.245Z"
   },
   {
    "duration": 14,
    "start_time": "2021-09-16T14:01:24.256Z"
   },
   {
    "duration": 10,
    "start_time": "2021-09-16T14:01:24.271Z"
   },
   {
    "duration": 5,
    "start_time": "2021-09-16T14:01:24.283Z"
   },
   {
    "duration": 11,
    "start_time": "2021-09-16T14:01:24.290Z"
   },
   {
    "duration": 14,
    "start_time": "2021-09-16T14:01:24.303Z"
   },
   {
    "duration": 44,
    "start_time": "2021-09-16T14:01:24.318Z"
   },
   {
    "duration": 8,
    "start_time": "2021-09-16T14:01:24.365Z"
   },
   {
    "duration": 186,
    "start_time": "2021-09-16T14:01:24.375Z"
   },
   {
    "duration": 563,
    "start_time": "2021-09-16T14:01:43.050Z"
   },
   {
    "duration": 91,
    "start_time": "2021-09-16T14:02:35.728Z"
   },
   {
    "duration": 5710,
    "start_time": "2021-09-16T14:02:43.547Z"
   },
   {
    "duration": 3,
    "start_time": "2021-09-16T14:06:17.180Z"
   },
   {
    "duration": 4,
    "start_time": "2021-09-16T14:06:21.835Z"
   },
   {
    "duration": 120,
    "start_time": "2021-09-16T14:06:29.123Z"
   },
   {
    "duration": 101,
    "start_time": "2021-09-16T14:06:57.907Z"
   },
   {
    "duration": 109,
    "start_time": "2021-09-16T14:08:00.410Z"
   },
   {
    "duration": 98,
    "start_time": "2021-09-16T14:08:33.960Z"
   },
   {
    "duration": 5,
    "start_time": "2021-09-16T14:08:38.838Z"
   },
   {
    "duration": 3,
    "start_time": "2021-09-16T14:08:47.825Z"
   },
   {
    "duration": 7,
    "start_time": "2021-09-16T14:09:41.183Z"
   },
   {
    "duration": 7,
    "start_time": "2021-09-16T14:10:12.025Z"
   },
   {
    "duration": 331,
    "start_time": "2021-09-16T14:10:50.179Z"
   },
   {
    "duration": 3,
    "start_time": "2021-09-16T14:11:00.064Z"
   },
   {
    "duration": 4,
    "start_time": "2021-09-16T14:14:14.190Z"
   },
   {
    "duration": 364,
    "start_time": "2021-09-16T14:18:02.389Z"
   },
   {
    "duration": 61,
    "start_time": "2021-09-16T14:18:23.983Z"
   },
   {
    "duration": 87,
    "start_time": "2021-09-16T14:18:31.811Z"
   },
   {
    "duration": 1305,
    "start_time": "2021-09-16T14:18:52.039Z"
   },
   {
    "duration": 60,
    "start_time": "2021-09-16T14:19:07.818Z"
   },
   {
    "duration": 85,
    "start_time": "2021-09-16T14:19:20.309Z"
   },
   {
    "duration": 7270,
    "start_time": "2021-09-16T14:19:27.390Z"
   },
   {
    "duration": 2944,
    "start_time": "2021-09-16T14:21:44.006Z"
   },
   {
    "duration": 143,
    "start_time": "2021-09-16T14:22:15.023Z"
   },
   {
    "duration": 1307,
    "start_time": "2021-09-16T14:22:34.807Z"
   },
   {
    "duration": 2126,
    "start_time": "2021-09-16T14:23:38.272Z"
   },
   {
    "duration": 2259,
    "start_time": "2021-09-16T14:25:12.021Z"
   },
   {
    "duration": 56,
    "start_time": "2021-09-16T14:25:25.279Z"
   },
   {
    "duration": 66,
    "start_time": "2021-09-16T14:25:41.704Z"
   },
   {
    "duration": 137,
    "start_time": "2021-09-16T14:26:17.032Z"
   },
   {
    "duration": 70,
    "start_time": "2021-09-16T14:27:32.303Z"
   },
   {
    "duration": 69,
    "start_time": "2021-09-16T14:27:47.089Z"
   },
   {
    "duration": 93,
    "start_time": "2021-09-16T14:28:06.261Z"
   },
   {
    "duration": 380,
    "start_time": "2021-09-16T14:28:53.814Z"
   },
   {
    "duration": 360,
    "start_time": "2021-09-16T14:29:26.473Z"
   },
   {
    "duration": 526,
    "start_time": "2021-09-16T14:30:30.230Z"
   },
   {
    "duration": 358,
    "start_time": "2021-09-16T14:30:46.262Z"
   },
   {
    "duration": 576,
    "start_time": "2021-09-16T14:33:46.864Z"
   },
   {
    "duration": 122,
    "start_time": "2021-09-16T14:34:10.827Z"
   },
   {
    "duration": 396,
    "start_time": "2021-09-16T14:37:00.421Z"
   },
   {
    "duration": 438,
    "start_time": "2021-09-16T14:37:08.683Z"
   },
   {
    "duration": 372,
    "start_time": "2021-09-16T14:37:20.955Z"
   },
   {
    "duration": 125,
    "start_time": "2021-09-16T14:38:43.122Z"
   },
   {
    "duration": 360,
    "start_time": "2021-09-16T14:39:55.622Z"
   },
   {
    "duration": 26,
    "start_time": "2021-09-16T14:41:35.208Z"
   },
   {
    "duration": 22,
    "start_time": "2021-09-16T14:41:56.376Z"
   },
   {
    "duration": 41,
    "start_time": "2021-09-16T14:42:02.887Z"
   },
   {
    "duration": 24,
    "start_time": "2021-09-16T14:42:18.656Z"
   },
   {
    "duration": 318,
    "start_time": "2021-09-16T14:42:55.212Z"
   },
   {
    "duration": 520,
    "start_time": "2021-09-16T14:43:02.206Z"
   },
   {
    "duration": 1155,
    "start_time": "2021-09-16T14:43:18.343Z"
   },
   {
    "duration": 26,
    "start_time": "2021-09-16T14:43:29.425Z"
   },
   {
    "duration": 371,
    "start_time": "2021-09-16T18:52:53.748Z"
   },
   {
    "duration": 1831,
    "start_time": "2021-09-16T18:52:59.831Z"
   },
   {
    "duration": 74,
    "start_time": "2021-09-16T18:53:01.665Z"
   },
   {
    "duration": 26,
    "start_time": "2021-09-16T18:53:01.743Z"
   },
   {
    "duration": 25,
    "start_time": "2021-09-16T18:53:01.773Z"
   },
   {
    "duration": 26,
    "start_time": "2021-09-16T18:53:01.801Z"
   },
   {
    "duration": 37,
    "start_time": "2021-09-16T18:53:01.830Z"
   },
   {
    "duration": 30,
    "start_time": "2021-09-16T18:53:01.869Z"
   },
   {
    "duration": 64,
    "start_time": "2021-09-16T18:53:01.903Z"
   },
   {
    "duration": 37,
    "start_time": "2021-09-16T18:53:01.969Z"
   },
   {
    "duration": 27,
    "start_time": "2021-09-16T18:53:02.008Z"
   },
   {
    "duration": 507,
    "start_time": "2021-09-16T18:53:02.038Z"
   },
   {
    "duration": 66,
    "start_time": "2021-09-16T18:53:47.609Z"
   },
   {
    "duration": 41,
    "start_time": "2021-09-16T18:54:35.251Z"
   },
   {
    "duration": 40,
    "start_time": "2021-09-16T18:54:40.218Z"
   },
   {
    "duration": 40,
    "start_time": "2021-09-16T18:54:43.753Z"
   },
   {
    "duration": 3,
    "start_time": "2021-09-16T18:54:50.703Z"
   },
   {
    "duration": 40,
    "start_time": "2021-09-16T18:54:57.856Z"
   },
   {
    "duration": 6,
    "start_time": "2021-09-16T18:54:58.329Z"
   },
   {
    "duration": 38,
    "start_time": "2021-09-16T18:55:11.010Z"
   },
   {
    "duration": 9,
    "start_time": "2021-09-16T18:55:11.051Z"
   },
   {
    "duration": 43,
    "start_time": "2021-09-16T18:55:32.311Z"
   },
   {
    "duration": 6,
    "start_time": "2021-09-16T18:55:33.088Z"
   },
   {
    "duration": 165,
    "start_time": "2021-09-16T18:56:15.304Z"
   },
   {
    "duration": 41,
    "start_time": "2021-09-16T18:56:19.368Z"
   },
   {
    "duration": 5,
    "start_time": "2021-09-16T18:56:20.336Z"
   },
   {
    "duration": 41,
    "start_time": "2021-09-16T18:56:28.066Z"
   },
   {
    "duration": 5,
    "start_time": "2021-09-16T18:56:28.810Z"
   },
   {
    "duration": 41,
    "start_time": "2021-09-16T18:57:50.560Z"
   },
   {
    "duration": 5,
    "start_time": "2021-09-16T18:57:51.435Z"
   },
   {
    "duration": 40,
    "start_time": "2021-09-16T18:58:31.588Z"
   },
   {
    "duration": 6,
    "start_time": "2021-09-16T18:58:32.299Z"
   },
   {
    "duration": 48,
    "start_time": "2021-09-16T18:58:54.359Z"
   },
   {
    "duration": 47,
    "start_time": "2021-09-16T18:59:37.497Z"
   },
   {
    "duration": 73,
    "start_time": "2021-09-16T19:00:02.291Z"
   },
   {
    "duration": 9,
    "start_time": "2021-09-16T19:00:06.974Z"
   },
   {
    "duration": 49,
    "start_time": "2021-09-16T19:00:19.847Z"
   },
   {
    "duration": 335,
    "start_time": "2021-09-16T19:01:31.857Z"
   },
   {
    "duration": 349,
    "start_time": "2021-09-16T19:01:45.498Z"
   },
   {
    "duration": 1252,
    "start_time": "2021-09-16T19:02:16.379Z"
   },
   {
    "duration": 6,
    "start_time": "2021-09-16T19:02:59.066Z"
   },
   {
    "duration": 5,
    "start_time": "2021-09-16T19:03:07.821Z"
   },
   {
    "duration": 326,
    "start_time": "2021-09-16T19:03:10.939Z"
   },
   {
    "duration": 8,
    "start_time": "2021-09-16T19:03:47.850Z"
   },
   {
    "duration": 579,
    "start_time": "2021-09-16T19:03:50.725Z"
   },
   {
    "duration": 623,
    "start_time": "2021-09-16T19:04:48.927Z"
   },
   {
    "duration": 44,
    "start_time": "2021-09-16T19:06:04.155Z"
   },
   {
    "duration": 9,
    "start_time": "2021-09-16T19:06:08.402Z"
   },
   {
    "duration": 354,
    "start_time": "2021-09-16T19:06:10.939Z"
   },
   {
    "duration": 364,
    "start_time": "2021-09-16T19:06:19.329Z"
   },
   {
    "duration": 4,
    "start_time": "2021-09-16T19:06:36.640Z"
   },
   {
    "duration": 15,
    "start_time": "2021-09-16T19:06:37.655Z"
   },
   {
    "duration": 10,
    "start_time": "2021-09-16T19:07:15.666Z"
   },
   {
    "duration": 421,
    "start_time": "2021-09-16T19:07:20.204Z"
   },
   {
    "duration": 5,
    "start_time": "2021-09-16T19:07:27.939Z"
   },
   {
    "duration": 80,
    "start_time": "2021-09-16T19:07:27.947Z"
   },
   {
    "duration": 13,
    "start_time": "2021-09-16T19:07:28.031Z"
   },
   {
    "duration": 30,
    "start_time": "2021-09-16T19:07:28.047Z"
   },
   {
    "duration": 26,
    "start_time": "2021-09-16T19:07:28.079Z"
   },
   {
    "duration": 29,
    "start_time": "2021-09-16T19:07:28.108Z"
   },
   {
    "duration": 28,
    "start_time": "2021-09-16T19:07:28.140Z"
   },
   {
    "duration": 42,
    "start_time": "2021-09-16T19:07:28.171Z"
   },
   {
    "duration": 46,
    "start_time": "2021-09-16T19:07:28.218Z"
   },
   {
    "duration": 25,
    "start_time": "2021-09-16T19:07:28.268Z"
   },
   {
    "duration": 79,
    "start_time": "2021-09-16T19:07:28.296Z"
   },
   {
    "duration": 6,
    "start_time": "2021-09-16T19:07:28.379Z"
   },
   {
    "duration": 76,
    "start_time": "2021-09-16T19:07:28.389Z"
   },
   {
    "duration": 338,
    "start_time": "2021-09-16T19:07:48.170Z"
   },
   {
    "duration": 4,
    "start_time": "2021-09-16T19:07:51.598Z"
   },
   {
    "duration": 65,
    "start_time": "2021-09-16T19:07:51.604Z"
   },
   {
    "duration": 14,
    "start_time": "2021-09-16T19:07:51.672Z"
   },
   {
    "duration": 23,
    "start_time": "2021-09-16T19:07:51.689Z"
   },
   {
    "duration": 20,
    "start_time": "2021-09-16T19:07:51.714Z"
   },
   {
    "duration": 26,
    "start_time": "2021-09-16T19:07:51.737Z"
   },
   {
    "duration": 17,
    "start_time": "2021-09-16T19:07:51.767Z"
   },
   {
    "duration": 35,
    "start_time": "2021-09-16T19:07:51.787Z"
   },
   {
    "duration": 46,
    "start_time": "2021-09-16T19:07:51.824Z"
   },
   {
    "duration": 25,
    "start_time": "2021-09-16T19:07:51.872Z"
   },
   {
    "duration": 52,
    "start_time": "2021-09-16T19:07:51.900Z"
   },
   {
    "duration": 5,
    "start_time": "2021-09-16T19:07:51.962Z"
   },
   {
    "duration": 56,
    "start_time": "2021-09-16T19:07:51.969Z"
   },
   {
    "duration": 5,
    "start_time": "2021-09-16T19:09:07.303Z"
   },
   {
    "duration": 48,
    "start_time": "2021-09-16T19:09:08.453Z"
   },
   {
    "duration": 4,
    "start_time": "2021-09-16T19:09:19.268Z"
   },
   {
    "duration": 70,
    "start_time": "2021-09-16T19:09:19.275Z"
   },
   {
    "duration": 19,
    "start_time": "2021-09-16T19:09:19.347Z"
   },
   {
    "duration": 19,
    "start_time": "2021-09-16T19:09:19.369Z"
   },
   {
    "duration": 17,
    "start_time": "2021-09-16T19:09:19.391Z"
   },
   {
    "duration": 9,
    "start_time": "2021-09-16T19:09:19.410Z"
   },
   {
    "duration": 44,
    "start_time": "2021-09-16T19:09:19.422Z"
   },
   {
    "duration": 29,
    "start_time": "2021-09-16T19:09:19.469Z"
   },
   {
    "duration": 22,
    "start_time": "2021-09-16T19:09:19.500Z"
   },
   {
    "duration": 21,
    "start_time": "2021-09-16T19:09:19.524Z"
   },
   {
    "duration": 67,
    "start_time": "2021-09-16T19:09:19.547Z"
   },
   {
    "duration": 4,
    "start_time": "2021-09-16T19:09:19.616Z"
   },
   {
    "duration": 52,
    "start_time": "2021-09-16T19:09:19.623Z"
   },
   {
    "duration": 354,
    "start_time": "2021-09-16T19:10:09.487Z"
   },
   {
    "duration": 44,
    "start_time": "2021-09-16T19:10:18.595Z"
   },
   {
    "duration": 8,
    "start_time": "2021-09-16T19:10:52.755Z"
   },
   {
    "duration": 8,
    "start_time": "2021-09-16T19:12:52.197Z"
   },
   {
    "duration": 9,
    "start_time": "2021-09-16T19:13:09.284Z"
   },
   {
    "duration": 45,
    "start_time": "2021-09-16T19:13:11.408Z"
   },
   {
    "duration": 5,
    "start_time": "2021-09-16T19:13:25.996Z"
   },
   {
    "duration": 67,
    "start_time": "2021-09-16T19:13:26.005Z"
   },
   {
    "duration": 16,
    "start_time": "2021-09-16T19:13:26.076Z"
   },
   {
    "duration": 19,
    "start_time": "2021-09-16T19:13:26.096Z"
   },
   {
    "duration": 44,
    "start_time": "2021-09-16T19:13:26.118Z"
   },
   {
    "duration": 8,
    "start_time": "2021-09-16T19:13:26.164Z"
   },
   {
    "duration": 15,
    "start_time": "2021-09-16T19:13:26.174Z"
   },
   {
    "duration": 22,
    "start_time": "2021-09-16T19:13:26.193Z"
   },
   {
    "duration": 66,
    "start_time": "2021-09-16T19:13:26.218Z"
   },
   {
    "duration": 26,
    "start_time": "2021-09-16T19:13:26.286Z"
   },
   {
    "duration": 106,
    "start_time": "2021-09-16T19:13:26.315Z"
   },
   {
    "duration": 8,
    "start_time": "2021-09-16T19:13:26.424Z"
   },
   {
    "duration": 67,
    "start_time": "2021-09-16T19:13:26.434Z"
   },
   {
    "duration": 40,
    "start_time": "2021-09-16T19:14:43.603Z"
   },
   {
    "duration": 8,
    "start_time": "2021-09-16T19:14:46.305Z"
   },
   {
    "duration": 43,
    "start_time": "2021-09-16T19:14:47.825Z"
   },
   {
    "duration": 23,
    "start_time": "2021-09-16T19:15:18.311Z"
   },
   {
    "duration": 24,
    "start_time": "2021-09-16T19:15:28.669Z"
   },
   {
    "duration": 40,
    "start_time": "2021-09-16T19:15:32.895Z"
   },
   {
    "duration": 42,
    "start_time": "2021-09-16T19:19:36.195Z"
   },
   {
    "duration": 4,
    "start_time": "2021-09-16T19:19:56.198Z"
   },
   {
    "duration": 73,
    "start_time": "2021-09-16T19:19:56.205Z"
   },
   {
    "duration": 15,
    "start_time": "2021-09-16T19:19:56.281Z"
   },
   {
    "duration": 32,
    "start_time": "2021-09-16T19:19:56.299Z"
   },
   {
    "duration": 36,
    "start_time": "2021-09-16T19:19:56.333Z"
   },
   {
    "duration": 33,
    "start_time": "2021-09-16T19:19:56.373Z"
   },
   {
    "duration": 22,
    "start_time": "2021-09-16T19:19:56.409Z"
   },
   {
    "duration": 23,
    "start_time": "2021-09-16T19:19:56.434Z"
   },
   {
    "duration": 24,
    "start_time": "2021-09-16T19:19:56.463Z"
   },
   {
    "duration": 14,
    "start_time": "2021-09-16T19:19:56.489Z"
   },
   {
    "duration": 81,
    "start_time": "2021-09-16T19:19:56.506Z"
   },
   {
    "duration": 52,
    "start_time": "2021-09-16T19:19:56.590Z"
   },
   {
    "duration": 21,
    "start_time": "2021-09-16T19:20:49.850Z"
   },
   {
    "duration": 43,
    "start_time": "2021-09-16T19:22:50.096Z"
   },
   {
    "duration": 32,
    "start_time": "2021-09-16T19:23:27.579Z"
   },
   {
    "duration": 33,
    "start_time": "2021-09-16T19:23:41.915Z"
   },
   {
    "duration": 5,
    "start_time": "2021-09-16T19:23:45.935Z"
   },
   {
    "duration": 70,
    "start_time": "2021-09-16T19:23:45.943Z"
   },
   {
    "duration": 15,
    "start_time": "2021-09-16T19:23:46.017Z"
   },
   {
    "duration": 38,
    "start_time": "2021-09-16T19:23:46.036Z"
   },
   {
    "duration": 19,
    "start_time": "2021-09-16T19:23:46.077Z"
   },
   {
    "duration": 8,
    "start_time": "2021-09-16T19:23:46.099Z"
   },
   {
    "duration": 20,
    "start_time": "2021-09-16T19:23:46.110Z"
   },
   {
    "duration": 46,
    "start_time": "2021-09-16T19:23:46.132Z"
   },
   {
    "duration": 32,
    "start_time": "2021-09-16T19:23:46.182Z"
   },
   {
    "duration": 11,
    "start_time": "2021-09-16T19:23:46.217Z"
   },
   {
    "duration": 69,
    "start_time": "2021-09-16T19:23:46.231Z"
   },
   {
    "duration": 8926,
    "start_time": "2021-09-16T19:23:46.302Z"
   },
   {
    "duration": 40,
    "start_time": "2021-09-16T19:24:04.492Z"
   },
   {
    "duration": 40,
    "start_time": "2021-09-16T19:26:55.973Z"
   },
   {
    "duration": 42,
    "start_time": "2021-09-16T19:27:00.859Z"
   },
   {
    "duration": 45,
    "start_time": "2021-09-16T19:27:25.069Z"
   },
   {
    "duration": 41,
    "start_time": "2021-09-16T19:27:32.564Z"
   },
   {
    "duration": 39,
    "start_time": "2021-09-16T19:27:41.207Z"
   },
   {
    "duration": 42,
    "start_time": "2021-09-16T19:27:45.338Z"
   },
   {
    "duration": 335,
    "start_time": "2021-09-16T19:29:23.580Z"
   },
   {
    "duration": 49,
    "start_time": "2021-09-16T19:29:32.755Z"
   },
   {
    "duration": 310,
    "start_time": "2021-09-16T19:29:34.031Z"
   },
   {
    "duration": 327,
    "start_time": "2021-09-16T19:29:43.656Z"
   },
   {
    "duration": 362,
    "start_time": "2021-09-16T19:30:04.530Z"
   },
   {
    "duration": 369,
    "start_time": "2021-09-16T19:30:10.785Z"
   },
   {
    "duration": 3,
    "start_time": "2021-09-16T19:31:16.792Z"
   },
   {
    "duration": 327,
    "start_time": "2021-09-16T19:31:20.441Z"
   },
   {
    "duration": 4,
    "start_time": "2021-09-16T19:31:27.671Z"
   },
   {
    "duration": 76,
    "start_time": "2021-09-16T19:31:27.678Z"
   },
   {
    "duration": 13,
    "start_time": "2021-09-16T19:31:27.757Z"
   },
   {
    "duration": 27,
    "start_time": "2021-09-16T19:31:27.773Z"
   },
   {
    "duration": 29,
    "start_time": "2021-09-16T19:31:27.803Z"
   },
   {
    "duration": 9,
    "start_time": "2021-09-16T19:31:27.834Z"
   },
   {
    "duration": 25,
    "start_time": "2021-09-16T19:31:27.845Z"
   },
   {
    "duration": 29,
    "start_time": "2021-09-16T19:31:27.874Z"
   },
   {
    "duration": 56,
    "start_time": "2021-09-16T19:31:27.906Z"
   },
   {
    "duration": 33,
    "start_time": "2021-09-16T19:31:27.965Z"
   },
   {
    "duration": 58,
    "start_time": "2021-09-16T19:31:28.000Z"
   },
   {
    "duration": 5,
    "start_time": "2021-09-16T19:31:28.060Z"
   },
   {
    "duration": 44,
    "start_time": "2021-09-16T19:32:03.513Z"
   },
   {
    "duration": 4,
    "start_time": "2021-09-16T19:32:10.668Z"
   },
   {
    "duration": 76,
    "start_time": "2021-09-16T19:32:10.675Z"
   },
   {
    "duration": 14,
    "start_time": "2021-09-16T19:32:10.754Z"
   },
   {
    "duration": 31,
    "start_time": "2021-09-16T19:32:10.770Z"
   },
   {
    "duration": 21,
    "start_time": "2021-09-16T19:32:10.804Z"
   },
   {
    "duration": 14,
    "start_time": "2021-09-16T19:32:10.828Z"
   },
   {
    "duration": 28,
    "start_time": "2021-09-16T19:32:10.844Z"
   },
   {
    "duration": 21,
    "start_time": "2021-09-16T19:32:10.875Z"
   },
   {
    "duration": 24,
    "start_time": "2021-09-16T19:32:10.898Z"
   },
   {
    "duration": 38,
    "start_time": "2021-09-16T19:32:10.925Z"
   },
   {
    "duration": 45,
    "start_time": "2021-09-16T19:32:10.966Z"
   },
   {
    "duration": 347,
    "start_time": "2021-09-16T19:32:11.013Z"
   },
   {
    "duration": 372,
    "start_time": "2021-09-16T19:32:17.121Z"
   },
   {
    "duration": 345,
    "start_time": "2021-09-16T19:32:24.821Z"
   },
   {
    "duration": 393,
    "start_time": "2021-09-16T19:32:41.219Z"
   },
   {
    "duration": 7,
    "start_time": "2021-09-16T19:34:01.600Z"
   },
   {
    "duration": 627,
    "start_time": "2021-09-16T19:35:32.595Z"
   },
   {
    "duration": 739,
    "start_time": "2021-09-16T19:35:41.949Z"
   },
   {
    "duration": 5,
    "start_time": "2021-09-16T19:35:48.326Z"
   },
   {
    "duration": 8,
    "start_time": "2021-09-16T19:35:52.939Z"
   },
   {
    "duration": 5,
    "start_time": "2021-09-16T19:36:52.163Z"
   },
   {
    "duration": 67,
    "start_time": "2021-09-16T19:36:52.172Z"
   },
   {
    "duration": 31,
    "start_time": "2021-09-16T19:36:52.242Z"
   },
   {
    "duration": 29,
    "start_time": "2021-09-16T19:36:52.277Z"
   },
   {
    "duration": 20,
    "start_time": "2021-09-16T19:36:52.309Z"
   },
   {
    "duration": 41,
    "start_time": "2021-09-16T19:36:52.332Z"
   },
   {
    "duration": 15,
    "start_time": "2021-09-16T19:36:52.376Z"
   },
   {
    "duration": 24,
    "start_time": "2021-09-16T19:36:52.394Z"
   },
   {
    "duration": 61,
    "start_time": "2021-09-16T19:36:52.421Z"
   },
   {
    "duration": 13,
    "start_time": "2021-09-16T19:36:52.484Z"
   },
   {
    "duration": 52,
    "start_time": "2021-09-16T19:36:52.499Z"
   },
   {
    "duration": 28,
    "start_time": "2021-09-16T19:36:52.553Z"
   },
   {
    "duration": 22,
    "start_time": "2021-09-16T19:36:52.583Z"
   },
   {
    "duration": 59,
    "start_time": "2021-09-16T19:37:06.182Z"
   },
   {
    "duration": 66,
    "start_time": "2021-09-16T19:37:12.006Z"
   },
   {
    "duration": 42,
    "start_time": "2021-09-16T19:37:45.924Z"
   },
   {
    "duration": 8,
    "start_time": "2021-09-16T19:37:58.804Z"
   },
   {
    "duration": 9,
    "start_time": "2021-09-16T19:38:17.928Z"
   },
   {
    "duration": 6,
    "start_time": "2021-09-16T19:38:54.533Z"
   },
   {
    "duration": 66,
    "start_time": "2021-09-16T19:38:54.542Z"
   },
   {
    "duration": 14,
    "start_time": "2021-09-16T19:38:54.611Z"
   },
   {
    "duration": 43,
    "start_time": "2021-09-16T19:38:54.628Z"
   },
   {
    "duration": 21,
    "start_time": "2021-09-16T19:38:54.674Z"
   },
   {
    "duration": 12,
    "start_time": "2021-09-16T19:38:54.698Z"
   },
   {
    "duration": 23,
    "start_time": "2021-09-16T19:38:54.712Z"
   },
   {
    "duration": 38,
    "start_time": "2021-09-16T19:38:54.739Z"
   },
   {
    "duration": 27,
    "start_time": "2021-09-16T19:38:54.779Z"
   },
   {
    "duration": 11,
    "start_time": "2021-09-16T19:38:54.808Z"
   },
   {
    "duration": 72,
    "start_time": "2021-09-16T19:38:54.821Z"
   },
   {
    "duration": 10,
    "start_time": "2021-09-16T19:38:54.895Z"
   },
   {
    "duration": 12,
    "start_time": "2021-09-16T19:38:54.907Z"
   },
   {
    "duration": 49,
    "start_time": "2021-09-16T19:41:00.899Z"
   },
   {
    "duration": 30,
    "start_time": "2021-09-16T19:42:10.448Z"
   },
   {
    "duration": 8,
    "start_time": "2021-09-16T19:48:35.856Z"
   },
   {
    "duration": 8,
    "start_time": "2021-09-16T19:48:58.316Z"
   },
   {
    "duration": 4,
    "start_time": "2021-09-16T19:51:15.702Z"
   },
   {
    "duration": 7,
    "start_time": "2021-09-16T19:51:23.598Z"
   },
   {
    "duration": 44,
    "start_time": "2021-09-16T19:53:42.444Z"
   },
   {
    "duration": 5,
    "start_time": "2021-09-16T19:53:46.349Z"
   },
   {
    "duration": 66,
    "start_time": "2021-09-16T19:53:46.357Z"
   },
   {
    "duration": 13,
    "start_time": "2021-09-16T19:53:46.426Z"
   },
   {
    "duration": 27,
    "start_time": "2021-09-16T19:53:46.442Z"
   },
   {
    "duration": 20,
    "start_time": "2021-09-16T19:53:46.471Z"
   },
   {
    "duration": 7,
    "start_time": "2021-09-16T19:53:46.493Z"
   },
   {
    "duration": 14,
    "start_time": "2021-09-16T19:53:46.502Z"
   },
   {
    "duration": 51,
    "start_time": "2021-09-16T19:53:46.519Z"
   },
   {
    "duration": 23,
    "start_time": "2021-09-16T19:53:46.574Z"
   },
   {
    "duration": 14,
    "start_time": "2021-09-16T19:53:46.599Z"
   },
   {
    "duration": 62,
    "start_time": "2021-09-16T19:53:46.616Z"
   },
   {
    "duration": 8,
    "start_time": "2021-09-16T19:53:46.680Z"
   },
   {
    "duration": 12,
    "start_time": "2021-09-16T19:53:46.691Z"
   },
   {
    "duration": 62,
    "start_time": "2021-09-16T19:53:46.705Z"
   },
   {
    "duration": 109,
    "start_time": "2021-09-16T19:54:43.530Z"
   },
   {
    "duration": 45,
    "start_time": "2021-09-16T19:55:32.439Z"
   },
   {
    "duration": 9325,
    "start_time": "2021-09-16T19:56:50.178Z"
   },
   {
    "duration": 404,
    "start_time": "2021-09-16T19:57:16.178Z"
   },
   {
    "duration": 414,
    "start_time": "2021-09-16T19:57:42.273Z"
   },
   {
    "duration": 46,
    "start_time": "2021-09-16T19:57:48.536Z"
   },
   {
    "duration": 87,
    "start_time": "2021-09-16T19:57:57.430Z"
   },
   {
    "duration": 882,
    "start_time": "2021-09-16T19:58:00.597Z"
   },
   {
    "duration": 9049,
    "start_time": "2021-09-16T19:59:07.356Z"
   },
   {
    "duration": 52,
    "start_time": "2021-09-16T20:01:49.454Z"
   },
   {
    "duration": 54,
    "start_time": "2021-09-16T20:01:51.874Z"
   },
   {
    "duration": 4,
    "start_time": "2021-09-16T20:01:58.274Z"
   },
   {
    "duration": 77,
    "start_time": "2021-09-16T20:01:58.281Z"
   },
   {
    "duration": 16,
    "start_time": "2021-09-16T20:01:58.362Z"
   },
   {
    "duration": 19,
    "start_time": "2021-09-16T20:01:58.382Z"
   },
   {
    "duration": 14,
    "start_time": "2021-09-16T20:01:58.405Z"
   },
   {
    "duration": 43,
    "start_time": "2021-09-16T20:01:58.421Z"
   },
   {
    "duration": 17,
    "start_time": "2021-09-16T20:01:58.469Z"
   },
   {
    "duration": 21,
    "start_time": "2021-09-16T20:01:58.489Z"
   },
   {
    "duration": 60,
    "start_time": "2021-09-16T20:01:58.512Z"
   },
   {
    "duration": 9,
    "start_time": "2021-09-16T20:01:58.575Z"
   },
   {
    "duration": 44,
    "start_time": "2021-09-16T20:01:58.588Z"
   },
   {
    "duration": 32,
    "start_time": "2021-09-16T20:01:58.635Z"
   },
   {
    "duration": 7,
    "start_time": "2021-09-16T20:01:58.670Z"
   },
   {
    "duration": 62,
    "start_time": "2021-09-16T20:01:58.680Z"
   },
   {
    "duration": 53,
    "start_time": "2021-09-16T20:01:58.762Z"
   },
   {
    "duration": 374,
    "start_time": "2021-09-16T20:04:37.146Z"
   },
   {
    "duration": 9980,
    "start_time": "2021-09-16T20:04:52.145Z"
   },
   {
    "duration": 8797,
    "start_time": "2021-09-16T20:06:12.895Z"
   },
   {
    "duration": 402,
    "start_time": "2021-09-16T20:08:47.625Z"
   },
   {
    "duration": 10839,
    "start_time": "2021-09-16T20:10:26.370Z"
   },
   {
    "duration": 9543,
    "start_time": "2021-09-16T20:11:06.456Z"
   },
   {
    "duration": 5,
    "start_time": "2021-09-16T20:11:21.307Z"
   },
   {
    "duration": 90,
    "start_time": "2021-09-16T20:11:21.314Z"
   },
   {
    "duration": 13,
    "start_time": "2021-09-16T20:11:21.407Z"
   },
   {
    "duration": 40,
    "start_time": "2021-09-16T20:11:21.423Z"
   },
   {
    "duration": 25,
    "start_time": "2021-09-16T20:11:21.466Z"
   },
   {
    "duration": 10,
    "start_time": "2021-09-16T20:11:21.494Z"
   },
   {
    "duration": 29,
    "start_time": "2021-09-16T20:11:21.506Z"
   },
   {
    "duration": 68,
    "start_time": "2021-09-16T20:11:21.540Z"
   },
   {
    "duration": 33,
    "start_time": "2021-09-16T20:11:21.611Z"
   },
   {
    "duration": 13,
    "start_time": "2021-09-16T20:11:21.646Z"
   },
   {
    "duration": 59,
    "start_time": "2021-09-16T20:11:21.661Z"
   },
   {
    "duration": 8,
    "start_time": "2021-09-16T20:11:21.723Z"
   },
   {
    "duration": 22,
    "start_time": "2021-09-16T20:11:21.734Z"
   },
   {
    "duration": 11321,
    "start_time": "2021-09-16T20:11:21.759Z"
   },
   {
    "duration": 28,
    "start_time": "2021-09-16T20:12:11.239Z"
   },
   {
    "duration": 62,
    "start_time": "2021-09-16T20:12:14.301Z"
   },
   {
    "duration": 9978,
    "start_time": "2021-09-16T20:12:34.814Z"
   },
   {
    "duration": 43,
    "start_time": "2021-09-16T20:12:55.331Z"
   },
   {
    "duration": 58,
    "start_time": "2021-09-16T20:12:56.658Z"
   },
   {
    "duration": 5,
    "start_time": "2021-09-16T20:13:01.303Z"
   },
   {
    "duration": 82,
    "start_time": "2021-09-16T20:13:01.310Z"
   },
   {
    "duration": 13,
    "start_time": "2021-09-16T20:13:01.395Z"
   },
   {
    "duration": 47,
    "start_time": "2021-09-16T20:13:01.411Z"
   },
   {
    "duration": 46,
    "start_time": "2021-09-16T20:13:01.461Z"
   },
   {
    "duration": 63,
    "start_time": "2021-09-16T20:13:01.509Z"
   },
   {
    "duration": 47,
    "start_time": "2021-09-16T20:13:01.575Z"
   },
   {
    "duration": 54,
    "start_time": "2021-09-16T20:13:01.625Z"
   },
   {
    "duration": 56,
    "start_time": "2021-09-16T20:13:01.683Z"
   },
   {
    "duration": 41,
    "start_time": "2021-09-16T20:13:01.741Z"
   },
   {
    "duration": 94,
    "start_time": "2021-09-16T20:13:01.785Z"
   },
   {
    "duration": 9,
    "start_time": "2021-09-16T20:13:01.882Z"
   },
   {
    "duration": 32,
    "start_time": "2021-09-16T20:13:01.894Z"
   },
   {
    "duration": 45,
    "start_time": "2021-09-16T20:13:01.928Z"
   },
   {
    "duration": 37,
    "start_time": "2021-09-16T20:13:01.975Z"
   },
   {
    "duration": 67,
    "start_time": "2021-09-16T20:13:16.264Z"
   },
   {
    "duration": 11,
    "start_time": "2021-09-16T20:17:19.986Z"
   },
   {
    "duration": 354,
    "start_time": "2021-09-16T20:17:28.672Z"
   },
   {
    "duration": 42,
    "start_time": "2021-09-16T20:17:36.871Z"
   },
   {
    "duration": 4,
    "start_time": "2021-09-16T20:18:03.821Z"
   },
   {
    "duration": 84,
    "start_time": "2021-09-16T20:18:03.829Z"
   },
   {
    "duration": 15,
    "start_time": "2021-09-16T20:18:03.917Z"
   },
   {
    "duration": 43,
    "start_time": "2021-09-16T20:18:03.935Z"
   },
   {
    "duration": 16,
    "start_time": "2021-09-16T20:18:03.981Z"
   },
   {
    "duration": 13,
    "start_time": "2021-09-16T20:18:03.999Z"
   },
   {
    "duration": 23,
    "start_time": "2021-09-16T20:18:04.016Z"
   },
   {
    "duration": 22,
    "start_time": "2021-09-16T20:18:04.062Z"
   },
   {
    "duration": 26,
    "start_time": "2021-09-16T20:18:04.086Z"
   },
   {
    "duration": 9,
    "start_time": "2021-09-16T20:18:04.114Z"
   },
   {
    "duration": 75,
    "start_time": "2021-09-16T20:18:04.126Z"
   },
   {
    "duration": 8,
    "start_time": "2021-09-16T20:18:04.204Z"
   },
   {
    "duration": 8,
    "start_time": "2021-09-16T20:18:04.215Z"
   },
   {
    "duration": 84,
    "start_time": "2021-09-16T20:18:04.226Z"
   },
   {
    "duration": 49,
    "start_time": "2021-09-16T20:18:04.313Z"
   },
   {
    "duration": 9,
    "start_time": "2021-09-16T20:18:19.218Z"
   },
   {
    "duration": 38,
    "start_time": "2021-09-16T20:18:30.431Z"
   },
   {
    "duration": 5,
    "start_time": "2021-09-16T20:19:11.871Z"
   },
   {
    "duration": 80,
    "start_time": "2021-09-16T20:19:11.878Z"
   },
   {
    "duration": 13,
    "start_time": "2021-09-16T20:19:11.961Z"
   },
   {
    "duration": 29,
    "start_time": "2021-09-16T20:19:11.977Z"
   },
   {
    "duration": 33,
    "start_time": "2021-09-16T20:19:12.009Z"
   },
   {
    "duration": 22,
    "start_time": "2021-09-16T20:19:12.044Z"
   },
   {
    "duration": 27,
    "start_time": "2021-09-16T20:19:12.069Z"
   },
   {
    "duration": 43,
    "start_time": "2021-09-16T20:19:12.099Z"
   },
   {
    "duration": 28,
    "start_time": "2021-09-16T20:19:12.147Z"
   },
   {
    "duration": 9,
    "start_time": "2021-09-16T20:19:12.178Z"
   },
   {
    "duration": 52,
    "start_time": "2021-09-16T20:19:12.189Z"
   },
   {
    "duration": 65,
    "start_time": "2021-09-16T20:19:12.244Z"
   },
   {
    "duration": 13,
    "start_time": "2021-09-16T20:19:12.311Z"
   },
   {
    "duration": 16,
    "start_time": "2021-09-16T20:19:12.327Z"
   },
   {
    "duration": 79,
    "start_time": "2021-09-16T20:19:12.346Z"
   },
   {
    "duration": 46,
    "start_time": "2021-09-16T20:19:12.428Z"
   },
   {
    "duration": 8,
    "start_time": "2021-09-16T20:20:17.051Z"
   },
   {
    "duration": 339,
    "start_time": "2021-09-16T20:21:34.837Z"
   },
   {
    "duration": 40,
    "start_time": "2021-09-16T20:21:38.872Z"
   },
   {
    "duration": 36,
    "start_time": "2021-09-16T20:21:42.529Z"
   },
   {
    "duration": 9,
    "start_time": "2021-09-16T20:21:54.497Z"
   },
   {
    "duration": 42,
    "start_time": "2021-09-16T20:22:23.947Z"
   },
   {
    "duration": 14,
    "start_time": "2021-09-16T20:24:06.270Z"
   },
   {
    "duration": 1250,
    "start_time": "2021-09-16T20:24:12.701Z"
   },
   {
    "duration": 4,
    "start_time": "2021-09-16T20:24:25.191Z"
   },
   {
    "duration": 69,
    "start_time": "2021-09-16T20:24:25.199Z"
   },
   {
    "duration": 14,
    "start_time": "2021-09-16T20:24:25.271Z"
   },
   {
    "duration": 21,
    "start_time": "2021-09-16T20:24:25.288Z"
   },
   {
    "duration": 51,
    "start_time": "2021-09-16T20:24:25.312Z"
   },
   {
    "duration": 7,
    "start_time": "2021-09-16T20:24:25.366Z"
   },
   {
    "duration": 16,
    "start_time": "2021-09-16T20:24:25.375Z"
   },
   {
    "duration": 21,
    "start_time": "2021-09-16T20:24:25.396Z"
   },
   {
    "duration": 62,
    "start_time": "2021-09-16T20:24:25.420Z"
   },
   {
    "duration": 18,
    "start_time": "2021-09-16T20:24:25.484Z"
   },
   {
    "duration": 57,
    "start_time": "2021-09-16T20:24:25.504Z"
   },
   {
    "duration": 7,
    "start_time": "2021-09-16T20:24:25.564Z"
   },
   {
    "duration": 7,
    "start_time": "2021-09-16T20:24:25.573Z"
   },
   {
    "duration": 80,
    "start_time": "2021-09-16T20:24:25.583Z"
   },
   {
    "duration": 42,
    "start_time": "2021-09-16T20:24:25.666Z"
   },
   {
    "duration": 12,
    "start_time": "2021-09-16T20:25:35.741Z"
   },
   {
    "duration": 5,
    "start_time": "2021-09-16T20:25:48.921Z"
   },
   {
    "duration": 330,
    "start_time": "2021-09-17T08:51:12.807Z"
   },
   {
    "duration": 1145,
    "start_time": "2021-09-17T08:51:21.410Z"
   },
   {
    "duration": 51,
    "start_time": "2021-09-17T08:51:22.557Z"
   },
   {
    "duration": 9,
    "start_time": "2021-09-17T08:51:22.610Z"
   },
   {
    "duration": 14,
    "start_time": "2021-09-17T08:51:22.621Z"
   },
   {
    "duration": 8,
    "start_time": "2021-09-17T08:51:22.641Z"
   },
   {
    "duration": 5,
    "start_time": "2021-09-17T08:51:22.650Z"
   },
   {
    "duration": 9,
    "start_time": "2021-09-17T08:51:22.657Z"
   },
   {
    "duration": 14,
    "start_time": "2021-09-17T08:51:22.668Z"
   },
   {
    "duration": 15,
    "start_time": "2021-09-17T08:51:22.683Z"
   },
   {
    "duration": 41,
    "start_time": "2021-09-17T08:51:22.700Z"
   },
   {
    "duration": 24,
    "start_time": "2021-09-17T08:51:22.743Z"
   },
   {
    "duration": 5,
    "start_time": "2021-09-17T08:51:22.769Z"
   },
   {
    "duration": 3,
    "start_time": "2021-09-17T08:51:22.776Z"
   },
   {
    "duration": 40,
    "start_time": "2021-09-17T08:51:22.781Z"
   },
   {
    "duration": 329,
    "start_time": "2021-09-17T08:51:22.841Z"
   },
   {
    "duration": 266,
    "start_time": "2021-09-17T08:51:47.989Z"
   },
   {
    "duration": 3,
    "start_time": "2021-09-17T08:51:57.145Z"
   },
   {
    "duration": 59,
    "start_time": "2021-09-17T08:51:57.151Z"
   },
   {
    "duration": 9,
    "start_time": "2021-09-17T08:51:57.212Z"
   },
   {
    "duration": 12,
    "start_time": "2021-09-17T08:51:57.223Z"
   },
   {
    "duration": 7,
    "start_time": "2021-09-17T08:51:57.241Z"
   },
   {
    "duration": 4,
    "start_time": "2021-09-17T08:51:57.250Z"
   },
   {
    "duration": 13,
    "start_time": "2021-09-17T08:51:57.256Z"
   },
   {
    "duration": 14,
    "start_time": "2021-09-17T08:51:57.271Z"
   },
   {
    "duration": 15,
    "start_time": "2021-09-17T08:51:57.286Z"
   },
   {
    "duration": 8,
    "start_time": "2021-09-17T08:51:57.302Z"
   },
   {
    "duration": 54,
    "start_time": "2021-09-17T08:51:57.312Z"
   },
   {
    "duration": 4,
    "start_time": "2021-09-17T08:51:57.368Z"
   },
   {
    "duration": 5,
    "start_time": "2021-09-17T08:51:57.374Z"
   },
   {
    "duration": 38,
    "start_time": "2021-09-17T08:51:57.380Z"
   },
   {
    "duration": 27,
    "start_time": "2021-09-17T08:51:57.420Z"
   },
   {
    "duration": 262,
    "start_time": "2021-09-17T08:52:09.865Z"
   },
   {
    "duration": 3,
    "start_time": "2021-09-17T08:52:14.831Z"
   },
   {
    "duration": 46,
    "start_time": "2021-09-17T08:52:14.837Z"
   },
   {
    "duration": 10,
    "start_time": "2021-09-17T08:52:14.885Z"
   },
   {
    "duration": 12,
    "start_time": "2021-09-17T08:52:14.897Z"
   },
   {
    "duration": 13,
    "start_time": "2021-09-17T08:52:14.911Z"
   },
   {
    "duration": 18,
    "start_time": "2021-09-17T08:52:14.925Z"
   },
   {
    "duration": 10,
    "start_time": "2021-09-17T08:52:14.945Z"
   },
   {
    "duration": 12,
    "start_time": "2021-09-17T08:52:14.958Z"
   },
   {
    "duration": 14,
    "start_time": "2021-09-17T08:52:14.972Z"
   },
   {
    "duration": 9,
    "start_time": "2021-09-17T08:52:14.988Z"
   },
   {
    "duration": 59,
    "start_time": "2021-09-17T08:52:14.999Z"
   },
   {
    "duration": 5,
    "start_time": "2021-09-17T08:52:15.059Z"
   },
   {
    "duration": 7,
    "start_time": "2021-09-17T08:52:15.065Z"
   },
   {
    "duration": 41,
    "start_time": "2021-09-17T08:52:15.073Z"
   },
   {
    "duration": 32,
    "start_time": "2021-09-17T08:52:15.115Z"
   },
   {
    "duration": 3,
    "start_time": "2021-09-17T08:52:58.332Z"
   },
   {
    "duration": 49,
    "start_time": "2021-09-17T08:52:58.337Z"
   },
   {
    "duration": 8,
    "start_time": "2021-09-17T08:52:58.388Z"
   },
   {
    "duration": 17,
    "start_time": "2021-09-17T08:52:58.398Z"
   },
   {
    "duration": 12,
    "start_time": "2021-09-17T08:52:58.417Z"
   },
   {
    "duration": 4,
    "start_time": "2021-09-17T08:52:58.431Z"
   },
   {
    "duration": 27,
    "start_time": "2021-09-17T08:52:58.436Z"
   },
   {
    "duration": 22,
    "start_time": "2021-09-17T08:52:58.465Z"
   },
   {
    "duration": 14,
    "start_time": "2021-09-17T08:52:58.489Z"
   },
   {
    "duration": 15,
    "start_time": "2021-09-17T08:52:58.504Z"
   },
   {
    "duration": 29,
    "start_time": "2021-09-17T08:52:58.521Z"
   },
   {
    "duration": 11,
    "start_time": "2021-09-17T08:52:58.552Z"
   },
   {
    "duration": 6,
    "start_time": "2021-09-17T08:52:58.565Z"
   },
   {
    "duration": 41,
    "start_time": "2021-09-17T08:52:58.573Z"
   },
   {
    "duration": 26,
    "start_time": "2021-09-17T08:52:58.615Z"
   },
   {
    "duration": 3,
    "start_time": "2021-09-17T08:53:15.024Z"
   },
   {
    "duration": 66,
    "start_time": "2021-09-17T08:53:15.028Z"
   },
   {
    "duration": 9,
    "start_time": "2021-09-17T08:53:15.096Z"
   },
   {
    "duration": 36,
    "start_time": "2021-09-17T08:53:15.106Z"
   },
   {
    "duration": 27,
    "start_time": "2021-09-17T08:53:15.144Z"
   },
   {
    "duration": 21,
    "start_time": "2021-09-17T08:53:15.172Z"
   },
   {
    "duration": 28,
    "start_time": "2021-09-17T08:53:15.195Z"
   },
   {
    "duration": 29,
    "start_time": "2021-09-17T08:53:15.226Z"
   },
   {
    "duration": 25,
    "start_time": "2021-09-17T08:53:15.257Z"
   },
   {
    "duration": 29,
    "start_time": "2021-09-17T08:53:15.284Z"
   },
   {
    "duration": 38,
    "start_time": "2021-09-17T08:53:15.314Z"
   },
   {
    "duration": 19,
    "start_time": "2021-09-17T08:53:15.354Z"
   },
   {
    "duration": 19,
    "start_time": "2021-09-17T08:53:15.375Z"
   },
   {
    "duration": 49,
    "start_time": "2021-09-17T08:53:15.396Z"
   },
   {
    "duration": 20,
    "start_time": "2021-09-17T08:53:15.447Z"
   },
   {
    "duration": 24,
    "start_time": "2021-09-17T08:53:15.468Z"
   },
   {
    "duration": 9,
    "start_time": "2021-09-17T08:55:04.596Z"
   },
   {
    "duration": 3,
    "start_time": "2021-09-17T08:56:52.225Z"
   },
   {
    "duration": 47,
    "start_time": "2021-09-17T08:56:52.230Z"
   },
   {
    "duration": 8,
    "start_time": "2021-09-17T08:56:52.279Z"
   },
   {
    "duration": 17,
    "start_time": "2021-09-17T08:56:52.289Z"
   },
   {
    "duration": 10,
    "start_time": "2021-09-17T08:56:52.307Z"
   },
   {
    "duration": 7,
    "start_time": "2021-09-17T08:56:52.318Z"
   },
   {
    "duration": 20,
    "start_time": "2021-09-17T08:56:52.327Z"
   },
   {
    "duration": 13,
    "start_time": "2021-09-17T08:56:52.349Z"
   },
   {
    "duration": 14,
    "start_time": "2021-09-17T08:56:52.364Z"
   },
   {
    "duration": 11,
    "start_time": "2021-09-17T08:56:52.380Z"
   },
   {
    "duration": 6912,
    "start_time": "2021-09-17T08:57:16.222Z"
   },
   {
    "duration": 3,
    "start_time": "2021-09-17T08:57:24.700Z"
   },
   {
    "duration": 63,
    "start_time": "2021-09-17T08:57:24.705Z"
   },
   {
    "duration": 9,
    "start_time": "2021-09-17T08:57:24.770Z"
   },
   {
    "duration": 11,
    "start_time": "2021-09-17T08:57:24.781Z"
   },
   {
    "duration": 15,
    "start_time": "2021-09-17T08:57:24.794Z"
   },
   {
    "duration": 4,
    "start_time": "2021-09-17T08:57:24.811Z"
   },
   {
    "duration": 9,
    "start_time": "2021-09-17T08:57:24.841Z"
   },
   {
    "duration": 13,
    "start_time": "2021-09-17T08:57:24.852Z"
   },
   {
    "duration": 14,
    "start_time": "2021-09-17T08:57:24.867Z"
   },
   {
    "duration": 10,
    "start_time": "2021-09-17T08:57:24.883Z"
   },
   {
    "duration": 13,
    "start_time": "2021-09-17T08:57:24.895Z"
   },
   {
    "duration": 50,
    "start_time": "2021-09-17T08:57:24.910Z"
   },
   {
    "duration": 7,
    "start_time": "2021-09-17T08:57:24.962Z"
   },
   {
    "duration": 5,
    "start_time": "2021-09-17T08:57:33.085Z"
   },
   {
    "duration": 37,
    "start_time": "2021-09-17T08:58:45.245Z"
   },
   {
    "duration": 420,
    "start_time": "2021-09-17T08:59:00.060Z"
   },
   {
    "duration": 88,
    "start_time": "2021-09-17T08:59:29.310Z"
   },
   {
    "duration": 405,
    "start_time": "2021-09-17T08:59:41.126Z"
   },
   {
    "duration": 3,
    "start_time": "2021-09-17T08:59:53.235Z"
   },
   {
    "duration": 49,
    "start_time": "2021-09-17T08:59:53.240Z"
   },
   {
    "duration": 10,
    "start_time": "2021-09-17T08:59:53.291Z"
   },
   {
    "duration": 41,
    "start_time": "2021-09-17T08:59:53.303Z"
   },
   {
    "duration": 10,
    "start_time": "2021-09-17T08:59:53.346Z"
   },
   {
    "duration": 6,
    "start_time": "2021-09-17T08:59:53.357Z"
   },
   {
    "duration": 11,
    "start_time": "2021-09-17T08:59:53.365Z"
   },
   {
    "duration": 17,
    "start_time": "2021-09-17T08:59:53.378Z"
   },
   {
    "duration": 15,
    "start_time": "2021-09-17T08:59:53.397Z"
   },
   {
    "duration": 8,
    "start_time": "2021-09-17T08:59:53.413Z"
   },
   {
    "duration": 7,
    "start_time": "2021-09-17T08:59:53.442Z"
   },
   {
    "duration": 36,
    "start_time": "2021-09-17T08:59:53.451Z"
   },
   {
    "duration": 5,
    "start_time": "2021-09-17T08:59:53.488Z"
   },
   {
    "duration": 5,
    "start_time": "2021-09-17T08:59:53.494Z"
   },
   {
    "duration": 63,
    "start_time": "2021-09-17T08:59:53.501Z"
   },
   {
    "duration": 3,
    "start_time": "2021-09-17T09:00:48.285Z"
   },
   {
    "duration": 46,
    "start_time": "2021-09-17T09:00:48.290Z"
   },
   {
    "duration": 9,
    "start_time": "2021-09-17T09:00:48.338Z"
   },
   {
    "duration": 14,
    "start_time": "2021-09-17T09:00:48.349Z"
   },
   {
    "duration": 12,
    "start_time": "2021-09-17T09:00:48.365Z"
   },
   {
    "duration": 6,
    "start_time": "2021-09-17T09:00:48.378Z"
   },
   {
    "duration": 17,
    "start_time": "2021-09-17T09:00:48.386Z"
   },
   {
    "duration": 16,
    "start_time": "2021-09-17T09:00:48.405Z"
   },
   {
    "duration": 31,
    "start_time": "2021-09-17T09:00:48.423Z"
   },
   {
    "duration": 7,
    "start_time": "2021-09-17T09:00:48.455Z"
   },
   {
    "duration": 14,
    "start_time": "2021-09-17T09:00:48.463Z"
   },
   {
    "duration": 27,
    "start_time": "2021-09-17T09:00:48.479Z"
   },
   {
    "duration": 5,
    "start_time": "2021-09-17T09:00:48.508Z"
   },
   {
    "duration": 4,
    "start_time": "2021-09-17T09:00:48.514Z"
   },
   {
    "duration": 42,
    "start_time": "2021-09-17T09:00:48.520Z"
   },
   {
    "duration": 438,
    "start_time": "2021-09-17T09:00:55.576Z"
   },
   {
    "duration": 3,
    "start_time": "2021-09-17T09:01:02.468Z"
   },
   {
    "duration": 81,
    "start_time": "2021-09-17T09:01:02.473Z"
   },
   {
    "duration": 8,
    "start_time": "2021-09-17T09:01:02.556Z"
   },
   {
    "duration": 28,
    "start_time": "2021-09-17T09:01:02.566Z"
   },
   {
    "duration": 14,
    "start_time": "2021-09-17T09:01:02.596Z"
   },
   {
    "duration": 8,
    "start_time": "2021-09-17T09:01:02.611Z"
   },
   {
    "duration": 17,
    "start_time": "2021-09-17T09:01:02.621Z"
   },
   {
    "duration": 13,
    "start_time": "2021-09-17T09:01:02.640Z"
   },
   {
    "duration": 15,
    "start_time": "2021-09-17T09:01:02.655Z"
   },
   {
    "duration": 11,
    "start_time": "2021-09-17T09:01:02.672Z"
   },
   {
    "duration": 13,
    "start_time": "2021-09-17T09:01:02.684Z"
   },
   {
    "duration": 39,
    "start_time": "2021-09-17T09:01:02.699Z"
   },
   {
    "duration": 16,
    "start_time": "2021-09-17T09:01:02.740Z"
   },
   {
    "duration": 17,
    "start_time": "2021-09-17T09:01:02.757Z"
   },
   {
    "duration": 43,
    "start_time": "2021-09-17T09:01:02.776Z"
   },
   {
    "duration": 5,
    "start_time": "2021-09-17T09:03:05.921Z"
   },
   {
    "duration": 3,
    "start_time": "2021-09-17T09:03:23.013Z"
   },
   {
    "duration": 49,
    "start_time": "2021-09-17T09:03:23.017Z"
   },
   {
    "duration": 9,
    "start_time": "2021-09-17T09:03:23.068Z"
   },
   {
    "duration": 12,
    "start_time": "2021-09-17T09:03:23.078Z"
   },
   {
    "duration": 9,
    "start_time": "2021-09-17T09:03:23.092Z"
   },
   {
    "duration": 4,
    "start_time": "2021-09-17T09:03:23.103Z"
   },
   {
    "duration": 37,
    "start_time": "2021-09-17T09:03:23.109Z"
   },
   {
    "duration": 12,
    "start_time": "2021-09-17T09:03:23.148Z"
   },
   {
    "duration": 14,
    "start_time": "2021-09-17T09:03:23.163Z"
   },
   {
    "duration": 7,
    "start_time": "2021-09-17T09:03:23.179Z"
   },
   {
    "duration": 7,
    "start_time": "2021-09-17T09:03:23.188Z"
   },
   {
    "duration": 49,
    "start_time": "2021-09-17T09:03:23.196Z"
   },
   {
    "duration": 5,
    "start_time": "2021-09-17T09:03:23.247Z"
   },
   {
    "duration": 8,
    "start_time": "2021-09-17T09:03:23.253Z"
   },
   {
    "duration": 5,
    "start_time": "2021-09-17T09:03:23.262Z"
   },
   {
    "duration": 26,
    "start_time": "2021-09-17T09:03:23.269Z"
   },
   {
    "duration": 17,
    "start_time": "2021-09-17T09:03:23.297Z"
   },
   {
    "duration": 27,
    "start_time": "2021-09-17T09:03:23.316Z"
   },
   {
    "duration": 11,
    "start_time": "2021-09-17T09:03:23.345Z"
   },
   {
    "duration": 11375,
    "start_time": "2021-09-17T09:10:10.506Z"
   },
   {
    "duration": 8082,
    "start_time": "2021-09-17T09:11:37.915Z"
   },
   {
    "duration": 3,
    "start_time": "2021-09-17T09:11:49.022Z"
   },
   {
    "duration": 48,
    "start_time": "2021-09-17T09:11:49.027Z"
   },
   {
    "duration": 9,
    "start_time": "2021-09-17T09:11:49.077Z"
   },
   {
    "duration": 12,
    "start_time": "2021-09-17T09:11:49.088Z"
   },
   {
    "duration": 8,
    "start_time": "2021-09-17T09:11:49.102Z"
   },
   {
    "duration": 29,
    "start_time": "2021-09-17T09:11:49.112Z"
   },
   {
    "duration": 10,
    "start_time": "2021-09-17T09:11:49.144Z"
   },
   {
    "duration": 18,
    "start_time": "2021-09-17T09:11:49.157Z"
   },
   {
    "duration": 20,
    "start_time": "2021-09-17T09:11:49.177Z"
   },
   {
    "duration": 5,
    "start_time": "2021-09-17T09:11:49.198Z"
   },
   {
    "duration": 40,
    "start_time": "2021-09-17T09:11:49.204Z"
   },
   {
    "duration": 24,
    "start_time": "2021-09-17T09:11:49.245Z"
   },
   {
    "duration": 9,
    "start_time": "2021-09-17T09:11:49.270Z"
   },
   {
    "duration": 7,
    "start_time": "2021-09-17T09:11:49.281Z"
   },
   {
    "duration": 7,
    "start_time": "2021-09-17T09:11:49.290Z"
   },
   {
    "duration": 34,
    "start_time": "2021-09-17T09:11:49.299Z"
   },
   {
    "duration": 16,
    "start_time": "2021-09-17T09:11:49.341Z"
   },
   {
    "duration": 4,
    "start_time": "2021-09-17T09:11:49.358Z"
   },
   {
    "duration": 14,
    "start_time": "2021-09-17T09:11:49.363Z"
   },
   {
    "duration": 7942,
    "start_time": "2021-09-17T09:19:23.506Z"
   },
   {
    "duration": 3,
    "start_time": "2021-09-17T09:19:47.981Z"
   },
   {
    "duration": 48,
    "start_time": "2021-09-17T09:19:47.986Z"
   },
   {
    "duration": 10,
    "start_time": "2021-09-17T09:19:48.036Z"
   },
   {
    "duration": 14,
    "start_time": "2021-09-17T09:19:48.048Z"
   },
   {
    "duration": 11,
    "start_time": "2021-09-17T09:19:48.063Z"
   },
   {
    "duration": 10,
    "start_time": "2021-09-17T09:19:48.075Z"
   },
   {
    "duration": 11,
    "start_time": "2021-09-17T09:19:48.086Z"
   },
   {
    "duration": 16,
    "start_time": "2021-09-17T09:19:48.099Z"
   },
   {
    "duration": 34,
    "start_time": "2021-09-17T09:19:48.117Z"
   },
   {
    "duration": 8,
    "start_time": "2021-09-17T09:19:48.153Z"
   },
   {
    "duration": 13,
    "start_time": "2021-09-17T09:19:48.163Z"
   },
   {
    "duration": 83,
    "start_time": "2021-09-17T09:19:48.177Z"
   },
   {
    "duration": 5,
    "start_time": "2021-09-17T09:19:48.262Z"
   },
   {
    "duration": 7,
    "start_time": "2021-09-17T09:19:48.269Z"
   },
   {
    "duration": 3,
    "start_time": "2021-09-17T09:19:48.278Z"
   },
   {
    "duration": 34,
    "start_time": "2021-09-17T09:19:48.283Z"
   },
   {
    "duration": 4,
    "start_time": "2021-09-17T09:19:48.319Z"
   },
   {
    "duration": 19,
    "start_time": "2021-09-17T09:20:02.181Z"
   },
   {
    "duration": 6,
    "start_time": "2021-09-17T09:20:24.013Z"
   },
   {
    "duration": 3,
    "start_time": "2021-09-17T09:20:39.890Z"
   },
   {
    "duration": 52,
    "start_time": "2021-09-17T09:20:39.895Z"
   },
   {
    "duration": 9,
    "start_time": "2021-09-17T09:20:39.949Z"
   },
   {
    "duration": 19,
    "start_time": "2021-09-17T09:20:39.959Z"
   },
   {
    "duration": 17,
    "start_time": "2021-09-17T09:20:39.980Z"
   },
   {
    "duration": 5,
    "start_time": "2021-09-17T09:20:39.999Z"
   },
   {
    "duration": 19,
    "start_time": "2021-09-17T09:20:40.006Z"
   },
   {
    "duration": 18,
    "start_time": "2021-09-17T09:20:40.028Z"
   },
   {
    "duration": 15,
    "start_time": "2021-09-17T09:20:40.048Z"
   },
   {
    "duration": 5,
    "start_time": "2021-09-17T09:20:40.065Z"
   },
   {
    "duration": 8,
    "start_time": "2021-09-17T09:20:40.072Z"
   },
   {
    "duration": 29,
    "start_time": "2021-09-17T09:20:40.081Z"
   },
   {
    "duration": 6,
    "start_time": "2021-09-17T09:20:40.112Z"
   },
   {
    "duration": 5,
    "start_time": "2021-09-17T09:20:40.142Z"
   },
   {
    "duration": 8,
    "start_time": "2021-09-17T09:20:40.149Z"
   },
   {
    "duration": 27,
    "start_time": "2021-09-17T09:20:40.159Z"
   },
   {
    "duration": 18,
    "start_time": "2021-09-17T09:20:40.187Z"
   },
   {
    "duration": 35,
    "start_time": "2021-09-17T09:20:40.207Z"
   },
   {
    "duration": 9,
    "start_time": "2021-09-17T09:20:40.244Z"
   },
   {
    "duration": 273,
    "start_time": "2021-09-17T09:27:03.233Z"
   },
   {
    "duration": 170,
    "start_time": "2021-09-17T09:27:08.193Z"
   },
   {
    "duration": 3,
    "start_time": "2021-09-17T09:27:17.869Z"
   },
   {
    "duration": 7468,
    "start_time": "2021-09-17T09:27:18.766Z"
   },
   {
    "duration": 3,
    "start_time": "2021-09-17T09:28:43.202Z"
   },
   {
    "duration": 48,
    "start_time": "2021-09-17T09:28:43.206Z"
   },
   {
    "duration": 9,
    "start_time": "2021-09-17T09:28:43.256Z"
   },
   {
    "duration": 12,
    "start_time": "2021-09-17T09:28:43.266Z"
   },
   {
    "duration": 11,
    "start_time": "2021-09-17T09:28:43.280Z"
   },
   {
    "duration": 4,
    "start_time": "2021-09-17T09:28:43.293Z"
   },
   {
    "duration": 10,
    "start_time": "2021-09-17T09:28:43.298Z"
   },
   {
    "duration": 32,
    "start_time": "2021-09-17T09:28:43.310Z"
   },
   {
    "duration": 13,
    "start_time": "2021-09-17T09:28:43.344Z"
   },
   {
    "duration": 7,
    "start_time": "2021-09-17T09:28:43.359Z"
   },
   {
    "duration": 9,
    "start_time": "2021-09-17T09:28:43.367Z"
   },
   {
    "duration": 26,
    "start_time": "2021-09-17T09:28:43.378Z"
   },
   {
    "duration": 5,
    "start_time": "2021-09-17T09:28:43.405Z"
   },
   {
    "duration": 29,
    "start_time": "2021-09-17T09:28:43.412Z"
   },
   {
    "duration": 6,
    "start_time": "2021-09-17T09:28:43.443Z"
   },
   {
    "duration": 29,
    "start_time": "2021-09-17T09:28:43.450Z"
   },
   {
    "duration": 20,
    "start_time": "2021-09-17T09:28:43.481Z"
   },
   {
    "duration": 4,
    "start_time": "2021-09-17T09:30:25.698Z"
   },
   {
    "duration": 21,
    "start_time": "2021-09-17T09:30:31.388Z"
   },
   {
    "duration": 6,
    "start_time": "2021-09-17T09:30:48.681Z"
   },
   {
    "duration": 5,
    "start_time": "2021-09-17T09:32:08.280Z"
   },
   {
    "duration": 11,
    "start_time": "2021-09-17T09:32:58.679Z"
   },
   {
    "duration": 4,
    "start_time": "2021-09-17T09:33:08.926Z"
   },
   {
    "duration": 3,
    "start_time": "2021-09-17T09:33:32.696Z"
   },
   {
    "duration": 64,
    "start_time": "2021-09-17T09:33:32.701Z"
   },
   {
    "duration": 9,
    "start_time": "2021-09-17T09:33:32.767Z"
   },
   {
    "duration": 22,
    "start_time": "2021-09-17T09:33:32.778Z"
   },
   {
    "duration": 18,
    "start_time": "2021-09-17T09:33:32.802Z"
   },
   {
    "duration": 13,
    "start_time": "2021-09-17T09:33:32.821Z"
   },
   {
    "duration": 22,
    "start_time": "2021-09-17T09:33:32.836Z"
   },
   {
    "duration": 19,
    "start_time": "2021-09-17T09:33:32.860Z"
   },
   {
    "duration": 22,
    "start_time": "2021-09-17T09:33:32.880Z"
   },
   {
    "duration": 16,
    "start_time": "2021-09-17T09:33:32.904Z"
   },
   {
    "duration": 22,
    "start_time": "2021-09-17T09:33:32.922Z"
   },
   {
    "duration": 36,
    "start_time": "2021-09-17T09:33:32.946Z"
   },
   {
    "duration": 12,
    "start_time": "2021-09-17T09:33:32.983Z"
   },
   {
    "duration": 19,
    "start_time": "2021-09-17T09:33:32.997Z"
   },
   {
    "duration": 11,
    "start_time": "2021-09-17T09:33:33.017Z"
   },
   {
    "duration": 37,
    "start_time": "2021-09-17T09:33:33.029Z"
   },
   {
    "duration": 18,
    "start_time": "2021-09-17T09:33:33.067Z"
   },
   {
    "duration": 5,
    "start_time": "2021-09-17T09:33:33.087Z"
   },
   {
    "duration": 24,
    "start_time": "2021-09-17T09:33:33.094Z"
   },
   {
    "duration": 5,
    "start_time": "2021-09-17T09:33:33.119Z"
   },
   {
    "duration": 27,
    "start_time": "2021-09-17T09:33:33.125Z"
   },
   {
    "duration": 5,
    "start_time": "2021-09-17T09:34:14.717Z"
   },
   {
    "duration": 3,
    "start_time": "2021-09-17T09:36:22.461Z"
   },
   {
    "duration": 49,
    "start_time": "2021-09-17T09:36:22.466Z"
   },
   {
    "duration": 9,
    "start_time": "2021-09-17T09:36:22.517Z"
   },
   {
    "duration": 11,
    "start_time": "2021-09-17T09:36:22.528Z"
   },
   {
    "duration": 11,
    "start_time": "2021-09-17T09:36:22.541Z"
   },
   {
    "duration": 5,
    "start_time": "2021-09-17T09:36:22.553Z"
   },
   {
    "duration": 11,
    "start_time": "2021-09-17T09:36:22.559Z"
   },
   {
    "duration": 57,
    "start_time": "2021-09-17T09:36:22.571Z"
   },
   {
    "duration": 13,
    "start_time": "2021-09-17T09:36:22.631Z"
   },
   {
    "duration": 6,
    "start_time": "2021-09-17T09:36:22.646Z"
   },
   {
    "duration": 8,
    "start_time": "2021-09-17T09:36:22.653Z"
   },
   {
    "duration": 26,
    "start_time": "2021-09-17T09:36:22.662Z"
   },
   {
    "duration": 13,
    "start_time": "2021-09-17T09:36:22.689Z"
   },
   {
    "duration": 12,
    "start_time": "2021-09-17T09:36:22.704Z"
   },
   {
    "duration": 8,
    "start_time": "2021-09-17T09:36:22.718Z"
   },
   {
    "duration": 37,
    "start_time": "2021-09-17T09:36:22.728Z"
   },
   {
    "duration": 18,
    "start_time": "2021-09-17T09:36:22.767Z"
   },
   {
    "duration": 10,
    "start_time": "2021-09-17T09:36:22.787Z"
   },
   {
    "duration": 26,
    "start_time": "2021-09-17T09:36:22.798Z"
   },
   {
    "duration": 4,
    "start_time": "2021-09-17T09:36:22.826Z"
   },
   {
    "duration": 13,
    "start_time": "2021-09-17T09:36:22.831Z"
   },
   {
    "duration": 26,
    "start_time": "2021-09-17T09:36:22.845Z"
   },
   {
    "duration": 3,
    "start_time": "2021-09-17T09:36:50.480Z"
   },
   {
    "duration": 53,
    "start_time": "2021-09-17T09:36:50.485Z"
   },
   {
    "duration": 10,
    "start_time": "2021-09-17T09:36:50.540Z"
   },
   {
    "duration": 12,
    "start_time": "2021-09-17T09:36:50.552Z"
   },
   {
    "duration": 9,
    "start_time": "2021-09-17T09:36:50.565Z"
   },
   {
    "duration": 5,
    "start_time": "2021-09-17T09:36:50.575Z"
   },
   {
    "duration": 9,
    "start_time": "2021-09-17T09:36:50.582Z"
   },
   {
    "duration": 14,
    "start_time": "2021-09-17T09:36:50.593Z"
   },
   {
    "duration": 45,
    "start_time": "2021-09-17T09:36:50.609Z"
   },
   {
    "duration": 10,
    "start_time": "2021-09-17T09:36:50.656Z"
   },
   {
    "duration": 9,
    "start_time": "2021-09-17T09:36:50.668Z"
   },
   {
    "duration": 24,
    "start_time": "2021-09-17T09:36:50.679Z"
   },
   {
    "duration": 7,
    "start_time": "2021-09-17T09:36:50.705Z"
   },
   {
    "duration": 8,
    "start_time": "2021-09-17T09:36:50.713Z"
   },
   {
    "duration": 3,
    "start_time": "2021-09-17T09:36:50.741Z"
   },
   {
    "duration": 29,
    "start_time": "2021-09-17T09:36:50.746Z"
   },
   {
    "duration": 20,
    "start_time": "2021-09-17T09:36:50.777Z"
   },
   {
    "duration": 4,
    "start_time": "2021-09-17T09:36:50.799Z"
   },
   {
    "duration": 49,
    "start_time": "2021-09-17T09:36:50.805Z"
   },
   {
    "duration": 4,
    "start_time": "2021-09-17T09:36:50.856Z"
   },
   {
    "duration": 11,
    "start_time": "2021-09-17T09:36:50.861Z"
   },
   {
    "duration": 13,
    "start_time": "2021-09-17T09:36:50.873Z"
   },
   {
    "duration": 6,
    "start_time": "2021-09-17T09:38:30.034Z"
   },
   {
    "duration": 11,
    "start_time": "2021-09-17T09:38:38.009Z"
   },
   {
    "duration": 7,
    "start_time": "2021-09-17T09:39:14.863Z"
   },
   {
    "duration": 11,
    "start_time": "2021-09-17T09:39:22.221Z"
   },
   {
    "duration": 481,
    "start_time": "2021-09-17T09:39:37.714Z"
   },
   {
    "duration": 396,
    "start_time": "2021-09-17T09:40:18.633Z"
   },
   {
    "duration": 250,
    "start_time": "2021-09-17T09:41:01.594Z"
   },
   {
    "duration": 167,
    "start_time": "2021-09-17T09:44:03.992Z"
   },
   {
    "duration": 277,
    "start_time": "2021-09-17T09:44:11.539Z"
   },
   {
    "duration": 187,
    "start_time": "2021-09-17T09:44:16.233Z"
   },
   {
    "duration": 7148,
    "start_time": "2021-09-17T09:45:29.015Z"
   },
   {
    "duration": 274,
    "start_time": "2021-09-17T09:46:15.938Z"
   },
   {
    "duration": 359,
    "start_time": "2021-09-17T09:46:47.147Z"
   },
   {
    "duration": 365,
    "start_time": "2021-09-17T09:48:57.553Z"
   },
   {
    "duration": 458,
    "start_time": "2021-09-17T09:49:05.375Z"
   },
   {
    "duration": 570,
    "start_time": "2021-09-17T09:50:30.272Z"
   },
   {
    "duration": 530,
    "start_time": "2021-09-17T10:30:50.207Z"
   },
   {
    "duration": 5,
    "start_time": "2021-09-17T10:32:24.020Z"
   },
   {
    "duration": 511,
    "start_time": "2021-09-17T10:33:05.296Z"
   },
   {
    "duration": 11,
    "start_time": "2021-09-17T10:34:09.816Z"
   },
   {
    "duration": 18,
    "start_time": "2021-09-17T10:34:53.693Z"
   },
   {
    "duration": 3,
    "start_time": "2021-09-17T10:35:15.766Z"
   },
   {
    "duration": 66,
    "start_time": "2021-09-17T10:35:15.771Z"
   },
   {
    "duration": 8,
    "start_time": "2021-09-17T10:35:15.839Z"
   },
   {
    "duration": 19,
    "start_time": "2021-09-17T10:35:15.849Z"
   },
   {
    "duration": 24,
    "start_time": "2021-09-17T10:35:15.870Z"
   },
   {
    "duration": 8,
    "start_time": "2021-09-17T10:35:15.896Z"
   },
   {
    "duration": 22,
    "start_time": "2021-09-17T10:35:15.905Z"
   },
   {
    "duration": 20,
    "start_time": "2021-09-17T10:35:15.929Z"
   },
   {
    "duration": 26,
    "start_time": "2021-09-17T10:35:15.951Z"
   },
   {
    "duration": 19,
    "start_time": "2021-09-17T10:35:15.978Z"
   },
   {
    "duration": 15,
    "start_time": "2021-09-17T10:35:15.998Z"
   },
   {
    "duration": 27,
    "start_time": "2021-09-17T10:35:16.014Z"
   },
   {
    "duration": 19,
    "start_time": "2021-09-17T10:35:16.043Z"
   },
   {
    "duration": 10,
    "start_time": "2021-09-17T10:35:16.064Z"
   },
   {
    "duration": 5,
    "start_time": "2021-09-17T10:35:16.076Z"
   },
   {
    "duration": 30,
    "start_time": "2021-09-17T10:35:16.083Z"
   },
   {
    "duration": 4,
    "start_time": "2021-09-17T10:35:16.114Z"
   },
   {
    "duration": 36,
    "start_time": "2021-09-17T10:35:16.119Z"
   },
   {
    "duration": 4,
    "start_time": "2021-09-17T10:35:16.157Z"
   },
   {
    "duration": 9,
    "start_time": "2021-09-17T10:35:16.162Z"
   },
   {
    "duration": 523,
    "start_time": "2021-09-17T10:35:16.172Z"
   },
   {
    "duration": 11,
    "start_time": "2021-09-17T10:35:16.697Z"
   },
   {
    "duration": 263,
    "start_time": "2021-09-17T10:36:01.108Z"
   },
   {
    "duration": 8,
    "start_time": "2021-09-17T10:36:14.861Z"
   },
   {
    "duration": 250,
    "start_time": "2021-09-17T10:36:57.002Z"
   },
   {
    "duration": 276,
    "start_time": "2021-09-17T10:37:05.101Z"
   },
   {
    "duration": 250,
    "start_time": "2021-09-17T10:37:21.357Z"
   },
   {
    "duration": 12,
    "start_time": "2021-09-17T10:37:33.717Z"
   },
   {
    "duration": 13,
    "start_time": "2021-09-17T10:37:48.727Z"
   },
   {
    "duration": 514,
    "start_time": "2021-09-17T10:38:59.375Z"
   },
   {
    "duration": 456,
    "start_time": "2021-09-17T10:39:33.504Z"
   },
   {
    "duration": 443,
    "start_time": "2021-09-17T10:39:50.480Z"
   },
   {
    "duration": 267,
    "start_time": "2021-09-17T11:02:23.284Z"
   },
   {
    "duration": 263,
    "start_time": "2021-09-17T11:02:32.516Z"
   },
   {
    "duration": 460,
    "start_time": "2021-09-17T11:02:44.915Z"
   },
   {
    "duration": 5,
    "start_time": "2021-09-17T11:04:00.608Z"
   },
   {
    "duration": 273,
    "start_time": "2021-09-17T11:04:14.651Z"
   },
   {
    "duration": 5,
    "start_time": "2021-09-17T11:05:57.192Z"
   },
   {
    "duration": 2222,
    "start_time": "2021-09-17T11:06:48.380Z"
   },
   {
    "duration": 3,
    "start_time": "2021-09-17T11:10:25.190Z"
   },
   {
    "duration": 6,
    "start_time": "2021-09-17T11:10:33.179Z"
   },
   {
    "duration": 20,
    "start_time": "2021-09-17T11:10:43.433Z"
   },
   {
    "duration": 21,
    "start_time": "2021-09-17T11:11:52.991Z"
   },
   {
    "duration": 1473,
    "start_time": "2021-09-18T10:35:25.040Z"
   },
   {
    "duration": 63,
    "start_time": "2021-09-18T10:35:26.516Z"
   },
   {
    "duration": 13,
    "start_time": "2021-09-18T10:35:26.582Z"
   },
   {
    "duration": 32,
    "start_time": "2021-09-18T10:35:26.598Z"
   },
   {
    "duration": 29,
    "start_time": "2021-09-18T10:35:26.632Z"
   },
   {
    "duration": 6,
    "start_time": "2021-09-18T10:35:26.664Z"
   },
   {
    "duration": 13,
    "start_time": "2021-09-18T10:35:26.672Z"
   },
   {
    "duration": 20,
    "start_time": "2021-09-18T10:35:26.690Z"
   },
   {
    "duration": 58,
    "start_time": "2021-09-18T10:35:26.713Z"
   },
   {
    "duration": 7,
    "start_time": "2021-09-18T10:35:26.773Z"
   },
   {
    "duration": 11,
    "start_time": "2021-09-18T10:35:26.783Z"
   },
   {
    "duration": 71,
    "start_time": "2021-09-18T10:35:26.797Z"
   },
   {
    "duration": 7,
    "start_time": "2021-09-18T10:35:26.870Z"
   },
   {
    "duration": 13,
    "start_time": "2021-09-18T10:35:26.880Z"
   },
   {
    "duration": 5,
    "start_time": "2021-09-18T10:35:26.895Z"
   },
   {
    "duration": 69,
    "start_time": "2021-09-18T10:35:26.902Z"
   },
   {
    "duration": 5,
    "start_time": "2021-09-18T10:35:26.973Z"
   },
   {
    "duration": 47,
    "start_time": "2021-09-18T10:35:26.980Z"
   },
   {
    "duration": 6,
    "start_time": "2021-09-18T10:35:27.029Z"
   },
   {
    "duration": 20,
    "start_time": "2021-09-18T10:35:27.037Z"
   },
   {
    "duration": 919,
    "start_time": "2021-09-18T10:35:27.059Z"
   },
   {
    "duration": 774,
    "start_time": "2021-09-18T10:35:27.980Z"
   },
   {
    "duration": 7,
    "start_time": "2021-09-18T10:35:28.758Z"
   },
   {
    "duration": 37,
    "start_time": "2021-09-18T10:35:28.767Z"
   },
   {
    "duration": 11,
    "start_time": "2021-09-18T10:36:39.552Z"
   },
   {
    "duration": 7,
    "start_time": "2021-09-18T10:37:15.162Z"
   },
   {
    "duration": 411,
    "start_time": "2021-09-18T10:37:28.574Z"
   },
   {
    "duration": 29,
    "start_time": "2021-09-18T10:38:21.706Z"
   },
   {
    "duration": 15,
    "start_time": "2021-09-18T10:38:38.629Z"
   },
   {
    "duration": 15,
    "start_time": "2021-09-18T10:39:27.792Z"
   },
   {
    "duration": 21,
    "start_time": "2021-09-18T10:40:25.993Z"
   },
   {
    "duration": 20,
    "start_time": "2021-09-18T10:41:41.939Z"
   },
   {
    "duration": 880,
    "start_time": "2021-09-18T10:42:10.748Z"
   },
   {
    "duration": 953,
    "start_time": "2021-09-18T10:42:34.348Z"
   },
   {
    "duration": 22,
    "start_time": "2021-09-18T10:42:49.918Z"
   },
   {
    "duration": 20,
    "start_time": "2021-09-18T10:43:42.354Z"
   },
   {
    "duration": 4,
    "start_time": "2021-09-18T10:43:48.658Z"
   },
   {
    "duration": 68,
    "start_time": "2021-09-18T10:43:48.665Z"
   },
   {
    "duration": 14,
    "start_time": "2021-09-18T10:43:48.755Z"
   },
   {
    "duration": 20,
    "start_time": "2021-09-18T10:43:48.772Z"
   },
   {
    "duration": 18,
    "start_time": "2021-09-18T10:43:48.794Z"
   },
   {
    "duration": 41,
    "start_time": "2021-09-18T10:43:48.815Z"
   },
   {
    "duration": 19,
    "start_time": "2021-09-18T10:43:48.858Z"
   },
   {
    "duration": 31,
    "start_time": "2021-09-18T10:43:48.880Z"
   },
   {
    "duration": 50,
    "start_time": "2021-09-18T10:43:48.915Z"
   },
   {
    "duration": 27,
    "start_time": "2021-09-18T10:43:48.968Z"
   },
   {
    "duration": 9,
    "start_time": "2021-09-18T10:43:48.998Z"
   },
   {
    "duration": 50,
    "start_time": "2021-09-18T10:43:49.009Z"
   },
   {
    "duration": 8,
    "start_time": "2021-09-18T10:43:49.061Z"
   },
   {
    "duration": 27,
    "start_time": "2021-09-18T10:43:49.071Z"
   },
   {
    "duration": 24,
    "start_time": "2021-09-18T10:43:49.100Z"
   },
   {
    "duration": 51,
    "start_time": "2021-09-18T10:43:49.127Z"
   },
   {
    "duration": 7,
    "start_time": "2021-09-18T10:43:49.180Z"
   },
   {
    "duration": 43,
    "start_time": "2021-09-18T10:43:49.190Z"
   },
   {
    "duration": 23,
    "start_time": "2021-09-18T10:43:49.236Z"
   },
   {
    "duration": 8,
    "start_time": "2021-09-18T10:43:49.262Z"
   },
   {
    "duration": 1085,
    "start_time": "2021-09-18T10:43:49.273Z"
   },
   {
    "duration": 795,
    "start_time": "2021-09-18T10:43:50.361Z"
   },
   {
    "duration": 8,
    "start_time": "2021-09-18T10:43:51.160Z"
   },
   {
    "duration": 37,
    "start_time": "2021-09-18T10:43:51.170Z"
   },
   {
    "duration": 54,
    "start_time": "2021-09-18T10:43:51.210Z"
   },
   {
    "duration": 485,
    "start_time": "2021-09-18T10:44:13.695Z"
   },
   {
    "duration": 18,
    "start_time": "2021-09-18T10:44:22.979Z"
   },
   {
    "duration": 4,
    "start_time": "2021-09-18T10:44:28.418Z"
   },
   {
    "duration": 115,
    "start_time": "2021-09-18T10:44:28.426Z"
   },
   {
    "duration": 13,
    "start_time": "2021-09-18T10:44:28.544Z"
   },
   {
    "duration": 20,
    "start_time": "2021-09-18T10:44:28.560Z"
   },
   {
    "duration": 45,
    "start_time": "2021-09-18T10:44:28.583Z"
   },
   {
    "duration": 18,
    "start_time": "2021-09-18T10:44:28.630Z"
   },
   {
    "duration": 23,
    "start_time": "2021-09-18T10:44:28.650Z"
   },
   {
    "duration": 22,
    "start_time": "2021-09-18T10:44:28.675Z"
   },
   {
    "duration": 26,
    "start_time": "2021-09-18T10:44:28.701Z"
   },
   {
    "duration": 29,
    "start_time": "2021-09-18T10:44:28.730Z"
   },
   {
    "duration": 22,
    "start_time": "2021-09-18T10:44:28.761Z"
   },
   {
    "duration": 50,
    "start_time": "2021-09-18T10:44:28.785Z"
   },
   {
    "duration": 21,
    "start_time": "2021-09-18T10:44:28.837Z"
   },
   {
    "duration": 20,
    "start_time": "2021-09-18T10:44:28.860Z"
   },
   {
    "duration": 24,
    "start_time": "2021-09-18T10:44:28.882Z"
   },
   {
    "duration": 59,
    "start_time": "2021-09-18T10:44:28.908Z"
   },
   {
    "duration": 5,
    "start_time": "2021-09-18T10:44:28.969Z"
   },
   {
    "duration": 57,
    "start_time": "2021-09-18T10:44:28.977Z"
   },
   {
    "duration": 17,
    "start_time": "2021-09-18T10:44:29.037Z"
   },
   {
    "duration": 17,
    "start_time": "2021-09-18T10:44:29.057Z"
   },
   {
    "duration": 1495,
    "start_time": "2021-09-18T10:44:29.077Z"
   },
   {
    "duration": 1052,
    "start_time": "2021-09-18T10:44:30.575Z"
   },
   {
    "duration": 7,
    "start_time": "2021-09-18T10:44:31.629Z"
   },
   {
    "duration": 33,
    "start_time": "2021-09-18T10:44:31.653Z"
   },
   {
    "duration": 19,
    "start_time": "2021-09-18T10:44:31.689Z"
   },
   {
    "duration": 20,
    "start_time": "2021-09-18T10:45:13.535Z"
   },
   {
    "duration": 4,
    "start_time": "2021-09-18T10:45:18.289Z"
   },
   {
    "duration": 74,
    "start_time": "2021-09-18T10:45:18.296Z"
   },
   {
    "duration": 13,
    "start_time": "2021-09-18T10:45:18.373Z"
   },
   {
    "duration": 25,
    "start_time": "2021-09-18T10:45:18.389Z"
   },
   {
    "duration": 41,
    "start_time": "2021-09-18T10:45:18.416Z"
   },
   {
    "duration": 7,
    "start_time": "2021-09-18T10:45:18.460Z"
   },
   {
    "duration": 13,
    "start_time": "2021-09-18T10:45:18.469Z"
   },
   {
    "duration": 22,
    "start_time": "2021-09-18T10:45:18.484Z"
   },
   {
    "duration": 63,
    "start_time": "2021-09-18T10:45:18.510Z"
   },
   {
    "duration": 24,
    "start_time": "2021-09-18T10:45:18.575Z"
   },
   {
    "duration": 28,
    "start_time": "2021-09-18T10:45:18.601Z"
   },
   {
    "duration": 54,
    "start_time": "2021-09-18T10:45:18.631Z"
   },
   {
    "duration": 6,
    "start_time": "2021-09-18T10:45:18.688Z"
   },
   {
    "duration": 21,
    "start_time": "2021-09-18T10:45:18.696Z"
   },
   {
    "duration": 18,
    "start_time": "2021-09-18T10:45:18.719Z"
   },
   {
    "duration": 50,
    "start_time": "2021-09-18T10:45:18.739Z"
   },
   {
    "duration": 5,
    "start_time": "2021-09-18T10:45:18.791Z"
   },
   {
    "duration": 61,
    "start_time": "2021-09-18T10:45:18.799Z"
   },
   {
    "duration": 6,
    "start_time": "2021-09-18T10:45:18.863Z"
   },
   {
    "duration": 15,
    "start_time": "2021-09-18T10:45:18.871Z"
   },
   {
    "duration": 998,
    "start_time": "2021-09-18T10:45:18.888Z"
   },
   {
    "duration": 821,
    "start_time": "2021-09-18T10:45:19.888Z"
   },
   {
    "duration": 6,
    "start_time": "2021-09-18T10:45:20.711Z"
   },
   {
    "duration": 53,
    "start_time": "2021-09-18T10:45:20.720Z"
   },
   {
    "duration": 18,
    "start_time": "2021-09-18T10:45:20.775Z"
   },
   {
    "duration": 23,
    "start_time": "2021-09-18T10:45:45.519Z"
   },
   {
    "duration": 19,
    "start_time": "2021-09-18T10:45:52.008Z"
   },
   {
    "duration": 4,
    "start_time": "2021-09-18T10:46:00.395Z"
   },
   {
    "duration": 81,
    "start_time": "2021-09-18T10:46:00.402Z"
   },
   {
    "duration": 14,
    "start_time": "2021-09-18T10:46:00.486Z"
   },
   {
    "duration": 39,
    "start_time": "2021-09-18T10:46:00.503Z"
   },
   {
    "duration": 27,
    "start_time": "2021-09-18T10:46:00.554Z"
   },
   {
    "duration": 27,
    "start_time": "2021-09-18T10:46:00.584Z"
   },
   {
    "duration": 46,
    "start_time": "2021-09-18T10:46:00.614Z"
   },
   {
    "duration": 47,
    "start_time": "2021-09-18T10:46:00.665Z"
   },
   {
    "duration": 41,
    "start_time": "2021-09-18T10:46:00.716Z"
   },
   {
    "duration": 50,
    "start_time": "2021-09-18T10:46:00.760Z"
   },
   {
    "duration": 35,
    "start_time": "2021-09-18T10:46:00.814Z"
   },
   {
    "duration": 89,
    "start_time": "2021-09-18T10:46:00.852Z"
   },
   {
    "duration": 10,
    "start_time": "2021-09-18T10:46:00.945Z"
   },
   {
    "duration": 39,
    "start_time": "2021-09-18T10:46:00.958Z"
   },
   {
    "duration": 26,
    "start_time": "2021-09-18T10:46:01.000Z"
   },
   {
    "duration": 78,
    "start_time": "2021-09-18T10:46:01.028Z"
   },
   {
    "duration": 9,
    "start_time": "2021-09-18T10:46:01.109Z"
   },
   {
    "duration": 92,
    "start_time": "2021-09-18T10:46:01.120Z"
   },
   {
    "duration": 6,
    "start_time": "2021-09-18T10:46:01.215Z"
   },
   {
    "duration": 43,
    "start_time": "2021-09-18T10:46:01.223Z"
   },
   {
    "duration": 948,
    "start_time": "2021-09-18T10:46:01.269Z"
   },
   {
    "duration": 903,
    "start_time": "2021-09-18T10:46:02.221Z"
   },
   {
    "duration": 7,
    "start_time": "2021-09-18T10:46:03.130Z"
   },
   {
    "duration": 37,
    "start_time": "2021-09-18T10:46:03.155Z"
   },
   {
    "duration": 21,
    "start_time": "2021-09-18T10:46:03.195Z"
   },
   {
    "duration": 23,
    "start_time": "2021-09-18T10:46:39.864Z"
   },
   {
    "duration": 5,
    "start_time": "2021-09-18T10:46:41.941Z"
   },
   {
    "duration": 119,
    "start_time": "2021-09-18T10:46:41.949Z"
   },
   {
    "duration": 22,
    "start_time": "2021-09-18T10:46:42.073Z"
   },
   {
    "duration": 20,
    "start_time": "2021-09-18T10:46:42.100Z"
   },
   {
    "duration": 49,
    "start_time": "2021-09-18T10:46:42.123Z"
   },
   {
    "duration": 34,
    "start_time": "2021-09-18T10:46:42.175Z"
   },
   {
    "duration": 32,
    "start_time": "2021-09-18T10:46:42.212Z"
   },
   {
    "duration": 29,
    "start_time": "2021-09-18T10:46:42.248Z"
   },
   {
    "duration": 26,
    "start_time": "2021-09-18T10:46:42.281Z"
   },
   {
    "duration": 11,
    "start_time": "2021-09-18T10:46:42.311Z"
   },
   {
    "duration": 44,
    "start_time": "2021-09-18T10:46:42.325Z"
   },
   {
    "duration": 82,
    "start_time": "2021-09-18T10:46:42.372Z"
   },
   {
    "duration": 10,
    "start_time": "2021-09-18T10:46:42.457Z"
   },
   {
    "duration": 12,
    "start_time": "2021-09-18T10:46:42.469Z"
   },
   {
    "duration": 5,
    "start_time": "2021-09-18T10:46:42.484Z"
   },
   {
    "duration": 73,
    "start_time": "2021-09-18T10:46:42.491Z"
   },
   {
    "duration": 5,
    "start_time": "2021-09-18T10:46:42.566Z"
   },
   {
    "duration": 48,
    "start_time": "2021-09-18T10:46:42.574Z"
   },
   {
    "duration": 31,
    "start_time": "2021-09-18T10:46:42.625Z"
   },
   {
    "duration": 8,
    "start_time": "2021-09-18T10:46:42.659Z"
   },
   {
    "duration": 1060,
    "start_time": "2021-09-18T10:46:42.670Z"
   },
   {
    "duration": 800,
    "start_time": "2021-09-18T10:46:43.732Z"
   },
   {
    "duration": 18,
    "start_time": "2021-09-18T10:46:44.536Z"
   },
   {
    "duration": 37,
    "start_time": "2021-09-18T10:46:44.557Z"
   },
   {
    "duration": 20,
    "start_time": "2021-09-18T10:46:44.597Z"
   },
   {
    "duration": 20,
    "start_time": "2021-09-18T10:46:58.902Z"
   },
   {
    "duration": 5,
    "start_time": "2021-09-18T10:47:01.395Z"
   },
   {
    "duration": 85,
    "start_time": "2021-09-18T10:47:01.404Z"
   },
   {
    "duration": 13,
    "start_time": "2021-09-18T10:47:01.492Z"
   },
   {
    "duration": 44,
    "start_time": "2021-09-18T10:47:01.508Z"
   },
   {
    "duration": 21,
    "start_time": "2021-09-18T10:47:01.555Z"
   },
   {
    "duration": 8,
    "start_time": "2021-09-18T10:47:01.579Z"
   },
   {
    "duration": 27,
    "start_time": "2021-09-18T10:47:01.589Z"
   },
   {
    "duration": 37,
    "start_time": "2021-09-18T10:47:01.619Z"
   },
   {
    "duration": 24,
    "start_time": "2021-09-18T10:47:01.660Z"
   },
   {
    "duration": 12,
    "start_time": "2021-09-18T10:47:01.688Z"
   },
   {
    "duration": 26,
    "start_time": "2021-09-18T10:47:01.703Z"
   },
   {
    "duration": 54,
    "start_time": "2021-09-18T10:47:01.732Z"
   },
   {
    "duration": 25,
    "start_time": "2021-09-18T10:47:01.789Z"
   },
   {
    "duration": 26,
    "start_time": "2021-09-18T10:47:01.817Z"
   },
   {
    "duration": 31,
    "start_time": "2021-09-18T10:47:01.846Z"
   },
   {
    "duration": 64,
    "start_time": "2021-09-18T10:47:01.879Z"
   },
   {
    "duration": 6,
    "start_time": "2021-09-18T10:47:01.945Z"
   },
   {
    "duration": 56,
    "start_time": "2021-09-18T10:47:01.953Z"
   },
   {
    "duration": 5,
    "start_time": "2021-09-18T10:47:02.011Z"
   },
   {
    "duration": 33,
    "start_time": "2021-09-18T10:47:02.019Z"
   },
   {
    "duration": 942,
    "start_time": "2021-09-18T10:47:02.054Z"
   },
   {
    "duration": 796,
    "start_time": "2021-09-18T10:47:02.998Z"
   },
   {
    "duration": 7,
    "start_time": "2021-09-18T10:47:03.796Z"
   },
   {
    "duration": 72,
    "start_time": "2021-09-18T10:47:03.805Z"
   },
   {
    "duration": 26,
    "start_time": "2021-09-18T10:47:03.880Z"
   },
   {
    "duration": 293,
    "start_time": "2021-09-18T10:48:12.884Z"
   },
   {
    "duration": 23,
    "start_time": "2021-09-18T10:49:10.083Z"
   },
   {
    "duration": 6,
    "start_time": "2021-09-18T10:49:12.961Z"
   },
   {
    "duration": 75,
    "start_time": "2021-09-18T10:49:12.970Z"
   },
   {
    "duration": 14,
    "start_time": "2021-09-18T10:49:13.048Z"
   },
   {
    "duration": 30,
    "start_time": "2021-09-18T10:49:13.065Z"
   },
   {
    "duration": 30,
    "start_time": "2021-09-18T10:49:13.098Z"
   },
   {
    "duration": 23,
    "start_time": "2021-09-18T10:49:13.130Z"
   },
   {
    "duration": 18,
    "start_time": "2021-09-18T10:49:13.156Z"
   },
   {
    "duration": 24,
    "start_time": "2021-09-18T10:49:13.177Z"
   },
   {
    "duration": 52,
    "start_time": "2021-09-18T10:49:13.207Z"
   },
   {
    "duration": 10,
    "start_time": "2021-09-18T10:49:13.262Z"
   },
   {
    "duration": 23,
    "start_time": "2021-09-18T10:49:13.275Z"
   },
   {
    "duration": 70,
    "start_time": "2021-09-18T10:49:13.301Z"
   },
   {
    "duration": 7,
    "start_time": "2021-09-18T10:49:13.374Z"
   },
   {
    "duration": 17,
    "start_time": "2021-09-18T10:49:13.384Z"
   },
   {
    "duration": 17,
    "start_time": "2021-09-18T10:49:13.403Z"
   },
   {
    "duration": 51,
    "start_time": "2021-09-18T10:49:13.422Z"
   },
   {
    "duration": 5,
    "start_time": "2021-09-18T10:49:13.475Z"
   },
   {
    "duration": 56,
    "start_time": "2021-09-18T10:49:13.483Z"
   },
   {
    "duration": 13,
    "start_time": "2021-09-18T10:49:13.541Z"
   },
   {
    "duration": 11,
    "start_time": "2021-09-18T10:49:13.556Z"
   },
   {
    "duration": 930,
    "start_time": "2021-09-18T10:49:13.569Z"
   },
   {
    "duration": 935,
    "start_time": "2021-09-18T10:49:14.501Z"
   },
   {
    "duration": 17,
    "start_time": "2021-09-18T10:49:15.438Z"
   },
   {
    "duration": 35,
    "start_time": "2021-09-18T10:49:15.458Z"
   },
   {
    "duration": 23,
    "start_time": "2021-09-18T10:49:15.496Z"
   },
   {
    "duration": 255,
    "start_time": "2021-09-18T11:24:11.441Z"
   },
   {
    "duration": 47,
    "start_time": "2021-09-18T11:24:34.575Z"
   },
   {
    "duration": 19,
    "start_time": "2021-09-18T11:26:23.862Z"
   },
   {
    "duration": 7,
    "start_time": "2021-09-18T11:27:29.019Z"
   },
   {
    "duration": 6,
    "start_time": "2021-09-18T11:27:36.945Z"
   },
   {
    "duration": 5,
    "start_time": "2021-09-18T11:27:44.587Z"
   },
   {
    "duration": 5,
    "start_time": "2021-09-18T11:27:50.071Z"
   },
   {
    "duration": 81,
    "start_time": "2021-09-18T11:27:50.078Z"
   },
   {
    "duration": 14,
    "start_time": "2021-09-18T11:27:50.162Z"
   },
   {
    "duration": 19,
    "start_time": "2021-09-18T11:27:50.179Z"
   },
   {
    "duration": 15,
    "start_time": "2021-09-18T11:27:50.200Z"
   },
   {
    "duration": 8,
    "start_time": "2021-09-18T11:27:50.253Z"
   },
   {
    "duration": 12,
    "start_time": "2021-09-18T11:27:50.264Z"
   },
   {
    "duration": 21,
    "start_time": "2021-09-18T11:27:50.280Z"
   },
   {
    "duration": 64,
    "start_time": "2021-09-18T11:27:50.304Z"
   },
   {
    "duration": 15,
    "start_time": "2021-09-18T11:27:50.372Z"
   },
   {
    "duration": 11,
    "start_time": "2021-09-18T11:27:50.389Z"
   },
   {
    "duration": 72,
    "start_time": "2021-09-18T11:27:50.403Z"
   },
   {
    "duration": 7,
    "start_time": "2021-09-18T11:27:50.478Z"
   },
   {
    "duration": 9,
    "start_time": "2021-09-18T11:27:50.487Z"
   },
   {
    "duration": 14,
    "start_time": "2021-09-18T11:27:50.499Z"
   },
   {
    "duration": 70,
    "start_time": "2021-09-18T11:27:50.515Z"
   },
   {
    "duration": 6,
    "start_time": "2021-09-18T11:27:50.587Z"
   },
   {
    "duration": 59,
    "start_time": "2021-09-18T11:27:50.595Z"
   },
   {
    "duration": 6,
    "start_time": "2021-09-18T11:27:50.657Z"
   },
   {
    "duration": 23,
    "start_time": "2021-09-18T11:27:50.665Z"
   },
   {
    "duration": 21,
    "start_time": "2021-09-18T11:27:50.691Z"
   },
   {
    "duration": 977,
    "start_time": "2021-09-18T11:27:50.715Z"
   },
   {
    "duration": 834,
    "start_time": "2021-09-18T11:27:51.696Z"
   },
   {
    "duration": 23,
    "start_time": "2021-09-18T11:27:52.534Z"
   },
   {
    "duration": 35,
    "start_time": "2021-09-18T11:27:52.561Z"
   },
   {
    "duration": 108,
    "start_time": "2021-09-18T11:27:52.599Z"
   },
   {
    "duration": 278,
    "start_time": "2021-09-18T11:29:12.311Z"
   },
   {
    "duration": 380,
    "start_time": "2021-09-18T11:29:47.005Z"
   },
   {
    "duration": 275,
    "start_time": "2021-09-18T11:30:08.285Z"
   },
   {
    "duration": 9666,
    "start_time": "2021-09-18T11:30:28.952Z"
   },
   {
    "duration": 7644,
    "start_time": "2021-09-18T11:31:15.304Z"
   },
   {
    "duration": 6,
    "start_time": "2021-09-18T11:31:37.304Z"
   },
   {
    "duration": 75,
    "start_time": "2021-09-18T11:31:37.314Z"
   },
   {
    "duration": 17,
    "start_time": "2021-09-18T11:31:37.394Z"
   },
   {
    "duration": 47,
    "start_time": "2021-09-18T11:31:37.415Z"
   },
   {
    "duration": 17,
    "start_time": "2021-09-18T11:31:37.466Z"
   },
   {
    "duration": 20,
    "start_time": "2021-09-18T11:31:37.486Z"
   },
   {
    "duration": 47,
    "start_time": "2021-09-18T11:31:37.509Z"
   },
   {
    "duration": 23,
    "start_time": "2021-09-18T11:31:37.561Z"
   },
   {
    "duration": 48,
    "start_time": "2021-09-18T11:31:37.588Z"
   },
   {
    "duration": 9,
    "start_time": "2021-09-18T11:31:37.655Z"
   },
   {
    "duration": 12,
    "start_time": "2021-09-18T11:31:37.666Z"
   },
   {
    "duration": 103,
    "start_time": "2021-09-18T11:31:37.682Z"
   },
   {
    "duration": 10,
    "start_time": "2021-09-18T11:31:37.788Z"
   },
   {
    "duration": 14,
    "start_time": "2021-09-18T11:31:37.801Z"
   },
   {
    "duration": 9,
    "start_time": "2021-09-18T11:31:37.819Z"
   },
   {
    "duration": 74,
    "start_time": "2021-09-18T11:31:37.830Z"
   },
   {
    "duration": 7,
    "start_time": "2021-09-18T11:31:37.908Z"
   },
   {
    "duration": 60,
    "start_time": "2021-09-18T11:31:37.919Z"
   },
   {
    "duration": 9,
    "start_time": "2021-09-18T11:31:37.982Z"
   },
   {
    "duration": 10,
    "start_time": "2021-09-18T11:31:37.994Z"
   },
   {
    "duration": 9,
    "start_time": "2021-09-18T11:31:38.007Z"
   },
   {
    "duration": 1423,
    "start_time": "2021-09-18T11:31:38.055Z"
   },
   {
    "duration": 1381,
    "start_time": "2021-09-18T11:31:39.484Z"
   },
   {
    "duration": 9,
    "start_time": "2021-09-18T11:31:40.869Z"
   },
   {
    "duration": 78,
    "start_time": "2021-09-18T11:31:40.881Z"
   },
   {
    "duration": 67,
    "start_time": "2021-09-18T11:31:40.962Z"
   },
   {
    "duration": 31,
    "start_time": "2021-09-18T11:31:52.717Z"
   },
   {
    "duration": 6,
    "start_time": "2021-09-18T11:32:04.625Z"
   },
   {
    "duration": 122,
    "start_time": "2021-09-18T11:32:04.635Z"
   },
   {
    "duration": 22,
    "start_time": "2021-09-18T11:32:04.761Z"
   },
   {
    "duration": 23,
    "start_time": "2021-09-18T11:32:04.786Z"
   },
   {
    "duration": 51,
    "start_time": "2021-09-18T11:32:04.812Z"
   },
   {
    "duration": 10,
    "start_time": "2021-09-18T11:32:04.866Z"
   },
   {
    "duration": 28,
    "start_time": "2021-09-18T11:32:04.879Z"
   },
   {
    "duration": 56,
    "start_time": "2021-09-18T11:32:04.910Z"
   },
   {
    "duration": 33,
    "start_time": "2021-09-18T11:32:04.970Z"
   },
   {
    "duration": 9,
    "start_time": "2021-09-18T11:32:05.008Z"
   },
   {
    "duration": 50,
    "start_time": "2021-09-18T11:32:05.020Z"
   },
   {
    "duration": 50,
    "start_time": "2021-09-18T11:32:05.073Z"
   },
   {
    "duration": 14,
    "start_time": "2021-09-18T11:32:05.126Z"
   },
   {
    "duration": 14,
    "start_time": "2021-09-18T11:32:05.144Z"
   },
   {
    "duration": 10,
    "start_time": "2021-09-18T11:32:05.162Z"
   },
   {
    "duration": 80,
    "start_time": "2021-09-18T11:32:05.175Z"
   },
   {
    "duration": 7,
    "start_time": "2021-09-18T11:32:05.258Z"
   },
   {
    "duration": 62,
    "start_time": "2021-09-18T11:32:05.269Z"
   },
   {
    "duration": 26,
    "start_time": "2021-09-18T11:32:05.335Z"
   },
   {
    "duration": 16,
    "start_time": "2021-09-18T11:32:05.364Z"
   },
   {
    "duration": 27,
    "start_time": "2021-09-18T11:32:05.383Z"
   },
   {
    "duration": 1054,
    "start_time": "2021-09-18T11:32:05.413Z"
   },
   {
    "duration": 1558,
    "start_time": "2021-09-18T11:32:06.470Z"
   },
   {
    "duration": 25,
    "start_time": "2021-09-18T11:32:08.031Z"
   },
   {
    "duration": 48,
    "start_time": "2021-09-18T11:32:08.059Z"
   },
   {
    "duration": 58,
    "start_time": "2021-09-18T11:32:08.110Z"
   },
   {
    "duration": 82,
    "start_time": "2021-09-18T11:33:13.088Z"
   },
   {
    "duration": 46,
    "start_time": "2021-09-18T11:33:39.320Z"
   },
   {
    "duration": 21,
    "start_time": "2021-09-18T11:34:12.637Z"
   },
   {
    "duration": 46,
    "start_time": "2021-09-18T11:34:17.778Z"
   },
   {
    "duration": 275,
    "start_time": "2021-09-18T11:34:45.169Z"
   },
   {
    "duration": 284,
    "start_time": "2021-09-18T11:36:26.006Z"
   },
   {
    "duration": 4,
    "start_time": "2021-09-18T11:36:40.623Z"
   },
   {
    "duration": 70,
    "start_time": "2021-09-18T11:36:40.630Z"
   },
   {
    "duration": 13,
    "start_time": "2021-09-18T11:36:40.703Z"
   },
   {
    "duration": 40,
    "start_time": "2021-09-18T11:36:40.719Z"
   },
   {
    "duration": 12,
    "start_time": "2021-09-18T11:36:40.762Z"
   },
   {
    "duration": 8,
    "start_time": "2021-09-18T11:36:40.776Z"
   },
   {
    "duration": 16,
    "start_time": "2021-09-18T11:36:40.787Z"
   },
   {
    "duration": 52,
    "start_time": "2021-09-18T11:36:40.806Z"
   },
   {
    "duration": 26,
    "start_time": "2021-09-18T11:36:40.863Z"
   },
   {
    "duration": 12,
    "start_time": "2021-09-18T11:36:40.893Z"
   },
   {
    "duration": 22,
    "start_time": "2021-09-18T11:36:40.908Z"
   },
   {
    "duration": 43,
    "start_time": "2021-09-18T11:36:40.955Z"
   },
   {
    "duration": 9,
    "start_time": "2021-09-18T11:36:41.001Z"
   },
   {
    "duration": 41,
    "start_time": "2021-09-18T11:36:41.013Z"
   },
   {
    "duration": 10,
    "start_time": "2021-09-18T11:36:41.057Z"
   },
   {
    "duration": 42,
    "start_time": "2021-09-18T11:36:41.070Z"
   },
   {
    "duration": 6,
    "start_time": "2021-09-18T11:36:41.115Z"
   },
   {
    "duration": 67,
    "start_time": "2021-09-18T11:36:41.124Z"
   },
   {
    "duration": 8,
    "start_time": "2021-09-18T11:36:41.194Z"
   },
   {
    "duration": 20,
    "start_time": "2021-09-18T11:36:41.205Z"
   },
   {
    "duration": 28,
    "start_time": "2021-09-18T11:36:41.228Z"
   },
   {
    "duration": 958,
    "start_time": "2021-09-18T11:36:41.260Z"
   },
   {
    "duration": 933,
    "start_time": "2021-09-18T11:36:42.221Z"
   },
   {
    "duration": 8,
    "start_time": "2021-09-18T11:36:43.156Z"
   },
   {
    "duration": 54,
    "start_time": "2021-09-18T11:36:43.167Z"
   },
   {
    "duration": 57,
    "start_time": "2021-09-18T11:36:43.224Z"
   },
   {
    "duration": 258,
    "start_time": "2021-09-18T11:36:43.285Z"
   },
   {
    "duration": 48,
    "start_time": "2021-09-18T11:37:11.781Z"
   },
   {
    "duration": 4,
    "start_time": "2021-09-18T11:37:42.362Z"
   },
   {
    "duration": 82,
    "start_time": "2021-09-18T11:37:42.369Z"
   },
   {
    "duration": 13,
    "start_time": "2021-09-18T11:37:42.454Z"
   },
   {
    "duration": 29,
    "start_time": "2021-09-18T11:37:42.470Z"
   },
   {
    "duration": 31,
    "start_time": "2021-09-18T11:37:42.501Z"
   },
   {
    "duration": 23,
    "start_time": "2021-09-18T11:37:42.535Z"
   },
   {
    "duration": 38,
    "start_time": "2021-09-18T11:37:42.561Z"
   },
   {
    "duration": 39,
    "start_time": "2021-09-18T11:37:42.604Z"
   },
   {
    "duration": 30,
    "start_time": "2021-09-18T11:37:42.647Z"
   },
   {
    "duration": 11,
    "start_time": "2021-09-18T11:37:42.682Z"
   },
   {
    "duration": 36,
    "start_time": "2021-09-18T11:37:42.696Z"
   },
   {
    "duration": 57,
    "start_time": "2021-09-18T11:37:42.735Z"
   },
   {
    "duration": 22,
    "start_time": "2021-09-18T11:37:42.794Z"
   },
   {
    "duration": 30,
    "start_time": "2021-09-18T11:37:42.819Z"
   },
   {
    "duration": 25,
    "start_time": "2021-09-18T11:37:42.852Z"
   },
   {
    "duration": 61,
    "start_time": "2021-09-18T11:37:42.879Z"
   },
   {
    "duration": 4,
    "start_time": "2021-09-18T11:37:42.943Z"
   },
   {
    "duration": 51,
    "start_time": "2021-09-18T11:37:42.950Z"
   },
   {
    "duration": 5,
    "start_time": "2021-09-18T11:37:43.003Z"
   },
   {
    "duration": 39,
    "start_time": "2021-09-18T11:37:43.011Z"
   },
   {
    "duration": 25,
    "start_time": "2021-09-18T11:37:43.052Z"
   },
   {
    "duration": 926,
    "start_time": "2021-09-18T11:37:43.079Z"
   },
   {
    "duration": 796,
    "start_time": "2021-09-18T11:37:44.010Z"
   },
   {
    "duration": 8,
    "start_time": "2021-09-18T11:37:44.808Z"
   },
   {
    "duration": 57,
    "start_time": "2021-09-18T11:37:44.819Z"
   },
   {
    "duration": 21,
    "start_time": "2021-09-18T11:37:44.878Z"
   },
   {
    "duration": 48,
    "start_time": "2021-09-18T11:37:53.298Z"
   },
   {
    "duration": 5,
    "start_time": "2021-09-18T11:39:12.788Z"
   },
   {
    "duration": 83,
    "start_time": "2021-09-18T11:39:12.796Z"
   },
   {
    "duration": 13,
    "start_time": "2021-09-18T11:39:12.882Z"
   },
   {
    "duration": 42,
    "start_time": "2021-09-18T11:39:12.898Z"
   },
   {
    "duration": 48,
    "start_time": "2021-09-18T11:39:12.943Z"
   },
   {
    "duration": 28,
    "start_time": "2021-09-18T11:39:12.993Z"
   },
   {
    "duration": 47,
    "start_time": "2021-09-18T11:39:13.023Z"
   },
   {
    "duration": 36,
    "start_time": "2021-09-18T11:39:13.073Z"
   },
   {
    "duration": 26,
    "start_time": "2021-09-18T11:39:13.115Z"
   },
   {
    "duration": 22,
    "start_time": "2021-09-18T11:39:13.145Z"
   },
   {
    "duration": 25,
    "start_time": "2021-09-18T11:39:13.171Z"
   },
   {
    "duration": 60,
    "start_time": "2021-09-18T11:39:13.199Z"
   },
   {
    "duration": 15,
    "start_time": "2021-09-18T11:39:13.261Z"
   },
   {
    "duration": 27,
    "start_time": "2021-09-18T11:39:13.279Z"
   },
   {
    "duration": 26,
    "start_time": "2021-09-18T11:39:13.309Z"
   },
   {
    "duration": 78,
    "start_time": "2021-09-18T11:39:13.338Z"
   },
   {
    "duration": 7,
    "start_time": "2021-09-18T11:39:13.419Z"
   },
   {
    "duration": 80,
    "start_time": "2021-09-18T11:39:13.429Z"
   },
   {
    "duration": 7,
    "start_time": "2021-09-18T11:39:13.513Z"
   },
   {
    "duration": 21,
    "start_time": "2021-09-18T11:39:13.523Z"
   },
   {
    "duration": 29,
    "start_time": "2021-09-18T11:39:13.546Z"
   },
   {
    "duration": 970,
    "start_time": "2021-09-18T11:39:13.578Z"
   },
   {
    "duration": 854,
    "start_time": "2021-09-18T11:39:14.554Z"
   },
   {
    "duration": 7,
    "start_time": "2021-09-18T11:39:15.411Z"
   },
   {
    "duration": 58,
    "start_time": "2021-09-18T11:39:15.420Z"
   },
   {
    "duration": 1499,
    "start_time": "2021-09-18T11:39:15.481Z"
   },
   {
    "duration": 72,
    "start_time": "2021-09-18T11:39:43.957Z"
   },
   {
    "duration": 389,
    "start_time": "2021-09-18T11:40:52.124Z"
   },
   {
    "duration": 291,
    "start_time": "2021-09-18T11:41:02.635Z"
   },
   {
    "duration": 1448,
    "start_time": "2021-09-18T11:42:58.853Z"
   },
   {
    "duration": 4,
    "start_time": "2021-09-18T11:44:08.116Z"
   },
   {
    "duration": 75,
    "start_time": "2021-09-18T11:44:08.123Z"
   },
   {
    "duration": 14,
    "start_time": "2021-09-18T11:44:08.201Z"
   },
   {
    "duration": 43,
    "start_time": "2021-09-18T11:44:08.217Z"
   },
   {
    "duration": 17,
    "start_time": "2021-09-18T11:44:08.263Z"
   },
   {
    "duration": 8,
    "start_time": "2021-09-18T11:44:08.283Z"
   },
   {
    "duration": 19,
    "start_time": "2021-09-18T11:44:08.294Z"
   },
   {
    "duration": 44,
    "start_time": "2021-09-18T11:44:08.315Z"
   },
   {
    "duration": 24,
    "start_time": "2021-09-18T11:44:08.363Z"
   },
   {
    "duration": 23,
    "start_time": "2021-09-18T11:44:08.390Z"
   },
   {
    "duration": 19,
    "start_time": "2021-09-18T11:44:08.415Z"
   },
   {
    "duration": 49,
    "start_time": "2021-09-18T11:44:08.437Z"
   },
   {
    "duration": 8,
    "start_time": "2021-09-18T11:44:08.488Z"
   },
   {
    "duration": 19,
    "start_time": "2021-09-18T11:44:08.498Z"
   },
   {
    "duration": 13,
    "start_time": "2021-09-18T11:44:08.519Z"
   },
   {
    "duration": 53,
    "start_time": "2021-09-18T11:44:08.535Z"
   },
   {
    "duration": 6,
    "start_time": "2021-09-18T11:44:08.590Z"
   },
   {
    "duration": 59,
    "start_time": "2021-09-18T11:44:08.598Z"
   },
   {
    "duration": 6,
    "start_time": "2021-09-18T11:44:08.660Z"
   },
   {
    "duration": 27,
    "start_time": "2021-09-18T11:44:08.668Z"
   },
   {
    "duration": 22,
    "start_time": "2021-09-18T11:44:08.697Z"
   },
   {
    "duration": 1065,
    "start_time": "2021-09-18T11:44:08.721Z"
   },
   {
    "duration": 1015,
    "start_time": "2021-09-18T11:44:09.788Z"
   },
   {
    "duration": 6,
    "start_time": "2021-09-18T11:44:10.806Z"
   },
   {
    "duration": 57,
    "start_time": "2021-09-18T11:44:10.815Z"
   },
   {
    "duration": 39,
    "start_time": "2021-09-18T11:44:10.875Z"
   },
   {
    "duration": 1059,
    "start_time": "2021-09-18T11:44:10.919Z"
   },
   {
    "duration": 764,
    "start_time": "2021-09-18T11:45:11.744Z"
   },
   {
    "duration": 7399,
    "start_time": "2021-09-18T11:48:09.473Z"
   },
   {
    "duration": 283,
    "start_time": "2021-09-18T11:59:23.695Z"
   },
   {
    "duration": 315,
    "start_time": "2021-09-18T12:00:15.684Z"
   },
   {
    "duration": 1022,
    "start_time": "2021-09-18T12:00:30.509Z"
   },
   {
    "duration": 254,
    "start_time": "2021-09-18T12:04:04.568Z"
   },
   {
    "duration": 572,
    "start_time": "2021-09-18T12:04:09.437Z"
   },
   {
    "duration": 7176,
    "start_time": "2021-09-18T12:04:55.326Z"
   },
   {
    "duration": 1262,
    "start_time": "2021-09-18T12:06:06.795Z"
   },
   {
    "duration": 505,
    "start_time": "2021-09-18T12:06:24.815Z"
   },
   {
    "duration": 546,
    "start_time": "2021-09-18T12:06:37.945Z"
   },
   {
    "duration": 488,
    "start_time": "2021-09-18T12:07:08.069Z"
   },
   {
    "duration": 516,
    "start_time": "2021-09-18T12:07:11.869Z"
   },
   {
    "duration": 526,
    "start_time": "2021-09-18T12:07:35.232Z"
   },
   {
    "duration": 7885,
    "start_time": "2021-09-18T12:17:23.490Z"
   },
   {
    "duration": 6679,
    "start_time": "2021-09-18T12:17:47.928Z"
   },
   {
    "duration": 1198,
    "start_time": "2021-09-18T12:18:59.908Z"
   },
   {
    "duration": 293,
    "start_time": "2021-09-18T12:19:59.897Z"
   },
   {
    "duration": 37,
    "start_time": "2021-09-18T12:20:33.290Z"
   },
   {
    "duration": 29,
    "start_time": "2021-09-18T12:20:48.095Z"
   },
   {
    "duration": 5,
    "start_time": "2021-09-18T12:21:11.964Z"
   },
   {
    "duration": 1136,
    "start_time": "2021-09-18T12:21:13.761Z"
   },
   {
    "duration": 977,
    "start_time": "2021-09-18T12:21:46.438Z"
   },
   {
    "duration": 25,
    "start_time": "2021-09-18T12:22:16.996Z"
   },
   {
    "duration": 5,
    "start_time": "2021-09-18T12:22:22.320Z"
   },
   {
    "duration": 97,
    "start_time": "2021-09-18T12:22:22.328Z"
   },
   {
    "duration": 32,
    "start_time": "2021-09-18T12:22:22.429Z"
   },
   {
    "duration": 27,
    "start_time": "2021-09-18T12:22:22.465Z"
   },
   {
    "duration": 27,
    "start_time": "2021-09-18T12:22:22.495Z"
   },
   {
    "duration": 34,
    "start_time": "2021-09-18T12:22:22.525Z"
   },
   {
    "duration": 42,
    "start_time": "2021-09-18T12:22:22.563Z"
   },
   {
    "duration": 32,
    "start_time": "2021-09-18T12:22:22.611Z"
   },
   {
    "duration": 37,
    "start_time": "2021-09-18T12:22:22.647Z"
   },
   {
    "duration": 14,
    "start_time": "2021-09-18T12:22:22.687Z"
   },
   {
    "duration": 21,
    "start_time": "2021-09-18T12:22:22.704Z"
   },
   {
    "duration": 88,
    "start_time": "2021-09-18T12:22:22.728Z"
   },
   {
    "duration": 9,
    "start_time": "2021-09-18T12:22:22.819Z"
   },
   {
    "duration": 27,
    "start_time": "2021-09-18T12:22:22.831Z"
   },
   {
    "duration": 18,
    "start_time": "2021-09-18T12:22:22.861Z"
   },
   {
    "duration": 76,
    "start_time": "2021-09-18T12:22:22.882Z"
   },
   {
    "duration": 7,
    "start_time": "2021-09-18T12:22:22.961Z"
   },
   {
    "duration": 77,
    "start_time": "2021-09-18T12:22:22.971Z"
   },
   {
    "duration": 8,
    "start_time": "2021-09-18T12:22:23.051Z"
   },
   {
    "duration": 28,
    "start_time": "2021-09-18T12:22:23.062Z"
   },
   {
    "duration": 22,
    "start_time": "2021-09-18T12:22:23.093Z"
   },
   {
    "duration": 1080,
    "start_time": "2021-09-18T12:22:23.118Z"
   },
   {
    "duration": 823,
    "start_time": "2021-09-18T12:22:24.202Z"
   },
   {
    "duration": 7,
    "start_time": "2021-09-18T12:22:25.027Z"
   },
   {
    "duration": 56,
    "start_time": "2021-09-18T12:22:25.036Z"
   },
   {
    "duration": 40,
    "start_time": "2021-09-18T12:22:25.094Z"
   },
   {
    "duration": 38,
    "start_time": "2021-09-18T12:22:25.136Z"
   },
   {
    "duration": 1088,
    "start_time": "2021-09-18T12:22:25.177Z"
   },
   {
    "duration": 5,
    "start_time": "2021-09-18T12:25:07.025Z"
   },
   {
    "duration": 80,
    "start_time": "2021-09-18T12:25:07.033Z"
   },
   {
    "duration": 16,
    "start_time": "2021-09-18T12:25:07.118Z"
   },
   {
    "duration": 21,
    "start_time": "2021-09-18T12:25:07.153Z"
   },
   {
    "duration": 17,
    "start_time": "2021-09-18T12:25:07.177Z"
   },
   {
    "duration": 11,
    "start_time": "2021-09-18T12:25:07.197Z"
   },
   {
    "duration": 46,
    "start_time": "2021-09-18T12:25:07.211Z"
   },
   {
    "duration": 45,
    "start_time": "2021-09-18T12:25:07.260Z"
   },
   {
    "duration": 24,
    "start_time": "2021-09-18T12:25:07.312Z"
   },
   {
    "duration": 21,
    "start_time": "2021-09-18T12:25:07.340Z"
   },
   {
    "duration": 31,
    "start_time": "2021-09-18T12:25:07.364Z"
   },
   {
    "duration": 53,
    "start_time": "2021-09-18T12:25:07.398Z"
   },
   {
    "duration": 9,
    "start_time": "2021-09-18T12:25:07.454Z"
   },
   {
    "duration": 25,
    "start_time": "2021-09-18T12:25:07.466Z"
   },
   {
    "duration": 24,
    "start_time": "2021-09-18T12:25:07.493Z"
   },
   {
    "duration": 60,
    "start_time": "2021-09-18T12:25:07.520Z"
   },
   {
    "duration": 5,
    "start_time": "2021-09-18T12:25:07.583Z"
   },
   {
    "duration": 44,
    "start_time": "2021-09-18T12:25:07.591Z"
   },
   {
    "duration": 6,
    "start_time": "2021-09-18T12:25:07.654Z"
   },
   {
    "duration": 15,
    "start_time": "2021-09-18T12:25:07.663Z"
   },
   {
    "duration": 27,
    "start_time": "2021-09-18T12:25:07.680Z"
   },
   {
    "duration": 937,
    "start_time": "2021-09-18T12:25:07.709Z"
   },
   {
    "duration": 834,
    "start_time": "2021-09-18T12:25:08.649Z"
   },
   {
    "duration": 7,
    "start_time": "2021-09-18T12:25:09.486Z"
   },
   {
    "duration": 41,
    "start_time": "2021-09-18T12:25:09.495Z"
   },
   {
    "duration": 54,
    "start_time": "2021-09-18T12:25:09.538Z"
   },
   {
    "duration": 1116,
    "start_time": "2021-09-18T12:25:09.596Z"
   },
   {
    "duration": 5,
    "start_time": "2021-09-18T12:26:05.662Z"
   },
   {
    "duration": 1285,
    "start_time": "2021-09-18T12:26:08.186Z"
   },
   {
    "duration": 34,
    "start_time": "2021-09-18T12:26:19.524Z"
   },
   {
    "duration": 276,
    "start_time": "2021-09-18T12:27:55.305Z"
   },
   {
    "duration": 87,
    "start_time": "2021-09-18T12:28:14.270Z"
   },
   {
    "duration": 264,
    "start_time": "2021-09-18T12:29:44.287Z"
   },
   {
    "duration": 288,
    "start_time": "2021-09-18T12:29:50.103Z"
   },
   {
    "duration": 272,
    "start_time": "2021-09-18T12:30:01.060Z"
   },
   {
    "duration": 508,
    "start_time": "2021-09-18T12:33:51.535Z"
   },
   {
    "duration": 538,
    "start_time": "2021-09-18T12:33:53.767Z"
   },
   {
    "duration": 502,
    "start_time": "2021-09-18T12:34:12.143Z"
   },
   {
    "duration": 434,
    "start_time": "2021-09-18T12:34:43.730Z"
   },
   {
    "duration": 414,
    "start_time": "2021-09-18T12:34:46.523Z"
   },
   {
    "duration": 526,
    "start_time": "2021-09-18T12:34:52.758Z"
   },
   {
    "duration": 457,
    "start_time": "2021-09-18T12:34:55.275Z"
   },
   {
    "duration": 460,
    "start_time": "2021-09-18T12:34:57.542Z"
   },
   {
    "duration": 457,
    "start_time": "2021-09-18T12:35:06.810Z"
   },
   {
    "duration": 429,
    "start_time": "2021-09-18T12:35:08.187Z"
   },
   {
    "duration": 436,
    "start_time": "2021-09-18T12:35:11.774Z"
   },
   {
    "duration": 529,
    "start_time": "2021-09-18T12:35:34.220Z"
   },
   {
    "duration": 421,
    "start_time": "2021-09-18T12:35:50.166Z"
   },
   {
    "duration": 610,
    "start_time": "2021-09-18T12:36:02.338Z"
   },
   {
    "duration": 422,
    "start_time": "2021-09-18T12:36:12.032Z"
   },
   {
    "duration": 429,
    "start_time": "2021-09-18T12:36:38.267Z"
   },
   {
    "duration": 2746,
    "start_time": "2021-09-18T12:43:24.486Z"
   },
   {
    "duration": 2796,
    "start_time": "2021-09-18T12:43:41.890Z"
   },
   {
    "duration": 2869,
    "start_time": "2021-09-18T12:43:59.130Z"
   },
   {
    "duration": 2737,
    "start_time": "2021-09-18T12:44:50.212Z"
   },
   {
    "duration": 3229,
    "start_time": "2021-09-18T12:45:00.530Z"
   },
   {
    "duration": 248,
    "start_time": "2021-09-18T12:46:46.228Z"
   },
   {
    "duration": 33,
    "start_time": "2021-09-18T12:46:50.919Z"
   },
   {
    "duration": 4,
    "start_time": "2021-09-18T12:46:59.262Z"
   },
   {
    "duration": 77,
    "start_time": "2021-09-18T12:46:59.269Z"
   },
   {
    "duration": 17,
    "start_time": "2021-09-18T12:46:59.349Z"
   },
   {
    "duration": 36,
    "start_time": "2021-09-18T12:46:59.369Z"
   },
   {
    "duration": 25,
    "start_time": "2021-09-18T12:46:59.407Z"
   },
   {
    "duration": 33,
    "start_time": "2021-09-18T12:46:59.434Z"
   },
   {
    "duration": 42,
    "start_time": "2021-09-18T12:46:59.469Z"
   },
   {
    "duration": 43,
    "start_time": "2021-09-18T12:46:59.515Z"
   },
   {
    "duration": 26,
    "start_time": "2021-09-18T12:46:59.562Z"
   },
   {
    "duration": 33,
    "start_time": "2021-09-18T12:46:59.592Z"
   },
   {
    "duration": 30,
    "start_time": "2021-09-18T12:46:59.628Z"
   },
   {
    "duration": 61,
    "start_time": "2021-09-18T12:46:59.661Z"
   },
   {
    "duration": 39,
    "start_time": "2021-09-18T12:46:59.724Z"
   },
   {
    "duration": 26,
    "start_time": "2021-09-18T12:46:59.766Z"
   },
   {
    "duration": 35,
    "start_time": "2021-09-18T12:46:59.795Z"
   },
   {
    "duration": 59,
    "start_time": "2021-09-18T12:46:59.833Z"
   },
   {
    "duration": 5,
    "start_time": "2021-09-18T12:46:59.895Z"
   },
   {
    "duration": 62,
    "start_time": "2021-09-18T12:46:59.903Z"
   },
   {
    "duration": 6,
    "start_time": "2021-09-18T12:46:59.967Z"
   },
   {
    "duration": 23,
    "start_time": "2021-09-18T12:46:59.976Z"
   },
   {
    "duration": 43,
    "start_time": "2021-09-18T12:47:00.001Z"
   },
   {
    "duration": 934,
    "start_time": "2021-09-18T12:47:00.046Z"
   },
   {
    "duration": 804,
    "start_time": "2021-09-18T12:47:00.982Z"
   },
   {
    "duration": 7,
    "start_time": "2021-09-18T12:47:01.789Z"
   },
   {
    "duration": 73,
    "start_time": "2021-09-18T12:47:01.798Z"
   },
   {
    "duration": 40,
    "start_time": "2021-09-18T12:47:01.874Z"
   },
   {
    "duration": 2981,
    "start_time": "2021-09-18T12:47:01.918Z"
   },
   {
    "duration": 10,
    "start_time": "2021-09-18T12:48:52.626Z"
   },
   {
    "duration": 282,
    "start_time": "2021-09-18T12:49:06.760Z"
   },
   {
    "duration": 11,
    "start_time": "2021-09-18T12:49:19.496Z"
   },
   {
    "duration": 36,
    "start_time": "2021-09-18T12:50:40.616Z"
   },
   {
    "duration": 12,
    "start_time": "2021-09-18T12:51:04.593Z"
   },
   {
    "duration": 4,
    "start_time": "2021-09-18T12:51:29.133Z"
   },
   {
    "duration": 70,
    "start_time": "2021-09-18T12:51:29.140Z"
   },
   {
    "duration": 8082,
    "start_time": "2021-09-18T12:51:29.213Z"
   },
   {
    "duration": -1107,
    "start_time": "2021-09-18T12:51:38.406Z"
   },
   {
    "duration": -1106,
    "start_time": "2021-09-18T12:51:38.407Z"
   },
   {
    "duration": -1107,
    "start_time": "2021-09-18T12:51:38.409Z"
   },
   {
    "duration": -1108,
    "start_time": "2021-09-18T12:51:38.411Z"
   },
   {
    "duration": -1123,
    "start_time": "2021-09-18T12:51:38.428Z"
   },
   {
    "duration": -1125,
    "start_time": "2021-09-18T12:51:38.431Z"
   },
   {
    "duration": -1127,
    "start_time": "2021-09-18T12:51:38.434Z"
   },
   {
    "duration": -1128,
    "start_time": "2021-09-18T12:51:38.436Z"
   },
   {
    "duration": -1129,
    "start_time": "2021-09-18T12:51:38.438Z"
   },
   {
    "duration": -1129,
    "start_time": "2021-09-18T12:51:38.440Z"
   },
   {
    "duration": -1130,
    "start_time": "2021-09-18T12:51:38.442Z"
   },
   {
    "duration": -1131,
    "start_time": "2021-09-18T12:51:38.444Z"
   },
   {
    "duration": -1136,
    "start_time": "2021-09-18T12:51:38.450Z"
   },
   {
    "duration": -1138,
    "start_time": "2021-09-18T12:51:38.453Z"
   },
   {
    "duration": -1137,
    "start_time": "2021-09-18T12:51:38.454Z"
   },
   {
    "duration": -1138,
    "start_time": "2021-09-18T12:51:38.456Z"
   },
   {
    "duration": -1139,
    "start_time": "2021-09-18T12:51:38.458Z"
   },
   {
    "duration": -1139,
    "start_time": "2021-09-18T12:51:38.459Z"
   },
   {
    "duration": -1140,
    "start_time": "2021-09-18T12:51:38.461Z"
   },
   {
    "duration": -1141,
    "start_time": "2021-09-18T12:51:38.463Z"
   },
   {
    "duration": -1146,
    "start_time": "2021-09-18T12:51:38.470Z"
   },
   {
    "duration": -1147,
    "start_time": "2021-09-18T12:51:38.472Z"
   },
   {
    "duration": -1147,
    "start_time": "2021-09-18T12:51:38.473Z"
   },
   {
    "duration": -1147,
    "start_time": "2021-09-18T12:51:38.475Z"
   },
   {
    "duration": -1148,
    "start_time": "2021-09-18T12:51:38.477Z"
   },
   {
    "duration": -1149,
    "start_time": "2021-09-18T12:51:38.479Z"
   },
   {
    "duration": 11,
    "start_time": "2021-09-18T12:51:58.684Z"
   },
   {
    "duration": 4,
    "start_time": "2021-09-18T12:52:07.061Z"
   },
   {
    "duration": 86,
    "start_time": "2021-09-18T12:52:07.068Z"
   },
   {
    "duration": 16,
    "start_time": "2021-09-18T12:52:07.158Z"
   },
   {
    "duration": 23,
    "start_time": "2021-09-18T12:52:07.177Z"
   },
   {
    "duration": 17,
    "start_time": "2021-09-18T12:52:07.203Z"
   },
   {
    "duration": 38,
    "start_time": "2021-09-18T12:52:07.222Z"
   },
   {
    "duration": 23,
    "start_time": "2021-09-18T12:52:07.263Z"
   },
   {
    "duration": 28,
    "start_time": "2021-09-18T12:52:07.292Z"
   },
   {
    "duration": 52,
    "start_time": "2021-09-18T12:52:07.325Z"
   },
   {
    "duration": 11,
    "start_time": "2021-09-18T12:52:07.380Z"
   },
   {
    "duration": 27,
    "start_time": "2021-09-18T12:52:07.393Z"
   },
   {
    "duration": 61,
    "start_time": "2021-09-18T12:52:07.423Z"
   },
   {
    "duration": 8,
    "start_time": "2021-09-18T12:52:07.487Z"
   },
   {
    "duration": 9,
    "start_time": "2021-09-18T12:52:07.499Z"
   },
   {
    "duration": 22,
    "start_time": "2021-09-18T12:52:07.510Z"
   },
   {
    "duration": 56,
    "start_time": "2021-09-18T12:52:07.534Z"
   },
   {
    "duration": 6,
    "start_time": "2021-09-18T12:52:07.592Z"
   },
   {
    "duration": 63,
    "start_time": "2021-09-18T12:52:07.600Z"
   },
   {
    "duration": 6,
    "start_time": "2021-09-18T12:52:07.665Z"
   },
   {
    "duration": 20,
    "start_time": "2021-09-18T12:52:07.674Z"
   },
   {
    "duration": 11,
    "start_time": "2021-09-18T12:52:07.697Z"
   },
   {
    "duration": 950,
    "start_time": "2021-09-18T12:52:07.710Z"
   },
   {
    "duration": 873,
    "start_time": "2021-09-18T12:52:08.666Z"
   },
   {
    "duration": 17,
    "start_time": "2021-09-18T12:52:09.541Z"
   },
   {
    "duration": 60,
    "start_time": "2021-09-18T12:52:09.561Z"
   },
   {
    "duration": 44,
    "start_time": "2021-09-18T12:52:09.624Z"
   },
   {
    "duration": 3320,
    "start_time": "2021-09-18T12:52:09.671Z"
   },
   {
    "duration": 10,
    "start_time": "2021-09-18T12:52:12.994Z"
   },
   {
    "duration": 81,
    "start_time": "2021-09-18T12:53:29.627Z"
   },
   {
    "duration": 11,
    "start_time": "2021-09-18T12:55:03.841Z"
   },
   {
    "duration": 15,
    "start_time": "2021-09-18T12:55:11.851Z"
   },
   {
    "duration": 17,
    "start_time": "2021-09-18T12:55:18.185Z"
   },
   {
    "duration": 337,
    "start_time": "2021-09-18T12:55:43.450Z"
   },
   {
    "duration": 18,
    "start_time": "2021-09-18T12:55:56.382Z"
   },
   {
    "duration": 10,
    "start_time": "2021-09-18T12:56:22.423Z"
   },
   {
    "duration": 17,
    "start_time": "2021-09-18T12:56:26.880Z"
   },
   {
    "duration": 21,
    "start_time": "2021-09-18T12:56:40.612Z"
   },
   {
    "duration": 21,
    "start_time": "2021-09-18T12:57:21.002Z"
   },
   {
    "duration": 312,
    "start_time": "2021-09-18T12:57:30.368Z"
   },
   {
    "duration": 23,
    "start_time": "2021-09-18T12:57:35.431Z"
   },
   {
    "duration": 18,
    "start_time": "2021-09-18T12:57:58.690Z"
   },
   {
    "duration": 265,
    "start_time": "2021-09-18T12:59:09.424Z"
   },
   {
    "duration": 280,
    "start_time": "2021-09-18T13:00:39.910Z"
   },
   {
    "duration": 6962,
    "start_time": "2021-09-18T13:01:28.139Z"
   },
   {
    "duration": 51,
    "start_time": "2021-09-18T13:02:09.233Z"
   },
   {
    "duration": 32,
    "start_time": "2021-09-18T13:03:03.029Z"
   },
   {
    "duration": 15,
    "start_time": "2021-09-18T13:03:34.978Z"
   },
   {
    "duration": 16,
    "start_time": "2021-09-18T13:03:51.597Z"
   },
   {
    "duration": 5,
    "start_time": "2021-09-18T13:04:00.156Z"
   },
   {
    "duration": 86,
    "start_time": "2021-09-18T13:04:00.164Z"
   },
   {
    "duration": 15,
    "start_time": "2021-09-18T13:04:00.255Z"
   },
   {
    "duration": 36,
    "start_time": "2021-09-18T13:04:00.273Z"
   },
   {
    "duration": 36,
    "start_time": "2021-09-18T13:04:00.311Z"
   },
   {
    "duration": 39,
    "start_time": "2021-09-18T13:04:00.350Z"
   },
   {
    "duration": 37,
    "start_time": "2021-09-18T13:04:00.392Z"
   },
   {
    "duration": 35,
    "start_time": "2021-09-18T13:04:00.433Z"
   },
   {
    "duration": 41,
    "start_time": "2021-09-18T13:04:00.471Z"
   },
   {
    "duration": 25,
    "start_time": "2021-09-18T13:04:00.515Z"
   },
   {
    "duration": 55,
    "start_time": "2021-09-18T13:04:00.543Z"
   },
   {
    "duration": 80,
    "start_time": "2021-09-18T13:04:00.600Z"
   },
   {
    "duration": 25,
    "start_time": "2021-09-18T13:04:00.683Z"
   },
   {
    "duration": 35,
    "start_time": "2021-09-18T13:04:00.711Z"
   },
   {
    "duration": 24,
    "start_time": "2021-09-18T13:04:00.748Z"
   },
   {
    "duration": 59,
    "start_time": "2021-09-18T13:04:00.775Z"
   },
   {
    "duration": 5,
    "start_time": "2021-09-18T13:04:00.836Z"
   },
   {
    "duration": 55,
    "start_time": "2021-09-18T13:04:00.844Z"
   },
   {
    "duration": 6,
    "start_time": "2021-09-18T13:04:00.901Z"
   },
   {
    "duration": 29,
    "start_time": "2021-09-18T13:04:00.910Z"
   },
   {
    "duration": 16,
    "start_time": "2021-09-18T13:04:00.942Z"
   },
   {
    "duration": 944,
    "start_time": "2021-09-18T13:04:00.960Z"
   },
   {
    "duration": 809,
    "start_time": "2021-09-18T13:04:01.908Z"
   },
   {
    "duration": 8,
    "start_time": "2021-09-18T13:04:02.720Z"
   },
   {
    "duration": 51,
    "start_time": "2021-09-18T13:04:02.731Z"
   },
   {
    "duration": 40,
    "start_time": "2021-09-18T13:04:02.786Z"
   },
   {
    "duration": 2906,
    "start_time": "2021-09-18T13:04:02.829Z"
   },
   {
    "duration": 32,
    "start_time": "2021-09-18T13:04:05.738Z"
   },
   {
    "duration": 33,
    "start_time": "2021-09-18T13:04:05.774Z"
   },
   {
    "duration": 47,
    "start_time": "2021-09-18T13:04:29.700Z"
   },
   {
    "duration": 49,
    "start_time": "2021-09-18T13:04:53.276Z"
   },
   {
    "duration": 34,
    "start_time": "2021-09-18T13:06:33.446Z"
   },
   {
    "duration": 274,
    "start_time": "2021-09-18T13:09:24.879Z"
   },
   {
    "duration": 8,
    "start_time": "2021-09-18T13:09:33.691Z"
   },
   {
    "duration": 275,
    "start_time": "2021-09-18T13:09:43.763Z"
   },
   {
    "duration": 25,
    "start_time": "2021-09-18T13:09:57.765Z"
   },
   {
    "duration": 4,
    "start_time": "2021-09-18T13:10:24.407Z"
   },
   {
    "duration": 78,
    "start_time": "2021-09-18T13:10:24.414Z"
   },
   {
    "duration": 14,
    "start_time": "2021-09-18T13:10:24.495Z"
   },
   {
    "duration": 45,
    "start_time": "2021-09-18T13:10:24.513Z"
   },
   {
    "duration": 31,
    "start_time": "2021-09-18T13:10:24.561Z"
   },
   {
    "duration": 16,
    "start_time": "2021-09-18T13:10:24.595Z"
   },
   {
    "duration": 26,
    "start_time": "2021-09-18T13:10:24.613Z"
   },
   {
    "duration": 43,
    "start_time": "2021-09-18T13:10:24.642Z"
   },
   {
    "duration": 25,
    "start_time": "2021-09-18T13:10:24.689Z"
   },
   {
    "duration": 18,
    "start_time": "2021-09-18T13:10:24.719Z"
   },
   {
    "duration": 32,
    "start_time": "2021-09-18T13:10:24.740Z"
   },
   {
    "duration": 47,
    "start_time": "2021-09-18T13:10:24.776Z"
   },
   {
    "duration": 25,
    "start_time": "2021-09-18T13:10:24.825Z"
   },
   {
    "duration": 39,
    "start_time": "2021-09-18T13:10:24.852Z"
   },
   {
    "duration": 22,
    "start_time": "2021-09-18T13:10:24.894Z"
   },
   {
    "duration": 62,
    "start_time": "2021-09-18T13:10:24.919Z"
   },
   {
    "duration": 7,
    "start_time": "2021-09-18T13:10:24.984Z"
   },
   {
    "duration": 59,
    "start_time": "2021-09-18T13:10:24.994Z"
   },
   {
    "duration": 7,
    "start_time": "2021-09-18T13:10:25.055Z"
   },
   {
    "duration": 41,
    "start_time": "2021-09-18T13:10:25.064Z"
   },
   {
    "duration": 23,
    "start_time": "2021-09-18T13:10:25.108Z"
   },
   {
    "duration": 931,
    "start_time": "2021-09-18T13:10:25.134Z"
   },
   {
    "duration": 789,
    "start_time": "2021-09-18T13:10:26.068Z"
   },
   {
    "duration": 7,
    "start_time": "2021-09-18T13:10:26.859Z"
   },
   {
    "duration": 56,
    "start_time": "2021-09-18T13:10:26.868Z"
   },
   {
    "duration": 57,
    "start_time": "2021-09-18T13:10:26.926Z"
   },
   {
    "duration": 3383,
    "start_time": "2021-09-18T13:10:26.988Z"
   },
   {
    "duration": 20,
    "start_time": "2021-09-18T13:10:30.374Z"
   },
   {
    "duration": 26,
    "start_time": "2021-09-18T13:10:30.397Z"
   },
   {
    "duration": 43,
    "start_time": "2021-09-18T13:10:30.425Z"
   },
   {
    "duration": 35,
    "start_time": "2021-09-18T13:10:30.470Z"
   },
   {
    "duration": 11,
    "start_time": "2021-09-18T13:11:10.458Z"
   },
   {
    "duration": 16,
    "start_time": "2021-09-18T13:11:24.940Z"
   },
   {
    "duration": 4,
    "start_time": "2021-09-18T13:11:45.404Z"
   },
   {
    "duration": 82,
    "start_time": "2021-09-18T13:11:45.411Z"
   },
   {
    "duration": 14,
    "start_time": "2021-09-18T13:11:45.496Z"
   },
   {
    "duration": 46,
    "start_time": "2021-09-18T13:11:45.513Z"
   },
   {
    "duration": 37,
    "start_time": "2021-09-18T13:11:45.561Z"
   },
   {
    "duration": 24,
    "start_time": "2021-09-18T13:11:45.601Z"
   },
   {
    "duration": 36,
    "start_time": "2021-09-18T13:11:45.627Z"
   },
   {
    "duration": 33,
    "start_time": "2021-09-18T13:11:45.665Z"
   },
   {
    "duration": 29,
    "start_time": "2021-09-18T13:11:45.702Z"
   },
   {
    "duration": 25,
    "start_time": "2021-09-18T13:11:45.734Z"
   },
   {
    "duration": 31,
    "start_time": "2021-09-18T13:11:45.762Z"
   },
   {
    "duration": 49,
    "start_time": "2021-09-18T13:11:45.795Z"
   },
   {
    "duration": 13,
    "start_time": "2021-09-18T13:11:45.847Z"
   },
   {
    "duration": 7,
    "start_time": "2021-09-18T13:11:45.863Z"
   },
   {
    "duration": 20,
    "start_time": "2021-09-18T13:11:45.873Z"
   },
   {
    "duration": 43,
    "start_time": "2021-09-18T13:11:45.896Z"
   },
   {
    "duration": 15,
    "start_time": "2021-09-18T13:11:45.942Z"
   },
   {
    "duration": 39,
    "start_time": "2021-09-18T13:11:45.960Z"
   },
   {
    "duration": 7,
    "start_time": "2021-09-18T13:11:46.003Z"
   },
   {
    "duration": 43,
    "start_time": "2021-09-18T13:11:46.013Z"
   },
   {
    "duration": 9,
    "start_time": "2021-09-18T13:11:46.059Z"
   },
   {
    "duration": 1094,
    "start_time": "2021-09-18T13:11:46.071Z"
   },
   {
    "duration": 808,
    "start_time": "2021-09-18T13:11:47.168Z"
   },
   {
    "duration": 6,
    "start_time": "2021-09-18T13:11:47.978Z"
   },
   {
    "duration": 36,
    "start_time": "2021-09-18T13:11:47.987Z"
   },
   {
    "duration": 65,
    "start_time": "2021-09-18T13:11:48.025Z"
   },
   {
    "duration": 2899,
    "start_time": "2021-09-18T13:11:48.096Z"
   },
   {
    "duration": 19,
    "start_time": "2021-09-18T13:11:50.998Z"
   },
   {
    "duration": 49,
    "start_time": "2021-09-18T13:11:51.019Z"
   },
   {
    "duration": 10,
    "start_time": "2021-09-18T13:11:51.070Z"
   },
   {
    "duration": 17,
    "start_time": "2021-09-18T13:11:51.082Z"
   },
   {
    "duration": 10,
    "start_time": "2021-09-18T13:15:09.164Z"
   },
   {
    "duration": 4,
    "start_time": "2021-09-18T13:15:13.627Z"
   },
   {
    "duration": 69,
    "start_time": "2021-09-18T13:15:13.633Z"
   },
   {
    "duration": 13,
    "start_time": "2021-09-18T13:15:13.705Z"
   },
   {
    "duration": 45,
    "start_time": "2021-09-18T13:15:13.721Z"
   },
   {
    "duration": 12,
    "start_time": "2021-09-18T13:15:13.768Z"
   },
   {
    "duration": 8,
    "start_time": "2021-09-18T13:15:13.782Z"
   },
   {
    "duration": 14,
    "start_time": "2021-09-18T13:15:13.792Z"
   },
   {
    "duration": 54,
    "start_time": "2021-09-18T13:15:13.809Z"
   },
   {
    "duration": 24,
    "start_time": "2021-09-18T13:15:13.867Z"
   },
   {
    "duration": 7,
    "start_time": "2021-09-18T13:15:13.895Z"
   },
   {
    "duration": 9,
    "start_time": "2021-09-18T13:15:13.905Z"
   },
   {
    "duration": 77,
    "start_time": "2021-09-18T13:15:13.917Z"
   },
   {
    "duration": 7,
    "start_time": "2021-09-18T13:15:13.997Z"
   },
   {
    "duration": 11,
    "start_time": "2021-09-18T13:15:14.006Z"
   },
   {
    "duration": 6,
    "start_time": "2021-09-18T13:15:14.019Z"
   },
   {
    "duration": 64,
    "start_time": "2021-09-18T13:15:14.027Z"
   },
   {
    "duration": 6,
    "start_time": "2021-09-18T13:15:14.093Z"
   },
   {
    "duration": 60,
    "start_time": "2021-09-18T13:15:14.101Z"
   },
   {
    "duration": 6,
    "start_time": "2021-09-18T13:15:14.163Z"
   },
   {
    "duration": 10,
    "start_time": "2021-09-18T13:15:14.172Z"
   },
   {
    "duration": 16,
    "start_time": "2021-09-18T13:15:14.184Z"
   },
   {
    "duration": 13,
    "start_time": "2021-09-18T13:15:14.203Z"
   },
   {
    "duration": 1159,
    "start_time": "2021-09-18T13:15:14.218Z"
   },
   {
    "duration": 784,
    "start_time": "2021-09-18T13:15:15.380Z"
   },
   {
    "duration": 7,
    "start_time": "2021-09-18T13:15:16.166Z"
   },
   {
    "duration": 44,
    "start_time": "2021-09-18T13:15:16.175Z"
   },
   {
    "duration": 62,
    "start_time": "2021-09-18T13:15:16.225Z"
   },
   {
    "duration": 2910,
    "start_time": "2021-09-18T13:15:16.290Z"
   },
   {
    "duration": 19,
    "start_time": "2021-09-18T13:15:19.202Z"
   },
   {
    "duration": 43,
    "start_time": "2021-09-18T13:15:19.224Z"
   },
   {
    "duration": 9,
    "start_time": "2021-09-18T13:15:19.270Z"
   },
   {
    "duration": 12,
    "start_time": "2021-09-18T13:15:19.282Z"
   },
   {
    "duration": 7,
    "start_time": "2021-09-18T13:16:47.267Z"
   },
   {
    "duration": 6,
    "start_time": "2021-09-18T13:17:18.897Z"
   },
   {
    "duration": 12,
    "start_time": "2021-09-18T14:25:05.242Z"
   },
   {
    "duration": 270,
    "start_time": "2021-09-18T14:25:26.987Z"
   },
   {
    "duration": 13,
    "start_time": "2021-09-18T14:25:41.466Z"
   },
   {
    "duration": 267,
    "start_time": "2021-09-18T14:27:24.765Z"
   },
   {
    "duration": 8,
    "start_time": "2021-09-18T14:28:01.808Z"
   },
   {
    "duration": 42,
    "start_time": "2021-09-18T14:29:18.360Z"
   },
   {
    "duration": 4305,
    "start_time": "2021-09-18T14:29:42.557Z"
   },
   {
    "duration": 5862,
    "start_time": "2021-09-18T14:30:07.061Z"
   },
   {
    "duration": 1306,
    "start_time": "2021-09-19T09:04:31.517Z"
   },
   {
    "duration": 61,
    "start_time": "2021-09-19T09:04:32.824Z"
   },
   {
    "duration": 10,
    "start_time": "2021-09-19T09:04:32.887Z"
   },
   {
    "duration": 12,
    "start_time": "2021-09-19T09:04:32.899Z"
   },
   {
    "duration": 14,
    "start_time": "2021-09-19T09:04:32.913Z"
   },
   {
    "duration": 5,
    "start_time": "2021-09-19T09:04:32.928Z"
   },
   {
    "duration": 19,
    "start_time": "2021-09-19T09:04:32.957Z"
   },
   {
    "duration": 13,
    "start_time": "2021-09-19T09:04:32.979Z"
   },
   {
    "duration": 14,
    "start_time": "2021-09-19T09:04:32.994Z"
   },
   {
    "duration": 9,
    "start_time": "2021-09-19T09:04:33.009Z"
   },
   {
    "duration": 6,
    "start_time": "2021-09-19T09:04:33.020Z"
   },
   {
    "duration": 59,
    "start_time": "2021-09-19T09:04:33.028Z"
   },
   {
    "duration": 6,
    "start_time": "2021-09-19T09:04:33.089Z"
   },
   {
    "duration": 9,
    "start_time": "2021-09-19T09:04:33.096Z"
   },
   {
    "duration": 4,
    "start_time": "2021-09-19T09:04:33.107Z"
   },
   {
    "duration": 60,
    "start_time": "2021-09-19T09:04:33.113Z"
   },
   {
    "duration": 4,
    "start_time": "2021-09-19T09:04:33.182Z"
   },
   {
    "duration": 36,
    "start_time": "2021-09-19T09:04:33.188Z"
   },
   {
    "duration": 5,
    "start_time": "2021-09-19T09:04:33.226Z"
   },
   {
    "duration": 14,
    "start_time": "2021-09-19T09:04:33.232Z"
   },
   {
    "duration": 24,
    "start_time": "2021-09-19T09:04:33.247Z"
   },
   {
    "duration": 8,
    "start_time": "2021-09-19T09:04:33.273Z"
   },
   {
    "duration": 611,
    "start_time": "2021-09-19T09:04:33.284Z"
   },
   {
    "duration": 509,
    "start_time": "2021-09-19T09:04:33.897Z"
   },
   {
    "duration": 5,
    "start_time": "2021-09-19T09:04:34.408Z"
   },
   {
    "duration": 42,
    "start_time": "2021-09-19T09:04:34.415Z"
   },
   {
    "duration": 32,
    "start_time": "2021-09-19T09:04:34.463Z"
   },
   {
    "duration": 2036,
    "start_time": "2021-09-19T09:04:34.497Z"
   },
   {
    "duration": 25,
    "start_time": "2021-09-19T09:04:36.535Z"
   },
   {
    "duration": 22,
    "start_time": "2021-09-19T09:04:36.562Z"
   },
   {
    "duration": 7,
    "start_time": "2021-09-19T09:04:36.585Z"
   },
   {
    "duration": 5,
    "start_time": "2021-09-19T09:04:36.593Z"
   },
   {
    "duration": 6,
    "start_time": "2021-09-19T09:04:36.600Z"
   },
   {
    "duration": 15,
    "start_time": "2021-09-19T09:04:36.607Z"
   },
   {
    "duration": 65,
    "start_time": "2021-09-19T09:04:36.624Z"
   },
   {
    "duration": 3605,
    "start_time": "2021-09-19T09:04:36.691Z"
   },
   {
    "duration": 3452,
    "start_time": "2021-09-19T09:06:19.784Z"
   },
   {
    "duration": 3372,
    "start_time": "2021-09-19T09:06:47.611Z"
   },
   {
    "duration": 942,
    "start_time": "2021-09-19T09:10:18.004Z"
   },
   {
    "duration": 342,
    "start_time": "2021-09-19T09:11:42.691Z"
   },
   {
    "duration": 405,
    "start_time": "2021-09-19T09:11:56.978Z"
   },
   {
    "duration": 6281,
    "start_time": "2021-09-19T09:13:18.271Z"
   },
   {
    "duration": 6795,
    "start_time": "2021-09-19T09:13:41.641Z"
   },
   {
    "duration": 6009,
    "start_time": "2021-09-19T09:14:38.384Z"
   },
   {
    "duration": 4,
    "start_time": "2021-09-19T09:15:14.323Z"
   },
   {
    "duration": 15,
    "start_time": "2021-09-19T09:15:26.828Z"
   },
   {
    "duration": 267,
    "start_time": "2021-09-19T09:15:58.037Z"
   },
   {
    "duration": 291,
    "start_time": "2021-09-19T09:16:40.174Z"
   },
   {
    "duration": 251,
    "start_time": "2021-09-19T09:17:04.623Z"
   },
   {
    "duration": 427,
    "start_time": "2021-09-19T09:17:33.781Z"
   },
   {
    "duration": 18,
    "start_time": "2021-09-19T09:20:10.408Z"
   },
   {
    "duration": 5,
    "start_time": "2021-09-19T09:22:43.514Z"
   },
   {
    "duration": 13,
    "start_time": "2021-09-19T09:22:49.725Z"
   },
   {
    "duration": 14,
    "start_time": "2021-09-19T09:22:57.287Z"
   },
   {
    "duration": 310,
    "start_time": "2021-09-19T09:23:41.001Z"
   },
   {
    "duration": 369,
    "start_time": "2021-09-19T09:24:38.956Z"
   },
   {
    "duration": 609,
    "start_time": "2021-09-19T09:24:46.254Z"
   },
   {
    "duration": 26,
    "start_time": "2021-09-19T09:26:53.292Z"
   },
   {
    "duration": 1864,
    "start_time": "2021-09-19T09:26:57.322Z"
   },
   {
    "duration": 7,
    "start_time": "2021-09-19T09:28:17.184Z"
   },
   {
    "duration": 14,
    "start_time": "2021-09-19T09:28:25.217Z"
   },
   {
    "duration": 317,
    "start_time": "2021-09-19T09:28:59.717Z"
   },
   {
    "duration": 308,
    "start_time": "2021-09-19T09:31:38.880Z"
   },
   {
    "duration": 24,
    "start_time": "2021-09-19T09:32:21.971Z"
   },
   {
    "duration": 26,
    "start_time": "2021-09-19T09:32:29.140Z"
   },
   {
    "duration": 1564,
    "start_time": "2021-09-19T09:32:42.989Z"
   },
   {
    "duration": 11,
    "start_time": "2021-09-19T09:33:27.889Z"
   },
   {
    "duration": 14,
    "start_time": "2021-09-19T09:33:46.479Z"
   },
   {
    "duration": 3,
    "start_time": "2021-09-19T09:34:00.690Z"
   },
   {
    "duration": 52,
    "start_time": "2021-09-19T09:34:00.695Z"
   },
   {
    "duration": 17,
    "start_time": "2021-09-19T09:34:00.749Z"
   },
   {
    "duration": 12,
    "start_time": "2021-09-19T09:34:00.769Z"
   },
   {
    "duration": 19,
    "start_time": "2021-09-19T09:34:00.783Z"
   },
   {
    "duration": 7,
    "start_time": "2021-09-19T09:34:00.804Z"
   },
   {
    "duration": 39,
    "start_time": "2021-09-19T09:34:00.813Z"
   },
   {
    "duration": 17,
    "start_time": "2021-09-19T09:34:00.854Z"
   },
   {
    "duration": 15,
    "start_time": "2021-09-19T09:34:00.874Z"
   },
   {
    "duration": 8,
    "start_time": "2021-09-19T09:34:00.891Z"
   },
   {
    "duration": 13,
    "start_time": "2021-09-19T09:34:00.901Z"
   },
   {
    "duration": 51,
    "start_time": "2021-09-19T09:34:00.915Z"
   },
   {
    "duration": 5,
    "start_time": "2021-09-19T09:34:00.968Z"
   },
   {
    "duration": 19,
    "start_time": "2021-09-19T09:34:00.975Z"
   },
   {
    "duration": 8,
    "start_time": "2021-09-19T09:34:00.995Z"
   },
   {
    "duration": 33,
    "start_time": "2021-09-19T09:34:01.005Z"
   },
   {
    "duration": 3,
    "start_time": "2021-09-19T09:34:01.040Z"
   },
   {
    "duration": 56,
    "start_time": "2021-09-19T09:34:01.056Z"
   },
   {
    "duration": 5,
    "start_time": "2021-09-19T09:34:01.114Z"
   },
   {
    "duration": 10,
    "start_time": "2021-09-19T09:34:01.120Z"
   },
   {
    "duration": 24,
    "start_time": "2021-09-19T09:34:01.132Z"
   },
   {
    "duration": 10,
    "start_time": "2021-09-19T09:34:01.158Z"
   },
   {
    "duration": 807,
    "start_time": "2021-09-19T09:34:01.172Z"
   },
   {
    "duration": 700,
    "start_time": "2021-09-19T09:34:01.982Z"
   },
   {
    "duration": 6,
    "start_time": "2021-09-19T09:34:02.684Z"
   },
   {
    "duration": 31,
    "start_time": "2021-09-19T09:34:02.692Z"
   },
   {
    "duration": 49,
    "start_time": "2021-09-19T09:34:02.725Z"
   },
   {
    "duration": 2163,
    "start_time": "2021-09-19T09:34:02.776Z"
   },
   {
    "duration": 18,
    "start_time": "2021-09-19T09:34:04.949Z"
   },
   {
    "duration": 16,
    "start_time": "2021-09-19T09:34:04.969Z"
   },
   {
    "duration": 7,
    "start_time": "2021-09-19T09:34:04.987Z"
   },
   {
    "duration": 5,
    "start_time": "2021-09-19T09:34:04.996Z"
   },
   {
    "duration": 7,
    "start_time": "2021-09-19T09:34:05.003Z"
   },
   {
    "duration": 6,
    "start_time": "2021-09-19T09:35:02.791Z"
   },
   {
    "duration": 30,
    "start_time": "2021-09-19T09:35:30.853Z"
   },
   {
    "duration": 3605,
    "start_time": "2021-09-19T09:35:43.082Z"
   },
   {
    "duration": 16,
    "start_time": "2021-09-19T09:36:18.631Z"
   },
   {
    "duration": 420,
    "start_time": "2021-09-19T09:36:44.977Z"
   },
   {
    "duration": 417,
    "start_time": "2021-09-19T09:37:28.561Z"
   },
   {
    "duration": 26,
    "start_time": "2021-09-19T09:38:35.672Z"
   },
   {
    "duration": 3405,
    "start_time": "2021-09-19T09:38:38.118Z"
   },
   {
    "duration": 17,
    "start_time": "2021-09-19T09:38:45.616Z"
   },
   {
    "duration": 436,
    "start_time": "2021-09-19T09:38:47.885Z"
   },
   {
    "duration": 346,
    "start_time": "2021-09-19T16:22:48.542Z"
   },
   {
    "duration": 1731,
    "start_time": "2021-09-19T16:22:51.625Z"
   },
   {
    "duration": 76,
    "start_time": "2021-09-19T16:22:53.359Z"
   },
   {
    "duration": 17,
    "start_time": "2021-09-19T16:22:53.438Z"
   },
   {
    "duration": 27,
    "start_time": "2021-09-19T16:22:53.459Z"
   },
   {
    "duration": 16,
    "start_time": "2021-09-19T16:22:53.488Z"
   },
   {
    "duration": 7,
    "start_time": "2021-09-19T16:22:53.506Z"
   },
   {
    "duration": 49,
    "start_time": "2021-09-19T16:22:53.515Z"
   },
   {
    "duration": 20,
    "start_time": "2021-09-19T16:22:53.572Z"
   },
   {
    "duration": 23,
    "start_time": "2021-09-19T16:22:53.595Z"
   },
   {
    "duration": 11,
    "start_time": "2021-09-19T16:22:53.654Z"
   },
   {
    "duration": 19,
    "start_time": "2021-09-19T16:22:53.668Z"
   },
   {
    "duration": 42,
    "start_time": "2021-09-19T16:22:53.690Z"
   },
   {
    "duration": 26,
    "start_time": "2021-09-19T16:22:53.735Z"
   },
   {
    "duration": 17,
    "start_time": "2021-09-19T16:22:53.765Z"
   },
   {
    "duration": 19,
    "start_time": "2021-09-19T16:22:53.785Z"
   },
   {
    "duration": 54,
    "start_time": "2021-09-19T16:22:53.806Z"
   },
   {
    "duration": 8,
    "start_time": "2021-09-19T16:22:53.864Z"
   },
   {
    "duration": 45,
    "start_time": "2021-09-19T16:22:53.874Z"
   },
   {
    "duration": 6,
    "start_time": "2021-09-19T16:22:53.921Z"
   },
   {
    "duration": 30,
    "start_time": "2021-09-19T16:22:53.930Z"
   },
   {
    "duration": 19,
    "start_time": "2021-09-19T16:22:53.963Z"
   },
   {
    "duration": 17,
    "start_time": "2021-09-19T16:22:53.985Z"
   },
   {
    "duration": 1115,
    "start_time": "2021-09-19T16:22:54.007Z"
   },
   {
    "duration": 848,
    "start_time": "2021-09-19T16:22:55.125Z"
   },
   {
    "duration": 7,
    "start_time": "2021-09-19T16:22:55.976Z"
   },
   {
    "duration": 53,
    "start_time": "2021-09-19T16:22:55.986Z"
   },
   {
    "duration": 47,
    "start_time": "2021-09-19T16:22:56.041Z"
   },
   {
    "duration": 2881,
    "start_time": "2021-09-19T16:22:56.091Z"
   },
   {
    "duration": 26,
    "start_time": "2021-09-19T16:22:58.975Z"
   },
   {
    "duration": 26,
    "start_time": "2021-09-19T16:22:59.003Z"
   },
   {
    "duration": 16,
    "start_time": "2021-09-19T16:22:59.054Z"
   },
   {
    "duration": 33,
    "start_time": "2021-09-19T16:22:59.073Z"
   },
   {
    "duration": 29,
    "start_time": "2021-09-19T16:22:59.109Z"
   },
   {
    "duration": 10,
    "start_time": "2021-09-19T16:22:59.140Z"
   },
   {
    "duration": 51,
    "start_time": "2021-09-19T16:22:59.153Z"
   },
   {
    "duration": 6487,
    "start_time": "2021-09-19T16:22:59.207Z"
   },
   {
    "duration": 23,
    "start_time": "2021-09-19T16:23:05.697Z"
   },
   {
    "duration": 814,
    "start_time": "2021-09-19T16:23:05.722Z"
   },
   {
    "duration": 6,
    "start_time": "2021-09-19T16:23:06.539Z"
   },
   {
    "duration": 367,
    "start_time": "2021-09-19T16:25:03.864Z"
   },
   {
    "duration": 268,
    "start_time": "2021-09-19T16:25:21.534Z"
   },
   {
    "duration": 736,
    "start_time": "2021-09-19T16:25:31.864Z"
   },
   {
    "duration": 932,
    "start_time": "2021-09-19T16:27:07.633Z"
   },
   {
    "duration": 1020,
    "start_time": "2021-09-19T16:27:50.445Z"
   },
   {
    "duration": 901,
    "start_time": "2021-09-19T16:28:11.236Z"
   },
   {
    "duration": 866,
    "start_time": "2021-09-19T16:28:19.269Z"
   },
   {
    "duration": 908,
    "start_time": "2021-09-19T16:28:22.021Z"
   },
   {
    "duration": 890,
    "start_time": "2021-09-19T16:28:46.358Z"
   },
   {
    "duration": 1005,
    "start_time": "2021-09-19T16:29:18.300Z"
   },
   {
    "duration": 10,
    "start_time": "2021-09-19T16:33:44.010Z"
   },
   {
    "duration": 12,
    "start_time": "2021-09-19T16:34:52.262Z"
   },
   {
    "duration": 1445,
    "start_time": "2021-09-19T16:35:22.884Z"
   },
   {
    "duration": 883,
    "start_time": "2021-09-19T16:41:14.057Z"
   },
   {
    "duration": 9,
    "start_time": "2021-09-19T16:41:35.630Z"
   },
   {
    "duration": 8,
    "start_time": "2021-09-19T16:43:47.866Z"
   },
   {
    "duration": 10,
    "start_time": "2021-09-19T16:43:53.984Z"
   },
   {
    "duration": 11,
    "start_time": "2021-09-19T16:44:42.674Z"
   },
   {
    "duration": 13,
    "start_time": "2021-09-19T16:44:51.574Z"
   },
   {
    "duration": 523,
    "start_time": "2021-09-19T16:45:39.734Z"
   },
   {
    "duration": 10,
    "start_time": "2021-09-19T16:46:04.726Z"
   },
   {
    "duration": 17,
    "start_time": "2021-09-19T16:46:09.392Z"
   },
   {
    "duration": 458,
    "start_time": "2021-09-19T16:46:13.358Z"
   },
   {
    "duration": 265,
    "start_time": "2021-09-19T16:46:34.145Z"
   },
   {
    "duration": 546,
    "start_time": "2021-09-19T16:47:08.269Z"
   },
   {
    "duration": 4,
    "start_time": "2021-09-19T18:18:19.210Z"
   },
   {
    "duration": 77,
    "start_time": "2021-09-19T18:18:19.218Z"
   },
   {
    "duration": 14,
    "start_time": "2021-09-19T18:18:19.298Z"
   },
   {
    "duration": 58,
    "start_time": "2021-09-19T18:18:19.316Z"
   },
   {
    "duration": 14,
    "start_time": "2021-09-19T18:18:19.377Z"
   },
   {
    "duration": 9,
    "start_time": "2021-09-19T18:18:19.394Z"
   },
   {
    "duration": 60,
    "start_time": "2021-09-19T18:18:19.406Z"
   },
   {
    "duration": 23,
    "start_time": "2021-09-19T18:18:19.471Z"
   },
   {
    "duration": 24,
    "start_time": "2021-09-19T18:18:19.497Z"
   },
   {
    "duration": 41,
    "start_time": "2021-09-19T18:18:19.523Z"
   },
   {
    "duration": 19,
    "start_time": "2021-09-19T18:18:19.567Z"
   },
   {
    "duration": 66,
    "start_time": "2021-09-19T18:18:19.589Z"
   },
   {
    "duration": 10,
    "start_time": "2021-09-19T18:18:19.658Z"
   },
   {
    "duration": 13,
    "start_time": "2021-09-19T18:18:19.671Z"
   },
   {
    "duration": 8,
    "start_time": "2021-09-19T18:18:19.686Z"
   },
   {
    "duration": 65,
    "start_time": "2021-09-19T18:18:19.696Z"
   },
   {
    "duration": 8,
    "start_time": "2021-09-19T18:18:19.765Z"
   },
   {
    "duration": 41,
    "start_time": "2021-09-19T18:18:19.776Z"
   },
   {
    "duration": 6,
    "start_time": "2021-09-19T18:18:19.820Z"
   },
   {
    "duration": 7,
    "start_time": "2021-09-19T18:18:19.856Z"
   },
   {
    "duration": 13,
    "start_time": "2021-09-19T18:18:19.866Z"
   },
   {
    "duration": 12,
    "start_time": "2021-09-19T18:18:19.881Z"
   },
   {
    "duration": 956,
    "start_time": "2021-09-19T18:18:19.898Z"
   },
   {
    "duration": 939,
    "start_time": "2021-09-19T18:18:20.858Z"
   },
   {
    "duration": 5,
    "start_time": "2021-09-19T18:18:21.800Z"
   },
   {
    "duration": 65,
    "start_time": "2021-09-19T18:18:21.807Z"
   },
   {
    "duration": 37,
    "start_time": "2021-09-19T18:18:21.875Z"
   },
   {
    "duration": 2588,
    "start_time": "2021-09-19T18:18:21.915Z"
   },
   {
    "duration": 18,
    "start_time": "2021-09-19T18:18:24.505Z"
   },
   {
    "duration": 56,
    "start_time": "2021-09-19T18:18:24.526Z"
   },
   {
    "duration": 9,
    "start_time": "2021-09-19T18:18:24.584Z"
   },
   {
    "duration": 8,
    "start_time": "2021-09-19T18:18:24.596Z"
   },
   {
    "duration": 22,
    "start_time": "2021-09-19T18:18:24.606Z"
   },
   {
    "duration": 33,
    "start_time": "2021-09-19T18:18:24.631Z"
   },
   {
    "duration": 45,
    "start_time": "2021-09-19T18:18:24.669Z"
   },
   {
    "duration": 6051,
    "start_time": "2021-09-19T18:18:24.717Z"
   },
   {
    "duration": 24,
    "start_time": "2021-09-19T18:18:30.771Z"
   },
   {
    "duration": 980,
    "start_time": "2021-09-19T18:18:30.798Z"
   },
   {
    "duration": 953,
    "start_time": "2021-09-19T18:18:31.782Z"
   },
   {
    "duration": 1103,
    "start_time": "2021-09-19T18:18:32.737Z"
   },
   {
    "duration": 20,
    "start_time": "2021-09-19T18:18:33.842Z"
   },
   {
    "duration": 808,
    "start_time": "2021-09-19T18:18:33.865Z"
   },
   {
    "duration": 11,
    "start_time": "2021-09-19T18:18:34.676Z"
   },
   {
    "duration": 19,
    "start_time": "2021-09-19T18:18:34.689Z"
   },
   {
    "duration": 786,
    "start_time": "2021-09-19T18:18:34.710Z"
   },
   {
    "duration": 8,
    "start_time": "2021-09-19T18:18:35.498Z"
   },
   {
    "duration": 112,
    "start_time": "2021-09-19T18:20:01.003Z"
   },
   {
    "duration": 7,
    "start_time": "2021-09-19T18:20:17.283Z"
   },
   {
    "duration": 4426,
    "start_time": "2021-09-19T18:21:39.915Z"
   },
   {
    "duration": 7,
    "start_time": "2021-09-19T18:22:16.877Z"
   },
   {
    "duration": 1552,
    "start_time": "2021-09-20T17:55:18.530Z"
   },
   {
    "duration": 70,
    "start_time": "2021-09-20T17:55:20.085Z"
   },
   {
    "duration": 22,
    "start_time": "2021-09-20T17:55:20.159Z"
   },
   {
    "duration": 48,
    "start_time": "2021-09-20T17:55:20.185Z"
   },
   {
    "duration": 28,
    "start_time": "2021-09-20T17:55:20.236Z"
   },
   {
    "duration": 17,
    "start_time": "2021-09-20T17:55:20.267Z"
   },
   {
    "duration": 31,
    "start_time": "2021-09-20T17:55:20.287Z"
   },
   {
    "duration": 39,
    "start_time": "2021-09-20T17:55:20.323Z"
   },
   {
    "duration": 51,
    "start_time": "2021-09-20T17:55:20.366Z"
   },
   {
    "duration": 9,
    "start_time": "2021-09-20T17:55:20.420Z"
   },
   {
    "duration": 22,
    "start_time": "2021-09-20T17:55:20.432Z"
   },
   {
    "duration": 88,
    "start_time": "2021-09-20T17:55:20.457Z"
   },
   {
    "duration": 9,
    "start_time": "2021-09-20T17:55:20.548Z"
   },
   {
    "duration": 8,
    "start_time": "2021-09-20T17:55:20.560Z"
   },
   {
    "duration": 6,
    "start_time": "2021-09-20T17:55:20.570Z"
   },
   {
    "duration": 102,
    "start_time": "2021-09-20T17:55:20.579Z"
   },
   {
    "duration": 5,
    "start_time": "2021-09-20T17:55:20.683Z"
   },
   {
    "duration": 37,
    "start_time": "2021-09-20T17:55:20.690Z"
   },
   {
    "duration": 5,
    "start_time": "2021-09-20T17:55:20.730Z"
   },
   {
    "duration": 8,
    "start_time": "2021-09-20T17:55:20.737Z"
   },
   {
    "duration": 9,
    "start_time": "2021-09-20T17:55:20.747Z"
   },
   {
    "duration": 13,
    "start_time": "2021-09-20T17:55:20.758Z"
   },
   {
    "duration": 985,
    "start_time": "2021-09-20T17:55:20.776Z"
   },
   {
    "duration": 802,
    "start_time": "2021-09-20T17:55:21.764Z"
   },
   {
    "duration": 8,
    "start_time": "2021-09-20T17:55:22.569Z"
   },
   {
    "duration": 60,
    "start_time": "2021-09-20T17:55:22.580Z"
   },
   {
    "duration": 37,
    "start_time": "2021-09-20T17:55:22.643Z"
   },
   {
    "duration": 4103,
    "start_time": "2021-09-20T17:55:22.683Z"
   },
   {
    "duration": 32,
    "start_time": "2021-09-20T17:55:26.789Z"
   },
   {
    "duration": 25,
    "start_time": "2021-09-20T17:55:26.823Z"
   },
   {
    "duration": 19,
    "start_time": "2021-09-20T17:55:26.850Z"
   },
   {
    "duration": 7,
    "start_time": "2021-09-20T17:55:26.871Z"
   },
   {
    "duration": 39,
    "start_time": "2021-09-20T17:55:26.881Z"
   },
   {
    "duration": 14,
    "start_time": "2021-09-20T17:55:26.923Z"
   },
   {
    "duration": 44,
    "start_time": "2021-09-20T17:55:26.940Z"
   },
   {
    "duration": 5856,
    "start_time": "2021-09-20T17:55:26.986Z"
   },
   {
    "duration": 24,
    "start_time": "2021-09-20T17:55:32.844Z"
   },
   {
    "duration": 725,
    "start_time": "2021-09-20T17:55:32.870Z"
   },
   {
    "duration": 1020,
    "start_time": "2021-09-20T17:55:33.597Z"
   },
   {
    "duration": 1021,
    "start_time": "2021-09-20T17:55:34.620Z"
   },
   {
    "duration": 12,
    "start_time": "2021-09-20T17:55:35.644Z"
   },
   {
    "duration": 1012,
    "start_time": "2021-09-20T17:55:35.659Z"
   },
   {
    "duration": 13,
    "start_time": "2021-09-20T17:55:36.673Z"
   },
   {
    "duration": 37,
    "start_time": "2021-09-20T17:55:36.689Z"
   },
   {
    "duration": 505,
    "start_time": "2021-09-20T17:55:36.728Z"
   },
   {
    "duration": 6,
    "start_time": "2021-09-20T17:55:37.236Z"
   },
   {
    "duration": 7,
    "start_time": "2021-09-20T17:58:33.131Z"
   },
   {
    "duration": 35,
    "start_time": "2021-09-20T17:58:51.131Z"
   },
   {
    "duration": 9,
    "start_time": "2021-09-20T17:59:22.991Z"
   },
   {
    "duration": 34,
    "start_time": "2021-09-20T17:59:25.645Z"
   },
   {
    "duration": 14,
    "start_time": "2021-09-20T18:03:41.595Z"
   },
   {
    "duration": 16,
    "start_time": "2021-09-20T18:03:48.001Z"
   },
   {
    "duration": 506,
    "start_time": "2021-09-20T18:06:32.705Z"
   },
   {
    "duration": 5,
    "start_time": "2021-09-20T18:06:48.247Z"
   },
   {
    "duration": 65,
    "start_time": "2021-09-20T18:06:48.258Z"
   },
   {
    "duration": 16,
    "start_time": "2021-09-20T18:06:48.326Z"
   },
   {
    "duration": 26,
    "start_time": "2021-09-20T18:06:48.346Z"
   },
   {
    "duration": 55,
    "start_time": "2021-09-20T18:06:48.374Z"
   },
   {
    "duration": 8,
    "start_time": "2021-09-20T18:06:48.433Z"
   },
   {
    "duration": 14,
    "start_time": "2021-09-20T18:06:48.445Z"
   },
   {
    "duration": 67,
    "start_time": "2021-09-20T18:06:48.462Z"
   },
   {
    "duration": 26,
    "start_time": "2021-09-20T18:06:48.532Z"
   },
   {
    "duration": 7,
    "start_time": "2021-09-20T18:06:48.562Z"
   },
   {
    "duration": 47,
    "start_time": "2021-09-20T18:06:48.572Z"
   },
   {
    "duration": 42,
    "start_time": "2021-09-20T18:06:48.621Z"
   },
   {
    "duration": 7,
    "start_time": "2021-09-20T18:06:48.665Z"
   },
   {
    "duration": 46,
    "start_time": "2021-09-20T18:06:48.675Z"
   },
   {
    "duration": 6,
    "start_time": "2021-09-20T18:06:48.724Z"
   },
   {
    "duration": 41,
    "start_time": "2021-09-20T18:06:48.733Z"
   },
   {
    "duration": 43,
    "start_time": "2021-09-20T18:06:48.777Z"
   },
   {
    "duration": 46,
    "start_time": "2021-09-20T18:06:48.824Z"
   },
   {
    "duration": 8,
    "start_time": "2021-09-20T18:06:48.873Z"
   },
   {
    "duration": 34,
    "start_time": "2021-09-20T18:06:48.884Z"
   },
   {
    "duration": 10,
    "start_time": "2021-09-20T18:06:48.920Z"
   },
   {
    "duration": 12,
    "start_time": "2021-09-20T18:06:48.932Z"
   },
   {
    "duration": 1073,
    "start_time": "2021-09-20T18:06:48.946Z"
   },
   {
    "duration": 806,
    "start_time": "2021-09-20T18:06:50.023Z"
   },
   {
    "duration": 9,
    "start_time": "2021-09-20T18:06:50.832Z"
   },
   {
    "duration": 42,
    "start_time": "2021-09-20T18:06:50.844Z"
   },
   {
    "duration": 60,
    "start_time": "2021-09-20T18:06:50.889Z"
   },
   {
    "duration": 2904,
    "start_time": "2021-09-20T18:06:50.955Z"
   },
   {
    "duration": 19,
    "start_time": "2021-09-20T18:06:53.862Z"
   },
   {
    "duration": 282,
    "start_time": "2021-09-20T18:06:53.883Z"
   },
   {
    "duration": 133,
    "start_time": "2021-09-20T18:06:54.168Z"
   },
   {
    "duration": 6,
    "start_time": "2021-09-20T18:06:54.304Z"
   },
   {
    "duration": 9,
    "start_time": "2021-09-20T18:06:54.313Z"
   },
   {
    "duration": 11,
    "start_time": "2021-09-20T18:06:54.324Z"
   },
   {
    "duration": 41,
    "start_time": "2021-09-20T18:06:54.337Z"
   },
   {
    "duration": 6114,
    "start_time": "2021-09-20T18:06:54.381Z"
   },
   {
    "duration": 32,
    "start_time": "2021-09-20T18:07:00.497Z"
   },
   {
    "duration": 906,
    "start_time": "2021-09-20T18:07:00.531Z"
   },
   {
    "duration": 988,
    "start_time": "2021-09-20T18:07:01.440Z"
   },
   {
    "duration": 864,
    "start_time": "2021-09-20T18:07:02.431Z"
   },
   {
    "duration": 19,
    "start_time": "2021-09-20T18:07:03.298Z"
   },
   {
    "duration": 699,
    "start_time": "2021-09-20T18:07:03.320Z"
   },
   {
    "duration": 9,
    "start_time": "2021-09-20T18:07:04.022Z"
   },
   {
    "duration": 16,
    "start_time": "2021-09-20T18:07:04.034Z"
   },
   {
    "duration": 550,
    "start_time": "2021-09-20T18:07:04.052Z"
   },
   {
    "duration": 16,
    "start_time": "2021-09-20T18:07:04.604Z"
   },
   {
    "duration": 16,
    "start_time": "2021-09-20T18:07:04.622Z"
   },
   {
    "duration": 32,
    "start_time": "2021-09-20T18:07:04.640Z"
   },
   {
    "duration": 1369,
    "start_time": "2021-09-20T18:08:58.984Z"
   },
   {
    "duration": 1090,
    "start_time": "2021-09-20T18:09:11.051Z"
   },
   {
    "duration": 15,
    "start_time": "2021-09-20T18:14:48.251Z"
   },
   {
    "duration": 16,
    "start_time": "2021-09-20T18:14:59.611Z"
   },
   {
    "duration": 324,
    "start_time": "2021-09-20T18:17:54.768Z"
   },
   {
    "duration": 13,
    "start_time": "2021-09-20T18:18:02.424Z"
   },
   {
    "duration": 14,
    "start_time": "2021-09-20T18:18:13.496Z"
   },
   {
    "duration": 13,
    "start_time": "2021-09-20T18:20:21.685Z"
   },
   {
    "duration": 18,
    "start_time": "2021-09-20T18:20:43.633Z"
   },
   {
    "duration": 7,
    "start_time": "2021-09-20T18:22:41.110Z"
   },
   {
    "duration": 13,
    "start_time": "2021-09-20T18:27:59.606Z"
   },
   {
    "duration": 47,
    "start_time": "2021-09-20T18:28:14.382Z"
   },
   {
    "duration": 328,
    "start_time": "2021-09-20T18:28:44.660Z"
   },
   {
    "duration": 45,
    "start_time": "2021-09-20T18:28:51.813Z"
   },
   {
    "duration": 31,
    "start_time": "2021-09-20T18:28:56.924Z"
   },
   {
    "duration": 4,
    "start_time": "2021-09-20T18:29:03.527Z"
   },
   {
    "duration": 91,
    "start_time": "2021-09-20T18:29:03.534Z"
   },
   {
    "duration": 16,
    "start_time": "2021-09-20T18:29:03.628Z"
   },
   {
    "duration": 24,
    "start_time": "2021-09-20T18:29:03.648Z"
   },
   {
    "duration": 12,
    "start_time": "2021-09-20T18:29:03.715Z"
   },
   {
    "duration": 11,
    "start_time": "2021-09-20T18:29:03.730Z"
   },
   {
    "duration": 15,
    "start_time": "2021-09-20T18:29:03.744Z"
   },
   {
    "duration": 9,
    "start_time": "2021-09-20T18:29:03.761Z"
   },
   {
    "duration": 64,
    "start_time": "2021-09-20T18:29:03.774Z"
   },
   {
    "duration": 23,
    "start_time": "2021-09-20T18:29:03.841Z"
   },
   {
    "duration": 52,
    "start_time": "2021-09-20T18:29:03.866Z"
   },
   {
    "duration": 9,
    "start_time": "2021-09-20T18:29:03.921Z"
   },
   {
    "duration": 17,
    "start_time": "2021-09-20T18:29:03.933Z"
   },
   {
    "duration": 70,
    "start_time": "2021-09-20T18:29:03.953Z"
   },
   {
    "duration": 7,
    "start_time": "2021-09-20T18:29:04.025Z"
   },
   {
    "duration": 14,
    "start_time": "2021-09-20T18:29:04.034Z"
   },
   {
    "duration": 12,
    "start_time": "2021-09-20T18:29:04.050Z"
   },
   {
    "duration": 61,
    "start_time": "2021-09-20T18:29:04.064Z"
   },
   {
    "duration": 7,
    "start_time": "2021-09-20T18:29:04.127Z"
   },
   {
    "duration": 42,
    "start_time": "2021-09-20T18:29:04.136Z"
   },
   {
    "duration": 6,
    "start_time": "2021-09-20T18:29:04.180Z"
   },
   {
    "duration": 32,
    "start_time": "2021-09-20T18:29:04.188Z"
   },
   {
    "duration": 19,
    "start_time": "2021-09-20T18:29:04.222Z"
   },
   {
    "duration": 12,
    "start_time": "2021-09-20T18:29:04.243Z"
   },
   {
    "duration": 1062,
    "start_time": "2021-09-20T18:29:04.258Z"
   },
   {
    "duration": 797,
    "start_time": "2021-09-20T18:29:05.323Z"
   },
   {
    "duration": 7,
    "start_time": "2021-09-20T18:29:06.125Z"
   },
   {
    "duration": 44,
    "start_time": "2021-09-20T18:29:06.135Z"
   },
   {
    "duration": 62,
    "start_time": "2021-09-20T18:29:06.182Z"
   },
   {
    "duration": 2579,
    "start_time": "2021-09-20T18:29:06.247Z"
   },
   {
    "duration": 18,
    "start_time": "2021-09-20T18:29:08.829Z"
   },
   {
    "duration": 53,
    "start_time": "2021-09-20T18:29:08.849Z"
   },
   {
    "duration": 15,
    "start_time": "2021-09-20T18:29:08.904Z"
   },
   {
    "duration": 8,
    "start_time": "2021-09-20T18:29:08.921Z"
   },
   {
    "duration": 7,
    "start_time": "2021-09-20T18:29:08.932Z"
   },
   {
    "duration": 9,
    "start_time": "2021-09-20T18:29:08.942Z"
   },
   {
    "duration": 90,
    "start_time": "2021-09-20T18:29:08.954Z"
   },
   {
    "duration": 6067,
    "start_time": "2021-09-20T18:29:09.047Z"
   },
   {
    "duration": 24,
    "start_time": "2021-09-20T18:29:15.117Z"
   },
   {
    "duration": 735,
    "start_time": "2021-09-20T18:29:15.143Z"
   },
   {
    "duration": 1000,
    "start_time": "2021-09-20T18:29:15.881Z"
   },
   {
    "duration": 937,
    "start_time": "2021-09-20T18:29:16.883Z"
   },
   {
    "duration": 9,
    "start_time": "2021-09-20T18:29:17.823Z"
   },
   {
    "duration": 670,
    "start_time": "2021-09-20T18:29:17.834Z"
   },
   {
    "duration": 14,
    "start_time": "2021-09-20T18:29:18.506Z"
   },
   {
    "duration": 17,
    "start_time": "2021-09-20T18:29:18.523Z"
   },
   {
    "duration": 561,
    "start_time": "2021-09-20T18:29:18.543Z"
   },
   {
    "duration": 12,
    "start_time": "2021-09-20T18:29:19.107Z"
   },
   {
    "duration": 16,
    "start_time": "2021-09-20T18:29:19.122Z"
   },
   {
    "duration": 31,
    "start_time": "2021-09-20T18:29:19.140Z"
   },
   {
    "duration": 1145,
    "start_time": "2021-09-20T18:29:19.174Z"
   },
   {
    "duration": 16,
    "start_time": "2021-09-20T18:29:20.323Z"
   },
   {
    "duration": 22,
    "start_time": "2021-09-20T18:29:20.341Z"
   },
   {
    "duration": 22,
    "start_time": "2021-09-20T18:29:20.366Z"
   },
   {
    "duration": 23,
    "start_time": "2021-09-20T18:31:24.789Z"
   },
   {
    "duration": 34,
    "start_time": "2021-09-20T18:31:32.117Z"
   },
   {
    "duration": 27,
    "start_time": "2021-09-20T18:33:14.382Z"
   },
   {
    "duration": 1204,
    "start_time": "2021-09-20T18:34:29.896Z"
   },
   {
    "duration": 8,
    "start_time": "2021-09-20T18:55:31.597Z"
   },
   {
    "duration": 10,
    "start_time": "2021-09-20T18:56:30.326Z"
   },
   {
    "duration": 579,
    "start_time": "2021-09-20T18:58:23.511Z"
   },
   {
    "duration": 605,
    "start_time": "2021-09-20T18:58:49.982Z"
   },
   {
    "duration": 952,
    "start_time": "2021-09-20T19:00:05.407Z"
   },
   {
    "duration": 12,
    "start_time": "2021-09-20T19:01:23.379Z"
   },
   {
    "duration": 14,
    "start_time": "2021-09-20T19:01:49.612Z"
   },
   {
    "duration": 4245,
    "start_time": "2021-09-20T19:01:51.055Z"
   },
   {
    "duration": 15,
    "start_time": "2021-09-20T19:02:21.742Z"
   },
   {
    "duration": 657,
    "start_time": "2021-09-20T19:02:33.983Z"
   },
   {
    "duration": 8,
    "start_time": "2021-09-20T19:03:16.287Z"
   },
   {
    "duration": 11,
    "start_time": "2021-09-20T19:05:41.273Z"
   },
   {
    "duration": 1027,
    "start_time": "2021-09-20T19:06:35.242Z"
   },
   {
    "duration": 13,
    "start_time": "2021-09-20T19:06:45.296Z"
   },
   {
    "duration": 923,
    "start_time": "2021-09-20T19:06:48.410Z"
   },
   {
    "duration": 12,
    "start_time": "2021-09-20T19:07:22.201Z"
   },
   {
    "duration": 675,
    "start_time": "2021-09-20T19:07:22.910Z"
   },
   {
    "duration": 7,
    "start_time": "2021-09-20T19:07:29.391Z"
   },
   {
    "duration": 6,
    "start_time": "2021-09-20T19:07:40.221Z"
   },
   {
    "duration": 99,
    "start_time": "2021-09-20T19:07:40.230Z"
   },
   {
    "duration": 14,
    "start_time": "2021-09-20T19:07:40.332Z"
   },
   {
    "duration": 29,
    "start_time": "2021-09-20T19:07:40.349Z"
   },
   {
    "duration": 44,
    "start_time": "2021-09-20T19:07:40.381Z"
   },
   {
    "duration": 9,
    "start_time": "2021-09-20T19:07:40.429Z"
   },
   {
    "duration": 13,
    "start_time": "2021-09-20T19:07:40.441Z"
   },
   {
    "duration": 70,
    "start_time": "2021-09-20T19:07:40.458Z"
   },
   {
    "duration": 25,
    "start_time": "2021-09-20T19:07:40.531Z"
   },
   {
    "duration": 10,
    "start_time": "2021-09-20T19:07:40.559Z"
   },
   {
    "duration": 48,
    "start_time": "2021-09-20T19:07:40.572Z"
   },
   {
    "duration": 42,
    "start_time": "2021-09-20T19:07:40.623Z"
   },
   {
    "duration": 8,
    "start_time": "2021-09-20T19:07:40.668Z"
   },
   {
    "duration": 39,
    "start_time": "2021-09-20T19:07:40.679Z"
   },
   {
    "duration": 10,
    "start_time": "2021-09-20T19:07:40.721Z"
   },
   {
    "duration": 47,
    "start_time": "2021-09-20T19:07:40.734Z"
   },
   {
    "duration": 6,
    "start_time": "2021-09-20T19:07:40.784Z"
   },
   {
    "duration": 41,
    "start_time": "2021-09-20T19:07:40.817Z"
   },
   {
    "duration": 8,
    "start_time": "2021-09-20T19:07:40.862Z"
   },
   {
    "duration": 45,
    "start_time": "2021-09-20T19:07:40.872Z"
   },
   {
    "duration": 10,
    "start_time": "2021-09-20T19:07:40.922Z"
   },
   {
    "duration": 7,
    "start_time": "2021-09-20T19:07:40.935Z"
   },
   {
    "duration": 1028,
    "start_time": "2021-09-20T19:07:40.948Z"
   },
   {
    "duration": 1076,
    "start_time": "2021-09-20T19:07:41.980Z"
   },
   {
    "duration": 7,
    "start_time": "2021-09-20T19:07:43.059Z"
   },
   {
    "duration": 60,
    "start_time": "2021-09-20T19:07:43.068Z"
   },
   {
    "duration": 36,
    "start_time": "2021-09-20T19:07:43.133Z"
   },
   {
    "duration": 2803,
    "start_time": "2021-09-20T19:07:43.172Z"
   },
   {
    "duration": 20,
    "start_time": "2021-09-20T19:07:45.978Z"
   },
   {
    "duration": 39,
    "start_time": "2021-09-20T19:07:46.000Z"
   },
   {
    "duration": 12,
    "start_time": "2021-09-20T19:07:46.042Z"
   },
   {
    "duration": 8,
    "start_time": "2021-09-20T19:07:46.057Z"
   },
   {
    "duration": 13,
    "start_time": "2021-09-20T19:07:46.068Z"
   },
   {
    "duration": 8,
    "start_time": "2021-09-20T19:07:46.118Z"
   },
   {
    "duration": 43,
    "start_time": "2021-09-20T19:07:46.129Z"
   },
   {
    "duration": 6143,
    "start_time": "2021-09-20T19:07:46.175Z"
   },
   {
    "duration": 27,
    "start_time": "2021-09-20T19:07:52.321Z"
   },
   {
    "duration": 757,
    "start_time": "2021-09-20T19:07:52.350Z"
   },
   {
    "duration": 924,
    "start_time": "2021-09-20T19:07:53.116Z"
   },
   {
    "duration": 1039,
    "start_time": "2021-09-20T19:07:54.043Z"
   },
   {
    "duration": 11,
    "start_time": "2021-09-20T19:07:55.085Z"
   },
   {
    "duration": 740,
    "start_time": "2021-09-20T19:07:55.099Z"
   },
   {
    "duration": 12,
    "start_time": "2021-09-20T19:07:55.842Z"
   },
   {
    "duration": 21,
    "start_time": "2021-09-20T19:07:55.857Z"
   },
   {
    "duration": 548,
    "start_time": "2021-09-20T19:07:55.881Z"
   },
   {
    "duration": 7,
    "start_time": "2021-09-20T19:07:56.432Z"
   },
   {
    "duration": 16,
    "start_time": "2021-09-20T19:07:56.441Z"
   },
   {
    "duration": 63,
    "start_time": "2021-09-20T19:07:56.460Z"
   },
   {
    "duration": 1337,
    "start_time": "2021-09-20T19:07:56.527Z"
   },
   {
    "duration": 13,
    "start_time": "2021-09-20T19:07:57.867Z"
   },
   {
    "duration": 15,
    "start_time": "2021-09-20T19:07:57.883Z"
   },
   {
    "duration": 19,
    "start_time": "2021-09-20T19:07:57.918Z"
   },
   {
    "duration": 27,
    "start_time": "2021-09-20T19:07:57.940Z"
   },
   {
    "duration": 1249,
    "start_time": "2021-09-20T19:07:57.970Z"
   },
   {
    "duration": 15,
    "start_time": "2021-09-20T19:07:59.223Z"
   },
   {
    "duration": 776,
    "start_time": "2021-09-20T19:07:59.240Z"
   },
   {
    "duration": 11,
    "start_time": "2021-09-20T19:08:00.020Z"
   },
   {
    "duration": 13,
    "start_time": "2021-09-20T19:08:00.034Z"
   },
   {
    "duration": 713,
    "start_time": "2021-09-20T19:08:00.049Z"
   },
   {
    "duration": 7,
    "start_time": "2021-09-20T19:08:00.764Z"
   },
   {
    "duration": 29,
    "start_time": "2021-09-20T19:39:15.035Z"
   },
   {
    "duration": 5,
    "start_time": "2021-09-20T20:13:31.737Z"
   },
   {
    "duration": 78,
    "start_time": "2021-09-20T20:13:31.746Z"
   },
   {
    "duration": 17,
    "start_time": "2021-09-20T20:13:31.828Z"
   },
   {
    "duration": 23,
    "start_time": "2021-09-20T20:13:31.849Z"
   },
   {
    "duration": 52,
    "start_time": "2021-09-20T20:13:31.874Z"
   },
   {
    "duration": 7,
    "start_time": "2021-09-20T20:13:31.929Z"
   },
   {
    "duration": 18,
    "start_time": "2021-09-20T20:13:31.938Z"
   },
   {
    "duration": 59,
    "start_time": "2021-09-20T20:13:31.959Z"
   },
   {
    "duration": 24,
    "start_time": "2021-09-20T20:13:32.021Z"
   },
   {
    "duration": 21,
    "start_time": "2021-09-20T20:13:32.047Z"
   },
   {
    "duration": 59,
    "start_time": "2021-09-20T20:13:32.070Z"
   },
   {
    "duration": 5,
    "start_time": "2021-09-20T20:13:32.132Z"
   },
   {
    "duration": 9,
    "start_time": "2021-09-20T20:13:32.140Z"
   },
   {
    "duration": 67,
    "start_time": "2021-09-20T20:13:32.152Z"
   },
   {
    "duration": 7,
    "start_time": "2021-09-20T20:13:32.228Z"
   },
   {
    "duration": 39,
    "start_time": "2021-09-20T20:13:32.238Z"
   },
   {
    "duration": 36,
    "start_time": "2021-09-20T20:13:32.280Z"
   },
   {
    "duration": 6,
    "start_time": "2021-09-20T20:13:32.319Z"
   },
   {
    "duration": 18,
    "start_time": "2021-09-20T20:13:32.328Z"
   },
   {
    "duration": 20,
    "start_time": "2021-09-20T20:13:32.349Z"
   },
   {
    "duration": 1214,
    "start_time": "2021-09-20T20:13:32.372Z"
   },
   {
    "duration": 811,
    "start_time": "2021-09-20T20:13:33.588Z"
   },
   {
    "duration": 15,
    "start_time": "2021-09-20T20:13:34.405Z"
   },
   {
    "duration": 44,
    "start_time": "2021-09-20T20:13:34.423Z"
   },
   {
    "duration": 53,
    "start_time": "2021-09-20T20:13:34.469Z"
   },
   {
    "duration": 2605,
    "start_time": "2021-09-20T20:13:34.524Z"
   },
   {
    "duration": 20,
    "start_time": "2021-09-20T20:13:37.133Z"
   },
   {
    "duration": 26,
    "start_time": "2021-09-20T20:13:37.156Z"
   },
   {
    "duration": 11,
    "start_time": "2021-09-20T20:13:37.218Z"
   },
   {
    "duration": 7,
    "start_time": "2021-09-20T20:13:37.232Z"
   },
   {
    "duration": 7,
    "start_time": "2021-09-20T20:13:37.242Z"
   },
   {
    "duration": 9,
    "start_time": "2021-09-20T20:13:37.251Z"
   },
   {
    "duration": 81,
    "start_time": "2021-09-20T20:13:37.262Z"
   },
   {
    "duration": 4560,
    "start_time": "2021-09-20T20:13:37.346Z"
   },
   {
    "duration": 21,
    "start_time": "2021-09-20T20:13:41.916Z"
   },
   {
    "duration": 704,
    "start_time": "2021-09-20T20:13:41.939Z"
   },
   {
    "duration": 774,
    "start_time": "2021-09-20T20:13:42.645Z"
   },
   {
    "duration": 721,
    "start_time": "2021-09-20T20:13:43.421Z"
   },
   {
    "duration": 9,
    "start_time": "2021-09-20T20:13:44.144Z"
   },
   {
    "duration": 650,
    "start_time": "2021-09-20T20:13:44.156Z"
   },
   {
    "duration": 14,
    "start_time": "2021-09-20T20:13:44.808Z"
   },
   {
    "duration": 16,
    "start_time": "2021-09-20T20:13:44.825Z"
   },
   {
    "duration": 573,
    "start_time": "2021-09-20T20:13:44.843Z"
   },
   {
    "duration": 7,
    "start_time": "2021-09-20T20:13:45.418Z"
   },
   {
    "duration": 11,
    "start_time": "2021-09-20T20:13:45.427Z"
   },
   {
    "duration": 24,
    "start_time": "2021-09-20T20:13:45.441Z"
   },
   {
    "duration": 1228,
    "start_time": "2021-09-20T20:13:45.467Z"
   },
   {
    "duration": 26,
    "start_time": "2021-09-20T20:13:46.698Z"
   },
   {
    "duration": 13,
    "start_time": "2021-09-20T20:13:46.727Z"
   },
   {
    "duration": 13,
    "start_time": "2021-09-20T20:13:46.742Z"
   },
   {
    "duration": 25,
    "start_time": "2021-09-20T20:13:46.758Z"
   },
   {
    "duration": 1202,
    "start_time": "2021-09-20T20:13:46.817Z"
   },
   {
    "duration": 10,
    "start_time": "2021-09-20T20:13:48.021Z"
   },
   {
    "duration": 618,
    "start_time": "2021-09-20T20:13:48.033Z"
   },
   {
    "duration": 8,
    "start_time": "2021-09-20T20:13:48.654Z"
   },
   {
    "duration": 17,
    "start_time": "2021-09-20T20:13:48.665Z"
   },
   {
    "duration": 654,
    "start_time": "2021-09-20T20:13:48.685Z"
   },
   {
    "duration": 10,
    "start_time": "2021-09-20T20:13:49.342Z"
   },
   {
    "duration": 5,
    "start_time": "2021-09-20T20:14:54.061Z"
   },
   {
    "duration": 84,
    "start_time": "2021-09-20T20:14:54.069Z"
   },
   {
    "duration": 20,
    "start_time": "2021-09-20T20:14:54.157Z"
   },
   {
    "duration": 23,
    "start_time": "2021-09-20T20:14:54.216Z"
   },
   {
    "duration": 14,
    "start_time": "2021-09-20T20:14:54.242Z"
   },
   {
    "duration": 9,
    "start_time": "2021-09-20T20:14:54.259Z"
   },
   {
    "duration": 57,
    "start_time": "2021-09-20T20:14:54.271Z"
   },
   {
    "duration": 21,
    "start_time": "2021-09-20T20:14:54.333Z"
   },
   {
    "duration": 75,
    "start_time": "2021-09-20T20:14:54.358Z"
   },
   {
    "duration": 13,
    "start_time": "2021-09-20T20:14:54.436Z"
   },
   {
    "duration": 67,
    "start_time": "2021-09-20T20:14:54.452Z"
   },
   {
    "duration": 10,
    "start_time": "2021-09-20T20:14:54.522Z"
   },
   {
    "duration": 5,
    "start_time": "2021-09-20T20:14:54.535Z"
   },
   {
    "duration": 75,
    "start_time": "2021-09-20T20:14:54.543Z"
   },
   {
    "duration": 7,
    "start_time": "2021-09-20T20:14:54.621Z"
   },
   {
    "duration": 38,
    "start_time": "2021-09-20T20:14:54.631Z"
   },
   {
    "duration": 9,
    "start_time": "2021-09-20T20:14:54.672Z"
   },
   {
    "duration": 6,
    "start_time": "2021-09-20T20:14:54.717Z"
   },
   {
    "duration": 12,
    "start_time": "2021-09-20T20:14:54.725Z"
   },
   {
    "duration": 14,
    "start_time": "2021-09-20T20:14:54.739Z"
   },
   {
    "duration": 1630,
    "start_time": "2021-09-20T20:14:54.756Z"
   },
   {
    "duration": 829,
    "start_time": "2021-09-20T20:14:56.389Z"
   },
   {
    "duration": 7,
    "start_time": "2021-09-20T20:14:57.224Z"
   },
   {
    "duration": 40,
    "start_time": "2021-09-20T20:14:57.235Z"
   },
   {
    "duration": 69,
    "start_time": "2021-09-20T20:14:57.278Z"
   },
   {
    "duration": 2902,
    "start_time": "2021-09-20T20:14:57.349Z"
   },
   {
    "duration": 19,
    "start_time": "2021-09-20T20:15:00.253Z"
   },
   {
    "duration": 53,
    "start_time": "2021-09-20T20:15:00.275Z"
   },
   {
    "duration": 12,
    "start_time": "2021-09-20T20:15:00.332Z"
   },
   {
    "duration": 10,
    "start_time": "2021-09-20T20:15:00.348Z"
   },
   {
    "duration": 11,
    "start_time": "2021-09-20T20:15:00.361Z"
   },
   {
    "duration": 70,
    "start_time": "2021-09-20T20:15:00.374Z"
   },
   {
    "duration": 49,
    "start_time": "2021-09-20T20:15:00.446Z"
   },
   {
    "duration": 6170,
    "start_time": "2021-09-20T20:15:00.498Z"
   },
   {
    "duration": 47,
    "start_time": "2021-09-20T20:15:06.671Z"
   },
   {
    "duration": 1006,
    "start_time": "2021-09-20T20:15:06.720Z"
   },
   {
    "duration": 1420,
    "start_time": "2021-09-20T20:15:07.729Z"
   },
   {
    "duration": 1499,
    "start_time": "2021-09-20T20:15:09.152Z"
   },
   {
    "duration": 10,
    "start_time": "2021-09-20T20:15:10.654Z"
   },
   {
    "duration": 812,
    "start_time": "2021-09-20T20:15:10.668Z"
   },
   {
    "duration": 11,
    "start_time": "2021-09-20T20:15:11.483Z"
   },
   {
    "duration": 35,
    "start_time": "2021-09-20T20:15:11.497Z"
   },
   {
    "duration": 522,
    "start_time": "2021-09-20T20:15:11.535Z"
   },
   {
    "duration": 7,
    "start_time": "2021-09-20T20:15:12.059Z"
   },
   {
    "duration": 16,
    "start_time": "2021-09-20T20:15:12.069Z"
   },
   {
    "duration": 47,
    "start_time": "2021-09-20T20:15:12.088Z"
   },
   {
    "duration": 1137,
    "start_time": "2021-09-20T20:15:12.138Z"
   },
   {
    "duration": 14,
    "start_time": "2021-09-20T20:15:13.278Z"
   },
   {
    "duration": 33,
    "start_time": "2021-09-20T20:15:13.295Z"
   },
   {
    "duration": 29,
    "start_time": "2021-09-20T20:15:13.330Z"
   },
   {
    "duration": 58,
    "start_time": "2021-09-20T20:15:13.362Z"
   },
   {
    "duration": 2000,
    "start_time": "2021-09-20T20:15:13.423Z"
   },
   {
    "duration": 18,
    "start_time": "2021-09-20T20:15:15.426Z"
   },
   {
    "duration": 1028,
    "start_time": "2021-09-20T20:15:15.447Z"
   },
   {
    "duration": 9,
    "start_time": "2021-09-20T20:15:16.479Z"
   },
   {
    "duration": 43,
    "start_time": "2021-09-20T20:15:16.491Z"
   },
   {
    "duration": 641,
    "start_time": "2021-09-20T20:15:16.537Z"
   },
   {
    "duration": 7,
    "start_time": "2021-09-20T20:15:17.181Z"
   },
   {
    "duration": 19,
    "start_time": "2021-09-20T20:20:44.489Z"
   },
   {
    "duration": 4,
    "start_time": "2021-09-20T20:21:06.775Z"
   },
   {
    "duration": 69,
    "start_time": "2021-09-20T20:21:06.782Z"
   },
   {
    "duration": 14,
    "start_time": "2021-09-20T20:21:06.854Z"
   },
   {
    "duration": 58,
    "start_time": "2021-09-20T20:21:06.871Z"
   },
   {
    "duration": 19,
    "start_time": "2021-09-20T20:21:06.931Z"
   },
   {
    "duration": 7,
    "start_time": "2021-09-20T20:21:06.953Z"
   },
   {
    "duration": 15,
    "start_time": "2021-09-20T20:21:06.963Z"
   },
   {
    "duration": 55,
    "start_time": "2021-09-20T20:21:06.981Z"
   },
   {
    "duration": 25,
    "start_time": "2021-09-20T20:21:07.039Z"
   },
   {
    "duration": 11,
    "start_time": "2021-09-20T20:21:07.066Z"
   },
   {
    "duration": 77,
    "start_time": "2021-09-20T20:21:07.080Z"
   },
   {
    "duration": 7,
    "start_time": "2021-09-20T20:21:07.160Z"
   },
   {
    "duration": 7,
    "start_time": "2021-09-20T20:21:07.170Z"
   },
   {
    "duration": 71,
    "start_time": "2021-09-20T20:21:07.179Z"
   },
   {
    "duration": 7,
    "start_time": "2021-09-20T20:21:07.252Z"
   },
   {
    "duration": 65,
    "start_time": "2021-09-20T20:21:07.261Z"
   },
   {
    "duration": 7,
    "start_time": "2021-09-20T20:21:07.328Z"
   },
   {
    "duration": 11,
    "start_time": "2021-09-20T20:21:07.337Z"
   },
   {
    "duration": 12,
    "start_time": "2021-09-20T20:21:07.350Z"
   },
   {
    "duration": 8,
    "start_time": "2021-09-20T20:21:07.364Z"
   },
   {
    "duration": 964,
    "start_time": "2021-09-20T20:21:07.374Z"
   },
   {
    "duration": 787,
    "start_time": "2021-09-20T20:21:08.341Z"
   },
   {
    "duration": 7,
    "start_time": "2021-09-20T20:21:09.135Z"
   },
   {
    "duration": 39,
    "start_time": "2021-09-20T20:21:09.145Z"
   },
   {
    "duration": 65,
    "start_time": "2021-09-20T20:21:09.186Z"
   },
   {
    "duration": 2737,
    "start_time": "2021-09-20T20:21:09.254Z"
   },
   {
    "duration": 33,
    "start_time": "2021-09-20T20:21:11.993Z"
   },
   {
    "duration": 24,
    "start_time": "2021-09-20T20:21:12.028Z"
   },
   {
    "duration": 10,
    "start_time": "2021-09-20T20:21:12.054Z"
   },
   {
    "duration": 11,
    "start_time": "2021-09-20T20:21:12.066Z"
   },
   {
    "duration": 41,
    "start_time": "2021-09-20T20:21:12.079Z"
   },
   {
    "duration": 10,
    "start_time": "2021-09-20T20:21:12.123Z"
   },
   {
    "duration": 46,
    "start_time": "2021-09-20T20:21:12.135Z"
   },
   {
    "duration": 6007,
    "start_time": "2021-09-20T20:21:12.183Z"
   },
   {
    "duration": 35,
    "start_time": "2021-09-20T20:21:18.192Z"
   },
   {
    "duration": 862,
    "start_time": "2021-09-20T20:21:18.230Z"
   },
   {
    "duration": 1290,
    "start_time": "2021-09-20T20:21:19.094Z"
   },
   {
    "duration": 918,
    "start_time": "2021-09-20T20:21:20.387Z"
   },
   {
    "duration": 14,
    "start_time": "2021-09-20T20:21:21.308Z"
   },
   {
    "duration": 671,
    "start_time": "2021-09-20T20:21:21.324Z"
   },
   {
    "duration": 21,
    "start_time": "2021-09-20T20:21:21.998Z"
   },
   {
    "duration": 14,
    "start_time": "2021-09-20T20:21:22.022Z"
   },
   {
    "duration": 492,
    "start_time": "2021-09-20T20:21:22.038Z"
   },
   {
    "duration": 7,
    "start_time": "2021-09-20T20:21:22.532Z"
   },
   {
    "duration": 11,
    "start_time": "2021-09-20T20:21:22.541Z"
   },
   {
    "duration": 27,
    "start_time": "2021-09-20T20:21:22.554Z"
   },
   {
    "duration": 1151,
    "start_time": "2021-09-20T20:21:22.583Z"
   },
   {
    "duration": 16,
    "start_time": "2021-09-20T20:21:23.736Z"
   },
   {
    "duration": 23,
    "start_time": "2021-09-20T20:21:23.754Z"
   },
   {
    "duration": 23,
    "start_time": "2021-09-20T20:21:23.779Z"
   },
   {
    "duration": 38,
    "start_time": "2021-09-20T20:21:23.804Z"
   },
   {
    "duration": 1166,
    "start_time": "2021-09-20T20:21:23.845Z"
   },
   {
    "duration": 14,
    "start_time": "2021-09-20T20:21:25.017Z"
   },
   {
    "duration": 672,
    "start_time": "2021-09-20T20:21:25.034Z"
   },
   {
    "duration": 10,
    "start_time": "2021-09-20T20:21:25.709Z"
   },
   {
    "duration": 15,
    "start_time": "2021-09-20T20:21:25.722Z"
   },
   {
    "duration": 660,
    "start_time": "2021-09-20T20:21:25.740Z"
   },
   {
    "duration": 15,
    "start_time": "2021-09-20T20:21:26.403Z"
   },
   {
    "duration": 321,
    "start_time": "2021-09-20T20:22:23.017Z"
   },
   {
    "duration": 18,
    "start_time": "2021-09-20T20:22:33.242Z"
   },
   {
    "duration": 5,
    "start_time": "2021-09-20T20:22:40.837Z"
   },
   {
    "duration": 68,
    "start_time": "2021-09-20T20:22:40.844Z"
   },
   {
    "duration": 14,
    "start_time": "2021-09-20T20:22:40.915Z"
   },
   {
    "duration": 20,
    "start_time": "2021-09-20T20:22:40.932Z"
   },
   {
    "duration": 12,
    "start_time": "2021-09-20T20:22:40.954Z"
   },
   {
    "duration": 50,
    "start_time": "2021-09-20T20:22:40.968Z"
   },
   {
    "duration": 13,
    "start_time": "2021-09-20T20:22:41.020Z"
   },
   {
    "duration": 20,
    "start_time": "2021-09-20T20:22:41.037Z"
   },
   {
    "duration": 62,
    "start_time": "2021-09-20T20:22:41.060Z"
   },
   {
    "duration": 10,
    "start_time": "2021-09-20T20:22:41.125Z"
   },
   {
    "duration": 44,
    "start_time": "2021-09-20T20:22:41.138Z"
   },
   {
    "duration": 35,
    "start_time": "2021-09-20T20:22:41.185Z"
   },
   {
    "duration": 4,
    "start_time": "2021-09-20T20:22:41.223Z"
   },
   {
    "duration": 46,
    "start_time": "2021-09-20T20:22:41.230Z"
   },
   {
    "duration": 6,
    "start_time": "2021-09-20T20:22:41.278Z"
   },
   {
    "duration": 39,
    "start_time": "2021-09-20T20:22:41.318Z"
   },
   {
    "duration": 8,
    "start_time": "2021-09-20T20:22:41.360Z"
   },
   {
    "duration": 6,
    "start_time": "2021-09-20T20:22:41.370Z"
   },
   {
    "duration": 44,
    "start_time": "2021-09-20T20:22:41.378Z"
   },
   {
    "duration": 11,
    "start_time": "2021-09-20T20:22:41.425Z"
   },
   {
    "duration": 957,
    "start_time": "2021-09-20T20:22:41.439Z"
   },
   {
    "duration": 803,
    "start_time": "2021-09-20T20:22:42.399Z"
   },
   {
    "duration": 11,
    "start_time": "2021-09-20T20:22:43.208Z"
   },
   {
    "duration": 40,
    "start_time": "2021-09-20T20:22:43.222Z"
   },
   {
    "duration": 62,
    "start_time": "2021-09-20T20:22:43.264Z"
   },
   {
    "duration": 2568,
    "start_time": "2021-09-20T20:22:43.329Z"
   },
   {
    "duration": 32,
    "start_time": "2021-09-20T20:22:45.900Z"
   },
   {
    "duration": 27,
    "start_time": "2021-09-20T20:22:45.935Z"
   },
   {
    "duration": 11,
    "start_time": "2021-09-20T20:22:45.965Z"
   },
   {
    "duration": 42,
    "start_time": "2021-09-20T20:22:45.979Z"
   },
   {
    "duration": 7,
    "start_time": "2021-09-20T20:22:46.024Z"
   },
   {
    "duration": 10,
    "start_time": "2021-09-20T20:22:46.033Z"
   },
   {
    "duration": 82,
    "start_time": "2021-09-20T20:22:46.046Z"
   },
   {
    "duration": 6211,
    "start_time": "2021-09-20T20:22:46.131Z"
   },
   {
    "duration": 25,
    "start_time": "2021-09-20T20:22:52.345Z"
   },
   {
    "duration": 737,
    "start_time": "2021-09-20T20:22:52.373Z"
   },
   {
    "duration": 880,
    "start_time": "2021-09-20T20:22:53.112Z"
   },
   {
    "duration": 954,
    "start_time": "2021-09-20T20:22:53.994Z"
   },
   {
    "duration": 10,
    "start_time": "2021-09-20T20:22:54.951Z"
   },
   {
    "duration": 752,
    "start_time": "2021-09-20T20:22:54.964Z"
   },
   {
    "duration": 10,
    "start_time": "2021-09-20T20:22:55.719Z"
   },
   {
    "duration": 18,
    "start_time": "2021-09-20T20:22:55.731Z"
   },
   {
    "duration": 525,
    "start_time": "2021-09-20T20:22:55.751Z"
   },
   {
    "duration": 7,
    "start_time": "2021-09-20T20:22:56.278Z"
   },
   {
    "duration": 31,
    "start_time": "2021-09-20T20:22:56.289Z"
   },
   {
    "duration": 33,
    "start_time": "2021-09-20T20:22:56.323Z"
   },
   {
    "duration": 1136,
    "start_time": "2021-09-20T20:22:56.359Z"
   },
   {
    "duration": 22,
    "start_time": "2021-09-20T20:22:57.498Z"
   },
   {
    "duration": 13,
    "start_time": "2021-09-20T20:22:57.522Z"
   },
   {
    "duration": 18,
    "start_time": "2021-09-20T20:22:57.538Z"
   },
   {
    "duration": 58,
    "start_time": "2021-09-20T20:22:57.558Z"
   },
   {
    "duration": 1280,
    "start_time": "2021-09-20T20:22:57.619Z"
   },
   {
    "duration": 22,
    "start_time": "2021-09-20T20:22:58.901Z"
   },
   {
    "duration": 609,
    "start_time": "2021-09-20T20:22:58.925Z"
   },
   {
    "duration": 7,
    "start_time": "2021-09-20T20:22:59.537Z"
   },
   {
    "duration": 15,
    "start_time": "2021-09-20T20:22:59.547Z"
   },
   {
    "duration": 655,
    "start_time": "2021-09-20T20:22:59.564Z"
   },
   {
    "duration": 7,
    "start_time": "2021-09-20T20:23:00.222Z"
   },
   {
    "duration": 118,
    "start_time": "2021-09-20T20:25:06.097Z"
   },
   {
    "duration": 12147,
    "start_time": "2021-09-20T20:25:22.696Z"
   },
   {
    "duration": 11122,
    "start_time": "2021-09-20T20:25:40.569Z"
   },
   {
    "duration": 355,
    "start_time": "2021-09-20T20:26:09.593Z"
   },
   {
    "duration": 18,
    "start_time": "2021-09-20T20:26:23.461Z"
   },
   {
    "duration": 4,
    "start_time": "2021-09-20T20:26:36.563Z"
   },
   {
    "duration": 64,
    "start_time": "2021-09-20T20:26:36.570Z"
   },
   {
    "duration": 12,
    "start_time": "2021-09-20T20:26:36.637Z"
   },
   {
    "duration": 21,
    "start_time": "2021-09-20T20:26:36.652Z"
   },
   {
    "duration": 41,
    "start_time": "2021-09-20T20:26:36.675Z"
   },
   {
    "duration": 7,
    "start_time": "2021-09-20T20:26:36.719Z"
   },
   {
    "duration": 14,
    "start_time": "2021-09-20T20:26:36.729Z"
   },
   {
    "duration": 19,
    "start_time": "2021-09-20T20:26:36.746Z"
   },
   {
    "duration": 60,
    "start_time": "2021-09-20T20:26:36.768Z"
   },
   {
    "duration": 11,
    "start_time": "2021-09-20T20:26:36.831Z"
   },
   {
    "duration": 44,
    "start_time": "2021-09-20T20:26:36.844Z"
   },
   {
    "duration": 31,
    "start_time": "2021-09-20T20:26:36.890Z"
   },
   {
    "duration": 8,
    "start_time": "2021-09-20T20:26:36.923Z"
   },
   {
    "duration": 43,
    "start_time": "2021-09-20T20:26:36.934Z"
   },
   {
    "duration": 37,
    "start_time": "2021-09-20T20:26:36.980Z"
   },
   {
    "duration": 39,
    "start_time": "2021-09-20T20:26:37.019Z"
   },
   {
    "duration": 6,
    "start_time": "2021-09-20T20:26:37.060Z"
   },
   {
    "duration": 16,
    "start_time": "2021-09-20T20:26:37.069Z"
   },
   {
    "duration": 28,
    "start_time": "2021-09-20T20:26:37.088Z"
   },
   {
    "duration": 17,
    "start_time": "2021-09-20T20:26:37.118Z"
   },
   {
    "duration": 936,
    "start_time": "2021-09-20T20:26:37.137Z"
   },
   {
    "duration": 815,
    "start_time": "2021-09-20T20:26:38.076Z"
   },
   {
    "duration": 6,
    "start_time": "2021-09-20T20:26:38.896Z"
   },
   {
    "duration": 34,
    "start_time": "2021-09-20T20:26:38.917Z"
   },
   {
    "duration": 37,
    "start_time": "2021-09-20T20:26:38.954Z"
   },
   {
    "duration": 3040,
    "start_time": "2021-09-20T20:26:39.017Z"
   },
   {
    "duration": 356,
    "start_time": "2021-09-20T20:26:42.060Z"
   },
   {
    "duration": 319,
    "start_time": "2021-09-20T20:26:59.161Z"
   },
   {
    "duration": 874,
    "start_time": "2021-09-20T20:30:20.841Z"
   },
   {
    "duration": 323,
    "start_time": "2021-09-20T20:30:30.903Z"
   },
   {
    "duration": 336,
    "start_time": "2021-09-20T20:32:37.689Z"
   },
   {
    "duration": 21,
    "start_time": "2021-09-20T20:32:57.558Z"
   },
   {
    "duration": 19,
    "start_time": "2021-09-20T20:33:30.307Z"
   },
   {
    "duration": 25,
    "start_time": "2021-09-20T20:33:44.447Z"
   },
   {
    "duration": 9,
    "start_time": "2021-09-20T20:33:47.531Z"
   },
   {
    "duration": 6,
    "start_time": "2021-09-20T20:33:50.275Z"
   },
   {
    "duration": 6,
    "start_time": "2021-09-20T20:33:51.515Z"
   },
   {
    "duration": 6,
    "start_time": "2021-09-20T20:38:53.753Z"
   },
   {
    "duration": 26,
    "start_time": "2021-09-20T20:56:08.680Z"
   },
   {
    "duration": 770,
    "start_time": "2021-09-20T20:56:09.948Z"
   },
   {
    "duration": 92,
    "start_time": "2021-09-21T10:24:01.596Z"
   },
   {
    "duration": 1162,
    "start_time": "2021-09-21T10:31:27.418Z"
   },
   {
    "duration": 50,
    "start_time": "2021-09-21T10:31:28.582Z"
   },
   {
    "duration": 9,
    "start_time": "2021-09-21T10:31:28.634Z"
   },
   {
    "duration": 11,
    "start_time": "2021-09-21T10:31:28.645Z"
   },
   {
    "duration": 10,
    "start_time": "2021-09-21T10:31:28.658Z"
   },
   {
    "duration": 5,
    "start_time": "2021-09-21T10:31:28.669Z"
   },
   {
    "duration": 9,
    "start_time": "2021-09-21T10:31:28.676Z"
   },
   {
    "duration": 14,
    "start_time": "2021-09-21T10:31:28.688Z"
   },
   {
    "duration": 48,
    "start_time": "2021-09-21T10:31:28.705Z"
   },
   {
    "duration": 7,
    "start_time": "2021-09-21T10:31:28.755Z"
   },
   {
    "duration": 31,
    "start_time": "2021-09-21T10:31:28.764Z"
   },
   {
    "duration": 6,
    "start_time": "2021-09-21T10:31:28.797Z"
   },
   {
    "duration": 4,
    "start_time": "2021-09-21T10:31:28.805Z"
   },
   {
    "duration": 64,
    "start_time": "2021-09-21T10:31:28.811Z"
   },
   {
    "duration": 4,
    "start_time": "2021-09-21T10:31:28.876Z"
   },
   {
    "duration": 24,
    "start_time": "2021-09-21T10:31:28.881Z"
   },
   {
    "duration": 4,
    "start_time": "2021-09-21T10:31:28.907Z"
   },
   {
    "duration": 7,
    "start_time": "2021-09-21T10:31:28.912Z"
   },
   {
    "duration": 30,
    "start_time": "2021-09-21T10:31:28.921Z"
   },
   {
    "duration": 6,
    "start_time": "2021-09-21T10:31:28.953Z"
   },
   {
    "duration": 523,
    "start_time": "2021-09-21T10:31:28.961Z"
   },
   {
    "duration": 432,
    "start_time": "2021-09-21T10:31:29.486Z"
   },
   {
    "duration": 5,
    "start_time": "2021-09-21T10:31:29.922Z"
   },
   {
    "duration": 33,
    "start_time": "2021-09-21T10:31:29.929Z"
   },
   {
    "duration": 24,
    "start_time": "2021-09-21T10:31:29.964Z"
   },
   {
    "duration": 1563,
    "start_time": "2021-09-21T10:31:29.989Z"
   },
   {
    "duration": 11,
    "start_time": "2021-09-21T10:31:31.554Z"
   },
   {
    "duration": 14,
    "start_time": "2021-09-21T10:31:31.567Z"
   },
   {
    "duration": 7,
    "start_time": "2021-09-21T10:31:31.583Z"
   },
   {
    "duration": 4,
    "start_time": "2021-09-21T10:31:31.591Z"
   },
   {
    "duration": 14,
    "start_time": "2021-09-21T10:31:31.596Z"
   },
   {
    "duration": 38,
    "start_time": "2021-09-21T10:31:31.611Z"
   },
   {
    "duration": 25,
    "start_time": "2021-09-21T10:31:31.651Z"
   },
   {
    "duration": 3386,
    "start_time": "2021-09-21T10:31:31.678Z"
   },
   {
    "duration": 601,
    "start_time": "2021-09-21T10:31:35.066Z"
   },
   {
    "duration": 872,
    "start_time": "2021-09-21T10:31:35.669Z"
   },
   {
    "duration": 11,
    "start_time": "2021-09-21T10:31:36.543Z"
   },
   {
    "duration": 439,
    "start_time": "2021-09-21T10:31:36.555Z"
   },
   {
    "duration": 433,
    "start_time": "2021-09-21T10:31:36.996Z"
   },
   {
    "duration": 20,
    "start_time": "2021-09-21T10:31:37.431Z"
   },
   {
    "duration": 4,
    "start_time": "2021-09-21T13:03:01.818Z"
   },
   {
    "duration": 63,
    "start_time": "2021-09-21T13:03:01.824Z"
   },
   {
    "duration": 11,
    "start_time": "2021-09-21T13:03:01.889Z"
   },
   {
    "duration": 47,
    "start_time": "2021-09-21T13:03:01.902Z"
   },
   {
    "duration": 10,
    "start_time": "2021-09-21T13:03:01.951Z"
   },
   {
    "duration": 5,
    "start_time": "2021-09-21T13:03:01.963Z"
   },
   {
    "duration": 13,
    "start_time": "2021-09-21T13:03:01.970Z"
   },
   {
    "duration": 27,
    "start_time": "2021-09-21T13:03:01.986Z"
   },
   {
    "duration": 38,
    "start_time": "2021-09-21T13:03:02.016Z"
   },
   {
    "duration": 15,
    "start_time": "2021-09-21T13:03:02.056Z"
   },
   {
    "duration": 30,
    "start_time": "2021-09-21T13:03:02.073Z"
   },
   {
    "duration": 19,
    "start_time": "2021-09-21T13:03:02.105Z"
   },
   {
    "duration": 23,
    "start_time": "2021-09-21T13:03:02.126Z"
   },
   {
    "duration": 38,
    "start_time": "2021-09-21T13:03:02.151Z"
   },
   {
    "duration": 5,
    "start_time": "2021-09-21T13:03:02.192Z"
   },
   {
    "duration": 30,
    "start_time": "2021-09-21T13:03:02.199Z"
   },
   {
    "duration": 21,
    "start_time": "2021-09-21T13:03:02.231Z"
   },
   {
    "duration": 5,
    "start_time": "2021-09-21T13:03:02.255Z"
   },
   {
    "duration": 9,
    "start_time": "2021-09-21T13:03:02.262Z"
   },
   {
    "duration": 7,
    "start_time": "2021-09-21T13:03:02.273Z"
   },
   {
    "duration": 591,
    "start_time": "2021-09-21T13:03:02.282Z"
   },
   {
    "duration": 472,
    "start_time": "2021-09-21T13:03:02.880Z"
   },
   {
    "duration": 5,
    "start_time": "2021-09-21T13:03:03.355Z"
   },
   {
    "duration": 23,
    "start_time": "2021-09-21T13:03:03.362Z"
   },
   {
    "duration": 24,
    "start_time": "2021-09-21T13:03:03.387Z"
   },
   {
    "duration": 1562,
    "start_time": "2021-09-21T13:03:03.412Z"
   },
   {
    "duration": 13,
    "start_time": "2021-09-21T13:03:04.975Z"
   },
   {
    "duration": 17,
    "start_time": "2021-09-21T13:03:04.989Z"
   },
   {
    "duration": 6,
    "start_time": "2021-09-21T13:03:05.008Z"
   },
   {
    "duration": 33,
    "start_time": "2021-09-21T13:03:05.016Z"
   },
   {
    "duration": 4,
    "start_time": "2021-09-21T13:03:05.051Z"
   },
   {
    "duration": 12,
    "start_time": "2021-09-21T13:03:05.057Z"
   },
   {
    "duration": 30,
    "start_time": "2021-09-21T13:03:05.071Z"
   },
   {
    "duration": 3756,
    "start_time": "2021-09-21T13:03:05.103Z"
   },
   {
    "duration": 638,
    "start_time": "2021-09-21T13:03:08.860Z"
   },
   {
    "duration": 603,
    "start_time": "2021-09-21T13:03:09.500Z"
   },
   {
    "duration": 8,
    "start_time": "2021-09-21T13:03:10.105Z"
   },
   {
    "duration": 476,
    "start_time": "2021-09-21T13:03:10.115Z"
   },
   {
    "duration": 463,
    "start_time": "2021-09-21T13:03:10.593Z"
   },
   {
    "duration": 9,
    "start_time": "2021-09-21T13:03:11.058Z"
   },
   {
    "duration": 12,
    "start_time": "2021-09-21T13:03:11.070Z"
   },
   {
    "duration": 359,
    "start_time": "2021-09-21T13:03:11.084Z"
   },
   {
    "duration": 12,
    "start_time": "2021-09-21T13:03:11.449Z"
   },
   {
    "duration": 11,
    "start_time": "2021-09-21T13:03:37.697Z"
   },
   {
    "duration": 10,
    "start_time": "2021-09-21T13:03:58.086Z"
   },
   {
    "duration": 12,
    "start_time": "2021-09-21T13:04:11.482Z"
   },
   {
    "duration": 10,
    "start_time": "2021-09-21T13:04:12.222Z"
   },
   {
    "duration": 10,
    "start_time": "2021-09-21T13:09:41.903Z"
   },
   {
    "duration": 19,
    "start_time": "2021-09-21T13:16:15.650Z"
   },
   {
    "duration": 21,
    "start_time": "2021-09-21T13:16:45.374Z"
   },
   {
    "duration": 19,
    "start_time": "2021-09-21T13:16:59.366Z"
   },
   {
    "duration": 10,
    "start_time": "2021-09-21T13:17:12.061Z"
   },
   {
    "duration": 13,
    "start_time": "2021-09-21T13:18:29.161Z"
   },
   {
    "duration": 19,
    "start_time": "2021-09-21T13:20:08.308Z"
   },
   {
    "duration": 12,
    "start_time": "2021-09-21T13:20:22.562Z"
   },
   {
    "duration": 10,
    "start_time": "2021-09-21T13:20:29.645Z"
   },
   {
    "duration": 11,
    "start_time": "2021-09-21T13:20:38.263Z"
   },
   {
    "duration": 14,
    "start_time": "2021-09-21T13:20:54.023Z"
   },
   {
    "duration": 10,
    "start_time": "2021-09-21T13:21:01.236Z"
   },
   {
    "duration": 390,
    "start_time": "2021-09-21T13:51:32.834Z"
   },
   {
    "duration": 4,
    "start_time": "2021-09-21T13:51:38.453Z"
   },
   {
    "duration": 60,
    "start_time": "2021-09-21T13:51:38.460Z"
   },
   {
    "duration": 27,
    "start_time": "2021-09-21T13:51:38.523Z"
   },
   {
    "duration": 14,
    "start_time": "2021-09-21T13:51:38.552Z"
   },
   {
    "duration": 13,
    "start_time": "2021-09-21T13:51:38.568Z"
   },
   {
    "duration": 6,
    "start_time": "2021-09-21T13:51:38.583Z"
   },
   {
    "duration": 14,
    "start_time": "2021-09-21T13:51:38.591Z"
   },
   {
    "duration": 55,
    "start_time": "2021-09-21T13:51:38.609Z"
   },
   {
    "duration": 19,
    "start_time": "2021-09-21T13:51:38.667Z"
   },
   {
    "duration": 8,
    "start_time": "2021-09-21T13:51:38.688Z"
   },
   {
    "duration": 59,
    "start_time": "2021-09-21T13:51:38.698Z"
   },
   {
    "duration": 4,
    "start_time": "2021-09-21T13:51:38.759Z"
   },
   {
    "duration": 10,
    "start_time": "2021-09-21T13:51:38.765Z"
   },
   {
    "duration": 31,
    "start_time": "2021-09-21T13:51:38.777Z"
   },
   {
    "duration": 4,
    "start_time": "2021-09-21T13:51:38.810Z"
   },
   {
    "duration": 48,
    "start_time": "2021-09-21T13:51:38.816Z"
   },
   {
    "duration": 4,
    "start_time": "2021-09-21T13:51:38.866Z"
   },
   {
    "duration": 6,
    "start_time": "2021-09-21T13:51:38.872Z"
   },
   {
    "duration": 8,
    "start_time": "2021-09-21T13:51:38.880Z"
   },
   {
    "duration": 6,
    "start_time": "2021-09-21T13:51:38.890Z"
   },
   {
    "duration": 616,
    "start_time": "2021-09-21T13:51:38.898Z"
   },
   {
    "duration": 645,
    "start_time": "2021-09-21T13:51:39.516Z"
   },
   {
    "duration": 5,
    "start_time": "2021-09-21T13:51:40.165Z"
   },
   {
    "duration": 27,
    "start_time": "2021-09-21T13:51:40.172Z"
   },
   {
    "duration": 50,
    "start_time": "2021-09-21T13:51:40.201Z"
   },
   {
    "duration": 1654,
    "start_time": "2021-09-21T13:51:40.253Z"
   },
   {
    "duration": 13,
    "start_time": "2021-09-21T13:51:41.909Z"
   },
   {
    "duration": 34,
    "start_time": "2021-09-21T13:51:41.924Z"
   },
   {
    "duration": 7,
    "start_time": "2021-09-21T13:51:41.959Z"
   },
   {
    "duration": 5,
    "start_time": "2021-09-21T13:51:41.968Z"
   },
   {
    "duration": 8,
    "start_time": "2021-09-21T13:51:41.975Z"
   },
   {
    "duration": 7,
    "start_time": "2021-09-21T13:51:41.985Z"
   },
   {
    "duration": 62,
    "start_time": "2021-09-21T13:51:41.994Z"
   },
   {
    "duration": 3510,
    "start_time": "2021-09-21T13:51:42.059Z"
   },
   {
    "duration": 614,
    "start_time": "2021-09-21T13:51:45.571Z"
   },
   {
    "duration": 614,
    "start_time": "2021-09-21T13:51:46.187Z"
   },
   {
    "duration": 8,
    "start_time": "2021-09-21T13:51:46.803Z"
   },
   {
    "duration": 511,
    "start_time": "2021-09-21T13:51:46.813Z"
   },
   {
    "duration": 522,
    "start_time": "2021-09-21T13:51:47.326Z"
   },
   {
    "duration": 7,
    "start_time": "2021-09-21T13:51:47.850Z"
   },
   {
    "duration": 15,
    "start_time": "2021-09-21T13:51:47.858Z"
   },
   {
    "duration": 318,
    "start_time": "2021-09-21T13:51:47.874Z"
   },
   {
    "duration": 22,
    "start_time": "2021-09-21T13:51:48.193Z"
   },
   {
    "duration": 12,
    "start_time": "2021-09-21T13:51:48.217Z"
   },
   {
    "duration": 9,
    "start_time": "2021-09-21T13:51:48.249Z"
   },
   {
    "duration": 12,
    "start_time": "2021-09-21T13:51:48.259Z"
   },
   {
    "duration": 12,
    "start_time": "2021-09-21T13:51:48.273Z"
   },
   {
    "duration": 13,
    "start_time": "2021-09-21T13:51:48.286Z"
   },
   {
    "duration": 19,
    "start_time": "2021-09-21T13:51:48.300Z"
   },
   {
    "duration": 913,
    "start_time": "2021-09-21T13:51:48.321Z"
   },
   {
    "duration": 14,
    "start_time": "2021-09-21T13:51:49.236Z"
   },
   {
    "duration": 400,
    "start_time": "2021-09-21T13:51:49.252Z"
   },
   {
    "duration": 7,
    "start_time": "2021-09-21T13:51:49.654Z"
   },
   {
    "duration": 11,
    "start_time": "2021-09-21T13:51:49.662Z"
   },
   {
    "duration": 465,
    "start_time": "2021-09-21T13:51:49.675Z"
   },
   {
    "duration": 8,
    "start_time": "2021-09-21T13:51:50.142Z"
   },
   {
    "duration": 14,
    "start_time": "2021-09-21T13:51:50.152Z"
   },
   {
    "duration": 5,
    "start_time": "2021-09-21T13:52:05.762Z"
   },
   {
    "duration": 7,
    "start_time": "2021-09-21T13:56:10.024Z"
   },
   {
    "duration": 1140,
    "start_time": "2021-09-22T08:20:24.987Z"
   },
   {
    "duration": 50,
    "start_time": "2021-09-22T08:20:26.129Z"
   },
   {
    "duration": 10,
    "start_time": "2021-09-22T08:20:26.181Z"
   },
   {
    "duration": 12,
    "start_time": "2021-09-22T08:20:26.193Z"
   },
   {
    "duration": 12,
    "start_time": "2021-09-22T08:20:26.207Z"
   },
   {
    "duration": 5,
    "start_time": "2021-09-22T08:20:26.220Z"
   },
   {
    "duration": 10,
    "start_time": "2021-09-22T08:20:26.227Z"
   },
   {
    "duration": 44,
    "start_time": "2021-09-22T08:20:26.238Z"
   },
   {
    "duration": 16,
    "start_time": "2021-09-22T08:20:26.284Z"
   },
   {
    "duration": 7,
    "start_time": "2021-09-22T08:20:26.303Z"
   },
   {
    "duration": 31,
    "start_time": "2021-09-22T08:20:26.311Z"
   },
   {
    "duration": 4,
    "start_time": "2021-09-22T08:20:26.343Z"
   },
   {
    "duration": 3,
    "start_time": "2021-09-22T08:20:26.377Z"
   },
   {
    "duration": 28,
    "start_time": "2021-09-22T08:20:26.382Z"
   },
   {
    "duration": 4,
    "start_time": "2021-09-22T08:20:26.412Z"
   },
   {
    "duration": 26,
    "start_time": "2021-09-22T08:20:26.417Z"
   },
   {
    "duration": 4,
    "start_time": "2021-09-22T08:20:26.444Z"
   },
   {
    "duration": 28,
    "start_time": "2021-09-22T08:20:26.450Z"
   },
   {
    "duration": 9,
    "start_time": "2021-09-22T08:20:26.480Z"
   },
   {
    "duration": 5,
    "start_time": "2021-09-22T08:20:26.491Z"
   },
   {
    "duration": 669,
    "start_time": "2021-09-22T08:20:26.498Z"
   },
   {
    "duration": 585,
    "start_time": "2021-09-22T08:20:27.169Z"
   },
   {
    "duration": 5,
    "start_time": "2021-09-22T08:20:27.756Z"
   },
   {
    "duration": 7,
    "start_time": "2021-09-22T08:20:27.777Z"
   },
   {
    "duration": 24,
    "start_time": "2021-09-22T08:20:27.786Z"
   },
   {
    "duration": 1797,
    "start_time": "2021-09-22T08:20:27.812Z"
   },
   {
    "duration": 13,
    "start_time": "2021-09-22T08:20:29.614Z"
   },
   {
    "duration": 17,
    "start_time": "2021-09-22T08:20:29.630Z"
   },
   {
    "duration": 32,
    "start_time": "2021-09-22T08:20:29.649Z"
   },
   {
    "duration": 5,
    "start_time": "2021-09-22T08:20:29.683Z"
   },
   {
    "duration": 10,
    "start_time": "2021-09-22T08:20:29.689Z"
   },
   {
    "duration": 11,
    "start_time": "2021-09-22T08:20:29.701Z"
   },
   {
    "duration": 31,
    "start_time": "2021-09-22T08:20:29.713Z"
   },
   {
    "duration": 3930,
    "start_time": "2021-09-22T08:20:29.745Z"
   },
   {
    "duration": 703,
    "start_time": "2021-09-22T08:20:33.678Z"
   },
   {
    "duration": 709,
    "start_time": "2021-09-22T08:20:34.384Z"
   },
   {
    "duration": 8,
    "start_time": "2021-09-22T08:20:35.095Z"
   },
   {
    "duration": 477,
    "start_time": "2021-09-22T08:20:35.105Z"
   },
   {
    "duration": 483,
    "start_time": "2021-09-22T08:20:35.584Z"
   },
   {
    "duration": 11,
    "start_time": "2021-09-22T08:20:36.069Z"
   },
   {
    "duration": 16,
    "start_time": "2021-09-22T08:20:36.082Z"
   },
   {
    "duration": 304,
    "start_time": "2021-09-22T08:20:36.099Z"
   },
   {
    "duration": 21,
    "start_time": "2021-09-22T08:20:36.405Z"
   },
   {
    "duration": 18,
    "start_time": "2021-09-22T08:20:36.428Z"
   },
   {
    "duration": 31,
    "start_time": "2021-09-22T08:20:36.448Z"
   },
   {
    "duration": 15,
    "start_time": "2021-09-22T08:20:36.481Z"
   },
   {
    "duration": 26,
    "start_time": "2021-09-22T08:20:36.498Z"
   },
   {
    "duration": 27,
    "start_time": "2021-09-22T08:20:36.526Z"
   },
   {
    "duration": 736,
    "start_time": "2021-09-22T08:20:36.555Z"
   },
   {
    "duration": 9,
    "start_time": "2021-09-22T08:20:37.292Z"
   },
   {
    "duration": 380,
    "start_time": "2021-09-22T08:20:37.303Z"
   },
   {
    "duration": 4,
    "start_time": "2021-09-22T08:20:37.685Z"
   },
   {
    "duration": 51,
    "start_time": "2021-09-22T08:20:37.691Z"
   },
   {
    "duration": 428,
    "start_time": "2021-09-22T08:20:37.743Z"
   },
   {
    "duration": 5,
    "start_time": "2021-09-22T08:20:38.173Z"
   },
   {
    "duration": 10,
    "start_time": "2021-09-22T08:20:38.180Z"
   },
   {
    "duration": 21,
    "start_time": "2021-09-22T08:28:03.711Z"
   },
   {
    "duration": 22,
    "start_time": "2021-09-22T08:28:24.683Z"
   },
   {
    "duration": 5,
    "start_time": "2021-09-22T08:28:30.885Z"
   },
   {
    "duration": 8,
    "start_time": "2021-09-22T08:28:37.800Z"
   },
   {
    "duration": 27,
    "start_time": "2021-09-22T08:33:08.671Z"
   },
   {
    "duration": 26,
    "start_time": "2021-09-22T08:34:29.450Z"
   },
   {
    "duration": 1488,
    "start_time": "2021-09-22T19:40:14.733Z"
   },
   {
    "duration": 69,
    "start_time": "2021-09-22T19:40:16.223Z"
   },
   {
    "duration": 14,
    "start_time": "2021-09-22T19:40:16.295Z"
   },
   {
    "duration": 32,
    "start_time": "2021-09-22T19:40:16.312Z"
   },
   {
    "duration": 20,
    "start_time": "2021-09-22T19:40:16.356Z"
   },
   {
    "duration": 25,
    "start_time": "2021-09-22T19:40:16.379Z"
   },
   {
    "duration": 33,
    "start_time": "2021-09-22T19:40:16.406Z"
   },
   {
    "duration": 27,
    "start_time": "2021-09-22T19:40:16.443Z"
   },
   {
    "duration": 22,
    "start_time": "2021-09-22T19:40:16.473Z"
   },
   {
    "duration": 27,
    "start_time": "2021-09-22T19:40:16.498Z"
   },
   {
    "duration": 51,
    "start_time": "2021-09-22T19:40:16.528Z"
   },
   {
    "duration": 6,
    "start_time": "2021-09-22T19:40:16.581Z"
   },
   {
    "duration": 6,
    "start_time": "2021-09-22T19:40:16.590Z"
   },
   {
    "duration": 63,
    "start_time": "2021-09-22T19:40:16.598Z"
   },
   {
    "duration": 5,
    "start_time": "2021-09-22T19:40:16.664Z"
   },
   {
    "duration": 39,
    "start_time": "2021-09-22T19:40:16.671Z"
   },
   {
    "duration": 6,
    "start_time": "2021-09-22T19:40:16.712Z"
   },
   {
    "duration": 36,
    "start_time": "2021-09-22T19:40:16.720Z"
   },
   {
    "duration": 10,
    "start_time": "2021-09-22T19:40:16.758Z"
   },
   {
    "duration": 7,
    "start_time": "2021-09-22T19:40:16.770Z"
   },
   {
    "duration": 1076,
    "start_time": "2021-09-22T19:40:16.779Z"
   },
   {
    "duration": 800,
    "start_time": "2021-09-22T19:40:17.858Z"
   },
   {
    "duration": 8,
    "start_time": "2021-09-22T19:40:18.664Z"
   },
   {
    "duration": 8,
    "start_time": "2021-09-22T19:40:18.675Z"
   },
   {
    "duration": 71,
    "start_time": "2021-09-22T19:40:18.685Z"
   },
   {
    "duration": 2537,
    "start_time": "2021-09-22T19:40:18.759Z"
   },
   {
    "duration": 16,
    "start_time": "2021-09-22T19:40:21.298Z"
   },
   {
    "duration": 42,
    "start_time": "2021-09-22T19:40:21.317Z"
   },
   {
    "duration": 9,
    "start_time": "2021-09-22T19:40:21.362Z"
   },
   {
    "duration": 5,
    "start_time": "2021-09-22T19:40:21.374Z"
   },
   {
    "duration": 7,
    "start_time": "2021-09-22T19:40:21.381Z"
   },
   {
    "duration": 18,
    "start_time": "2021-09-22T19:40:21.390Z"
   },
   {
    "duration": 67,
    "start_time": "2021-09-22T19:40:21.411Z"
   },
   {
    "duration": 4558,
    "start_time": "2021-09-22T19:40:21.480Z"
   },
   {
    "duration": 43,
    "start_time": "2021-09-22T19:40:26.040Z"
   },
   {
    "duration": 736,
    "start_time": "2021-09-22T19:40:26.085Z"
   },
   {
    "duration": 750,
    "start_time": "2021-09-22T19:40:26.823Z"
   },
   {
    "duration": 10,
    "start_time": "2021-09-22T19:40:27.575Z"
   },
   {
    "duration": 796,
    "start_time": "2021-09-22T19:40:27.587Z"
   },
   {
    "duration": 674,
    "start_time": "2021-09-22T19:40:28.386Z"
   },
   {
    "duration": 11,
    "start_time": "2021-09-22T19:40:29.063Z"
   },
   {
    "duration": 17,
    "start_time": "2021-09-22T19:40:29.077Z"
   },
   {
    "duration": 596,
    "start_time": "2021-09-22T19:40:29.097Z"
   },
   {
    "duration": 32,
    "start_time": "2021-09-22T19:40:29.696Z"
   },
   {
    "duration": 34,
    "start_time": "2021-09-22T19:40:29.730Z"
   },
   {
    "duration": 16,
    "start_time": "2021-09-22T19:40:29.767Z"
   },
   {
    "duration": 19,
    "start_time": "2021-09-22T19:40:29.785Z"
   },
   {
    "duration": 13,
    "start_time": "2021-09-22T19:40:29.806Z"
   },
   {
    "duration": 58,
    "start_time": "2021-09-22T19:40:29.821Z"
   },
   {
    "duration": 1197,
    "start_time": "2021-09-22T19:40:29.882Z"
   },
   {
    "duration": 9,
    "start_time": "2021-09-22T19:40:31.081Z"
   },
   {
    "duration": 583,
    "start_time": "2021-09-22T19:40:31.093Z"
   },
   {
    "duration": 6,
    "start_time": "2021-09-22T19:40:31.679Z"
   },
   {
    "duration": 23,
    "start_time": "2021-09-22T19:40:31.687Z"
   },
   {
    "duration": 604,
    "start_time": "2021-09-22T19:40:31.712Z"
   },
   {
    "duration": 7,
    "start_time": "2021-09-22T19:40:32.318Z"
   },
   {
    "duration": 28,
    "start_time": "2021-09-22T19:40:32.328Z"
   },
   {
    "duration": 450,
    "start_time": "2021-09-22T19:51:44.624Z"
   },
   {
    "duration": 604,
    "start_time": "2021-09-22T19:52:13.870Z"
   },
   {
    "duration": 306,
    "start_time": "2021-09-22T19:53:03.676Z"
   },
   {
    "duration": 2142,
    "start_time": "2021-09-22T19:53:40.341Z"
   },
   {
    "duration": 555,
    "start_time": "2021-09-22T19:54:28.351Z"
   },
   {
    "duration": 5,
    "start_time": "2021-09-22T19:54:59.413Z"
   },
   {
    "duration": 65,
    "start_time": "2021-09-22T19:54:59.420Z"
   },
   {
    "duration": 12,
    "start_time": "2021-09-22T19:54:59.488Z"
   },
   {
    "duration": 53,
    "start_time": "2021-09-22T19:54:59.503Z"
   },
   {
    "duration": 11,
    "start_time": "2021-09-22T19:54:59.558Z"
   },
   {
    "duration": 7,
    "start_time": "2021-09-22T19:54:59.571Z"
   },
   {
    "duration": 14,
    "start_time": "2021-09-22T19:54:59.581Z"
   },
   {
    "duration": 60,
    "start_time": "2021-09-22T19:54:59.597Z"
   },
   {
    "duration": 24,
    "start_time": "2021-09-22T19:54:59.659Z"
   },
   {
    "duration": 15,
    "start_time": "2021-09-22T19:54:59.685Z"
   },
   {
    "duration": 64,
    "start_time": "2021-09-22T19:54:59.702Z"
   },
   {
    "duration": 6,
    "start_time": "2021-09-22T19:54:59.768Z"
   },
   {
    "duration": 8,
    "start_time": "2021-09-22T19:54:59.776Z"
   },
   {
    "duration": 44,
    "start_time": "2021-09-22T19:54:59.786Z"
   },
   {
    "duration": 6,
    "start_time": "2021-09-22T19:54:59.856Z"
   },
   {
    "duration": 42,
    "start_time": "2021-09-22T19:54:59.864Z"
   },
   {
    "duration": 6,
    "start_time": "2021-09-22T19:54:59.908Z"
   },
   {
    "duration": 8,
    "start_time": "2021-09-22T19:54:59.916Z"
   },
   {
    "duration": 7,
    "start_time": "2021-09-22T19:54:59.957Z"
   },
   {
    "duration": 5,
    "start_time": "2021-09-22T19:54:59.967Z"
   },
   {
    "duration": 931,
    "start_time": "2021-09-22T19:54:59.975Z"
   },
   {
    "duration": 893,
    "start_time": "2021-09-22T19:55:00.909Z"
   },
   {
    "duration": 6,
    "start_time": "2021-09-22T19:55:01.804Z"
   },
   {
    "duration": 21,
    "start_time": "2021-09-22T19:55:01.812Z"
   },
   {
    "duration": 52,
    "start_time": "2021-09-22T19:55:01.835Z"
   },
   {
    "duration": 2585,
    "start_time": "2021-09-22T19:55:01.889Z"
   },
   {
    "duration": 17,
    "start_time": "2021-09-22T19:55:04.476Z"
   },
   {
    "duration": 24,
    "start_time": "2021-09-22T19:55:04.495Z"
   },
   {
    "duration": 41,
    "start_time": "2021-09-22T19:55:04.521Z"
   },
   {
    "duration": 6,
    "start_time": "2021-09-22T19:55:04.564Z"
   },
   {
    "duration": 9,
    "start_time": "2021-09-22T19:55:04.572Z"
   },
   {
    "duration": 10,
    "start_time": "2021-09-22T19:55:04.583Z"
   },
   {
    "duration": 65,
    "start_time": "2021-09-22T19:55:04.595Z"
   },
   {
    "duration": 4665,
    "start_time": "2021-09-22T19:55:04.663Z"
   },
   {
    "duration": 43,
    "start_time": "2021-09-22T19:55:09.331Z"
   },
   {
    "duration": 483,
    "start_time": "2021-09-22T19:55:09.377Z"
   },
   {
    "duration": 464,
    "start_time": "2021-09-22T19:57:42.348Z"
   },
   {
    "duration": 278,
    "start_time": "2021-09-22T19:58:08.594Z"
   },
   {
    "duration": 282,
    "start_time": "2021-09-22T19:58:15.615Z"
   },
   {
    "duration": 4,
    "start_time": "2021-09-22T19:58:20.038Z"
   },
   {
    "duration": 75,
    "start_time": "2021-09-22T19:58:20.045Z"
   },
   {
    "duration": 15,
    "start_time": "2021-09-22T19:58:20.123Z"
   },
   {
    "duration": 34,
    "start_time": "2021-09-22T19:58:20.140Z"
   },
   {
    "duration": 18,
    "start_time": "2021-09-22T19:58:20.177Z"
   },
   {
    "duration": 6,
    "start_time": "2021-09-22T19:58:20.198Z"
   },
   {
    "duration": 184,
    "start_time": "2021-09-22T19:58:20.206Z"
   },
   {
    "duration": 22,
    "start_time": "2021-09-22T19:58:20.394Z"
   },
   {
    "duration": 44,
    "start_time": "2021-09-22T19:58:20.419Z"
   },
   {
    "duration": 11,
    "start_time": "2021-09-22T19:58:20.465Z"
   },
   {
    "duration": 44,
    "start_time": "2021-09-22T19:58:20.478Z"
   },
   {
    "duration": 32,
    "start_time": "2021-09-22T19:58:20.525Z"
   },
   {
    "duration": 5,
    "start_time": "2021-09-22T19:58:20.559Z"
   },
   {
    "duration": 41,
    "start_time": "2021-09-22T19:58:20.566Z"
   },
   {
    "duration": 5,
    "start_time": "2021-09-22T19:58:20.609Z"
   },
   {
    "duration": 72,
    "start_time": "2021-09-22T19:58:20.616Z"
   },
   {
    "duration": 5,
    "start_time": "2021-09-22T19:58:20.691Z"
   },
   {
    "duration": 20,
    "start_time": "2021-09-22T19:58:20.699Z"
   },
   {
    "duration": 12,
    "start_time": "2021-09-22T19:58:20.722Z"
   },
   {
    "duration": 24,
    "start_time": "2021-09-22T19:58:20.737Z"
   },
   {
    "duration": 914,
    "start_time": "2021-09-22T19:58:20.763Z"
   },
   {
    "duration": 760,
    "start_time": "2021-09-22T19:58:21.680Z"
   },
   {
    "duration": 15,
    "start_time": "2021-09-22T19:58:22.445Z"
   },
   {
    "duration": 9,
    "start_time": "2021-09-22T19:58:22.462Z"
   },
   {
    "duration": 44,
    "start_time": "2021-09-22T19:58:22.473Z"
   },
   {
    "duration": 2481,
    "start_time": "2021-09-22T19:58:22.519Z"
   },
   {
    "duration": 18,
    "start_time": "2021-09-22T19:58:25.002Z"
   },
   {
    "duration": 44,
    "start_time": "2021-09-22T19:58:25.022Z"
   },
   {
    "duration": 9,
    "start_time": "2021-09-22T19:58:25.068Z"
   },
   {
    "duration": 5,
    "start_time": "2021-09-22T19:58:25.079Z"
   },
   {
    "duration": 10,
    "start_time": "2021-09-22T19:58:25.086Z"
   },
   {
    "duration": 10,
    "start_time": "2021-09-22T19:58:25.098Z"
   },
   {
    "duration": 67,
    "start_time": "2021-09-22T19:58:25.110Z"
   },
   {
    "duration": 5291,
    "start_time": "2021-09-22T19:58:25.179Z"
   },
   {
    "duration": 35,
    "start_time": "2021-09-22T19:58:30.472Z"
   },
   {
    "duration": 483,
    "start_time": "2021-09-22T19:58:30.509Z"
   },
   {
    "duration": 30,
    "start_time": "2021-09-22T19:58:40.442Z"
   },
   {
    "duration": 463,
    "start_time": "2021-09-22T19:59:13.108Z"
   },
   {
    "duration": 30,
    "start_time": "2021-09-22T19:59:44.967Z"
   },
   {
    "duration": 581,
    "start_time": "2021-09-22T20:00:28.253Z"
   },
   {
    "duration": 1075,
    "start_time": "2021-09-22T20:00:59.577Z"
   },
   {
    "duration": 552,
    "start_time": "2021-09-22T20:01:10.636Z"
   },
   {
    "duration": 296,
    "start_time": "2021-09-22T20:01:18.618Z"
   },
   {
    "duration": 5,
    "start_time": "2021-09-22T20:01:21.779Z"
   },
   {
    "duration": 81,
    "start_time": "2021-09-22T20:01:21.787Z"
   },
   {
    "duration": 16,
    "start_time": "2021-09-22T20:01:21.871Z"
   },
   {
    "duration": 34,
    "start_time": "2021-09-22T20:01:21.889Z"
   },
   {
    "duration": 38,
    "start_time": "2021-09-22T20:01:21.925Z"
   },
   {
    "duration": 11,
    "start_time": "2021-09-22T20:01:21.965Z"
   },
   {
    "duration": 20,
    "start_time": "2021-09-22T20:01:21.980Z"
   },
   {
    "duration": 37,
    "start_time": "2021-09-22T20:01:22.003Z"
   },
   {
    "duration": 30,
    "start_time": "2021-09-22T20:01:22.043Z"
   },
   {
    "duration": 24,
    "start_time": "2021-09-22T20:01:22.075Z"
   },
   {
    "duration": 61,
    "start_time": "2021-09-22T20:01:22.101Z"
   },
   {
    "duration": 6,
    "start_time": "2021-09-22T20:01:22.164Z"
   },
   {
    "duration": 15,
    "start_time": "2021-09-22T20:01:22.172Z"
   },
   {
    "duration": 54,
    "start_time": "2021-09-22T20:01:22.189Z"
   },
   {
    "duration": 12,
    "start_time": "2021-09-22T20:01:22.245Z"
   },
   {
    "duration": 38,
    "start_time": "2021-09-22T20:01:22.259Z"
   },
   {
    "duration": 6,
    "start_time": "2021-09-22T20:01:22.299Z"
   },
   {
    "duration": 17,
    "start_time": "2021-09-22T20:01:22.307Z"
   },
   {
    "duration": 32,
    "start_time": "2021-09-22T20:01:22.329Z"
   },
   {
    "duration": 16,
    "start_time": "2021-09-22T20:01:22.364Z"
   },
   {
    "duration": 921,
    "start_time": "2021-09-22T20:01:22.383Z"
   },
   {
    "duration": 845,
    "start_time": "2021-09-22T20:01:23.306Z"
   },
   {
    "duration": 6,
    "start_time": "2021-09-22T20:01:24.156Z"
   },
   {
    "duration": 8,
    "start_time": "2021-09-22T20:01:24.164Z"
   },
   {
    "duration": 38,
    "start_time": "2021-09-22T20:01:24.175Z"
   },
   {
    "duration": 2617,
    "start_time": "2021-09-22T20:01:24.215Z"
   },
   {
    "duration": 30,
    "start_time": "2021-09-22T20:01:26.835Z"
   },
   {
    "duration": 23,
    "start_time": "2021-09-22T20:01:26.868Z"
   },
   {
    "duration": 9,
    "start_time": "2021-09-22T20:01:26.894Z"
   },
   {
    "duration": 18,
    "start_time": "2021-09-22T20:01:26.905Z"
   },
   {
    "duration": 8,
    "start_time": "2021-09-22T20:01:26.925Z"
   },
   {
    "duration": 8,
    "start_time": "2021-09-22T20:01:26.956Z"
   },
   {
    "duration": 41,
    "start_time": "2021-09-22T20:01:26.967Z"
   },
   {
    "duration": 4478,
    "start_time": "2021-09-22T20:01:27.011Z"
   },
   {
    "duration": 34,
    "start_time": "2021-09-22T20:01:31.492Z"
   },
   {
    "duration": 415,
    "start_time": "2021-09-22T20:01:31.528Z"
   },
   {
    "duration": 377,
    "start_time": "2021-09-22T20:01:45.190Z"
   },
   {
    "duration": 5,
    "start_time": "2021-09-22T20:02:00.199Z"
   },
   {
    "duration": 72,
    "start_time": "2021-09-22T20:02:00.207Z"
   },
   {
    "duration": 18,
    "start_time": "2021-09-22T20:02:00.283Z"
   },
   {
    "duration": 58,
    "start_time": "2021-09-22T20:02:00.304Z"
   },
   {
    "duration": 35,
    "start_time": "2021-09-22T20:02:00.365Z"
   },
   {
    "duration": 7,
    "start_time": "2021-09-22T20:02:00.403Z"
   },
   {
    "duration": 29,
    "start_time": "2021-09-22T20:02:00.412Z"
   },
   {
    "duration": 31,
    "start_time": "2021-09-22T20:02:00.445Z"
   },
   {
    "duration": 26,
    "start_time": "2021-09-22T20:02:00.480Z"
   },
   {
    "duration": 9,
    "start_time": "2021-09-22T20:02:00.508Z"
   },
   {
    "duration": 65,
    "start_time": "2021-09-22T20:02:00.519Z"
   },
   {
    "duration": 7,
    "start_time": "2021-09-22T20:02:00.587Z"
   },
   {
    "duration": 21,
    "start_time": "2021-09-22T20:02:00.596Z"
   },
   {
    "duration": 64,
    "start_time": "2021-09-22T20:02:00.620Z"
   },
   {
    "duration": 6,
    "start_time": "2021-09-22T20:02:00.687Z"
   },
   {
    "duration": 61,
    "start_time": "2021-09-22T20:02:00.695Z"
   },
   {
    "duration": 6,
    "start_time": "2021-09-22T20:02:00.758Z"
   },
   {
    "duration": 30,
    "start_time": "2021-09-22T20:02:00.767Z"
   },
   {
    "duration": 31,
    "start_time": "2021-09-22T20:02:00.799Z"
   },
   {
    "duration": 23,
    "start_time": "2021-09-22T20:02:00.833Z"
   },
   {
    "duration": 942,
    "start_time": "2021-09-22T20:02:00.858Z"
   },
   {
    "duration": 1091,
    "start_time": "2021-09-22T20:02:01.802Z"
   },
   {
    "duration": 6,
    "start_time": "2021-09-22T20:02:02.898Z"
   },
   {
    "duration": 16,
    "start_time": "2021-09-22T20:02:02.906Z"
   },
   {
    "duration": 57,
    "start_time": "2021-09-22T20:02:02.925Z"
   },
   {
    "duration": 2683,
    "start_time": "2021-09-22T20:02:02.985Z"
   },
   {
    "duration": 20,
    "start_time": "2021-09-22T20:02:05.671Z"
   },
   {
    "duration": 27,
    "start_time": "2021-09-22T20:02:05.694Z"
   },
   {
    "duration": 12,
    "start_time": "2021-09-22T20:02:05.757Z"
   },
   {
    "duration": 12,
    "start_time": "2021-09-22T20:02:05.771Z"
   },
   {
    "duration": 9,
    "start_time": "2021-09-22T20:02:05.785Z"
   },
   {
    "duration": 10,
    "start_time": "2021-09-22T20:02:05.797Z"
   },
   {
    "duration": 78,
    "start_time": "2021-09-22T20:02:05.810Z"
   },
   {
    "duration": 4653,
    "start_time": "2021-09-22T20:02:05.891Z"
   },
   {
    "duration": 36,
    "start_time": "2021-09-22T20:02:10.547Z"
   },
   {
    "duration": 432,
    "start_time": "2021-09-22T20:02:10.585Z"
   },
   {
    "duration": 659,
    "start_time": "2021-09-22T20:02:40.853Z"
   },
   {
    "duration": 647,
    "start_time": "2021-09-22T20:03:03.666Z"
   },
   {
    "duration": 30,
    "start_time": "2021-09-22T20:03:11.402Z"
   },
   {
    "duration": 653,
    "start_time": "2021-09-22T20:03:21.028Z"
   },
   {
    "duration": 645,
    "start_time": "2021-09-22T20:03:44.901Z"
   },
   {
    "duration": 733,
    "start_time": "2021-09-22T20:03:51.804Z"
   },
   {
    "duration": 5,
    "start_time": "2021-09-22T20:04:00.452Z"
   },
   {
    "duration": 84,
    "start_time": "2021-09-22T20:04:00.459Z"
   },
   {
    "duration": 21,
    "start_time": "2021-09-22T20:04:00.546Z"
   },
   {
    "duration": 28,
    "start_time": "2021-09-22T20:04:00.571Z"
   },
   {
    "duration": 27,
    "start_time": "2021-09-22T20:04:00.602Z"
   },
   {
    "duration": 41,
    "start_time": "2021-09-22T20:04:00.632Z"
   },
   {
    "duration": 35,
    "start_time": "2021-09-22T20:04:00.675Z"
   },
   {
    "duration": 36,
    "start_time": "2021-09-22T20:04:00.714Z"
   },
   {
    "duration": 27,
    "start_time": "2021-09-22T20:04:00.753Z"
   },
   {
    "duration": 22,
    "start_time": "2021-09-22T20:04:00.782Z"
   },
   {
    "duration": 71,
    "start_time": "2021-09-22T20:04:00.808Z"
   },
   {
    "duration": 17,
    "start_time": "2021-09-22T20:04:00.881Z"
   },
   {
    "duration": 23,
    "start_time": "2021-09-22T20:04:00.901Z"
   },
   {
    "duration": 54,
    "start_time": "2021-09-22T20:04:00.926Z"
   },
   {
    "duration": 8,
    "start_time": "2021-09-22T20:04:00.982Z"
   },
   {
    "duration": 67,
    "start_time": "2021-09-22T20:04:00.993Z"
   },
   {
    "duration": 14,
    "start_time": "2021-09-22T20:04:01.063Z"
   },
   {
    "duration": 35,
    "start_time": "2021-09-22T20:04:01.080Z"
   },
   {
    "duration": 43,
    "start_time": "2021-09-22T20:04:01.118Z"
   },
   {
    "duration": 25,
    "start_time": "2021-09-22T20:04:01.163Z"
   },
   {
    "duration": 938,
    "start_time": "2021-09-22T20:04:01.191Z"
   },
   {
    "duration": 777,
    "start_time": "2021-09-22T20:04:02.131Z"
   },
   {
    "duration": 6,
    "start_time": "2021-09-22T20:04:02.913Z"
   },
   {
    "duration": 27,
    "start_time": "2021-09-22T20:04:02.922Z"
   },
   {
    "duration": 57,
    "start_time": "2021-09-22T20:04:02.951Z"
   },
   {
    "duration": 2787,
    "start_time": "2021-09-22T20:04:03.010Z"
   },
   {
    "duration": 17,
    "start_time": "2021-09-22T20:04:05.799Z"
   },
   {
    "duration": 49,
    "start_time": "2021-09-22T20:04:05.819Z"
   },
   {
    "duration": 9,
    "start_time": "2021-09-22T20:04:05.871Z"
   },
   {
    "duration": 11,
    "start_time": "2021-09-22T20:04:05.883Z"
   },
   {
    "duration": 7,
    "start_time": "2021-09-22T20:04:05.896Z"
   },
   {
    "duration": 14,
    "start_time": "2021-09-22T20:04:05.905Z"
   },
   {
    "duration": 63,
    "start_time": "2021-09-22T20:04:05.921Z"
   },
   {
    "duration": 4692,
    "start_time": "2021-09-22T20:04:05.986Z"
   },
   {
    "duration": 38,
    "start_time": "2021-09-22T20:04:10.681Z"
   },
   {
    "duration": 801,
    "start_time": "2021-09-22T20:04:10.723Z"
   },
   {
    "duration": 43,
    "start_time": "2021-09-22T20:04:11.527Z"
   },
   {
    "duration": 702,
    "start_time": "2021-09-22T20:04:21.286Z"
   },
   {
    "duration": 4,
    "start_time": "2021-09-22T20:04:28.425Z"
   },
   {
    "duration": 73,
    "start_time": "2021-09-22T20:04:28.433Z"
   },
   {
    "duration": 12,
    "start_time": "2021-09-22T20:04:28.509Z"
   },
   {
    "duration": 34,
    "start_time": "2021-09-22T20:04:28.523Z"
   },
   {
    "duration": 17,
    "start_time": "2021-09-22T20:04:28.559Z"
   },
   {
    "duration": 12,
    "start_time": "2021-09-22T20:04:28.579Z"
   },
   {
    "duration": 23,
    "start_time": "2021-09-22T20:04:28.593Z"
   },
   {
    "duration": 25,
    "start_time": "2021-09-22T20:04:28.619Z"
   },
   {
    "duration": 23,
    "start_time": "2021-09-22T20:04:28.657Z"
   },
   {
    "duration": 25,
    "start_time": "2021-09-22T20:04:28.683Z"
   },
   {
    "duration": 54,
    "start_time": "2021-09-22T20:04:28.711Z"
   },
   {
    "duration": 5,
    "start_time": "2021-09-22T20:04:28.768Z"
   },
   {
    "duration": 19,
    "start_time": "2021-09-22T20:04:28.776Z"
   },
   {
    "duration": 41,
    "start_time": "2021-09-22T20:04:28.796Z"
   },
   {
    "duration": 19,
    "start_time": "2021-09-22T20:04:28.839Z"
   },
   {
    "duration": 49,
    "start_time": "2021-09-22T20:04:28.860Z"
   },
   {
    "duration": 6,
    "start_time": "2021-09-22T20:04:28.911Z"
   },
   {
    "duration": 18,
    "start_time": "2021-09-22T20:04:28.919Z"
   },
   {
    "duration": 17,
    "start_time": "2021-09-22T20:04:28.938Z"
   },
   {
    "duration": 16,
    "start_time": "2021-09-22T20:04:28.958Z"
   },
   {
    "duration": 903,
    "start_time": "2021-09-22T20:04:28.977Z"
   },
   {
    "duration": 778,
    "start_time": "2021-09-22T20:04:29.882Z"
   },
   {
    "duration": 7,
    "start_time": "2021-09-22T20:04:30.663Z"
   },
   {
    "duration": 28,
    "start_time": "2021-09-22T20:04:30.672Z"
   },
   {
    "duration": 43,
    "start_time": "2021-09-22T20:04:30.703Z"
   },
   {
    "duration": 2502,
    "start_time": "2021-09-22T20:04:30.756Z"
   },
   {
    "duration": 18,
    "start_time": "2021-09-22T20:04:33.263Z"
   },
   {
    "duration": 25,
    "start_time": "2021-09-22T20:04:33.284Z"
   },
   {
    "duration": 50,
    "start_time": "2021-09-22T20:04:33.311Z"
   },
   {
    "duration": 6,
    "start_time": "2021-09-22T20:04:33.363Z"
   },
   {
    "duration": 10,
    "start_time": "2021-09-22T20:04:33.371Z"
   },
   {
    "duration": 11,
    "start_time": "2021-09-22T20:04:33.383Z"
   },
   {
    "duration": 61,
    "start_time": "2021-09-22T20:04:33.396Z"
   },
   {
    "duration": 4578,
    "start_time": "2021-09-22T20:04:33.459Z"
   },
   {
    "duration": 46,
    "start_time": "2021-09-22T20:04:38.039Z"
   },
   {
    "duration": 494,
    "start_time": "2021-09-22T20:04:38.087Z"
   },
   {
    "duration": 385,
    "start_time": "2021-09-22T20:04:52.974Z"
   },
   {
    "duration": 6979,
    "start_time": "2021-09-22T20:08:52.286Z"
   },
   {
    "duration": 366,
    "start_time": "2021-09-22T20:09:07.619Z"
   },
   {
    "duration": 418,
    "start_time": "2021-09-22T20:09:26.103Z"
   },
   {
    "duration": 600,
    "start_time": "2021-09-22T20:09:34.658Z"
   },
   {
    "duration": 593,
    "start_time": "2021-09-22T20:51:33.059Z"
   },
   {
    "duration": 865,
    "start_time": "2021-09-22T20:51:48.552Z"
   },
   {
    "duration": 586,
    "start_time": "2021-09-22T20:52:24.574Z"
   },
   {
    "duration": 711,
    "start_time": "2021-09-22T20:52:31.711Z"
   },
   {
    "duration": 643,
    "start_time": "2021-09-22T20:58:57.659Z"
   },
   {
    "duration": 5,
    "start_time": "2021-09-22T20:59:13.588Z"
   },
   {
    "duration": 72,
    "start_time": "2021-09-22T20:59:13.596Z"
   },
   {
    "duration": 13,
    "start_time": "2021-09-22T20:59:13.671Z"
   },
   {
    "duration": 21,
    "start_time": "2021-09-22T20:59:13.687Z"
   },
   {
    "duration": 53,
    "start_time": "2021-09-22T20:59:13.710Z"
   },
   {
    "duration": 7,
    "start_time": "2021-09-22T20:59:13.766Z"
   },
   {
    "duration": 16,
    "start_time": "2021-09-22T20:59:13.775Z"
   },
   {
    "duration": 29,
    "start_time": "2021-09-22T20:59:13.795Z"
   },
   {
    "duration": 47,
    "start_time": "2021-09-22T20:59:13.827Z"
   },
   {
    "duration": 15,
    "start_time": "2021-09-22T20:59:13.876Z"
   },
   {
    "duration": 56,
    "start_time": "2021-09-22T20:59:13.893Z"
   },
   {
    "duration": 7,
    "start_time": "2021-09-22T20:59:13.956Z"
   },
   {
    "duration": 9,
    "start_time": "2021-09-22T20:59:13.965Z"
   },
   {
    "duration": 52,
    "start_time": "2021-09-22T20:59:13.977Z"
   },
   {
    "duration": 6,
    "start_time": "2021-09-22T20:59:14.031Z"
   },
   {
    "duration": 50,
    "start_time": "2021-09-22T20:59:14.039Z"
   },
   {
    "duration": 6,
    "start_time": "2021-09-22T20:59:14.092Z"
   },
   {
    "duration": 9,
    "start_time": "2021-09-22T20:59:14.101Z"
   },
   {
    "duration": 17,
    "start_time": "2021-09-22T20:59:14.113Z"
   },
   {
    "duration": 27,
    "start_time": "2021-09-22T20:59:14.132Z"
   },
   {
    "duration": 928,
    "start_time": "2021-09-22T20:59:14.161Z"
   },
   {
    "duration": 785,
    "start_time": "2021-09-22T20:59:15.091Z"
   },
   {
    "duration": 7,
    "start_time": "2021-09-22T20:59:15.882Z"
   },
   {
    "duration": 12,
    "start_time": "2021-09-22T20:59:15.892Z"
   },
   {
    "duration": 57,
    "start_time": "2021-09-22T20:59:15.907Z"
   },
   {
    "duration": 2500,
    "start_time": "2021-09-22T20:59:15.967Z"
   },
   {
    "duration": 17,
    "start_time": "2021-09-22T20:59:18.469Z"
   },
   {
    "duration": 24,
    "start_time": "2021-09-22T20:59:18.488Z"
   },
   {
    "duration": 41,
    "start_time": "2021-09-22T20:59:18.514Z"
   },
   {
    "duration": 5,
    "start_time": "2021-09-22T20:59:18.558Z"
   },
   {
    "duration": 8,
    "start_time": "2021-09-22T20:59:18.566Z"
   },
   {
    "duration": 8,
    "start_time": "2021-09-22T20:59:18.576Z"
   },
   {
    "duration": 36,
    "start_time": "2021-09-22T20:59:18.586Z"
   },
   {
    "duration": 4396,
    "start_time": "2021-09-22T20:59:18.656Z"
   },
   {
    "duration": 37,
    "start_time": "2021-09-22T20:59:23.057Z"
   },
   {
    "duration": 387,
    "start_time": "2021-09-22T20:59:23.096Z"
   },
   {
    "duration": 554,
    "start_time": "2021-09-22T20:59:23.485Z"
   },
   {
    "duration": 5,
    "start_time": "2021-09-22T20:59:50.123Z"
   },
   {
    "duration": 64,
    "start_time": "2021-09-22T20:59:50.130Z"
   },
   {
    "duration": 13,
    "start_time": "2021-09-22T20:59:50.197Z"
   },
   {
    "duration": 47,
    "start_time": "2021-09-22T20:59:50.213Z"
   },
   {
    "duration": 13,
    "start_time": "2021-09-22T20:59:50.263Z"
   },
   {
    "duration": 7,
    "start_time": "2021-09-22T20:59:50.278Z"
   },
   {
    "duration": 15,
    "start_time": "2021-09-22T20:59:50.287Z"
   },
   {
    "duration": 64,
    "start_time": "2021-09-22T20:59:50.306Z"
   },
   {
    "duration": 24,
    "start_time": "2021-09-22T20:59:50.373Z"
   },
   {
    "duration": 10,
    "start_time": "2021-09-22T20:59:50.400Z"
   },
   {
    "duration": 74,
    "start_time": "2021-09-22T20:59:50.413Z"
   },
   {
    "duration": 8,
    "start_time": "2021-09-22T20:59:50.490Z"
   },
   {
    "duration": 8,
    "start_time": "2021-09-22T20:59:50.500Z"
   },
   {
    "duration": 64,
    "start_time": "2021-09-22T20:59:50.511Z"
   },
   {
    "duration": 6,
    "start_time": "2021-09-22T20:59:50.577Z"
   },
   {
    "duration": 39,
    "start_time": "2021-09-22T20:59:50.586Z"
   },
   {
    "duration": 30,
    "start_time": "2021-09-22T20:59:50.627Z"
   },
   {
    "duration": 5,
    "start_time": "2021-09-22T20:59:50.659Z"
   },
   {
    "duration": 9,
    "start_time": "2021-09-22T20:59:50.666Z"
   },
   {
    "duration": 14,
    "start_time": "2021-09-22T20:59:50.677Z"
   },
   {
    "duration": 914,
    "start_time": "2021-09-22T20:59:50.694Z"
   },
   {
    "duration": 766,
    "start_time": "2021-09-22T20:59:51.610Z"
   },
   {
    "duration": 6,
    "start_time": "2021-09-22T20:59:52.382Z"
   },
   {
    "duration": 10,
    "start_time": "2021-09-22T20:59:52.392Z"
   },
   {
    "duration": 60,
    "start_time": "2021-09-22T20:59:52.405Z"
   },
   {
    "duration": 2491,
    "start_time": "2021-09-22T20:59:52.467Z"
   },
   {
    "duration": 18,
    "start_time": "2021-09-22T20:59:54.961Z"
   },
   {
    "duration": 23,
    "start_time": "2021-09-22T20:59:54.981Z"
   },
   {
    "duration": 11,
    "start_time": "2021-09-22T20:59:55.007Z"
   },
   {
    "duration": 37,
    "start_time": "2021-09-22T20:59:55.020Z"
   },
   {
    "duration": 6,
    "start_time": "2021-09-22T20:59:55.059Z"
   },
   {
    "duration": 25,
    "start_time": "2021-09-22T20:59:55.067Z"
   },
   {
    "duration": 41,
    "start_time": "2021-09-22T20:59:55.094Z"
   },
   {
    "duration": 4377,
    "start_time": "2021-09-22T20:59:55.138Z"
   },
   {
    "duration": 48,
    "start_time": "2021-09-22T20:59:59.517Z"
   },
   {
    "duration": 391,
    "start_time": "2021-09-22T20:59:59.568Z"
   },
   {
    "duration": 585,
    "start_time": "2021-09-22T20:59:59.961Z"
   },
   {
    "duration": 1257,
    "start_time": "2021-09-22T21:01:19.359Z"
   },
   {
    "duration": 885,
    "start_time": "2021-09-22T21:01:25.066Z"
   },
   {
    "duration": 10,
    "start_time": "2021-09-22T21:01:33.707Z"
   },
   {
    "duration": 1126,
    "start_time": "2021-09-22T21:01:53.380Z"
   },
   {
    "duration": 903,
    "start_time": "2021-09-22T21:01:58.156Z"
   },
   {
    "duration": 10,
    "start_time": "2021-09-22T21:02:01.183Z"
   },
   {
    "duration": 5,
    "start_time": "2021-09-22T21:02:37.713Z"
   },
   {
    "duration": 66,
    "start_time": "2021-09-22T21:02:37.721Z"
   },
   {
    "duration": 14,
    "start_time": "2021-09-22T21:02:37.790Z"
   },
   {
    "duration": 57,
    "start_time": "2021-09-22T21:02:37.807Z"
   },
   {
    "duration": 12,
    "start_time": "2021-09-22T21:02:37.867Z"
   },
   {
    "duration": 7,
    "start_time": "2021-09-22T21:02:37.882Z"
   },
   {
    "duration": 65,
    "start_time": "2021-09-22T21:02:37.893Z"
   },
   {
    "duration": 20,
    "start_time": "2021-09-22T21:02:37.961Z"
   },
   {
    "duration": 23,
    "start_time": "2021-09-22T21:02:37.984Z"
   },
   {
    "duration": 48,
    "start_time": "2021-09-22T21:02:38.009Z"
   },
   {
    "duration": 45,
    "start_time": "2021-09-22T21:02:38.060Z"
   },
   {
    "duration": 10,
    "start_time": "2021-09-22T21:02:38.108Z"
   },
   {
    "duration": 35,
    "start_time": "2021-09-22T21:02:38.121Z"
   },
   {
    "duration": 63,
    "start_time": "2021-09-22T21:02:38.158Z"
   },
   {
    "duration": 5,
    "start_time": "2021-09-22T21:02:38.223Z"
   },
   {
    "duration": 49,
    "start_time": "2021-09-22T21:02:38.231Z"
   },
   {
    "duration": 6,
    "start_time": "2021-09-22T21:02:38.282Z"
   },
   {
    "duration": 5,
    "start_time": "2021-09-22T21:02:38.291Z"
   },
   {
    "duration": 6,
    "start_time": "2021-09-22T21:02:38.302Z"
   },
   {
    "duration": 8,
    "start_time": "2021-09-22T21:02:38.312Z"
   },
   {
    "duration": 936,
    "start_time": "2021-09-22T21:02:38.322Z"
   },
   {
    "duration": 745,
    "start_time": "2021-09-22T21:02:39.260Z"
   },
   {
    "duration": 7,
    "start_time": "2021-09-22T21:02:40.008Z"
   },
   {
    "duration": 11,
    "start_time": "2021-09-22T21:02:40.017Z"
   },
   {
    "duration": 56,
    "start_time": "2021-09-22T21:02:40.031Z"
   },
   {
    "duration": 2603,
    "start_time": "2021-09-22T21:02:40.090Z"
   },
   {
    "duration": 17,
    "start_time": "2021-09-22T21:02:42.696Z"
   },
   {
    "duration": 44,
    "start_time": "2021-09-22T21:02:42.716Z"
   },
   {
    "duration": 9,
    "start_time": "2021-09-22T21:02:42.763Z"
   },
   {
    "duration": 6,
    "start_time": "2021-09-22T21:02:42.775Z"
   },
   {
    "duration": 9,
    "start_time": "2021-09-22T21:02:42.784Z"
   },
   {
    "duration": 14,
    "start_time": "2021-09-22T21:02:42.795Z"
   },
   {
    "duration": 70,
    "start_time": "2021-09-22T21:02:42.811Z"
   },
   {
    "duration": 4582,
    "start_time": "2021-09-22T21:02:42.884Z"
   },
   {
    "duration": 38,
    "start_time": "2021-09-22T21:02:47.468Z"
   },
   {
    "duration": 414,
    "start_time": "2021-09-22T21:02:47.509Z"
   },
   {
    "duration": 594,
    "start_time": "2021-09-22T21:02:47.925Z"
   },
   {
    "duration": 920,
    "start_time": "2021-09-22T21:02:48.521Z"
   },
   {
    "duration": 990,
    "start_time": "2021-09-22T21:02:49.444Z"
   },
   {
    "duration": 20,
    "start_time": "2021-09-22T21:02:50.437Z"
   },
   {
    "duration": 744,
    "start_time": "2021-09-22T21:02:50.460Z"
   },
   {
    "duration": 769,
    "start_time": "2021-09-22T21:02:51.206Z"
   },
   {
    "duration": 9,
    "start_time": "2021-09-22T21:02:51.978Z"
   },
   {
    "duration": 18,
    "start_time": "2021-09-22T21:02:51.990Z"
   },
   {
    "duration": 771,
    "start_time": "2021-09-22T21:02:52.010Z"
   },
   {
    "duration": 31,
    "start_time": "2021-09-22T21:02:52.783Z"
   },
   {
    "duration": 40,
    "start_time": "2021-09-22T21:02:52.816Z"
   },
   {
    "duration": 25,
    "start_time": "2021-09-22T21:02:52.859Z"
   },
   {
    "duration": 32,
    "start_time": "2021-09-22T21:02:52.886Z"
   },
   {
    "duration": 35,
    "start_time": "2021-09-22T21:02:52.921Z"
   },
   {
    "duration": 26,
    "start_time": "2021-09-22T21:02:52.959Z"
   },
   {
    "duration": 1143,
    "start_time": "2021-09-22T21:02:52.988Z"
   },
   {
    "duration": 9,
    "start_time": "2021-09-22T21:02:54.134Z"
   },
   {
    "duration": 754,
    "start_time": "2021-09-22T21:02:54.156Z"
   },
   {
    "duration": 7,
    "start_time": "2021-09-22T21:02:54.916Z"
   },
   {
    "duration": 35,
    "start_time": "2021-09-22T21:02:54.926Z"
   },
   {
    "duration": 789,
    "start_time": "2021-09-22T21:02:54.963Z"
   },
   {
    "duration": 7,
    "start_time": "2021-09-22T21:02:55.756Z"
   },
   {
    "duration": 13,
    "start_time": "2021-09-22T21:02:55.766Z"
   },
   {
    "duration": 4,
    "start_time": "2021-09-22T21:03:50.691Z"
   },
   {
    "duration": 67,
    "start_time": "2021-09-22T21:03:50.698Z"
   },
   {
    "duration": 12,
    "start_time": "2021-09-22T21:03:50.768Z"
   },
   {
    "duration": 25,
    "start_time": "2021-09-22T21:03:50.783Z"
   },
   {
    "duration": 46,
    "start_time": "2021-09-22T21:03:50.810Z"
   },
   {
    "duration": 8,
    "start_time": "2021-09-22T21:03:50.859Z"
   },
   {
    "duration": 18,
    "start_time": "2021-09-22T21:03:50.871Z"
   },
   {
    "duration": 68,
    "start_time": "2021-09-22T21:03:50.894Z"
   },
   {
    "duration": 23,
    "start_time": "2021-09-22T21:03:50.965Z"
   },
   {
    "duration": 11,
    "start_time": "2021-09-22T21:03:50.990Z"
   },
   {
    "duration": 76,
    "start_time": "2021-09-22T21:03:51.003Z"
   },
   {
    "duration": 5,
    "start_time": "2021-09-22T21:03:51.081Z"
   },
   {
    "duration": 6,
    "start_time": "2021-09-22T21:03:51.088Z"
   },
   {
    "duration": 61,
    "start_time": "2021-09-22T21:03:51.096Z"
   },
   {
    "duration": 6,
    "start_time": "2021-09-22T21:03:51.159Z"
   },
   {
    "duration": 39,
    "start_time": "2021-09-22T21:03:51.167Z"
   },
   {
    "duration": 6,
    "start_time": "2021-09-22T21:03:51.208Z"
   },
   {
    "duration": 40,
    "start_time": "2021-09-22T21:03:51.217Z"
   },
   {
    "duration": 7,
    "start_time": "2021-09-22T21:03:51.259Z"
   },
   {
    "duration": 9,
    "start_time": "2021-09-22T21:03:51.268Z"
   },
   {
    "duration": 1019,
    "start_time": "2021-09-22T21:03:51.279Z"
   },
   {
    "duration": 767,
    "start_time": "2021-09-22T21:03:52.301Z"
   },
   {
    "duration": 8,
    "start_time": "2021-09-22T21:03:53.077Z"
   },
   {
    "duration": 9,
    "start_time": "2021-09-22T21:03:53.089Z"
   },
   {
    "duration": 64,
    "start_time": "2021-09-22T21:03:53.100Z"
   },
   {
    "duration": 2531,
    "start_time": "2021-09-22T21:03:53.167Z"
   },
   {
    "duration": 21,
    "start_time": "2021-09-22T21:03:55.701Z"
   },
   {
    "duration": 52,
    "start_time": "2021-09-22T21:03:55.731Z"
   },
   {
    "duration": 9,
    "start_time": "2021-09-22T21:03:55.786Z"
   },
   {
    "duration": 6,
    "start_time": "2021-09-22T21:03:55.798Z"
   },
   {
    "duration": 8,
    "start_time": "2021-09-22T21:03:55.806Z"
   },
   {
    "duration": 45,
    "start_time": "2021-09-22T21:03:55.816Z"
   },
   {
    "duration": 40,
    "start_time": "2021-09-22T21:03:55.863Z"
   },
   {
    "duration": 4507,
    "start_time": "2021-09-22T21:03:55.906Z"
   },
   {
    "duration": 47,
    "start_time": "2021-09-22T21:04:00.415Z"
   },
   {
    "duration": 410,
    "start_time": "2021-09-22T21:04:00.465Z"
   },
   {
    "duration": 594,
    "start_time": "2021-09-22T21:04:00.877Z"
   },
   {
    "duration": 950,
    "start_time": "2021-09-22T21:04:01.474Z"
   },
   {
    "duration": 1354,
    "start_time": "2021-09-22T21:04:02.426Z"
   },
   {
    "duration": 9,
    "start_time": "2021-09-22T21:04:03.783Z"
   },
   {
    "duration": 620,
    "start_time": "2021-09-22T21:04:03.794Z"
   },
   {
    "duration": 640,
    "start_time": "2021-09-22T21:04:04.417Z"
   },
   {
    "duration": 10,
    "start_time": "2021-09-22T21:04:05.059Z"
   },
   {
    "duration": 17,
    "start_time": "2021-09-22T21:04:05.072Z"
   },
   {
    "duration": 524,
    "start_time": "2021-09-22T21:04:05.092Z"
   },
   {
    "duration": 43,
    "start_time": "2021-09-22T21:04:05.619Z"
   },
   {
    "duration": 24,
    "start_time": "2021-09-22T21:04:05.664Z"
   },
   {
    "duration": 15,
    "start_time": "2021-09-22T21:04:05.690Z"
   },
   {
    "duration": 19,
    "start_time": "2021-09-22T21:04:05.708Z"
   },
   {
    "duration": 37,
    "start_time": "2021-09-22T21:04:05.730Z"
   },
   {
    "duration": 25,
    "start_time": "2021-09-22T21:04:05.769Z"
   },
   {
    "duration": 1235,
    "start_time": "2021-09-22T21:04:05.796Z"
   },
   {
    "duration": 10,
    "start_time": "2021-09-22T21:04:07.033Z"
   },
   {
    "duration": 608,
    "start_time": "2021-09-22T21:04:07.055Z"
   },
   {
    "duration": 7,
    "start_time": "2021-09-22T21:04:07.665Z"
   },
   {
    "duration": 13,
    "start_time": "2021-09-22T21:04:07.674Z"
   },
   {
    "duration": 617,
    "start_time": "2021-09-22T21:04:07.689Z"
   },
   {
    "duration": 9,
    "start_time": "2021-09-22T21:04:08.309Z"
   },
   {
    "duration": 34,
    "start_time": "2021-09-22T21:04:08.322Z"
   },
   {
    "duration": 531,
    "start_time": "2021-09-22T21:04:42.599Z"
   },
   {
    "duration": 599,
    "start_time": "2021-09-22T21:04:50.540Z"
   },
   {
    "duration": 530,
    "start_time": "2021-09-22T21:04:59.169Z"
   },
   {
    "duration": 16,
    "start_time": "2021-09-22T21:08:46.082Z"
   },
   {
    "duration": 562,
    "start_time": "2021-09-22T21:08:47.331Z"
   },
   {
    "duration": 17,
    "start_time": "2021-09-22T21:09:11.656Z"
   },
   {
    "duration": 693,
    "start_time": "2021-09-22T21:09:16.285Z"
   },
   {
    "duration": 5,
    "start_time": "2021-09-22T21:22:33.722Z"
   },
   {
    "duration": 5,
    "start_time": "2021-09-22T21:22:50.238Z"
   },
   {
    "duration": 72,
    "start_time": "2021-09-22T21:22:50.245Z"
   },
   {
    "duration": 13,
    "start_time": "2021-09-22T21:22:50.320Z"
   },
   {
    "duration": 38,
    "start_time": "2021-09-22T21:22:50.336Z"
   },
   {
    "duration": 21,
    "start_time": "2021-09-22T21:22:50.377Z"
   },
   {
    "duration": 7,
    "start_time": "2021-09-22T21:22:50.401Z"
   },
   {
    "duration": 51,
    "start_time": "2021-09-22T21:22:50.412Z"
   },
   {
    "duration": 28,
    "start_time": "2021-09-22T21:22:50.466Z"
   },
   {
    "duration": 60,
    "start_time": "2021-09-22T21:22:50.496Z"
   },
   {
    "duration": 9,
    "start_time": "2021-09-22T21:22:50.558Z"
   },
   {
    "duration": 58,
    "start_time": "2021-09-22T21:22:50.570Z"
   },
   {
    "duration": 25,
    "start_time": "2021-09-22T21:22:50.630Z"
   },
   {
    "duration": 5,
    "start_time": "2021-09-22T21:22:50.657Z"
   },
   {
    "duration": 42,
    "start_time": "2021-09-22T21:22:50.664Z"
   },
   {
    "duration": 6,
    "start_time": "2021-09-22T21:22:50.708Z"
   },
   {
    "duration": 66,
    "start_time": "2021-09-22T21:22:50.716Z"
   },
   {
    "duration": 6,
    "start_time": "2021-09-22T21:22:50.784Z"
   },
   {
    "duration": 16,
    "start_time": "2021-09-22T21:22:50.793Z"
   },
   {
    "duration": 19,
    "start_time": "2021-09-22T21:22:50.814Z"
   },
   {
    "duration": 11,
    "start_time": "2021-09-22T21:22:50.837Z"
   },
   {
    "duration": 7,
    "start_time": "2021-09-22T21:22:50.857Z"
   },
   {
    "duration": 934,
    "start_time": "2021-09-22T21:22:50.867Z"
   },
   {
    "duration": 829,
    "start_time": "2021-09-22T21:22:51.803Z"
   },
   {
    "duration": 7,
    "start_time": "2021-09-22T21:22:52.635Z"
   },
   {
    "duration": 11,
    "start_time": "2021-09-22T21:22:52.657Z"
   },
   {
    "duration": 44,
    "start_time": "2021-09-22T21:22:52.671Z"
   },
   {
    "duration": 2541,
    "start_time": "2021-09-22T21:22:52.718Z"
   },
   {
    "duration": 19,
    "start_time": "2021-09-22T21:22:55.262Z"
   },
   {
    "duration": 26,
    "start_time": "2021-09-22T21:22:55.283Z"
   },
   {
    "duration": 9,
    "start_time": "2021-09-22T21:22:55.311Z"
   },
   {
    "duration": 38,
    "start_time": "2021-09-22T21:22:55.322Z"
   },
   {
    "duration": 17,
    "start_time": "2021-09-22T21:22:55.362Z"
   },
   {
    "duration": 24,
    "start_time": "2021-09-22T21:22:55.381Z"
   },
   {
    "duration": 51,
    "start_time": "2021-09-22T21:22:55.408Z"
   },
   {
    "duration": 4377,
    "start_time": "2021-09-22T21:22:55.462Z"
   },
   {
    "duration": 45,
    "start_time": "2021-09-22T21:22:59.842Z"
   },
   {
    "duration": 415,
    "start_time": "2021-09-22T21:22:59.890Z"
   },
   {
    "duration": 569,
    "start_time": "2021-09-22T21:23:00.307Z"
   },
   {
    "duration": 926,
    "start_time": "2021-09-22T21:23:00.879Z"
   },
   {
    "duration": 911,
    "start_time": "2021-09-22T21:23:01.808Z"
   },
   {
    "duration": 10,
    "start_time": "2021-09-22T21:23:02.722Z"
   },
   {
    "duration": 613,
    "start_time": "2021-09-22T21:23:02.734Z"
   },
   {
    "duration": 608,
    "start_time": "2021-09-22T21:23:03.350Z"
   },
   {
    "duration": 8,
    "start_time": "2021-09-22T21:23:03.962Z"
   },
   {
    "duration": 28,
    "start_time": "2021-09-22T21:23:03.973Z"
   },
   {
    "duration": 572,
    "start_time": "2021-09-22T21:23:04.003Z"
   },
   {
    "duration": 28,
    "start_time": "2021-09-22T21:23:04.578Z"
   },
   {
    "duration": 39,
    "start_time": "2021-09-22T21:23:04.608Z"
   },
   {
    "duration": 35,
    "start_time": "2021-09-22T21:23:04.649Z"
   },
   {
    "duration": 25,
    "start_time": "2021-09-22T21:23:04.687Z"
   },
   {
    "duration": 30,
    "start_time": "2021-09-22T21:23:04.714Z"
   },
   {
    "duration": 36,
    "start_time": "2021-09-22T21:23:04.746Z"
   },
   {
    "duration": 1104,
    "start_time": "2021-09-22T21:23:04.784Z"
   },
   {
    "duration": 10,
    "start_time": "2021-09-22T21:23:05.891Z"
   },
   {
    "duration": 680,
    "start_time": "2021-09-22T21:23:05.907Z"
   },
   {
    "duration": 7,
    "start_time": "2021-09-22T21:23:06.589Z"
   },
   {
    "duration": 20,
    "start_time": "2021-09-22T21:23:06.599Z"
   },
   {
    "duration": 692,
    "start_time": "2021-09-22T21:23:06.621Z"
   },
   {
    "duration": 8,
    "start_time": "2021-09-22T21:23:07.315Z"
   },
   {
    "duration": 14,
    "start_time": "2021-09-22T21:23:07.325Z"
   },
   {
    "duration": 1473,
    "start_time": "2021-09-23T11:08:43.793Z"
   },
   {
    "duration": 66,
    "start_time": "2021-09-23T11:08:45.269Z"
   },
   {
    "duration": 14,
    "start_time": "2021-09-23T11:08:45.337Z"
   },
   {
    "duration": 37,
    "start_time": "2021-09-23T11:08:45.354Z"
   },
   {
    "duration": 13,
    "start_time": "2021-09-23T11:08:45.394Z"
   },
   {
    "duration": 8,
    "start_time": "2021-09-23T11:08:45.410Z"
   },
   {
    "duration": 14,
    "start_time": "2021-09-23T11:08:45.421Z"
   },
   {
    "duration": 62,
    "start_time": "2021-09-23T11:08:45.439Z"
   },
   {
    "duration": 25,
    "start_time": "2021-09-23T11:08:45.503Z"
   },
   {
    "duration": 9,
    "start_time": "2021-09-23T11:08:45.530Z"
   },
   {
    "duration": 79,
    "start_time": "2021-09-23T11:08:45.541Z"
   },
   {
    "duration": 6,
    "start_time": "2021-09-23T11:08:45.622Z"
   },
   {
    "duration": 6,
    "start_time": "2021-09-23T11:08:45.631Z"
   },
   {
    "duration": 72,
    "start_time": "2021-09-23T11:08:45.640Z"
   },
   {
    "duration": 6,
    "start_time": "2021-09-23T11:08:45.715Z"
   },
   {
    "duration": 63,
    "start_time": "2021-09-23T11:08:45.724Z"
   },
   {
    "duration": 6,
    "start_time": "2021-09-23T11:08:45.789Z"
   },
   {
    "duration": 9,
    "start_time": "2021-09-23T11:08:45.798Z"
   },
   {
    "duration": 11,
    "start_time": "2021-09-23T11:08:45.809Z"
   },
   {
    "duration": 6,
    "start_time": "2021-09-23T11:08:45.822Z"
   },
   {
    "duration": 14,
    "start_time": "2021-09-23T11:08:45.831Z"
   },
   {
    "duration": 1056,
    "start_time": "2021-09-23T11:08:45.847Z"
   },
   {
    "duration": 819,
    "start_time": "2021-09-23T11:08:46.908Z"
   },
   {
    "duration": 7,
    "start_time": "2021-09-23T11:08:47.730Z"
   },
   {
    "duration": 14,
    "start_time": "2021-09-23T11:08:47.739Z"
   },
   {
    "duration": 58,
    "start_time": "2021-09-23T11:08:47.755Z"
   },
   {
    "duration": 2796,
    "start_time": "2021-09-23T11:08:47.816Z"
   },
   {
    "duration": 18,
    "start_time": "2021-09-23T11:08:50.615Z"
   },
   {
    "duration": 49,
    "start_time": "2021-09-23T11:08:50.635Z"
   },
   {
    "duration": 10,
    "start_time": "2021-09-23T11:08:50.687Z"
   },
   {
    "duration": 6,
    "start_time": "2021-09-23T11:08:50.699Z"
   },
   {
    "duration": 9,
    "start_time": "2021-09-23T11:08:50.708Z"
   },
   {
    "duration": 14,
    "start_time": "2021-09-23T11:08:50.719Z"
   },
   {
    "duration": 79,
    "start_time": "2021-09-23T11:08:50.736Z"
   },
   {
    "duration": 4779,
    "start_time": "2021-09-23T11:08:50.818Z"
   },
   {
    "duration": 37,
    "start_time": "2021-09-23T11:08:55.599Z"
   },
   {
    "duration": 417,
    "start_time": "2021-09-23T11:08:55.638Z"
   },
   {
    "duration": 689,
    "start_time": "2021-09-23T11:08:56.058Z"
   },
   {
    "duration": 887,
    "start_time": "2021-09-23T11:09:41.068Z"
   },
   {
    "duration": 790,
    "start_time": "2021-09-23T11:09:56.634Z"
   },
   {
    "duration": 1598,
    "start_time": "2022-02-27T14:17:30.084Z"
   },
   {
    "duration": 64,
    "start_time": "2022-02-27T14:17:31.685Z"
   },
   {
    "duration": 25,
    "start_time": "2022-02-27T14:17:31.752Z"
   },
   {
    "duration": 20,
    "start_time": "2022-02-27T14:17:31.780Z"
   },
   {
    "duration": 14,
    "start_time": "2022-02-27T14:17:31.803Z"
   },
   {
    "duration": 7,
    "start_time": "2022-02-27T14:17:31.820Z"
   },
   {
    "duration": 52,
    "start_time": "2022-02-27T14:17:31.829Z"
   },
   {
    "duration": 21,
    "start_time": "2022-02-27T14:17:31.883Z"
   },
   {
    "duration": 25,
    "start_time": "2022-02-27T14:17:31.908Z"
   },
   {
    "duration": 39,
    "start_time": "2022-02-27T14:17:31.936Z"
   },
   {
    "duration": 48,
    "start_time": "2022-02-27T14:17:31.977Z"
   },
   {
    "duration": 6,
    "start_time": "2022-02-27T14:17:32.027Z"
   },
   {
    "duration": 38,
    "start_time": "2022-02-27T14:17:32.035Z"
   },
   {
    "duration": 40,
    "start_time": "2022-02-27T14:17:32.075Z"
   },
   {
    "duration": 5,
    "start_time": "2022-02-27T14:17:32.118Z"
   },
   {
    "duration": 68,
    "start_time": "2022-02-27T14:17:32.125Z"
   },
   {
    "duration": 6,
    "start_time": "2022-02-27T14:17:32.195Z"
   },
   {
    "duration": 7,
    "start_time": "2022-02-27T14:17:32.204Z"
   },
   {
    "duration": 13,
    "start_time": "2022-02-27T14:17:32.214Z"
   },
   {
    "duration": 9,
    "start_time": "2022-02-27T14:17:32.229Z"
   },
   {
    "duration": 41,
    "start_time": "2022-02-27T14:17:32.240Z"
   },
   {
    "duration": 1094,
    "start_time": "2022-02-27T14:17:32.283Z"
   },
   {
    "duration": 842,
    "start_time": "2022-02-27T14:17:33.380Z"
   },
   {
    "duration": 6,
    "start_time": "2022-02-27T14:17:34.225Z"
   },
   {
    "duration": 12,
    "start_time": "2022-02-27T14:17:34.233Z"
   },
   {
    "duration": 55,
    "start_time": "2022-02-27T14:17:34.248Z"
   },
   {
    "duration": 2804,
    "start_time": "2022-02-27T14:17:34.311Z"
   },
   {
    "duration": 20,
    "start_time": "2022-02-27T14:17:37.120Z"
   },
   {
    "duration": 51,
    "start_time": "2022-02-27T14:17:37.143Z"
   },
   {
    "duration": 10,
    "start_time": "2022-02-27T14:17:37.196Z"
   },
   {
    "duration": 6,
    "start_time": "2022-02-27T14:17:37.208Z"
   },
   {
    "duration": 7,
    "start_time": "2022-02-27T14:17:37.217Z"
   },
   {
    "duration": 54,
    "start_time": "2022-02-27T14:17:37.227Z"
   },
   {
    "duration": 35,
    "start_time": "2022-02-27T14:17:37.283Z"
   },
   {
    "duration": 4758,
    "start_time": "2022-02-27T14:17:37.320Z"
   },
   {
    "duration": 36,
    "start_time": "2022-02-27T14:17:42.081Z"
   },
   {
    "duration": 426,
    "start_time": "2022-02-27T14:17:42.119Z"
   },
   {
    "duration": 625,
    "start_time": "2022-02-27T14:17:42.548Z"
   },
   {
    "duration": 936,
    "start_time": "2022-02-27T14:17:43.176Z"
   },
   {
    "duration": 1040,
    "start_time": "2022-02-27T14:17:44.114Z"
   },
   {
    "duration": 1019,
    "start_time": "2022-02-27T14:17:45.157Z"
   },
   {
    "duration": 8,
    "start_time": "2022-02-27T14:17:46.179Z"
   },
   {
    "duration": 618,
    "start_time": "2022-02-27T14:17:46.189Z"
   },
   {
    "duration": 619,
    "start_time": "2022-02-27T14:17:46.809Z"
   },
   {
    "duration": 9,
    "start_time": "2022-02-27T14:17:47.430Z"
   },
   {
    "duration": 35,
    "start_time": "2022-02-27T14:17:47.441Z"
   },
   {
    "duration": 596,
    "start_time": "2022-02-27T14:17:47.478Z"
   },
   {
    "duration": 30,
    "start_time": "2022-02-27T14:17:48.076Z"
   },
   {
    "duration": 35,
    "start_time": "2022-02-27T14:17:48.108Z"
   },
   {
    "duration": 25,
    "start_time": "2022-02-27T14:17:48.146Z"
   },
   {
    "duration": 28,
    "start_time": "2022-02-27T14:17:48.174Z"
   },
   {
    "duration": 24,
    "start_time": "2022-02-27T14:17:48.204Z"
   },
   {
    "duration": 34,
    "start_time": "2022-02-27T14:17:48.230Z"
   },
   {
    "duration": 1145,
    "start_time": "2022-02-27T14:17:48.266Z"
   },
   {
    "duration": 9,
    "start_time": "2022-02-27T14:17:49.414Z"
   },
   {
    "duration": 706,
    "start_time": "2022-02-27T14:17:49.426Z"
   },
   {
    "duration": 7,
    "start_time": "2022-02-27T14:17:50.134Z"
   },
   {
    "duration": 30,
    "start_time": "2022-02-27T14:17:50.143Z"
   },
   {
    "duration": 714,
    "start_time": "2022-02-27T14:17:50.175Z"
   },
   {
    "duration": 7,
    "start_time": "2022-02-27T14:17:50.891Z"
   },
   {
    "duration": 18,
    "start_time": "2022-02-27T14:17:50.900Z"
   },
   {
    "duration": 553,
    "start_time": "2022-02-27T14:17:50.920Z"
   },
   {
    "duration": 498,
    "start_time": "2022-02-27T14:18:08.895Z"
   }
  ],
  "kernelspec": {
   "display_name": "Python 3 (ipykernel)",
   "language": "python",
   "name": "python3"
  },
  "language_info": {
   "codemirror_mode": {
    "name": "ipython",
    "version": 3
   },
   "file_extension": ".py",
   "mimetype": "text/x-python",
   "name": "python",
   "nbconvert_exporter": "python",
   "pygments_lexer": "ipython3",
   "version": "3.10.2"
  },
  "toc": {
   "base_numbering": 1,
   "nav_menu": {},
   "number_sections": true,
   "sideBar": true,
   "skip_h1_title": true,
   "title_cell": "Table of Contents",
   "title_sidebar": "Contents",
   "toc_cell": false,
   "toc_position": {},
   "toc_section_display": true,
   "toc_window_display": true
  }
 },
 "nbformat": 4,
 "nbformat_minor": 2
}

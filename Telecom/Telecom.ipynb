{
 "cells": [
  {
   "cell_type": "markdown",
   "id": "9203780e",
   "metadata": {},
   "source": [
    "# Проект \"Телеком\""
   ]
  },
  {
   "cell_type": "markdown",
   "id": "c8dce64a",
   "metadata": {},
   "source": [
    "## Задача"
   ]
  },
  {
   "cell_type": "markdown",
   "id": "c48fcfb3",
   "metadata": {},
   "source": [
    "Оператор связи хочет научиться прогнозировать отток клиентов. Если выяснится, что пользователь планирует уйти, ему будут предложены промокоды и специальные условия. Команда оператора собрала персональные данные о некоторых клиентах, информацию об их тарифах и договорах."
   ]
  },
  {
   "cell_type": "markdown",
   "id": "6a149de1",
   "metadata": {},
   "source": [
    "## План решения задачи"
   ]
  },
  {
   "cell_type": "markdown",
   "id": "27a6049f",
   "metadata": {},
   "source": [
    "\n",
    "\n",
    "1) Объединить данные в один датафрейм, привести данные к нужному типу, добавить столбцы с индикатором того является ли абонент пользователем интернета или телефонии\n",
    "\n",
    "2) В отдельном столбце вычислить для каждого пользователя срок пользования услугами компании в днях. Если абонент не покинул компанию - срок рассчитывается от начала пользования услугами до 1 февраля 2020 года, если покинул - с даты начала пользования до даты ухода.\n",
    "\n",
    "3) Добавить столбец с таргетом: класс \"1\" если абонент перестал пользоваться услугами (EndDate есть), класс \"0\" - если не перестал пользоваться (EndDate нет). Столбец \"EndDate\" удалить.\n",
    "\n",
    "4) Выбрать наиболее значимые для машинного обучения признаки, поработать с мультиколлинеарностью.\n",
    "\n",
    "4) Разбить данные на обучающую и тестовую выборку, обучить модели классификации учитывая баланс классов. Варианты моделей - случайный лес, логистическая регрессия, градиентный спуск.\n",
    "\n",
    "5) Выбрать модель с наименьшей функцией потерь на обучающей выборке, обучить выбранную модель на обучающей выборке.\n",
    "\n",
    "6) При условии если модель покажет хорошие результаты (roc-auc > 0.85) - оставить в датафрейме только признаки с данными об услугах, которыми пользуется абонент и время пользования услугами компании, обучить модель на усеченных данных и найти лучшую модель."
   ]
  },
  {
   "cell_type": "markdown",
   "id": "275f587b",
   "metadata": {},
   "source": [
    "## Предобработка данных"
   ]
  },
  {
   "cell_type": "code",
   "execution_count": 78,
   "id": "8917e563",
   "metadata": {},
   "outputs": [],
   "source": [
    "import pandas as pd\n",
    "import seaborn as sns\n",
    "import matplotlib.pyplot as plt\n",
    "import numpy as np\n",
    "from sklearn.model_selection import train_test_split\n",
    "from sklearn.ensemble import RandomForestClassifier\n",
    "from sklearn.linear_model import LogisticRegression\n",
    "from sklearn.metrics import roc_auc_score\n",
    "from sklearn.metrics import roc_curve \n",
    "from sklearn.model_selection import GridSearchCV\n",
    "from sklearn.feature_selection import mutual_info_classif as MIC\n",
    "import lightgbm as lgb\n",
    "from statsmodels.stats.outliers_influence import variance_inflation_factor\n",
    "from scipy.stats import ttest_ind\n",
    "import warnings\n",
    "warnings.filterwarnings('ignore')"
   ]
  },
  {
   "cell_type": "markdown",
   "id": "381895c7",
   "metadata": {},
   "source": [
    "Загрузим исходные данные."
   ]
  },
  {
   "cell_type": "code",
   "execution_count": 79,
   "id": "947d2f07",
   "metadata": {},
   "outputs": [],
   "source": [
    "contract = pd.read_csv('contract.csv')\n",
    "internet = pd.read_csv('internet.csv')\n",
    "personal = pd.read_csv('personal.csv')\n",
    "phone = pd.read_csv('phone.csv')"
   ]
  },
  {
   "cell_type": "markdown",
   "id": "7bd6c52e",
   "metadata": {},
   "source": [
    "Первая таблица - \"contract\"."
   ]
  },
  {
   "cell_type": "code",
   "execution_count": 80,
   "id": "42c75ebb",
   "metadata": {
    "scrolled": false
   },
   "outputs": [
    {
     "name": "stdout",
     "output_type": "stream",
     "text": [
      "<class 'pandas.core.frame.DataFrame'>\n",
      "RangeIndex: 7043 entries, 0 to 7042\n",
      "Data columns (total 8 columns):\n",
      " #   Column            Non-Null Count  Dtype  \n",
      "---  ------            --------------  -----  \n",
      " 0   customerID        7043 non-null   object \n",
      " 1   BeginDate         7043 non-null   object \n",
      " 2   EndDate           7043 non-null   object \n",
      " 3   Type              7043 non-null   object \n",
      " 4   PaperlessBilling  7043 non-null   object \n",
      " 5   PaymentMethod     7043 non-null   object \n",
      " 6   MonthlyCharges    7043 non-null   float64\n",
      " 7   TotalCharges      7043 non-null   object \n",
      "dtypes: float64(1), object(7)\n",
      "memory usage: 440.3+ KB\n"
     ]
    }
   ],
   "source": [
    "contract.info()"
   ]
  },
  {
   "cell_type": "markdown",
   "id": "fa108079",
   "metadata": {},
   "source": [
    "В таблице \"contract\" собраны данные о времени \"жизни\" абонента, типе оплаты, способах рассчета и количестве ежемесячных/общих затратах на услуги.\n",
    "\n",
    "- BeginDate – дата начала пользования услугами,\n",
    "- EndDate – дата окончания пользования услугами,\n",
    "- Type – тип оплаты: ежемесячный, годовой и тд,\n",
    "- PaperlessBilling – безналичный расчет,\n",
    "- PaymentMethod – способ оплаты,\n",
    "- MonthlyCharges – ежемесячные траты на услуги,\n",
    "- TotalCharges – всего потрачено денег на услуги."
   ]
  },
  {
   "cell_type": "code",
   "execution_count": 81,
   "id": "90c404af",
   "metadata": {
    "scrolled": false
   },
   "outputs": [
    {
     "data": {
      "text/html": [
       "<div>\n",
       "<style scoped>\n",
       "    .dataframe tbody tr th:only-of-type {\n",
       "        vertical-align: middle;\n",
       "    }\n",
       "\n",
       "    .dataframe tbody tr th {\n",
       "        vertical-align: top;\n",
       "    }\n",
       "\n",
       "    .dataframe thead th {\n",
       "        text-align: right;\n",
       "    }\n",
       "</style>\n",
       "<table border=\"1\" class=\"dataframe\">\n",
       "  <thead>\n",
       "    <tr style=\"text-align: right;\">\n",
       "      <th></th>\n",
       "      <th>customerID</th>\n",
       "      <th>BeginDate</th>\n",
       "      <th>EndDate</th>\n",
       "      <th>Type</th>\n",
       "      <th>PaperlessBilling</th>\n",
       "      <th>PaymentMethod</th>\n",
       "      <th>MonthlyCharges</th>\n",
       "      <th>TotalCharges</th>\n",
       "    </tr>\n",
       "  </thead>\n",
       "  <tbody>\n",
       "    <tr>\n",
       "      <th>0</th>\n",
       "      <td>7590-VHVEG</td>\n",
       "      <td>2020-01-01</td>\n",
       "      <td>No</td>\n",
       "      <td>Month-to-month</td>\n",
       "      <td>Yes</td>\n",
       "      <td>Electronic check</td>\n",
       "      <td>29.85</td>\n",
       "      <td>29.85</td>\n",
       "    </tr>\n",
       "    <tr>\n",
       "      <th>1</th>\n",
       "      <td>5575-GNVDE</td>\n",
       "      <td>2017-04-01</td>\n",
       "      <td>No</td>\n",
       "      <td>One year</td>\n",
       "      <td>No</td>\n",
       "      <td>Mailed check</td>\n",
       "      <td>56.95</td>\n",
       "      <td>1889.5</td>\n",
       "    </tr>\n",
       "    <tr>\n",
       "      <th>2</th>\n",
       "      <td>3668-QPYBK</td>\n",
       "      <td>2019-10-01</td>\n",
       "      <td>2019-12-01 00:00:00</td>\n",
       "      <td>Month-to-month</td>\n",
       "      <td>Yes</td>\n",
       "      <td>Mailed check</td>\n",
       "      <td>53.85</td>\n",
       "      <td>108.15</td>\n",
       "    </tr>\n",
       "    <tr>\n",
       "      <th>3</th>\n",
       "      <td>7795-CFOCW</td>\n",
       "      <td>2016-05-01</td>\n",
       "      <td>No</td>\n",
       "      <td>One year</td>\n",
       "      <td>No</td>\n",
       "      <td>Bank transfer (automatic)</td>\n",
       "      <td>42.30</td>\n",
       "      <td>1840.75</td>\n",
       "    </tr>\n",
       "    <tr>\n",
       "      <th>4</th>\n",
       "      <td>9237-HQITU</td>\n",
       "      <td>2019-09-01</td>\n",
       "      <td>2019-11-01 00:00:00</td>\n",
       "      <td>Month-to-month</td>\n",
       "      <td>Yes</td>\n",
       "      <td>Electronic check</td>\n",
       "      <td>70.70</td>\n",
       "      <td>151.65</td>\n",
       "    </tr>\n",
       "    <tr>\n",
       "      <th>...</th>\n",
       "      <td>...</td>\n",
       "      <td>...</td>\n",
       "      <td>...</td>\n",
       "      <td>...</td>\n",
       "      <td>...</td>\n",
       "      <td>...</td>\n",
       "      <td>...</td>\n",
       "      <td>...</td>\n",
       "    </tr>\n",
       "    <tr>\n",
       "      <th>7038</th>\n",
       "      <td>6840-RESVB</td>\n",
       "      <td>2018-02-01</td>\n",
       "      <td>No</td>\n",
       "      <td>One year</td>\n",
       "      <td>Yes</td>\n",
       "      <td>Mailed check</td>\n",
       "      <td>84.80</td>\n",
       "      <td>1990.5</td>\n",
       "    </tr>\n",
       "    <tr>\n",
       "      <th>7039</th>\n",
       "      <td>2234-XADUH</td>\n",
       "      <td>2014-02-01</td>\n",
       "      <td>No</td>\n",
       "      <td>One year</td>\n",
       "      <td>Yes</td>\n",
       "      <td>Credit card (automatic)</td>\n",
       "      <td>103.20</td>\n",
       "      <td>7362.9</td>\n",
       "    </tr>\n",
       "    <tr>\n",
       "      <th>7040</th>\n",
       "      <td>4801-JZAZL</td>\n",
       "      <td>2019-03-01</td>\n",
       "      <td>No</td>\n",
       "      <td>Month-to-month</td>\n",
       "      <td>Yes</td>\n",
       "      <td>Electronic check</td>\n",
       "      <td>29.60</td>\n",
       "      <td>346.45</td>\n",
       "    </tr>\n",
       "    <tr>\n",
       "      <th>7041</th>\n",
       "      <td>8361-LTMKD</td>\n",
       "      <td>2019-07-01</td>\n",
       "      <td>2019-11-01 00:00:00</td>\n",
       "      <td>Month-to-month</td>\n",
       "      <td>Yes</td>\n",
       "      <td>Mailed check</td>\n",
       "      <td>74.40</td>\n",
       "      <td>306.6</td>\n",
       "    </tr>\n",
       "    <tr>\n",
       "      <th>7042</th>\n",
       "      <td>3186-AJIEK</td>\n",
       "      <td>2014-08-01</td>\n",
       "      <td>No</td>\n",
       "      <td>Two year</td>\n",
       "      <td>Yes</td>\n",
       "      <td>Bank transfer (automatic)</td>\n",
       "      <td>105.65</td>\n",
       "      <td>6844.5</td>\n",
       "    </tr>\n",
       "  </tbody>\n",
       "</table>\n",
       "<p>7043 rows × 8 columns</p>\n",
       "</div>"
      ],
      "text/plain": [
       "      customerID   BeginDate              EndDate            Type  \\\n",
       "0     7590-VHVEG  2020-01-01                   No  Month-to-month   \n",
       "1     5575-GNVDE  2017-04-01                   No        One year   \n",
       "2     3668-QPYBK  2019-10-01  2019-12-01 00:00:00  Month-to-month   \n",
       "3     7795-CFOCW  2016-05-01                   No        One year   \n",
       "4     9237-HQITU  2019-09-01  2019-11-01 00:00:00  Month-to-month   \n",
       "...          ...         ...                  ...             ...   \n",
       "7038  6840-RESVB  2018-02-01                   No        One year   \n",
       "7039  2234-XADUH  2014-02-01                   No        One year   \n",
       "7040  4801-JZAZL  2019-03-01                   No  Month-to-month   \n",
       "7041  8361-LTMKD  2019-07-01  2019-11-01 00:00:00  Month-to-month   \n",
       "7042  3186-AJIEK  2014-08-01                   No        Two year   \n",
       "\n",
       "     PaperlessBilling              PaymentMethod  MonthlyCharges TotalCharges  \n",
       "0                 Yes           Electronic check           29.85        29.85  \n",
       "1                  No               Mailed check           56.95       1889.5  \n",
       "2                 Yes               Mailed check           53.85       108.15  \n",
       "3                  No  Bank transfer (automatic)           42.30      1840.75  \n",
       "4                 Yes           Electronic check           70.70       151.65  \n",
       "...               ...                        ...             ...          ...  \n",
       "7038              Yes               Mailed check           84.80       1990.5  \n",
       "7039              Yes    Credit card (automatic)          103.20       7362.9  \n",
       "7040              Yes           Electronic check           29.60       346.45  \n",
       "7041              Yes               Mailed check           74.40        306.6  \n",
       "7042              Yes  Bank transfer (automatic)          105.65       6844.5  \n",
       "\n",
       "[7043 rows x 8 columns]"
      ]
     },
     "execution_count": 81,
     "metadata": {},
     "output_type": "execute_result"
    }
   ],
   "source": [
    "contract"
   ]
  },
  {
   "cell_type": "markdown",
   "id": "b0534880",
   "metadata": {},
   "source": [
    "Приведем данные к нужному типу"
   ]
  },
  {
   "cell_type": "code",
   "execution_count": 82,
   "id": "f3b34a3f",
   "metadata": {},
   "outputs": [],
   "source": [
    "contract['BeginDate'] = pd.to_datetime(contract['BeginDate'])"
   ]
  },
  {
   "cell_type": "code",
   "execution_count": 83,
   "id": "8e7a8af6",
   "metadata": {},
   "outputs": [],
   "source": [
    "contract['EndDate'] = contract['EndDate'].replace('No', np.nan)"
   ]
  },
  {
   "cell_type": "code",
   "execution_count": 84,
   "id": "8677b6ae",
   "metadata": {},
   "outputs": [],
   "source": [
    "contract['EndDate'] = pd.to_datetime(contract['EndDate'], format = '%Y-%m-%d')"
   ]
  },
  {
   "cell_type": "code",
   "execution_count": 85,
   "id": "87094f81",
   "metadata": {
    "scrolled": true
   },
   "outputs": [
    {
     "data": {
      "text/plain": [
       "          11\n",
       "20.2      11\n",
       "19.75      9\n",
       "20.05      8\n",
       "19.9       8\n",
       "          ..\n",
       "6849.4     1\n",
       "692.35     1\n",
       "130.15     1\n",
       "3211.9     1\n",
       "6844.5     1\n",
       "Name: TotalCharges, Length: 6531, dtype: int64"
      ]
     },
     "execution_count": 85,
     "metadata": {},
     "output_type": "execute_result"
    }
   ],
   "source": [
    "contract['TotalCharges'].value_counts()"
   ]
  },
  {
   "cell_type": "markdown",
   "id": "c022c7b2",
   "metadata": {},
   "source": [
    "Заменим отсутствующие значения в \"TotalCharges\" на \"0\"."
   ]
  },
  {
   "cell_type": "code",
   "execution_count": 86,
   "id": "fdf2a349",
   "metadata": {},
   "outputs": [],
   "source": [
    "contract['TotalCharges'] = contract['TotalCharges'].replace(\n",
    "    contract['TotalCharges'].value_counts().reset_index()['index'][0], 0)"
   ]
  },
  {
   "cell_type": "code",
   "execution_count": 87,
   "id": "a47fc06a",
   "metadata": {
    "scrolled": true
   },
   "outputs": [],
   "source": [
    "contract['TotalCharges'] = contract['TotalCharges'].astype(float)"
   ]
  },
  {
   "cell_type": "markdown",
   "id": "304c7135",
   "metadata": {},
   "source": [
    "Удалим столбцы о способах оплаты, так как они не несут в себе значимой информации."
   ]
  },
  {
   "cell_type": "code",
   "execution_count": 88,
   "id": "2816e99a",
   "metadata": {
    "scrolled": false
   },
   "outputs": [],
   "source": [
    "contract = contract.drop('PaperlessBilling', axis = 1)\n",
    "contract = contract.drop('PaymentMethod', axis = 1)"
   ]
  },
  {
   "cell_type": "markdown",
   "id": "0842981b",
   "metadata": {},
   "source": [
    "Следующая таблица - \"internet\"."
   ]
  },
  {
   "cell_type": "code",
   "execution_count": 89,
   "id": "d064a018",
   "metadata": {
    "scrolled": false
   },
   "outputs": [
    {
     "name": "stdout",
     "output_type": "stream",
     "text": [
      "<class 'pandas.core.frame.DataFrame'>\n",
      "RangeIndex: 5517 entries, 0 to 5516\n",
      "Data columns (total 8 columns):\n",
      " #   Column            Non-Null Count  Dtype \n",
      "---  ------            --------------  ----- \n",
      " 0   customerID        5517 non-null   object\n",
      " 1   InternetService   5517 non-null   object\n",
      " 2   OnlineSecurity    5517 non-null   object\n",
      " 3   OnlineBackup      5517 non-null   object\n",
      " 4   DeviceProtection  5517 non-null   object\n",
      " 5   TechSupport       5517 non-null   object\n",
      " 6   StreamingTV       5517 non-null   object\n",
      " 7   StreamingMovies   5517 non-null   object\n",
      "dtypes: object(8)\n",
      "memory usage: 344.9+ KB\n"
     ]
    }
   ],
   "source": [
    "internet.info()"
   ]
  },
  {
   "cell_type": "markdown",
   "id": "e7cda75a",
   "metadata": {},
   "source": [
    "В таблице \"internet\" собраны данные о пользователях интернета:\n",
    "\n",
    "Тип подключения: \n",
    "- через телефонную линию (DSL*,* от англ. *digital subscriber line*, «цифровая абонентская линия») \n",
    "- оптоволоконный кабель (*Fiber optic*).  \n",
    "\n",
    "И доп. услуги:\n",
    "\n",
    "- Интернет-безопасность: антивирус (*DeviceProtection*) и блокировка небезопасных сайтов (*OnlineSecurity*);\n",
    "- Выделенная линия технической поддержки (*TechSupport*);\n",
    "- Облачное хранилище файлов для резервного копирования данных (*OnlineBackup*);\n",
    "- Стриминговое телевидение (*StreamingTV*) и каталог фильмов (*StreamingMovies*)."
   ]
  },
  {
   "cell_type": "code",
   "execution_count": 90,
   "id": "b1118bc4",
   "metadata": {
    "scrolled": true
   },
   "outputs": [
    {
     "data": {
      "text/html": [
       "<div>\n",
       "<style scoped>\n",
       "    .dataframe tbody tr th:only-of-type {\n",
       "        vertical-align: middle;\n",
       "    }\n",
       "\n",
       "    .dataframe tbody tr th {\n",
       "        vertical-align: top;\n",
       "    }\n",
       "\n",
       "    .dataframe thead th {\n",
       "        text-align: right;\n",
       "    }\n",
       "</style>\n",
       "<table border=\"1\" class=\"dataframe\">\n",
       "  <thead>\n",
       "    <tr style=\"text-align: right;\">\n",
       "      <th></th>\n",
       "      <th>customerID</th>\n",
       "      <th>InternetService</th>\n",
       "      <th>OnlineSecurity</th>\n",
       "      <th>OnlineBackup</th>\n",
       "      <th>DeviceProtection</th>\n",
       "      <th>TechSupport</th>\n",
       "      <th>StreamingTV</th>\n",
       "      <th>StreamingMovies</th>\n",
       "    </tr>\n",
       "  </thead>\n",
       "  <tbody>\n",
       "    <tr>\n",
       "      <th>0</th>\n",
       "      <td>7590-VHVEG</td>\n",
       "      <td>DSL</td>\n",
       "      <td>No</td>\n",
       "      <td>Yes</td>\n",
       "      <td>No</td>\n",
       "      <td>No</td>\n",
       "      <td>No</td>\n",
       "      <td>No</td>\n",
       "    </tr>\n",
       "    <tr>\n",
       "      <th>1</th>\n",
       "      <td>5575-GNVDE</td>\n",
       "      <td>DSL</td>\n",
       "      <td>Yes</td>\n",
       "      <td>No</td>\n",
       "      <td>Yes</td>\n",
       "      <td>No</td>\n",
       "      <td>No</td>\n",
       "      <td>No</td>\n",
       "    </tr>\n",
       "    <tr>\n",
       "      <th>2</th>\n",
       "      <td>3668-QPYBK</td>\n",
       "      <td>DSL</td>\n",
       "      <td>Yes</td>\n",
       "      <td>Yes</td>\n",
       "      <td>No</td>\n",
       "      <td>No</td>\n",
       "      <td>No</td>\n",
       "      <td>No</td>\n",
       "    </tr>\n",
       "    <tr>\n",
       "      <th>3</th>\n",
       "      <td>7795-CFOCW</td>\n",
       "      <td>DSL</td>\n",
       "      <td>Yes</td>\n",
       "      <td>No</td>\n",
       "      <td>Yes</td>\n",
       "      <td>Yes</td>\n",
       "      <td>No</td>\n",
       "      <td>No</td>\n",
       "    </tr>\n",
       "    <tr>\n",
       "      <th>4</th>\n",
       "      <td>9237-HQITU</td>\n",
       "      <td>Fiber optic</td>\n",
       "      <td>No</td>\n",
       "      <td>No</td>\n",
       "      <td>No</td>\n",
       "      <td>No</td>\n",
       "      <td>No</td>\n",
       "      <td>No</td>\n",
       "    </tr>\n",
       "    <tr>\n",
       "      <th>...</th>\n",
       "      <td>...</td>\n",
       "      <td>...</td>\n",
       "      <td>...</td>\n",
       "      <td>...</td>\n",
       "      <td>...</td>\n",
       "      <td>...</td>\n",
       "      <td>...</td>\n",
       "      <td>...</td>\n",
       "    </tr>\n",
       "    <tr>\n",
       "      <th>5512</th>\n",
       "      <td>6840-RESVB</td>\n",
       "      <td>DSL</td>\n",
       "      <td>Yes</td>\n",
       "      <td>No</td>\n",
       "      <td>Yes</td>\n",
       "      <td>Yes</td>\n",
       "      <td>Yes</td>\n",
       "      <td>Yes</td>\n",
       "    </tr>\n",
       "    <tr>\n",
       "      <th>5513</th>\n",
       "      <td>2234-XADUH</td>\n",
       "      <td>Fiber optic</td>\n",
       "      <td>No</td>\n",
       "      <td>Yes</td>\n",
       "      <td>Yes</td>\n",
       "      <td>No</td>\n",
       "      <td>Yes</td>\n",
       "      <td>Yes</td>\n",
       "    </tr>\n",
       "    <tr>\n",
       "      <th>5514</th>\n",
       "      <td>4801-JZAZL</td>\n",
       "      <td>DSL</td>\n",
       "      <td>Yes</td>\n",
       "      <td>No</td>\n",
       "      <td>No</td>\n",
       "      <td>No</td>\n",
       "      <td>No</td>\n",
       "      <td>No</td>\n",
       "    </tr>\n",
       "    <tr>\n",
       "      <th>5515</th>\n",
       "      <td>8361-LTMKD</td>\n",
       "      <td>Fiber optic</td>\n",
       "      <td>No</td>\n",
       "      <td>No</td>\n",
       "      <td>No</td>\n",
       "      <td>No</td>\n",
       "      <td>No</td>\n",
       "      <td>No</td>\n",
       "    </tr>\n",
       "    <tr>\n",
       "      <th>5516</th>\n",
       "      <td>3186-AJIEK</td>\n",
       "      <td>Fiber optic</td>\n",
       "      <td>Yes</td>\n",
       "      <td>No</td>\n",
       "      <td>Yes</td>\n",
       "      <td>Yes</td>\n",
       "      <td>Yes</td>\n",
       "      <td>Yes</td>\n",
       "    </tr>\n",
       "  </tbody>\n",
       "</table>\n",
       "<p>5517 rows × 8 columns</p>\n",
       "</div>"
      ],
      "text/plain": [
       "      customerID InternetService OnlineSecurity OnlineBackup DeviceProtection  \\\n",
       "0     7590-VHVEG             DSL             No          Yes               No   \n",
       "1     5575-GNVDE             DSL            Yes           No              Yes   \n",
       "2     3668-QPYBK             DSL            Yes          Yes               No   \n",
       "3     7795-CFOCW             DSL            Yes           No              Yes   \n",
       "4     9237-HQITU     Fiber optic             No           No               No   \n",
       "...          ...             ...            ...          ...              ...   \n",
       "5512  6840-RESVB             DSL            Yes           No              Yes   \n",
       "5513  2234-XADUH     Fiber optic             No          Yes              Yes   \n",
       "5514  4801-JZAZL             DSL            Yes           No               No   \n",
       "5515  8361-LTMKD     Fiber optic             No           No               No   \n",
       "5516  3186-AJIEK     Fiber optic            Yes           No              Yes   \n",
       "\n",
       "     TechSupport StreamingTV StreamingMovies  \n",
       "0             No          No              No  \n",
       "1             No          No              No  \n",
       "2             No          No              No  \n",
       "3            Yes          No              No  \n",
       "4             No          No              No  \n",
       "...          ...         ...             ...  \n",
       "5512         Yes         Yes             Yes  \n",
       "5513          No         Yes             Yes  \n",
       "5514          No          No              No  \n",
       "5515          No          No              No  \n",
       "5516         Yes         Yes             Yes  \n",
       "\n",
       "[5517 rows x 8 columns]"
      ]
     },
     "execution_count": 90,
     "metadata": {},
     "output_type": "execute_result"
    }
   ],
   "source": [
    "internet"
   ]
  },
  {
   "cell_type": "markdown",
   "id": "a75ae1f2",
   "metadata": {},
   "source": [
    "Закодируем данные: 'Yes': 1, 'No': 0."
   ]
  },
  {
   "cell_type": "code",
   "execution_count": 91,
   "id": "7ed1c599",
   "metadata": {},
   "outputs": [
    {
     "data": {
      "text/html": [
       "<div>\n",
       "<style scoped>\n",
       "    .dataframe tbody tr th:only-of-type {\n",
       "        vertical-align: middle;\n",
       "    }\n",
       "\n",
       "    .dataframe tbody tr th {\n",
       "        vertical-align: top;\n",
       "    }\n",
       "\n",
       "    .dataframe thead th {\n",
       "        text-align: right;\n",
       "    }\n",
       "</style>\n",
       "<table border=\"1\" class=\"dataframe\">\n",
       "  <thead>\n",
       "    <tr style=\"text-align: right;\">\n",
       "      <th></th>\n",
       "      <th>customerID</th>\n",
       "      <th>InternetService</th>\n",
       "      <th>OnlineSecurity</th>\n",
       "      <th>OnlineBackup</th>\n",
       "      <th>DeviceProtection</th>\n",
       "      <th>TechSupport</th>\n",
       "      <th>StreamingTV</th>\n",
       "      <th>StreamingMovies</th>\n",
       "      <th>InternetUser</th>\n",
       "    </tr>\n",
       "  </thead>\n",
       "  <tbody>\n",
       "    <tr>\n",
       "      <th>0</th>\n",
       "      <td>7590-VHVEG</td>\n",
       "      <td>DSL</td>\n",
       "      <td>0</td>\n",
       "      <td>1</td>\n",
       "      <td>0</td>\n",
       "      <td>0</td>\n",
       "      <td>0</td>\n",
       "      <td>0</td>\n",
       "      <td>1</td>\n",
       "    </tr>\n",
       "    <tr>\n",
       "      <th>1</th>\n",
       "      <td>5575-GNVDE</td>\n",
       "      <td>DSL</td>\n",
       "      <td>1</td>\n",
       "      <td>0</td>\n",
       "      <td>1</td>\n",
       "      <td>0</td>\n",
       "      <td>0</td>\n",
       "      <td>0</td>\n",
       "      <td>1</td>\n",
       "    </tr>\n",
       "    <tr>\n",
       "      <th>2</th>\n",
       "      <td>3668-QPYBK</td>\n",
       "      <td>DSL</td>\n",
       "      <td>1</td>\n",
       "      <td>1</td>\n",
       "      <td>0</td>\n",
       "      <td>0</td>\n",
       "      <td>0</td>\n",
       "      <td>0</td>\n",
       "      <td>1</td>\n",
       "    </tr>\n",
       "    <tr>\n",
       "      <th>3</th>\n",
       "      <td>7795-CFOCW</td>\n",
       "      <td>DSL</td>\n",
       "      <td>1</td>\n",
       "      <td>0</td>\n",
       "      <td>1</td>\n",
       "      <td>1</td>\n",
       "      <td>0</td>\n",
       "      <td>0</td>\n",
       "      <td>1</td>\n",
       "    </tr>\n",
       "    <tr>\n",
       "      <th>4</th>\n",
       "      <td>9237-HQITU</td>\n",
       "      <td>Fiber optic</td>\n",
       "      <td>0</td>\n",
       "      <td>0</td>\n",
       "      <td>0</td>\n",
       "      <td>0</td>\n",
       "      <td>0</td>\n",
       "      <td>0</td>\n",
       "      <td>1</td>\n",
       "    </tr>\n",
       "    <tr>\n",
       "      <th>...</th>\n",
       "      <td>...</td>\n",
       "      <td>...</td>\n",
       "      <td>...</td>\n",
       "      <td>...</td>\n",
       "      <td>...</td>\n",
       "      <td>...</td>\n",
       "      <td>...</td>\n",
       "      <td>...</td>\n",
       "      <td>...</td>\n",
       "    </tr>\n",
       "    <tr>\n",
       "      <th>5512</th>\n",
       "      <td>6840-RESVB</td>\n",
       "      <td>DSL</td>\n",
       "      <td>1</td>\n",
       "      <td>0</td>\n",
       "      <td>1</td>\n",
       "      <td>1</td>\n",
       "      <td>1</td>\n",
       "      <td>1</td>\n",
       "      <td>1</td>\n",
       "    </tr>\n",
       "    <tr>\n",
       "      <th>5513</th>\n",
       "      <td>2234-XADUH</td>\n",
       "      <td>Fiber optic</td>\n",
       "      <td>0</td>\n",
       "      <td>1</td>\n",
       "      <td>1</td>\n",
       "      <td>0</td>\n",
       "      <td>1</td>\n",
       "      <td>1</td>\n",
       "      <td>1</td>\n",
       "    </tr>\n",
       "    <tr>\n",
       "      <th>5514</th>\n",
       "      <td>4801-JZAZL</td>\n",
       "      <td>DSL</td>\n",
       "      <td>1</td>\n",
       "      <td>0</td>\n",
       "      <td>0</td>\n",
       "      <td>0</td>\n",
       "      <td>0</td>\n",
       "      <td>0</td>\n",
       "      <td>1</td>\n",
       "    </tr>\n",
       "    <tr>\n",
       "      <th>5515</th>\n",
       "      <td>8361-LTMKD</td>\n",
       "      <td>Fiber optic</td>\n",
       "      <td>0</td>\n",
       "      <td>0</td>\n",
       "      <td>0</td>\n",
       "      <td>0</td>\n",
       "      <td>0</td>\n",
       "      <td>0</td>\n",
       "      <td>1</td>\n",
       "    </tr>\n",
       "    <tr>\n",
       "      <th>5516</th>\n",
       "      <td>3186-AJIEK</td>\n",
       "      <td>Fiber optic</td>\n",
       "      <td>1</td>\n",
       "      <td>0</td>\n",
       "      <td>1</td>\n",
       "      <td>1</td>\n",
       "      <td>1</td>\n",
       "      <td>1</td>\n",
       "      <td>1</td>\n",
       "    </tr>\n",
       "  </tbody>\n",
       "</table>\n",
       "<p>5517 rows × 9 columns</p>\n",
       "</div>"
      ],
      "text/plain": [
       "      customerID InternetService  OnlineSecurity  OnlineBackup  \\\n",
       "0     7590-VHVEG             DSL               0             1   \n",
       "1     5575-GNVDE             DSL               1             0   \n",
       "2     3668-QPYBK             DSL               1             1   \n",
       "3     7795-CFOCW             DSL               1             0   \n",
       "4     9237-HQITU     Fiber optic               0             0   \n",
       "...          ...             ...             ...           ...   \n",
       "5512  6840-RESVB             DSL               1             0   \n",
       "5513  2234-XADUH     Fiber optic               0             1   \n",
       "5514  4801-JZAZL             DSL               1             0   \n",
       "5515  8361-LTMKD     Fiber optic               0             0   \n",
       "5516  3186-AJIEK     Fiber optic               1             0   \n",
       "\n",
       "      DeviceProtection  TechSupport  StreamingTV  StreamingMovies  \\\n",
       "0                    0            0            0                0   \n",
       "1                    1            0            0                0   \n",
       "2                    0            0            0                0   \n",
       "3                    1            1            0                0   \n",
       "4                    0            0            0                0   \n",
       "...                ...          ...          ...              ...   \n",
       "5512                 1            1            1                1   \n",
       "5513                 1            0            1                1   \n",
       "5514                 0            0            0                0   \n",
       "5515                 0            0            0                0   \n",
       "5516                 1            1            1                1   \n",
       "\n",
       "      InternetUser  \n",
       "0                1  \n",
       "1                1  \n",
       "2                1  \n",
       "3                1  \n",
       "4                1  \n",
       "...            ...  \n",
       "5512             1  \n",
       "5513             1  \n",
       "5514             1  \n",
       "5515             1  \n",
       "5516             1  \n",
       "\n",
       "[5517 rows x 9 columns]"
      ]
     },
     "execution_count": 91,
     "metadata": {},
     "output_type": "execute_result"
    }
   ],
   "source": [
    "internet = internet.replace('Yes', 1)\n",
    "internet = internet.replace('No', 0)\n",
    "internet['InternetUser'] = 1\n",
    "internet"
   ]
  },
  {
   "cell_type": "code",
   "execution_count": 92,
   "id": "0eee9af3",
   "metadata": {
    "scrolled": false
   },
   "outputs": [
    {
     "name": "stdout",
     "output_type": "stream",
     "text": [
      "<class 'pandas.core.frame.DataFrame'>\n",
      "RangeIndex: 7043 entries, 0 to 7042\n",
      "Data columns (total 5 columns):\n",
      " #   Column         Non-Null Count  Dtype \n",
      "---  ------         --------------  ----- \n",
      " 0   customerID     7043 non-null   object\n",
      " 1   gender         7043 non-null   object\n",
      " 2   SeniorCitizen  7043 non-null   int64 \n",
      " 3   Partner        7043 non-null   object\n",
      " 4   Dependents     7043 non-null   object\n",
      "dtypes: int64(1), object(4)\n",
      "memory usage: 275.2+ KB\n"
     ]
    }
   ],
   "source": [
    "personal.info()"
   ]
  },
  {
   "cell_type": "markdown",
   "id": "26568b5f",
   "metadata": {},
   "source": [
    "В следующей таблице \"personal\" собраны личные данные о пользователях:\n",
    "- Dependents – наличие иждивенцев\n",
    "- Senior Citizen – наличие пенсионного статуса по возрасту\n",
    "- Partner – наличие супруга(и)"
   ]
  },
  {
   "cell_type": "code",
   "execution_count": 93,
   "id": "a39657b9",
   "metadata": {
    "scrolled": false
   },
   "outputs": [
    {
     "data": {
      "text/html": [
       "<div>\n",
       "<style scoped>\n",
       "    .dataframe tbody tr th:only-of-type {\n",
       "        vertical-align: middle;\n",
       "    }\n",
       "\n",
       "    .dataframe tbody tr th {\n",
       "        vertical-align: top;\n",
       "    }\n",
       "\n",
       "    .dataframe thead th {\n",
       "        text-align: right;\n",
       "    }\n",
       "</style>\n",
       "<table border=\"1\" class=\"dataframe\">\n",
       "  <thead>\n",
       "    <tr style=\"text-align: right;\">\n",
       "      <th></th>\n",
       "      <th>customerID</th>\n",
       "      <th>gender</th>\n",
       "      <th>SeniorCitizen</th>\n",
       "      <th>Partner</th>\n",
       "      <th>Dependents</th>\n",
       "    </tr>\n",
       "  </thead>\n",
       "  <tbody>\n",
       "    <tr>\n",
       "      <th>0</th>\n",
       "      <td>7590-VHVEG</td>\n",
       "      <td>Female</td>\n",
       "      <td>0</td>\n",
       "      <td>Yes</td>\n",
       "      <td>No</td>\n",
       "    </tr>\n",
       "    <tr>\n",
       "      <th>1</th>\n",
       "      <td>5575-GNVDE</td>\n",
       "      <td>Male</td>\n",
       "      <td>0</td>\n",
       "      <td>No</td>\n",
       "      <td>No</td>\n",
       "    </tr>\n",
       "    <tr>\n",
       "      <th>2</th>\n",
       "      <td>3668-QPYBK</td>\n",
       "      <td>Male</td>\n",
       "      <td>0</td>\n",
       "      <td>No</td>\n",
       "      <td>No</td>\n",
       "    </tr>\n",
       "    <tr>\n",
       "      <th>3</th>\n",
       "      <td>7795-CFOCW</td>\n",
       "      <td>Male</td>\n",
       "      <td>0</td>\n",
       "      <td>No</td>\n",
       "      <td>No</td>\n",
       "    </tr>\n",
       "    <tr>\n",
       "      <th>4</th>\n",
       "      <td>9237-HQITU</td>\n",
       "      <td>Female</td>\n",
       "      <td>0</td>\n",
       "      <td>No</td>\n",
       "      <td>No</td>\n",
       "    </tr>\n",
       "    <tr>\n",
       "      <th>...</th>\n",
       "      <td>...</td>\n",
       "      <td>...</td>\n",
       "      <td>...</td>\n",
       "      <td>...</td>\n",
       "      <td>...</td>\n",
       "    </tr>\n",
       "    <tr>\n",
       "      <th>7038</th>\n",
       "      <td>6840-RESVB</td>\n",
       "      <td>Male</td>\n",
       "      <td>0</td>\n",
       "      <td>Yes</td>\n",
       "      <td>Yes</td>\n",
       "    </tr>\n",
       "    <tr>\n",
       "      <th>7039</th>\n",
       "      <td>2234-XADUH</td>\n",
       "      <td>Female</td>\n",
       "      <td>0</td>\n",
       "      <td>Yes</td>\n",
       "      <td>Yes</td>\n",
       "    </tr>\n",
       "    <tr>\n",
       "      <th>7040</th>\n",
       "      <td>4801-JZAZL</td>\n",
       "      <td>Female</td>\n",
       "      <td>0</td>\n",
       "      <td>Yes</td>\n",
       "      <td>Yes</td>\n",
       "    </tr>\n",
       "    <tr>\n",
       "      <th>7041</th>\n",
       "      <td>8361-LTMKD</td>\n",
       "      <td>Male</td>\n",
       "      <td>1</td>\n",
       "      <td>Yes</td>\n",
       "      <td>No</td>\n",
       "    </tr>\n",
       "    <tr>\n",
       "      <th>7042</th>\n",
       "      <td>3186-AJIEK</td>\n",
       "      <td>Male</td>\n",
       "      <td>0</td>\n",
       "      <td>No</td>\n",
       "      <td>No</td>\n",
       "    </tr>\n",
       "  </tbody>\n",
       "</table>\n",
       "<p>7043 rows × 5 columns</p>\n",
       "</div>"
      ],
      "text/plain": [
       "      customerID  gender  SeniorCitizen Partner Dependents\n",
       "0     7590-VHVEG  Female              0     Yes         No\n",
       "1     5575-GNVDE    Male              0      No         No\n",
       "2     3668-QPYBK    Male              0      No         No\n",
       "3     7795-CFOCW    Male              0      No         No\n",
       "4     9237-HQITU  Female              0      No         No\n",
       "...          ...     ...            ...     ...        ...\n",
       "7038  6840-RESVB    Male              0     Yes        Yes\n",
       "7039  2234-XADUH  Female              0     Yes        Yes\n",
       "7040  4801-JZAZL  Female              0     Yes        Yes\n",
       "7041  8361-LTMKD    Male              1     Yes         No\n",
       "7042  3186-AJIEK    Male              0      No         No\n",
       "\n",
       "[7043 rows x 5 columns]"
      ]
     },
     "execution_count": 93,
     "metadata": {},
     "output_type": "execute_result"
    }
   ],
   "source": [
    "personal"
   ]
  },
  {
   "cell_type": "markdown",
   "id": "b38adaf9",
   "metadata": {},
   "source": [
    "Закодируем данные:"
   ]
  },
  {
   "cell_type": "code",
   "execution_count": 94,
   "id": "f0544a32",
   "metadata": {
    "scrolled": true
   },
   "outputs": [
    {
     "data": {
      "text/html": [
       "<div>\n",
       "<style scoped>\n",
       "    .dataframe tbody tr th:only-of-type {\n",
       "        vertical-align: middle;\n",
       "    }\n",
       "\n",
       "    .dataframe tbody tr th {\n",
       "        vertical-align: top;\n",
       "    }\n",
       "\n",
       "    .dataframe thead th {\n",
       "        text-align: right;\n",
       "    }\n",
       "</style>\n",
       "<table border=\"1\" class=\"dataframe\">\n",
       "  <thead>\n",
       "    <tr style=\"text-align: right;\">\n",
       "      <th></th>\n",
       "      <th>customerID</th>\n",
       "      <th>gender</th>\n",
       "      <th>SeniorCitizen</th>\n",
       "      <th>Partner</th>\n",
       "      <th>Dependents</th>\n",
       "    </tr>\n",
       "  </thead>\n",
       "  <tbody>\n",
       "    <tr>\n",
       "      <th>0</th>\n",
       "      <td>7590-VHVEG</td>\n",
       "      <td>0</td>\n",
       "      <td>0</td>\n",
       "      <td>1</td>\n",
       "      <td>0</td>\n",
       "    </tr>\n",
       "    <tr>\n",
       "      <th>1</th>\n",
       "      <td>5575-GNVDE</td>\n",
       "      <td>1</td>\n",
       "      <td>0</td>\n",
       "      <td>0</td>\n",
       "      <td>0</td>\n",
       "    </tr>\n",
       "    <tr>\n",
       "      <th>2</th>\n",
       "      <td>3668-QPYBK</td>\n",
       "      <td>1</td>\n",
       "      <td>0</td>\n",
       "      <td>0</td>\n",
       "      <td>0</td>\n",
       "    </tr>\n",
       "    <tr>\n",
       "      <th>3</th>\n",
       "      <td>7795-CFOCW</td>\n",
       "      <td>1</td>\n",
       "      <td>0</td>\n",
       "      <td>0</td>\n",
       "      <td>0</td>\n",
       "    </tr>\n",
       "    <tr>\n",
       "      <th>4</th>\n",
       "      <td>9237-HQITU</td>\n",
       "      <td>0</td>\n",
       "      <td>0</td>\n",
       "      <td>0</td>\n",
       "      <td>0</td>\n",
       "    </tr>\n",
       "    <tr>\n",
       "      <th>...</th>\n",
       "      <td>...</td>\n",
       "      <td>...</td>\n",
       "      <td>...</td>\n",
       "      <td>...</td>\n",
       "      <td>...</td>\n",
       "    </tr>\n",
       "    <tr>\n",
       "      <th>7038</th>\n",
       "      <td>6840-RESVB</td>\n",
       "      <td>1</td>\n",
       "      <td>0</td>\n",
       "      <td>1</td>\n",
       "      <td>1</td>\n",
       "    </tr>\n",
       "    <tr>\n",
       "      <th>7039</th>\n",
       "      <td>2234-XADUH</td>\n",
       "      <td>0</td>\n",
       "      <td>0</td>\n",
       "      <td>1</td>\n",
       "      <td>1</td>\n",
       "    </tr>\n",
       "    <tr>\n",
       "      <th>7040</th>\n",
       "      <td>4801-JZAZL</td>\n",
       "      <td>0</td>\n",
       "      <td>0</td>\n",
       "      <td>1</td>\n",
       "      <td>1</td>\n",
       "    </tr>\n",
       "    <tr>\n",
       "      <th>7041</th>\n",
       "      <td>8361-LTMKD</td>\n",
       "      <td>1</td>\n",
       "      <td>1</td>\n",
       "      <td>1</td>\n",
       "      <td>0</td>\n",
       "    </tr>\n",
       "    <tr>\n",
       "      <th>7042</th>\n",
       "      <td>3186-AJIEK</td>\n",
       "      <td>1</td>\n",
       "      <td>0</td>\n",
       "      <td>0</td>\n",
       "      <td>0</td>\n",
       "    </tr>\n",
       "  </tbody>\n",
       "</table>\n",
       "<p>7043 rows × 5 columns</p>\n",
       "</div>"
      ],
      "text/plain": [
       "      customerID  gender  SeniorCitizen  Partner  Dependents\n",
       "0     7590-VHVEG       0              0        1           0\n",
       "1     5575-GNVDE       1              0        0           0\n",
       "2     3668-QPYBK       1              0        0           0\n",
       "3     7795-CFOCW       1              0        0           0\n",
       "4     9237-HQITU       0              0        0           0\n",
       "...          ...     ...            ...      ...         ...\n",
       "7038  6840-RESVB       1              0        1           1\n",
       "7039  2234-XADUH       0              0        1           1\n",
       "7040  4801-JZAZL       0              0        1           1\n",
       "7041  8361-LTMKD       1              1        1           0\n",
       "7042  3186-AJIEK       1              0        0           0\n",
       "\n",
       "[7043 rows x 5 columns]"
      ]
     },
     "execution_count": 94,
     "metadata": {},
     "output_type": "execute_result"
    }
   ],
   "source": [
    "personal = personal.replace('Female', 0)\n",
    "personal = personal.replace('Male', 1)\n",
    "personal = personal.replace('No', 0)\n",
    "personal = personal.replace('Yes', 1)\n",
    "personal"
   ]
  },
  {
   "cell_type": "code",
   "execution_count": 95,
   "id": "2a82e3f7",
   "metadata": {
    "scrolled": false
   },
   "outputs": [
    {
     "name": "stdout",
     "output_type": "stream",
     "text": [
      "<class 'pandas.core.frame.DataFrame'>\n",
      "RangeIndex: 6361 entries, 0 to 6360\n",
      "Data columns (total 2 columns):\n",
      " #   Column         Non-Null Count  Dtype \n",
      "---  ------         --------------  ----- \n",
      " 0   customerID     6361 non-null   object\n",
      " 1   MultipleLines  6361 non-null   object\n",
      "dtypes: object(2)\n",
      "memory usage: 99.5+ KB\n"
     ]
    }
   ],
   "source": [
    "phone.info()"
   ]
  },
  {
   "cell_type": "markdown",
   "id": "40499141",
   "metadata": {},
   "source": [
    "В следующей таблице \"phone\" собраны данные о доп. услугах пользователей телефона:\n",
    "- MultipleLines – наличие возможности ведения параллельных линий во время звонка"
   ]
  },
  {
   "cell_type": "code",
   "execution_count": 96,
   "id": "2039dda7",
   "metadata": {},
   "outputs": [
    {
     "data": {
      "text/html": [
       "<div>\n",
       "<style scoped>\n",
       "    .dataframe tbody tr th:only-of-type {\n",
       "        vertical-align: middle;\n",
       "    }\n",
       "\n",
       "    .dataframe tbody tr th {\n",
       "        vertical-align: top;\n",
       "    }\n",
       "\n",
       "    .dataframe thead th {\n",
       "        text-align: right;\n",
       "    }\n",
       "</style>\n",
       "<table border=\"1\" class=\"dataframe\">\n",
       "  <thead>\n",
       "    <tr style=\"text-align: right;\">\n",
       "      <th></th>\n",
       "      <th>customerID</th>\n",
       "      <th>MultipleLines</th>\n",
       "    </tr>\n",
       "  </thead>\n",
       "  <tbody>\n",
       "    <tr>\n",
       "      <th>0</th>\n",
       "      <td>5575-GNVDE</td>\n",
       "      <td>No</td>\n",
       "    </tr>\n",
       "    <tr>\n",
       "      <th>1</th>\n",
       "      <td>3668-QPYBK</td>\n",
       "      <td>No</td>\n",
       "    </tr>\n",
       "    <tr>\n",
       "      <th>2</th>\n",
       "      <td>9237-HQITU</td>\n",
       "      <td>No</td>\n",
       "    </tr>\n",
       "    <tr>\n",
       "      <th>3</th>\n",
       "      <td>9305-CDSKC</td>\n",
       "      <td>Yes</td>\n",
       "    </tr>\n",
       "    <tr>\n",
       "      <th>4</th>\n",
       "      <td>1452-KIOVK</td>\n",
       "      <td>Yes</td>\n",
       "    </tr>\n",
       "    <tr>\n",
       "      <th>...</th>\n",
       "      <td>...</td>\n",
       "      <td>...</td>\n",
       "    </tr>\n",
       "    <tr>\n",
       "      <th>6356</th>\n",
       "      <td>2569-WGERO</td>\n",
       "      <td>No</td>\n",
       "    </tr>\n",
       "    <tr>\n",
       "      <th>6357</th>\n",
       "      <td>6840-RESVB</td>\n",
       "      <td>Yes</td>\n",
       "    </tr>\n",
       "    <tr>\n",
       "      <th>6358</th>\n",
       "      <td>2234-XADUH</td>\n",
       "      <td>Yes</td>\n",
       "    </tr>\n",
       "    <tr>\n",
       "      <th>6359</th>\n",
       "      <td>8361-LTMKD</td>\n",
       "      <td>Yes</td>\n",
       "    </tr>\n",
       "    <tr>\n",
       "      <th>6360</th>\n",
       "      <td>3186-AJIEK</td>\n",
       "      <td>No</td>\n",
       "    </tr>\n",
       "  </tbody>\n",
       "</table>\n",
       "<p>6361 rows × 2 columns</p>\n",
       "</div>"
      ],
      "text/plain": [
       "      customerID MultipleLines\n",
       "0     5575-GNVDE            No\n",
       "1     3668-QPYBK            No\n",
       "2     9237-HQITU            No\n",
       "3     9305-CDSKC           Yes\n",
       "4     1452-KIOVK           Yes\n",
       "...          ...           ...\n",
       "6356  2569-WGERO            No\n",
       "6357  6840-RESVB           Yes\n",
       "6358  2234-XADUH           Yes\n",
       "6359  8361-LTMKD           Yes\n",
       "6360  3186-AJIEK            No\n",
       "\n",
       "[6361 rows x 2 columns]"
      ]
     },
     "execution_count": 96,
     "metadata": {},
     "output_type": "execute_result"
    }
   ],
   "source": [
    "phone"
   ]
  },
  {
   "cell_type": "code",
   "execution_count": 97,
   "id": "f7c9aaff",
   "metadata": {
    "scrolled": false
   },
   "outputs": [
    {
     "data": {
      "text/html": [
       "<div>\n",
       "<style scoped>\n",
       "    .dataframe tbody tr th:only-of-type {\n",
       "        vertical-align: middle;\n",
       "    }\n",
       "\n",
       "    .dataframe tbody tr th {\n",
       "        vertical-align: top;\n",
       "    }\n",
       "\n",
       "    .dataframe thead th {\n",
       "        text-align: right;\n",
       "    }\n",
       "</style>\n",
       "<table border=\"1\" class=\"dataframe\">\n",
       "  <thead>\n",
       "    <tr style=\"text-align: right;\">\n",
       "      <th></th>\n",
       "      <th>customerID</th>\n",
       "      <th>MultipleLines</th>\n",
       "      <th>PhoneUser</th>\n",
       "    </tr>\n",
       "  </thead>\n",
       "  <tbody>\n",
       "    <tr>\n",
       "      <th>0</th>\n",
       "      <td>5575-GNVDE</td>\n",
       "      <td>0</td>\n",
       "      <td>1</td>\n",
       "    </tr>\n",
       "    <tr>\n",
       "      <th>1</th>\n",
       "      <td>3668-QPYBK</td>\n",
       "      <td>0</td>\n",
       "      <td>1</td>\n",
       "    </tr>\n",
       "    <tr>\n",
       "      <th>2</th>\n",
       "      <td>9237-HQITU</td>\n",
       "      <td>0</td>\n",
       "      <td>1</td>\n",
       "    </tr>\n",
       "    <tr>\n",
       "      <th>3</th>\n",
       "      <td>9305-CDSKC</td>\n",
       "      <td>1</td>\n",
       "      <td>1</td>\n",
       "    </tr>\n",
       "    <tr>\n",
       "      <th>4</th>\n",
       "      <td>1452-KIOVK</td>\n",
       "      <td>1</td>\n",
       "      <td>1</td>\n",
       "    </tr>\n",
       "    <tr>\n",
       "      <th>...</th>\n",
       "      <td>...</td>\n",
       "      <td>...</td>\n",
       "      <td>...</td>\n",
       "    </tr>\n",
       "    <tr>\n",
       "      <th>6356</th>\n",
       "      <td>2569-WGERO</td>\n",
       "      <td>0</td>\n",
       "      <td>1</td>\n",
       "    </tr>\n",
       "    <tr>\n",
       "      <th>6357</th>\n",
       "      <td>6840-RESVB</td>\n",
       "      <td>1</td>\n",
       "      <td>1</td>\n",
       "    </tr>\n",
       "    <tr>\n",
       "      <th>6358</th>\n",
       "      <td>2234-XADUH</td>\n",
       "      <td>1</td>\n",
       "      <td>1</td>\n",
       "    </tr>\n",
       "    <tr>\n",
       "      <th>6359</th>\n",
       "      <td>8361-LTMKD</td>\n",
       "      <td>1</td>\n",
       "      <td>1</td>\n",
       "    </tr>\n",
       "    <tr>\n",
       "      <th>6360</th>\n",
       "      <td>3186-AJIEK</td>\n",
       "      <td>0</td>\n",
       "      <td>1</td>\n",
       "    </tr>\n",
       "  </tbody>\n",
       "</table>\n",
       "<p>6361 rows × 3 columns</p>\n",
       "</div>"
      ],
      "text/plain": [
       "      customerID  MultipleLines  PhoneUser\n",
       "0     5575-GNVDE              0          1\n",
       "1     3668-QPYBK              0          1\n",
       "2     9237-HQITU              0          1\n",
       "3     9305-CDSKC              1          1\n",
       "4     1452-KIOVK              1          1\n",
       "...          ...            ...        ...\n",
       "6356  2569-WGERO              0          1\n",
       "6357  6840-RESVB              1          1\n",
       "6358  2234-XADUH              1          1\n",
       "6359  8361-LTMKD              1          1\n",
       "6360  3186-AJIEK              0          1\n",
       "\n",
       "[6361 rows x 3 columns]"
      ]
     },
     "execution_count": 97,
     "metadata": {},
     "output_type": "execute_result"
    }
   ],
   "source": [
    "phone = phone.replace('Yes', 1)\n",
    "phone = phone.replace('No', 0)\n",
    "phone['PhoneUser'] = 1\n",
    "phone"
   ]
  },
  {
   "cell_type": "markdown",
   "id": "97052c0e",
   "metadata": {},
   "source": [
    "Объединим данные в один датафрейм по столбцу 'customerID'."
   ]
  },
  {
   "cell_type": "code",
   "execution_count": 98,
   "id": "00746b5a",
   "metadata": {},
   "outputs": [],
   "source": [
    "df = pd.merge(contract, internet, on = 'customerID', how = 'left')\n",
    "df = pd.merge(df, personal, on = 'customerID', how = 'left')\n",
    "df = pd.merge(df, phone, on = 'customerID', how = 'left')"
   ]
  },
  {
   "cell_type": "code",
   "execution_count": 99,
   "id": "21fb3373",
   "metadata": {
    "scrolled": true
   },
   "outputs": [
    {
     "data": {
      "text/html": [
       "<div>\n",
       "<style scoped>\n",
       "    .dataframe tbody tr th:only-of-type {\n",
       "        vertical-align: middle;\n",
       "    }\n",
       "\n",
       "    .dataframe tbody tr th {\n",
       "        vertical-align: top;\n",
       "    }\n",
       "\n",
       "    .dataframe thead th {\n",
       "        text-align: right;\n",
       "    }\n",
       "</style>\n",
       "<table border=\"1\" class=\"dataframe\">\n",
       "  <thead>\n",
       "    <tr style=\"text-align: right;\">\n",
       "      <th></th>\n",
       "      <th>customerID</th>\n",
       "      <th>BeginDate</th>\n",
       "      <th>EndDate</th>\n",
       "      <th>Type</th>\n",
       "      <th>MonthlyCharges</th>\n",
       "      <th>TotalCharges</th>\n",
       "      <th>InternetService</th>\n",
       "      <th>OnlineSecurity</th>\n",
       "      <th>OnlineBackup</th>\n",
       "      <th>DeviceProtection</th>\n",
       "      <th>TechSupport</th>\n",
       "      <th>StreamingTV</th>\n",
       "      <th>StreamingMovies</th>\n",
       "      <th>InternetUser</th>\n",
       "      <th>gender</th>\n",
       "      <th>SeniorCitizen</th>\n",
       "      <th>Partner</th>\n",
       "      <th>Dependents</th>\n",
       "      <th>MultipleLines</th>\n",
       "      <th>PhoneUser</th>\n",
       "    </tr>\n",
       "  </thead>\n",
       "  <tbody>\n",
       "    <tr>\n",
       "      <th>0</th>\n",
       "      <td>7590-VHVEG</td>\n",
       "      <td>2020-01-01</td>\n",
       "      <td>NaT</td>\n",
       "      <td>Month-to-month</td>\n",
       "      <td>29.85</td>\n",
       "      <td>29.85</td>\n",
       "      <td>DSL</td>\n",
       "      <td>0.0</td>\n",
       "      <td>1.0</td>\n",
       "      <td>0.0</td>\n",
       "      <td>0.0</td>\n",
       "      <td>0.0</td>\n",
       "      <td>0.0</td>\n",
       "      <td>1.0</td>\n",
       "      <td>0</td>\n",
       "      <td>0</td>\n",
       "      <td>1</td>\n",
       "      <td>0</td>\n",
       "      <td>NaN</td>\n",
       "      <td>NaN</td>\n",
       "    </tr>\n",
       "    <tr>\n",
       "      <th>1</th>\n",
       "      <td>5575-GNVDE</td>\n",
       "      <td>2017-04-01</td>\n",
       "      <td>NaT</td>\n",
       "      <td>One year</td>\n",
       "      <td>56.95</td>\n",
       "      <td>1889.50</td>\n",
       "      <td>DSL</td>\n",
       "      <td>1.0</td>\n",
       "      <td>0.0</td>\n",
       "      <td>1.0</td>\n",
       "      <td>0.0</td>\n",
       "      <td>0.0</td>\n",
       "      <td>0.0</td>\n",
       "      <td>1.0</td>\n",
       "      <td>1</td>\n",
       "      <td>0</td>\n",
       "      <td>0</td>\n",
       "      <td>0</td>\n",
       "      <td>0.0</td>\n",
       "      <td>1.0</td>\n",
       "    </tr>\n",
       "    <tr>\n",
       "      <th>2</th>\n",
       "      <td>3668-QPYBK</td>\n",
       "      <td>2019-10-01</td>\n",
       "      <td>2019-12-01</td>\n",
       "      <td>Month-to-month</td>\n",
       "      <td>53.85</td>\n",
       "      <td>108.15</td>\n",
       "      <td>DSL</td>\n",
       "      <td>1.0</td>\n",
       "      <td>1.0</td>\n",
       "      <td>0.0</td>\n",
       "      <td>0.0</td>\n",
       "      <td>0.0</td>\n",
       "      <td>0.0</td>\n",
       "      <td>1.0</td>\n",
       "      <td>1</td>\n",
       "      <td>0</td>\n",
       "      <td>0</td>\n",
       "      <td>0</td>\n",
       "      <td>0.0</td>\n",
       "      <td>1.0</td>\n",
       "    </tr>\n",
       "    <tr>\n",
       "      <th>3</th>\n",
       "      <td>7795-CFOCW</td>\n",
       "      <td>2016-05-01</td>\n",
       "      <td>NaT</td>\n",
       "      <td>One year</td>\n",
       "      <td>42.30</td>\n",
       "      <td>1840.75</td>\n",
       "      <td>DSL</td>\n",
       "      <td>1.0</td>\n",
       "      <td>0.0</td>\n",
       "      <td>1.0</td>\n",
       "      <td>1.0</td>\n",
       "      <td>0.0</td>\n",
       "      <td>0.0</td>\n",
       "      <td>1.0</td>\n",
       "      <td>1</td>\n",
       "      <td>0</td>\n",
       "      <td>0</td>\n",
       "      <td>0</td>\n",
       "      <td>NaN</td>\n",
       "      <td>NaN</td>\n",
       "    </tr>\n",
       "    <tr>\n",
       "      <th>4</th>\n",
       "      <td>9237-HQITU</td>\n",
       "      <td>2019-09-01</td>\n",
       "      <td>2019-11-01</td>\n",
       "      <td>Month-to-month</td>\n",
       "      <td>70.70</td>\n",
       "      <td>151.65</td>\n",
       "      <td>Fiber optic</td>\n",
       "      <td>0.0</td>\n",
       "      <td>0.0</td>\n",
       "      <td>0.0</td>\n",
       "      <td>0.0</td>\n",
       "      <td>0.0</td>\n",
       "      <td>0.0</td>\n",
       "      <td>1.0</td>\n",
       "      <td>0</td>\n",
       "      <td>0</td>\n",
       "      <td>0</td>\n",
       "      <td>0</td>\n",
       "      <td>0.0</td>\n",
       "      <td>1.0</td>\n",
       "    </tr>\n",
       "    <tr>\n",
       "      <th>...</th>\n",
       "      <td>...</td>\n",
       "      <td>...</td>\n",
       "      <td>...</td>\n",
       "      <td>...</td>\n",
       "      <td>...</td>\n",
       "      <td>...</td>\n",
       "      <td>...</td>\n",
       "      <td>...</td>\n",
       "      <td>...</td>\n",
       "      <td>...</td>\n",
       "      <td>...</td>\n",
       "      <td>...</td>\n",
       "      <td>...</td>\n",
       "      <td>...</td>\n",
       "      <td>...</td>\n",
       "      <td>...</td>\n",
       "      <td>...</td>\n",
       "      <td>...</td>\n",
       "      <td>...</td>\n",
       "      <td>...</td>\n",
       "    </tr>\n",
       "    <tr>\n",
       "      <th>7038</th>\n",
       "      <td>6840-RESVB</td>\n",
       "      <td>2018-02-01</td>\n",
       "      <td>NaT</td>\n",
       "      <td>One year</td>\n",
       "      <td>84.80</td>\n",
       "      <td>1990.50</td>\n",
       "      <td>DSL</td>\n",
       "      <td>1.0</td>\n",
       "      <td>0.0</td>\n",
       "      <td>1.0</td>\n",
       "      <td>1.0</td>\n",
       "      <td>1.0</td>\n",
       "      <td>1.0</td>\n",
       "      <td>1.0</td>\n",
       "      <td>1</td>\n",
       "      <td>0</td>\n",
       "      <td>1</td>\n",
       "      <td>1</td>\n",
       "      <td>1.0</td>\n",
       "      <td>1.0</td>\n",
       "    </tr>\n",
       "    <tr>\n",
       "      <th>7039</th>\n",
       "      <td>2234-XADUH</td>\n",
       "      <td>2014-02-01</td>\n",
       "      <td>NaT</td>\n",
       "      <td>One year</td>\n",
       "      <td>103.20</td>\n",
       "      <td>7362.90</td>\n",
       "      <td>Fiber optic</td>\n",
       "      <td>0.0</td>\n",
       "      <td>1.0</td>\n",
       "      <td>1.0</td>\n",
       "      <td>0.0</td>\n",
       "      <td>1.0</td>\n",
       "      <td>1.0</td>\n",
       "      <td>1.0</td>\n",
       "      <td>0</td>\n",
       "      <td>0</td>\n",
       "      <td>1</td>\n",
       "      <td>1</td>\n",
       "      <td>1.0</td>\n",
       "      <td>1.0</td>\n",
       "    </tr>\n",
       "    <tr>\n",
       "      <th>7040</th>\n",
       "      <td>4801-JZAZL</td>\n",
       "      <td>2019-03-01</td>\n",
       "      <td>NaT</td>\n",
       "      <td>Month-to-month</td>\n",
       "      <td>29.60</td>\n",
       "      <td>346.45</td>\n",
       "      <td>DSL</td>\n",
       "      <td>1.0</td>\n",
       "      <td>0.0</td>\n",
       "      <td>0.0</td>\n",
       "      <td>0.0</td>\n",
       "      <td>0.0</td>\n",
       "      <td>0.0</td>\n",
       "      <td>1.0</td>\n",
       "      <td>0</td>\n",
       "      <td>0</td>\n",
       "      <td>1</td>\n",
       "      <td>1</td>\n",
       "      <td>NaN</td>\n",
       "      <td>NaN</td>\n",
       "    </tr>\n",
       "    <tr>\n",
       "      <th>7041</th>\n",
       "      <td>8361-LTMKD</td>\n",
       "      <td>2019-07-01</td>\n",
       "      <td>2019-11-01</td>\n",
       "      <td>Month-to-month</td>\n",
       "      <td>74.40</td>\n",
       "      <td>306.60</td>\n",
       "      <td>Fiber optic</td>\n",
       "      <td>0.0</td>\n",
       "      <td>0.0</td>\n",
       "      <td>0.0</td>\n",
       "      <td>0.0</td>\n",
       "      <td>0.0</td>\n",
       "      <td>0.0</td>\n",
       "      <td>1.0</td>\n",
       "      <td>1</td>\n",
       "      <td>1</td>\n",
       "      <td>1</td>\n",
       "      <td>0</td>\n",
       "      <td>1.0</td>\n",
       "      <td>1.0</td>\n",
       "    </tr>\n",
       "    <tr>\n",
       "      <th>7042</th>\n",
       "      <td>3186-AJIEK</td>\n",
       "      <td>2014-08-01</td>\n",
       "      <td>NaT</td>\n",
       "      <td>Two year</td>\n",
       "      <td>105.65</td>\n",
       "      <td>6844.50</td>\n",
       "      <td>Fiber optic</td>\n",
       "      <td>1.0</td>\n",
       "      <td>0.0</td>\n",
       "      <td>1.0</td>\n",
       "      <td>1.0</td>\n",
       "      <td>1.0</td>\n",
       "      <td>1.0</td>\n",
       "      <td>1.0</td>\n",
       "      <td>1</td>\n",
       "      <td>0</td>\n",
       "      <td>0</td>\n",
       "      <td>0</td>\n",
       "      <td>0.0</td>\n",
       "      <td>1.0</td>\n",
       "    </tr>\n",
       "  </tbody>\n",
       "</table>\n",
       "<p>7043 rows × 20 columns</p>\n",
       "</div>"
      ],
      "text/plain": [
       "      customerID  BeginDate    EndDate            Type  MonthlyCharges  \\\n",
       "0     7590-VHVEG 2020-01-01        NaT  Month-to-month           29.85   \n",
       "1     5575-GNVDE 2017-04-01        NaT        One year           56.95   \n",
       "2     3668-QPYBK 2019-10-01 2019-12-01  Month-to-month           53.85   \n",
       "3     7795-CFOCW 2016-05-01        NaT        One year           42.30   \n",
       "4     9237-HQITU 2019-09-01 2019-11-01  Month-to-month           70.70   \n",
       "...          ...        ...        ...             ...             ...   \n",
       "7038  6840-RESVB 2018-02-01        NaT        One year           84.80   \n",
       "7039  2234-XADUH 2014-02-01        NaT        One year          103.20   \n",
       "7040  4801-JZAZL 2019-03-01        NaT  Month-to-month           29.60   \n",
       "7041  8361-LTMKD 2019-07-01 2019-11-01  Month-to-month           74.40   \n",
       "7042  3186-AJIEK 2014-08-01        NaT        Two year          105.65   \n",
       "\n",
       "      TotalCharges InternetService  OnlineSecurity  OnlineBackup  \\\n",
       "0            29.85             DSL             0.0           1.0   \n",
       "1          1889.50             DSL             1.0           0.0   \n",
       "2           108.15             DSL             1.0           1.0   \n",
       "3          1840.75             DSL             1.0           0.0   \n",
       "4           151.65     Fiber optic             0.0           0.0   \n",
       "...            ...             ...             ...           ...   \n",
       "7038       1990.50             DSL             1.0           0.0   \n",
       "7039       7362.90     Fiber optic             0.0           1.0   \n",
       "7040        346.45             DSL             1.0           0.0   \n",
       "7041        306.60     Fiber optic             0.0           0.0   \n",
       "7042       6844.50     Fiber optic             1.0           0.0   \n",
       "\n",
       "      DeviceProtection  TechSupport  StreamingTV  StreamingMovies  \\\n",
       "0                  0.0          0.0          0.0              0.0   \n",
       "1                  1.0          0.0          0.0              0.0   \n",
       "2                  0.0          0.0          0.0              0.0   \n",
       "3                  1.0          1.0          0.0              0.0   \n",
       "4                  0.0          0.0          0.0              0.0   \n",
       "...                ...          ...          ...              ...   \n",
       "7038               1.0          1.0          1.0              1.0   \n",
       "7039               1.0          0.0          1.0              1.0   \n",
       "7040               0.0          0.0          0.0              0.0   \n",
       "7041               0.0          0.0          0.0              0.0   \n",
       "7042               1.0          1.0          1.0              1.0   \n",
       "\n",
       "      InternetUser  gender  SeniorCitizen  Partner  Dependents  MultipleLines  \\\n",
       "0              1.0       0              0        1           0            NaN   \n",
       "1              1.0       1              0        0           0            0.0   \n",
       "2              1.0       1              0        0           0            0.0   \n",
       "3              1.0       1              0        0           0            NaN   \n",
       "4              1.0       0              0        0           0            0.0   \n",
       "...            ...     ...            ...      ...         ...            ...   \n",
       "7038           1.0       1              0        1           1            1.0   \n",
       "7039           1.0       0              0        1           1            1.0   \n",
       "7040           1.0       0              0        1           1            NaN   \n",
       "7041           1.0       1              1        1           0            1.0   \n",
       "7042           1.0       1              0        0           0            0.0   \n",
       "\n",
       "      PhoneUser  \n",
       "0           NaN  \n",
       "1           1.0  \n",
       "2           1.0  \n",
       "3           NaN  \n",
       "4           1.0  \n",
       "...         ...  \n",
       "7038        1.0  \n",
       "7039        1.0  \n",
       "7040        NaN  \n",
       "7041        1.0  \n",
       "7042        1.0  \n",
       "\n",
       "[7043 rows x 20 columns]"
      ]
     },
     "execution_count": 99,
     "metadata": {},
     "output_type": "execute_result"
    }
   ],
   "source": [
    "df"
   ]
  },
  {
   "cell_type": "code",
   "execution_count": 100,
   "id": "3b38c1fb",
   "metadata": {
    "scrolled": true
   },
   "outputs": [
    {
     "name": "stdout",
     "output_type": "stream",
     "text": [
      "<class 'pandas.core.frame.DataFrame'>\n",
      "Int64Index: 7043 entries, 0 to 7042\n",
      "Data columns (total 20 columns):\n",
      " #   Column            Non-Null Count  Dtype         \n",
      "---  ------            --------------  -----         \n",
      " 0   customerID        7043 non-null   object        \n",
      " 1   BeginDate         7043 non-null   datetime64[ns]\n",
      " 2   EndDate           1869 non-null   datetime64[ns]\n",
      " 3   Type              7043 non-null   object        \n",
      " 4   MonthlyCharges    7043 non-null   float64       \n",
      " 5   TotalCharges      7043 non-null   float64       \n",
      " 6   InternetService   5517 non-null   object        \n",
      " 7   OnlineSecurity    5517 non-null   float64       \n",
      " 8   OnlineBackup      5517 non-null   float64       \n",
      " 9   DeviceProtection  5517 non-null   float64       \n",
      " 10  TechSupport       5517 non-null   float64       \n",
      " 11  StreamingTV       5517 non-null   float64       \n",
      " 12  StreamingMovies   5517 non-null   float64       \n",
      " 13  InternetUser      5517 non-null   float64       \n",
      " 14  gender            7043 non-null   int64         \n",
      " 15  SeniorCitizen     7043 non-null   int64         \n",
      " 16  Partner           7043 non-null   int64         \n",
      " 17  Dependents        7043 non-null   int64         \n",
      " 18  MultipleLines     6361 non-null   float64       \n",
      " 19  PhoneUser         6361 non-null   float64       \n",
      "dtypes: datetime64[ns](2), float64(11), int64(4), object(3)\n",
      "memory usage: 1.1+ MB\n"
     ]
    }
   ],
   "source": [
    "df.info()"
   ]
  },
  {
   "cell_type": "markdown",
   "id": "ff61aafc",
   "metadata": {},
   "source": [
    "Недостающие данные о доп. услугах заполним нулем - \"0\" (не пользуется услугой)."
   ]
  },
  {
   "cell_type": "code",
   "execution_count": 101,
   "id": "44343eef",
   "metadata": {},
   "outputs": [],
   "source": [
    "df[df.columns[6:]] = df[df.columns[6:]].fillna(0)"
   ]
  },
  {
   "cell_type": "code",
   "execution_count": 102,
   "id": "1ac7163c",
   "metadata": {},
   "outputs": [],
   "source": [
    "df[df.columns[7:]] = df[df.columns[7:]].astype(int)"
   ]
  },
  {
   "cell_type": "code",
   "execution_count": 103,
   "id": "7812b127",
   "metadata": {
    "scrolled": true
   },
   "outputs": [
    {
     "name": "stdout",
     "output_type": "stream",
     "text": [
      "<class 'pandas.core.frame.DataFrame'>\n",
      "Int64Index: 7043 entries, 0 to 7042\n",
      "Data columns (total 20 columns):\n",
      " #   Column            Non-Null Count  Dtype         \n",
      "---  ------            --------------  -----         \n",
      " 0   customerID        7043 non-null   object        \n",
      " 1   BeginDate         7043 non-null   datetime64[ns]\n",
      " 2   EndDate           1869 non-null   datetime64[ns]\n",
      " 3   Type              7043 non-null   object        \n",
      " 4   MonthlyCharges    7043 non-null   float64       \n",
      " 5   TotalCharges      7043 non-null   float64       \n",
      " 6   InternetService   7043 non-null   object        \n",
      " 7   OnlineSecurity    7043 non-null   int64         \n",
      " 8   OnlineBackup      7043 non-null   int64         \n",
      " 9   DeviceProtection  7043 non-null   int64         \n",
      " 10  TechSupport       7043 non-null   int64         \n",
      " 11  StreamingTV       7043 non-null   int64         \n",
      " 12  StreamingMovies   7043 non-null   int64         \n",
      " 13  InternetUser      7043 non-null   int64         \n",
      " 14  gender            7043 non-null   int64         \n",
      " 15  SeniorCitizen     7043 non-null   int64         \n",
      " 16  Partner           7043 non-null   int64         \n",
      " 17  Dependents        7043 non-null   int64         \n",
      " 18  MultipleLines     7043 non-null   int64         \n",
      " 19  PhoneUser         7043 non-null   int64         \n",
      "dtypes: datetime64[ns](2), float64(2), int64(13), object(3)\n",
      "memory usage: 1.1+ MB\n"
     ]
    }
   ],
   "source": [
    "df.info()"
   ]
  },
  {
   "cell_type": "markdown",
   "id": "5dda188b",
   "metadata": {},
   "source": [
    "## Построение моделей"
   ]
  },
  {
   "cell_type": "markdown",
   "id": "f1658d43",
   "metadata": {},
   "source": [
    "Таргетом будет служить наличие или отсутствие данных в столбце \"EndDate\". Выведем эту информацию в отдельный столбец."
   ]
  },
  {
   "cell_type": "code",
   "execution_count": 104,
   "id": "96bf241a",
   "metadata": {},
   "outputs": [],
   "source": [
    "df['Target'] = (-df['EndDate'].isna()).astype(int)"
   ]
  },
  {
   "cell_type": "markdown",
   "id": "b82a359e",
   "metadata": {},
   "source": [
    "Посчитаем срок жизни абонента и выведем получившееся число в отдельный признак. Столбцы \"EndDate\" и \"BeginDate\" удалим."
   ]
  },
  {
   "cell_type": "code",
   "execution_count": 105,
   "id": "dfa59d08",
   "metadata": {},
   "outputs": [],
   "source": [
    "df['EndDate'] = df['EndDate'].fillna('2020-02-01')\n",
    "df['EndDate'] = pd.to_datetime(df['EndDate'])\n",
    "df['Duration'] = (df['EndDate'] - df['BeginDate']).dt.days\n",
    "df = df.drop('EndDate', axis = 1)\n",
    "df = df.drop('BeginDate', axis = 1)"
   ]
  },
  {
   "cell_type": "markdown",
   "id": "fab5ce9d",
   "metadata": {},
   "source": [
    "Применим One Hot кодирование к категориальным признакам."
   ]
  },
  {
   "cell_type": "code",
   "execution_count": 106,
   "id": "cd7e22a1",
   "metadata": {},
   "outputs": [],
   "source": [
    "types = pd.get_dummies(df['Type'], drop_first = True)\n",
    "InternetService = pd.get_dummies(df['InternetService'], drop_first = True)\n",
    "df = df.join(types)\n",
    "df = df.join(InternetService)\n",
    "df = df.drop('Type', axis = 1)\n",
    "df = df.drop('InternetService', axis = 1)"
   ]
  },
  {
   "cell_type": "markdown",
   "id": "2aff86fe",
   "metadata": {},
   "source": [
    "Признак 'customerID' удалим, так как он не несет значимой ценности для обучения моделей."
   ]
  },
  {
   "cell_type": "code",
   "execution_count": 107,
   "id": "587c8dc2",
   "metadata": {},
   "outputs": [],
   "source": [
    "df = df.drop('customerID', axis = 1)"
   ]
  },
  {
   "cell_type": "code",
   "execution_count": 108,
   "id": "33b6e334",
   "metadata": {
    "scrolled": true
   },
   "outputs": [
    {
     "name": "stdout",
     "output_type": "stream",
     "text": [
      "<class 'pandas.core.frame.DataFrame'>\n",
      "Int64Index: 7043 entries, 0 to 7042\n",
      "Data columns (total 21 columns):\n",
      " #   Column            Non-Null Count  Dtype  \n",
      "---  ------            --------------  -----  \n",
      " 0   MonthlyCharges    7043 non-null   float64\n",
      " 1   TotalCharges      7043 non-null   float64\n",
      " 2   OnlineSecurity    7043 non-null   int64  \n",
      " 3   OnlineBackup      7043 non-null   int64  \n",
      " 4   DeviceProtection  7043 non-null   int64  \n",
      " 5   TechSupport       7043 non-null   int64  \n",
      " 6   StreamingTV       7043 non-null   int64  \n",
      " 7   StreamingMovies   7043 non-null   int64  \n",
      " 8   InternetUser      7043 non-null   int64  \n",
      " 9   gender            7043 non-null   int64  \n",
      " 10  SeniorCitizen     7043 non-null   int64  \n",
      " 11  Partner           7043 non-null   int64  \n",
      " 12  Dependents        7043 non-null   int64  \n",
      " 13  MultipleLines     7043 non-null   int64  \n",
      " 14  PhoneUser         7043 non-null   int64  \n",
      " 15  Target            7043 non-null   int64  \n",
      " 16  Duration          7043 non-null   int64  \n",
      " 17  One year          7043 non-null   uint8  \n",
      " 18  Two year          7043 non-null   uint8  \n",
      " 19  DSL               7043 non-null   uint8  \n",
      " 20  Fiber optic       7043 non-null   uint8  \n",
      "dtypes: float64(2), int64(15), uint8(4)\n",
      "memory usage: 1.2 MB\n"
     ]
    }
   ],
   "source": [
    "df.info()"
   ]
  },
  {
   "cell_type": "code",
   "execution_count": 109,
   "id": "c55a5402",
   "metadata": {},
   "outputs": [
    {
     "data": {
      "text/html": [
       "<div>\n",
       "<style scoped>\n",
       "    .dataframe tbody tr th:only-of-type {\n",
       "        vertical-align: middle;\n",
       "    }\n",
       "\n",
       "    .dataframe tbody tr th {\n",
       "        vertical-align: top;\n",
       "    }\n",
       "\n",
       "    .dataframe thead th {\n",
       "        text-align: right;\n",
       "    }\n",
       "</style>\n",
       "<table border=\"1\" class=\"dataframe\">\n",
       "  <thead>\n",
       "    <tr style=\"text-align: right;\">\n",
       "      <th></th>\n",
       "      <th>MonthlyCharges</th>\n",
       "      <th>TotalCharges</th>\n",
       "      <th>OnlineSecurity</th>\n",
       "      <th>OnlineBackup</th>\n",
       "      <th>DeviceProtection</th>\n",
       "      <th>TechSupport</th>\n",
       "      <th>StreamingTV</th>\n",
       "      <th>StreamingMovies</th>\n",
       "      <th>InternetUser</th>\n",
       "      <th>gender</th>\n",
       "      <th>...</th>\n",
       "      <th>Partner</th>\n",
       "      <th>Dependents</th>\n",
       "      <th>MultipleLines</th>\n",
       "      <th>PhoneUser</th>\n",
       "      <th>Target</th>\n",
       "      <th>Duration</th>\n",
       "      <th>One year</th>\n",
       "      <th>Two year</th>\n",
       "      <th>DSL</th>\n",
       "      <th>Fiber optic</th>\n",
       "    </tr>\n",
       "  </thead>\n",
       "  <tbody>\n",
       "    <tr>\n",
       "      <th>0</th>\n",
       "      <td>29.85</td>\n",
       "      <td>29.85</td>\n",
       "      <td>0</td>\n",
       "      <td>1</td>\n",
       "      <td>0</td>\n",
       "      <td>0</td>\n",
       "      <td>0</td>\n",
       "      <td>0</td>\n",
       "      <td>1</td>\n",
       "      <td>0</td>\n",
       "      <td>...</td>\n",
       "      <td>1</td>\n",
       "      <td>0</td>\n",
       "      <td>0</td>\n",
       "      <td>0</td>\n",
       "      <td>0</td>\n",
       "      <td>31</td>\n",
       "      <td>0</td>\n",
       "      <td>0</td>\n",
       "      <td>1</td>\n",
       "      <td>0</td>\n",
       "    </tr>\n",
       "    <tr>\n",
       "      <th>1</th>\n",
       "      <td>56.95</td>\n",
       "      <td>1889.50</td>\n",
       "      <td>1</td>\n",
       "      <td>0</td>\n",
       "      <td>1</td>\n",
       "      <td>0</td>\n",
       "      <td>0</td>\n",
       "      <td>0</td>\n",
       "      <td>1</td>\n",
       "      <td>1</td>\n",
       "      <td>...</td>\n",
       "      <td>0</td>\n",
       "      <td>0</td>\n",
       "      <td>0</td>\n",
       "      <td>1</td>\n",
       "      <td>0</td>\n",
       "      <td>1036</td>\n",
       "      <td>1</td>\n",
       "      <td>0</td>\n",
       "      <td>1</td>\n",
       "      <td>0</td>\n",
       "    </tr>\n",
       "    <tr>\n",
       "      <th>2</th>\n",
       "      <td>53.85</td>\n",
       "      <td>108.15</td>\n",
       "      <td>1</td>\n",
       "      <td>1</td>\n",
       "      <td>0</td>\n",
       "      <td>0</td>\n",
       "      <td>0</td>\n",
       "      <td>0</td>\n",
       "      <td>1</td>\n",
       "      <td>1</td>\n",
       "      <td>...</td>\n",
       "      <td>0</td>\n",
       "      <td>0</td>\n",
       "      <td>0</td>\n",
       "      <td>1</td>\n",
       "      <td>1</td>\n",
       "      <td>61</td>\n",
       "      <td>0</td>\n",
       "      <td>0</td>\n",
       "      <td>1</td>\n",
       "      <td>0</td>\n",
       "    </tr>\n",
       "  </tbody>\n",
       "</table>\n",
       "<p>3 rows × 21 columns</p>\n",
       "</div>"
      ],
      "text/plain": [
       "   MonthlyCharges  TotalCharges  OnlineSecurity  OnlineBackup  \\\n",
       "0           29.85         29.85               0             1   \n",
       "1           56.95       1889.50               1             0   \n",
       "2           53.85        108.15               1             1   \n",
       "\n",
       "   DeviceProtection  TechSupport  StreamingTV  StreamingMovies  InternetUser  \\\n",
       "0                 0            0            0                0             1   \n",
       "1                 1            0            0                0             1   \n",
       "2                 0            0            0                0             1   \n",
       "\n",
       "   gender  ...  Partner  Dependents  MultipleLines  PhoneUser  Target  \\\n",
       "0       0  ...        1           0              0          0       0   \n",
       "1       1  ...        0           0              0          1       0   \n",
       "2       1  ...        0           0              0          1       1   \n",
       "\n",
       "   Duration  One year  Two year  DSL  Fiber optic  \n",
       "0        31         0         0    1            0  \n",
       "1      1036         1         0    1            0  \n",
       "2        61         0         0    1            0  \n",
       "\n",
       "[3 rows x 21 columns]"
      ]
     },
     "execution_count": 109,
     "metadata": {},
     "output_type": "execute_result"
    }
   ],
   "source": [
    "df.head(3)"
   ]
  },
  {
   "cell_type": "markdown",
   "id": "0b5e2401",
   "metadata": {},
   "source": [
    "Разобьем датафрейм на обучающую и тестовую выборки, выведем признаки и таргет в отдельные датафреймы."
   ]
  },
  {
   "cell_type": "code",
   "execution_count": 110,
   "id": "a6814674",
   "metadata": {},
   "outputs": [],
   "source": [
    "train, test = train_test_split(df, test_size = 0.25, random_state = 111111)"
   ]
  },
  {
   "cell_type": "code",
   "execution_count": 111,
   "id": "2e6351ce",
   "metadata": {},
   "outputs": [],
   "source": [
    "features_train = train.drop('Target', axis = 1)\n",
    "target_train = train['Target']\n",
    "features_test = test.drop('Target', axis = 1)\n",
    "target_test = test['Target']"
   ]
  },
  {
   "cell_type": "markdown",
   "id": "7272246d",
   "metadata": {},
   "source": [
    "### Мультиколлинеарность и отбор признаков"
   ]
  },
  {
   "cell_type": "markdown",
   "id": "9e6cbf66",
   "metadata": {},
   "source": [
    "Найдем корреляцию количественных признаков между собой"
   ]
  },
  {
   "cell_type": "code",
   "execution_count": 112,
   "id": "81ab18bd",
   "metadata": {},
   "outputs": [
    {
     "data": {
      "image/png": "[encoded data removed]",
      "text/plain": [
       "<Figure size 1440x720 with 2 Axes>"
      ]
     },
     "metadata": {
      "needs_background": "light"
     },
     "output_type": "display_data"
    }
   ],
   "source": [
    "plt.figure(figsize = (20, 10))\n",
    "dataplot = sns.heatmap(features_train[['MonthlyCharges', 'TotalCharges', 'Duration']].corr(), cmap=\"YlGnBu\", annot=True)"
   ]
  },
  {
   "cell_type": "code",
   "execution_count": 113,
   "id": "4cdd6fdc",
   "metadata": {
    "scrolled": false
   },
   "outputs": [
    {
     "data": {
      "text/html": [
       "<div>\n",
       "<style scoped>\n",
       "    .dataframe tbody tr th:only-of-type {\n",
       "        vertical-align: middle;\n",
       "    }\n",
       "\n",
       "    .dataframe tbody tr th {\n",
       "        vertical-align: top;\n",
       "    }\n",
       "\n",
       "    .dataframe thead th {\n",
       "        text-align: right;\n",
       "    }\n",
       "</style>\n",
       "<table border=\"1\" class=\"dataframe\">\n",
       "  <thead>\n",
       "    <tr style=\"text-align: right;\">\n",
       "      <th></th>\n",
       "      <th>feature</th>\n",
       "      <th>VIF</th>\n",
       "    </tr>\n",
       "  </thead>\n",
       "  <tbody>\n",
       "    <tr>\n",
       "      <th>0</th>\n",
       "      <td>MonthlyCharges</td>\n",
       "      <td>3.362727</td>\n",
       "    </tr>\n",
       "    <tr>\n",
       "      <th>1</th>\n",
       "      <td>TotalCharges</td>\n",
       "      <td>7.939321</td>\n",
       "    </tr>\n",
       "    <tr>\n",
       "      <th>2</th>\n",
       "      <td>Duration</td>\n",
       "      <td>6.172381</td>\n",
       "    </tr>\n",
       "  </tbody>\n",
       "</table>\n",
       "</div>"
      ],
      "text/plain": [
       "          feature       VIF\n",
       "0  MonthlyCharges  3.362727\n",
       "1    TotalCharges  7.939321\n",
       "2        Duration  6.172381"
      ]
     },
     "execution_count": 113,
     "metadata": {},
     "output_type": "execute_result"
    }
   ],
   "source": [
    "vif_data = pd.DataFrame()\n",
    "vif_data[\"feature\"] = features_train[['MonthlyCharges', 'TotalCharges', 'Duration']].columns\n",
    "vif_data[\"VIF\"] = [variance_inflation_factor(features_train[['MonthlyCharges', 'TotalCharges', 'Duration']].values, i)\n",
    "                          for i in range(len(features_train[['MonthlyCharges', 'TotalCharges', 'Duration']].columns))]\n",
    "  \n",
    "vif_data"
   ]
  },
  {
   "cell_type": "markdown",
   "id": "bb17fb72",
   "metadata": {},
   "source": [
    "Все количественные признаки сильно коррелируют между собой. Действительно можно предположить, что чем дольше абонент пользуется услугами, тем больше денег он потратил и чем больше ежемесячный платеж, и тем больше общая сумма затрат на пользование услугами. Найдем наиболее значимый для определения таргета признак методом оценки mutual information и уберем наименее значимые признаки."
   ]
  },
  {
   "cell_type": "code",
   "execution_count": 114,
   "id": "aaa52297",
   "metadata": {},
   "outputs": [
    {
     "data": {
      "text/html": [
       "<div>\n",
       "<style scoped>\n",
       "    .dataframe tbody tr th:only-of-type {\n",
       "        vertical-align: middle;\n",
       "    }\n",
       "\n",
       "    .dataframe tbody tr th {\n",
       "        vertical-align: top;\n",
       "    }\n",
       "\n",
       "    .dataframe thead th {\n",
       "        text-align: right;\n",
       "    }\n",
       "</style>\n",
       "<table border=\"1\" class=\"dataframe\">\n",
       "  <thead>\n",
       "    <tr style=\"text-align: right;\">\n",
       "      <th></th>\n",
       "      <th>feature</th>\n",
       "      <th>MIC</th>\n",
       "    </tr>\n",
       "  </thead>\n",
       "  <tbody>\n",
       "    <tr>\n",
       "      <th>2</th>\n",
       "      <td>Duration</td>\n",
       "      <td>0.312674</td>\n",
       "    </tr>\n",
       "    <tr>\n",
       "      <th>0</th>\n",
       "      <td>MonthlyCharges</td>\n",
       "      <td>0.044857</td>\n",
       "    </tr>\n",
       "    <tr>\n",
       "      <th>1</th>\n",
       "      <td>TotalCharges</td>\n",
       "      <td>0.040220</td>\n",
       "    </tr>\n",
       "  </tbody>\n",
       "</table>\n",
       "</div>"
      ],
      "text/plain": [
       "          feature       MIC\n",
       "2        Duration  0.312674\n",
       "0  MonthlyCharges  0.044857\n",
       "1    TotalCharges  0.040220"
      ]
     },
     "execution_count": 114,
     "metadata": {},
     "output_type": "execute_result"
    }
   ],
   "source": [
    "MIC_data = pd.DataFrame({'feature' : list(features_train[['MonthlyCharges', 'TotalCharges', 'Duration']].columns),\n",
    "                         'MIC' : list(MIC(features_train[['MonthlyCharges', 'TotalCharges', 'Duration']], target_train))})\n",
    "MIC_data = MIC_data.sort_values('MIC', ascending = False)\n",
    "MIC_data"
   ]
  },
  {
   "cell_type": "code",
   "execution_count": 115,
   "id": "86d1d24c",
   "metadata": {},
   "outputs": [],
   "source": [
    "features_train = features_train.drop(['MonthlyCharges', 'TotalCharges'], axis = 1)\n",
    "features_test = features_test.drop(['MonthlyCharges', 'TotalCharges'], axis = 1)"
   ]
  },
  {
   "cell_type": "markdown",
   "id": "ae3ad450",
   "metadata": {},
   "source": [
    "Мультиколлинеарность убрана. Теперь посмотрим на оценки значимости признаков для определения таргета."
   ]
  },
  {
   "cell_type": "code",
   "execution_count": 116,
   "id": "57ee9e52",
   "metadata": {
    "scrolled": true
   },
   "outputs": [],
   "source": [
    "MIC_data = pd.DataFrame({'feature' : list(features_train.columns), 'MIC' : list(MIC(features_train, target_train))})\n",
    "MIC_data = MIC_data.sort_values('MIC', ascending = False)"
   ]
  },
  {
   "cell_type": "code",
   "execution_count": 117,
   "id": "0a9c4cab",
   "metadata": {
    "scrolled": true
   },
   "outputs": [
    {
     "data": {
      "text/plain": [
       "<AxesSubplot:xlabel='feature'>"
      ]
     },
     "execution_count": 117,
     "metadata": {},
     "output_type": "execute_result"
    },
    {
     "data": {
      "text/plain": [
       "<Figure size 1440x720 with 0 Axes>"
      ]
     },
     "metadata": {},
     "output_type": "display_data"
    },
    {
     "data": {
      "image/png": "[encoded data removed]",
      "text/plain": [
       "<Figure size 432x288 with 1 Axes>"
      ]
     },
     "metadata": {
      "needs_background": "light"
     },
     "output_type": "display_data"
    }
   ],
   "source": [
    "plt.figure(figsize = (20, 10))\n",
    "MIC_data.plot(x = 'feature', y = 'MIC', kind = 'bar')"
   ]
  },
  {
   "cell_type": "markdown",
   "id": "a7a41a0c",
   "metadata": {},
   "source": [
    "Наиболее значимый признак с большим отрывом от остальных - 'Duration'. Также признаки 'Two year' и 'Fiber optic' являются наиболее значимыми. Оставим 5 наиболее значимых признаков в датафрейтме, чтобы избежать переобучения."
   ]
  },
  {
   "cell_type": "code",
   "execution_count": 118,
   "id": "70de3ac1",
   "metadata": {
    "scrolled": true
   },
   "outputs": [
    {
     "data": {
      "text/html": [
       "<div>\n",
       "<style scoped>\n",
       "    .dataframe tbody tr th:only-of-type {\n",
       "        vertical-align: middle;\n",
       "    }\n",
       "\n",
       "    .dataframe tbody tr th {\n",
       "        vertical-align: top;\n",
       "    }\n",
       "\n",
       "    .dataframe thead th {\n",
       "        text-align: right;\n",
       "    }\n",
       "</style>\n",
       "<table border=\"1\" class=\"dataframe\">\n",
       "  <thead>\n",
       "    <tr style=\"text-align: right;\">\n",
       "      <th></th>\n",
       "      <th>feature</th>\n",
       "      <th>MIC</th>\n",
       "    </tr>\n",
       "  </thead>\n",
       "  <tbody>\n",
       "    <tr>\n",
       "      <th>13</th>\n",
       "      <td>Duration</td>\n",
       "      <td>0.307393</td>\n",
       "    </tr>\n",
       "    <tr>\n",
       "      <th>15</th>\n",
       "      <td>Two year</td>\n",
       "      <td>0.060964</td>\n",
       "    </tr>\n",
       "    <tr>\n",
       "      <th>17</th>\n",
       "      <td>Fiber optic</td>\n",
       "      <td>0.055391</td>\n",
       "    </tr>\n",
       "    <tr>\n",
       "      <th>6</th>\n",
       "      <td>InternetUser</td>\n",
       "      <td>0.037102</td>\n",
       "    </tr>\n",
       "    <tr>\n",
       "      <th>14</th>\n",
       "      <td>One year</td>\n",
       "      <td>0.022863</td>\n",
       "    </tr>\n",
       "  </tbody>\n",
       "</table>\n",
       "</div>"
      ],
      "text/plain": [
       "         feature       MIC\n",
       "13      Duration  0.307393\n",
       "15      Two year  0.060964\n",
       "17   Fiber optic  0.055391\n",
       "6   InternetUser  0.037102\n",
       "14      One year  0.022863"
      ]
     },
     "execution_count": 118,
     "metadata": {},
     "output_type": "execute_result"
    }
   ],
   "source": [
    "MIC_data_cut = MIC_data[MIC_data['MIC'] > MIC_data['MIC'].quantile(0.75)]\n",
    "MIC_data_cut"
   ]
  },
  {
   "cell_type": "code",
   "execution_count": 119,
   "id": "4ba2f558",
   "metadata": {},
   "outputs": [],
   "source": [
    "features_train = features_train[list(MIC_data_cut['feature'])]\n",
    "features_test = features_test[list(MIC_data_cut['feature'])]"
   ]
  },
  {
   "cell_type": "markdown",
   "id": "c49d98d8",
   "metadata": {},
   "source": [
    "### Случайный лес"
   ]
  },
  {
   "cell_type": "code",
   "execution_count": 120,
   "id": "5e196164",
   "metadata": {},
   "outputs": [],
   "source": [
    "rf_model = RandomForestClassifier(class_weight = 'balanced', random_state = 12345)\n",
    "rf_params = {\n",
    "    'n_estimators' : list(range(10, 160, 20)),\n",
    "    'max_depth' : list(range(2, 50, 5))\n",
    "}\n",
    "rf = GridSearchCV(rf_model, rf_params, cv = 3, scoring = 'roc_auc')\n",
    "rf_best_result = rf.fit(features_train, target_train)"
   ]
  },
  {
   "cell_type": "code",
   "execution_count": 121,
   "id": "51929c20",
   "metadata": {
    "scrolled": true
   },
   "outputs": [
    {
     "data": {
      "text/plain": [
       "RandomForestClassifier(class_weight='balanced', max_depth=17, n_estimators=150,\n",
       "                       random_state=12345)"
      ]
     },
     "execution_count": 121,
     "metadata": {},
     "output_type": "execute_result"
    }
   ],
   "source": [
    "rf_best_result.best_estimator_"
   ]
  },
  {
   "cell_type": "code",
   "execution_count": 122,
   "id": "5a2c119e",
   "metadata": {
    "scrolled": false
   },
   "outputs": [
    {
     "data": {
      "text/plain": [
       "0.9203370340999206"
      ]
     },
     "execution_count": 122,
     "metadata": {},
     "output_type": "execute_result"
    }
   ],
   "source": [
    "rf_predictions = rf_best_result.best_estimator_.predict_proba(features_test)[:, 1]\n",
    "rf_score = roc_auc_score(target_test, rf_predictions)\n",
    "rf_score"
   ]
  },
  {
   "cell_type": "code",
   "execution_count": 123,
   "id": "b856ca8f",
   "metadata": {
    "scrolled": true
   },
   "outputs": [
    {
     "data": {
      "image/png": "[encoded data removed]",
      "text/plain": [
       "<Figure size 432x288 with 1 Axes>"
      ]
     },
     "metadata": {
      "needs_background": "light"
     },
     "output_type": "display_data"
    }
   ],
   "source": [
    "fpr, tpr, thresholds = roc_curve(target_test, rf_predictions)\n",
    "\n",
    "plt.figure()\n",
    "plt.plot(fpr, tpr)\n",
    "plt.xlim([0.0, 1.0])\n",
    "plt.ylim([0.0, 1.0])\n",
    "plt.xlabel('False Positive Rate')\n",
    "plt.ylabel('True Positive Rate')\n",
    "plt.title('ROC-кривая')\n",
    "\n",
    "# ROC-кривая случайной модели\n",
    "plt.plot([0, 1], [0, 1], linestyle='--')\n",
    "plt.xlim([0.0, 1.0])\n",
    "plt.ylim([0.0, 1.0])\n",
    "plt.xlabel('False Positive Rate')\n",
    "plt.ylabel('True Positive Rate')\n",
    "plt.title('ROC-кривая модели \"Случайный лес\"')\n",
    "\n",
    "\n",
    "plt.show()"
   ]
  },
  {
   "cell_type": "markdown",
   "id": "e4b69aad",
   "metadata": {},
   "source": [
    "### Логистическая регрессия"
   ]
  },
  {
   "cell_type": "code",
   "execution_count": 124,
   "id": "11a3f05f",
   "metadata": {},
   "outputs": [
    {
     "data": {
      "text/plain": [
       "0.8398144329896907"
      ]
     },
     "execution_count": 124,
     "metadata": {},
     "output_type": "execute_result"
    }
   ],
   "source": [
    "lr_model = LogisticRegression(class_weight = 'balanced', random_state = 12345)\n",
    "lr_model.fit(features_train, target_train)\n",
    "lr_predictions = lr_model.predict_proba(features_test)[:, 1]\n",
    "lr_score = roc_auc_score(target_test, lr_predictions)\n",
    "lr_score"
   ]
  },
  {
   "cell_type": "code",
   "execution_count": 125,
   "id": "d3f08228",
   "metadata": {
    "scrolled": true
   },
   "outputs": [
    {
     "data": {
      "image/png": "[encoded data removed]",
      "text/plain": [
       "<Figure size 432x288 with 1 Axes>"
      ]
     },
     "metadata": {
      "needs_background": "light"
     },
     "output_type": "display_data"
    }
   ],
   "source": [
    "fpr, tpr, thresholds = roc_curve(target_test, lr_predictions)\n",
    "\n",
    "plt.figure()\n",
    "plt.plot(fpr, tpr)\n",
    "plt.xlim([0.0, 1.0])\n",
    "plt.ylim([0.0, 1.0])\n",
    "plt.xlabel('False Positive Rate')\n",
    "plt.ylabel('True Positive Rate')\n",
    "plt.title('ROC-кривая')\n",
    "\n",
    "# ROC-кривая случайной модели\n",
    "plt.plot([0, 1], [0, 1], linestyle='--')\n",
    "plt.xlim([0.0, 1.0])\n",
    "plt.ylim([0.0, 1.0])\n",
    "plt.xlabel('False Positive Rate')\n",
    "plt.ylabel('True Positive Rate')\n",
    "plt.title('ROC-кривая модели \"Логистическая регрессия\"')\n",
    "\n",
    "\n",
    "plt.show()"
   ]
  },
  {
   "cell_type": "markdown",
   "id": "46c2da01",
   "metadata": {},
   "source": [
    "### Градиентный бустинг"
   ]
  },
  {
   "cell_type": "code",
   "execution_count": 126,
   "id": "25d37751",
   "metadata": {},
   "outputs": [],
   "source": [
    "params = {\n",
    "    'learning_rate': [0.1, 0.03, 0.001],\n",
    "    'n_estimators': [400, 500, 700, 1000],\n",
    "    'max_depth': [15, 20, 25],\n",
    "}"
   ]
  },
  {
   "cell_type": "code",
   "execution_count": 127,
   "id": "e3fc582a",
   "metadata": {},
   "outputs": [],
   "source": [
    "gb = GridSearchCV(lgb.LGBMClassifier(random_state=12345), params, scoring='roc_auc', cv=3)\n",
    "LGBMRegressor_best_result = gb.fit(features_train, target_train)"
   ]
  },
  {
   "cell_type": "code",
   "execution_count": 128,
   "id": "3a93f642",
   "metadata": {},
   "outputs": [
    {
     "data": {
      "text/plain": [
       "LGBMClassifier(learning_rate=0.03, max_depth=20, n_estimators=1000,\n",
       "               random_state=12345)"
      ]
     },
     "execution_count": 128,
     "metadata": {},
     "output_type": "execute_result"
    }
   ],
   "source": [
    "LGBMClassifier_best_result = gb.best_estimator_\n",
    "LGBMClassifier_best_result"
   ]
  },
  {
   "cell_type": "code",
   "execution_count": 129,
   "id": "e08b0c0e",
   "metadata": {},
   "outputs": [],
   "source": [
    "predictions_lgb = LGBMClassifier_best_result.predict_proba(features_test)[:, 1]"
   ]
  },
  {
   "cell_type": "code",
   "execution_count": 130,
   "id": "92b58ce0",
   "metadata": {},
   "outputs": [
    {
     "data": {
      "text/plain": [
       "0.9427168913560667"
      ]
     },
     "execution_count": 130,
     "metadata": {},
     "output_type": "execute_result"
    }
   ],
   "source": [
    "lgb_score = roc_auc_score(target_test, predictions_lgb)\n",
    "lgb_score"
   ]
  },
  {
   "cell_type": "code",
   "execution_count": 131,
   "id": "9f295f0f",
   "metadata": {
    "scrolled": true
   },
   "outputs": [
    {
     "data": {
      "image/png": "[encoded data removed]",
      "text/plain": [
       "<Figure size 432x288 with 1 Axes>"
      ]
     },
     "metadata": {
      "needs_background": "light"
     },
     "output_type": "display_data"
    }
   ],
   "source": [
    "fpr, tpr, thresholds = roc_curve(target_test, predictions_lgb)\n",
    "\n",
    "plt.figure()\n",
    "plt.plot(fpr, tpr)\n",
    "plt.xlim([0.0, 1.0])\n",
    "plt.ylim([0.0, 1.0])\n",
    "plt.xlabel('False Positive Rate')\n",
    "plt.ylabel('True Positive Rate')\n",
    "plt.title('ROC-кривая')\n",
    "\n",
    "# ROC-кривая случайной модели\n",
    "plt.plot([0, 1], [0, 1], linestyle='--')\n",
    "plt.xlim([0.0, 1.0])\n",
    "plt.ylim([0.0, 1.0])\n",
    "plt.xlabel('False Positive Rate')\n",
    "plt.ylabel('True Positive Rate')\n",
    "plt.title('ROC-кривая модели \"Градиентный бустинг\"')\n",
    "\n",
    "\n",
    "plt.show()"
   ]
  },
  {
   "cell_type": "code",
   "execution_count": 132,
   "id": "e85ac8b7",
   "metadata": {},
   "outputs": [
    {
     "data": {
      "text/html": [
       "<div>\n",
       "<style scoped>\n",
       "    .dataframe tbody tr th:only-of-type {\n",
       "        vertical-align: middle;\n",
       "    }\n",
       "\n",
       "    .dataframe tbody tr th {\n",
       "        vertical-align: top;\n",
       "    }\n",
       "\n",
       "    .dataframe thead th {\n",
       "        text-align: right;\n",
       "    }\n",
       "</style>\n",
       "<table border=\"1\" class=\"dataframe\">\n",
       "  <thead>\n",
       "    <tr style=\"text-align: right;\">\n",
       "      <th></th>\n",
       "      <th>Случайный лес</th>\n",
       "      <th>Логистическая регрессия</th>\n",
       "      <th>Градиентный бустинг</th>\n",
       "    </tr>\n",
       "  </thead>\n",
       "  <tbody>\n",
       "    <tr>\n",
       "      <th>roc_auc</th>\n",
       "      <td>0.9203</td>\n",
       "      <td>0.8398</td>\n",
       "      <td>0.9427</td>\n",
       "    </tr>\n",
       "  </tbody>\n",
       "</table>\n",
       "</div>"
      ],
      "text/plain": [
       "         Случайный лес  Логистическая регрессия  Градиентный бустинг\n",
       "roc_auc         0.9203                   0.8398               0.9427"
      ]
     },
     "execution_count": 132,
     "metadata": {},
     "output_type": "execute_result"
    }
   ],
   "source": [
    "results = pd.DataFrame({\n",
    "    'Случайный лес' : [rf_score.round(4)],\n",
    "    'Логистическая регрессия' : [lr_score.round(4)],\n",
    "    'Градиентный бустинг' : [lgb_score.round(4)]\n",
    "})\n",
    "results = results.rename(index = {0 : 'roc_auc'})\n",
    "results"
   ]
  },
  {
   "cell_type": "markdown",
   "id": "015e43d5",
   "metadata": {},
   "source": [
    "Модели \"Случайный лес\" и \"Градиентный бустинг\" преодолели порог roc_auc > 0.85. Лучший показатель у модели \"Градиентный бустинг\" - roc_auc = 0.93."
   ]
  },
  {
   "cell_type": "markdown",
   "id": "c9d1e768",
   "metadata": {},
   "source": [
    "## Обучение моделей с базовыми признаками"
   ]
  },
  {
   "cell_type": "markdown",
   "id": "0fdbecf6",
   "metadata": {},
   "source": [
    "Для более стабильной работы модели в будущем будет полезно попробовать обучить модель только на основных признаках, которые не меняются у пользователей с течением времени или меняются не так быстро как остальные - это такие признаки как \"пол\", наличие пенсионного статуса, продолжительность пользования услугами и статуса пользования услугой \"интернет\" или \"телефон\"."
   ]
  },
  {
   "cell_type": "code",
   "execution_count": 133,
   "id": "14fbf5be",
   "metadata": {},
   "outputs": [],
   "source": [
    "df_basic = df[['InternetUser', \n",
    "               'gender',\n",
    "               'SeniorCitizen',\n",
    "               'PhoneUser',\n",
    "               'Duration',\n",
    "               'Target']]"
   ]
  },
  {
   "cell_type": "code",
   "execution_count": 134,
   "id": "c28a0945",
   "metadata": {},
   "outputs": [],
   "source": [
    "train_basic, test_basic = train_test_split(df_basic, test_size = 0.25, random_state = 111111)\n",
    "features_basic_train = train_basic.drop('Target', axis = 1)\n",
    "target_basic_train = train_basic['Target']\n",
    "features_basic_test = test_basic.drop('Target', axis = 1)\n",
    "target_basic_test = test_basic['Target']"
   ]
  },
  {
   "cell_type": "markdown",
   "id": "8c85f737",
   "metadata": {},
   "source": [
    "### Случайный лес"
   ]
  },
  {
   "cell_type": "code",
   "execution_count": 135,
   "id": "fbbeff84",
   "metadata": {},
   "outputs": [],
   "source": [
    "rf_best_result_basic = rf.fit(features_basic_train, target_basic_train)"
   ]
  },
  {
   "cell_type": "code",
   "execution_count": 136,
   "id": "a3ed4e3e",
   "metadata": {},
   "outputs": [
    {
     "data": {
      "text/plain": [
       "RandomForestClassifier(class_weight='balanced', max_depth=32, n_estimators=150,\n",
       "                       random_state=12345)"
      ]
     },
     "execution_count": 136,
     "metadata": {},
     "output_type": "execute_result"
    }
   ],
   "source": [
    "rf_best_result_basic.best_estimator_"
   ]
  },
  {
   "cell_type": "code",
   "execution_count": 137,
   "id": "23a321a6",
   "metadata": {},
   "outputs": [
    {
     "data": {
      "text/plain": [
       "0.8963822363203807"
      ]
     },
     "execution_count": 137,
     "metadata": {},
     "output_type": "execute_result"
    }
   ],
   "source": [
    "rf_predictions_basic = rf_best_result_basic.best_estimator_.predict_proba(features_basic_test)[:, 1]\n",
    "rf_basic_score = roc_auc_score(target_basic_test, rf_predictions_basic)\n",
    "rf_basic_score"
   ]
  },
  {
   "cell_type": "code",
   "execution_count": 138,
   "id": "7e9a8f3e",
   "metadata": {},
   "outputs": [
    {
     "data": {
      "image/png": "[encoded data removed]",
      "text/plain": [
       "<Figure size 432x288 with 1 Axes>"
      ]
     },
     "metadata": {
      "needs_background": "light"
     },
     "output_type": "display_data"
    }
   ],
   "source": [
    "fpr, tpr, thresholds = roc_curve(target_basic_test, rf_predictions_basic)\n",
    "\n",
    "plt.figure()\n",
    "plt.plot(fpr, tpr)\n",
    "plt.xlim([0.0, 1.0])\n",
    "plt.ylim([0.0, 1.0])\n",
    "plt.xlabel('False Positive Rate')\n",
    "plt.ylabel('True Positive Rate')\n",
    "plt.title('ROC-кривая')\n",
    "\n",
    "# ROC-кривая случайной модели\n",
    "plt.plot([0, 1], [0, 1], linestyle='--')\n",
    "plt.xlim([0.0, 1.0])\n",
    "plt.ylim([0.0, 1.0])\n",
    "plt.xlabel('False Positive Rate')\n",
    "plt.ylabel('True Positive Rate')\n",
    "plt.title('ROC-кривая')\n",
    "\n",
    "\n",
    "plt.show()"
   ]
  },
  {
   "cell_type": "markdown",
   "id": "8e4b6a8d",
   "metadata": {},
   "source": [
    "### Логистическая регрессия"
   ]
  },
  {
   "cell_type": "code",
   "execution_count": 139,
   "id": "30c3556a",
   "metadata": {},
   "outputs": [],
   "source": [
    "lr_model = LogisticRegression(class_weight = 'balanced', random_state = 12345)\n",
    "lr_params = {\n",
    "    'C': np.logspace(-4, 4, 20),\n",
    "    }\n",
    "\n",
    "lr = GridSearchCV(lr_model, lr_params, cv = 3, scoring = 'roc_auc')\n",
    "lr_best_result = lr.fit(features_basic_train, target_basic_train)"
   ]
  },
  {
   "cell_type": "code",
   "execution_count": 140,
   "id": "7c94160a",
   "metadata": {},
   "outputs": [
    {
     "data": {
      "text/plain": [
       "LogisticRegression(C=10000.0, class_weight='balanced', random_state=12345)"
      ]
     },
     "execution_count": 140,
     "metadata": {},
     "output_type": "execute_result"
    }
   ],
   "source": [
    "lr_best_result.best_estimator_"
   ]
  },
  {
   "cell_type": "code",
   "execution_count": 141,
   "id": "f792a203",
   "metadata": {},
   "outputs": [
    {
     "data": {
      "text/plain": [
       "0.8044377478191911"
      ]
     },
     "execution_count": 141,
     "metadata": {},
     "output_type": "execute_result"
    }
   ],
   "source": [
    "lr_predictions = lr_best_result.best_estimator_.predict_proba(features_basic_test)[:, 1]\n",
    "lr_basic_score = roc_auc_score(target_basic_test, lr_predictions)\n",
    "lr_basic_score"
   ]
  },
  {
   "cell_type": "code",
   "execution_count": 142,
   "id": "2b728bbf",
   "metadata": {},
   "outputs": [
    {
     "data": {
      "image/png": "[encoded data removed]",
      "text/plain": [
       "<Figure size 432x288 with 1 Axes>"
      ]
     },
     "metadata": {
      "needs_background": "light"
     },
     "output_type": "display_data"
    }
   ],
   "source": [
    "fpr, tpr, thresholds = roc_curve(target_basic_test, lr_predictions)\n",
    "\n",
    "plt.figure()\n",
    "plt.plot(fpr, tpr)\n",
    "plt.xlim([0.0, 1.0])\n",
    "plt.ylim([0.0, 1.0])\n",
    "plt.xlabel('False Positive Rate')\n",
    "plt.ylabel('True Positive Rate')\n",
    "plt.title('ROC-кривая')\n",
    "\n",
    "# ROC-кривая случайной модели\n",
    "plt.plot([0, 1], [0, 1], linestyle='--')\n",
    "plt.xlim([0.0, 1.0])\n",
    "plt.ylim([0.0, 1.0])\n",
    "plt.xlabel('False Positive Rate')\n",
    "plt.ylabel('True Positive Rate')\n",
    "plt.title('ROC-кривая')\n",
    "\n",
    "\n",
    "plt.show()"
   ]
  },
  {
   "cell_type": "markdown",
   "id": "332c5259",
   "metadata": {},
   "source": [
    "### Градиентный бустинг"
   ]
  },
  {
   "cell_type": "code",
   "execution_count": 143,
   "id": "69525ac9",
   "metadata": {},
   "outputs": [],
   "source": [
    "category = list(train_basic.columns.drop('Duration'))\n",
    "train_basic[category] = train_basic[category].astype('category')\n",
    "test_basic[category] = test_basic[category].astype('category')\n",
    "features_basic_train = train_basic.drop('Target', axis = 1)\n",
    "target_basic_train = train_basic['Target']\n",
    "features_basic_test = test_basic.drop('Target', axis = 1)\n",
    "target_basic_test = test_basic['Target']"
   ]
  },
  {
   "cell_type": "code",
   "execution_count": 144,
   "id": "9e0b23a3",
   "metadata": {},
   "outputs": [],
   "source": [
    "params = {\n",
    "    'learning_rate': [0.1, 0.03, 0.001],\n",
    "    'n_estimators': [400, 500, 700, 1000],\n",
    "    'max_depth': [15, 20, 25],\n",
    "}"
   ]
  },
  {
   "cell_type": "code",
   "execution_count": 145,
   "id": "7e13c4f7",
   "metadata": {},
   "outputs": [],
   "source": [
    "gb = GridSearchCV(lgb.LGBMClassifier(random_state=12345), params, scoring='roc_auc', cv=3)\n",
    "LGBMRegressor_best_result = gb.fit(features_basic_train, target_basic_train)"
   ]
  },
  {
   "cell_type": "code",
   "execution_count": 146,
   "id": "447dae28",
   "metadata": {},
   "outputs": [
    {
     "data": {
      "text/plain": [
       "LGBMClassifier(learning_rate=0.03, max_depth=25, n_estimators=1000,\n",
       "               random_state=12345)"
      ]
     },
     "execution_count": 146,
     "metadata": {},
     "output_type": "execute_result"
    }
   ],
   "source": [
    "LGBMClassifier_best_result = gb.best_estimator_\n",
    "LGBMClassifier_best_result"
   ]
  },
  {
   "cell_type": "code",
   "execution_count": 147,
   "id": "c73d52a0",
   "metadata": {},
   "outputs": [],
   "source": [
    "predictions_lgb = LGBMClassifier_best_result.predict_proba(features_basic_test)[:, 1]"
   ]
  },
  {
   "cell_type": "code",
   "execution_count": 148,
   "id": "5e0726f6",
   "metadata": {},
   "outputs": [
    {
     "data": {
      "text/plain": [
       "0.9258873909595559"
      ]
     },
     "execution_count": 148,
     "metadata": {},
     "output_type": "execute_result"
    }
   ],
   "source": [
    "lgb_basic_score = roc_auc_score(target_basic_test, predictions_lgb)\n",
    "lgb_basic_score"
   ]
  },
  {
   "cell_type": "code",
   "execution_count": 149,
   "id": "77be221b",
   "metadata": {},
   "outputs": [
    {
     "data": {
      "image/png": "[encoded data removed]",
      "text/plain": [
       "<Figure size 432x288 with 1 Axes>"
      ]
     },
     "metadata": {
      "needs_background": "light"
     },
     "output_type": "display_data"
    }
   ],
   "source": [
    "fpr, tpr, thresholds = roc_curve(target_basic_test, predictions_lgb)\n",
    "\n",
    "plt.figure()\n",
    "plt.plot(fpr, tpr)\n",
    "plt.xlim([0.0, 1.0])\n",
    "plt.ylim([0.0, 1.0])\n",
    "plt.xlabel('False Positive Rate')\n",
    "plt.ylabel('True Positive Rate')\n",
    "plt.title('ROC-кривая')\n",
    "\n",
    "# ROC-кривая случайной модели\n",
    "plt.plot([0, 1], [0, 1], linestyle='--')\n",
    "plt.xlim([0.0, 1.0])\n",
    "plt.ylim([0.0, 1.0])\n",
    "plt.xlabel('False Positive Rate')\n",
    "plt.ylabel('True Positive Rate')\n",
    "plt.title('ROC-кривая')\n",
    "\n",
    "\n",
    "plt.show()"
   ]
  },
  {
   "cell_type": "code",
   "execution_count": 150,
   "id": "0206a087",
   "metadata": {},
   "outputs": [
    {
     "data": {
      "text/html": [
       "<div>\n",
       "<style scoped>\n",
       "    .dataframe tbody tr th:only-of-type {\n",
       "        vertical-align: middle;\n",
       "    }\n",
       "\n",
       "    .dataframe tbody tr th {\n",
       "        vertical-align: top;\n",
       "    }\n",
       "\n",
       "    .dataframe thead th {\n",
       "        text-align: right;\n",
       "    }\n",
       "</style>\n",
       "<table border=\"1\" class=\"dataframe\">\n",
       "  <thead>\n",
       "    <tr style=\"text-align: right;\">\n",
       "      <th></th>\n",
       "      <th>Случайный лес</th>\n",
       "      <th>Логистическая регрессия</th>\n",
       "      <th>Градиентный бустинг</th>\n",
       "    </tr>\n",
       "  </thead>\n",
       "  <tbody>\n",
       "    <tr>\n",
       "      <th>roc_auc</th>\n",
       "      <td>0.8964</td>\n",
       "      <td>0.8044</td>\n",
       "      <td>0.9259</td>\n",
       "    </tr>\n",
       "  </tbody>\n",
       "</table>\n",
       "</div>"
      ],
      "text/plain": [
       "         Случайный лес  Логистическая регрессия  Градиентный бустинг\n",
       "roc_auc         0.8964                   0.8044               0.9259"
      ]
     },
     "execution_count": 150,
     "metadata": {},
     "output_type": "execute_result"
    }
   ],
   "source": [
    "basic_results = pd.DataFrame({\n",
    "    'Случайный лес' : [rf_basic_score.round(4)],\n",
    "    'Логистическая регрессия' : [lr_basic_score.round(4)],\n",
    "    'Градиентный бустинг' : [lgb_basic_score.round(4)]\n",
    "})\n",
    "basic_results = basic_results.rename(index = {0 : 'roc_auc'})\n",
    "basic_results"
   ]
  },
  {
   "cell_type": "markdown",
   "id": "0e0b26b1",
   "metadata": {},
   "source": [
    "При обучении на усеченных данных модель \"Логистическая регрессия\" не преодолела порог roc_auc > 0.85 на тестовой выборке, но при этом модели \"Случайный лес\" и \"Градиентный бустинг\" показали при обучении на усеченных данных даже большее значение roc-auc, чем при обучении на полных данных - 0.89 и 0.92 соответственно."
   ]
  },
  {
   "cell_type": "markdown",
   "id": "d6550fb3",
   "metadata": {},
   "source": [
    "## Выводы"
   ]
  },
  {
   "cell_type": "code",
   "execution_count": 151,
   "id": "a9be1872",
   "metadata": {},
   "outputs": [
    {
     "data": {
      "text/html": [
       "<div>\n",
       "<style scoped>\n",
       "    .dataframe tbody tr th:only-of-type {\n",
       "        vertical-align: middle;\n",
       "    }\n",
       "\n",
       "    .dataframe tbody tr th {\n",
       "        vertical-align: top;\n",
       "    }\n",
       "\n",
       "    .dataframe thead th {\n",
       "        text-align: right;\n",
       "    }\n",
       "</style>\n",
       "<table border=\"1\" class=\"dataframe\">\n",
       "  <thead>\n",
       "    <tr style=\"text-align: right;\">\n",
       "      <th></th>\n",
       "      <th>Случайный лес</th>\n",
       "      <th>Логистическая регрессия</th>\n",
       "      <th>Градиентный бустинг</th>\n",
       "    </tr>\n",
       "  </thead>\n",
       "  <tbody>\n",
       "    <tr>\n",
       "      <th>roc_auc</th>\n",
       "      <td>0.9203</td>\n",
       "      <td>0.8398</td>\n",
       "      <td>0.9427</td>\n",
       "    </tr>\n",
       "  </tbody>\n",
       "</table>\n",
       "</div>"
      ],
      "text/plain": [
       "         Случайный лес  Логистическая регрессия  Градиентный бустинг\n",
       "roc_auc         0.9203                   0.8398               0.9427"
      ]
     },
     "execution_count": 151,
     "metadata": {},
     "output_type": "execute_result"
    }
   ],
   "source": [
    "results"
   ]
  },
  {
   "cell_type": "code",
   "execution_count": 152,
   "id": "3b9dc054",
   "metadata": {
    "scrolled": false
   },
   "outputs": [
    {
     "data": {
      "text/html": [
       "<div>\n",
       "<style scoped>\n",
       "    .dataframe tbody tr th:only-of-type {\n",
       "        vertical-align: middle;\n",
       "    }\n",
       "\n",
       "    .dataframe tbody tr th {\n",
       "        vertical-align: top;\n",
       "    }\n",
       "\n",
       "    .dataframe thead th {\n",
       "        text-align: right;\n",
       "    }\n",
       "</style>\n",
       "<table border=\"1\" class=\"dataframe\">\n",
       "  <thead>\n",
       "    <tr style=\"text-align: right;\">\n",
       "      <th></th>\n",
       "      <th>Случайный лес</th>\n",
       "      <th>Логистическая регрессия</th>\n",
       "      <th>Градиентный бустинг</th>\n",
       "    </tr>\n",
       "  </thead>\n",
       "  <tbody>\n",
       "    <tr>\n",
       "      <th>roc_auc</th>\n",
       "      <td>0.8964</td>\n",
       "      <td>0.8044</td>\n",
       "      <td>0.9259</td>\n",
       "    </tr>\n",
       "  </tbody>\n",
       "</table>\n",
       "</div>"
      ],
      "text/plain": [
       "         Случайный лес  Логистическая регрессия  Градиентный бустинг\n",
       "roc_auc         0.8964                   0.8044               0.9259"
      ]
     },
     "execution_count": 152,
     "metadata": {},
     "output_type": "execute_result"
    }
   ],
   "source": [
    "basic_results"
   ]
  },
  {
   "cell_type": "markdown",
   "id": "31b82d8a",
   "metadata": {},
   "source": [
    "## Выводы"
   ]
  },
  {
   "cell_type": "markdown",
   "id": "660e45db",
   "metadata": {},
   "source": [
    "В ходе решения задачи в качестве подготовительных шагов были предприняты следующие действия:\n",
    "\n",
    "- данные были объединены из различных источников в один датафрейм\n",
    "- приведены к нужному типу, добавлены необходимые признаки\n",
    "- убраны наиболее коррелирующие друг с другом признаки\n",
    "- отобраны наиболее значимые для определения таргета. \n",
    "- данные были разбиты на обучающую и тестовую выборки и были обучены 3 модели - \"Случайный лес\", \"Логистическая регрессия\" и \"Градиентный бустинг\". \n",
    "\n",
    "Отбор признаков для исследования проходил на основе уровня важности признаков, полученных методом \"mutual_info_classif\" из библиотеки sklearn.feature_selection. Приходилось пробовать разное количество признаков для обучения: было по очереди протестировано обучение моделей на 4, 5, 6, 7 самых важных признаках - этот подбор занял много времени, но дал конкретный результат - наилучшее качество модель показала на пяти признаках: \"'Duration', 'Two year', 'Fiber optic', 'InternetUser', 'OneYear'\"\n",
    "\n",
    "В ходе исследования было найдено что:\n",
    "\n",
    "Лучше всего предсказывает отток клиентов модель \"Градиентный бустинг\" с параметрами learning_rate=0.03, max_depth=25, n_estimators=1000 обученная на выборке с наиболее важными признаками, из чего можно сделать вывод, что остальные признаки являются избыточными и для лучшего качества необходимо запускать модель только с наиболее важными признаками. Также для стабильности работы модели имеет смысл из первоначального набора данных убирать информацию о доп. услугах - на оставшихся признаках метрики roc-auc остаются почти такими же Остальные модели также показали хороший результат (roc_auc > 0.85) кроме модели \"Логистическая регрессия\", обученной на базовых признаках (для логистической регрессии требуются полные данные для лучшего результата).\n",
    "\n",
    "Итоговая модель: Градиентный бустинг, обученный на признаках: 'Duration', 'Two year', 'Fiber optic', 'InternetUser', 'OneYear' с параметрами \"learning_rate=0.03, max_depth=25, n_estimators=1000\". Итоговое качество: ROC-AUC 0,9344"
   ]
  },
  {
   "cell_type": "code",
   "execution_count": null,
   "id": "e67532e6",
   "metadata": {},
   "outputs": [],
   "source": []
  }
 ],
 "metadata": {
  "kernelspec": {
   "display_name": "Python 3 (ipykernel)",
   "language": "python",
   "name": "python3"
  },
  "language_info": {
   "codemirror_mode": {
    "name": "ipython",
    "version": 3
   },
   "file_extension": ".py",
   "mimetype": "text/x-python",
   "name": "python",
   "nbconvert_exporter": "python",
   "pygments_lexer": "ipython3",
   "version": "3.10.2"
  }
 },
 "nbformat": 4,
 "nbformat_minor": 5
}
